{
 "cells": [
  {
   "cell_type": "markdown",
   "metadata": {
    "collapsed": true
   },
   "source": [
    "Análise do dia 01/04 através do modelo LDA."
   ]
  },
  {
   "cell_type": "code",
   "execution_count": 1,
   "metadata": {},
   "outputs": [],
   "source": [
    "# Importar bibliotecas\n",
    "\n",
    "# gerais\n",
    "import sys\n",
    "import os\n",
    "from pathlib import Path\n",
    "import re\n",
    "import numpy as np\n",
    "import pandas as pd\n",
    "from pprint import pprint\n",
    "from tqdm import tqdm\n",
    "from ast import literal_eval\n",
    "\n",
    "# Gensim\n",
    "import gensim, spacy, logging, warnings\n",
    "import gensim.corpora as corpora\n",
    "from gensim.utils import lemmatize, simple_preprocess\n",
    "from gensim.models import CoherenceModel\n",
    "from gensim.models.ldamulticore import LdaMulticore\n",
    "\n",
    "# NLTK Stop words\n",
    "import nltk\n",
    "from nltk.corpus import stopwords\n",
    "\n",
    "#plot\n",
    "import pyLDAvis\n",
    "import pyLDAvis.gensim\n",
    "import matplotlib.pyplot as plt\n",
    "import matplotlib.colors as mcolors\n",
    "%matplotlib inline\n",
    "from wordcloud import WordCloud, STOPWORDS"
   ]
  },
  {
   "cell_type": "code",
   "execution_count": 2,
   "metadata": {},
   "outputs": [],
   "source": [
    "# Criando stopwords em português utilizando a biblioteca nltk\n",
    "\n",
    "nlp = spacy.load(\"pt_core_news_sm\")\n",
    "pt_stopwords = sorted([token.text for token in nlp.vocab if token.is_stop])\n",
    "list_exclude = ['obrigado', 'bom', 'mal', 'nenhuma', 'maior', \n",
    "             'bem', 'não', 'máximo', 'boa', 'mais',\n",
    "               'bastante', 'certamente', 'certeza', 'contra',\n",
    "                'quarentena', 'coronavírus', 'presidente', 'impeachment', 'demitido', 'demitida']\n",
    "for word in list_exclude:\n",
    "    nlp.vocab[word].is_stop = False\n",
    "list_include = set(['o', 'a', 'tá', 'ta', 'ser', 'pro', 'to', 'tô', 'vc', 'você', 'voce', 'pra',\n",
    "                    'pq', 'é', 'vou', 'que','tão', 'gt', 'de', 'da', 'do', 'em', 'uma', 'lá',\n",
    "                    'já', 'no', 'para', 'na', 'com', 'um', 'minha', 'se', 'isso', 'por', 'vou',\n",
    "                    'os', 'isso', 'como', 'mesmo', 'tenho', 'aqui', 'ele', 'ela', 'quem', 'fazer',\n",
    "                    'eu', 'só', 'ai', 'mais', 'só', 'querer', 'https', 'ter', 'estar', 'ficar',\n",
    "                    'dos', 'das', 'vcs', 'jairbolsonaro', 'tava', 'nao', 'sao', 'ja', 'so', 'nossa',\n",
    "                    'nosso', 'estao', 'tco', 'me', 'dia', 'te', 'ver', 'sera', 'porra', 'fez', 'ne',\n",
    "                    'kkkkkk', 'puta', 'kkkkkkkk', 'hj', 'afff', 'gbr', 'meu', 'cara', 'guri', 'cmg',\n",
    "                    'ctg', 'agr', 'pqp', 'vdd', 'eh', 'va', 'fudeu', 'fuder', 'fodeu', 'foda', 'obg',\n",
    "                   'nem', 'numa', 'num', 'nuns', 'ces', 'voces', 'oce', 'oces', 'kkkk', 'vao', 'via',\n",
    "                    'hj', 'hoje', 'tudo', 'todo', 'toda', 'ir', 'vir', 'bem', 'sair', 'tao']\n",
    "                  )\n",
    "for w in list_include:\n",
    "    nlp.vocab[w].is_stop = True\n",
    "stop_words = sorted([token.text for token in nlp.vocab if token.is_stop])"
   ]
  },
  {
   "cell_type": "markdown",
   "metadata": {},
   "source": [
    "# Preparação dos dados"
   ]
  },
  {
   "cell_type": "code",
   "execution_count": 3,
   "metadata": {},
   "outputs": [],
   "source": [
    "# import dos dados\n",
    "\n",
    "df = pd.read_csv('0401_preprocessado.csv')"
   ]
  },
  {
   "cell_type": "code",
   "execution_count": 4,
   "metadata": {},
   "outputs": [],
   "source": [
    "# import dos tokens\n",
    "\n",
    "df_tokens = pd.read_csv('tokens_unicos_10k.csv')"
   ]
  },
  {
   "cell_type": "code",
   "execution_count": 5,
   "metadata": {},
   "outputs": [],
   "source": [
    "# criação de lista de tokens\n",
    "\n",
    "lista_token = []\n",
    "\n",
    "for row in range(0, len(df_tokens)):\n",
    "    lista_token.append(df_tokens.iloc[row,1])\n",
    "    \n",
    "lista_token = set(lista_token)"
   ]
  },
  {
   "cell_type": "code",
   "execution_count": 6,
   "metadata": {},
   "outputs": [],
   "source": [
    "# filtranso os tokens para aparecer apenas os 10 mil mais frequentes\n",
    "\n",
    "df['token2'] = df.token.apply(lambda x: str(list(set(literal_eval(x)).intersection(lista_token))))"
   ]
  },
  {
   "cell_type": "code",
   "execution_count": 7,
   "metadata": {},
   "outputs": [],
   "source": [
    "# função para reverter os tokens processados em lista de tuples\n",
    "\n",
    "def strip_characters(text):\n",
    "    t = re.sub(r'\\(|\\)|:|,|;|\\.|’|”|“|\\?|%|>|<|\\[|\\]', '', text)\n",
    "    t = re.sub(r'/', ' ', t)\n",
    "    t = t.replace(\"'\",'')\n",
    "    return t"
   ]
  },
  {
   "cell_type": "code",
   "execution_count": 8,
   "metadata": {},
   "outputs": [],
   "source": [
    "# aplica função em todos os tokens\n",
    "\n",
    "df['token2'] = df['token2'].apply(lambda x: strip_characters(x))\n",
    "df['token2'] = df['token2'].apply(lambda x: str(x).split(' '))"
   ]
  },
  {
   "cell_type": "code",
   "execution_count": 9,
   "metadata": {},
   "outputs": [],
   "source": [
    "# transforma os tokens em lista\n",
    "\n",
    "lista = list(df['token2'])"
   ]
  },
  {
   "cell_type": "code",
   "execution_count": 10,
   "metadata": {},
   "outputs": [],
   "source": [
    "# Build the bigram and trigram models\n",
    "\n",
    "bigram = gensim.models.Phrases(lista, min_count=5, threshold=100)\n",
    "bigram_mod = gensim.models.phrases.Phraser(bigram)\n",
    "\n",
    "trigram = gensim.models.Phrases(bigram[lista], threshold=100)\n",
    "trigram_mod = gensim.models.phrases.Phraser(trigram)"
   ]
  },
  {
   "cell_type": "code",
   "execution_count": 11,
   "metadata": {},
   "outputs": [],
   "source": [
    "# função para preprocessar palavras\n",
    "\n",
    "def process_words(texts, stop_words=stop_words, allowed_postags=['NOUN', 'ADJ', 'VERB', 'ADV']):\n",
    "    texts1 = [[word for word in simple_preprocess(str(doc)) if word not in stop_words] for doc in texts]\n",
    "    texts2 = [bigram_mod[doc] for doc in texts1]\n",
    "    texts3 = [trigram_mod[bigram_mod[doc]] for doc in texts2]\n",
    "    texts4 = [[word for word in simple_preprocess(str(doc)) if word not in stop_words] for doc in texts3]    \n",
    "    return texts4"
   ]
  },
  {
   "cell_type": "code",
   "execution_count": 12,
   "metadata": {},
   "outputs": [],
   "source": [
    "# Processing the abstract\n",
    "\n",
    "texto = process_words(lista)"
   ]
  },
  {
   "cell_type": "markdown",
   "metadata": {},
   "source": [
    "# Modelagem"
   ]
  },
  {
   "cell_type": "code",
   "execution_count": 13,
   "metadata": {},
   "outputs": [],
   "source": [
    "# Criar dicionário\n",
    "\n",
    "id2word = corpora.Dictionary(texto)"
   ]
  },
  {
   "cell_type": "code",
   "execution_count": 14,
   "metadata": {},
   "outputs": [],
   "source": [
    "# Criar o Corpus: A Frequência das palavras nos documentos\n",
    "\n",
    "corpus = [id2word.doc2bow(text) for text in texto]"
   ]
  },
  {
   "cell_type": "code",
   "execution_count": 15,
   "metadata": {},
   "outputs": [],
   "source": [
    "# Função para determinar a melhor quantidade de tópicos para a modelagem\n",
    "\n",
    "def compute_coherence_values(dictionary, corpus, texts, limit, start=2, step=5):\n",
    "    coherence_values = []\n",
    "    model_list = []\n",
    "    for num_topics in tqdm(range(start, limit, step)):\n",
    "        model = LdaMulticore(corpus, id2word=id2word, num_topics=10)\n",
    "        model_list.append(model)\n",
    "        coherencemodel = CoherenceModel(model=model, texts=texts, dictionary=dictionary, coherence='c_v')\n",
    "        coherence_values.append(coherencemodel.get_coherence())\n",
    "\n",
    "    return model_list, coherence_values"
   ]
  },
  {
   "cell_type": "code",
   "execution_count": 16,
   "metadata": {},
   "outputs": [
    {
     "name": "stderr",
     "output_type": "stream",
     "text": [
      "100%|██████████████████████████████████████████████████████████████████████████████████| 14/14 [12:25<00:00, 53.25s/it]\n"
     ]
    }
   ],
   "source": [
    "# Colocando parametros na função\n",
    "\n",
    "model_list, coherence_values = compute_coherence_values(dictionary=id2word, corpus=corpus, texts=texto, start=2, limit=30, step=2)"
   ]
  },
  {
   "cell_type": "code",
   "execution_count": 17,
   "metadata": {},
   "outputs": [
    {
     "data": {
      "image/png": "[encoded data removed]",
      "text/plain": [
       "<Figure size 432x288 with 1 Axes>"
      ]
     },
     "metadata": {
      "needs_background": "light"
     },
     "output_type": "display_data"
    }
   ],
   "source": [
    "# Mostrando visualmente a quantidade de tópicos\n",
    "\n",
    "limit=30; start=2; step=2;\n",
    "x = range(start, limit, step)\n",
    "plt.plot(x, coherence_values)\n",
    "plt.xlabel(\"Num Tópicos\")\n",
    "plt.ylabel(\"Score de Coerência\")\n",
    "plt.legend((\"Valores de Coerência\"), loc='best')\n",
    "plt.show()"
   ]
  },
  {
   "cell_type": "code",
   "execution_count": 18,
   "metadata": {},
   "outputs": [
    {
     "name": "stdout",
     "output_type": "stream",
     "text": [
      "A quantidade de tópicos = 2  tem um valor de coerência de  0.2738\n",
      "A quantidade de tópicos = 4  tem um valor de coerência de  0.2979\n",
      "A quantidade de tópicos = 6  tem um valor de coerência de  0.3116\n",
      "A quantidade de tópicos = 8  tem um valor de coerência de  0.2854\n",
      "A quantidade de tópicos = 10  tem um valor de coerência de  0.2503\n",
      "A quantidade de tópicos = 12  tem um valor de coerência de  0.2855\n",
      "A quantidade de tópicos = 14  tem um valor de coerência de  0.2855\n",
      "A quantidade de tópicos = 16  tem um valor de coerência de  0.2851\n",
      "A quantidade de tópicos = 18  tem um valor de coerência de  0.2831\n",
      "A quantidade de tópicos = 20  tem um valor de coerência de  0.2804\n",
      "A quantidade de tópicos = 22  tem um valor de coerência de  0.2807\n",
      "A quantidade de tópicos = 24  tem um valor de coerência de  0.2855\n",
      "A quantidade de tópicos = 26  tem um valor de coerência de  0.282\n",
      "A quantidade de tópicos = 28  tem um valor de coerência de  0.2849\n"
     ]
    }
   ],
   "source": [
    "# Lista dos valores de coerência, para melhor identificar o ponto de inflexão do gráfico\n",
    "\n",
    "for m, cv in zip(x, coherence_values):\n",
    "    print(\"A quantidade de tópicos =\", m, \" tem um valor de coerência de \", round(cv, 4))"
   ]
  },
  {
   "cell_type": "markdown",
   "metadata": {},
   "source": [
    "Aqui conseguimos determinar a melhor quantidade de tópicos a serem analisados, que é 8 tópicos"
   ]
  },
  {
   "cell_type": "code",
   "execution_count": 19,
   "metadata": {},
   "outputs": [],
   "source": [
    "# Vamos agora construir de fato o modelo LDA\n",
    "\n",
    "lda_model = LdaMulticore(corpus=corpus,\n",
    "                        id2word=id2word,\n",
    "                        num_topics=6, \n",
    "                        random_state=42,\n",
    "                        chunksize=100,\n",
    "                        passes=10,\n",
    "                        per_word_topics=True)"
   ]
  },
  {
   "cell_type": "code",
   "execution_count": 20,
   "metadata": {},
   "outputs": [
    {
     "name": "stdout",
     "output_type": "stream",
     "text": [
      "\n",
      "Perplexidade:  -7.31330303775615\n"
     ]
    }
   ],
   "source": [
    "# Computar a perplexidade do modelo (quanto menor, melhor)\n",
    "\n",
    "print('\\nPerplexidade: ', lda_model.log_perplexity(corpus))"
   ]
  },
  {
   "cell_type": "code",
   "execution_count": 21,
   "metadata": {},
   "outputs": [
    {
     "name": "stdout",
     "output_type": "stream",
     "text": [
      "\n",
      "Score de Coerência:  0.27357023578010065\n"
     ]
    }
   ],
   "source": [
    "# Computar o Score de Coerência\n",
    "\n",
    "coherence_model_lda = CoherenceModel(model=lda_model, texts=lista, dictionary=id2word, coherence='c_v')\n",
    "coherence_lda = coherence_model_lda.get_coherence()\n",
    "print('\\nScore de Coerência: ', coherence_lda)"
   ]
  },
  {
   "cell_type": "code",
   "execution_count": 22,
   "metadata": {},
   "outputs": [
    {
     "data": {
      "text/html": [
       "\n",
       "<link rel=\"stylesheet\" type=\"text/css\" href=\"https://cdn.rawgit.com/bmabey/pyLDAvis/files/ldavis.v1.0.0.css\">\n",
       "\n",
       "\n",
       "<div id=\"ldavis_el392023436308885203981860158\"></div>\n",
       "<script type=\"text/javascript\">\n",
       "\n",
       "var ldavis_el392023436308885203981860158_data = {\"mdsDat\": {\"x\": [0.28927015574098647, 0.25591236665131406, -0.15509167800379983, -0.12518836333439415, -0.1662889938754125, -0.09861348717869424], \"y\": [-0.0896437350128889, 0.07546085843614304, -0.3739790372111668, 0.07393251087462628, 0.1645853783383934, 0.14964402457489245], \"topics\": [1, 2, 3, 4, 5, 6], \"cluster\": [1, 1, 1, 1, 1, 1], \"Freq\": [18.707523345947266, 17.862592697143555, 16.966341018676758, 15.781839370727539, 15.635648727416992, 15.046053886413574]}, \"tinfo\": {\"Term\": [\"bolsonaro\", \"corona\", \"coronavirus\", \"presidente\", \"virus\", \"quando\", \"casa\", \"acabar\", \"pandemia\", \"contra\", \"brasil\", \"passar\", \"povo\", \"novo\", \"melhor\", \"saude\", \"logo\", \"dar\", \"falar\", \"primeiro\", \"bom\", \"cabelo\", \"agora\", \"gente\", \"vida\", \"menos\", \"tanto\", \"governo\", \"tempo\", \"mim\", \"bolsonaro\", \"presidente\", \"povo\", \"dinheiro\", \"familia\", \"lula\", \"favor\", \"verdade\", \"globo\", \"mal\", \"mes\", \"parabens\", \"brasileiro\", \"filho\", \"jair\", \"certeza\", \"senhor\", \"odio\", \"congresso\", \"vergonha\", \"jeito\", \"apoio\", \"pt\", \"doria\", \"internet\", \"cortar\", \"diadamentira\", \"irmao\", \"trump\", \"sr\", \"governo\", \"brasil\", \"tu\", \"pessoa\", \"porque\", \"ainda\", \"nada\", \"deus\", \"muito\", \"tambem\", \"coronavirus\", \"contra\", \"novo\", \"saude\", \"ha\", \"oq\", \"morte\", \"quanto\", \"matar\", \"eua\", \"cidade\", \"milhoes\", \"ministro\", \"rio\", \"hospital\", \"mundial\", \"devido\", \"segundo\", \"aula\", \"guerra\", \"vivo\", \"paises\", \"tv\", \"italia\", \"saco\", \"inteiro\", \"gosto\", \"unico\", \"realidade\", \"total\", \"pandemia\", \"crise\", \"brasil\", \"meio\", \"caso\", \"dizer\", \"isolamento\", \"mundo\", \"tambem\", \"abril\", \"mentira\", \"governo\", \"ainda\", \"agora\", \"corona\", \"virus\", \"quando\", \"acabar\", \"mim\", \"voltar\", \"tarde\", \"pegar\", \"vontade\", \"bolsonaroday\", \"fake\", \"comer\", \"oms\", \"news\", \"feliz\", \"galera\", \"comigo\", \"grupo\", \"kkkkkkk\", \"embora\", \"manter\", \"saudade\", \"federal\", \"pedir\", \"levar\", \"chorar\", \"pau\", \"surto\", \"combater\", \"td\", \"video\", \"medo\", \"morrer\", \"depois\", \"bbb\", \"assim\", \"prior\", \"gente\", \"hora\", \"preciso\", \"mundo\", \"vida\", \"dar\", \"falar\", \"bom\", \"momento\", \"qual\", \"populacao\", \"ontem\", \"volta\", \"tipo\", \"algo\", \"amor\", \"dois\", \"amigo\", \"assistir\", \"nenhum\", \"twitter\", \"pessoal\", \"problema\", \"triste\", \"realmente\", \"rede\", \"real\", \"parar\", \"algum\", \"nome\", \"homem\", \"mt\", \"possivel\", \"pronunciamento\", \"ruim\", \"vida\", \"nada\", \"agora\", \"muito\", \"deus\", \"sempre\", \"pandemia\", \"tempo\", \"gente\", \"passar\", \"logo\", \"cabelo\", \"menos\", \"tanto\", \"cada\", \"mil\", \"social\", \"deixar\", \"pouco\", \"tirar\", \"kkk\", \"midia\", \"apenas\", \"covid\", \"certo\", \"tbm\", \"usar\", \"unica\", \"dificil\", \"periodo\", \"comecou\", \"fome\", \"frente\", \"jogar\", \"pensar\", \"facil\", \"comecar\", \"tb\", \"discurso\", \"vez\", \"tempo\", \"desde\", \"nunca\", \"ainda\", \"coisa\", \"casa\", \"muito\", \"agora\", \"depois\", \"gente\", \"melhor\", \"primeiro\", \"fim\", \"pai\", \"semana\", \"pos\", \"ajudar\", \"final\", \"tomar\", \"demais\", \"live\", \"comprar\", \"cabeca\", \"cu\", \"amo\", \"dentro\", \"festa\", \"exemplo\", \"projeto\", \"continuar\", \"ok\", \"tres\", \"junto\", \"instagram\", \"ler\", \"longe\", \"infelizmente\", \"inferno\", \"geral\", \"noite\", \"casa\", \"mae\", \"entao\", \"gente\", \"poder\", \"sim\", \"pandemia\", \"agora\", \"depois\", \"mundo\", \"coisa\", \"abril\", \"nada\", \"muito\"], \"Freq\": [20090.0, 18003.0, 18199.0, 17605.0, 7849.0, 6545.0, 7905.0, 5752.0, 11319.0, 3380.0, 5496.0, 2913.0, 3175.0, 2989.0, 2696.0, 2714.0, 2322.0, 2226.0, 2225.0, 2162.0, 2108.0, 2008.0, 6247.0, 6457.0, 2830.0, 1884.0, 1877.0, 3300.0, 2817.0, 1851.0, 20089.779296875, 17604.849609375, 3174.758056640625, 1789.3729248046875, 1668.8365478515625, 1486.993408203125, 1454.0628662109375, 1421.0592041015625, 1349.4107666015625, 1229.4161376953125, 1122.5797119140625, 1057.533203125, 968.3237915039062, 931.4074096679688, 869.2421264648438, 849.759765625, 840.3792724609375, 778.3777465820312, 746.6643676757812, 732.886962890625, 720.456298828125, 704.1598510742188, 675.2718505859375, 630.8067626953125, 613.3206787109375, 595.807373046875, 563.0310668945312, 551.9056396484375, 547.3988647460938, 543.7240600585938, 2101.34912109375, 2735.9169921875, 894.338134765625, 893.63671875, 1129.448486328125, 1138.9744873046875, 1080.575927734375, 942.155517578125, 822.6383056640625, 737.1626586914062, 18198.654296875, 3379.673095703125, 2988.503173828125, 2713.290771484375, 1689.973876953125, 1117.76904296875, 1062.1368408203125, 948.088134765625, 925.587158203125, 855.8545532226562, 831.7782592773438, 770.7105712890625, 764.6503295898438, 735.0099487304688, 710.2391967773438, 702.1361083984375, 697.4801025390625, 685.7706298828125, 649.9242553710938, 646.0438232421875, 591.1322021484375, 581.9461059570312, 536.10791015625, 528.9686279296875, 522.2154541015625, 520.0033569335938, 518.9389038085938, 514.7150268554688, 491.5556945800781, 482.838623046875, 6739.30126953125, 1681.625732421875, 2759.600830078125, 1543.3165283203125, 1043.5150146484375, 949.75244140625, 1000.2823486328125, 1790.1871337890625, 1175.6767578125, 1137.7879638671875, 843.3770141601562, 1198.440673828125, 830.759033203125, 730.3797607421875, 18002.572265625, 7848.673828125, 6544.6484375, 5751.4892578125, 1851.0804443359375, 1517.9482421875, 1427.3953857421875, 1413.0772705078125, 1131.74951171875, 1120.4385986328125, 1112.059326171875, 1066.3927001953125, 974.6201782226562, 936.282958984375, 931.7259521484375, 863.5438842773438, 859.8701782226562, 784.349609375, 759.9881591796875, 690.4716796875, 672.9827880859375, 654.9013671875, 658.7640991210938, 572.595458984375, 569.1416015625, 533.9569702148438, 529.8982543945312, 526.080078125, 527.910888671875, 517.7853393554688, 1312.2384033203125, 823.4935302734375, 925.3961791992188, 1942.3568115234375, 1091.2420654296875, 1303.8511962890625, 821.4656372070312, 1470.6778564453125, 918.5978393554688, 842.596435546875, 969.2811279296875, 812.1287231445312, 2225.822021484375, 2224.7041015625, 2107.785400390625, 1703.806884765625, 1464.7735595703125, 1340.839111328125, 1220.8538818359375, 1111.8145751953125, 1067.3997802734375, 1060.860595703125, 1059.5684814453125, 1019.0546264648438, 924.7564086914062, 915.495361328125, 909.4221801757812, 898.2576904296875, 874.0240478515625, 875.6680908203125, 844.7138671875, 813.6156005859375, 755.9542236328125, 743.1693725585938, 739.9932861328125, 727.1441040039062, 726.8165283203125, 696.3828735351562, 695.1078491210938, 675.184814453125, 619.1649169921875, 585.921142578125, 2018.1168212890625, 1984.327392578125, 2726.90087890625, 2085.49365234375, 1596.0970458984375, 1063.379150390625, 2505.072021484375, 1052.842529296875, 1266.4718017578125, 2912.9306640625, 2321.443603515625, 2007.6207275390625, 1883.7030029296875, 1876.6451416015625, 1518.6611328125, 1262.7572021484375, 1232.57177734375, 1215.237060546875, 1176.8341064453125, 995.8196411132812, 988.8167114257812, 990.7372436523438, 984.1129760742188, 979.6152954101562, 893.5516967773438, 879.6515502929688, 861.0472412109375, 859.8656616210938, 823.2481079101562, 819.272216796875, 793.3024291992188, 783.3285522460938, 757.0023193359375, 696.8490600585938, 681.1797485351562, 669.6117553710938, 667.916259765625, 639.178466796875, 583.6602172851562, 1497.29931640625, 1764.0362548828125, 1139.0811767578125, 1604.37353515625, 2012.147216796875, 1751.4937744140625, 1996.07763671875, 1263.1519775390625, 1244.794921875, 999.8970947265625, 1022.9600830078125, 2695.246826171875, 2162.139892578125, 1716.1156005859375, 1623.094970703125, 1622.32763671875, 1401.6953125, 1331.57470703125, 1222.1641845703125, 1193.7177734375, 1061.9085693359375, 1058.6392822265625, 1028.6181640625, 899.744140625, 888.1593627929688, 841.1427001953125, 763.3327026367188, 756.5299682617188, 702.0755615234375, 652.1560668945312, 619.3311767578125, 616.4796142578125, 606.8419189453125, 580.79736328125, 571.0810546875, 570.1089477539062, 566.8372802734375, 545.70849609375, 542.207763671875, 541.2374877929688, 536.1759033203125, 5908.4169921875, 1822.329833984375, 1341.90380859375, 2697.4306640625, 1096.0479736328125, 1259.71923828125, 2074.667724609375, 1545.5345458984375, 1114.019775390625, 1032.7193603515625, 798.8507080078125, 728.632568359375, 730.0889892578125, 732.9031982421875], \"Total\": [20090.0, 18003.0, 18199.0, 17605.0, 7849.0, 6545.0, 7905.0, 5752.0, 11319.0, 3380.0, 5496.0, 2913.0, 3175.0, 2989.0, 2696.0, 2714.0, 2322.0, 2226.0, 2225.0, 2162.0, 2108.0, 2008.0, 6247.0, 6457.0, 2830.0, 1884.0, 1877.0, 3300.0, 2817.0, 1851.0, 20090.58984375, 17605.66015625, 3175.5703125, 1790.1859130859375, 1669.6500244140625, 1487.80419921875, 1454.8758544921875, 1421.87158203125, 1350.2227783203125, 1230.228759765625, 1123.3956298828125, 1058.34375, 969.1354370117188, 932.219970703125, 870.0515747070312, 850.5734252929688, 841.1906127929688, 779.1903076171875, 747.4747924804688, 733.6990966796875, 721.2699584960938, 704.971923828125, 676.0822143554688, 631.6187133789062, 614.1341552734375, 596.6212768554688, 563.844482421875, 552.71875, 548.2100219726562, 544.5355834960938, 3300.44775390625, 5496.17431640625, 1204.127197265625, 1431.721923828125, 2413.93994140625, 4478.5859375, 3795.47509765625, 3199.9619140625, 4904.50537109375, 2260.6015625, 18199.462890625, 3380.48388671875, 2989.3115234375, 2714.0986328125, 1690.784423828125, 1118.58056640625, 1062.9462890625, 948.8994750976562, 926.3975219726562, 856.6629028320312, 832.5875854492188, 771.5198974609375, 765.4603881835938, 735.8203125, 711.0481567382812, 702.9454345703125, 698.2882690429688, 686.5804443359375, 650.7355346679688, 646.8530883789062, 591.9410400390625, 582.75439453125, 536.9192504882812, 529.7762451171875, 523.0277099609375, 520.8159790039062, 519.7500610351562, 515.5256958007812, 492.3683166503906, 483.6492614746094, 11319.5205078125, 2185.9462890625, 5496.17431640625, 2442.113037109375, 1417.5025634765625, 1313.415283203125, 1496.2415771484375, 4425.9873046875, 2260.6015625, 2369.611572265625, 1283.364990234375, 3300.44775390625, 4478.5859375, 6247.92626953125, 18003.37109375, 7849.4736328125, 6545.44970703125, 5752.2890625, 1851.88232421875, 1518.7498779296875, 1428.197998046875, 1413.87841796875, 1132.551025390625, 1121.2432861328125, 1112.8594970703125, 1067.1942138671875, 975.4255981445312, 937.0831298828125, 932.527587890625, 864.3470458984375, 860.670654296875, 785.1535034179688, 760.7892456054688, 691.2720947265625, 673.7899169921875, 655.7013549804688, 659.5704956054688, 573.3993530273438, 569.9457397460938, 534.7604370117188, 530.701904296875, 526.8817749023438, 528.7156372070312, 518.587158203125, 1988.7906494140625, 1067.9456787109375, 1289.70263671875, 4688.16796875, 1784.947509765625, 3108.328369140625, 1210.9332275390625, 6457.84765625, 1707.7152099609375, 1352.14306640625, 4425.9873046875, 2830.8857421875, 2226.62451171875, 2225.5068359375, 2108.58740234375, 1704.609375, 1465.575927734375, 1341.64306640625, 1221.6573486328125, 1112.61767578125, 1068.2025146484375, 1061.662353515625, 1060.369873046875, 1019.8569946289062, 925.5587768554688, 916.2968139648438, 910.2254028320312, 899.0604248046875, 874.826171875, 876.4716796875, 845.515380859375, 814.4176025390625, 756.7582397460938, 743.9720458984375, 740.7968139648438, 727.9467163085938, 727.6195068359375, 697.1859130859375, 695.90966796875, 675.9869384765625, 619.9672241210938, 586.7232055664062, 2830.8857421875, 3795.47509765625, 6247.92626953125, 4904.50537109375, 3199.9619140625, 1555.43408203125, 11319.5205078125, 2817.517333984375, 6457.84765625, 2913.72998046875, 2322.2421875, 2008.41845703125, 1884.50244140625, 1877.4439697265625, 1519.4609375, 1263.5565185546875, 1233.372314453125, 1216.0362548828125, 1177.6336669921875, 996.6189575195312, 989.6151123046875, 991.5406494140625, 984.9136352539062, 980.4150390625, 894.3517456054688, 880.4512939453125, 861.8471069335938, 860.6649169921875, 824.0482788085938, 820.072509765625, 794.1017456054688, 784.1294555664062, 757.802978515625, 697.6478271484375, 681.9801025390625, 670.4125366210938, 668.7158203125, 639.9789428710938, 584.4638061523438, 1996.4296875, 2817.517333984375, 1522.500244140625, 2787.32275390625, 4478.5859375, 3675.31494140625, 7905.12548828125, 4904.50537109375, 6247.92626953125, 4688.16796875, 6457.84765625, 2696.04150390625, 2162.93408203125, 1716.9097900390625, 1623.889404296875, 1623.123046875, 1402.4886474609375, 1332.37060546875, 1222.9580078125, 1194.51220703125, 1062.7032470703125, 1059.4327392578125, 1029.4124755859375, 900.537841796875, 888.9530029296875, 841.9365234375, 764.12646484375, 757.3238525390625, 702.8739624023438, 652.9525756835938, 620.1259155273438, 617.2738647460938, 607.6376342773438, 581.5926513671875, 571.8748779296875, 570.9035034179688, 567.6309204101562, 546.50439453125, 543.0028686523438, 542.0327758789062, 536.9717407226562, 7905.12548828125, 2493.244140625, 1987.947998046875, 6457.84765625, 1621.1494140625, 2466.7763671875, 11319.5205078125, 6247.92626953125, 4688.16796875, 4425.9873046875, 3675.31494140625, 2369.611572265625, 3795.47509765625, 4904.50537109375], \"Category\": [\"Default\", \"Default\", \"Default\", \"Default\", \"Default\", \"Default\", \"Default\", \"Default\", \"Default\", \"Default\", \"Default\", \"Default\", \"Default\", \"Default\", \"Default\", \"Default\", \"Default\", \"Default\", \"Default\", \"Default\", \"Default\", \"Default\", \"Default\", \"Default\", \"Default\", \"Default\", \"Default\", \"Default\", \"Default\", \"Default\", \"Topic1\", \"Topic1\", \"Topic1\", \"Topic1\", \"Topic1\", \"Topic1\", \"Topic1\", \"Topic1\", \"Topic1\", \"Topic1\", \"Topic1\", \"Topic1\", \"Topic1\", \"Topic1\", \"Topic1\", \"Topic1\", \"Topic1\", \"Topic1\", \"Topic1\", \"Topic1\", \"Topic1\", \"Topic1\", \"Topic1\", \"Topic1\", \"Topic1\", \"Topic1\", \"Topic1\", \"Topic1\", \"Topic1\", \"Topic1\", \"Topic1\", \"Topic1\", \"Topic1\", \"Topic1\", \"Topic1\", \"Topic1\", \"Topic1\", \"Topic1\", \"Topic1\", \"Topic1\", \"Topic2\", \"Topic2\", \"Topic2\", \"Topic2\", \"Topic2\", \"Topic2\", \"Topic2\", \"Topic2\", \"Topic2\", \"Topic2\", \"Topic2\", \"Topic2\", \"Topic2\", \"Topic2\", \"Topic2\", \"Topic2\", \"Topic2\", \"Topic2\", \"Topic2\", \"Topic2\", \"Topic2\", \"Topic2\", \"Topic2\", \"Topic2\", \"Topic2\", \"Topic2\", \"Topic2\", \"Topic2\", \"Topic2\", \"Topic2\", \"Topic2\", \"Topic2\", \"Topic2\", \"Topic2\", \"Topic2\", \"Topic2\", \"Topic2\", \"Topic2\", \"Topic2\", \"Topic2\", \"Topic2\", \"Topic2\", \"Topic2\", \"Topic2\", \"Topic3\", \"Topic3\", \"Topic3\", \"Topic3\", \"Topic3\", \"Topic3\", \"Topic3\", \"Topic3\", \"Topic3\", \"Topic3\", \"Topic3\", \"Topic3\", \"Topic3\", \"Topic3\", \"Topic3\", \"Topic3\", \"Topic3\", \"Topic3\", \"Topic3\", \"Topic3\", \"Topic3\", \"Topic3\", \"Topic3\", \"Topic3\", \"Topic3\", \"Topic3\", \"Topic3\", \"Topic3\", \"Topic3\", \"Topic3\", \"Topic3\", \"Topic3\", \"Topic3\", \"Topic3\", \"Topic3\", \"Topic3\", \"Topic3\", \"Topic3\", \"Topic3\", \"Topic3\", \"Topic3\", \"Topic3\", \"Topic4\", \"Topic4\", \"Topic4\", \"Topic4\", \"Topic4\", \"Topic4\", \"Topic4\", \"Topic4\", \"Topic4\", \"Topic4\", \"Topic4\", \"Topic4\", \"Topic4\", \"Topic4\", \"Topic4\", \"Topic4\", \"Topic4\", \"Topic4\", \"Topic4\", \"Topic4\", \"Topic4\", \"Topic4\", \"Topic4\", \"Topic4\", \"Topic4\", \"Topic4\", \"Topic4\", \"Topic4\", \"Topic4\", \"Topic4\", \"Topic4\", \"Topic4\", \"Topic4\", \"Topic4\", \"Topic4\", \"Topic4\", \"Topic4\", \"Topic4\", \"Topic4\", \"Topic5\", \"Topic5\", \"Topic5\", \"Topic5\", \"Topic5\", \"Topic5\", \"Topic5\", \"Topic5\", \"Topic5\", \"Topic5\", \"Topic5\", \"Topic5\", \"Topic5\", \"Topic5\", \"Topic5\", \"Topic5\", \"Topic5\", \"Topic5\", \"Topic5\", \"Topic5\", \"Topic5\", \"Topic5\", \"Topic5\", \"Topic5\", \"Topic5\", \"Topic5\", \"Topic5\", \"Topic5\", \"Topic5\", \"Topic5\", \"Topic5\", \"Topic5\", \"Topic5\", \"Topic5\", \"Topic5\", \"Topic5\", \"Topic5\", \"Topic5\", \"Topic5\", \"Topic5\", \"Topic5\", \"Topic6\", \"Topic6\", \"Topic6\", \"Topic6\", \"Topic6\", \"Topic6\", \"Topic6\", \"Topic6\", \"Topic6\", \"Topic6\", \"Topic6\", \"Topic6\", \"Topic6\", \"Topic6\", \"Topic6\", \"Topic6\", \"Topic6\", \"Topic6\", \"Topic6\", \"Topic6\", \"Topic6\", \"Topic6\", \"Topic6\", \"Topic6\", \"Topic6\", \"Topic6\", \"Topic6\", \"Topic6\", \"Topic6\", \"Topic6\", \"Topic6\", \"Topic6\", \"Topic6\", \"Topic6\", \"Topic6\", \"Topic6\", \"Topic6\", \"Topic6\", \"Topic6\", \"Topic6\", \"Topic6\", \"Topic6\", \"Topic6\", \"Topic6\"], \"logprob\": [30.0, 29.0, 28.0, 27.0, 26.0, 25.0, 24.0, 23.0, 22.0, 21.0, 20.0, 19.0, 18.0, 17.0, 16.0, 15.0, 14.0, 13.0, 12.0, 11.0, 10.0, 9.0, 8.0, 7.0, 6.0, 5.0, 4.0, 3.0, 2.0, 1.0, -1.9634000062942505, -2.095400094985962, -3.8083999156951904, -4.381700038909912, -4.451499938964844, -4.566800117492676, -4.589200019836426, -4.612199783325195, -4.663899898529053, -4.7571001052856445, -4.8480000495910645, -4.907700061798096, -4.995800018310547, -5.0346999168396, -5.103700160980225, -5.126399993896484, -5.137499809265137, -5.214099884033203, -5.25570011138916, -5.274400234222412, -5.291500091552734, -5.314300060272217, -5.356200218200684, -5.4243998527526855, -5.452499866485596, -5.481400012969971, -5.538000106811523, -5.558000087738037, -5.566199779510498, -5.57289981842041, -4.2210001945495605, -3.9570999145507812, -5.075300216674805, -5.076099872589111, -4.841899871826172, -4.833499908447266, -4.886099815368652, -5.023200035095215, -5.15880012512207, -5.268499851226807, -2.0160000324249268, -3.6995999813079834, -3.8225998878479004, -3.9191999435424805, -4.3927001953125, -4.806000232696533, -4.857100009918213, -4.970699787139893, -4.994699954986572, -5.072999954223633, -5.101600170135498, -5.177800178527832, -5.185699939727783, -5.225299835205078, -5.259500026702881, -5.270999908447266, -5.277699947357178, -5.294600009918213, -5.348299980163574, -5.354300022125244, -5.4430999755859375, -5.458799839019775, -5.540800094604492, -5.554200172424316, -5.5671000480651855, -5.571300029754639, -5.573400020599365, -5.581500053405762, -5.627600193023682, -5.645500183105469, -3.009399890899658, -4.397600173950195, -3.9022998809814453, -4.483399868011475, -4.874800205230713, -4.968900203704834, -4.917099952697754, -4.335100173950195, -4.755499839782715, -4.788300037384033, -5.087699890136719, -4.736400127410889, -5.102799892425537, -5.231599807739258, -1.9753999710083008, -2.8055999279022217, -2.987299919128418, -3.1164000034332275, -4.250100135803223, -4.448500156402588, -4.5100998878479, -4.520100116729736, -4.742099761962891, -4.752200126647949, -4.759699821472168, -4.801599979400635, -4.891600131988525, -4.931700229644775, -4.936600208282471, -5.012599945068359, -5.016900062561035, -5.108799934387207, -5.140399932861328, -5.236299991607666, -5.261899948120117, -5.2891998291015625, -5.283299922943115, -5.423500061035156, -5.429500102996826, -5.493299961090088, -5.500999927520752, -5.508200168609619, -5.504700183868408, -5.524099826812744, -4.594200134277344, -5.060100078582764, -4.943399906158447, -4.202000141143799, -4.778600215911865, -4.600599765777588, -5.062600135803223, -4.480199813842773, -4.950799942016602, -5.037199974060059, -4.89709997177124, -5.073999881744385, -3.9934000968933105, -3.9939000606536865, -4.047900199890137, -4.260700225830078, -4.411799907684326, -4.500199794769287, -4.593999862670898, -4.6875, -4.728300094604492, -4.734499931335449, -4.7357001304626465, -4.774700164794922, -4.871799945831299, -4.881800174713135, -4.888500213623047, -4.9008002281188965, -4.928199768066406, -4.926300048828125, -4.962299823760986, -4.999800205230713, -5.073299884796143, -5.090400218963623, -5.094600200653076, -5.112199783325195, -5.112599849700928, -5.155399799346924, -5.157199859619141, -5.186299800872803, -5.272900104522705, -5.328100204467773, -4.091400146484375, -4.10830020904541, -3.7904000282287598, -4.058499813079834, -4.326000213623047, -4.732100009918213, -3.875200033187866, -4.742000102996826, -4.557300090789795, -3.715100049972534, -3.941999912261963, -4.087299823760986, -4.151000022888184, -4.154699802398682, -4.366399765014648, -4.550899982452393, -4.575099945068359, -4.589300155639648, -4.621399879455566, -4.788400173187256, -4.795499801635742, -4.793499946594238, -4.80019998550415, -4.804800033569336, -4.8968000411987305, -4.912499904632568, -4.933800220489502, -4.935200214385986, -4.978700160980225, -4.98360013961792, -5.0157999992370605, -5.02839994430542, -5.062600135803223, -5.145400047302246, -5.1682000160217285, -5.185299873352051, -5.18779993057251, -5.231800079345703, -5.322700023651123, -4.3805999755859375, -4.216599941253662, -4.6539998054504395, -4.311500072479248, -4.085000038146973, -4.223800182342529, -4.0929999351501465, -4.550600051879883, -4.565299987792969, -4.784299850463867, -4.761499881744385, -3.754300117492676, -3.9746999740600586, -4.205699920654297, -4.261499881744385, -4.261899948120117, -4.408100128173828, -4.459400177001953, -4.545199871063232, -4.568699836730957, -4.685699939727783, -4.688799858093262, -4.717599868774414, -4.851399898529053, -4.8643999099731445, -4.918799877166748, -5.0157999992370605, -5.024799823760986, -5.0995001792907715, -5.173299789428711, -5.224899768829346, -5.229499816894531, -5.245299816131592, -5.289100170135498, -5.306000232696533, -5.307700157165527, -5.313499927520752, -5.351500034332275, -5.357900142669678, -5.3597002029418945, -5.369100093841553, -2.969399929046631, -4.145699977874756, -4.451700210571289, -3.753499984741211, -4.654099941253662, -4.514900207519531, -4.015999794006348, -4.310400009155273, -4.637800216674805, -4.713600158691406, -4.970399856567383, -5.062399864196777, -5.060400009155273, -5.05649995803833], \"loglift\": [30.0, 29.0, 28.0, 27.0, 26.0, 25.0, 24.0, 23.0, 22.0, 21.0, 20.0, 19.0, 18.0, 17.0, 16.0, 15.0, 14.0, 13.0, 12.0, 11.0, 10.0, 9.0, 8.0, 7.0, 6.0, 5.0, 4.0, 3.0, 2.0, 1.0, 1.676200032234192, 1.676200032234192, 1.6759999990463257, 1.6757999658584595, 1.6757999658584595, 1.6756999492645264, 1.6756999492645264, 1.6756999492645264, 1.6756000518798828, 1.6756000518798828, 1.6755000352859497, 1.6755000352859497, 1.6754000186920166, 1.6754000186920166, 1.6753000020980835, 1.6753000020980835, 1.6753000020980835, 1.6751999855041504, 1.6751999855041504, 1.6750999689102173, 1.6750999689102173, 1.6750999689102173, 1.6749999523162842, 1.6749999523162842, 1.6749000549316406, 1.6749000549316406, 1.6748000383377075, 1.6748000383377075, 1.6748000383377075, 1.6748000383377075, 1.2247999906539917, 0.9786999821662903, 1.3788000345230103, 1.2049000263214111, 0.916700005531311, 0.30709999799728394, 0.41990000009536743, 0.45350000262260437, -0.10909999907016754, 0.5557000041007996, 1.7223999500274658, 1.7222000360488892, 1.7222000360488892, 1.7222000360488892, 1.722000002861023, 1.7216999530792236, 1.7216999530792236, 1.72160005569458, 1.72160005569458, 1.721500039100647, 1.721500039100647, 1.7214000225067139, 1.7214000225067139, 1.7214000225067139, 1.7213000059127808, 1.7213000059127808, 1.7213000059127808, 1.7213000059127808, 1.7211999893188477, 1.7211999893188477, 1.7210999727249146, 1.7210999727249146, 1.720900058746338, 1.720900058746338, 1.720900058746338, 1.720900058746338, 1.720900058746338, 1.720900058746338, 1.7208000421524048, 1.7208000421524048, 1.2038999795913696, 1.4601999521255493, 1.0334999561309814, 1.2634999752044678, 1.416200041770935, 1.398300051689148, 1.3198000192642212, 0.817300021648407, 1.0686999559402466, 0.9887999892234802, 1.3026000261306763, 0.7093999981880188, 0.037700001150369644, -0.42399999499320984, 1.773900032043457, 1.773800015449524, 1.773800015449524, 1.773800015449524, 1.7734999656677246, 1.7733999490737915, 1.7733999490737915, 1.7733999490737915, 1.7732000350952148, 1.7732000350952148, 1.7732000350952148, 1.7732000350952148, 1.7731000185012817, 1.7731000185012817, 1.7731000185012817, 1.7730000019073486, 1.7730000019073486, 1.7728999853134155, 1.7728999853134155, 1.7727999687194824, 1.7726999521255493, 1.7726999521255493, 1.7726999521255493, 1.7725000381469727, 1.7725000381469727, 1.7724000215530396, 1.7724000215530396, 1.7724000215530396, 1.7724000215530396, 1.7724000215530396, 1.3581000566482544, 1.5140000581741333, 1.4420000314712524, 0.892799973487854, 1.2819000482559204, 0.9052000045776367, 1.3859000205993652, 0.29440000653266907, 1.1539000272750854, 1.3009999990463257, 0.25519999861717224, 0.5253000259399414, 1.845900058746338, 1.845900058746338, 1.845900058746338, 1.8458000421524048, 1.8458000421524048, 1.8457000255584717, 1.8457000255584717, 1.8456000089645386, 1.8456000089645386, 1.8456000089645386, 1.8456000089645386, 1.8454999923706055, 1.8453999757766724, 1.8453999757766724, 1.8453999757766724, 1.8453999757766724, 1.8453999757766724, 1.8453999757766724, 1.8453999757766724, 1.8452999591827393, 1.8451999425888062, 1.8451999425888062, 1.8451999425888062, 1.8451999425888062, 1.8451999425888062, 1.8451999425888062, 1.8451999425888062, 1.8451000452041626, 1.8450000286102295, 1.8449000120162964, 1.5078999996185303, 1.1978000402450562, 1.017199993133545, 0.9911999702453613, 1.1506999731063843, 1.465999960899353, 0.33809998631477356, 0.8618999719619751, 0.21719999611377716, 1.855299949645996, 1.855299949645996, 1.8552000522613525, 1.8552000522613525, 1.8552000522613525, 1.8551000356674194, 1.8550000190734863, 1.8550000190734863, 1.8550000190734863, 1.8549000024795532, 1.8547999858856201, 1.8547999858856201, 1.8547999858856201, 1.8547999858856201, 1.8547999858856201, 1.854699969291687, 1.854699969291687, 1.854699969291687, 1.854699969291687, 1.854599952697754, 1.854599952697754, 1.854599952697754, 1.854599952697754, 1.854599952697754, 1.8545000553131104, 1.8544000387191772, 1.8544000387191772, 1.8544000387191772, 1.8544000387191772, 1.854200005531311, 1.5678999423980713, 1.3874000310897827, 1.565500020980835, 1.3033000230789185, 1.0555000305175781, 1.114400029182434, 0.47929999232292175, 0.499099999666214, 0.24230000376701355, 0.31049999594688416, 0.013000000268220901, 1.8938000202178955, 1.8937000036239624, 1.8935999870300293, 1.8935999870300293, 1.8935999870300293, 1.8934999704360962, 1.8934999704360962, 1.893399953842163, 1.893399953842163, 1.8933000564575195, 1.8933000564575195, 1.8933000564575195, 1.8932000398635864, 1.8932000398635864, 1.8931000232696533, 1.8930000066757202, 1.8930000066757202, 1.892899990081787, 1.892799973487854, 1.892799973487854, 1.892799973487854, 1.892699956893921, 1.892699956893921, 1.892699956893921, 1.892699956893921, 1.892699956893921, 1.8926000595092773, 1.8926000595092773, 1.8926000595092773, 1.8926000595092773, 1.6029000282287598, 1.5806000232696533, 1.5010000467300415, 1.0211000442504883, 1.5025999546051025, 1.222000002861023, 0.1973000019788742, 0.49720001220703125, 0.4569999873638153, 0.43880000710487366, 0.3677999973297119, 0.7146999835968018, 0.24570000171661377, -0.006800000090152025]}, \"token.table\": {\"Topic\": [1, 2, 6, 3, 2, 4, 5, 6, 1, 2, 3, 5, 6, 4, 4, 4, 6, 4, 5, 1, 1, 3, 4, 6, 4, 2, 1, 3, 1, 3, 4, 1, 2, 1, 6, 5, 5, 5, 6, 2, 6, 1, 5, 3, 2, 3, 4, 5, 6, 3, 5, 5, 3, 3, 6, 1, 6, 2, 3, 2, 1, 5, 1, 2, 6, 4, 5, 6, 6, 3, 4, 5, 6, 2, 5, 1, 3, 4, 2, 1, 5, 1, 5, 2, 6, 4, 1, 3, 5, 6, 2, 6, 5, 3, 4, 1, 1, 3, 3, 6, 1, 6, 6, 5, 5, 3, 3, 4, 5, 6, 6, 1, 2, 1, 2, 3, 2, 2, 4, 3, 4, 5, 2, 6, 6, 6, 2, 1, 1, 2, 5, 2, 1, 1, 5, 6, 5, 3, 6, 3, 6, 5, 6, 1, 3, 6, 1, 3, 2, 3, 6, 2, 4, 6, 6, 5, 2, 3, 1, 5, 5, 2, 3, 2, 4, 3, 6, 2, 4, 1, 4, 5, 6, 2, 2, 3, 4, 6, 1, 4, 6, 4, 3, 6, 4, 2, 3, 4, 5, 1, 6, 3, 4, 2, 6, 2, 2, 4, 6, 1, 4, 5, 3, 3, 3, 5, 5, 1, 3, 4, 1, 6, 4, 1, 2, 5, 6, 6, 4, 5, 1, 3, 5, 1, 6, 3, 4, 4, 6, 4, 1, 4, 3, 2, 4, 2, 4, 4, 2, 4, 2, 3, 2, 2, 6, 4, 5, 1, 1, 4, 6, 5, 1, 3, 1, 2, 4, 5, 3, 5, 5, 3, 4, 5, 4, 5, 6, 2, 6, 4, 1, 1, 4, 2, 4, 5, 2, 5, 1, 1, 4, 5, 3, 4, 2, 3, 3, 2, 4, 3, 3], \"Freq\": [0.2122710794210434, 0.48024749755859375, 0.30764535069465637, 0.9997758865356445, 0.11683876812458038, 0.4364648163318634, 0.19926612079143524, 0.2474420964717865, 0.2543213367462158, 0.18554963171482086, 0.1107492446899414, 0.44924893975257874, 0.9997218251228333, 0.999376118183136, 0.9986994862556458, 0.9993962645530701, 0.9988876581192017, 0.9996511936187744, 0.9990723729133606, 0.9986213445663452, 0.2071853131055832, 0.4195180833339691, 0.21233278512954712, 0.1608581691980362, 0.9985847473144531, 0.9988696575164795, 0.38824671506881714, 0.6112224459648132, 0.9999706149101257, 0.9988911747932434, 0.9997214078903198, 0.4978007972240448, 0.5021674633026123, 0.9988284111022949, 0.9994027614593506, 0.9997916221618652, 0.999696671962738, 0.2524944245815277, 0.7473632097244263, 0.7365065813064575, 0.26313886046409607, 0.9993258118629456, 0.999606728553772, 0.9985780119895935, 0.9992942810058594, 0.15155163407325745, 0.15427249670028687, 0.4764217436313629, 0.2173963338136673, 0.9986464381217957, 0.9989295601844788, 0.9986125826835632, 0.9988809823989868, 0.9992207884788513, 0.9995993375778198, 0.9993647933006287, 0.9981843829154968, 0.9998568296432495, 0.9999793767929077, 0.9999745488166809, 0.9989586472511292, 0.9995766878128052, 0.23056375980377197, 0.7694607973098755, 0.9989279508590698, 0.999719500541687, 0.9991478323936462, 0.9993382692337036, 0.9985257983207703, 0.41423431038856506, 0.13480745255947113, 0.21330294013023376, 0.23761947453022003, 0.25155988335609436, 0.7481115460395813, 0.29437848925590515, 0.20656496286392212, 0.49875593185424805, 0.9981551170349121, 0.998502254486084, 0.9987279176712036, 0.9993375539779663, 0.9992064237594604, 0.7233051061630249, 0.27637869119644165, 0.9991596937179565, 0.9990204572677612, 0.9981597661972046, 0.3244551718235016, 0.6750679612159729, 0.9992261528968811, 0.9987565875053406, 0.9993846416473389, 0.9992276430130005, 0.9997722506523132, 0.9996106624603271, 0.9993979930877686, 0.9991350769996643, 0.999434232711792, 0.9995723962783813, 0.9986913204193115, 0.9994701147079468, 0.9992166757583618, 0.9985595941543579, 0.9989404082298279, 0.999598503112793, 0.2277848720550537, 0.1960405558347702, 0.1584119200706482, 0.4176314175128937, 0.9980946183204651, 0.9990943670272827, 0.9985568523406982, 0.6365802884101868, 0.36298105120658875, 0.9985308647155762, 0.9986811876296997, 0.9995360374450684, 0.9982990026473999, 0.5381459593772888, 0.22251953184604645, 0.23950129747390747, 0.9985259175300598, 0.9990770816802979, 0.9981530904769897, 0.9984701871871948, 0.9984332919120789, 0.9981532692909241, 0.9986996054649353, 0.6683412790298462, 0.3308289349079132, 0.9985347390174866, 0.9987913370132446, 0.998239278793335, 0.9990714192390442, 0.9989809989929199, 0.9993784427642822, 0.9989625811576843, 0.9984174370765686, 0.9983406662940979, 0.9995915293693542, 0.9994651079177856, 0.9988884925842285, 0.999459445476532, 0.2687261998653412, 0.7307748198509216, 0.9990012049674988, 0.9988276362419128, 0.999570906162262, 0.7706384658813477, 0.22847604751586914, 0.6318298578262329, 0.17566753923892975, 0.19204680621623993, 0.9996137022972107, 0.9997333884239197, 0.6568669080734253, 0.34206947684288025, 0.999647855758667, 0.9994547367095947, 0.9995595812797546, 0.9993261098861694, 0.9995235800743103, 0.9993985295295715, 0.9996424913406372, 0.7172195911407471, 0.28223559260368347, 0.9991097450256348, 0.9986928105354309, 0.16780489683151245, 0.4251193106174469, 0.25751832127571106, 0.14945441484451294, 0.9986550211906433, 0.40442952513694763, 0.21893420815467834, 0.1430189311504364, 0.23339425027370453, 0.2848128378391266, 0.5227277278900146, 0.19233429431915283, 0.9986537098884583, 0.9988441467285156, 0.9981903433799744, 0.9991486072540283, 0.9998958110809326, 0.20880252122879028, 0.2152603268623352, 0.5754625797271729, 0.9984723925590515, 0.9979363083839417, 0.9995636940002441, 0.9994619488716125, 0.9994809627532959, 0.9994522929191589, 0.9987054467201233, 0.5953432321548462, 0.22129912674427032, 0.18331165611743927, 0.9996752142906189, 0.9989243745803833, 0.999749481678009, 0.9986774325370789, 0.9993035197257996, 0.9993787407875061, 0.9985628724098206, 0.9986921548843384, 0.6244229078292847, 0.3750728368759155, 0.9990556240081787, 0.3232274651527405, 0.6760635375976562, 0.9995206594467163, 0.46770012378692627, 0.14540544152259827, 0.2158297300338745, 0.17108958959579468, 0.9996516108512878, 0.9985399842262268, 0.9994618892669678, 0.9998204112052917, 0.623454749584198, 0.3764394521713257, 0.9999625086784363, 0.9995681643486023, 0.6779894828796387, 0.3212398290634155, 0.999461829662323, 0.9985411167144775, 0.9984399080276489, 0.9983992576599121, 0.9996070265769958, 0.999931275844574, 0.999052107334137, 0.9986934661865234, 0.9992519617080688, 0.9994872212409973, 0.9989980459213257, 0.9988851547241211, 0.9987673759460449, 0.9980350732803345, 0.9989303946495056, 0.9995952248573303, 0.9991545677185059, 0.9993081092834473, 0.6834105253219604, 0.3156675100326538, 0.9985846281051636, 0.23755700886249542, 0.25134018063545227, 0.510788083076477, 0.9996981620788574, 0.9990164637565613, 0.9983264207839966, 0.32601940631866455, 0.5202155113220215, 0.15349896252155304, 0.999763548374176, 0.9991611838340759, 0.9984703660011292, 0.9994874000549316, 0.9988677501678467, 0.3737332820892334, 0.6260830760002136, 0.9988742470741272, 0.9993789196014404, 0.9995712041854858, 0.9986575841903687, 0.9989506602287292, 0.9993904829025269, 0.9977927803993225, 0.7424464821815491, 0.25661739706993103, 0.9982879161834717, 0.9988205432891846, 0.9992274641990662, 0.9989802837371826, 0.9990171194076538, 0.9993870258331299, 0.9990471601486206, 0.24944530427455902, 0.7498385906219482, 0.28683602809906006, 0.7128511071205139, 0.3399050533771515, 0.659697413444519, 0.9999396800994873, 0.9984102249145508, 0.999444842338562, 0.9995062351226807, 0.9995134472846985], \"Term\": [\"abril\", \"abril\", \"abril\", \"acabar\", \"agora\", \"agora\", \"agora\", \"agora\", \"ainda\", \"ainda\", \"ainda\", \"ainda\", \"ajudar\", \"algo\", \"algum\", \"amigo\", \"amo\", \"amor\", \"apenas\", \"apoio\", \"assim\", \"assim\", \"assim\", \"assim\", \"assistir\", \"aula\", \"bbb\", \"bbb\", \"bolsonaro\", \"bolsonaroday\", \"bom\", \"brasil\", \"brasil\", \"brasileiro\", \"cabeca\", \"cabelo\", \"cada\", \"casa\", \"casa\", \"caso\", \"caso\", \"certeza\", \"certo\", \"chorar\", \"cidade\", \"coisa\", \"coisa\", \"coisa\", \"coisa\", \"combater\", \"comecar\", \"comecou\", \"comer\", \"comigo\", \"comprar\", \"congresso\", \"continuar\", \"contra\", \"corona\", \"coronavirus\", \"cortar\", \"covid\", \"crise\", \"crise\", \"cu\", \"dar\", \"deixar\", \"demais\", \"dentro\", \"depois\", \"depois\", \"depois\", \"depois\", \"desde\", \"desde\", \"deus\", \"deus\", \"deus\", \"devido\", \"diadamentira\", \"dificil\", \"dinheiro\", \"discurso\", \"dizer\", \"dizer\", \"dois\", \"doria\", \"embora\", \"entao\", \"entao\", \"eua\", \"exemplo\", \"facil\", \"fake\", \"falar\", \"familia\", \"favor\", \"federal\", \"feliz\", \"festa\", \"filho\", \"fim\", \"final\", \"fome\", \"frente\", \"galera\", \"gente\", \"gente\", \"gente\", \"gente\", \"geral\", \"globo\", \"gosto\", \"governo\", \"governo\", \"grupo\", \"guerra\", \"ha\", \"homem\", \"hora\", \"hora\", \"hora\", \"hospital\", \"infelizmente\", \"inferno\", \"instagram\", \"inteiro\", \"internet\", \"irmao\", \"isolamento\", \"isolamento\", \"italia\", \"jair\", \"jeito\", \"jogar\", \"junto\", \"kkk\", \"kkkkkkk\", \"ler\", \"levar\", \"live\", \"logo\", \"longe\", \"lula\", \"mae\", \"mae\", \"mal\", \"manter\", \"matar\", \"medo\", \"medo\", \"meio\", \"meio\", \"meio\", \"melhor\", \"menos\", \"mentira\", \"mentira\", \"mes\", \"midia\", \"mil\", \"milhoes\", \"mim\", \"ministro\", \"momento\", \"morrer\", \"morrer\", \"morte\", \"mt\", \"muito\", \"muito\", \"muito\", \"muito\", \"mundial\", \"mundo\", \"mundo\", \"mundo\", \"mundo\", \"nada\", \"nada\", \"nada\", \"nenhum\", \"news\", \"noite\", \"nome\", \"novo\", \"nunca\", \"nunca\", \"nunca\", \"odio\", \"ok\", \"oms\", \"ontem\", \"oq\", \"pai\", \"paises\", \"pandemia\", \"pandemia\", \"pandemia\", \"parabens\", \"parar\", \"passar\", \"pau\", \"pedir\", \"pegar\", \"pensar\", \"periodo\", \"pessoa\", \"pessoa\", \"pessoal\", \"poder\", \"poder\", \"populacao\", \"porque\", \"porque\", \"porque\", \"porque\", \"pos\", \"possivel\", \"pouco\", \"povo\", \"preciso\", \"preciso\", \"presidente\", \"primeiro\", \"prior\", \"prior\", \"problema\", \"projeto\", \"pronunciamento\", \"pt\", \"qual\", \"quando\", \"quanto\", \"real\", \"realidade\", \"realmente\", \"rede\", \"rio\", \"ruim\", \"saco\", \"saudade\", \"saude\", \"segundo\", \"semana\", \"sempre\", \"sempre\", \"senhor\", \"sim\", \"sim\", \"sim\", \"social\", \"sr\", \"surto\", \"tambem\", \"tambem\", \"tambem\", \"tanto\", \"tarde\", \"tb\", \"tbm\", \"td\", \"tempo\", \"tempo\", \"tipo\", \"tirar\", \"tomar\", \"total\", \"tres\", \"triste\", \"trump\", \"tu\", \"tu\", \"tv\", \"twitter\", \"unica\", \"unico\", \"usar\", \"verdade\", \"vergonha\", \"vez\", \"vez\", \"vida\", \"vida\", \"video\", \"video\", \"virus\", \"vivo\", \"volta\", \"voltar\", \"vontade\"]}, \"R\": 30, \"lambda.step\": 0.01, \"plot.opts\": {\"xlab\": \"PC1\", \"ylab\": \"PC2\"}, \"topic.order\": [5, 2, 4, 3, 6, 1]};\n",
       "\n",
       "function LDAvis_load_lib(url, callback){\n",
       "  var s = document.createElement('script');\n",
       "  s.src = url;\n",
       "  s.async = true;\n",
       "  s.onreadystatechange = s.onload = callback;\n",
       "  s.onerror = function(){console.warn(\"failed to load library \" + url);};\n",
       "  document.getElementsByTagName(\"head\")[0].appendChild(s);\n",
       "}\n",
       "\n",
       "if(typeof(LDAvis) !== \"undefined\"){\n",
       "   // already loaded: just create the visualization\n",
       "   !function(LDAvis){\n",
       "       new LDAvis(\"#\" + \"ldavis_el392023436308885203981860158\", ldavis_el392023436308885203981860158_data);\n",
       "   }(LDAvis);\n",
       "}else if(typeof define === \"function\" && define.amd){\n",
       "   // require.js is available: use it to load d3/LDAvis\n",
       "   require.config({paths: {d3: \"https://cdnjs.cloudflare.com/ajax/libs/d3/3.5.5/d3.min\"}});\n",
       "   require([\"d3\"], function(d3){\n",
       "      window.d3 = d3;\n",
       "      LDAvis_load_lib(\"https://cdn.rawgit.com/bmabey/pyLDAvis/files/ldavis.v1.0.0.js\", function(){\n",
       "        new LDAvis(\"#\" + \"ldavis_el392023436308885203981860158\", ldavis_el392023436308885203981860158_data);\n",
       "      });\n",
       "    });\n",
       "}else{\n",
       "    // require.js not available: dynamically load d3 & LDAvis\n",
       "    LDAvis_load_lib(\"https://cdnjs.cloudflare.com/ajax/libs/d3/3.5.5/d3.min.js\", function(){\n",
       "         LDAvis_load_lib(\"https://cdn.rawgit.com/bmabey/pyLDAvis/files/ldavis.v1.0.0.js\", function(){\n",
       "                 new LDAvis(\"#\" + \"ldavis_el392023436308885203981860158\", ldavis_el392023436308885203981860158_data);\n",
       "            })\n",
       "         });\n",
       "}\n",
       "</script>"
      ],
      "text/plain": [
       "PreparedData(topic_coordinates=              x         y  topics  cluster       Freq\n",
       "topic                                                \n",
       "4      0.289270 -0.089644       1        1  18.707523\n",
       "1      0.255912  0.075461       2        1  17.862593\n",
       "3     -0.155092 -0.373979       3        1  16.966341\n",
       "2     -0.125188  0.073933       4        1  15.781839\n",
       "5     -0.166289  0.164585       5        1  15.635649\n",
       "0     -0.098613  0.149644       6        1  15.046054, topic_info=            Term          Freq         Total Category  logprob  loglift\n",
       "19     bolsonaro  20090.000000  20090.000000  Default  30.0000  30.0000\n",
       "41        corona  18003.000000  18003.000000  Default  29.0000  29.0000\n",
       "33   coronavirus  18199.000000  18199.000000  Default  28.0000  28.0000\n",
       "71    presidente  17605.000000  17605.000000  Default  27.0000  27.0000\n",
       "54         virus   7849.000000   7849.000000  Default  26.0000  26.0000\n",
       "..           ...           ...           ...      ...      ...      ...\n",
       "4          mundo   1032.719360   4425.987305   Topic6  -4.7136   0.4388\n",
       "84         coisa    798.850708   3675.314941   Topic6  -4.9704   0.3678\n",
       "67         abril    728.632568   2369.611572   Topic6  -5.0624   0.7147\n",
       "239         nada    730.088989   3795.475098   Topic6  -5.0604   0.2457\n",
       "11         muito    732.903198   4904.505371   Topic6  -5.0565  -0.0068\n",
       "\n",
       "[280 rows x 6 columns], token_table=      Topic      Freq     Term\n",
       "term                          \n",
       "67        1  0.212271    abril\n",
       "67        2  0.480247    abril\n",
       "67        6  0.307645    abril\n",
       "13        3  0.999776   acabar\n",
       "305       2  0.116839    agora\n",
       "...     ...       ...      ...\n",
       "54        3  0.999940    virus\n",
       "846       2  0.998410     vivo\n",
       "309       4  0.999445    volta\n",
       "121       3  0.999506   voltar\n",
       "95        3  0.999513  vontade\n",
       "\n",
       "[291 rows x 3 columns], R=30, lambda_step=0.01, plot_opts={'xlab': 'PC1', 'ylab': 'PC2'}, topic_order=[5, 2, 4, 3, 6, 1])"
      ]
     },
     "execution_count": 22,
     "metadata": {},
     "output_type": "execute_result"
    }
   ],
   "source": [
    "# Visualização dos tópicos em clusters\n",
    "\n",
    "pyLDAvis.enable_notebook()\n",
    "vis = pyLDAvis.gensim.prepare(lda_model, corpus, id2word)\n",
    "vis"
   ]
  },
  {
   "cell_type": "code",
   "execution_count": 23,
   "metadata": {},
   "outputs": [
    {
     "name": "stdout",
     "output_type": "stream",
     "text": [
      "[(0,\n",
      "  '0.230*\"corona\" + 0.098*\"virus\" + 0.033*\"casa\" + 0.019*\"mae\" + 0.014*\"pegar\" '\n",
      "  '+ 0.013*\"gente\" + 0.012*\"deus\" + 0.010*\"mundo\" + 0.010*\"agora\" + '\n",
      "  '0.009*\"morrer\"'),\n",
      " (1,\n",
      "  '0.062*\"bolsonaro\" + 0.054*\"brasil\" + 0.053*\"presidente\" + '\n",
      "  '0.038*\"coronavirus\" + 0.027*\"contra\" + 0.022*\"ainda\" + 0.020*\"gente\" + '\n",
      "  '0.017*\"mundo\" + 0.010*\"governo\" + 0.009*\"parabens\"'),\n",
      " (2,\n",
      "  '0.020*\"agora\" + 0.019*\"pandemia\" + 0.016*\"casa\" + 0.014*\"mil\" + '\n",
      "  '0.013*\"menos\" + 0.013*\"gente\" + 0.013*\"tempo\" + 0.013*\"tu\" + 0.012*\"semana\" '\n",
      "  '+ 0.011*\"amo\"'),\n",
      " (3,\n",
      "  '0.026*\"saude\" + 0.020*\"presidente\" + 0.019*\"abril\" + 0.018*\"coronavirus\" + '\n",
      "  '0.013*\"mentira\" + 0.012*\"casa\" + 0.012*\"pos\" + 0.012*\"gente\" + '\n",
      "  '0.011*\"pandemia\" + 0.011*\"bolsonaro\"'),\n",
      " (4,\n",
      "  '0.093*\"presidente\" + 0.046*\"bolsonaro\" + 0.023*\"alguem\" + '\n",
      "  '0.015*\"coronavirus\" + 0.010*\"lula\" + 0.009*\"dar\" + 0.009*\"povo\" + '\n",
      "  '0.009*\"igual\" + 0.008*\"lado\" + 0.007*\"dinheiro\"'),\n",
      " (5,\n",
      "  '0.106*\"bolsonaro\" + 0.027*\"video\" + 0.026*\"agora\" + 0.022*\"muito\" + '\n",
      "  '0.021*\"presidente\" + 0.018*\"merda\" + 0.013*\"dps\" + 0.012*\"coisa\" + '\n",
      "  '0.009*\"familia\" + 0.008*\"deus\"'),\n",
      " (6,\n",
      "  '0.129*\"coronavirus\" + 0.024*\"novo\" + 0.015*\"desde\" + 0.011*\"presidente\" + '\n",
      "  '0.011*\"saber\" + 0.010*\"morte\" + 0.010*\"porque\" + 0.009*\"muito\" + '\n",
      "  '0.009*\"comecou\" + 0.008*\"fake\"'),\n",
      " (7,\n",
      "  '0.069*\"acabar\" + 0.063*\"quando\" + 0.028*\"depois\" + 0.026*\"casa\" + '\n",
      "  '0.024*\"logo\" + 0.020*\"passar\" + 0.013*\"preciso\" + 0.013*\"assim\" + '\n",
      "  '0.012*\"gente\" + 0.011*\"oq\"'),\n",
      " (8,\n",
      "  '0.033*\"nada\" + 0.032*\"nunca\" + 0.026*\"vida\" + 0.023*\"melhor\" + '\n",
      "  '0.016*\"pandemia\" + 0.016*\"coisa\" + 0.014*\"vez\" + 0.013*\"ano\" + 0.012*\"casa\" '\n",
      "  '+ 0.011*\"cada\"'),\n",
      " (9,\n",
      "  '0.077*\"pandemia\" + 0.028*\"coronavirus\" + 0.024*\"bolsonaro\" + '\n",
      "  '0.020*\"presidente\" + 0.019*\"governo\" + 0.018*\"meio\" + 0.017*\"cabelo\" + '\n",
      "  '0.016*\"povo\" + 0.014*\"fim\" + 0.012*\"isolamento\"')]\n"
     ]
    }
   ],
   "source": [
    "# Escolhe o modelo\n",
    "\n",
    "optimal_model = model_list[3]\n",
    "model_topics = optimal_model.show_topics(formatted=False)\n",
    "pprint(optimal_model.print_topics(num_words=10))"
   ]
  },
  {
   "cell_type": "code",
   "execution_count": 24,
   "metadata": {},
   "outputs": [],
   "source": [
    "# Encontrar qual o principal tópico em cada tweet\n",
    "\n",
    "def format_topics_sentences(ldamodel=lda_model, corpus=corpus, texts=lista):\n",
    "    # Output\n",
    "    sent_topics_df = pd.DataFrame()\n",
    "\n",
    "    # Seleciona o principal tópico de cada tweet\n",
    "    for i, row in enumerate(ldamodel[corpus]):\n",
    "        row = sorted(row, key=lambda x: (x[1]), reverse=True)\n",
    "        # Calcula o principal tópico, o percentual de contribuição e as palavras chaves de cada tweet\n",
    "        for j, (topic_num, prop_topic) in enumerate(row):\n",
    "            if j == 0:  # => mostra o principal tópico\n",
    "                wp = ldamodel.show_topic(topic_num)\n",
    "                topic_keywords = \", \".join([word for word, prop in wp])\n",
    "                sent_topics_df = sent_topics_df.append(pd.Series([int(topic_num), round(prop_topic,4), topic_keywords]), ignore_index=True)\n",
    "            else:\n",
    "                break\n",
    "    sent_topics_df.columns = ['Principal_Topico', 'Perc_Contributicao', 'Palavras_Chave']\n",
    "\n",
    "    # Inclui o texto original no final do DataFrame\n",
    "    contents = pd.Series(texts)\n",
    "    sent_topics_df = pd.concat([sent_topics_df, contents], axis=1)\n",
    "    return(sent_topics_df)"
   ]
  },
  {
   "cell_type": "code",
   "execution_count": 25,
   "metadata": {},
   "outputs": [],
   "source": [
    "# roda a função de calcular os principais tópicos de cada tweet\n",
    "\n",
    "df_topic_sents_keywords = format_topics_sentences(ldamodel=optimal_model, corpus=corpus, texts=lista)"
   ]
  },
  {
   "cell_type": "code",
   "execution_count": 26,
   "metadata": {},
   "outputs": [],
   "source": [
    "# Formata o DataFrame\n",
    "\n",
    "df_dominant_topic = df_topic_sents_keywords.reset_index()\n",
    "df_dominant_topic.columns = ['Index_DF_Original', 'Principal_Topico', 'Perc_Contrib_Topico', 'Palavras_Chave', 'Tweets']"
   ]
  },
  {
   "cell_type": "code",
   "execution_count": 27,
   "metadata": {
    "scrolled": true
   },
   "outputs": [
    {
     "data": {
      "text/html": [
       "<div>\n",
       "<style scoped>\n",
       "    .dataframe tbody tr th:only-of-type {\n",
       "        vertical-align: middle;\n",
       "    }\n",
       "\n",
       "    .dataframe tbody tr th {\n",
       "        vertical-align: top;\n",
       "    }\n",
       "\n",
       "    .dataframe thead th {\n",
       "        text-align: right;\n",
       "    }\n",
       "</style>\n",
       "<table border=\"1\" class=\"dataframe\">\n",
       "  <thead>\n",
       "    <tr style=\"text-align: right;\">\n",
       "      <th></th>\n",
       "      <th>Topico</th>\n",
       "      <th>Topico_Perc_Contrib</th>\n",
       "      <th>Palavras_Chave</th>\n",
       "      <th>Tweet</th>\n",
       "    </tr>\n",
       "  </thead>\n",
       "  <tbody>\n",
       "    <tr>\n",
       "      <th>0</th>\n",
       "      <td>0.0</td>\n",
       "      <td>0.9286</td>\n",
       "      <td>corona, virus, casa, mae, pegar, gente, deus, ...</td>\n",
       "      <td>[mainha, meu, oxe, casa, virus, nao, corona, b...</td>\n",
       "    </tr>\n",
       "    <tr>\n",
       "      <th>1</th>\n",
       "      <td>1.0</td>\n",
       "      <td>0.9400</td>\n",
       "      <td>bolsonaro, brasil, presidente, coronavirus, co...</td>\n",
       "      <td>[tres, novo, francisco, presidencia, president...</td>\n",
       "    </tr>\n",
       "    <tr>\n",
       "      <th>2</th>\n",
       "      <td>2.0</td>\n",
       "      <td>0.9307</td>\n",
       "      <td>agora, pandemia, casa, mil, menos, gente, temp...</td>\n",
       "      <td>[meio, deus, meu, algo, tu, aniver, menos, nao...</td>\n",
       "    </tr>\n",
       "    <tr>\n",
       "      <th>3</th>\n",
       "      <td>3.0</td>\n",
       "      <td>0.9400</td>\n",
       "      <td>saude, presidente, abril, coronavirus, mentira...</td>\n",
       "      <td>[vez, https, familias, tco, virus, voltar, bol...</td>\n",
       "    </tr>\n",
       "    <tr>\n",
       "      <th>4</th>\n",
       "      <td>4.0</td>\n",
       "      <td>0.9470</td>\n",
       "      <td>presidente, bolsonaro, alguem, coronavirus, lu...</td>\n",
       "      <td>[anime, me, https, manu, brasil, cu, carnaval,...</td>\n",
       "    </tr>\n",
       "    <tr>\n",
       "      <th>5</th>\n",
       "      <td>5.0</td>\n",
       "      <td>0.9357</td>\n",
       "      <td>bolsonaro, video, agora, muito, presidente, me...</td>\n",
       "      <td>[dinheiro, vigor, povo, chegar, piorar, bolson...</td>\n",
       "    </tr>\n",
       "    <tr>\n",
       "      <th>6</th>\n",
       "      <td>6.0</td>\n",
       "      <td>0.9357</td>\n",
       "      <td>coronavirus, novo, desde, presidente, saber, m...</td>\n",
       "      <td>[tarde, contratar, durar, combater, autoria, e...</td>\n",
       "    </tr>\n",
       "    <tr>\n",
       "      <th>7</th>\n",
       "      <td>7.0</td>\n",
       "      <td>0.9307</td>\n",
       "      <td>acabar, quando, depois, casa, logo, passar, pr...</td>\n",
       "      <td>[cama, tentar, sempre, voltar, guardar, arruma...</td>\n",
       "    </tr>\n",
       "    <tr>\n",
       "      <th>8</th>\n",
       "      <td>8.0</td>\n",
       "      <td>0.9357</td>\n",
       "      <td>nada, nunca, vida, melhor, pandemia, coisa, ve...</td>\n",
       "      <td>[aproveitar, oq, mal, realmente, me, ter, depo...</td>\n",
       "    </tr>\n",
       "    <tr>\n",
       "      <th>9</th>\n",
       "      <td>9.0</td>\n",
       "      <td>0.9357</td>\n",
       "      <td>pandemia, coronavirus, bolsonaro, presidente, ...</td>\n",
       "      <td>[federal, prejudicar, soltar, https, tco, povo...</td>\n",
       "    </tr>\n",
       "  </tbody>\n",
       "</table>\n",
       "</div>"
      ],
      "text/plain": [
       "   Topico  Topico_Perc_Contrib  \\\n",
       "0     0.0               0.9286   \n",
       "1     1.0               0.9400   \n",
       "2     2.0               0.9307   \n",
       "3     3.0               0.9400   \n",
       "4     4.0               0.9470   \n",
       "5     5.0               0.9357   \n",
       "6     6.0               0.9357   \n",
       "7     7.0               0.9307   \n",
       "8     8.0               0.9357   \n",
       "9     9.0               0.9357   \n",
       "\n",
       "                                      Palavras_Chave  \\\n",
       "0  corona, virus, casa, mae, pegar, gente, deus, ...   \n",
       "1  bolsonaro, brasil, presidente, coronavirus, co...   \n",
       "2  agora, pandemia, casa, mil, menos, gente, temp...   \n",
       "3  saude, presidente, abril, coronavirus, mentira...   \n",
       "4  presidente, bolsonaro, alguem, coronavirus, lu...   \n",
       "5  bolsonaro, video, agora, muito, presidente, me...   \n",
       "6  coronavirus, novo, desde, presidente, saber, m...   \n",
       "7  acabar, quando, depois, casa, logo, passar, pr...   \n",
       "8  nada, nunca, vida, melhor, pandemia, coisa, ve...   \n",
       "9  pandemia, coronavirus, bolsonaro, presidente, ...   \n",
       "\n",
       "                                               Tweet  \n",
       "0  [mainha, meu, oxe, casa, virus, nao, corona, b...  \n",
       "1  [tres, novo, francisco, presidencia, president...  \n",
       "2  [meio, deus, meu, algo, tu, aniver, menos, nao...  \n",
       "3  [vez, https, familias, tco, virus, voltar, bol...  \n",
       "4  [anime, me, https, manu, brasil, cu, carnaval,...  \n",
       "5  [dinheiro, vigor, povo, chegar, piorar, bolson...  \n",
       "6  [tarde, contratar, durar, combater, autoria, e...  \n",
       "7  [cama, tentar, sempre, voltar, guardar, arruma...  \n",
       "8  [aproveitar, oq, mal, realmente, me, ter, depo...  \n",
       "9  [federal, prejudicar, soltar, https, tco, povo...  "
      ]
     },
     "execution_count": 27,
     "metadata": {},
     "output_type": "execute_result"
    }
   ],
   "source": [
    "# Group top 5 sentences under each topic\n",
    "sent_topics_sorteddf_mallet = pd.DataFrame()\n",
    "\n",
    "sent_topics_outdf_grpd = df_topic_sents_keywords.groupby('Principal_Topico')\n",
    "\n",
    "for i, grp in sent_topics_outdf_grpd:\n",
    "    sent_topics_sorteddf_mallet = pd.concat([sent_topics_sorteddf_mallet, \n",
    "                                             grp.sort_values(['Perc_Contributicao'], ascending=[0]).head(1)], \n",
    "                                            axis=0)\n",
    "\n",
    "# Reset Index    \n",
    "sent_topics_sorteddf_mallet.reset_index(drop=True, inplace=True)\n",
    "\n",
    "# Format\n",
    "sent_topics_sorteddf_mallet.columns = ['Topico', \"Topico_Perc_Contrib\", \"Palavras_Chave\", \"Tweet\"]\n",
    "\n",
    "# Show\n",
    "sent_topics_sorteddf_mallet"
   ]
  },
  {
   "cell_type": "code",
   "execution_count": 28,
   "metadata": {},
   "outputs": [
    {
     "data": {
      "text/html": [
       "<div>\n",
       "<style scoped>\n",
       "    .dataframe tbody tr th:only-of-type {\n",
       "        vertical-align: middle;\n",
       "    }\n",
       "\n",
       "    .dataframe tbody tr th {\n",
       "        vertical-align: top;\n",
       "    }\n",
       "\n",
       "    .dataframe thead th {\n",
       "        text-align: right;\n",
       "    }\n",
       "</style>\n",
       "<table border=\"1\" class=\"dataframe\">\n",
       "  <thead>\n",
       "    <tr style=\"text-align: right;\">\n",
       "      <th></th>\n",
       "      <th>Principal_Topico</th>\n",
       "      <th>Palavras_Chave</th>\n",
       "      <th>Qtd_Tweets</th>\n",
       "      <th>Perc_Tweets</th>\n",
       "    </tr>\n",
       "  </thead>\n",
       "  <tbody>\n",
       "    <tr>\n",
       "      <th>0.0</th>\n",
       "      <td>9.0</td>\n",
       "      <td>pandemia, coronavirus, bolsonaro, presidente, ...</td>\n",
       "      <td>29555.0</td>\n",
       "      <td>0.1695</td>\n",
       "    </tr>\n",
       "    <tr>\n",
       "      <th>1.0</th>\n",
       "      <td>2.0</td>\n",
       "      <td>agora, pandemia, casa, mil, menos, gente, temp...</td>\n",
       "      <td>17969.0</td>\n",
       "      <td>0.1030</td>\n",
       "    </tr>\n",
       "    <tr>\n",
       "      <th>2.0</th>\n",
       "      <td>7.0</td>\n",
       "      <td>acabar, quando, depois, casa, logo, passar, pr...</td>\n",
       "      <td>14943.0</td>\n",
       "      <td>0.0857</td>\n",
       "    </tr>\n",
       "    <tr>\n",
       "      <th>3.0</th>\n",
       "      <td>0.0</td>\n",
       "      <td>corona, virus, casa, mae, pegar, gente, deus, ...</td>\n",
       "      <td>11393.0</td>\n",
       "      <td>0.0653</td>\n",
       "    </tr>\n",
       "    <tr>\n",
       "      <th>4.0</th>\n",
       "      <td>2.0</td>\n",
       "      <td>agora, pandemia, casa, mil, menos, gente, temp...</td>\n",
       "      <td>15180.0</td>\n",
       "      <td>0.0870</td>\n",
       "    </tr>\n",
       "    <tr>\n",
       "      <th>...</th>\n",
       "      <td>...</td>\n",
       "      <td>...</td>\n",
       "      <td>...</td>\n",
       "      <td>...</td>\n",
       "    </tr>\n",
       "    <tr>\n",
       "      <th>174407.0</th>\n",
       "      <td>0.0</td>\n",
       "      <td>corona, virus, casa, mae, pegar, gente, deus, ...</td>\n",
       "      <td>NaN</td>\n",
       "      <td>NaN</td>\n",
       "    </tr>\n",
       "    <tr>\n",
       "      <th>174408.0</th>\n",
       "      <td>9.0</td>\n",
       "      <td>pandemia, coronavirus, bolsonaro, presidente, ...</td>\n",
       "      <td>NaN</td>\n",
       "      <td>NaN</td>\n",
       "    </tr>\n",
       "    <tr>\n",
       "      <th>174409.0</th>\n",
       "      <td>1.0</td>\n",
       "      <td>bolsonaro, brasil, presidente, coronavirus, co...</td>\n",
       "      <td>NaN</td>\n",
       "      <td>NaN</td>\n",
       "    </tr>\n",
       "    <tr>\n",
       "      <th>174410.0</th>\n",
       "      <td>7.0</td>\n",
       "      <td>acabar, quando, depois, casa, logo, passar, pr...</td>\n",
       "      <td>NaN</td>\n",
       "      <td>NaN</td>\n",
       "    </tr>\n",
       "    <tr>\n",
       "      <th>174411.0</th>\n",
       "      <td>1.0</td>\n",
       "      <td>bolsonaro, brasil, presidente, coronavirus, co...</td>\n",
       "      <td>NaN</td>\n",
       "      <td>NaN</td>\n",
       "    </tr>\n",
       "  </tbody>\n",
       "</table>\n",
       "<p>174412 rows × 4 columns</p>\n",
       "</div>"
      ],
      "text/plain": [
       "          Principal_Topico                                     Palavras_Chave  \\\n",
       "0.0                    9.0  pandemia, coronavirus, bolsonaro, presidente, ...   \n",
       "1.0                    2.0  agora, pandemia, casa, mil, menos, gente, temp...   \n",
       "2.0                    7.0  acabar, quando, depois, casa, logo, passar, pr...   \n",
       "3.0                    0.0  corona, virus, casa, mae, pegar, gente, deus, ...   \n",
       "4.0                    2.0  agora, pandemia, casa, mil, menos, gente, temp...   \n",
       "...                    ...                                                ...   \n",
       "174407.0               0.0  corona, virus, casa, mae, pegar, gente, deus, ...   \n",
       "174408.0               9.0  pandemia, coronavirus, bolsonaro, presidente, ...   \n",
       "174409.0               1.0  bolsonaro, brasil, presidente, coronavirus, co...   \n",
       "174410.0               7.0  acabar, quando, depois, casa, logo, passar, pr...   \n",
       "174411.0               1.0  bolsonaro, brasil, presidente, coronavirus, co...   \n",
       "\n",
       "          Qtd_Tweets  Perc_Tweets  \n",
       "0.0          29555.0       0.1695  \n",
       "1.0          17969.0       0.1030  \n",
       "2.0          14943.0       0.0857  \n",
       "3.0          11393.0       0.0653  \n",
       "4.0          15180.0       0.0870  \n",
       "...              ...          ...  \n",
       "174407.0         NaN          NaN  \n",
       "174408.0         NaN          NaN  \n",
       "174409.0         NaN          NaN  \n",
       "174410.0         NaN          NaN  \n",
       "174411.0         NaN          NaN  \n",
       "\n",
       "[174412 rows x 4 columns]"
      ]
     },
     "execution_count": 28,
     "metadata": {},
     "output_type": "execute_result"
    }
   ],
   "source": [
    "# Numero de tweets por topico\n",
    "\n",
    "topic_counts = df_topic_sents_keywords['Principal_Topico'].value_counts()\n",
    "\n",
    "# Porcentagem de tweets por tópico\n",
    "topic_contribution = round(topic_counts/topic_counts.sum(), 4)\n",
    "\n",
    "# Número do tópico e suas palavras chave\n",
    "topic_num_keywords = df_topic_sents_keywords[['Principal_Topico', 'Palavras_Chave']]\n",
    "\n",
    "# Concatena as colunas\n",
    "df_dominant_topics = pd.concat([topic_num_keywords, topic_counts, topic_contribution], axis=1)\n",
    "\n",
    "# Renomeia as colunas\n",
    "df_dominant_topics.columns = ['Principal_Topico', 'Palavras_Chave', 'Qtd_Tweets', 'Perc_Tweets']\n",
    "\n",
    "# Mostra o DataFrame\n",
    "df_dominant_topics"
   ]
  },
  {
   "cell_type": "code",
   "execution_count": 29,
   "metadata": {},
   "outputs": [
    {
     "data": {
      "image/png": "[encoded data removed]",
      "text/plain": [
       "<Figure size 720x720 with 6 Axes>"
      ]
     },
     "metadata": {
      "needs_background": "light"
     },
     "output_type": "display_data"
    }
   ],
   "source": [
    "# Cria wordclouds\n",
    "\n",
    "cols = [color for name, color in mcolors.XKCD_COLORS.items()]\n",
    "\n",
    "cloud = WordCloud(stopwords=stop_words,\n",
    "                  background_color='white',\n",
    "                  width=2500,\n",
    "                  height=1800,\n",
    "                  max_words=10,\n",
    "                  colormap='tab10',\n",
    "                  color_func=lambda *args, **kwargs: cols[i],\n",
    "                  prefer_horizontal=1.0)\n",
    "\n",
    "topics = lda_model.show_topics(formatted=False)\n",
    "\n",
    "fig, axes = plt.subplots(3, 2, figsize=(10,10), sharex=True, sharey=True)\n",
    "\n",
    "for i, ax in enumerate(axes.flatten()):\n",
    "    fig.add_subplot(ax)\n",
    "    topic_words = dict(topics[i][1])\n",
    "    cloud.generate_from_frequencies(topic_words, max_font_size=300)\n",
    "    plt.gca().imshow(cloud)\n",
    "    plt.gca().set_title('Topic ' + str(i), fontdict=dict(size=16))\n",
    "    plt.gca().axis('off')\n",
    "\n",
    "\n",
    "plt.subplots_adjust(wspace=0, hspace=0)\n",
    "plt.axis('off')\n",
    "plt.margins(x=0, y=0)\n",
    "plt.tight_layout()\n",
    "plt.show()"
   ]
  },
  {
   "cell_type": "code",
   "execution_count": null,
   "metadata": {},
   "outputs": [],
   "source": []
  }
 ],
 "metadata": {
  "kernelspec": {
   "display_name": "Python 3",
   "language": "python",
   "name": "python3"
  },
  "language_info": {
   "codemirror_mode": {
    "name": "ipython",
    "version": 3
   },
   "file_extension": ".py",
   "mimetype": "text/x-python",
   "name": "python",
   "nbconvert_exporter": "python",
   "pygments_lexer": "ipython3",
   "version": "3.7.6"
  }
 },
 "nbformat": 4,
 "nbformat_minor": 1
}
