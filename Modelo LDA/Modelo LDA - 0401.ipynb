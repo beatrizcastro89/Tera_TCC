{
 "cells": [
  {
   "cell_type": "markdown",
   "metadata": {
    "collapsed": true
   },
   "source": [
    "Análise do dia 01/04 através do modelo LDA."
   ]
  },
  {
   "cell_type": "code",
   "execution_count": 1,
   "metadata": {},
   "outputs": [],
   "source": [
    "# Importar bibliotecas\n",
    "\n",
    "# gerais\n",
    "import sys\n",
    "import os\n",
    "from pathlib import Path\n",
    "import re\n",
    "import numpy as np\n",
    "import pandas as pd\n",
    "from pprint import pprint\n",
    "from tqdm import tqdm\n",
    "from ast import literal_eval\n",
    "\n",
    "# Gensim\n",
    "import gensim, spacy, logging, warnings\n",
    "import gensim.corpora as corpora\n",
    "from gensim.utils import lemmatize, simple_preprocess\n",
    "from gensim.models import CoherenceModel\n",
    "from gensim.models.ldamulticore import LdaMulticore\n",
    "\n",
    "# NLTK Stop words\n",
    "import nltk\n",
    "from nltk.corpus import stopwords\n",
    "\n",
    "# sklearn\n",
    "from sklearn.feature_extraction.text import CountVectorizer\n",
    "\n",
    "#plot\n",
    "import pyLDAvis\n",
    "import pyLDAvis.gensim\n",
    "import matplotlib.pyplot as plt\n",
    "import matplotlib.colors as mcolors\n",
    "%matplotlib inline\n",
    "from wordcloud import WordCloud, STOPWORDS"
   ]
  },
  {
   "cell_type": "markdown",
   "metadata": {},
   "source": [
    "# Preparação dos dados"
   ]
  },
  {
   "cell_type": "code",
   "execution_count": 2,
   "metadata": {},
   "outputs": [],
   "source": [
    "# import dos dados\n",
    "\n",
    "df = pd.read_csv('0104_preprocessado.csv')"
   ]
  },
  {
   "cell_type": "code",
   "execution_count": 3,
   "metadata": {},
   "outputs": [],
   "source": [
    "# função para reverter os tokens processados em lista de tuples\n",
    "\n",
    "def strip_characters(text):\n",
    "    t = re.sub(r'\\(|\\)|:|,|;|\\.|’|”|“|\\?|%|>|<|\\[|\\]', '', text)\n",
    "    t = re.sub(r'/', ' ', t)\n",
    "    t = t.replace(\"'\",'')\n",
    "    return t"
   ]
  },
  {
   "cell_type": "code",
   "execution_count": 4,
   "metadata": {},
   "outputs": [],
   "source": [
    "# aplica função em todos os tokens\n",
    "\n",
    "df['token3'] = df['token3'].apply(lambda x: strip_characters(x))\n",
    "df['token3'] = df['token3'].apply(lambda x: str(x).split(' '))"
   ]
  },
  {
   "cell_type": "code",
   "execution_count": 5,
   "metadata": {},
   "outputs": [],
   "source": [
    "texto = list(df.token3)"
   ]
  },
  {
   "cell_type": "markdown",
   "metadata": {},
   "source": [
    "# Modelagem"
   ]
  },
  {
   "cell_type": "code",
   "execution_count": 6,
   "metadata": {},
   "outputs": [],
   "source": [
    "# Criar dicionário\n",
    "\n",
    "id2word = corpora.Dictionary(texto)"
   ]
  },
  {
   "cell_type": "code",
   "execution_count": 7,
   "metadata": {},
   "outputs": [],
   "source": [
    "# Criar o Corpus: A Frequência das palavras nos documentos\n",
    "\n",
    "corpus = [id2word.doc2bow(text) for text in texto]"
   ]
  },
  {
   "cell_type": "code",
   "execution_count": 8,
   "metadata": {},
   "outputs": [],
   "source": [
    "# Função para determinar a melhor quantidade de tópicos para a modelagem\n",
    "\n",
    "def compute_coherence_values(dictionary, corpus, texts, limit, start=2, step=5):\n",
    "    coherence_values = []\n",
    "    model_list = []\n",
    "    for num_topics in tqdm(range(start, limit, step)):\n",
    "        model = LdaMulticore(corpus, id2word=id2word, num_topics=10)\n",
    "        model_list.append(model)\n",
    "        coherencemodel = CoherenceModel(model=model, texts=texts, dictionary=dictionary, coherence='c_v')\n",
    "        coherence_values.append(coherencemodel.get_coherence())\n",
    "\n",
    "    return model_list, coherence_values"
   ]
  },
  {
   "cell_type": "code",
   "execution_count": 9,
   "metadata": {},
   "outputs": [
    {
     "name": "stderr",
     "output_type": "stream",
     "text": [
      "100%|██████████████████████████████████████████████████████████████████████████████████| 14/14 [10:32<00:00, 45.20s/it]\n"
     ]
    }
   ],
   "source": [
    "# Colocando parametros na função\n",
    "\n",
    "model_list, coherence_values = compute_coherence_values(dictionary=id2word, corpus=corpus, texts=texto, start=2, limit=30, step=2)"
   ]
  },
  {
   "cell_type": "code",
   "execution_count": 10,
   "metadata": {},
   "outputs": [
    {
     "data": {
      "image/png": "[encoded data removed]",
      "text/plain": [
       "<Figure size 432x288 with 1 Axes>"
      ]
     },
     "metadata": {
      "needs_background": "light"
     },
     "output_type": "display_data"
    }
   ],
   "source": [
    "# Mostrando visualmente a quantidade de tópicos\n",
    "\n",
    "limit=30; start=2; step=2;\n",
    "x = range(start, limit, step)\n",
    "plt.plot(x, coherence_values)\n",
    "plt.xlabel(\"Num Tópicos\")\n",
    "plt.ylabel(\"Score de Coerência\")\n",
    "plt.legend((\"Valores de Coerência\"), loc='best')\n",
    "plt.show()"
   ]
  },
  {
   "cell_type": "code",
   "execution_count": 11,
   "metadata": {},
   "outputs": [
    {
     "name": "stdout",
     "output_type": "stream",
     "text": [
      "A quantidade de tópicos = 2  tem um valor de coerência de  0.3189\n",
      "A quantidade de tópicos = 4  tem um valor de coerência de  0.318\n",
      "A quantidade de tópicos = 6  tem um valor de coerência de  0.3212\n",
      "A quantidade de tópicos = 8  tem um valor de coerência de  0.3237\n",
      "A quantidade de tópicos = 10  tem um valor de coerência de  0.3018\n",
      "A quantidade de tópicos = 12  tem um valor de coerência de  0.3375\n",
      "A quantidade de tópicos = 14  tem um valor de coerência de  0.3353\n",
      "A quantidade de tópicos = 16  tem um valor de coerência de  0.2822\n",
      "A quantidade de tópicos = 18  tem um valor de coerência de  0.3326\n",
      "A quantidade de tópicos = 20  tem um valor de coerência de  0.3178\n",
      "A quantidade de tópicos = 22  tem um valor de coerência de  0.3164\n",
      "A quantidade de tópicos = 24  tem um valor de coerência de  0.3221\n",
      "A quantidade de tópicos = 26  tem um valor de coerência de  0.3172\n",
      "A quantidade de tópicos = 28  tem um valor de coerência de  0.3157\n"
     ]
    }
   ],
   "source": [
    "# Lista dos valores de coerência, para melhor identificar o ponto de inflexão do gráfico\n",
    "\n",
    "for m, cv in zip(x, coherence_values):\n",
    "    print(\"A quantidade de tópicos =\", m, \" tem um valor de coerência de \", round(cv, 4))"
   ]
  },
  {
   "cell_type": "markdown",
   "metadata": {},
   "source": [
    "Aqui conseguimos determinar a melhor quantidade de tópicos a serem analisados, que é 8 tópicos"
   ]
  },
  {
   "cell_type": "code",
   "execution_count": 16,
   "metadata": {},
   "outputs": [],
   "source": [
    "# Vamos agora construir de fato o modelo LDA\n",
    "\n",
    "lda_model = LdaMulticore(corpus=corpus,\n",
    "                        id2word=id2word,\n",
    "                        num_topics=3, \n",
    "                        random_state=42,\n",
    "                        chunksize=100,\n",
    "                        passes=10,\n",
    "                        per_word_topics=True,\n",
    "                        alpha = 0.9,\n",
    "                        eta = 0.3)"
   ]
  },
  {
   "cell_type": "code",
   "execution_count": 17,
   "metadata": {},
   "outputs": [
    {
     "name": "stdout",
     "output_type": "stream",
     "text": [
      "\n",
      "Perplexidade:  -7.1403837033588\n"
     ]
    }
   ],
   "source": [
    "# Computar a perplexidade do modelo (quanto menor, melhor)\n",
    "\n",
    "print('\\nPerplexidade: ', lda_model.log_perplexity(corpus))"
   ]
  },
  {
   "cell_type": "code",
   "execution_count": 18,
   "metadata": {},
   "outputs": [
    {
     "name": "stdout",
     "output_type": "stream",
     "text": [
      "\n",
      "Score de Coerência:  0.3593261037029136\n"
     ]
    }
   ],
   "source": [
    "# Computar o Score de Coerência\n",
    "\n",
    "coherence_model_lda = CoherenceModel(model=lda_model, texts=texto, dictionary=id2word, coherence='c_v')\n",
    "coherence_lda = coherence_model_lda.get_coherence()\n",
    "print('\\nScore de Coerência: ', coherence_lda)"
   ]
  },
  {
   "cell_type": "code",
   "execution_count": 19,
   "metadata": {},
   "outputs": [
    {
     "data": {
      "text/html": [
       "\n",
       "<link rel=\"stylesheet\" type=\"text/css\" href=\"https://cdn.rawgit.com/bmabey/pyLDAvis/files/ldavis.v1.0.0.css\">\n",
       "\n",
       "\n",
       "<div id=\"ldavis_el2132018164626243288531162695\"></div>\n",
       "<script type=\"text/javascript\">\n",
       "\n",
       "var ldavis_el2132018164626243288531162695_data = {\"mdsDat\": {\"x\": [-0.17115090782404943, -0.2173753456412172, 0.3885262534652666], \"y\": [-0.34392173364116263, 0.3176838283210387, 0.026237905320124044], \"topics\": [1, 2, 3], \"cluster\": [1, 1, 1], \"Freq\": [36.94929504394531, 31.82567596435547, 31.225019454956055]}, \"tinfo\": {\"Term\": [\"bolsonaro\", \"presidente\", \"\", \"pandemia\", \"casa\", \"quando\", \"agora\", \"gente\", \"acabar\", \"nem\", \"brasil\", \"depois\", \"muito\", \"nada\", \"coisa\", \"mundo\", \"sair\", \"vida\", \"passar\", \"contra\", \"governo\", \"tempo\", \"nunca\", \"ir\", \"povo\", \"deus\", \"novo\", \"mae\", \"tambem\", \"logo\", \"presidente\", \"pandemia\", \"brasil\", \"muito\", \"mundo\", \"contra\", \"povo\", \"governo\", \"novo\", \"deus\", \"saude\", \"melhor\", \"meio\", \"porque\", \"crise\", \"sim\", \"dinheiro\", \"momento\", \"ha\", \"trabalho\", \"isolamento\", \"pois\", \"lula\", \"grande\", \"verdade\", \"ninguem\", \"cada\", \"maior\", \"desde\", \"pessoa\", \"\", \"casa\", \"quando\", \"gente\", \"acabar\", \"nem\", \"nada\", \"sair\", \"vida\", \"ir\", \"nunca\", \"tempo\", \"logo\", \"bom\", \"primeiro\", \"tanto\", \"alguem\", \"tava\", \"ano\", \"fim\", \"voltar\", \"pai\", \"pegar\", \"preciso\", \"tarde\", \"mes\", \"final\", \"vontade\", \"tomar\", \"comer\", \"medo\", \"poder\", \"bolsonaro\", \"agora\", \"depois\", \"coisa\", \"mae\", \"tambem\", \"falar\", \"video\", \"merda\", \"cabelo\", \"vez\", \"bbb\", \"menos\", \"familia\", \"hora\", \"sempre\", \"semana\", \"qual\", \"globo\", \"mal\", \"morrer\", \"prior\", \"ontem\", \"deixar\", \"morte\", \"bolsonaroday\", \"volta\", \"algo\", \"dois\", \"igual\", \"passar\"], \"Freq\": [21614.0, 17695.0, 11840.0, 10727.0, 7793.0, 6627.0, 6337.0, 6423.0, 5891.0, 5508.0, 5449.0, 4645.0, 4572.0, 3932.0, 3668.0, 4139.0, 3347.0, 2949.0, 2889.0, 3303.0, 3290.0, 2859.0, 2821.0, 2783.0, 3172.0, 3034.0, 2944.0, 2517.0, 2445.0, 2371.0, 17694.44921875, 10726.595703125, 5448.63330078125, 4571.41796875, 4138.6826171875, 3302.376953125, 3171.89208984375, 3289.8583984375, 2944.302490234375, 3034.013916015625, 2683.216796875, 2391.9130859375, 2305.697021484375, 2298.56494140625, 2159.921630859375, 2237.163330078125, 1847.591552734375, 1592.20166015625, 1619.242431640625, 1511.64501953125, 1407.265869140625, 1494.2646484375, 1476.6614990234375, 1419.303466796875, 1423.7352294921875, 1467.486572265625, 1406.1796875, 1366.1390380859375, 1421.458740234375, 1415.5018310546875, 11840.08984375, 7792.9189453125, 6626.681640625, 6422.5595703125, 5891.29541015625, 5507.56201171875, 3931.7314453125, 3346.883544921875, 2949.15478515625, 2782.966552734375, 2821.2646484375, 2858.8720703125, 2370.71533203125, 2140.93115234375, 2142.718505859375, 1901.347900390625, 1911.442138671875, 1818.781982421875, 1774.466796875, 1703.94482421875, 1562.0413818359375, 1602.2449951171875, 1476.349609375, 1374.3470458984375, 1434.843994140625, 1260.0162353515625, 1200.98779296875, 1166.09228515625, 1153.6654052734375, 1081.0135498046875, 1114.549560546875, 1203.435302734375, 21613.533203125, 6337.34716796875, 4644.86181640625, 3667.992431640625, 2516.398193359375, 2444.762939453125, 2236.25390625, 2044.44287109375, 2046.8172607421875, 1990.9124755859375, 1995.19287109375, 1817.2781982421875, 1831.824462890625, 1804.7008056640625, 1732.2806396484375, 1589.60791015625, 1591.0294189453125, 1497.0311279296875, 1416.7742919921875, 1325.319580078125, 1319.89892578125, 1182.5816650390625, 1225.2696533203125, 1187.7542724609375, 1160.9326171875, 1147.3333740234375, 1125.986328125, 1058.7313232421875, 1033.2947998046875, 1038.466064453125, 2884.422119140625], \"Total\": [21614.0, 17695.0, 11840.0, 10727.0, 7793.0, 6627.0, 6337.0, 6423.0, 5891.0, 5508.0, 5449.0, 4645.0, 4572.0, 3932.0, 3668.0, 4139.0, 3347.0, 2949.0, 2889.0, 3303.0, 3290.0, 2859.0, 2821.0, 2783.0, 3172.0, 3034.0, 2944.0, 2517.0, 2445.0, 2371.0, 17695.1015625, 10727.25390625, 5449.27099609375, 4572.10888671875, 4139.36181640625, 3303.029052734375, 3172.54833984375, 3290.563720703125, 2944.9521484375, 3034.689453125, 2683.8466796875, 2392.58740234375, 2306.36328125, 2299.241943359375, 2160.56005859375, 2237.839111328125, 1848.2596435546875, 1592.8441162109375, 1619.9049072265625, 1512.3211669921875, 1407.9046630859375, 1494.949951171875, 1477.3394775390625, 1419.96728515625, 1424.4039306640625, 1468.17724609375, 1406.8565673828125, 1366.803955078125, 1422.156005859375, 1416.196533203125, 11840.6748046875, 7793.53271484375, 6627.2998046875, 6423.18798828125, 5891.89111328125, 5508.19677734375, 3932.385986328125, 3347.49560546875, 2949.784912109375, 2783.56787109375, 2821.89990234375, 2859.52490234375, 2371.322021484375, 2141.572998046875, 2143.362060546875, 1901.9625244140625, 1912.073486328125, 1819.3941650390625, 1775.10205078125, 1704.58251953125, 1562.66357421875, 1602.888916015625, 1476.9677734375, 1374.9599609375, 1435.490478515625, 1260.64599609375, 1201.6060791015625, 1166.703125, 1154.2767333984375, 1081.6119384765625, 1115.1898193359375, 1608.1114501953125, 21614.15625, 6337.97802734375, 4645.49169921875, 3668.62353515625, 2517.0361328125, 2445.400390625, 2236.880615234375, 2045.06005859375, 2047.44287109375, 1991.5274658203125, 1995.8206787109375, 1817.8961181640625, 1832.452880859375, 1805.3211669921875, 1732.923095703125, 1590.2451171875, 1591.670654296875, 1497.6590576171875, 1417.38818359375, 1325.9427490234375, 1320.53662109375, 1183.1768798828125, 1225.9033203125, 1188.383544921875, 1161.5634765625, 1147.9609375, 1126.6234130859375, 1059.3641357421875, 1033.917724609375, 1039.093505859375, 2889.093017578125], \"Category\": [\"Default\", \"Default\", \"Default\", \"Default\", \"Default\", \"Default\", \"Default\", \"Default\", \"Default\", \"Default\", \"Default\", \"Default\", \"Default\", \"Default\", \"Default\", \"Default\", \"Default\", \"Default\", \"Default\", \"Default\", \"Default\", \"Default\", \"Default\", \"Default\", \"Default\", \"Default\", \"Default\", \"Default\", \"Default\", \"Default\", \"Topic1\", \"Topic1\", \"Topic1\", \"Topic1\", \"Topic1\", \"Topic1\", \"Topic1\", \"Topic1\", \"Topic1\", \"Topic1\", \"Topic1\", \"Topic1\", \"Topic1\", \"Topic1\", \"Topic1\", \"Topic1\", \"Topic1\", \"Topic1\", \"Topic1\", \"Topic1\", \"Topic1\", \"Topic1\", \"Topic1\", \"Topic1\", \"Topic1\", \"Topic1\", \"Topic1\", \"Topic1\", \"Topic1\", \"Topic1\", \"Topic2\", \"Topic2\", \"Topic2\", \"Topic2\", \"Topic2\", \"Topic2\", \"Topic2\", \"Topic2\", \"Topic2\", \"Topic2\", \"Topic2\", \"Topic2\", \"Topic2\", \"Topic2\", \"Topic2\", \"Topic2\", \"Topic2\", \"Topic2\", \"Topic2\", \"Topic2\", \"Topic2\", \"Topic2\", \"Topic2\", \"Topic2\", \"Topic2\", \"Topic2\", \"Topic2\", \"Topic2\", \"Topic2\", \"Topic2\", \"Topic2\", \"Topic2\", \"Topic3\", \"Topic3\", \"Topic3\", \"Topic3\", \"Topic3\", \"Topic3\", \"Topic3\", \"Topic3\", \"Topic3\", \"Topic3\", \"Topic3\", \"Topic3\", \"Topic3\", \"Topic3\", \"Topic3\", \"Topic3\", \"Topic3\", \"Topic3\", \"Topic3\", \"Topic3\", \"Topic3\", \"Topic3\", \"Topic3\", \"Topic3\", \"Topic3\", \"Topic3\", \"Topic3\", \"Topic3\", \"Topic3\", \"Topic3\", \"Topic3\"], \"logprob\": [30.0, 29.0, 28.0, 27.0, 26.0, 25.0, 24.0, 23.0, 22.0, 21.0, 20.0, 19.0, 18.0, 17.0, 16.0, 15.0, 14.0, 13.0, 12.0, 11.0, 10.0, 9.0, 8.0, 7.0, 6.0, 5.0, 4.0, 3.0, 2.0, 1.0, -2.718600034713745, -3.2191998958587646, -3.8965001106262207, -4.0721001625061035, -4.171500205993652, -4.397299766540527, -4.437600135803223, -4.401100158691406, -4.51200008392334, -4.48199987411499, -4.604899883270264, -4.719799995422363, -4.756499767303467, -4.7596001625061035, -4.821800231933594, -4.7866997718811035, -4.978000164031982, -5.126800060272217, -5.109899997711182, -5.178699970245361, -5.250199794769287, -5.190299987792969, -5.202099800109863, -5.241700172424316, -5.23859977722168, -5.2083001136779785, -5.250999927520752, -5.279900074005127, -5.240200042724609, -5.2444000244140625, -2.971100091934204, -3.389400005340576, -3.551500082015991, -3.5827999114990234, -3.669100046157837, -3.7365000247955322, -4.073500156402588, -4.234600067138672, -4.361100196838379, -4.419099807739258, -4.405399799346924, -4.392199993133545, -4.579400062561035, -4.681399822235107, -4.680500030517578, -4.800099849700928, -4.7947998046875, -4.8445000648498535, -4.869100093841553, -4.9096999168396, -4.996600151062012, -4.971199989318848, -5.053100109100342, -5.124599933624268, -5.081600189208984, -5.21150016784668, -5.259500026702881, -5.289000034332275, -5.299699783325195, -5.364699840545654, -5.334199905395508, -5.257400035858154, -2.3503000736236572, -3.5771000385284424, -3.8877999782562256, -4.123899936676025, -4.500699996948242, -4.529600143432617, -4.618800163269043, -4.708399772644043, -4.707300186157227, -4.735000133514404, -4.732800006866455, -4.826200008392334, -4.818299770355225, -4.833199977874756, -4.874100208282471, -4.960100173950195, -4.959199905395508, -5.020100116729736, -5.075200080871582, -5.141900062561035, -5.145999908447266, -5.255899906158447, -5.220399856567383, -5.251500129699707, -5.2743000984191895, -5.286099910736084, -5.304900169372559, -5.366499900817871, -5.3907999992370605, -5.385799884796143, -4.364200115203857], \"loglift\": [30.0, 29.0, 28.0, 27.0, 26.0, 25.0, 24.0, 23.0, 22.0, 21.0, 20.0, 19.0, 18.0, 17.0, 16.0, 15.0, 14.0, 13.0, 12.0, 11.0, 10.0, 9.0, 8.0, 7.0, 6.0, 5.0, 4.0, 3.0, 2.0, 1.0, 0.9955999851226807, 0.9955999851226807, 0.9955000281333923, 0.9955000281333923, 0.9955000281333923, 0.9954000115394592, 0.9954000115394592, 0.9954000115394592, 0.9954000115394592, 0.9954000115394592, 0.9954000115394592, 0.9952999949455261, 0.9952999949455261, 0.9952999949455261, 0.9952999949455261, 0.9952999949455261, 0.9952999949455261, 0.995199978351593, 0.995199978351593, 0.995199978351593, 0.995199978351593, 0.995199978351593, 0.995199978351593, 0.995199978351593, 0.995199978351593, 0.995199978351593, 0.9951000213623047, 0.9951000213623047, 0.9951000213623047, 0.9951000213623047, 1.1447999477386475, 1.1447999477386475, 1.1447999477386475, 1.1447999477386475, 1.1447999477386475, 1.1447999477386475, 1.144700050354004, 1.144700050354004, 1.144700050354004, 1.144700050354004, 1.144700050354004, 1.144700050354004, 1.1446000337600708, 1.1446000337600708, 1.1446000337600708, 1.1446000337600708, 1.1446000337600708, 1.1446000337600708, 1.1445000171661377, 1.1445000171661377, 1.1445000171661377, 1.1445000171661377, 1.1445000171661377, 1.1445000171661377, 1.1444000005722046, 1.1444000005722046, 1.1444000005722046, 1.1444000005722046, 1.1444000005722046, 1.1442999839782715, 1.1442999839782715, 0.8550000190734863, 1.1639000177383423, 1.1639000177383423, 1.1638000011444092, 1.1638000011444092, 1.163699984550476, 1.163699984550476, 1.163699984550476, 1.163599967956543, 1.163599967956543, 1.163599967956543, 1.163599967956543, 1.163599967956543, 1.163599967956543, 1.163599967956543, 1.163599967956543, 1.1634999513626099, 1.1634999513626099, 1.1634999513626099, 1.1634999513626099, 1.1634999513626099, 1.1634999513626099, 1.1634000539779663, 1.1634000539779663, 1.1634000539779663, 1.1634000539779663, 1.1634000539779663, 1.1634000539779663, 1.1634000539779663, 1.1633000373840332, 1.1633000373840332, 1.1622999906539917]}, \"token.table\": {\"Topic\": [2, 2, 3, 3, 2, 2, 3, 3, 3, 2, 1, 3, 1, 2, 3, 2, 1, 1, 3, 3, 1, 1, 1, 3, 3, 3, 2, 2, 2, 3, 1, 1, 1, 3, 3, 2, 1, 2, 1, 3, 1, 3, 2, 1, 1, 3, 3, 2, 1, 3, 3, 1, 1, 2, 2, 1, 1, 2, 3, 2, 1, 2, 3, 2, 1, 1, 2, 1, 1, 1, 2, 1, 2, 3, 3, 2, 2, 1, 3, 3, 1, 3, 2, 2, 2, 2, 2, 1, 1, 3, 2, 3, 3, 2, 2], \"Freq\": [0.9999430179595947, 0.9998487830162048, 0.9998456835746765, 0.9996562600135803, 0.9994385838508606, 0.9993791580200195, 0.9995070695877075, 0.9999927878379822, 0.9991629123687744, 0.9997324347496033, 0.9999502897262573, 0.9997351169586182, 0.9993911385536194, 0.9999316334724426, 0.9998300075531006, 0.999434232711792, 0.999688446521759, 0.9997407793998718, 0.9996772408485413, 0.9998941421508789, 0.999187171459198, 0.9997727870941162, 0.9998595118522644, 0.9991123676300049, 0.9996063113212585, 0.9998220801353455, 0.9996582865715027, 0.9994956254959106, 0.9999707341194153, 0.9997261166572571, 0.9998286962509155, 0.9993187785148621, 0.999441385269165, 0.9994673132896423, 0.9989476203918457, 0.9997959733009338, 0.9993574619293213, 0.9998642206192017, 0.9997702240943909, 0.9995883703231812, 0.9994118213653564, 0.9992889761924744, 0.9998297691345215, 0.9998424649238586, 0.9997544884681702, 0.9997528791427612, 0.9997836947441101, 0.999487578868866, 0.999470055103302, 0.9995936155319214, 0.9995148777961731, 0.9997574687004089, 0.9999126195907593, 0.9999018311500549, 0.9999642968177795, 0.9991981387138367, 0.9996767044067383, 0.9996811151504517, 0.9992631673812866, 0.9994454383850098, 0.9999763369560242, 0.0013845175271853805, 0.998237133026123, 0.9993447661399841, 0.9998612403869629, 0.25122636556625366, 0.7480824589729309, 0.9993645548820496, 0.9998947978019714, 0.9998271465301514, 0.9993018507957458, 0.9999377727508545, 0.9998310804367065, 0.9998505115509033, 0.9995599389076233, 0.9999547600746155, 0.9998519420623779, 0.9996845126152039, 0.9995786547660828, 0.9998458623886108, 0.999625027179718, 0.999836266040802, 0.9994939565658569, 0.9996583461761475, 0.9997833371162415, 0.9998164176940918, 0.9997602701187134, 0.9997876286506653, 0.9997164011001587, 0.9995887875556946, 0.9997339248657227, 0.9994816780090332, 0.9994466304779053, 0.9995753765106201, 0.999397337436676], \"Term\": [\"\", \"acabar\", \"agora\", \"algo\", \"alguem\", \"ano\", \"bbb\", \"bolsonaro\", \"bolsonaroday\", \"bom\", \"brasil\", \"cabelo\", \"cada\", \"casa\", \"coisa\", \"comer\", \"contra\", \"crise\", \"deixar\", \"depois\", \"desde\", \"deus\", \"dinheiro\", \"dois\", \"falar\", \"familia\", \"fim\", \"final\", \"gente\", \"globo\", \"governo\", \"grande\", \"ha\", \"hora\", \"igual\", \"ir\", \"isolamento\", \"logo\", \"lula\", \"mae\", \"maior\", \"mal\", \"medo\", \"meio\", \"melhor\", \"menos\", \"merda\", \"mes\", \"momento\", \"morrer\", \"morte\", \"muito\", \"mundo\", \"nada\", \"nem\", \"ninguem\", \"novo\", \"nunca\", \"ontem\", \"pai\", \"pandemia\", \"passar\", \"passar\", \"pegar\", \"pessoa\", \"poder\", \"poder\", \"pois\", \"porque\", \"povo\", \"preciso\", \"presidente\", \"primeiro\", \"prior\", \"qual\", \"quando\", \"sair\", \"saude\", \"semana\", \"sempre\", \"sim\", \"tambem\", \"tanto\", \"tarde\", \"tava\", \"tempo\", \"tomar\", \"trabalho\", \"verdade\", \"vez\", \"vida\", \"video\", \"volta\", \"voltar\", \"vontade\"]}, \"R\": 30, \"lambda.step\": 0.01, \"plot.opts\": {\"xlab\": \"PC1\", \"ylab\": \"PC2\"}, \"topic.order\": [1, 2, 3]};\n",
       "\n",
       "function LDAvis_load_lib(url, callback){\n",
       "  var s = document.createElement('script');\n",
       "  s.src = url;\n",
       "  s.async = true;\n",
       "  s.onreadystatechange = s.onload = callback;\n",
       "  s.onerror = function(){console.warn(\"failed to load library \" + url);};\n",
       "  document.getElementsByTagName(\"head\")[0].appendChild(s);\n",
       "}\n",
       "\n",
       "if(typeof(LDAvis) !== \"undefined\"){\n",
       "   // already loaded: just create the visualization\n",
       "   !function(LDAvis){\n",
       "       new LDAvis(\"#\" + \"ldavis_el2132018164626243288531162695\", ldavis_el2132018164626243288531162695_data);\n",
       "   }(LDAvis);\n",
       "}else if(typeof define === \"function\" && define.amd){\n",
       "   // require.js is available: use it to load d3/LDAvis\n",
       "   require.config({paths: {d3: \"https://cdnjs.cloudflare.com/ajax/libs/d3/3.5.5/d3.min\"}});\n",
       "   require([\"d3\"], function(d3){\n",
       "      window.d3 = d3;\n",
       "      LDAvis_load_lib(\"https://cdn.rawgit.com/bmabey/pyLDAvis/files/ldavis.v1.0.0.js\", function(){\n",
       "        new LDAvis(\"#\" + \"ldavis_el2132018164626243288531162695\", ldavis_el2132018164626243288531162695_data);\n",
       "      });\n",
       "    });\n",
       "}else{\n",
       "    // require.js not available: dynamically load d3 & LDAvis\n",
       "    LDAvis_load_lib(\"https://cdnjs.cloudflare.com/ajax/libs/d3/3.5.5/d3.min.js\", function(){\n",
       "         LDAvis_load_lib(\"https://cdn.rawgit.com/bmabey/pyLDAvis/files/ldavis.v1.0.0.js\", function(){\n",
       "                 new LDAvis(\"#\" + \"ldavis_el2132018164626243288531162695\", ldavis_el2132018164626243288531162695_data);\n",
       "            })\n",
       "         });\n",
       "}\n",
       "</script>"
      ],
      "text/plain": [
       "PreparedData(topic_coordinates=              x         y  topics  cluster       Freq\n",
       "topic                                                \n",
       "0     -0.171151 -0.343922       1        1  36.949295\n",
       "1     -0.217375  0.317684       2        1  31.825676\n",
       "2      0.388526  0.026238       3        1  31.225019, topic_info=           Term          Freq         Total Category  logprob  loglift\n",
       "19    bolsonaro  21614.000000  21614.000000  Default  30.0000  30.0000\n",
       "69   presidente  17695.000000  17695.000000  Default  29.0000  29.0000\n",
       "59               11840.000000  11840.000000  Default  28.0000  28.0000\n",
       "5      pandemia  10727.000000  10727.000000  Default  27.0000  27.0000\n",
       "52         casa   7793.000000   7793.000000  Default  26.0000  26.0000\n",
       "..          ...           ...           ...      ...      ...      ...\n",
       "303       volta   1125.986328   1126.623413   Topic3  -5.3049   1.1634\n",
       "73         algo   1058.731323   1059.364136   Topic3  -5.3665   1.1634\n",
       "199        dois   1033.294800   1033.917725   Topic3  -5.3908   1.1633\n",
       "136       igual   1038.466064   1039.093506   Topic3  -5.3858   1.1633\n",
       "225      passar   2884.422119   2889.093018   Topic3  -4.3642   1.1623\n",
       "\n",
       "[123 rows x 6 columns], token_table=      Topic      Freq     Term\n",
       "term                          \n",
       "59        2  0.999943         \n",
       "13        2  0.999849   acabar\n",
       "299       3  0.999846    agora\n",
       "73        3  0.999656     algo\n",
       "579       2  0.999439   alguem\n",
       "...     ...       ...      ...\n",
       "116       2  0.999734     vida\n",
       "238       3  0.999482    video\n",
       "303       3  0.999447    volta\n",
       "117       2  0.999575   voltar\n",
       "93        2  0.999397  vontade\n",
       "\n",
       "[95 rows x 3 columns], R=30, lambda_step=0.01, plot_opts={'xlab': 'PC1', 'ylab': 'PC2'}, topic_order=[1, 2, 3])"
      ]
     },
     "execution_count": 19,
     "metadata": {},
     "output_type": "execute_result"
    }
   ],
   "source": [
    "# Visualização dos tópicos em clusters\n",
    "\n",
    "pyLDAvis.enable_notebook()\n",
    "vis = pyLDAvis.gensim.prepare(lda_model, corpus, id2word)\n",
    "vis"
   ]
  },
  {
   "cell_type": "code",
   "execution_count": 20,
   "metadata": {},
   "outputs": [],
   "source": [
    "# Função para determinar a melhor quantidade de tópicos para a modelagem\n",
    "\n",
    "def compute_coherence_values(dictionary, corpus, texts, limit, start=2, step=5):\n",
    "    coherence_values = []\n",
    "    model_list = []\n",
    "    for num_topics in tqdm(range(start, limit, step)):\n",
    "        model = LdaMulticore(corpus, id2word=id2word, num_topics=3)\n",
    "        model_list.append(model)\n",
    "        coherencemodel = CoherenceModel(model=model, texts=texts, dictionary=dictionary, coherence='c_v')\n",
    "        coherence_values.append(coherencemodel.get_coherence())\n",
    "\n",
    "    return model_list, coherence_values"
   ]
  },
  {
   "cell_type": "code",
   "execution_count": 21,
   "metadata": {},
   "outputs": [
    {
     "name": "stderr",
     "output_type": "stream",
     "text": [
      "100%|███████████████████████████████████████████████████████████████████████████████████| 1/1 [01:57<00:00, 117.89s/it]\n"
     ]
    }
   ],
   "source": [
    "# Colocando parametros na função\n",
    "\n",
    "model_list, coherence_values = compute_coherence_values(dictionary=id2word, corpus=corpus, texts=texto, start=2, limit=4, step=2)"
   ]
  },
  {
   "cell_type": "code",
   "execution_count": 22,
   "metadata": {},
   "outputs": [
    {
     "data": {
      "text/plain": [
       "[(0,\n",
       "  '0.062*\"\" + 0.021*\"bolsonaro\" + 0.014*\"contra\" + 0.013*\"depois\" + 0.013*\"pandemia\" + 0.013*\"nunca\" + 0.011*\"nem\" + 0.010*\"sim\" + 0.009*\"vida\" + 0.009*\"novo\" + 0.008*\"logo\" + 0.008*\"presidente\" + 0.007*\"saude\" + 0.007*\"isolamento\" + 0.005*\"comer\" + 0.005*\"deus\" + 0.005*\"social\" + 0.005*\"mil\" + 0.005*\"tomar\" + 0.005*\"agora\"'),\n",
       " (1,\n",
       "  '0.054*\"presidente\" + 0.029*\"bolsonaro\" + 0.020*\"brasil\" + 0.020*\"pandemia\" + 0.014*\"muito\" + 0.013*\"agora\" + 0.013*\"gente\" + 0.008*\"passar\" + 0.007*\"quando\" + 0.007*\"abril\" + 0.006*\"cabelo\" + 0.006*\"meio\" + 0.006*\"menos\" + 0.006*\"povo\" + 0.006*\"governo\" + 0.006*\"deus\" + 0.006*\"porque\" + 0.006*\"tambem\" + 0.005*\"tempo\" + 0.005*\"ano\"'),\n",
       " (2,\n",
       "  '0.032*\"bolsonaro\" + 0.032*\"casa\" + 0.023*\"acabar\" + 0.019*\"quando\" + 0.013*\"sair\" + 0.012*\"mundo\" + 0.011*\"pandemia\" + 0.009*\"mae\" + 0.009*\"gente\" + 0.008*\"ir\" + 0.008*\"nada\" + 0.008*\"nem\" + 0.008*\"video\" + 0.007*\"coisa\" + 0.007*\"vez\" + 0.006*\"pai\" + 0.006*\"agora\" + 0.006*\"governo\" + 0.006*\"melhor\" + 0.006*\"povo\"')]"
      ]
     },
     "execution_count": 22,
     "metadata": {},
     "output_type": "execute_result"
    }
   ],
   "source": [
    "# Escolhe o modelo\n",
    "\n",
    "optimal_model = model_list[0]\n",
    "optimal_model.print_topics(num_topics = 3, num_words = 20)"
   ]
  },
  {
   "cell_type": "code",
   "execution_count": 23,
   "metadata": {},
   "outputs": [],
   "source": [
    "# Encontrar qual o principal tópico em cada tweet\n",
    "\n",
    "def format_topics_sentences(ldamodel=lda_model, corpus=corpus, texts=texto):\n",
    "    # Output\n",
    "    sent_topics_df = pd.DataFrame()\n",
    "\n",
    "    # Seleciona o principal tópico de cada tweet\n",
    "    for i, row in enumerate(ldamodel[corpus]):\n",
    "        row = sorted(row, key=lambda x: (x[1]), reverse=True)\n",
    "        # Calcula o principal tópico, o percentual de contribuição e as palavras chaves de cada tweet\n",
    "        for j, (topic_num, prop_topic) in enumerate(row):\n",
    "            if j == 0:  # => mostra o principal tópico\n",
    "                wp = ldamodel.show_topic(topic_num)\n",
    "                topic_keywords = \", \".join([word for word, prop in wp])\n",
    "                sent_topics_df = sent_topics_df.append(pd.Series([int(topic_num), round(prop_topic,4), topic_keywords]), ignore_index=True)\n",
    "            else:\n",
    "                break\n",
    "    sent_topics_df.columns = ['Principal_Topico', 'Perc_Contributicao', 'Palavras_Chave']\n",
    "\n",
    "    # Inclui o texto original no final do DataFrame\n",
    "    contents = pd.Series(texts)\n",
    "    sent_topics_df = pd.concat([sent_topics_df, contents], axis=1)\n",
    "    return(sent_topics_df)"
   ]
  },
  {
   "cell_type": "code",
   "execution_count": 24,
   "metadata": {},
   "outputs": [],
   "source": [
    "# roda a função de calcular os principais tópicos de cada tweet\n",
    "\n",
    "df_topic_sents_keywords = format_topics_sentences(ldamodel=optimal_model, corpus=corpus, texts=texto)"
   ]
  },
  {
   "cell_type": "code",
   "execution_count": 25,
   "metadata": {},
   "outputs": [],
   "source": [
    "# Formata o DataFrame\n",
    "\n",
    "df_dominant_topic = df_topic_sents_keywords.reset_index()\n",
    "df_dominant_topic.columns = ['Index_DF_Original', 'Principal_Topico', 'Perc_Contrib_Topico', 'Palavras_Chave', 'Tweets']"
   ]
  },
  {
   "cell_type": "code",
   "execution_count": 26,
   "metadata": {
    "scrolled": true
   },
   "outputs": [
    {
     "data": {
      "text/html": [
       "<div>\n",
       "<style scoped>\n",
       "    .dataframe tbody tr th:only-of-type {\n",
       "        vertical-align: middle;\n",
       "    }\n",
       "\n",
       "    .dataframe tbody tr th {\n",
       "        vertical-align: top;\n",
       "    }\n",
       "\n",
       "    .dataframe thead th {\n",
       "        text-align: right;\n",
       "    }\n",
       "</style>\n",
       "<table border=\"1\" class=\"dataframe\">\n",
       "  <thead>\n",
       "    <tr style=\"text-align: right;\">\n",
       "      <th></th>\n",
       "      <th>Topico</th>\n",
       "      <th>Topico_Perc_Contrib</th>\n",
       "      <th>Palavras_Chave</th>\n",
       "      <th>Tweet</th>\n",
       "    </tr>\n",
       "  </thead>\n",
       "  <tbody>\n",
       "    <tr>\n",
       "      <th>0</th>\n",
       "      <td>0.0</td>\n",
       "      <td>0.9700</td>\n",
       "      <td>, bolsonaro, contra, depois, pandemia, nunca, ...</td>\n",
       "      <td>[views, volta, daniel, marcela, fancam, thelma...</td>\n",
       "    </tr>\n",
       "    <tr>\n",
       "      <th>1</th>\n",
       "      <td>1.0</td>\n",
       "      <td>0.9610</td>\n",
       "      <td>presidente, bolsonaro, brasil, pandemia, muito...</td>\n",
       "      <td>[preocupado, planalto, pergunta, contexto, ras...</td>\n",
       "    </tr>\n",
       "    <tr>\n",
       "      <th>2</th>\n",
       "      <td>2.0</td>\n",
       "      <td>0.9543</td>\n",
       "      <td>bolsonaro, casa, acabar, quando, sair, mundo, ...</td>\n",
       "      <td>[medo, sair, poder, saber, casa, feito, femini...</td>\n",
       "    </tr>\n",
       "  </tbody>\n",
       "</table>\n",
       "</div>"
      ],
      "text/plain": [
       "   Topico  Topico_Perc_Contrib  \\\n",
       "0     0.0               0.9700   \n",
       "1     1.0               0.9610   \n",
       "2     2.0               0.9543   \n",
       "\n",
       "                                      Palavras_Chave  \\\n",
       "0  , bolsonaro, contra, depois, pandemia, nunca, ...   \n",
       "1  presidente, bolsonaro, brasil, pandemia, muito...   \n",
       "2  bolsonaro, casa, acabar, quando, sair, mundo, ...   \n",
       "\n",
       "                                               Tweet  \n",
       "0  [views, volta, daniel, marcela, fancam, thelma...  \n",
       "1  [preocupado, planalto, pergunta, contexto, ras...  \n",
       "2  [medo, sair, poder, saber, casa, feito, femini...  "
      ]
     },
     "execution_count": 26,
     "metadata": {},
     "output_type": "execute_result"
    }
   ],
   "source": [
    "# Group top 5 sentences under each topic\n",
    "sent_topics_sorteddf_mallet = pd.DataFrame()\n",
    "\n",
    "sent_topics_outdf_grpd = df_topic_sents_keywords.groupby('Principal_Topico')\n",
    "\n",
    "for i, grp in sent_topics_outdf_grpd:\n",
    "    sent_topics_sorteddf_mallet = pd.concat([sent_topics_sorteddf_mallet, \n",
    "                                             grp.sort_values(['Perc_Contributicao'], ascending=[0]).head(1)], \n",
    "                                            axis=0)\n",
    "\n",
    "# Reset Index    \n",
    "sent_topics_sorteddf_mallet.reset_index(drop=True, inplace=True)\n",
    "\n",
    "# Format\n",
    "sent_topics_sorteddf_mallet.columns = ['Topico', \"Topico_Perc_Contrib\", \"Palavras_Chave\", \"Tweet\"]\n",
    "\n",
    "# Show\n",
    "sent_topics_sorteddf_mallet"
   ]
  },
  {
   "cell_type": "code",
   "execution_count": 27,
   "metadata": {},
   "outputs": [
    {
     "data": {
      "text/html": [
       "<div>\n",
       "<style scoped>\n",
       "    .dataframe tbody tr th:only-of-type {\n",
       "        vertical-align: middle;\n",
       "    }\n",
       "\n",
       "    .dataframe tbody tr th {\n",
       "        vertical-align: top;\n",
       "    }\n",
       "\n",
       "    .dataframe thead th {\n",
       "        text-align: right;\n",
       "    }\n",
       "</style>\n",
       "<table border=\"1\" class=\"dataframe\">\n",
       "  <thead>\n",
       "    <tr style=\"text-align: right;\">\n",
       "      <th></th>\n",
       "      <th>Principal_Topico</th>\n",
       "      <th>Palavras_Chave</th>\n",
       "      <th>Qtd_Tweets</th>\n",
       "      <th>Perc_Tweets</th>\n",
       "    </tr>\n",
       "  </thead>\n",
       "  <tbody>\n",
       "    <tr>\n",
       "      <th>0.0</th>\n",
       "      <td>0.0</td>\n",
       "      <td>, bolsonaro, contra, depois, pandemia, nunca, ...</td>\n",
       "      <td>51427.0</td>\n",
       "      <td>0.2949</td>\n",
       "    </tr>\n",
       "    <tr>\n",
       "      <th>1.0</th>\n",
       "      <td>1.0</td>\n",
       "      <td>presidente, bolsonaro, brasil, pandemia, muito...</td>\n",
       "      <td>64548.0</td>\n",
       "      <td>0.3701</td>\n",
       "    </tr>\n",
       "    <tr>\n",
       "      <th>2.0</th>\n",
       "      <td>2.0</td>\n",
       "      <td>bolsonaro, casa, acabar, quando, sair, mundo, ...</td>\n",
       "      <td>58437.0</td>\n",
       "      <td>0.3351</td>\n",
       "    </tr>\n",
       "    <tr>\n",
       "      <th>3.0</th>\n",
       "      <td>1.0</td>\n",
       "      <td>presidente, bolsonaro, brasil, pandemia, muito...</td>\n",
       "      <td>NaN</td>\n",
       "      <td>NaN</td>\n",
       "    </tr>\n",
       "    <tr>\n",
       "      <th>4.0</th>\n",
       "      <td>2.0</td>\n",
       "      <td>bolsonaro, casa, acabar, quando, sair, mundo, ...</td>\n",
       "      <td>NaN</td>\n",
       "      <td>NaN</td>\n",
       "    </tr>\n",
       "    <tr>\n",
       "      <th>...</th>\n",
       "      <td>...</td>\n",
       "      <td>...</td>\n",
       "      <td>...</td>\n",
       "      <td>...</td>\n",
       "    </tr>\n",
       "    <tr>\n",
       "      <th>174407.0</th>\n",
       "      <td>0.0</td>\n",
       "      <td>, bolsonaro, contra, depois, pandemia, nunca, ...</td>\n",
       "      <td>NaN</td>\n",
       "      <td>NaN</td>\n",
       "    </tr>\n",
       "    <tr>\n",
       "      <th>174408.0</th>\n",
       "      <td>1.0</td>\n",
       "      <td>presidente, bolsonaro, brasil, pandemia, muito...</td>\n",
       "      <td>NaN</td>\n",
       "      <td>NaN</td>\n",
       "    </tr>\n",
       "    <tr>\n",
       "      <th>174409.0</th>\n",
       "      <td>1.0</td>\n",
       "      <td>presidente, bolsonaro, brasil, pandemia, muito...</td>\n",
       "      <td>NaN</td>\n",
       "      <td>NaN</td>\n",
       "    </tr>\n",
       "    <tr>\n",
       "      <th>174410.0</th>\n",
       "      <td>0.0</td>\n",
       "      <td>, bolsonaro, contra, depois, pandemia, nunca, ...</td>\n",
       "      <td>NaN</td>\n",
       "      <td>NaN</td>\n",
       "    </tr>\n",
       "    <tr>\n",
       "      <th>174411.0</th>\n",
       "      <td>1.0</td>\n",
       "      <td>presidente, bolsonaro, brasil, pandemia, muito...</td>\n",
       "      <td>NaN</td>\n",
       "      <td>NaN</td>\n",
       "    </tr>\n",
       "  </tbody>\n",
       "</table>\n",
       "<p>174412 rows × 4 columns</p>\n",
       "</div>"
      ],
      "text/plain": [
       "          Principal_Topico                                     Palavras_Chave  \\\n",
       "0.0                    0.0  , bolsonaro, contra, depois, pandemia, nunca, ...   \n",
       "1.0                    1.0  presidente, bolsonaro, brasil, pandemia, muito...   \n",
       "2.0                    2.0  bolsonaro, casa, acabar, quando, sair, mundo, ...   \n",
       "3.0                    1.0  presidente, bolsonaro, brasil, pandemia, muito...   \n",
       "4.0                    2.0  bolsonaro, casa, acabar, quando, sair, mundo, ...   \n",
       "...                    ...                                                ...   \n",
       "174407.0               0.0  , bolsonaro, contra, depois, pandemia, nunca, ...   \n",
       "174408.0               1.0  presidente, bolsonaro, brasil, pandemia, muito...   \n",
       "174409.0               1.0  presidente, bolsonaro, brasil, pandemia, muito...   \n",
       "174410.0               0.0  , bolsonaro, contra, depois, pandemia, nunca, ...   \n",
       "174411.0               1.0  presidente, bolsonaro, brasil, pandemia, muito...   \n",
       "\n",
       "          Qtd_Tweets  Perc_Tweets  \n",
       "0.0          51427.0       0.2949  \n",
       "1.0          64548.0       0.3701  \n",
       "2.0          58437.0       0.3351  \n",
       "3.0              NaN          NaN  \n",
       "4.0              NaN          NaN  \n",
       "...              ...          ...  \n",
       "174407.0         NaN          NaN  \n",
       "174408.0         NaN          NaN  \n",
       "174409.0         NaN          NaN  \n",
       "174410.0         NaN          NaN  \n",
       "174411.0         NaN          NaN  \n",
       "\n",
       "[174412 rows x 4 columns]"
      ]
     },
     "execution_count": 27,
     "metadata": {},
     "output_type": "execute_result"
    }
   ],
   "source": [
    "# Numero de tweets por topico\n",
    "\n",
    "topic_counts = df_topic_sents_keywords['Principal_Topico'].value_counts()\n",
    "\n",
    "# Porcentagem de tweets por tópico\n",
    "topic_contribution = round(topic_counts/topic_counts.sum(), 4)\n",
    "\n",
    "# Número do tópico e suas palavras chave\n",
    "topic_num_keywords = df_topic_sents_keywords[['Principal_Topico', 'Palavras_Chave']]\n",
    "\n",
    "# Concatena as colunas\n",
    "df_dominant_topics = pd.concat([topic_num_keywords, topic_counts, topic_contribution], axis=1)\n",
    "\n",
    "# Renomeia as colunas\n",
    "df_dominant_topics.columns = ['Principal_Topico', 'Palavras_Chave', 'Qtd_Tweets', 'Perc_Tweets']\n",
    "\n",
    "# Mostra o DataFrame\n",
    "df_dominant_topics"
   ]
  },
  {
   "cell_type": "code",
   "execution_count": 28,
   "metadata": {},
   "outputs": [],
   "source": [
    "# Criando stopwords em português utilizando a biblioteca nltk\n",
    "import pt_core_news_sm\n",
    "nlp = pt_core_news_sm.load()\n",
    "pt_stopwords = sorted([token.text for token in nlp.vocab if token.is_stop])\n",
    "list_exclude = ['obrigado', 'bom', 'mal', 'nenhuma', 'maior',\n",
    "             'bem', 'não', 'máximo', 'boa', 'mais',\n",
    "               'bastante', 'certamente', 'certeza', 'contra',\n",
    "                'quarentena', 'coronavírus', 'presidente', 'impeachment', 'demitido', 'demitida']\n",
    "for word in list_exclude:\n",
    "    nlp.vocab[word].is_stop = False\n",
    "list_include = set(['o', 'a', 'tá', 'ta', 'ser', 'pro', 'to', 'tô', 'vc', 'você', 'voce', 'pra',\n",
    "                    'pq', 'é', 'vou', 'que','tão', 'gt', 'de', 'da', 'do', 'em', 'uma', 'lá',\n",
    "                    'já', 'no', 'para', 'na', 'com', 'um', 'minha', 'se', 'isso', 'por', 'vou',\n",
    "                    'os', 'isso', 'como', 'mesmo', 'tenho', 'aqui', 'ele', 'ela', 'quem', 'fazer',\n",
    "                    'eu', 'só', 'ai', 'mais', 'só', 'querer', 'https', 'ter', 'estar', 'ficar',\n",
    "                    'dos', 'das', 'vcs', 'tem', 'as', 'mas','ao'\n",
    "                    'tava', 'nao', 'sao', 'ja', 'so', 'nossa',\n",
    "                    'nosso', 'estao', 'tco', 'me', 'dia', 'te', 'ver', 'sera', 'porra', 'fez', 'ne',\n",
    "                    'kkk','kkkkkk', 'puta', 'kkkkkkkk', 'hj', 'afff', 'gbr', 'meu', 'cara', 'guri', 'cmg',\n",
    "                    'ctg', 'agr', 'pqp', 'vdd', 'eh', 'va', 'obg',\n",
    "                    'corona','virus','coronavirus','covid','covid19','19'\n",
    "                   'nem', 'numa', 'num', 'nuns', 'ces', 'voces', 'oce', 'oces', 'kkkk', 'vao', 'via',\n",
    "                    'hj', 'hoje', 'tudo', 'todo', 'toda',\n",
    "                    'vir', 'bem','ao','sem','ou','vai', 'dizer', 'entao', 'dizer', 'entao',\n",
    "                    'tao', 'tu', 'mim', 'mano', 'oq', 'pos', 'dm', 'dps',\n",
    "                    'coronavirusoutbreak', 'coronavirusPandemic', 'dar', 'vairus',\n",
    "                    'ainda', 'assim']\n",
    "                  )\n",
    "for w in list_include:\n",
    "    nlp.vocab[w].is_stop = True\n",
    "stop_words = sorted([token.text for token in nlp.vocab if token.is_stop])"
   ]
  },
  {
   "cell_type": "code",
   "execution_count": 31,
   "metadata": {},
   "outputs": [
    {
     "data": {
      "image/png": "[encoded data removed]",
      "text/plain": [
       "<Figure size 720x720 with 3 Axes>"
      ]
     },
     "metadata": {
      "needs_background": "light"
     },
     "output_type": "display_data"
    }
   ],
   "source": [
    "# Cria wordclouds\n",
    "\n",
    "cols = [color for name, color in mcolors.XKCD_COLORS.items()]\n",
    "\n",
    "cloud = WordCloud(stopwords=stop_words,\n",
    "                  background_color='white',\n",
    "                  width=2500,\n",
    "                  height=1800,\n",
    "                  max_words=20,\n",
    "                  colormap='tab10',\n",
    "                  color_func=lambda *args, **kwargs: cols[i],\n",
    "                  prefer_horizontal=1.0)\n",
    "\n",
    "topics = lda_model.show_topics(formatted=False)\n",
    "\n",
    "fig, axes = plt.subplots(1, 3, figsize=(10,10), sharex=True, sharey=True)\n",
    "\n",
    "for i, ax in enumerate(axes.flatten()):\n",
    "    fig.add_subplot(ax)\n",
    "    topic_words = dict(topics[i][1])\n",
    "    cloud.generate_from_frequencies(topic_words, max_font_size=600)\n",
    "    plt.gca().imshow(cloud)\n",
    "    plt.gca().set_title('Topic ' + str(i), fontdict=dict(size=16))\n",
    "    plt.gca().axis('off')\n",
    "\n",
    "\n",
    "plt.subplots_adjust(wspace=0, hspace=0)\n",
    "plt.axis('off')\n",
    "plt.margins(x=0, y=0)\n",
    "plt.tight_layout()\n",
    "plt.show()"
   ]
  },
  {
   "cell_type": "code",
   "execution_count": 32,
   "metadata": {},
   "outputs": [],
   "source": [
    "sent_topics_sorteddf_mallet.to_excel('keywords_0401.xlsx')"
   ]
  },
  {
   "cell_type": "code",
   "execution_count": null,
   "metadata": {},
   "outputs": [],
   "source": []
  }
 ],
 "metadata": {
  "kernelspec": {
   "display_name": "Python 3",
   "language": "python",
   "name": "python3"
  },
  "language_info": {
   "codemirror_mode": {
    "name": "ipython",
    "version": 3
   },
   "file_extension": ".py",
   "mimetype": "text/x-python",
   "name": "python",
   "nbconvert_exporter": "python",
   "pygments_lexer": "ipython3",
   "version": "3.7.6"
  }
 },
 "nbformat": 4,
 "nbformat_minor": 1
}
