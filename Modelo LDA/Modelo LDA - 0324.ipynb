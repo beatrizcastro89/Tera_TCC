{
 "cells": [
  {
   "cell_type": "markdown",
   "metadata": {
    "collapsed": true
   },
   "source": [
    "Análise do dia 24/03 através do modelo LDA."
   ]
  },
  {
   "cell_type": "code",
   "execution_count": 1,
   "metadata": {},
   "outputs": [],
   "source": [
    "# Importar bibliotecas\n",
    "\n",
    "# gerais\n",
    "import sys\n",
    "import os\n",
    "from pathlib import Path\n",
    "import re\n",
    "import numpy as np\n",
    "import pandas as pd\n",
    "from pprint import pprint\n",
    "from tqdm import tqdm\n",
    "from ast import literal_eval\n",
    "\n",
    "# Gensim\n",
    "import gensim, spacy, logging, warnings\n",
    "import gensim.corpora as corpora\n",
    "from gensim.utils import lemmatize, simple_preprocess\n",
    "from gensim.models import CoherenceModel\n",
    "from gensim.models.ldamulticore import LdaMulticore\n",
    "\n",
    "# NLTK Stop words\n",
    "import nltk\n",
    "from nltk.corpus import stopwords\n",
    "\n",
    "#plot\n",
    "import pyLDAvis\n",
    "import pyLDAvis.gensim\n",
    "import matplotlib.pyplot as plt\n",
    "import matplotlib.colors as mcolors\n",
    "%matplotlib inline\n",
    "from wordcloud import WordCloud, STOPWORDS"
   ]
  },
  {
   "cell_type": "code",
   "execution_count": 2,
   "metadata": {},
   "outputs": [],
   "source": [
    "# Criando stopwords em português utilizando a biblioteca nltk\n",
    "\n",
    "nlp = spacy.load(\"pt_core_news_sm\")\n",
    "pt_stopwords = sorted([token.text for token in nlp.vocab if token.is_stop])\n",
    "list_exclude = ['obrigado', 'bom', 'mal', 'nenhuma', 'maior', \n",
    "             'bem', 'não', 'máximo', 'boa', 'mais',\n",
    "               'bastante', 'certamente', 'certeza', 'contra',\n",
    "                'quarentena', 'coronavírus', 'presidente', 'impeachment', 'demitido', 'demitida']\n",
    "for word in list_exclude:\n",
    "    nlp.vocab[word].is_stop = False\n",
    "list_include = set(['o', 'a', 'tá', 'ta', 'ser', 'pro', 'to', 'tô', 'vc', 'você', 'voce', 'pra',\n",
    "                    'pq', 'é', 'vou', 'que','tão', 'gt', 'de', 'da', 'do', 'em', 'uma', 'lá',\n",
    "                    'já', 'no', 'para', 'na', 'com', 'um', 'minha', 'se', 'isso', 'por', 'vou',\n",
    "                    'os', 'isso', 'como', 'mesmo', 'tenho', 'aqui', 'ele', 'ela', 'quem', 'fazer',\n",
    "                    'eu', 'só', 'ai', 'mais', 'só', 'querer', 'https', 'ter', 'estar', 'ficar',\n",
    "                    'dos', 'das', 'vcs', 'jairbolsonaro', 'tava', 'nao', 'sao', 'ja', 'so', 'nossa',\n",
    "                    'nosso', 'estao', 'tco', 'me', 'dia', 'te', 'ver', 'sera', 'porra', 'fez', 'ne',\n",
    "                    'kkkkkk', 'puta', 'kkkkkkkk', 'hj', 'afff', 'gbr', 'meu', 'cara', 'guri', 'cmg',\n",
    "                    'ctg', 'agr', 'pqp', 'vdd', 'eh', 'va', 'fudeu', 'fuder', 'fodeu', 'foda', 'obg',\n",
    "                   'nem', 'numa', 'num', 'nuns', 'ces', 'voces', 'oce', 'oces', 'kkkk', 'vao', 'via',\n",
    "                    'hj', 'hoje', 'tudo', 'todo', 'toda', 'ir', 'vir', 'bem', 'sair', 'tao']\n",
    "                  )\n",
    "for w in list_include:\n",
    "    nlp.vocab[w].is_stop = True\n",
    "stop_words = sorted([token.text for token in nlp.vocab if token.is_stop])"
   ]
  },
  {
   "cell_type": "markdown",
   "metadata": {},
   "source": [
    "# Preparação dos dados"
   ]
  },
  {
   "cell_type": "code",
   "execution_count": 3,
   "metadata": {},
   "outputs": [],
   "source": [
    "# import dos dados\n",
    "\n",
    "df = pd.read_csv('0324_preprocessado.csv')"
   ]
  },
  {
   "cell_type": "code",
   "execution_count": 4,
   "metadata": {},
   "outputs": [],
   "source": [
    "# import dos tokens\n",
    "\n",
    "df_tokens = pd.read_csv('tokens_unicos_10k.csv')"
   ]
  },
  {
   "cell_type": "code",
   "execution_count": 5,
   "metadata": {},
   "outputs": [],
   "source": [
    "# criação de lista de tokens\n",
    "\n",
    "lista_token = []\n",
    "\n",
    "for row in range(0, len(df_tokens)):\n",
    "    lista_token.append(df_tokens.iloc[row,1])\n",
    "    \n",
    "lista_token = set(lista_token)"
   ]
  },
  {
   "cell_type": "code",
   "execution_count": 6,
   "metadata": {},
   "outputs": [],
   "source": [
    "# filtranso os tokens para aparecer apenas os 10 mil mais frequentes\n",
    "\n",
    "df['token2'] = df.token.apply(lambda x: str(list(set(literal_eval(x)).intersection(lista_token))))"
   ]
  },
  {
   "cell_type": "code",
   "execution_count": 7,
   "metadata": {},
   "outputs": [],
   "source": [
    "# função para reverter os tokens processados em lista de tuples\n",
    "\n",
    "def strip_characters(text):\n",
    "    t = re.sub(r'\\(|\\)|:|,|;|\\.|’|”|“|\\?|%|>|<|\\[|\\]', '', text)\n",
    "    t = re.sub(r'/', ' ', t)\n",
    "    t = t.replace(\"'\",'')\n",
    "    return t"
   ]
  },
  {
   "cell_type": "code",
   "execution_count": 8,
   "metadata": {},
   "outputs": [],
   "source": [
    "# aplica função em todos os tokens\n",
    "\n",
    "df['token2'] = df['token2'].apply(lambda x: strip_characters(x))\n",
    "df['token2'] = df['token2'].apply(lambda x: str(x).split(' '))"
   ]
  },
  {
   "cell_type": "code",
   "execution_count": 9,
   "metadata": {},
   "outputs": [],
   "source": [
    "# transforma os tokens em lista\n",
    "\n",
    "lista = list(df['token2'])"
   ]
  },
  {
   "cell_type": "code",
   "execution_count": 10,
   "metadata": {},
   "outputs": [],
   "source": [
    "# Build the bigram and trigram models\n",
    "\n",
    "bigram = gensim.models.Phrases(lista, min_count=5, threshold=100)\n",
    "bigram_mod = gensim.models.phrases.Phraser(bigram)\n",
    "\n",
    "trigram = gensim.models.Phrases(bigram[lista], threshold=100)\n",
    "trigram_mod = gensim.models.phrases.Phraser(trigram)"
   ]
  },
  {
   "cell_type": "code",
   "execution_count": 11,
   "metadata": {},
   "outputs": [],
   "source": [
    "# função para preprocessar palavras\n",
    "\n",
    "def process_words(texts, stop_words=stop_words, allowed_postags=['NOUN', 'ADJ', 'VERB', 'ADV']):\n",
    "    texts1 = [[word for word in simple_preprocess(str(doc)) if word not in stop_words] for doc in texts]\n",
    "    texts2 = [bigram_mod[doc] for doc in texts1]\n",
    "    texts3 = [trigram_mod[bigram_mod[doc]] for doc in texts2]\n",
    "    texts4 = [[word for word in simple_preprocess(str(doc)) if word not in stop_words] for doc in texts3]    \n",
    "    return texts4"
   ]
  },
  {
   "cell_type": "code",
   "execution_count": 12,
   "metadata": {},
   "outputs": [],
   "source": [
    "# Processing the abstract\n",
    "\n",
    "texto = process_words(lista)"
   ]
  },
  {
   "cell_type": "markdown",
   "metadata": {},
   "source": [
    "# Modelagem"
   ]
  },
  {
   "cell_type": "code",
   "execution_count": 13,
   "metadata": {},
   "outputs": [],
   "source": [
    "# Criar dicionário\n",
    "\n",
    "id2word = corpora.Dictionary(texto)"
   ]
  },
  {
   "cell_type": "code",
   "execution_count": 14,
   "metadata": {},
   "outputs": [],
   "source": [
    "# Criar o Corpus: A Frequência das palavras nos documentos\n",
    "\n",
    "corpus = [id2word.doc2bow(text) for text in texto]"
   ]
  },
  {
   "cell_type": "code",
   "execution_count": 15,
   "metadata": {},
   "outputs": [],
   "source": [
    "# Função para determinar a melhor quantidade de tópicos para a modelagem\n",
    "\n",
    "def compute_coherence_values(dictionary, corpus, texts, limit, start=2, step=5):\n",
    "    coherence_values = []\n",
    "    model_list = []\n",
    "    for num_topics in tqdm(range(start, limit, step)):\n",
    "        model = LdaMulticore(corpus, id2word=id2word, num_topics=10)\n",
    "        model_list.append(model)\n",
    "        coherencemodel = CoherenceModel(model=model, texts=texts, dictionary=dictionary, coherence='c_v')\n",
    "        coherence_values.append(coherencemodel.get_coherence())\n",
    "\n",
    "    return model_list, coherence_values"
   ]
  },
  {
   "cell_type": "code",
   "execution_count": 16,
   "metadata": {},
   "outputs": [
    {
     "name": "stderr",
     "output_type": "stream",
     "text": [
      "100%|██████████████████████████████████████████████████████████████████████████████████| 14/14 [16:09<00:00, 69.22s/it]\n"
     ]
    }
   ],
   "source": [
    "# Colocando parametros na função\n",
    "\n",
    "model_list, coherence_values = compute_coherence_values(dictionary=id2word, corpus=corpus, texts=texto, start=2, limit=30, step=2)"
   ]
  },
  {
   "cell_type": "code",
   "execution_count": 17,
   "metadata": {},
   "outputs": [
    {
     "data": {
      "image/png": "[encoded data removed]",
      "text/plain": [
       "<Figure size 432x288 with 1 Axes>"
      ]
     },
     "metadata": {
      "needs_background": "light"
     },
     "output_type": "display_data"
    }
   ],
   "source": [
    "# Mostrando visualmente a quantidade de tópicos\n",
    "\n",
    "limit=30; start=2; step=2;\n",
    "x = range(start, limit, step)\n",
    "plt.plot(x, coherence_values)\n",
    "plt.xlabel(\"Num Tópicos\")\n",
    "plt.ylabel(\"Score de Coerência\")\n",
    "plt.legend((\"Valores de Coerência\"), loc='best')\n",
    "plt.show()"
   ]
  },
  {
   "cell_type": "code",
   "execution_count": 18,
   "metadata": {},
   "outputs": [
    {
     "name": "stdout",
     "output_type": "stream",
     "text": [
      "A quantidade de tópicos = 2  tem um valor de coerência de  0.2598\n",
      "A quantidade de tópicos = 4  tem um valor de coerência de  0.2973\n",
      "A quantidade de tópicos = 6  tem um valor de coerência de  0.3078\n",
      "A quantidade de tópicos = 8  tem um valor de coerência de  0.3097\n",
      "A quantidade de tópicos = 10  tem um valor de coerência de  0.3178\n",
      "A quantidade de tópicos = 12  tem um valor de coerência de  0.2893\n",
      "A quantidade de tópicos = 14  tem um valor de coerência de  0.2835\n",
      "A quantidade de tópicos = 16  tem um valor de coerência de  0.3023\n",
      "A quantidade de tópicos = 18  tem um valor de coerência de  0.3002\n",
      "A quantidade de tópicos = 20  tem um valor de coerência de  0.2826\n",
      "A quantidade de tópicos = 22  tem um valor de coerência de  0.2957\n",
      "A quantidade de tópicos = 24  tem um valor de coerência de  0.3039\n",
      "A quantidade de tópicos = 26  tem um valor de coerência de  0.2977\n",
      "A quantidade de tópicos = 28  tem um valor de coerência de  0.275\n"
     ]
    }
   ],
   "source": [
    "# Lista dos valores de coerência, para melhor identificar o ponto de inflexão do gráfico\n",
    "\n",
    "for m, cv in zip(x, coherence_values):\n",
    "    print(\"A quantidade de tópicos =\", m, \" tem um valor de coerência de \", round(cv, 4))"
   ]
  },
  {
   "cell_type": "markdown",
   "metadata": {},
   "source": [
    "Aqui conseguimos determinar a melhor quantidade de tópicos a serem analisados, que é 8 tópicos"
   ]
  },
  {
   "cell_type": "code",
   "execution_count": 19,
   "metadata": {},
   "outputs": [],
   "source": [
    "# Vamos agora construir de fato o modelo LDA\n",
    "\n",
    "lda_model = LdaMulticore(corpus=corpus,\n",
    "                        id2word=id2word,\n",
    "                        num_topics=4, \n",
    "                        random_state=42,\n",
    "                        chunksize=100,\n",
    "                        passes=10,\n",
    "                        per_word_topics=True)"
   ]
  },
  {
   "cell_type": "code",
   "execution_count": 20,
   "metadata": {},
   "outputs": [
    {
     "name": "stdout",
     "output_type": "stream",
     "text": [
      "\n",
      "Perplexidade:  -6.69929442251298\n"
     ]
    }
   ],
   "source": [
    "# Computar a perplexidade do modelo (quanto menor, melhor)\n",
    "\n",
    "print('\\nPerplexidade: ', lda_model.log_perplexity(corpus))"
   ]
  },
  {
   "cell_type": "code",
   "execution_count": 21,
   "metadata": {},
   "outputs": [
    {
     "name": "stdout",
     "output_type": "stream",
     "text": [
      "\n",
      "Score de Coerência:  0.2546067481676111\n"
     ]
    }
   ],
   "source": [
    "# Computar o Score de Coerência\n",
    "\n",
    "coherence_model_lda = CoherenceModel(model=lda_model, texts=lista, dictionary=id2word, coherence='c_v')\n",
    "coherence_lda = coherence_model_lda.get_coherence()\n",
    "print('\\nScore de Coerência: ', coherence_lda)"
   ]
  },
  {
   "cell_type": "code",
   "execution_count": 22,
   "metadata": {},
   "outputs": [
    {
     "data": {
      "text/html": [
       "\n",
       "<link rel=\"stylesheet\" type=\"text/css\" href=\"https://cdn.rawgit.com/bmabey/pyLDAvis/files/ldavis.v1.0.0.css\">\n",
       "\n",
       "\n",
       "<div id=\"ldavis_el1359628012274382808809695871\"></div>\n",
       "<script type=\"text/javascript\">\n",
       "\n",
       "var ldavis_el1359628012274382808809695871_data = {\"mdsDat\": {\"x\": [0.16964138819419675, 0.24386367656155541, -0.18817095143832124, -0.22533411331743097], \"y\": [-0.002123579496258498, 0.025894335191233075, -0.3043552376509487, 0.28058448195597413], \"topics\": [1, 2, 3, 4], \"cluster\": [1, 1, 1, 1], \"Freq\": [26.829517364501953, 25.661256790161133, 25.219463348388672, 22.289756774902344]}, \"tinfo\": {\"Term\": [\"corona\", \"coronavirus\", \"virus\", \"quando\", \"depois\", \"acabar\", \"deus\", \"merda\", \"corrente\", \"brasil\", \"gente\", \"passar\", \"cu\", \"falar\", \"agora\", \"tomar\", \"mae\", \"sim\", \"alguem\", \"contra\", \"tv\", \"nunca\", \"tempo\", \"povo\", \"caralho\", \"vida\", \"melhor\", \"mim\", \"mundo\", \"dm\", \"corona\", \"virus\", \"deus\", \"alguem\", \"nunca\", \"tempo\", \"vida\", \"cabelo\", \"logo\", \"matar\", \"tanto\", \"pessoa\", \"amor\", \"voltar\", \"pegar\", \"ninguem\", \"mal\", \"fim\", \"morrer\", \"cabeca\", \"favor\", \"comer\", \"daniel\", \"trabalho\", \"quase\", \"caso\", \"bbb\", \"senhor\", \"quanto\", \"normal\", \"jeito\", \"mundo\", \"gente\", \"bolsonaro\", \"agora\", \"casa\", \"presidente\", \"coronavirus\", \"pandemia\", \"ainda\", \"muito\", \"coisa\", \"mae\", \"contra\", \"menos\", \"saude\", \"bom\", \"entao\", \"cada\", \"boca\", \"semana\", \"video\", \"tambem\", \"preciso\", \"panelaco\", \"noite\", \"ano\", \"qual\", \"grupo\", \"discurso\", \"risco\", \"jair\", \"comigo\", \"pois\", \"grande\", \"foto\", \"jogar\", \"irmao\", \"realmente\", \"outro\", \"diario\", \"panela\", \"coronavirus\", \"gente\", \"casa\", \"novo\", \"pandemia\", \"bolsonaro\", \"porque\", \"nada\", \"presidente\", \"governo\", \"ainda\", \"momento\", \"muito\", \"depois\", \"corrente\", \"brasil\", \"cu\", \"tomar\", \"caralho\", \"dm\", \"filho\", \"primeiro\", \"meio\", \"kkk\", \"final\", \"tu\", \"maior\", \"kkkkkkk\", \"tedio\", \"desde\", \"parabens\", \"dois\", \"tirar\", \"burro\", \"mil\", \"comecou\", \"lixo\", \"ler\", \"twitter\", \"friends\", \"pau\", \"irresponsavel\", \"inteiro\", \"irma\", \"sim\", \"presidente\", \"pronunciamento\", \"bolsonaro\", \"muito\", \"mano\", \"mundo\", \"pandemia\", \"quando\", \"acabar\", \"merda\", \"passar\", \"falar\", \"tv\", \"povo\", \"melhor\", \"mim\", \"nacional\", \"pai\", \"dar\", \"rede\", \"oq\", \"pos\", \"sempre\", \"hora\", \"dps\", \"deixar\", \"amo\", \"mds\", \"medo\", \"ouvir\", \"dinheiro\", \"pessoal\", \"trabalhar\", \"internet\", \"ajudar\", \"msm\", \"mulher\", \"agora\", \"bolsonaro\", \"coisa\", \"casa\", \"presidente\", \"assim\", \"vez\", \"familia\"], \"Freq\": [15383.0, 10886.0, 6306.0, 5430.0, 5876.0, 5212.0, 4792.0, 4088.0, 4082.0, 3992.0, 6554.0, 2775.0, 2817.0, 2534.0, 4547.0, 2534.0, 2456.0, 3704.0, 2410.0, 2307.0, 2070.0, 2192.0, 2179.0, 1900.0, 2055.0, 2020.0, 1756.0, 1728.0, 3889.0, 1790.0, 15382.333984375, 6305.38330078125, 4791.90771484375, 2409.88427734375, 2191.79150390625, 2178.828125, 2019.0531005859375, 1749.2119140625, 1651.986572265625, 1477.3310546875, 1466.02001953125, 1360.037353515625, 1291.1512451171875, 1193.59521484375, 1196.2762451171875, 1198.70068359375, 1185.4334716796875, 1058.659423828125, 1046.448486328125, 1005.9974365234375, 968.6687622070312, 963.5333251953125, 940.1915893554688, 953.7677612304688, 927.3032836914062, 841.7305908203125, 773.454833984375, 765.4209594726562, 705.2445068359375, 679.8761596679688, 681.0845947265625, 2200.840087890625, 2288.389892578125, 4062.814208984375, 1683.20361328125, 1905.927978515625, 2408.898193359375, 1993.43896484375, 1219.0106201171875, 1077.798583984375, 1033.287841796875, 1014.308349609375, 2455.55615234375, 2306.4345703125, 1596.3370361328125, 1454.9488525390625, 1492.2635498046875, 1326.1700439453125, 1281.064453125, 1249.7891845703125, 1263.351318359375, 1214.915771484375, 1197.8731689453125, 1049.1365966796875, 986.7315673828125, 940.2147216796875, 951.000244140625, 911.9534912109375, 856.6127319335938, 838.917724609375, 843.32373046875, 838.0470581054688, 823.7986450195312, 807.3209838867188, 798.301025390625, 806.7532348632812, 789.7572021484375, 732.7872924804688, 700.84228515625, 697.2123413085938, 686.568115234375, 641.7394409179688, 8892.3427734375, 4265.302734375, 3415.046142578125, 1257.8614501953125, 2581.315185546875, 5460.14794921875, 1126.9849853515625, 1523.4229736328125, 3045.038818359375, 982.3703002929688, 1333.668212890625, 891.8557739257812, 1037.032958984375, 5875.10888671875, 4081.77734375, 3991.985595703125, 2816.694580078125, 2533.3203125, 2054.439208984375, 1789.4349365234375, 1605.47509765625, 1681.42138671875, 1612.27734375, 1423.7501220703125, 1465.1339111328125, 1410.6983642578125, 1242.40966796875, 1081.6937255859375, 1089.475341796875, 1081.3743896484375, 1018.98486328125, 1067.4759521484375, 1027.4844970703125, 916.6556396484375, 892.8075561523438, 855.7996215820312, 808.8592529296875, 793.541259765625, 792.9844970703125, 624.2843017578125, 623.9420776367188, 597.5859985351562, 600.0572509765625, 621.3772583007812, 2914.877197265625, 8060.32666015625, 2562.47119140625, 7321.75048828125, 1990.0599365234375, 1343.4149169921875, 1687.6298828125, 1753.7073974609375, 5429.16357421875, 5211.98193359375, 4087.8818359375, 2774.78271484375, 2533.118896484375, 2070.051513671875, 1899.7752685546875, 1755.06787109375, 1727.41357421875, 1587.8154296875, 1609.1796875, 1561.523193359375, 1450.3216552734375, 1368.4881591796875, 1325.14990234375, 1283.9166259765625, 1255.078369140625, 1135.44873046875, 972.0457153320312, 869.880615234375, 797.4853515625, 819.4696655273438, 705.5574951171875, 733.7113037109375, 699.4457397460938, 683.3460083007812, 684.8241577148438, 662.0772705078125, 605.7217407226562, 585.032958984375, 2863.1484375, 8371.3984375, 1600.567138671875, 1773.369384765625, 2380.677978515625, 1069.5108642578125, 823.2300415039062, 747.2583618164062], \"Total\": [15383.0, 10886.0, 6306.0, 5430.0, 5876.0, 5212.0, 4792.0, 4088.0, 4082.0, 3992.0, 6554.0, 2775.0, 2817.0, 2534.0, 4547.0, 2534.0, 2456.0, 3704.0, 2410.0, 2307.0, 2070.0, 2192.0, 2179.0, 1900.0, 2055.0, 2020.0, 1756.0, 1728.0, 3889.0, 1790.0, 15383.287109375, 6306.3310546875, 4792.84619140625, 2410.8232421875, 2192.74951171875, 2179.802978515625, 2020.00537109375, 1750.171875, 1652.943359375, 1478.2703857421875, 1466.9713134765625, 1360.993408203125, 1292.09521484375, 1194.5413818359375, 1197.2274169921875, 1199.6641845703125, 1186.38818359375, 1059.6168212890625, 1047.3948974609375, 1006.9500732421875, 969.6118774414062, 964.5098266601562, 941.1536254882812, 954.7460327148438, 928.2721557617188, 842.6973876953125, 774.421630859375, 766.3800659179688, 706.2097778320312, 680.8091430664062, 682.043212890625, 3889.073974609375, 6554.34765625, 25216.111328125, 4547.029296875, 7094.71875, 15894.94140625, 10886.447265625, 6207.26708984375, 3615.754150390625, 4060.67626953125, 2615.54736328125, 2456.512451171875, 2307.369384765625, 1597.2945556640625, 1455.88232421875, 1493.2225341796875, 1327.1142578125, 1282.003173828125, 1250.710693359375, 1264.3193359375, 1215.8641357421875, 1198.8189697265625, 1050.104248046875, 987.6533203125, 941.1654663085938, 951.9814453125, 912.8948974609375, 857.5415649414062, 839.8316650390625, 844.2501831054688, 838.9720458984375, 824.7493286132812, 808.27392578125, 799.2433471679688, 807.7095336914062, 790.7088623046875, 733.7318725585938, 701.7836303710938, 698.1608276367188, 687.5144653320312, 642.6593627929688, 10886.447265625, 6554.34765625, 7094.71875, 1690.006103515625, 6207.26708984375, 25216.111328125, 1541.109619140625, 2962.174560546875, 15894.94140625, 1303.466552734375, 3615.754150390625, 1152.4273681640625, 4060.67626953125, 5876.0048828125, 4082.6416015625, 3992.86962890625, 2817.548828125, 2534.17822265625, 2055.29736328125, 1790.3116455078125, 1606.33837890625, 1682.345458984375, 1613.17529296875, 1424.6297607421875, 1466.042724609375, 1411.5928955078125, 1243.312744140625, 1082.5736083984375, 1090.3787841796875, 1082.2880859375, 1019.8526000976562, 1068.3966064453125, 1028.4031982421875, 917.508544921875, 893.7111206054688, 856.7042846679688, 809.7178955078125, 794.4241333007812, 793.8880615234375, 625.1401977539062, 624.8038940429688, 598.44140625, 600.9341430664062, 622.3027954101562, 3704.250732421875, 15894.94140625, 3929.75634765625, 25216.111328125, 4060.67626953125, 2172.42626953125, 3889.073974609375, 6207.26708984375, 5430.11962890625, 5212.9306640625, 4088.810791015625, 2775.739501953125, 2534.057861328125, 2070.980712890625, 1900.73828125, 1756.0299072265625, 1728.3787841796875, 1588.744873046875, 1610.135986328125, 1562.4874267578125, 1451.2493896484375, 1369.433837890625, 1326.1143798828125, 1284.8861083984375, 1256.04736328125, 1136.40478515625, 973.02978515625, 870.8486328125, 798.4203491210938, 820.4536743164062, 706.4993896484375, 734.7010498046875, 700.4070434570312, 684.3170776367188, 685.8024291992188, 663.0971069335938, 606.6751708984375, 586.005859375, 4547.029296875, 25216.111328125, 2615.54736328125, 7094.71875, 15894.94140625, 2256.4755859375, 1540.85302734375, 1307.1005859375], \"Category\": [\"Default\", \"Default\", \"Default\", \"Default\", \"Default\", \"Default\", \"Default\", \"Default\", \"Default\", \"Default\", \"Default\", \"Default\", \"Default\", \"Default\", \"Default\", \"Default\", \"Default\", \"Default\", \"Default\", \"Default\", \"Default\", \"Default\", \"Default\", \"Default\", \"Default\", \"Default\", \"Default\", \"Default\", \"Default\", \"Default\", \"Topic1\", \"Topic1\", \"Topic1\", \"Topic1\", \"Topic1\", \"Topic1\", \"Topic1\", \"Topic1\", \"Topic1\", \"Topic1\", \"Topic1\", \"Topic1\", \"Topic1\", \"Topic1\", \"Topic1\", \"Topic1\", \"Topic1\", \"Topic1\", \"Topic1\", \"Topic1\", \"Topic1\", \"Topic1\", \"Topic1\", \"Topic1\", \"Topic1\", \"Topic1\", \"Topic1\", \"Topic1\", \"Topic1\", \"Topic1\", \"Topic1\", \"Topic1\", \"Topic1\", \"Topic1\", \"Topic1\", \"Topic1\", \"Topic1\", \"Topic1\", \"Topic1\", \"Topic1\", \"Topic1\", \"Topic1\", \"Topic2\", \"Topic2\", \"Topic2\", \"Topic2\", \"Topic2\", \"Topic2\", \"Topic2\", \"Topic2\", \"Topic2\", \"Topic2\", \"Topic2\", \"Topic2\", \"Topic2\", \"Topic2\", \"Topic2\", \"Topic2\", \"Topic2\", \"Topic2\", \"Topic2\", \"Topic2\", \"Topic2\", \"Topic2\", \"Topic2\", \"Topic2\", \"Topic2\", \"Topic2\", \"Topic2\", \"Topic2\", \"Topic2\", \"Topic2\", \"Topic2\", \"Topic2\", \"Topic2\", \"Topic2\", \"Topic2\", \"Topic2\", \"Topic2\", \"Topic2\", \"Topic2\", \"Topic2\", \"Topic2\", \"Topic2\", \"Topic2\", \"Topic3\", \"Topic3\", \"Topic3\", \"Topic3\", \"Topic3\", \"Topic3\", \"Topic3\", \"Topic3\", \"Topic3\", \"Topic3\", \"Topic3\", \"Topic3\", \"Topic3\", \"Topic3\", \"Topic3\", \"Topic3\", \"Topic3\", \"Topic3\", \"Topic3\", \"Topic3\", \"Topic3\", \"Topic3\", \"Topic3\", \"Topic3\", \"Topic3\", \"Topic3\", \"Topic3\", \"Topic3\", \"Topic3\", \"Topic3\", \"Topic3\", \"Topic3\", \"Topic3\", \"Topic3\", \"Topic3\", \"Topic3\", \"Topic3\", \"Topic3\", \"Topic3\", \"Topic4\", \"Topic4\", \"Topic4\", \"Topic4\", \"Topic4\", \"Topic4\", \"Topic4\", \"Topic4\", \"Topic4\", \"Topic4\", \"Topic4\", \"Topic4\", \"Topic4\", \"Topic4\", \"Topic4\", \"Topic4\", \"Topic4\", \"Topic4\", \"Topic4\", \"Topic4\", \"Topic4\", \"Topic4\", \"Topic4\", \"Topic4\", \"Topic4\", \"Topic4\", \"Topic4\", \"Topic4\", \"Topic4\", \"Topic4\", \"Topic4\", \"Topic4\", \"Topic4\", \"Topic4\", \"Topic4\", \"Topic4\", \"Topic4\", \"Topic4\"], \"logprob\": [30.0, 29.0, 28.0, 27.0, 26.0, 25.0, 24.0, 23.0, 22.0, 21.0, 20.0, 19.0, 18.0, 17.0, 16.0, 15.0, 14.0, 13.0, 12.0, 11.0, 10.0, 9.0, 8.0, 7.0, 6.0, 5.0, 4.0, 3.0, 2.0, 1.0, -2.3828001022338867, -3.274600028991699, -3.549099922180176, -4.236499786376953, -4.331299781799316, -4.337200164794922, -4.413400173187256, -4.5569000244140625, -4.614099979400635, -4.725800037384033, -4.733500003814697, -4.808499813079834, -4.860499858856201, -4.9390997886657715, -4.936800003051758, -4.934800148010254, -4.945899963378906, -5.059000015258789, -5.0706000328063965, -5.110099792480469, -5.147900104522705, -5.153200149536133, -5.177700042724609, -5.163400173187256, -5.191500186920166, -5.288300037384033, -5.372900009155273, -5.383399963378906, -5.465199947357178, -5.5019001960754395, -5.500100135803223, -4.327199935913086, -4.2881999015808105, -3.714200019836426, -4.595300197601318, -4.471099853515625, -4.2368998527526855, -4.426199913024902, -4.918000221252441, -5.041100025177002, -5.0833001136779785, -5.101799964904785, -4.1732001304626465, -4.235799789428711, -4.603799819946289, -4.696499824523926, -4.671199798583984, -4.7891998291015625, -4.823800086975098, -4.848499774932861, -4.837699890136719, -4.876800060272217, -4.890999794006348, -5.023499965667725, -5.08489990234375, -5.133200168609619, -5.121799945831299, -5.163700103759766, -5.22629976272583, -5.247200012207031, -5.2418999671936035, -5.248199939727783, -5.2652997970581055, -5.2855000495910645, -5.296800136566162, -5.286300182342529, -5.307499885559082, -5.382400035858154, -5.427000045776367, -5.432199954986572, -5.4475998878479, -5.515100002288818, -2.8863000869750977, -3.621000051498413, -3.8433001041412354, -4.842100143432617, -4.123199939727783, -3.374000072479248, -4.952000141143799, -4.650599956512451, -3.9579999446868896, -5.089300155639648, -4.783599853515625, -5.185999870300293, -5.035200119018555, -3.283400058746338, -3.647599935531616, -3.6698999404907227, -4.018599987030029, -4.124599933624268, -4.334099769592285, -4.4721999168396, -4.580699920654297, -4.5345001220703125, -4.576499938964844, -4.700900077819824, -4.6722002029418945, -4.710100173950195, -4.837100028991699, -4.975599765777588, -4.968500137329102, -4.975900173187256, -5.035299777984619, -4.988800048828125, -5.0269999504089355, -5.141200065612793, -5.167500019073486, -5.20989990234375, -5.266300201416016, -5.285399913787842, -5.286099910736084, -5.525300025939941, -5.5258002281188965, -5.568999767303467, -5.564899921417236, -5.53000020980835, -3.984299898147583, -2.9672000408172607, -4.1132001876831055, -3.0632998943328857, -4.366000175476074, -4.758900165557861, -4.530799865722656, -4.492400169372559, -3.2388999462127686, -3.2797000408172607, -3.522599935531616, -3.910099983215332, -4.001200199127197, -4.203100204467773, -4.288899898529053, -4.368199825286865, -4.383999824523926, -4.468299865722656, -4.454899787902832, -4.485000133514404, -4.558899879455566, -4.617000102996826, -4.649099826812744, -4.680699825286865, -4.703499794006348, -4.803599834442139, -4.959000110626221, -5.070099830627441, -5.1570000648498535, -5.129799842834473, -5.279399871826172, -5.240300178527832, -5.288099765777588, -5.311399936676025, -5.309299945831299, -5.3429999351501465, -5.432000160217285, -5.466700077056885, -3.878700017929077, -2.805799961090088, -4.460299968719482, -4.357800006866455, -4.063300132751465, -4.863500118255615, -5.125199794769287, -5.2220001220703125], \"loglift\": [30.0, 29.0, 28.0, 27.0, 26.0, 25.0, 24.0, 23.0, 22.0, 21.0, 20.0, 19.0, 18.0, 17.0, 16.0, 15.0, 14.0, 13.0, 12.0, 11.0, 10.0, 9.0, 8.0, 7.0, 6.0, 5.0, 4.0, 3.0, 2.0, 1.0, 1.315600037574768, 1.315500020980835, 1.315500020980835, 1.3152999877929688, 1.3151999711990356, 1.3151999711990356, 1.3151999711990356, 1.3150999546051025, 1.3150999546051025, 1.315000057220459, 1.315000057220459, 1.315000057220459, 1.3149000406265259, 1.3149000406265259, 1.3149000406265259, 1.3149000406265259, 1.3149000406265259, 1.3148000240325928, 1.3148000240325928, 1.3147000074386597, 1.3147000074386597, 1.3147000074386597, 1.3145999908447266, 1.3145999908447266, 1.3145999908447266, 1.3144999742507935, 1.3143999576568604, 1.3143999576568604, 1.3142999410629272, 1.3142999410629272, 1.3142999410629272, 0.7462999820709229, 0.26339998841285706, -0.5098999738693237, 0.32190001010894775, 0.0013000000035390258, -0.5712000131607056, -0.38199999928474426, -0.31200000643730164, 0.10530000180006027, -0.05290000140666962, 0.3684000074863434, 1.3597999811172485, 1.3597999811172485, 1.3595999479293823, 1.3595000505447388, 1.3595000505447388, 1.3595000505447388, 1.3595000505447388, 1.3595000505447388, 1.3594000339508057, 1.3594000339508057, 1.3594000339508057, 1.3593000173568726, 1.3593000173568726, 1.3592000007629395, 1.3592000007629395, 1.3592000007629395, 1.3590999841690063, 1.3590999841690063, 1.3590999841690063, 1.3590999841690063, 1.3589999675750732, 1.3589999675750732, 1.3589999675750732, 1.3589999675750732, 1.3589999675750732, 1.3588999509811401, 1.3588000535964966, 1.3588000535964966, 1.3588000535964966, 1.3588000535964966, 1.1578999757766724, 0.9305999875068665, 0.6290000081062317, 1.0649000406265259, 0.4828000068664551, -0.16979999840259552, 1.0471999645233154, 0.6952000260353088, -0.2922999858856201, 1.0773999691009521, 0.3628000020980835, 1.1038999557495117, -0.004800000227987766, 1.3774000406265259, 1.3773000240325928, 1.3773000240325928, 1.3773000240325928, 1.3772000074386597, 1.3770999908447266, 1.3770999908447266, 1.3769999742507935, 1.3769999742507935, 1.3769999742507935, 1.3768999576568604, 1.3768999576568604, 1.3768999576568604, 1.3767999410629272, 1.3767000436782837, 1.3767000436782837, 1.3767000436782837, 1.3767000436782837, 1.3767000436782837, 1.3767000436782837, 1.3766000270843506, 1.3765000104904175, 1.3765000104904175, 1.3765000104904175, 1.3763999938964844, 1.3763999938964844, 1.3761999607086182, 1.3761999607086182, 1.376099944114685, 1.376099944114685, 1.376099944114685, 1.1378999948501587, 0.6984999775886536, 0.9498999714851379, 0.14090000092983246, 0.6643999814987183, 0.8968999981880188, 0.5426999926567078, 0.1136000007390976, 1.5009000301361084, 1.5009000301361084, 1.5008000135421753, 1.5006999969482422, 1.5006999969482422, 1.500599980354309, 1.500499963760376, 1.500499963760376, 1.500499963760376, 1.500499963760376, 1.5003999471664429, 1.5003999471664429, 1.5003999471664429, 1.5003999471664429, 1.5003000497817993, 1.5003000497817993, 1.5003000497817993, 1.5002000331878662, 1.5, 1.499899983406067, 1.499899983406067, 1.4997999668121338, 1.4996999502182007, 1.4996999502182007, 1.4996999502182007, 1.4996000528335571, 1.4996000528335571, 1.499500036239624, 1.499500036239624, 1.499400019645691, 1.0384999513626099, 0.3984000086784363, 1.0098999738693237, 0.11460000276565552, -0.397599995136261, 0.7544000148773193, 0.8741999864578247, 0.9419000148773193]}, \"token.table\": {\"Topic\": [4, 1, 4, 1, 2, 3, 4, 4, 1, 4, 1, 2, 1, 2, 4, 1, 2, 1, 2, 3, 4, 2, 3, 3, 1, 1, 2, 3, 1, 2, 4, 1, 1, 4, 3, 1, 2, 2, 1, 1, 2, 3, 3, 1, 4, 4, 3, 3, 1, 2, 4, 2, 3, 3, 4, 2, 4, 1, 4, 1, 3, 1, 3, 2, 3, 1, 2, 1, 2, 2, 2, 4, 3, 4, 3, 2, 3, 2, 1, 2, 3, 3, 3, 3, 1, 2, 3, 1, 1, 3, 4, 1, 4, 4, 3, 4, 2, 4, 3, 4, 1, 2, 1, 4, 1, 2, 3, 4, 1, 3, 4, 1, 2, 4, 1, 2, 1, 2, 4, 1, 4, 2, 4, 4, 1, 2, 3, 4, 2, 2, 3, 4, 3, 1, 1, 4, 2, 1, 2, 4, 4, 2, 1, 2, 3, 4, 3, 2, 3, 4, 2, 4, 1, 1, 2, 4, 2, 2, 2, 4, 1, 1, 3, 2, 1, 3, 1, 3, 3, 4, 1, 3, 4, 3, 2, 4, 1, 2, 1, 1], \"Freq\": [0.9998214840888977, 0.3701317608356476, 0.6296418905258179, 0.298139750957489, 0.3689410090446472, 0.24476221203804016, 0.08822502195835114, 0.9983454942703247, 0.9996585249900818, 0.9990255236625671, 0.9991523623466492, 0.9989690780639648, 0.31509315967559814, 0.21050526201725006, 0.4741908013820648, 0.9981642961502075, 0.9994317889213562, 0.16112715005874634, 0.21652823686599731, 0.2903698980808258, 0.33197030425071716, 0.9991812705993652, 0.9997822046279907, 0.9994457364082336, 0.9990564584732056, 0.9993304014205933, 0.9992175102233887, 0.9993687868118286, 0.26865053176879883, 0.48134395480155945, 0.24990420043468475, 0.9991724491119385, 0.3876817524433136, 0.6121089458465576, 0.9991779327392578, 0.9994714260101318, 0.9990914463996887, 0.9994065165519714, 0.9999163150787354, 0.18307165801525116, 0.8167954087257385, 0.9998428225517273, 0.999805212020874, 0.9987742304801941, 0.9996880292892456, 0.9989416599273682, 0.9998289942741394, 0.9988098740577698, 0.9998234510421753, 0.9992517232894897, 0.9990457892417908, 0.9990097284317017, 0.9992673397064209, 0.9986928105354309, 0.9987638592720032, 0.9991604089736938, 0.9995825290679932, 0.4276641011238098, 0.5714938640594482, 0.9993689656257629, 0.9991667866706848, 0.9994179010391235, 0.9992887377738953, 0.9991215467453003, 0.998176097869873, 0.34908127784729004, 0.6507131457328796, 0.24549920856952667, 0.7533757090568542, 0.9984443187713623, 0.9993684887886047, 0.9991661310195923, 0.9984455108642578, 0.9988299608230591, 0.997906506061554, 0.9990025162696838, 0.9992623925209045, 0.998841404914856, 0.9984704852104187, 0.9991034865379333, 0.9995579719543457, 0.9994701147079468, 0.9994661211967468, 0.9991133809089661, 0.9994292855262756, 0.9997913837432861, 0.9989441633224487, 0.9988299012184143, 0.1735386848449707, 0.618202805519104, 0.20760197937488556, 0.9991406202316284, 0.9982210397720337, 0.9982281923294067, 0.9992714524269104, 0.9994134902954102, 0.999189555644989, 0.9998016953468323, 0.9992042779922485, 0.9992022514343262, 0.22561074793338776, 0.774018406867981, 0.9986681938171387, 0.9988871216773987, 0.2543911337852478, 0.2553761899471283, 0.49006614089012146, 0.9982835054397583, 0.565944492816925, 0.4340364933013916, 0.9995311498641968, 0.30889469385147095, 0.5141493082046509, 0.1768970638513565, 0.9994463324546814, 0.9987616539001465, 0.9988114833831787, 0.744376003742218, 0.2550286650657654, 0.9996581673622131, 0.9989529848098755, 0.9983373284339905, 0.9992931485176086, 0.9992944598197937, 0.19638271629810333, 0.4158029556274414, 0.28257203102111816, 0.10519927740097046, 0.9989740252494812, 0.9993385076522827, 0.9991639852523804, 0.999733567237854, 0.9987133741378784, 0.9989748001098633, 0.9992700815200806, 0.9979910850524902, 0.9984238743782043, 0.2679887115955353, 0.7312912344932556, 0.9991596937179565, 0.9996115565299988, 0.9989484548568726, 0.15155765414237976, 0.19157038629055023, 0.507079541683197, 0.14979608356952667, 0.9992002248764038, 0.17100296914577484, 0.6519488096237183, 0.17685574293136597, 0.9990197420120239, 0.9997938275337219, 0.9982869625091553, 0.9986295700073242, 0.9988833665847778, 0.9991390705108643, 0.9985191822052002, 0.9993939399719238, 0.9989565014839172, 0.9993103742599487, 0.9981992244720459, 0.21299853920936584, 0.7869337797164917, 0.9993168711662292, 0.9993378520011902, 0.9987354874610901, 0.9996316432952881, 0.9986355304718018, 0.999535083770752, 0.9980753660202026, 0.9992185831069946, 0.9995799660682678, 0.9995264410972595, 0.9988813996315002, 0.4653266668319702, 0.534119725227356, 0.9995023012161255, 0.9992892742156982, 0.9997889399528503, 0.9995467662811279], \"Term\": [\"acabar\", \"agora\", \"agora\", \"ainda\", \"ainda\", \"ainda\", \"ainda\", \"ajudar\", \"alguem\", \"amo\", \"amor\", \"ano\", \"assim\", \"assim\", \"assim\", \"bbb\", \"boca\", \"bolsonaro\", \"bolsonaro\", \"bolsonaro\", \"bolsonaro\", \"bom\", \"brasil\", \"burro\", \"cabeca\", \"cabelo\", \"cada\", \"caralho\", \"casa\", \"casa\", \"casa\", \"caso\", \"coisa\", \"coisa\", \"comecou\", \"comer\", \"comigo\", \"contra\", \"corona\", \"coronavirus\", \"coronavirus\", \"corrente\", \"cu\", \"daniel\", \"dar\", \"deixar\", \"depois\", \"desde\", \"deus\", \"diario\", \"dinheiro\", \"discurso\", \"dm\", \"dois\", \"dps\", \"entao\", \"falar\", \"familia\", \"familia\", \"favor\", \"filho\", \"fim\", \"final\", \"foto\", \"friends\", \"gente\", \"gente\", \"governo\", \"governo\", \"grande\", \"grupo\", \"hora\", \"inteiro\", \"internet\", \"irma\", \"irmao\", \"irresponsavel\", \"jair\", \"jeito\", \"jogar\", \"kkk\", \"kkkkkkk\", \"ler\", \"lixo\", \"logo\", \"mae\", \"maior\", \"mal\", \"mano\", \"mano\", \"mano\", \"matar\", \"mds\", \"medo\", \"meio\", \"melhor\", \"menos\", \"merda\", \"mil\", \"mim\", \"momento\", \"momento\", \"morrer\", \"msm\", \"muito\", \"muito\", \"muito\", \"mulher\", \"mundo\", \"mundo\", \"nacional\", \"nada\", \"nada\", \"nada\", \"ninguem\", \"noite\", \"normal\", \"novo\", \"novo\", \"nunca\", \"oq\", \"outro\", \"ouvir\", \"pai\", \"pandemia\", \"pandemia\", \"pandemia\", \"pandemia\", \"panela\", \"panelaco\", \"parabens\", \"passar\", \"pau\", \"pegar\", \"pessoa\", \"pessoal\", \"pois\", \"porque\", \"porque\", \"pos\", \"povo\", \"preciso\", \"presidente\", \"presidente\", \"presidente\", \"presidente\", \"primeiro\", \"pronunciamento\", \"pronunciamento\", \"pronunciamento\", \"qual\", \"quando\", \"quanto\", \"quase\", \"realmente\", \"rede\", \"risco\", \"saude\", \"semana\", \"sempre\", \"senhor\", \"sim\", \"sim\", \"tambem\", \"tanto\", \"tedio\", \"tempo\", \"tirar\", \"tomar\", \"trabalhar\", \"trabalho\", \"tu\", \"tv\", \"twitter\", \"vez\", \"vez\", \"vida\", \"video\", \"virus\", \"voltar\"]}, \"R\": 30, \"lambda.step\": 0.01, \"plot.opts\": {\"xlab\": \"PC1\", \"ylab\": \"PC2\"}, \"topic.order\": [1, 3, 2, 4]};\n",
       "\n",
       "function LDAvis_load_lib(url, callback){\n",
       "  var s = document.createElement('script');\n",
       "  s.src = url;\n",
       "  s.async = true;\n",
       "  s.onreadystatechange = s.onload = callback;\n",
       "  s.onerror = function(){console.warn(\"failed to load library \" + url);};\n",
       "  document.getElementsByTagName(\"head\")[0].appendChild(s);\n",
       "}\n",
       "\n",
       "if(typeof(LDAvis) !== \"undefined\"){\n",
       "   // already loaded: just create the visualization\n",
       "   !function(LDAvis){\n",
       "       new LDAvis(\"#\" + \"ldavis_el1359628012274382808809695871\", ldavis_el1359628012274382808809695871_data);\n",
       "   }(LDAvis);\n",
       "}else if(typeof define === \"function\" && define.amd){\n",
       "   // require.js is available: use it to load d3/LDAvis\n",
       "   require.config({paths: {d3: \"https://cdnjs.cloudflare.com/ajax/libs/d3/3.5.5/d3.min\"}});\n",
       "   require([\"d3\"], function(d3){\n",
       "      window.d3 = d3;\n",
       "      LDAvis_load_lib(\"https://cdn.rawgit.com/bmabey/pyLDAvis/files/ldavis.v1.0.0.js\", function(){\n",
       "        new LDAvis(\"#\" + \"ldavis_el1359628012274382808809695871\", ldavis_el1359628012274382808809695871_data);\n",
       "      });\n",
       "    });\n",
       "}else{\n",
       "    // require.js not available: dynamically load d3 & LDAvis\n",
       "    LDAvis_load_lib(\"https://cdnjs.cloudflare.com/ajax/libs/d3/3.5.5/d3.min.js\", function(){\n",
       "         LDAvis_load_lib(\"https://cdn.rawgit.com/bmabey/pyLDAvis/files/ldavis.v1.0.0.js\", function(){\n",
       "                 new LDAvis(\"#\" + \"ldavis_el1359628012274382808809695871\", ldavis_el1359628012274382808809695871_data);\n",
       "            })\n",
       "         });\n",
       "}\n",
       "</script>"
      ],
      "text/plain": [
       "PreparedData(topic_coordinates=              x         y  topics  cluster       Freq\n",
       "topic                                                \n",
       "0      0.169641 -0.002124       1        1  26.829517\n",
       "2      0.243864  0.025894       2        1  25.661257\n",
       "1     -0.188171 -0.304355       3        1  25.219463\n",
       "3     -0.225334  0.280584       4        1  22.289757, topic_info=            Term          Freq         Total Category  logprob  loglift\n",
       "39        corona  15383.000000  15383.000000  Default  30.0000  30.0000\n",
       "134  coronavirus  10886.000000  10886.000000  Default  29.0000  29.0000\n",
       "41         virus   6306.000000   6306.000000  Default  28.0000  28.0000\n",
       "152       quando   5430.000000   5430.000000  Default  27.0000  27.0000\n",
       "240       depois   5876.000000   5876.000000  Default  26.0000  26.0000\n",
       "..           ...           ...           ...      ...      ...      ...\n",
       "173         casa   1773.369385   7094.718750   Topic4  -4.3578   0.1146\n",
       "30    presidente   2380.677979  15894.941406   Topic4  -4.0633  -0.3976\n",
       "65         assim   1069.510864   2256.475586   Topic4  -4.8635   0.7544\n",
       "250          vez    823.230042   1540.853027   Topic4  -5.1252   0.8742\n",
       "23       familia    747.258362   1307.100586   Topic4  -5.2220   0.9419\n",
       "\n",
       "[192 rows x 6 columns], token_table=      Topic      Freq    Term\n",
       "term                         \n",
       "183       4  0.999821  acabar\n",
       "50        1  0.370132   agora\n",
       "50        4  0.629642   agora\n",
       "33        1  0.298140   ainda\n",
       "33        2  0.368941   ainda\n",
       "...     ...       ...     ...\n",
       "250       4  0.534120     vez\n",
       "73        1  0.999502    vida\n",
       "76        2  0.999289   video\n",
       "41        1  0.999789   virus\n",
       "111       1  0.999547  voltar\n",
       "\n",
       "[180 rows x 3 columns], R=30, lambda_step=0.01, plot_opts={'xlab': 'PC1', 'ylab': 'PC2'}, topic_order=[1, 3, 2, 4])"
      ]
     },
     "execution_count": 22,
     "metadata": {},
     "output_type": "execute_result"
    }
   ],
   "source": [
    "# Visualização dos tópicos em clusters\n",
    "\n",
    "pyLDAvis.enable_notebook()\n",
    "vis = pyLDAvis.gensim.prepare(lda_model, corpus, id2word)\n",
    "vis"
   ]
  },
  {
   "cell_type": "code",
   "execution_count": 23,
   "metadata": {},
   "outputs": [
    {
     "name": "stdout",
     "output_type": "stream",
     "text": [
      "[(0,\n",
      "  '0.140*\"bolsonaro\" + 0.040*\"mano\" + 0.029*\"agora\" + 0.020*\"alguem\" + '\n",
      "  '0.015*\"panela\" + 0.015*\"mae\" + 0.014*\"pronunciamento\" + 0.012*\"favor\" + '\n",
      "  '0.012*\"discurso\" + 0.011*\"coronavirus\"'),\n",
      " (1,\n",
      "  '0.202*\"presidente\" + 0.049*\"brasil\" + 0.023*\"coronavirus\" + '\n",
      "  '0.017*\"parabens\" + 0.012*\"vez\" + 0.012*\"ainda\" + 0.011*\"povo\" + '\n",
      "  '0.011*\"pronunciamento\" + 0.010*\"matar\" + 0.009*\"cada\"'),\n",
      " (2,\n",
      "  '0.056*\"bolsonaro\" + 0.038*\"coronavirus\" + 0.022*\"gripezinha\" + 0.022*\"sim\" '\n",
      "  '+ 0.020*\"pandemia\" + 0.019*\"risco\" + 0.018*\"voltar\" + 0.018*\"fechar\" + '\n",
      "  '0.016*\"grupo\" + 0.015*\"presidente\"'),\n",
      " (3,\n",
      "  '0.112*\"bolsonaro\" + 0.089*\"cu\" + 0.070*\"tomar\" + 0.040*\"presidente\" + '\n",
      "  '0.030*\"caralho\" + 0.026*\"filho\" + 0.020*\"vontade\" + 0.018*\"meio\" + '\n",
      "  '0.015*\"imbecil\" + 0.014*\"pau\"'),\n",
      " (4,\n",
      "  '0.112*\"corona\" + 0.044*\"virus\" + 0.032*\"casa\" + 0.030*\"acabar\" + '\n",
      "  '0.026*\"quando\" + 0.018*\"passar\" + 0.016*\"coronavirus\" + 0.011*\"depois\" + '\n",
      "  '0.011*\"nada\" + 0.009*\"pegar\"'),\n",
      " (5,\n",
      "  '0.040*\"bolsonaro\" + 0.026*\"corrente\" + 0.023*\"coronavirus\" + 0.022*\"contra\" '\n",
      "  '+ 0.017*\"casa\" + 0.016*\"presidente\" + 0.014*\"hora\" + 0.014*\"panelaco\" + '\n",
      "  '0.012*\"dps\" + 0.009*\"pandemia\"'),\n",
      " (6,\n",
      "  '0.128*\"bolsonaro\" + 0.090*\"merda\" + 0.075*\"deus\" + 0.064*\"presidente\" + '\n",
      "  '0.030*\"falar\" + 0.028*\"nacional\" + 0.027*\"boca\" + 0.026*\"rede\" + '\n",
      "  '0.023*\"vergonha\" + 0.020*\"gente\"'),\n",
      " (7,\n",
      "  '0.204*\"bolsonaro\" + 0.062*\"gente\" + 0.025*\"ainda\" + 0.020*\"pronunciamento\" '\n",
      "  '+ 0.019*\"atleta\" + 0.015*\"mundo\" + 0.014*\"historico\" + 0.013*\"presidente\" + '\n",
      "  '0.012*\"oq\" + 0.011*\"matar\"'),\n",
      " (8,\n",
      "  '0.038*\"bolsonaro\" + 0.030*\"presidente\" + 0.022*\"mal\" + 0.015*\"quando\" + '\n",
      "  '0.015*\"fim\" + 0.014*\"muito\" + 0.013*\"final\" + 0.011*\"realmente\" + '\n",
      "  '0.011*\"acabar\" + 0.011*\"gente\"'),\n",
      " (9,\n",
      "  '0.093*\"presidente\" + 0.076*\"pronunciamento\" + 0.056*\"bolsonaro\" + '\n",
      "  '0.035*\"depois\" + 0.034*\"tv\" + 0.013*\"nacional\" + 0.011*\"agora\" + '\n",
      "  '0.011*\"gente\" + 0.010*\"oficial\" + 0.010*\"rede\"')]\n"
     ]
    }
   ],
   "source": [
    "# Escolhe o modelo\n",
    "\n",
    "optimal_model = model_list[3]\n",
    "model_topics = optimal_model.show_topics(formatted=False)\n",
    "pprint(optimal_model.print_topics(num_words=10))"
   ]
  },
  {
   "cell_type": "code",
   "execution_count": 24,
   "metadata": {},
   "outputs": [],
   "source": [
    "# Encontrar qual o principal tópico em cada tweet\n",
    "\n",
    "def format_topics_sentences(ldamodel=lda_model, corpus=corpus, texts=lista):\n",
    "    # Output\n",
    "    sent_topics_df = pd.DataFrame()\n",
    "\n",
    "    # Seleciona o principal tópico de cada tweet\n",
    "    for i, row in enumerate(ldamodel[corpus]):\n",
    "        row = sorted(row, key=lambda x: (x[1]), reverse=True)\n",
    "        # Calcula o principal tópico, o percentual de contribuição e as palavras chaves de cada tweet\n",
    "        for j, (topic_num, prop_topic) in enumerate(row):\n",
    "            if j == 0:  # => mostra o principal tópico\n",
    "                wp = ldamodel.show_topic(topic_num)\n",
    "                topic_keywords = \", \".join([word for word, prop in wp])\n",
    "                sent_topics_df = sent_topics_df.append(pd.Series([int(topic_num), round(prop_topic,4), topic_keywords]), ignore_index=True)\n",
    "            else:\n",
    "                break\n",
    "    sent_topics_df.columns = ['Principal_Topico', 'Perc_Contributicao', 'Palavras_Chave']\n",
    "\n",
    "    # Inclui o texto original no final do DataFrame\n",
    "    contents = pd.Series(texts)\n",
    "    sent_topics_df = pd.concat([sent_topics_df, contents], axis=1)\n",
    "    return(sent_topics_df)"
   ]
  },
  {
   "cell_type": "code",
   "execution_count": 25,
   "metadata": {},
   "outputs": [],
   "source": [
    "# roda a função de calcular os principais tópicos de cada tweet\n",
    "\n",
    "df_topic_sents_keywords = format_topics_sentences(ldamodel=optimal_model, corpus=corpus, texts=lista)"
   ]
  },
  {
   "cell_type": "code",
   "execution_count": 26,
   "metadata": {},
   "outputs": [],
   "source": [
    "# Formata o DataFrame\n",
    "\n",
    "df_dominant_topic = df_topic_sents_keywords.reset_index()\n",
    "df_dominant_topic.columns = ['Index_DF_Original', 'Principal_Topico', 'Perc_Contrib_Topico', 'Palavras_Chave', 'Tweets']"
   ]
  },
  {
   "cell_type": "code",
   "execution_count": 27,
   "metadata": {
    "scrolled": true
   },
   "outputs": [
    {
     "data": {
      "text/html": [
       "<div>\n",
       "<style scoped>\n",
       "    .dataframe tbody tr th:only-of-type {\n",
       "        vertical-align: middle;\n",
       "    }\n",
       "\n",
       "    .dataframe tbody tr th {\n",
       "        vertical-align: top;\n",
       "    }\n",
       "\n",
       "    .dataframe thead th {\n",
       "        text-align: right;\n",
       "    }\n",
       "</style>\n",
       "<table border=\"1\" class=\"dataframe\">\n",
       "  <thead>\n",
       "    <tr style=\"text-align: right;\">\n",
       "      <th></th>\n",
       "      <th>Topico</th>\n",
       "      <th>Topico_Perc_Contrib</th>\n",
       "      <th>Palavras_Chave</th>\n",
       "      <th>Tweet</th>\n",
       "    </tr>\n",
       "  </thead>\n",
       "  <tbody>\n",
       "    <tr>\n",
       "      <th>0</th>\n",
       "      <td>0.0</td>\n",
       "      <td>0.9250</td>\n",
       "      <td>bolsonaro, mano, agora, alguem, panela, mae, p...</td>\n",
       "      <td>[quase, qual, faca, melhorar, indireta, porra,...</td>\n",
       "    </tr>\n",
       "    <tr>\n",
       "      <th>1</th>\n",
       "      <td>1.0</td>\n",
       "      <td>0.9400</td>\n",
       "      <td>presidente, brasil, coronavirus, parabens, vez...</td>\n",
       "      <td>[situacao, chorar, pensar, irresponsavel, prov...</td>\n",
       "    </tr>\n",
       "    <tr>\n",
       "      <th>2</th>\n",
       "      <td>2.0</td>\n",
       "      <td>0.9500</td>\n",
       "      <td>bolsonaro, coronavirus, gripezinha, sim, pande...</td>\n",
       "      <td>[ok, diminuir, necessidade, jeito, histeria, s...</td>\n",
       "    </tr>\n",
       "    <tr>\n",
       "      <th>3</th>\n",
       "      <td>3.0</td>\n",
       "      <td>0.9357</td>\n",
       "      <td>bolsonaro, cu, tomar, presidente, caralho, fil...</td>\n",
       "      <td>[poder, possivel, fdp, burro, inutil, corrupto...</td>\n",
       "    </tr>\n",
       "    <tr>\n",
       "      <th>4</th>\n",
       "      <td>4.0</td>\n",
       "      <td>0.9400</td>\n",
       "      <td>corona, virus, casa, acabar, quando, passar, c...</td>\n",
       "      <td>[pensamento, estao, osmar, ja, sera, trump, tb...</td>\n",
       "    </tr>\n",
       "    <tr>\n",
       "      <th>5</th>\n",
       "      <td>5.0</td>\n",
       "      <td>0.9526</td>\n",
       "      <td>bolsonaro, corrente, coronavirus, contra, casa...</td>\n",
       "      <td>[salvar, grosso, preso, rabo, populacao, ouvir...</td>\n",
       "    </tr>\n",
       "    <tr>\n",
       "      <th>6</th>\n",
       "      <td>6.0</td>\n",
       "      <td>0.9357</td>\n",
       "      <td>bolsonaro, merda, deus, presidente, falar, nac...</td>\n",
       "      <td>[incompetente, mentiroso, quanto, pronunciamen...</td>\n",
       "    </tr>\n",
       "    <tr>\n",
       "      <th>7</th>\n",
       "      <td>7.0</td>\n",
       "      <td>0.9357</td>\n",
       "      <td>bolsonaro, gente, ainda, pronunciamento, atlet...</td>\n",
       "      <td>[gente, certeza, corpo, so, pronunciamento, at...</td>\n",
       "    </tr>\n",
       "    <tr>\n",
       "      <th>8</th>\n",
       "      <td>8.0</td>\n",
       "      <td>0.9250</td>\n",
       "      <td>bolsonaro, presidente, mal, quando, fim, muito...</td>\n",
       "      <td>[situacao, enfrentar, deus, noite, nada, estat...</td>\n",
       "    </tr>\n",
       "    <tr>\n",
       "      <th>9</th>\n",
       "      <td>9.0</td>\n",
       "      <td>0.9400</td>\n",
       "      <td>presidente, pronunciamento, bolsonaro, depois,...</td>\n",
       "      <td>[globo, todo, resto, atacar, vida, nacional, p...</td>\n",
       "    </tr>\n",
       "  </tbody>\n",
       "</table>\n",
       "</div>"
      ],
      "text/plain": [
       "   Topico  Topico_Perc_Contrib  \\\n",
       "0     0.0               0.9250   \n",
       "1     1.0               0.9400   \n",
       "2     2.0               0.9500   \n",
       "3     3.0               0.9357   \n",
       "4     4.0               0.9400   \n",
       "5     5.0               0.9526   \n",
       "6     6.0               0.9357   \n",
       "7     7.0               0.9357   \n",
       "8     8.0               0.9250   \n",
       "9     9.0               0.9400   \n",
       "\n",
       "                                      Palavras_Chave  \\\n",
       "0  bolsonaro, mano, agora, alguem, panela, mae, p...   \n",
       "1  presidente, brasil, coronavirus, parabens, vez...   \n",
       "2  bolsonaro, coronavirus, gripezinha, sim, pande...   \n",
       "3  bolsonaro, cu, tomar, presidente, caralho, fil...   \n",
       "4  corona, virus, casa, acabar, quando, passar, c...   \n",
       "5  bolsonaro, corrente, coronavirus, contra, casa...   \n",
       "6  bolsonaro, merda, deus, presidente, falar, nac...   \n",
       "7  bolsonaro, gente, ainda, pronunciamento, atlet...   \n",
       "8  bolsonaro, presidente, mal, quando, fim, muito...   \n",
       "9  presidente, pronunciamento, bolsonaro, depois,...   \n",
       "\n",
       "                                               Tweet  \n",
       "0  [quase, qual, faca, melhorar, indireta, porra,...  \n",
       "1  [situacao, chorar, pensar, irresponsavel, prov...  \n",
       "2  [ok, diminuir, necessidade, jeito, histeria, s...  \n",
       "3  [poder, possivel, fdp, burro, inutil, corrupto...  \n",
       "4  [pensamento, estao, osmar, ja, sera, trump, tb...  \n",
       "5  [salvar, grosso, preso, rabo, populacao, ouvir...  \n",
       "6  [incompetente, mentiroso, quanto, pronunciamen...  \n",
       "7  [gente, certeza, corpo, so, pronunciamento, at...  \n",
       "8  [situacao, enfrentar, deus, noite, nada, estat...  \n",
       "9  [globo, todo, resto, atacar, vida, nacional, p...  "
      ]
     },
     "execution_count": 27,
     "metadata": {},
     "output_type": "execute_result"
    }
   ],
   "source": [
    "# Group top 5 sentences under each topic\n",
    "sent_topics_sorteddf_mallet = pd.DataFrame()\n",
    "\n",
    "sent_topics_outdf_grpd = df_topic_sents_keywords.groupby('Principal_Topico')\n",
    "\n",
    "for i, grp in sent_topics_outdf_grpd:\n",
    "    sent_topics_sorteddf_mallet = pd.concat([sent_topics_sorteddf_mallet, \n",
    "                                             grp.sort_values(['Perc_Contributicao'], ascending=[0]).head(1)], \n",
    "                                            axis=0)\n",
    "\n",
    "# Reset Index    \n",
    "sent_topics_sorteddf_mallet.reset_index(drop=True, inplace=True)\n",
    "\n",
    "# Format\n",
    "sent_topics_sorteddf_mallet.columns = ['Topico', \"Topico_Perc_Contrib\", \"Palavras_Chave\", \"Tweet\"]\n",
    "\n",
    "# Show\n",
    "sent_topics_sorteddf_mallet"
   ]
  },
  {
   "cell_type": "code",
   "execution_count": 28,
   "metadata": {},
   "outputs": [
    {
     "data": {
      "text/html": [
       "<div>\n",
       "<style scoped>\n",
       "    .dataframe tbody tr th:only-of-type {\n",
       "        vertical-align: middle;\n",
       "    }\n",
       "\n",
       "    .dataframe tbody tr th {\n",
       "        vertical-align: top;\n",
       "    }\n",
       "\n",
       "    .dataframe thead th {\n",
       "        text-align: right;\n",
       "    }\n",
       "</style>\n",
       "<table border=\"1\" class=\"dataframe\">\n",
       "  <thead>\n",
       "    <tr style=\"text-align: right;\">\n",
       "      <th></th>\n",
       "      <th>Principal_Topico</th>\n",
       "      <th>Palavras_Chave</th>\n",
       "      <th>Qtd_Tweets</th>\n",
       "      <th>Perc_Tweets</th>\n",
       "    </tr>\n",
       "  </thead>\n",
       "  <tbody>\n",
       "    <tr>\n",
       "      <th>0.0</th>\n",
       "      <td>1.0</td>\n",
       "      <td>presidente, brasil, coronavirus, parabens, vez...</td>\n",
       "      <td>15100.0</td>\n",
       "      <td>0.1128</td>\n",
       "    </tr>\n",
       "    <tr>\n",
       "      <th>1.0</th>\n",
       "      <td>0.0</td>\n",
       "      <td>bolsonaro, mano, agora, alguem, panela, mae, p...</td>\n",
       "      <td>15215.0</td>\n",
       "      <td>0.1137</td>\n",
       "    </tr>\n",
       "    <tr>\n",
       "      <th>2.0</th>\n",
       "      <td>5.0</td>\n",
       "      <td>bolsonaro, corrente, coronavirus, contra, casa...</td>\n",
       "      <td>12432.0</td>\n",
       "      <td>0.0929</td>\n",
       "    </tr>\n",
       "    <tr>\n",
       "      <th>3.0</th>\n",
       "      <td>3.0</td>\n",
       "      <td>bolsonaro, cu, tomar, presidente, caralho, fil...</td>\n",
       "      <td>9465.0</td>\n",
       "      <td>0.0707</td>\n",
       "    </tr>\n",
       "    <tr>\n",
       "      <th>4.0</th>\n",
       "      <td>9.0</td>\n",
       "      <td>presidente, pronunciamento, bolsonaro, depois,...</td>\n",
       "      <td>16841.0</td>\n",
       "      <td>0.1258</td>\n",
       "    </tr>\n",
       "    <tr>\n",
       "      <th>...</th>\n",
       "      <td>...</td>\n",
       "      <td>...</td>\n",
       "      <td>...</td>\n",
       "      <td>...</td>\n",
       "    </tr>\n",
       "    <tr>\n",
       "      <th>133861.0</th>\n",
       "      <td>5.0</td>\n",
       "      <td>bolsonaro, corrente, coronavirus, contra, casa...</td>\n",
       "      <td>NaN</td>\n",
       "      <td>NaN</td>\n",
       "    </tr>\n",
       "    <tr>\n",
       "      <th>133862.0</th>\n",
       "      <td>1.0</td>\n",
       "      <td>presidente, brasil, coronavirus, parabens, vez...</td>\n",
       "      <td>NaN</td>\n",
       "      <td>NaN</td>\n",
       "    </tr>\n",
       "    <tr>\n",
       "      <th>133863.0</th>\n",
       "      <td>1.0</td>\n",
       "      <td>presidente, brasil, coronavirus, parabens, vez...</td>\n",
       "      <td>NaN</td>\n",
       "      <td>NaN</td>\n",
       "    </tr>\n",
       "    <tr>\n",
       "      <th>133864.0</th>\n",
       "      <td>8.0</td>\n",
       "      <td>bolsonaro, presidente, mal, quando, fim, muito...</td>\n",
       "      <td>NaN</td>\n",
       "      <td>NaN</td>\n",
       "    </tr>\n",
       "    <tr>\n",
       "      <th>133865.0</th>\n",
       "      <td>2.0</td>\n",
       "      <td>bolsonaro, coronavirus, gripezinha, sim, pande...</td>\n",
       "      <td>NaN</td>\n",
       "      <td>NaN</td>\n",
       "    </tr>\n",
       "  </tbody>\n",
       "</table>\n",
       "<p>133866 rows × 4 columns</p>\n",
       "</div>"
      ],
      "text/plain": [
       "          Principal_Topico                                     Palavras_Chave  \\\n",
       "0.0                    1.0  presidente, brasil, coronavirus, parabens, vez...   \n",
       "1.0                    0.0  bolsonaro, mano, agora, alguem, panela, mae, p...   \n",
       "2.0                    5.0  bolsonaro, corrente, coronavirus, contra, casa...   \n",
       "3.0                    3.0  bolsonaro, cu, tomar, presidente, caralho, fil...   \n",
       "4.0                    9.0  presidente, pronunciamento, bolsonaro, depois,...   \n",
       "...                    ...                                                ...   \n",
       "133861.0               5.0  bolsonaro, corrente, coronavirus, contra, casa...   \n",
       "133862.0               1.0  presidente, brasil, coronavirus, parabens, vez...   \n",
       "133863.0               1.0  presidente, brasil, coronavirus, parabens, vez...   \n",
       "133864.0               8.0  bolsonaro, presidente, mal, quando, fim, muito...   \n",
       "133865.0               2.0  bolsonaro, coronavirus, gripezinha, sim, pande...   \n",
       "\n",
       "          Qtd_Tweets  Perc_Tweets  \n",
       "0.0          15100.0       0.1128  \n",
       "1.0          15215.0       0.1137  \n",
       "2.0          12432.0       0.0929  \n",
       "3.0           9465.0       0.0707  \n",
       "4.0          16841.0       0.1258  \n",
       "...              ...          ...  \n",
       "133861.0         NaN          NaN  \n",
       "133862.0         NaN          NaN  \n",
       "133863.0         NaN          NaN  \n",
       "133864.0         NaN          NaN  \n",
       "133865.0         NaN          NaN  \n",
       "\n",
       "[133866 rows x 4 columns]"
      ]
     },
     "execution_count": 28,
     "metadata": {},
     "output_type": "execute_result"
    }
   ],
   "source": [
    "# Numero de tweets por topico\n",
    "\n",
    "topic_counts = df_topic_sents_keywords['Principal_Topico'].value_counts()\n",
    "\n",
    "# Porcentagem de tweets por tópico\n",
    "topic_contribution = round(topic_counts/topic_counts.sum(), 4)\n",
    "\n",
    "# Número do tópico e suas palavras chave\n",
    "topic_num_keywords = df_topic_sents_keywords[['Principal_Topico', 'Palavras_Chave']]\n",
    "\n",
    "# Concatena as colunas\n",
    "df_dominant_topics = pd.concat([topic_num_keywords, topic_counts, topic_contribution], axis=1)\n",
    "\n",
    "# Renomeia as colunas\n",
    "df_dominant_topics.columns = ['Principal_Topico', 'Palavras_Chave', 'Qtd_Tweets', 'Perc_Tweets']\n",
    "\n",
    "# Mostra o DataFrame\n",
    "df_dominant_topics"
   ]
  },
  {
   "cell_type": "code",
   "execution_count": 29,
   "metadata": {},
   "outputs": [
    {
     "data": {
      "image/png": "[encoded data removed]",
      "text/plain": [
       "<Figure size 720x720 with 4 Axes>"
      ]
     },
     "metadata": {
      "needs_background": "light"
     },
     "output_type": "display_data"
    }
   ],
   "source": [
    "# Cria wordclouds\n",
    "\n",
    "cols = [color for name, color in mcolors.XKCD_COLORS.items()]\n",
    "\n",
    "cloud = WordCloud(stopwords=stop_words,\n",
    "                  background_color='white',\n",
    "                  width=2500,\n",
    "                  height=1800,\n",
    "                  max_words=10,\n",
    "                  colormap='tab10',\n",
    "                  color_func=lambda *args, **kwargs: cols[i],\n",
    "                  prefer_horizontal=1.0)\n",
    "\n",
    "topics = lda_model.show_topics(formatted=False)\n",
    "\n",
    "fig, axes = plt.subplots(2, 2, figsize=(10,10), sharex=True, sharey=True)\n",
    "\n",
    "for i, ax in enumerate(axes.flatten()):\n",
    "    fig.add_subplot(ax)\n",
    "    topic_words = dict(topics[i][1])\n",
    "    cloud.generate_from_frequencies(topic_words, max_font_size=300)\n",
    "    plt.gca().imshow(cloud)\n",
    "    plt.gca().set_title('Topic ' + str(i), fontdict=dict(size=16))\n",
    "    plt.gca().axis('off')\n",
    "\n",
    "\n",
    "plt.subplots_adjust(wspace=0, hspace=0)\n",
    "plt.axis('off')\n",
    "plt.margins(x=0, y=0)\n",
    "plt.tight_layout()\n",
    "plt.show()"
   ]
  }
 ],
 "metadata": {
  "kernelspec": {
   "display_name": "Python 3",
   "language": "python",
   "name": "python3"
  },
  "language_info": {
   "codemirror_mode": {
    "name": "ipython",
    "version": 3
   },
   "file_extension": ".py",
   "mimetype": "text/x-python",
   "name": "python",
   "nbconvert_exporter": "python",
   "pygments_lexer": "ipython3",
   "version": "3.7.6"
  }
 },
 "nbformat": 4,
 "nbformat_minor": 1
}
