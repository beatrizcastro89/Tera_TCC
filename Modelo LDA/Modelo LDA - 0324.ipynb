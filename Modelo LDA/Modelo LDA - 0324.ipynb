{
 "cells": [
  {
   "cell_type": "markdown",
   "metadata": {
    "collapsed": true
   },
   "source": [
    "Análise do dia 24/03 através do modelo LDA."
   ]
  },
  {
   "cell_type": "code",
   "execution_count": 1,
   "metadata": {},
   "outputs": [],
   "source": [
    "# Importar bibliotecas\n",
    "\n",
    "# gerais\n",
    "import sys\n",
    "import os\n",
    "from pathlib import Path\n",
    "import re\n",
    "import numpy as np\n",
    "import pandas as pd\n",
    "from pprint import pprint\n",
    "from tqdm import tqdm\n",
    "from ast import literal_eval\n",
    "\n",
    "# Gensim\n",
    "import gensim, spacy, logging, warnings\n",
    "import gensim.corpora as corpora\n",
    "from gensim.utils import lemmatize, simple_preprocess\n",
    "from gensim.models import CoherenceModel\n",
    "from gensim.models.ldamulticore import LdaMulticore\n",
    "\n",
    "# NLTK Stop words\n",
    "import nltk\n",
    "from nltk.corpus import stopwords\n",
    "\n",
    "# sklearn\n",
    "from sklearn.feature_extraction.text import CountVectorizer\n",
    "\n",
    "#plot\n",
    "import pyLDAvis\n",
    "import pyLDAvis.gensim\n",
    "import matplotlib.pyplot as plt\n",
    "import matplotlib.colors as mcolors\n",
    "%matplotlib inline\n",
    "from wordcloud import WordCloud, STOPWORDS"
   ]
  },
  {
   "cell_type": "markdown",
   "metadata": {},
   "source": [
    "# Preparação dos dados"
   ]
  },
  {
   "cell_type": "code",
   "execution_count": 2,
   "metadata": {},
   "outputs": [],
   "source": [
    "# import dos dados\n",
    "\n",
    "df = pd.read_csv('2403_preprocessado.csv')"
   ]
  },
  {
   "cell_type": "code",
   "execution_count": 3,
   "metadata": {},
   "outputs": [],
   "source": [
    "# função para reverter os tokens processados em lista de tuples\n",
    "\n",
    "def strip_characters(text):\n",
    "    t = re.sub(r'\\(|\\)|:|,|;|\\.|’|”|“|\\?|%|>|<|\\[|\\]', '', text)\n",
    "    t = re.sub(r'/', ' ', t)\n",
    "    t = t.replace(\"'\",'')\n",
    "    return t"
   ]
  },
  {
   "cell_type": "code",
   "execution_count": 4,
   "metadata": {},
   "outputs": [],
   "source": [
    "# aplica função em todos os tokens\n",
    "\n",
    "df['token3'] = df['token3'].apply(lambda x: strip_characters(x))\n",
    "df['token3'] = df['token3'].apply(lambda x: str(x).split(' '))"
   ]
  },
  {
   "cell_type": "code",
   "execution_count": 5,
   "metadata": {},
   "outputs": [],
   "source": [
    "texto = list(df.token3)"
   ]
  },
  {
   "cell_type": "markdown",
   "metadata": {},
   "source": [
    "# Modelagem"
   ]
  },
  {
   "cell_type": "code",
   "execution_count": 6,
   "metadata": {},
   "outputs": [],
   "source": [
    "# Criar dicionário\n",
    "\n",
    "id2word = corpora.Dictionary(texto)"
   ]
  },
  {
   "cell_type": "code",
   "execution_count": 7,
   "metadata": {},
   "outputs": [],
   "source": [
    "# Criar o Corpus: A Frequência das palavras nos documentos\n",
    "\n",
    "corpus = [id2word.doc2bow(text) for text in texto]"
   ]
  },
  {
   "cell_type": "code",
   "execution_count": 8,
   "metadata": {},
   "outputs": [],
   "source": [
    "# Função para determinar a melhor quantidade de tópicos para a modelagem\n",
    "\n",
    "def compute_coherence_values(dictionary, corpus, texts, limit, start=2, step=5):\n",
    "    coherence_values = []\n",
    "    model_list = []\n",
    "    for num_topics in tqdm(range(start, limit, step)):\n",
    "        model = LdaMulticore(corpus, id2word=id2word, num_topics=10)\n",
    "        model_list.append(model)\n",
    "        coherencemodel = CoherenceModel(model=model, texts=texts, dictionary=dictionary, coherence='c_v')\n",
    "        coherence_values.append(coherencemodel.get_coherence())\n",
    "\n",
    "    return model_list, coherence_values"
   ]
  },
  {
   "cell_type": "code",
   "execution_count": 9,
   "metadata": {},
   "outputs": [
    {
     "name": "stderr",
     "output_type": "stream",
     "text": [
      "100%|██████████████████████████████████████████████████████████████████████████████████| 14/14 [09:26<00:00, 40.45s/it]\n"
     ]
    }
   ],
   "source": [
    "# Colocando parametros na função\n",
    "\n",
    "model_list, coherence_values = compute_coherence_values(dictionary=id2word, corpus=corpus, texts=texto, start=2, limit=30, step=2)"
   ]
  },
  {
   "cell_type": "code",
   "execution_count": 10,
   "metadata": {},
   "outputs": [
    {
     "data": {
      "image/png": "[encoded data removed]",
      "text/plain": [
       "<Figure size 432x288 with 1 Axes>"
      ]
     },
     "metadata": {
      "needs_background": "light"
     },
     "output_type": "display_data"
    }
   ],
   "source": [
    "# Mostrando visualmente a quantidade de tópicos\n",
    "\n",
    "limit=30; start=2; step=2;\n",
    "x = range(start, limit, step)\n",
    "plt.plot(x, coherence_values)\n",
    "plt.xlabel(\"Num Tópicos\")\n",
    "plt.ylabel(\"Score de Coerência\")\n",
    "plt.legend((\"Valores de Coerência\"), loc='best')\n",
    "plt.show()"
   ]
  },
  {
   "cell_type": "code",
   "execution_count": 11,
   "metadata": {},
   "outputs": [
    {
     "name": "stdout",
     "output_type": "stream",
     "text": [
      "A quantidade de tópicos = 2  tem um valor de coerência de  0.3481\n",
      "A quantidade de tópicos = 4  tem um valor de coerência de  0.3315\n",
      "A quantidade de tópicos = 6  tem um valor de coerência de  0.3573\n",
      "A quantidade de tópicos = 8  tem um valor de coerência de  0.3301\n",
      "A quantidade de tópicos = 10  tem um valor de coerência de  0.3268\n",
      "A quantidade de tópicos = 12  tem um valor de coerência de  0.3132\n",
      "A quantidade de tópicos = 14  tem um valor de coerência de  0.314\n",
      "A quantidade de tópicos = 16  tem um valor de coerência de  0.3417\n",
      "A quantidade de tópicos = 18  tem um valor de coerência de  0.3163\n",
      "A quantidade de tópicos = 20  tem um valor de coerência de  0.3216\n",
      "A quantidade de tópicos = 22  tem um valor de coerência de  0.3214\n",
      "A quantidade de tópicos = 24  tem um valor de coerência de  0.3257\n",
      "A quantidade de tópicos = 26  tem um valor de coerência de  0.3195\n",
      "A quantidade de tópicos = 28  tem um valor de coerência de  0.3175\n"
     ]
    }
   ],
   "source": [
    "# Lista dos valores de coerência, para melhor identificar o ponto de inflexão do gráfico\n",
    "\n",
    "for m, cv in zip(x, coherence_values):\n",
    "    print(\"A quantidade de tópicos =\", m, \" tem um valor de coerência de \", round(cv, 4))"
   ]
  },
  {
   "cell_type": "markdown",
   "metadata": {},
   "source": [
    "Aqui conseguimos determinar a melhor quantidade de tópicos a serem analisados, que é 8 tópicos"
   ]
  },
  {
   "cell_type": "code",
   "execution_count": 12,
   "metadata": {},
   "outputs": [],
   "source": [
    "# Vamos agora construir de fato o modelo LDA\n",
    "\n",
    "lda_model = LdaMulticore(corpus=corpus,\n",
    "                        id2word=id2word,\n",
    "                        num_topics=3, \n",
    "                        random_state=42,\n",
    "                        chunksize=100,\n",
    "                        passes=10,\n",
    "                        per_word_topics=True,\n",
    "                        alpha = 0.9,\n",
    "                        eta = 0.3)"
   ]
  },
  {
   "cell_type": "code",
   "execution_count": 13,
   "metadata": {},
   "outputs": [
    {
     "name": "stdout",
     "output_type": "stream",
     "text": [
      "\n",
      "Perplexidade:  -6.487251262934781\n"
     ]
    }
   ],
   "source": [
    "# Computar a perplexidade do modelo (quanto menor, melhor)\n",
    "\n",
    "print('\\nPerplexidade: ', lda_model.log_perplexity(corpus))"
   ]
  },
  {
   "cell_type": "code",
   "execution_count": 14,
   "metadata": {},
   "outputs": [
    {
     "name": "stdout",
     "output_type": "stream",
     "text": [
      "\n",
      "Score de Coerência:  0.39213988208955675\n"
     ]
    }
   ],
   "source": [
    "# Computar o Score de Coerência\n",
    "\n",
    "coherence_model_lda = CoherenceModel(model=lda_model, texts=texto, dictionary=id2word, coherence='c_v')\n",
    "coherence_lda = coherence_model_lda.get_coherence()\n",
    "print('\\nScore de Coerência: ', coherence_lda)"
   ]
  },
  {
   "cell_type": "code",
   "execution_count": 15,
   "metadata": {},
   "outputs": [
    {
     "data": {
      "text/html": [
       "\n",
       "<link rel=\"stylesheet\" type=\"text/css\" href=\"https://cdn.rawgit.com/bmabey/pyLDAvis/files/ldavis.v1.0.0.css\">\n",
       "\n",
       "\n",
       "<div id=\"ldavis_el157224493485663442553486009\"></div>\n",
       "<script type=\"text/javascript\">\n",
       "\n",
       "var ldavis_el157224493485663442553486009_data = {\"mdsDat\": {\"x\": [-0.3811937198490133, 0.18011359479768627, 0.2010801250513272], \"y\": [0.011641873195444291, -0.32331330865660796, 0.3116714354611638], \"topics\": [1, 2, 3], \"cluster\": [1, 1, 1], \"Freq\": [36.309410095214844, 32.20226287841797, 31.48832893371582]}, \"tinfo\": {\"Term\": [\"presidente\", \"\", \"bolsonaro\", \"gente\", \"agora\", \"merda\", \"pronunciamento\", \"deus\", \"nem\", \"casa\", \"corrente\", \"falar\", \"quando\", \"pandemia\", \"sim\", \"acabar\", \"tv\", \"depois\", \"mae\", \"alguem\", \"pai\", \"caralho\", \"matar\", \"nacional\", \"cu\", \"nunca\", \"muito\", \"mundo\", \"rede\", \"vez\", \"casa\", \"pandemia\", \"quando\", \"acabar\", \"depois\", \"muito\", \"mundo\", \"brasil\", \"sair\", \"passar\", \"nada\", \"coisa\", \"tempo\", \"contra\", \"vida\", \"povo\", \"ir\", \"cabelo\", \"novo\", \"melhor\", \"tava\", \"bom\", \"menos\", \"saude\", \"voltar\", \"primeiro\", \"cada\", \"semana\", \"tambem\", \"governo\", \"meio\", \"presidente\", \"\", \"gente\", \"agora\", \"merda\", \"pronunciamento\", \"falar\", \"tv\", \"nacional\", \"caralho\", \"matar\", \"pai\", \"rede\", \"vez\", \"boca\", \"homem\", \"cabeca\", \"vergonha\", \"discurso\", \"mds\", \"possivel\", \"burro\", \"odio\", \"lixo\", \"irmao\", \"globo\", \"twitter\", \"louco\", \"tedio\", \"chamar\", \"bolsonaro\", \"deus\", \"nem\", \"corrente\", \"sim\", \"alguem\", \"cu\", \"mae\", \"nunca\", \"tomar\", \"logo\", \"tanto\", \"pessoa\", \"vontade\", \"amor\", \"sempre\", \"filho\", \"mal\", \"familia\", \"ninguem\", \"pegar\", \"favor\", \"demais\", \"morrer\", \"preciso\", \"grupo\", \"amo\", \"daniel\", \"risco\", \"parabens\", \"saber\", \"bolsonaro\"], \"Freq\": [24010.0, 20421.0, 28004.0, 10855.0, 7981.0, 6786.0, 5769.0, 5627.0, 4856.0, 5490.0, 4118.0, 4189.0, 4262.0, 4259.0, 3620.0, 4083.0, 3427.0, 3735.0, 2870.0, 2788.0, 2803.0, 2686.0, 2680.0, 2659.0, 2597.0, 2548.0, 2759.0, 2702.0, 2404.0, 2395.0, 5489.890625, 4258.6181640625, 4261.15869140625, 4082.168212890625, 3734.635009765625, 2758.56640625, 2701.338623046875, 2447.55517578125, 2388.717041015625, 2331.46630859375, 2171.3984375, 1997.79931640625, 1695.425537109375, 1603.26318359375, 1560.363525390625, 1395.983642578125, 1387.5164794921875, 1386.290771484375, 1332.2777099609375, 1289.3829345703125, 1130.7618408203125, 1134.1019287109375, 1109.221435546875, 1020.7278442382812, 942.447998046875, 992.3060302734375, 999.596923828125, 957.1673583984375, 929.0643310546875, 912.4033203125, 1024.9710693359375, 24009.416015625, 20420.5625, 10855.29296875, 7980.85595703125, 6785.37451171875, 5769.18408203125, 4189.05029296875, 3426.3564453125, 2658.804931640625, 2685.443115234375, 2679.740478515625, 2802.908935546875, 2403.53173828125, 2394.3935546875, 2061.74755859375, 1687.8211669921875, 1831.517333984375, 1584.940673828125, 1346.611328125, 1365.8958740234375, 1304.4041748046875, 1205.3975830078125, 1173.202880859375, 1089.9058837890625, 1137.779052734375, 982.0836791992188, 1072.4400634765625, 924.0525512695312, 1562.69384765625, 935.9795532226562, 3253.358642578125, 5627.021484375, 4856.0576171875, 4117.37548828125, 3619.7666015625, 2787.93359375, 2597.1416015625, 2869.63134765625, 2547.338623046875, 2276.00927734375, 2000.1986083984375, 1710.9920654296875, 1623.9901123046875, 1506.2943115234375, 1430.9403076171875, 1460.5743408203125, 1377.1614990234375, 1497.8275146484375, 1561.16845703125, 1401.2044677734375, 1351.0233154296875, 1166.5699462890625, 1183.888427734375, 1147.732177734375, 1156.3466796875, 992.470947265625, 1008.3451538085938, 1040.8878173828125, 967.9998779296875, 976.85009765625, 1019.5159912109375, 24751.28125], \"Total\": [24010.0, 20421.0, 28004.0, 10855.0, 7981.0, 6786.0, 5769.0, 5627.0, 4856.0, 5490.0, 4118.0, 4189.0, 4262.0, 4259.0, 3620.0, 4083.0, 3427.0, 3735.0, 2870.0, 2788.0, 2803.0, 2686.0, 2680.0, 2659.0, 2597.0, 2548.0, 2759.0, 2702.0, 2404.0, 2395.0, 5490.947265625, 4259.650390625, 4262.19873046875, 4083.2080078125, 3735.696533203125, 2759.608154296875, 2702.382080078125, 2448.59765625, 2389.770263671875, 2332.525634765625, 2172.443603515625, 1998.8427734375, 1696.4954833984375, 1604.300537109375, 1561.400390625, 1397.027099609375, 1388.5556640625, 1387.330078125, 1333.310302734375, 1290.4307861328125, 1131.8092041015625, 1135.159912109375, 1110.2657470703125, 1021.742431640625, 943.4502563476562, 993.3678588867188, 1000.6683349609375, 958.2183227539062, 930.107177734375, 913.4369506835938, 1026.743408203125, 24010.09375, 20421.2421875, 10855.9990234375, 7981.60546875, 6786.04541015625, 5769.8447265625, 4189.734375, 3427.035888671875, 2659.46826171875, 2686.12255859375, 2680.4423828125, 2803.65771484375, 2404.195068359375, 2395.1025390625, 2062.427001953125, 1688.4930419921875, 1832.2470703125, 1585.607666015625, 1347.275146484375, 1366.5921630859375, 1305.0816650390625, 1206.06591796875, 1173.8726806640625, 1090.5760498046875, 1138.5511474609375, 982.7540893554688, 1073.20703125, 924.723388671875, 1563.865478515625, 936.6998291015625, 28004.908203125, 5627.89697265625, 4856.98388671875, 4118.25927734375, 3620.7099609375, 2788.8037109375, 2597.992431640625, 2870.572509765625, 2548.24560546875, 2276.8671875, 2001.175048828125, 1711.906982421875, 1624.9171142578125, 1507.2037353515625, 1431.8189697265625, 1461.493896484375, 1378.02880859375, 1498.7713623046875, 1562.1595458984375, 1402.135498046875, 1351.9312744140625, 1167.4622802734375, 1184.8040771484375, 1148.632568359375, 1157.3367919921875, 993.3577270507812, 1009.2483520507812, 1041.8302001953125, 968.8846435546875, 977.7906494140625, 1020.4995727539062, 28004.908203125], \"Category\": [\"Default\", \"Default\", \"Default\", \"Default\", \"Default\", \"Default\", \"Default\", \"Default\", \"Default\", \"Default\", \"Default\", \"Default\", \"Default\", \"Default\", \"Default\", \"Default\", \"Default\", \"Default\", \"Default\", \"Default\", \"Default\", \"Default\", \"Default\", \"Default\", \"Default\", \"Default\", \"Default\", \"Default\", \"Default\", \"Default\", \"Topic1\", \"Topic1\", \"Topic1\", \"Topic1\", \"Topic1\", \"Topic1\", \"Topic1\", \"Topic1\", \"Topic1\", \"Topic1\", \"Topic1\", \"Topic1\", \"Topic1\", \"Topic1\", \"Topic1\", \"Topic1\", \"Topic1\", \"Topic1\", \"Topic1\", \"Topic1\", \"Topic1\", \"Topic1\", \"Topic1\", \"Topic1\", \"Topic1\", \"Topic1\", \"Topic1\", \"Topic1\", \"Topic1\", \"Topic1\", \"Topic1\", \"Topic2\", \"Topic2\", \"Topic2\", \"Topic2\", \"Topic2\", \"Topic2\", \"Topic2\", \"Topic2\", \"Topic2\", \"Topic2\", \"Topic2\", \"Topic2\", \"Topic2\", \"Topic2\", \"Topic2\", \"Topic2\", \"Topic2\", \"Topic2\", \"Topic2\", \"Topic2\", \"Topic2\", \"Topic2\", \"Topic2\", \"Topic2\", \"Topic2\", \"Topic2\", \"Topic2\", \"Topic2\", \"Topic2\", \"Topic2\", \"Topic2\", \"Topic3\", \"Topic3\", \"Topic3\", \"Topic3\", \"Topic3\", \"Topic3\", \"Topic3\", \"Topic3\", \"Topic3\", \"Topic3\", \"Topic3\", \"Topic3\", \"Topic3\", \"Topic3\", \"Topic3\", \"Topic3\", \"Topic3\", \"Topic3\", \"Topic3\", \"Topic3\", \"Topic3\", \"Topic3\", \"Topic3\", \"Topic3\", \"Topic3\", \"Topic3\", \"Topic3\", \"Topic3\", \"Topic3\", \"Topic3\", \"Topic3\"], \"logprob\": [30.0, 29.0, 28.0, 27.0, 26.0, 25.0, 24.0, 23.0, 22.0, 21.0, 20.0, 19.0, 18.0, 17.0, 16.0, 15.0, 14.0, 13.0, 12.0, 11.0, 10.0, 9.0, 8.0, 7.0, 6.0, 5.0, 4.0, 3.0, 2.0, 1.0, -3.675299882888794, -3.92930006980896, -3.9286999702453613, -3.97160005569458, -4.0605998039245605, -4.363500118255615, -4.384500026702881, -4.483099937438965, -4.507500171661377, -4.531700134277344, -4.602799892425537, -4.686200141906738, -4.850299835205078, -4.906199932098389, -4.933300018310547, -5.044600009918213, -5.0507001876831055, -5.051599979400635, -5.091300010681152, -5.124100208282471, -5.255300045013428, -5.252399921417236, -5.274600028991699, -5.357699871063232, -5.4375, -5.385900020599365, -5.378600120544434, -5.421999931335449, -5.4517998695373535, -5.469900131225586, -5.353600025177002, -2.079699993133545, -2.2416000366210938, -2.873500108718872, -3.1810998916625977, -3.343400001525879, -3.5055999755859375, -3.825700044631958, -4.026700019836426, -4.280300140380859, -4.270299911499023, -4.272500038146973, -4.227499961853027, -4.381199836730957, -4.385000228881836, -4.534599781036377, -4.7347002029418945, -4.6529998779296875, -4.797599792480469, -4.960599899291992, -4.946400165557861, -4.992400169372559, -5.071400165557861, -5.098400115966797, -5.172100067138672, -5.1290998458862305, -5.276299953460693, -5.188199996948242, -5.337200164794922, -4.811800003051758, -5.3242998123168945, -4.078499794006348, -3.50819993019104, -3.6554999351501465, -3.820499897003174, -3.9493000507354736, -4.2104997634887695, -4.281300067901611, -4.181600093841553, -4.3007001876831055, -4.413300037384033, -4.542500019073486, -4.698699951171875, -4.750899791717529, -4.826099872589111, -4.877399921417236, -4.856900215148926, -4.9156999588012695, -4.831699848175049, -4.790299892425537, -4.898399829864502, -4.934899806976318, -5.081699848175049, -5.066999912261963, -5.0980000495910645, -5.0904998779296875, -5.243299961090088, -5.227399826049805, -5.195700168609619, -5.2683000564575195, -5.259200096130371, -5.216400146484375, -2.026900053024292], \"loglift\": [30.0, 29.0, 28.0, 27.0, 26.0, 25.0, 24.0, 23.0, 22.0, 21.0, 20.0, 19.0, 18.0, 17.0, 16.0, 15.0, 14.0, 13.0, 12.0, 11.0, 10.0, 9.0, 8.0, 7.0, 6.0, 5.0, 4.0, 3.0, 2.0, 1.0, 1.0128999948501587, 1.0128999948501587, 1.0127999782562256, 1.0127999782562256, 1.0127999782562256, 1.0126999616622925, 1.0126999616622925, 1.0126999616622925, 1.0126999616622925, 1.0125999450683594, 1.0125999450683594, 1.0125999450683594, 1.0125000476837158, 1.0124000310897827, 1.0124000310897827, 1.0123000144958496, 1.0123000144958496, 1.0123000144958496, 1.0123000144958496, 1.0123000144958496, 1.0121999979019165, 1.0121999979019165, 1.0121999979019165, 1.0120999813079834, 1.0119999647140503, 1.0119999647140503, 1.0119999647140503, 1.0119999647140503, 1.0119999647140503, 1.0119999647140503, 1.0113999843597412, 1.1331000328063965, 1.1331000328063965, 1.1331000328063965, 1.1330000162124634, 1.1330000162124634, 1.1330000162124634, 1.1330000162124634, 1.1328999996185303, 1.1328999996185303, 1.1328999996185303, 1.1328999996185303, 1.1328999996185303, 1.1328999996185303, 1.1327999830245972, 1.1327999830245972, 1.132699966430664, 1.132699966430664, 1.132699966430664, 1.132599949836731, 1.132599949836731, 1.132599949836731, 1.132599949836731, 1.132599949836731, 1.1325000524520874, 1.1325000524520874, 1.1325000524520874, 1.1324000358581543, 1.1324000358581543, 1.1324000358581543, 1.1324000358581543, -1.0196000337600708, 1.155400037765503, 1.155400037765503, 1.1553000211715698, 1.1553000211715698, 1.1552000045776367, 1.1552000045776367, 1.1552000045776367, 1.1552000045776367, 1.1552000045776367, 1.1550999879837036, 1.1549999713897705, 1.1549999713897705, 1.1548999547958374, 1.1548999547958374, 1.1548999547958374, 1.1548999547958374, 1.1548999547958374, 1.1548999547958374, 1.1548999547958374, 1.1548999547958374, 1.1548000574111938, 1.1548000574111938, 1.1548000574111938, 1.1547000408172607, 1.1547000408172607, 1.1547000408172607, 1.1546000242233276, 1.1546000242233276, 1.1546000242233276, 1.1546000242233276, 1.032099962234497]}, \"token.table\": {\"Topic\": [2, 1, 2, 2, 2, 3, 2, 3, 2, 3, 2, 2, 3, 1, 2, 1, 2, 2, 2, 1, 2, 1, 2, 2, 1, 2, 2, 1, 2, 1, 2, 2, 3, 2, 3, 2, 3, 2, 3, 1, 2, 2, 3, 2, 2, 2, 3, 2, 3, 2, 3, 2, 2, 1, 2, 2, 3, 2, 1, 2, 2, 2, 2, 3, 2, 2, 3, 2, 3, 2, 2, 1, 2, 3, 1, 2, 1, 2, 2, 2, 3, 1, 2, 1, 2, 2, 1, 2, 2, 3, 2, 3, 1, 2, 2, 3, 2, 2, 1, 2, 2, 3, 1, 2, 2, 3, 2, 3, 2, 1, 2, 2, 3, 2, 1, 2, 2, 1, 2, 2, 2, 3, 2, 3, 1, 2, 1, 2, 1, 2, 2, 3, 2, 3, 1, 2, 2, 3, 1, 2, 1, 2, 3, 1, 2, 2, 3, 2, 2, 2, 2, 1, 2, 1, 2, 2, 3], \"Freq\": [0.9999881386756897, 0.999704122543335, 0.00024490547366440296, 0.9999241232872009, 0.0003585766826290637, 0.999711811542511, 0.0009908364154398441, 0.9987630844116211, 0.0006984123028814793, 0.9994280338287354, 0.9997929334640503, 0.11615820974111557, 0.8838093876838684, 0.9989781975746155, 0.0008809331338852644, 0.9997559189796448, 0.0004083970270585269, 0.9991161823272705, 0.9998651742935181, 0.9990412592887878, 0.0007208089809864759, 0.9993321299552917, 0.0009993320563808084, 0.9995821118354797, 0.99982750415802, 0.00018211793212685734, 0.9992528557777405, 0.9995783567428589, 0.0005002894904464483, 0.9991893172264099, 0.000623324594926089, 0.00024282104277517647, 0.9996942281723022, 0.00038491259329020977, 0.9996179938316345, 0.0009598493343219161, 0.9992031455039978, 0.0008440213860012591, 0.9993213415145874, 0.9998135566711426, 0.00026768769021146, 0.00017768626275938004, 0.9998406171798706, 0.9997957944869995, 0.9998247027397156, 0.0006401395075954497, 0.9992577433586121, 0.0008565587340854108, 0.9996040463447571, 0.0007256742101162672, 0.9992533922195435, 0.9999079704284668, 0.9992326498031616, 0.9984268546104431, 0.001094766310416162, 0.0010066867107525468, 0.9986332058906555, 0.9997079968452454, 0.999599814414978, 0.0007201727712526917, 0.999515950679779, 0.9994717836380005, 0.0004997064243070781, 0.9994128346443176, 0.9992177486419678, 0.0003483625769149512, 0.9998005628585815, 0.0006672131712548435, 0.9994853138923645, 0.9998349547386169, 0.9995666742324829, 0.9983019828796387, 0.0009739531669765711, 0.0009739531669765711, 0.9988912343978882, 0.0007749350043013692, 0.9988599419593811, 0.0009006852633319795, 0.9998459219932556, 0.0008706004009582102, 0.9994493126869202, 0.9997796416282654, 0.0003623702796176076, 0.9994885921478271, 0.00037004391197115183, 0.9998239278793335, 0.9993354678153992, 0.0004603111301548779, 0.00020588909683283418, 0.9997974038124084, 0.0007131978054530919, 0.9991901516914368, 0.9990172386169434, 0.0007500129286199808, 0.00039242685306817293, 0.999511182308197, 0.9992565512657166, 0.9997653961181641, 0.9998472929000854, 0.0002347610570723191, 0.0010227138409391046, 0.999191403388977, 0.9993459582328796, 0.0004287198244128376, 0.0007396825822070241, 0.9993111491203308, 0.0006154159782454371, 0.9994356036186218, 0.9991711974143982, 0.9992647767066956, 0.0007158057414926589, 0.0008640527375973761, 0.9988449215888977, 0.9999544620513916, 0.9986230134963989, 0.001006676466204226, 0.9998536109924316, 0.9997187256813049, 0.00023462068929802626, 0.9999188780784607, 0.0010321146110072732, 0.9990869760513306, 0.0009799122344702482, 0.9995104670524597, 0.9996776580810547, 0.000418450275901705, 0.9992733597755432, 0.0009787202579900622, 0.9987285733222961, 0.0010436035227030516, 0.0006842314032837749, 0.9996620416641235, 0.0002761889190878719, 0.999803900718689, 0.9988096356391907, 0.0010751448571681976, 0.0005841439124196768, 0.9994701743125916, 0.9992850422859192, 0.0008835411281324923, 0.0006394411902874708, 0.9994465708732605, 0.0006394411902874708, 0.9991185069084167, 0.000589450413826853, 0.00043919996824115515, 0.9996191263198853, 0.999697744846344, 0.9988753199577332, 0.9996167421340942, 0.9995396733283997, 0.9991031289100647, 0.000640450743958354, 0.9984627962112427, 0.0010599392699077725, 0.0006634803139604628, 0.9992013573646545], \"Term\": [\"\", \"acabar\", \"acabar\", \"agora\", \"alguem\", \"alguem\", \"amo\", \"amo\", \"amor\", \"amor\", \"boca\", \"bolsonaro\", \"bolsonaro\", \"bom\", \"bom\", \"brasil\", \"brasil\", \"burro\", \"cabeca\", \"cabelo\", \"cabelo\", \"cada\", \"cada\", \"caralho\", \"casa\", \"casa\", \"chamar\", \"coisa\", \"coisa\", \"contra\", \"contra\", \"corrente\", \"corrente\", \"cu\", \"cu\", \"daniel\", \"daniel\", \"demais\", \"demais\", \"depois\", \"depois\", \"deus\", \"deus\", \"discurso\", \"falar\", \"familia\", \"familia\", \"favor\", \"favor\", \"filho\", \"filho\", \"gente\", \"globo\", \"governo\", \"governo\", \"grupo\", \"grupo\", \"homem\", \"ir\", \"ir\", \"irmao\", \"lixo\", \"logo\", \"logo\", \"louco\", \"mae\", \"mae\", \"mal\", \"mal\", \"matar\", \"mds\", \"meio\", \"meio\", \"meio\", \"melhor\", \"melhor\", \"menos\", \"menos\", \"merda\", \"morrer\", \"morrer\", \"muito\", \"muito\", \"mundo\", \"mundo\", \"nacional\", \"nada\", \"nada\", \"nem\", \"nem\", \"ninguem\", \"ninguem\", \"novo\", \"novo\", \"nunca\", \"nunca\", \"odio\", \"pai\", \"pandemia\", \"pandemia\", \"parabens\", \"parabens\", \"passar\", \"passar\", \"pegar\", \"pegar\", \"pessoa\", \"pessoa\", \"possivel\", \"povo\", \"povo\", \"preciso\", \"preciso\", \"presidente\", \"primeiro\", \"primeiro\", \"pronunciamento\", \"quando\", \"quando\", \"rede\", \"risco\", \"risco\", \"saber\", \"saber\", \"sair\", \"sair\", \"saude\", \"saude\", \"semana\", \"semana\", \"sempre\", \"sempre\", \"sim\", \"sim\", \"tambem\", \"tambem\", \"tanto\", \"tanto\", \"tava\", \"tava\", \"tedio\", \"tedio\", \"tedio\", \"tempo\", \"tempo\", \"tomar\", \"tomar\", \"tv\", \"twitter\", \"vergonha\", \"vez\", \"vida\", \"vida\", \"voltar\", \"voltar\", \"vontade\", \"vontade\"]}, \"R\": 30, \"lambda.step\": 0.01, \"plot.opts\": {\"xlab\": \"PC1\", \"ylab\": \"PC2\"}, \"topic.order\": [1, 3, 2]};\n",
       "\n",
       "function LDAvis_load_lib(url, callback){\n",
       "  var s = document.createElement('script');\n",
       "  s.src = url;\n",
       "  s.async = true;\n",
       "  s.onreadystatechange = s.onload = callback;\n",
       "  s.onerror = function(){console.warn(\"failed to load library \" + url);};\n",
       "  document.getElementsByTagName(\"head\")[0].appendChild(s);\n",
       "}\n",
       "\n",
       "if(typeof(LDAvis) !== \"undefined\"){\n",
       "   // already loaded: just create the visualization\n",
       "   !function(LDAvis){\n",
       "       new LDAvis(\"#\" + \"ldavis_el157224493485663442553486009\", ldavis_el157224493485663442553486009_data);\n",
       "   }(LDAvis);\n",
       "}else if(typeof define === \"function\" && define.amd){\n",
       "   // require.js is available: use it to load d3/LDAvis\n",
       "   require.config({paths: {d3: \"https://cdnjs.cloudflare.com/ajax/libs/d3/3.5.5/d3.min\"}});\n",
       "   require([\"d3\"], function(d3){\n",
       "      window.d3 = d3;\n",
       "      LDAvis_load_lib(\"https://cdn.rawgit.com/bmabey/pyLDAvis/files/ldavis.v1.0.0.js\", function(){\n",
       "        new LDAvis(\"#\" + \"ldavis_el157224493485663442553486009\", ldavis_el157224493485663442553486009_data);\n",
       "      });\n",
       "    });\n",
       "}else{\n",
       "    // require.js not available: dynamically load d3 & LDAvis\n",
       "    LDAvis_load_lib(\"https://cdnjs.cloudflare.com/ajax/libs/d3/3.5.5/d3.min.js\", function(){\n",
       "         LDAvis_load_lib(\"https://cdn.rawgit.com/bmabey/pyLDAvis/files/ldavis.v1.0.0.js\", function(){\n",
       "                 new LDAvis(\"#\" + \"ldavis_el157224493485663442553486009\", ldavis_el157224493485663442553486009_data);\n",
       "            })\n",
       "         });\n",
       "}\n",
       "</script>"
      ],
      "text/plain": [
       "PreparedData(topic_coordinates=              x         y  topics  cluster       Freq\n",
       "topic                                                \n",
       "0     -0.381194  0.011642       1        1  36.309410\n",
       "2      0.180114 -0.323313       2        1  32.202263\n",
       "1      0.201080  0.311671       3        1  31.488329, topic_info=           Term          Freq         Total Category  logprob  loglift\n",
       "30   presidente  24010.000000  24010.000000  Default  30.0000  30.0000\n",
       "212              20421.000000  20421.000000  Default  29.0000  29.0000\n",
       "1     bolsonaro  28004.000000  28004.000000  Default  28.0000  28.0000\n",
       "74        gente  10855.000000  10855.000000  Default  27.0000  27.0000\n",
       "46        agora   7981.000000   7981.000000  Default  26.0000  26.0000\n",
       "..          ...           ...           ...      ...      ...      ...\n",
       "545      daniel   1040.887817   1041.830200   Topic3  -5.1957   1.1546\n",
       "66        risco    967.999878    968.884644   Topic3  -5.2683   1.1546\n",
       "403    parabens    976.850098    977.790649   Topic3  -5.2592   1.1546\n",
       "221       saber   1019.515991   1020.499573   Topic3  -5.2164   1.1546\n",
       "1     bolsonaro  24751.281250  28004.908203   Topic3  -2.0269   1.0321\n",
       "\n",
       "[123 rows x 6 columns], token_table=      Topic      Freq     Term\n",
       "term                          \n",
       "212       2  0.999988         \n",
       "177       1  0.999704   acabar\n",
       "177       2  0.000245   acabar\n",
       "46        2  0.999924    agora\n",
       "39        2  0.000359   alguem\n",
       "...     ...       ...      ...\n",
       "68        2  0.000640     vida\n",
       "107       1  0.998463   voltar\n",
       "107       2  0.001060   voltar\n",
       "143       2  0.000663  vontade\n",
       "143       3  0.999201  vontade\n",
       "\n",
       "[157 rows x 3 columns], R=30, lambda_step=0.01, plot_opts={'xlab': 'PC1', 'ylab': 'PC2'}, topic_order=[1, 3, 2])"
      ]
     },
     "execution_count": 15,
     "metadata": {},
     "output_type": "execute_result"
    }
   ],
   "source": [
    "# Visualização dos tópicos em clusters\n",
    "\n",
    "pyLDAvis.enable_notebook()\n",
    "vis = pyLDAvis.gensim.prepare(lda_model, corpus, id2word)\n",
    "vis"
   ]
  },
  {
   "cell_type": "code",
   "execution_count": 16,
   "metadata": {},
   "outputs": [],
   "source": [
    "# Função para determinar a melhor quantidade de tópicos para a modelagem\n",
    "\n",
    "def compute_coherence_values(dictionary, corpus, texts, limit, start=2, step=5):\n",
    "    coherence_values = []\n",
    "    model_list = []\n",
    "    for num_topics in tqdm(range(start, limit, step)):\n",
    "        model = LdaMulticore(corpus, id2word=id2word, num_topics=3)\n",
    "        model_list.append(model)\n",
    "        coherencemodel = CoherenceModel(model=model, texts=texts, dictionary=dictionary, coherence='c_v')\n",
    "        coherence_values.append(coherencemodel.get_coherence())\n",
    "\n",
    "    return model_list, coherence_values"
   ]
  },
  {
   "cell_type": "code",
   "execution_count": 17,
   "metadata": {},
   "outputs": [
    {
     "name": "stderr",
     "output_type": "stream",
     "text": [
      "100%|████████████████████████████████████████████████████████████████████████████████████| 1/1 [01:00<00:00, 60.41s/it]\n"
     ]
    }
   ],
   "source": [
    "# Colocando parametros na função\n",
    "\n",
    "model_list, coherence_values = compute_coherence_values(dictionary=id2word, corpus=corpus, texts=texto, start=2, limit=4, step=2)"
   ]
  },
  {
   "cell_type": "code",
   "execution_count": 18,
   "metadata": {},
   "outputs": [
    {
     "data": {
      "text/plain": [
       "[(0,\n",
       "  '0.055*\"bolsonaro\" + 0.045*\"\" + 0.019*\"casa\" + 0.018*\"alguem\" + 0.012*\"corrente\" + 0.011*\"passar\" + 0.011*\"gente\" + 0.010*\"deus\" + 0.009*\"mae\" + 0.009*\"filho\" + 0.008*\"depois\" + 0.008*\"presidente\" + 0.007*\"nunca\" + 0.006*\"vida\" + 0.006*\"amor\" + 0.006*\"pandemia\" + 0.006*\"tava\" + 0.006*\"voltar\" + 0.005*\"sair\" + 0.005*\"possivel\"'),\n",
       " (1,\n",
       "  '0.160*\"bolsonaro\" + 0.038*\"pronunciamento\" + 0.035*\"presidente\" + 0.029*\"merda\" + 0.026*\"gente\" + 0.018*\"cu\" + 0.016*\"deus\" + 0.015*\"tomar\" + 0.012*\"nacional\" + 0.011*\"tv\" + 0.011*\"rede\" + 0.010*\"mundo\" + 0.010*\"depois\" + 0.009*\"atleta\" + 0.009*\"falar\" + 0.008*\"vez\" + 0.007*\"caralho\" + 0.007*\"contra\" + 0.007*\"pandemia\" + 0.007*\"boca\"'),\n",
       " (2,\n",
       "  '0.083*\"presidente\" + 0.018*\"quando\" + 0.015*\"brasil\" + 0.015*\"acabar\" + 0.013*\"muito\" + 0.012*\"nem\" + 0.012*\"bolsonaro\" + 0.012*\"agora\" + 0.011*\"pandemia\" + 0.008*\"vergonha\" + 0.008*\"sim\" + 0.008*\"deus\" + 0.008*\"coisa\" + 0.007*\"merda\" + 0.007*\"casa\" + 0.007*\"nada\" + 0.007*\"povo\" + 0.006*\"falar\" + 0.006*\"sair\" + 0.006*\"mundo\"')]"
      ]
     },
     "execution_count": 18,
     "metadata": {},
     "output_type": "execute_result"
    }
   ],
   "source": [
    "# Escolhe o model\n",
    "\n",
    "optimal_model = model_list[0]\n",
    "optimal_model.print_topics(num_topics = 3, num_words = 20)"
   ]
  },
  {
   "cell_type": "code",
   "execution_count": 19,
   "metadata": {},
   "outputs": [],
   "source": [
    "# Encontrar qual o principal tópico em cada tweet\n",
    "\n",
    "def format_topics_sentences(ldamodel=lda_model, corpus=corpus, texts=texto):\n",
    "    # Output\n",
    "    sent_topics_df = pd.DataFrame()\n",
    "\n",
    "    # Seleciona o principal tópico de cada tweet\n",
    "    for i, row in enumerate(ldamodel[corpus]):\n",
    "        row = sorted(row, key=lambda x: (x[1]), reverse=True)\n",
    "        # Calcula o principal tópico, o percentual de contribuição e as palavras chaves de cada tweet\n",
    "        for j, (topic_num, prop_topic) in enumerate(row):\n",
    "            if j == 0:  # => mostra o principal tópico\n",
    "                wp = ldamodel.show_topic(topic_num)\n",
    "                topic_keywords = \", \".join([word for word, prop in wp])\n",
    "                sent_topics_df = sent_topics_df.append(pd.Series([int(topic_num), round(prop_topic,4), topic_keywords]), ignore_index=True)\n",
    "            else:\n",
    "                break\n",
    "    sent_topics_df.columns = ['Principal_Topico', 'Perc_Contributicao', 'Palavras_Chave']\n",
    "\n",
    "    # Inclui o texto original no final do DataFrame\n",
    "    contents = pd.Series(texts)\n",
    "    sent_topics_df = pd.concat([sent_topics_df, contents], axis=1)\n",
    "    return(sent_topics_df)"
   ]
  },
  {
   "cell_type": "code",
   "execution_count": 20,
   "metadata": {},
   "outputs": [],
   "source": [
    "# roda a função de calcular os principais tópicos de cada tweet\n",
    "\n",
    "df_topic_sents_keywords = format_topics_sentences(ldamodel=optimal_model, corpus=corpus, texts=texto)"
   ]
  },
  {
   "cell_type": "code",
   "execution_count": 21,
   "metadata": {},
   "outputs": [],
   "source": [
    "# Formata o DataFrame\n",
    "\n",
    "df_dominant_topic = df_topic_sents_keywords.reset_index()\n",
    "df_dominant_topic.columns = ['Index_DF_Original', 'Principal_Topico', 'Perc_Contrib_Topico', 'Palavras_Chave', 'Tweets']"
   ]
  },
  {
   "cell_type": "code",
   "execution_count": 22,
   "metadata": {
    "scrolled": true
   },
   "outputs": [
    {
     "data": {
      "text/html": [
       "<div>\n",
       "<style scoped>\n",
       "    .dataframe tbody tr th:only-of-type {\n",
       "        vertical-align: middle;\n",
       "    }\n",
       "\n",
       "    .dataframe tbody tr th {\n",
       "        vertical-align: top;\n",
       "    }\n",
       "\n",
       "    .dataframe thead th {\n",
       "        text-align: right;\n",
       "    }\n",
       "</style>\n",
       "<table border=\"1\" class=\"dataframe\">\n",
       "  <thead>\n",
       "    <tr style=\"text-align: right;\">\n",
       "      <th></th>\n",
       "      <th>Topico</th>\n",
       "      <th>Topico_Perc_Contrib</th>\n",
       "      <th>Palavras_Chave</th>\n",
       "      <th>Tweet</th>\n",
       "    </tr>\n",
       "  </thead>\n",
       "  <tbody>\n",
       "    <tr>\n",
       "      <th>0</th>\n",
       "      <td>0.0</td>\n",
       "      <td>0.9542</td>\n",
       "      <td>bolsonaro, , casa, alguem, corrente, passar, g...</td>\n",
       "      <td>[pijama, paz, contatinhos, violento, passo, ge...</td>\n",
       "    </tr>\n",
       "    <tr>\n",
       "      <th>1</th>\n",
       "      <td>1.0</td>\n",
       "      <td>0.9600</td>\n",
       "      <td>bolsonaro, pronunciamento, presidente, merda, ...</td>\n",
       "      <td>[rede, nacional, crise, pandemia, perdido, cad...</td>\n",
       "    </tr>\n",
       "    <tr>\n",
       "      <th>2</th>\n",
       "      <td>2.0</td>\n",
       "      <td>0.9576</td>\n",
       "      <td>presidente, quando, brasil, acabar, muito, nem...</td>\n",
       "      <td>[falar, usar, casa, ir, lavar, maos, mal, volt...</td>\n",
       "    </tr>\n",
       "  </tbody>\n",
       "</table>\n",
       "</div>"
      ],
      "text/plain": [
       "   Topico  Topico_Perc_Contrib  \\\n",
       "0     0.0               0.9542   \n",
       "1     1.0               0.9600   \n",
       "2     2.0               0.9576   \n",
       "\n",
       "                                      Palavras_Chave  \\\n",
       "0  bolsonaro, , casa, alguem, corrente, passar, g...   \n",
       "1  bolsonaro, pronunciamento, presidente, merda, ...   \n",
       "2  presidente, quando, brasil, acabar, muito, nem...   \n",
       "\n",
       "                                               Tweet  \n",
       "0  [pijama, paz, contatinhos, violento, passo, ge...  \n",
       "1  [rede, nacional, crise, pandemia, perdido, cad...  \n",
       "2  [falar, usar, casa, ir, lavar, maos, mal, volt...  "
      ]
     },
     "execution_count": 22,
     "metadata": {},
     "output_type": "execute_result"
    }
   ],
   "source": [
    "# Group top 5 sentences under each topic\n",
    "sent_topics_sorteddf_mallet = pd.DataFrame()\n",
    "\n",
    "sent_topics_outdf_grpd = df_topic_sents_keywords.groupby('Principal_Topico')\n",
    "\n",
    "for i, grp in sent_topics_outdf_grpd:\n",
    "    sent_topics_sorteddf_mallet = pd.concat([sent_topics_sorteddf_mallet, \n",
    "                                             grp.sort_values(['Perc_Contributicao'], ascending=[0]).head(1)], \n",
    "                                            axis=0)\n",
    "\n",
    "# Reset Index    \n",
    "sent_topics_sorteddf_mallet.reset_index(drop=True, inplace=True)\n",
    "\n",
    "# Format\n",
    "sent_topics_sorteddf_mallet.columns = ['Topico', \"Topico_Perc_Contrib\", \"Palavras_Chave\", \"Tweet\"]\n",
    "\n",
    "# Show\n",
    "sent_topics_sorteddf_mallet"
   ]
  },
  {
   "cell_type": "code",
   "execution_count": 23,
   "metadata": {},
   "outputs": [
    {
     "data": {
      "text/html": [
       "<div>\n",
       "<style scoped>\n",
       "    .dataframe tbody tr th:only-of-type {\n",
       "        vertical-align: middle;\n",
       "    }\n",
       "\n",
       "    .dataframe tbody tr th {\n",
       "        vertical-align: top;\n",
       "    }\n",
       "\n",
       "    .dataframe thead th {\n",
       "        text-align: right;\n",
       "    }\n",
       "</style>\n",
       "<table border=\"1\" class=\"dataframe\">\n",
       "  <thead>\n",
       "    <tr style=\"text-align: right;\">\n",
       "      <th></th>\n",
       "      <th>Principal_Topico</th>\n",
       "      <th>Palavras_Chave</th>\n",
       "      <th>Qtd_Tweets</th>\n",
       "      <th>Perc_Tweets</th>\n",
       "    </tr>\n",
       "  </thead>\n",
       "  <tbody>\n",
       "    <tr>\n",
       "      <th>0.0</th>\n",
       "      <td>2.0</td>\n",
       "      <td>presidente, quando, brasil, acabar, muito, nem...</td>\n",
       "      <td>32769.0</td>\n",
       "      <td>0.2448</td>\n",
       "    </tr>\n",
       "    <tr>\n",
       "      <th>1.0</th>\n",
       "      <td>1.0</td>\n",
       "      <td>bolsonaro, pronunciamento, presidente, merda, ...</td>\n",
       "      <td>57765.0</td>\n",
       "      <td>0.4315</td>\n",
       "    </tr>\n",
       "    <tr>\n",
       "      <th>2.0</th>\n",
       "      <td>0.0</td>\n",
       "      <td>bolsonaro, , casa, alguem, corrente, passar, g...</td>\n",
       "      <td>43332.0</td>\n",
       "      <td>0.3237</td>\n",
       "    </tr>\n",
       "    <tr>\n",
       "      <th>3.0</th>\n",
       "      <td>1.0</td>\n",
       "      <td>bolsonaro, pronunciamento, presidente, merda, ...</td>\n",
       "      <td>NaN</td>\n",
       "      <td>NaN</td>\n",
       "    </tr>\n",
       "    <tr>\n",
       "      <th>4.0</th>\n",
       "      <td>2.0</td>\n",
       "      <td>presidente, quando, brasil, acabar, muito, nem...</td>\n",
       "      <td>NaN</td>\n",
       "      <td>NaN</td>\n",
       "    </tr>\n",
       "    <tr>\n",
       "      <th>...</th>\n",
       "      <td>...</td>\n",
       "      <td>...</td>\n",
       "      <td>...</td>\n",
       "      <td>...</td>\n",
       "    </tr>\n",
       "    <tr>\n",
       "      <th>133861.0</th>\n",
       "      <td>0.0</td>\n",
       "      <td>bolsonaro, , casa, alguem, corrente, passar, g...</td>\n",
       "      <td>NaN</td>\n",
       "      <td>NaN</td>\n",
       "    </tr>\n",
       "    <tr>\n",
       "      <th>133862.0</th>\n",
       "      <td>2.0</td>\n",
       "      <td>presidente, quando, brasil, acabar, muito, nem...</td>\n",
       "      <td>NaN</td>\n",
       "      <td>NaN</td>\n",
       "    </tr>\n",
       "    <tr>\n",
       "      <th>133863.0</th>\n",
       "      <td>2.0</td>\n",
       "      <td>presidente, quando, brasil, acabar, muito, nem...</td>\n",
       "      <td>NaN</td>\n",
       "      <td>NaN</td>\n",
       "    </tr>\n",
       "    <tr>\n",
       "      <th>133864.0</th>\n",
       "      <td>2.0</td>\n",
       "      <td>presidente, quando, brasil, acabar, muito, nem...</td>\n",
       "      <td>NaN</td>\n",
       "      <td>NaN</td>\n",
       "    </tr>\n",
       "    <tr>\n",
       "      <th>133865.0</th>\n",
       "      <td>1.0</td>\n",
       "      <td>bolsonaro, pronunciamento, presidente, merda, ...</td>\n",
       "      <td>NaN</td>\n",
       "      <td>NaN</td>\n",
       "    </tr>\n",
       "  </tbody>\n",
       "</table>\n",
       "<p>133866 rows × 4 columns</p>\n",
       "</div>"
      ],
      "text/plain": [
       "          Principal_Topico                                     Palavras_Chave  \\\n",
       "0.0                    2.0  presidente, quando, brasil, acabar, muito, nem...   \n",
       "1.0                    1.0  bolsonaro, pronunciamento, presidente, merda, ...   \n",
       "2.0                    0.0  bolsonaro, , casa, alguem, corrente, passar, g...   \n",
       "3.0                    1.0  bolsonaro, pronunciamento, presidente, merda, ...   \n",
       "4.0                    2.0  presidente, quando, brasil, acabar, muito, nem...   \n",
       "...                    ...                                                ...   \n",
       "133861.0               0.0  bolsonaro, , casa, alguem, corrente, passar, g...   \n",
       "133862.0               2.0  presidente, quando, brasil, acabar, muito, nem...   \n",
       "133863.0               2.0  presidente, quando, brasil, acabar, muito, nem...   \n",
       "133864.0               2.0  presidente, quando, brasil, acabar, muito, nem...   \n",
       "133865.0               1.0  bolsonaro, pronunciamento, presidente, merda, ...   \n",
       "\n",
       "          Qtd_Tweets  Perc_Tweets  \n",
       "0.0          32769.0       0.2448  \n",
       "1.0          57765.0       0.4315  \n",
       "2.0          43332.0       0.3237  \n",
       "3.0              NaN          NaN  \n",
       "4.0              NaN          NaN  \n",
       "...              ...          ...  \n",
       "133861.0         NaN          NaN  \n",
       "133862.0         NaN          NaN  \n",
       "133863.0         NaN          NaN  \n",
       "133864.0         NaN          NaN  \n",
       "133865.0         NaN          NaN  \n",
       "\n",
       "[133866 rows x 4 columns]"
      ]
     },
     "execution_count": 23,
     "metadata": {},
     "output_type": "execute_result"
    }
   ],
   "source": [
    "# Numero de tweets por topico\n",
    "\n",
    "topic_counts = df_topic_sents_keywords['Principal_Topico'].value_counts()\n",
    "\n",
    "# Porcentagem de tweets por tópico\n",
    "topic_contribution = round(topic_counts/topic_counts.sum(), 4)\n",
    "\n",
    "# Número do tópico e suas palavras chave\n",
    "topic_num_keywords = df_topic_sents_keywords[['Principal_Topico', 'Palavras_Chave']]\n",
    "\n",
    "# Concatena as colunas\n",
    "df_dominant_topics = pd.concat([topic_num_keywords, topic_counts, topic_contribution], axis=1)\n",
    "\n",
    "# Renomeia as colunas\n",
    "df_dominant_topics.columns = ['Principal_Topico', 'Palavras_Chave', 'Qtd_Tweets', 'Perc_Tweets']\n",
    "\n",
    "# Mostra o DataFrame\n",
    "df_dominant_topics"
   ]
  },
  {
   "cell_type": "code",
   "execution_count": 24,
   "metadata": {},
   "outputs": [],
   "source": [
    "# Criando stopwords em português utilizando a biblioteca nltk\n",
    "import pt_core_news_sm\n",
    "nlp = pt_core_news_sm.load()\n",
    "pt_stopwords = sorted([token.text for token in nlp.vocab if token.is_stop])\n",
    "list_exclude = ['obrigado', 'bom', 'mal', 'nenhuma', 'maior',\n",
    "             'bem', 'não', 'máximo', 'boa', 'mais',\n",
    "               'bastante', 'certamente', 'certeza', 'contra',\n",
    "                'quarentena', 'coronavírus', 'presidente', 'impeachment', 'demitido', 'demitida']\n",
    "for word in list_exclude:\n",
    "    nlp.vocab[word].is_stop = False\n",
    "list_include = set(['o', 'a', 'tá', 'ta', 'ser', 'pro', 'to', 'tô', 'vc', 'você', 'voce', 'pra',\n",
    "                    'pq', 'é', 'vou', 'que','tão', 'gt', 'de', 'da', 'do', 'em', 'uma', 'lá',\n",
    "                    'já', 'no', 'para', 'na', 'com', 'um', 'minha', 'se', 'isso', 'por', 'vou',\n",
    "                    'os', 'isso', 'como', 'mesmo', 'tenho', 'aqui', 'ele', 'ela', 'quem', 'fazer',\n",
    "                    'eu', 'só', 'ai', 'mais', 'só', 'querer', 'https', 'ter', 'estar', 'ficar',\n",
    "                    'dos', 'das', 'vcs', 'tem', 'as', 'mas','ao'\n",
    "                    'tava', 'nao', 'sao', 'ja', 'so', 'nossa',\n",
    "                    'nosso', 'estao', 'tco', 'me', 'dia', 'te', 'ver', 'sera', 'porra', 'fez', 'ne',\n",
    "                    'kkk','kkkkkk', 'puta', 'kkkkkkkk', 'hj', 'afff', 'gbr', 'meu', 'cara', 'guri', 'cmg',\n",
    "                    'ctg', 'agr', 'pqp', 'vdd', 'eh', 'va', 'obg',\n",
    "                    'corona','virus','coronavirus','covid','covid19','19'\n",
    "                   'nem', 'numa', 'num', 'nuns', 'ces', 'voces', 'oce', 'oces', 'kkkk', 'vao', 'via',\n",
    "                    'hj', 'hoje', 'tudo', 'todo', 'toda',\n",
    "                    'vir', 'bem','ao','sem','ou','vai', 'dizer', 'entao', 'dizer', 'entao',\n",
    "                    'tao', 'tu', 'mim', 'mano', 'oq', 'pos', 'dm', 'dps',\n",
    "                    'coronavirusoutbreak', 'coronavirusPandemic', 'dar', 'vairus',\n",
    "                    'ainda', 'assim']\n",
    "                  )\n",
    "for w in list_include:\n",
    "    nlp.vocab[w].is_stop = True\n",
    "stop_words = sorted([token.text for token in nlp.vocab if token.is_stop])"
   ]
  },
  {
   "cell_type": "code",
   "execution_count": 25,
   "metadata": {},
   "outputs": [
    {
     "data": {
      "image/png": "[encoded data removed]",
      "text/plain": [
       "<Figure size 720x720 with 3 Axes>"
      ]
     },
     "metadata": {
      "needs_background": "light"
     },
     "output_type": "display_data"
    }
   ],
   "source": [
    "# Cria wordclouds\n",
    "\n",
    "cols = [color for name, color in mcolors.XKCD_COLORS.items()]\n",
    "\n",
    "cloud = WordCloud(stopwords=stop_words,\n",
    "                  background_color='white',\n",
    "                  width=2500,\n",
    "                  height=1800,\n",
    "                  max_words=20,\n",
    "                  colormap='tab10',\n",
    "                  color_func=lambda *args, **kwargs: cols[i],\n",
    "                  prefer_horizontal=1.0)\n",
    "\n",
    "topics = lda_model.show_topics(formatted=False)\n",
    "\n",
    "fig, axes = plt.subplots(1, 3, figsize=(10,10), sharex=True, sharey=True)\n",
    "\n",
    "for i, ax in enumerate(axes.flatten()):\n",
    "    fig.add_subplot(ax)\n",
    "    topic_words = dict(topics[i][1])\n",
    "    cloud.generate_from_frequencies(topic_words, max_font_size=600)\n",
    "    plt.gca().imshow(cloud)\n",
    "    plt.gca().set_title('Topic ' + str(i), fontdict=dict(size=16))\n",
    "    plt.gca().axis('off')\n",
    "\n",
    "\n",
    "plt.subplots_adjust(wspace=0, hspace=0)\n",
    "plt.axis('off')\n",
    "plt.margins(x=0, y=0)\n",
    "plt.tight_layout()\n",
    "plt.show()"
   ]
  },
  {
   "cell_type": "code",
   "execution_count": 26,
   "metadata": {},
   "outputs": [],
   "source": [
    "sent_topics_sorteddf_mallet.to_excel('keywords_0324.xlsx')"
   ]
  }
 ],
 "metadata": {
  "kernelspec": {
   "display_name": "Python 3",
   "language": "python",
   "name": "python3"
  },
  "language_info": {
   "codemirror_mode": {
    "name": "ipython",
    "version": 3
   },
   "file_extension": ".py",
   "mimetype": "text/x-python",
   "name": "python",
   "nbconvert_exporter": "python",
   "pygments_lexer": "ipython3",
   "version": "3.7.6"
  }
 },
 "nbformat": 4,
 "nbformat_minor": 1
}
