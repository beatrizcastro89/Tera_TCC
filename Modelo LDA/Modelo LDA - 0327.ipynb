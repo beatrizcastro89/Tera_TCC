{
 "cells": [
  {
   "cell_type": "markdown",
   "metadata": {
    "collapsed": true
   },
   "source": [
    "Análise do dia 27/03 através do modelo LDA."
   ]
  },
  {
   "cell_type": "code",
   "execution_count": 1,
   "metadata": {},
   "outputs": [],
   "source": [
    "# Importar bibliotecas\n",
    "\n",
    "# gerais\n",
    "import sys\n",
    "import os\n",
    "from pathlib import Path\n",
    "import re\n",
    "import numpy as np\n",
    "import pandas as pd\n",
    "from pprint import pprint\n",
    "from tqdm import tqdm\n",
    "from ast import literal_eval\n",
    "\n",
    "# Gensim\n",
    "import gensim, spacy, logging, warnings\n",
    "import gensim.corpora as corpora\n",
    "from gensim.utils import lemmatize, simple_preprocess\n",
    "from gensim.models import CoherenceModel\n",
    "from gensim.models.ldamulticore import LdaMulticore\n",
    "\n",
    "# NLTK Stop words\n",
    "import nltk\n",
    "from nltk.corpus import stopwords\n",
    "\n",
    "# sklearn\n",
    "from sklearn.feature_extraction.text import CountVectorizer\n",
    "\n",
    "#plot\n",
    "import pyLDAvis\n",
    "import pyLDAvis.gensim\n",
    "import matplotlib.pyplot as plt\n",
    "import matplotlib.colors as mcolors\n",
    "%matplotlib inline\n",
    "from wordcloud import WordCloud, STOPWORDS"
   ]
  },
  {
   "cell_type": "markdown",
   "metadata": {},
   "source": [
    "# Preparação dos dados"
   ]
  },
  {
   "cell_type": "code",
   "execution_count": 2,
   "metadata": {},
   "outputs": [],
   "source": [
    "# import dos dados\n",
    "\n",
    "df = pd.read_csv('2703_preprocessado.csv')"
   ]
  },
  {
   "cell_type": "code",
   "execution_count": 3,
   "metadata": {},
   "outputs": [],
   "source": [
    "# função para reverter os tokens processados em lista de tuples\n",
    "\n",
    "def strip_characters(text):\n",
    "    t = re.sub(r'\\(|\\)|:|,|;|\\.|’|”|“|\\?|%|>|<|\\[|\\]', '', text)\n",
    "    t = re.sub(r'/', ' ', t)\n",
    "    t = t.replace(\"'\",'')\n",
    "    return t"
   ]
  },
  {
   "cell_type": "code",
   "execution_count": 4,
   "metadata": {},
   "outputs": [],
   "source": [
    "# aplica função em todos os tokens\n",
    "\n",
    "df['token3'] = df['token3'].apply(lambda x: strip_characters(x))\n",
    "df['token3'] = df['token3'].apply(lambda x: str(x).split(' '))"
   ]
  },
  {
   "cell_type": "code",
   "execution_count": 5,
   "metadata": {},
   "outputs": [],
   "source": [
    "texto = list(df.token3)"
   ]
  },
  {
   "cell_type": "markdown",
   "metadata": {},
   "source": [
    "# Modelagem"
   ]
  },
  {
   "cell_type": "code",
   "execution_count": 6,
   "metadata": {},
   "outputs": [],
   "source": [
    "# Criar dicionário\n",
    "\n",
    "id2word = corpora.Dictionary(texto)"
   ]
  },
  {
   "cell_type": "code",
   "execution_count": 7,
   "metadata": {},
   "outputs": [],
   "source": [
    "# Criar o Corpus: A Frequência das palavras nos documentos\n",
    "\n",
    "corpus = [id2word.doc2bow(text) for text in texto]"
   ]
  },
  {
   "cell_type": "code",
   "execution_count": 8,
   "metadata": {},
   "outputs": [],
   "source": [
    "# Função para determinar a melhor quantidade de tópicos para a modelagem\n",
    "\n",
    "def compute_coherence_values(dictionary, corpus, texts, limit, start=2, step=5):\n",
    "    coherence_values = []\n",
    "    model_list = []\n",
    "    for num_topics in tqdm(range(start, limit, step)):\n",
    "        model = LdaMulticore(corpus, id2word=id2word, num_topics=10)\n",
    "        model_list.append(model)\n",
    "        coherencemodel = CoherenceModel(model=model, texts=texts, dictionary=dictionary, coherence='c_v')\n",
    "        coherence_values.append(coherencemodel.get_coherence())\n",
    "\n",
    "    return model_list, coherence_values"
   ]
  },
  {
   "cell_type": "code",
   "execution_count": 9,
   "metadata": {},
   "outputs": [
    {
     "name": "stderr",
     "output_type": "stream",
     "text": [
      "100%|██████████████████████████████████████████████████████████████████████████████████| 14/14 [18:04<00:00, 77.49s/it]\n"
     ]
    }
   ],
   "source": [
    "# Colocando parametros na função\n",
    "\n",
    "model_list, coherence_values = compute_coherence_values(dictionary=id2word, corpus=corpus, texts=texto, start=2, limit=30, step=2)"
   ]
  },
  {
   "cell_type": "code",
   "execution_count": 10,
   "metadata": {},
   "outputs": [
    {
     "data": {
      "image/png": "[encoded data removed]",
      "text/plain": [
       "<Figure size 432x288 with 1 Axes>"
      ]
     },
     "metadata": {
      "needs_background": "light"
     },
     "output_type": "display_data"
    }
   ],
   "source": [
    "# Mostrando visualmente a quantidade de tópicos\n",
    "\n",
    "limit=30; start=2; step=2;\n",
    "x = range(start, limit, step)\n",
    "plt.plot(x, coherence_values)\n",
    "plt.xlabel(\"Num Tópicos\")\n",
    "plt.ylabel(\"Score de Coerência\")\n",
    "plt.legend((\"Valores de Coerência\"), loc='best')\n",
    "plt.show()"
   ]
  },
  {
   "cell_type": "code",
   "execution_count": 11,
   "metadata": {},
   "outputs": [
    {
     "name": "stdout",
     "output_type": "stream",
     "text": [
      "A quantidade de tópicos = 2  tem um valor de coerência de  0.3239\n",
      "A quantidade de tópicos = 4  tem um valor de coerência de  0.335\n",
      "A quantidade de tópicos = 6  tem um valor de coerência de  0.3331\n",
      "A quantidade de tópicos = 8  tem um valor de coerência de  0.3148\n",
      "A quantidade de tópicos = 10  tem um valor de coerência de  0.3265\n",
      "A quantidade de tópicos = 12  tem um valor de coerência de  0.2976\n",
      "A quantidade de tópicos = 14  tem um valor de coerência de  0.3459\n",
      "A quantidade de tópicos = 16  tem um valor de coerência de  0.314\n",
      "A quantidade de tópicos = 18  tem um valor de coerência de  0.3475\n",
      "A quantidade de tópicos = 20  tem um valor de coerência de  0.3477\n",
      "A quantidade de tópicos = 22  tem um valor de coerência de  0.3449\n",
      "A quantidade de tópicos = 24  tem um valor de coerência de  0.3135\n",
      "A quantidade de tópicos = 26  tem um valor de coerência de  0.3242\n",
      "A quantidade de tópicos = 28  tem um valor de coerência de  0.3309\n"
     ]
    }
   ],
   "source": [
    "# Lista dos valores de coerência, para melhor identificar o ponto de inflexão do gráfico\n",
    "\n",
    "for m, cv in zip(x, coherence_values):\n",
    "    print(\"A quantidade de tópicos =\", m, \" tem um valor de coerência de \", round(cv, 4))"
   ]
  },
  {
   "cell_type": "markdown",
   "metadata": {},
   "source": [
    "Aqui conseguimos determinar a melhor quantidade de tópicos a serem analisados, que é 8 tópicos"
   ]
  },
  {
   "cell_type": "code",
   "execution_count": 12,
   "metadata": {},
   "outputs": [],
   "source": [
    "# Vamos agora construir de fato o modelo LDA\n",
    "\n",
    "lda_model = LdaMulticore(corpus=corpus,\n",
    "                        id2word=id2word,\n",
    "                        num_topics=4, \n",
    "                        random_state=42,\n",
    "                        chunksize=100,\n",
    "                        passes=10,\n",
    "                        per_word_topics=True,\n",
    "                        alpha = 0.9,\n",
    "                        eta = 0.3)"
   ]
  },
  {
   "cell_type": "code",
   "execution_count": 13,
   "metadata": {},
   "outputs": [
    {
     "name": "stdout",
     "output_type": "stream",
     "text": [
      "\n",
      "Perplexidade:  -7.064159243139169\n"
     ]
    }
   ],
   "source": [
    "# Computar a perplexidade do modelo (quanto menor, melhor)\n",
    "\n",
    "print('\\nPerplexidade: ', lda_model.log_perplexity(corpus))"
   ]
  },
  {
   "cell_type": "code",
   "execution_count": 14,
   "metadata": {},
   "outputs": [
    {
     "name": "stdout",
     "output_type": "stream",
     "text": [
      "\n",
      "Score de Coerência:  0.3651596776830253\n"
     ]
    }
   ],
   "source": [
    "# Computar o Score de Coerência\n",
    "\n",
    "coherence_model_lda = CoherenceModel(model=lda_model, texts=texto, dictionary=id2word, coherence='c_v')\n",
    "coherence_lda = coherence_model_lda.get_coherence()\n",
    "print('\\nScore de Coerência: ', coherence_lda)"
   ]
  },
  {
   "cell_type": "code",
   "execution_count": 15,
   "metadata": {},
   "outputs": [
    {
     "data": {
      "text/html": [
       "\n",
       "<link rel=\"stylesheet\" type=\"text/css\" href=\"https://cdn.rawgit.com/bmabey/pyLDAvis/files/ldavis.v1.0.0.css\">\n",
       "\n",
       "\n",
       "<div id=\"ldavis_el1726022457438352084586343467\"></div>\n",
       "<script type=\"text/javascript\">\n",
       "\n",
       "var ldavis_el1726022457438352084586343467_data = {\"mdsDat\": {\"x\": [0.32956205490454826, -0.3031559362079955, -0.131724752252259, 0.1053186335557064], \"y\": [0.03422505964584433, 0.24594609555468633, -0.39143881099927197, 0.11126765579874122], \"topics\": [1, 2, 3, 4], \"cluster\": [1, 1, 1, 1], \"Freq\": [29.527503967285156, 24.88648223876953, 23.820560455322266, 21.76545524597168]}, \"tinfo\": {\"Term\": [\"bolsonaro\", \"presidente\", \"\", \"casa\", \"pandemia\", \"quando\", \"gente\", \"acabar\", \"agora\", \"depois\", \"brasil\", \"mundo\", \"nem\", \"muito\", \"sair\", \"nada\", \"coisa\", \"ir\", \"vida\", \"nunca\", \"contra\", \"tempo\", \"governo\", \"mae\", \"povo\", \"passar\", \"novo\", \"deus\", \"fim\", \"saude\", \"bolsonaro\", \"presidente\", \"pandemia\", \"brasil\", \"contra\", \"governo\", \"povo\", \"saude\", \"deus\", \"doria\", \"italia\", \"meio\", \"falar\", \"parar\", \"ninguem\", \"dinheiro\", \"populacao\", \"campanha\", \"crise\", \"economia\", \"morte\", \"mal\", \"certo\", \"datena\", \"governador\", \"milhoes\", \"brasileiro\", \"prefeito\", \"parabens\", \"gripezinha\", \"gente\", \"agora\", \"nem\", \"mundo\", \"muito\", \"nada\", \"passar\", \"merda\", \"sim\", \"porque\", \"melhor\", \"tambem\", \"alguem\", \"menos\", \"familia\", \"tanto\", \"primeiro\", \"momento\", \"cu\", \"matar\", \"tomar\", \"qual\", \"caso\", \"demais\", \"outro\", \"pouco\", \"grande\", \"desde\", \"pessoal\", \"cidade\", \"casa\", \"quando\", \"acabar\", \"coisa\", \"mae\", \"novo\", \"fim\", \"isolamento\", \"trabalhar\", \"morrer\", \"bom\", \"favor\", \"pai\", \"semana\", \"video\", \"sempre\", \"carreata\", \"trabalho\", \"maior\", \"poder\", \"ha\", \"risco\", \"tarde\", \"social\", \"amor\", \"enquanto\", \"grupo\", \"comer\", \"foto\", \"caralho\", \"deixar\", \"\", \"depois\", \"sair\", \"ir\", \"vida\", \"nunca\", \"tempo\", \"logo\", \"cabelo\", \"voltar\", \"vez\", \"pegar\", \"pessoa\", \"cada\", \"tava\", \"mil\", \"quase\", \"hora\", \"medo\", \"pois\", \"vontade\", \"preciso\", \"saber\", \"ano\", \"final\", \"quanto\", \"cabeca\", \"algo\", \"realmente\", \"igual\"], \"Freq\": [28303.0, 20763.0, 16514.0, 12313.0, 10964.0, 8870.0, 8990.0, 8042.0, 8154.0, 7211.0, 7977.0, 6849.0, 6794.0, 6499.0, 5276.0, 5267.0, 4139.0, 3805.0, 3707.0, 3580.0, 4401.0, 3508.0, 4319.0, 3639.0, 4250.0, 3646.0, 3530.0, 4033.0, 3309.0, 3889.0, 28302.3125, 20762.771484375, 10963.44921875, 7976.65576171875, 4400.8466796875, 4318.2919921875, 4249.93115234375, 3888.364501953125, 4032.638427734375, 3588.817138671875, 2959.9072265625, 2537.710205078125, 2437.8271484375, 2152.91162109375, 2155.955810546875, 2091.03125, 1908.30810546875, 1832.5205078125, 1903.3021240234375, 1867.65966796875, 1846.45361328125, 1691.787841796875, 1571.3939208984375, 1415.1064453125, 1414.3299560546875, 1301.418701171875, 1304.775146484375, 1265.208251953125, 1259.92919921875, 1280.1885986328125, 8989.357421875, 8153.0947265625, 6793.10986328125, 6848.49755859375, 6498.96630859375, 5266.90185546875, 3645.95556640625, 3368.463623046875, 3371.822265625, 3254.990478515625, 3084.38330078125, 2996.0615234375, 2623.551025390625, 2644.79248046875, 2512.230712890625, 2427.133544921875, 2186.1376953125, 2219.390625, 1824.7947998046875, 1827.4141845703125, 1767.3609619140625, 1724.814208984375, 1669.8541259765625, 1697.171142578125, 1587.07470703125, 1508.3331298828125, 1505.9365234375, 1495.4505615234375, 1416.2730712890625, 1346.2646484375, 12312.2021484375, 8869.3291015625, 8041.474609375, 4138.7177734375, 3638.46044921875, 3529.6171875, 3308.241455078125, 3260.185791015625, 3044.669677734375, 2812.328125, 2448.555419921875, 2365.91259765625, 2073.548583984375, 2073.79052734375, 2000.026611328125, 2043.01171875, 1943.759033203125, 1907.14599609375, 1867.953125, 1843.21533203125, 1795.119140625, 1747.3289794921875, 1648.224853515625, 1609.710693359375, 1614.2884521484375, 1587.271728515625, 1499.6611328125, 1442.9830322265625, 1375.6646728515625, 1427.2628173828125, 1397.38330078125, 16513.47265625, 7210.95556640625, 5275.84765625, 3804.357177734375, 3706.55224609375, 3579.286376953125, 3507.911865234375, 2838.939208984375, 2639.34033203125, 2701.217529296875, 2591.55712890625, 2446.12744140625, 2433.160888671875, 2314.644287109375, 2150.756591796875, 2042.5748291015625, 2019.1083984375, 1907.8541259765625, 1877.7952880859375, 1923.8095703125, 1842.731689453125, 1656.79736328125, 1656.74609375, 1617.1141357421875, 1456.2615966796875, 1472.19873046875, 1417.9783935546875, 1410.01611328125, 1304.58642578125, 1256.38232421875], \"Total\": [28303.0, 20763.0, 16514.0, 12313.0, 10964.0, 8870.0, 8990.0, 8042.0, 8154.0, 7211.0, 7977.0, 6849.0, 6794.0, 6499.0, 5276.0, 5267.0, 4139.0, 3805.0, 3707.0, 3580.0, 4401.0, 3508.0, 4319.0, 3639.0, 4250.0, 3646.0, 3530.0, 4033.0, 3309.0, 3889.0, 28303.3046875, 20763.751953125, 10964.48828125, 7977.634765625, 4401.8310546875, 4319.271484375, 4250.93212890625, 3889.36865234375, 4033.6845703125, 3589.780029296875, 2960.933837890625, 2538.758544921875, 2438.861328125, 2153.914794921875, 2157.009521484375, 2092.07763671875, 1909.296142578125, 1833.4827880859375, 1904.302001953125, 1868.6529541015625, 1847.4473876953125, 1692.8431396484375, 1572.397705078125, 1416.0516357421875, 1415.28759765625, 1302.3955078125, 1305.7606201171875, 1266.1727294921875, 1260.90283203125, 1281.180908203125, 8990.3203125, 8154.06591796875, 6794.0693359375, 6849.47265625, 6499.93701171875, 5267.869140625, 3646.9189453125, 3369.4208984375, 3372.781005859375, 3255.984375, 3085.34765625, 2997.037109375, 2624.5068359375, 2645.756103515625, 2513.19677734375, 2428.109619140625, 2187.090087890625, 2220.3720703125, 1825.7340087890625, 1828.3692626953125, 1768.343505859375, 1725.775634765625, 1670.8065185546875, 1698.140869140625, 1588.0487060546875, 1509.291259765625, 1506.921875, 1496.4312744140625, 1417.2509765625, 1347.2376708984375, 12313.15234375, 8870.2734375, 8042.4111328125, 4139.6669921875, 3639.40478515625, 3530.568603515625, 3309.1884765625, 3261.12255859375, 3045.6416015625, 2813.292236328125, 2449.51416015625, 2366.876953125, 2074.493896484375, 2074.73828125, 2000.9747314453125, 2043.9931640625, 1944.70654296875, 1908.1031494140625, 1868.93359375, 1844.1839599609375, 1796.0855712890625, 1748.280029296875, 1649.18994140625, 1610.656494140625, 1615.2578125, 1588.2342529296875, 1500.608642578125, 1443.93212890625, 1376.5889892578125, 1428.232177734375, 1398.3411865234375, 16514.3671875, 7211.89208984375, 5276.7890625, 3805.3046875, 3707.499755859375, 3580.22802734375, 3508.8740234375, 2839.867919921875, 2640.25830078125, 2702.180419921875, 2592.5068359375, 2447.067138671875, 2434.120361328125, 2315.588134765625, 2151.70361328125, 2043.528076171875, 2020.055419921875, 1908.8023681640625, 1878.740966796875, 1924.781005859375, 1843.6715087890625, 1657.725341796875, 1657.7108154296875, 1618.0596923828125, 1457.1978759765625, 1473.1593017578125, 1418.9251708984375, 1410.989990234375, 1305.550048828125, 1257.3201904296875], \"Category\": [\"Default\", \"Default\", \"Default\", \"Default\", \"Default\", \"Default\", \"Default\", \"Default\", \"Default\", \"Default\", \"Default\", \"Default\", \"Default\", \"Default\", \"Default\", \"Default\", \"Default\", \"Default\", \"Default\", \"Default\", \"Default\", \"Default\", \"Default\", \"Default\", \"Default\", \"Default\", \"Default\", \"Default\", \"Default\", \"Default\", \"Topic1\", \"Topic1\", \"Topic1\", \"Topic1\", \"Topic1\", \"Topic1\", \"Topic1\", \"Topic1\", \"Topic1\", \"Topic1\", \"Topic1\", \"Topic1\", \"Topic1\", \"Topic1\", \"Topic1\", \"Topic1\", \"Topic1\", \"Topic1\", \"Topic1\", \"Topic1\", \"Topic1\", \"Topic1\", \"Topic1\", \"Topic1\", \"Topic1\", \"Topic1\", \"Topic1\", \"Topic1\", \"Topic1\", \"Topic1\", \"Topic2\", \"Topic2\", \"Topic2\", \"Topic2\", \"Topic2\", \"Topic2\", \"Topic2\", \"Topic2\", \"Topic2\", \"Topic2\", \"Topic2\", \"Topic2\", \"Topic2\", \"Topic2\", \"Topic2\", \"Topic2\", \"Topic2\", \"Topic2\", \"Topic2\", \"Topic2\", \"Topic2\", \"Topic2\", \"Topic2\", \"Topic2\", \"Topic2\", \"Topic2\", \"Topic2\", \"Topic2\", \"Topic2\", \"Topic2\", \"Topic3\", \"Topic3\", \"Topic3\", \"Topic3\", \"Topic3\", \"Topic3\", \"Topic3\", \"Topic3\", \"Topic3\", \"Topic3\", \"Topic3\", \"Topic3\", \"Topic3\", \"Topic3\", \"Topic3\", \"Topic3\", \"Topic3\", \"Topic3\", \"Topic3\", \"Topic3\", \"Topic3\", \"Topic3\", \"Topic3\", \"Topic3\", \"Topic3\", \"Topic3\", \"Topic3\", \"Topic3\", \"Topic3\", \"Topic3\", \"Topic3\", \"Topic4\", \"Topic4\", \"Topic4\", \"Topic4\", \"Topic4\", \"Topic4\", \"Topic4\", \"Topic4\", \"Topic4\", \"Topic4\", \"Topic4\", \"Topic4\", \"Topic4\", \"Topic4\", \"Topic4\", \"Topic4\", \"Topic4\", \"Topic4\", \"Topic4\", \"Topic4\", \"Topic4\", \"Topic4\", \"Topic4\", \"Topic4\", \"Topic4\", \"Topic4\", \"Topic4\", \"Topic4\", \"Topic4\", \"Topic4\"], \"logprob\": [30.0, 29.0, 28.0, 27.0, 26.0, 25.0, 24.0, 23.0, 22.0, 21.0, 20.0, 19.0, 18.0, 17.0, 16.0, 15.0, 14.0, 13.0, 12.0, 11.0, 10.0, 9.0, 8.0, 7.0, 6.0, 5.0, 4.0, 3.0, 2.0, 1.0, -2.2885000705718994, -2.598299980163574, -3.2369000911712646, -3.5548999309539795, -4.149600028991699, -4.168600082397461, -4.184500217437744, -4.273499965667725, -4.236999988555908, -4.353600025177002, -4.546299934387207, -4.700200080871582, -4.740300178527832, -4.86460018157959, -4.8632001876831055, -4.893799781799316, -4.985199928283691, -5.0258002281188965, -4.9878997802734375, -5.006800174713135, -5.018199920654297, -5.1057000160217285, -5.179500102996826, -5.284200191497803, -5.284800052642822, -5.368000030517578, -5.3653998374938965, -5.396200180053711, -5.400400161743164, -5.384399890899658, -3.264400005340576, -3.361999988555908, -3.5445001125335693, -3.536400079727173, -3.5887999534606934, -3.7990000247955322, -4.166800022125244, -4.245999813079834, -4.244999885559082, -4.280300140380859, -4.334099769592285, -4.363100051879883, -4.4959001541137695, -4.4878997802734375, -4.539299964904785, -4.573699951171875, -4.678299903869629, -4.6631999015808105, -4.859000205993652, -4.857500076293945, -4.890999794006348, -4.915299892425537, -4.947700023651123, -4.93149995803833, -4.998600006103516, -5.0493998527526855, -5.051000118255615, -5.058000087738037, -5.112400054931641, -5.163099765777588, -2.906100034713745, -3.234100103378296, -3.3320999145507812, -3.996299982070923, -4.125100135803223, -4.1554999351501465, -4.220300197601318, -4.234899997711182, -4.303299903869629, -4.382699966430664, -4.521200180053711, -4.555500030517578, -4.687399864196777, -4.687300205230713, -4.723499774932861, -4.702199935913086, -4.751999855041504, -4.771100044250488, -4.791800022125244, -4.805200099945068, -4.831600189208984, -4.85860013961792, -4.916999816894531, -4.9405999183654785, -4.93779993057251, -4.954699993133545, -5.01140022277832, -5.050000190734863, -5.097700119018555, -5.0609002113342285, -5.082099914550781, -2.5223000049591064, -3.350800037384033, -3.663300037384033, -3.990299940109253, -4.016300201416016, -4.051300048828125, -4.071400165557861, -4.2829999923706055, -4.355899810791016, -4.332699775695801, -4.374199867248535, -4.4319000244140625, -4.437300205230713, -4.487199783325195, -4.5605998039245605, -4.612199783325195, -4.623799800872803, -4.680500030517578, -4.696300029754639, -4.672100067138672, -4.715199947357178, -4.821599960327148, -4.821599960327148, -4.845799922943115, -4.9506001472473145, -4.939700126647949, -4.977200031280518, -4.982800006866455, -5.0605998039245605, -5.098199844360352], \"loglift\": [30.0, 29.0, 28.0, 27.0, 26.0, 25.0, 24.0, 23.0, 22.0, 21.0, 20.0, 19.0, 18.0, 17.0, 16.0, 15.0, 14.0, 13.0, 12.0, 11.0, 10.0, 9.0, 8.0, 7.0, 6.0, 5.0, 4.0, 3.0, 2.0, 1.0, 1.2197999954223633, 1.2197999954223633, 1.2197999954223633, 1.2196999788284302, 1.219599962234497, 1.219599962234497, 1.219599962234497, 1.219599962234497, 1.219599962234497, 1.219599962234497, 1.219499945640564, 1.2194000482559204, 1.2194000482559204, 1.2194000482559204, 1.2194000482559204, 1.2193000316619873, 1.2193000316619873, 1.2193000316619873, 1.2193000316619873, 1.2193000316619873, 1.2193000316619873, 1.2192000150680542, 1.2192000150680542, 1.2192000150680542, 1.2192000150680542, 1.219099998474121, 1.219099998474121, 1.219099998474121, 1.219099998474121, 1.219099998474121, 1.3906999826431274, 1.3906999826431274, 1.3906999826431274, 1.3906999826431274, 1.3906999826431274, 1.3906999826431274, 1.3905999660491943, 1.3905999660491943, 1.3905999660491943, 1.3904999494552612, 1.3904999494552612, 1.3904999494552612, 1.3904999494552612, 1.3904999494552612, 1.3904999494552612, 1.3904000520706177, 1.3904000520706177, 1.3904000520706177, 1.3903000354766846, 1.3903000354766846, 1.3903000354766846, 1.3903000354766846, 1.3903000354766846, 1.3903000354766846, 1.3902000188827515, 1.3902000188827515, 1.3902000188827515, 1.3902000188827515, 1.3902000188827515, 1.3901000022888184, 1.434499979019165, 1.434499979019165, 1.434499979019165, 1.434399962425232, 1.434399962425232, 1.434399962425232, 1.4342999458312988, 1.4342999458312988, 1.4342999458312988, 1.4342999458312988, 1.4342000484466553, 1.4342000484466553, 1.4342000484466553, 1.4342000484466553, 1.4341000318527222, 1.4341000318527222, 1.4341000318527222, 1.4341000318527222, 1.4341000318527222, 1.4341000318527222, 1.4341000318527222, 1.4341000318527222, 1.434000015258789, 1.434000015258789, 1.434000015258789, 1.434000015258789, 1.434000015258789, 1.434000015258789, 1.433899998664856, 1.433899998664856, 1.433899998664856, 1.5247999429702759, 1.5247000455856323, 1.5247000455856323, 1.5246000289916992, 1.5246000289916992, 1.5246000289916992, 1.5246000289916992, 1.5245000123977661, 1.5245000123977661, 1.5245000123977661, 1.5245000123977661, 1.5245000123977661, 1.5245000123977661, 1.524399995803833, 1.524399995803833, 1.524399995803833, 1.524399995803833, 1.5242999792099, 1.5242999792099, 1.5242999792099, 1.5242999792099, 1.5242999792099, 1.5242999792099, 1.5242999792099, 1.5241999626159668, 1.5241999626159668, 1.5241999626159668, 1.5241999626159668, 1.5240999460220337, 1.5240999460220337]}, \"token.table\": {\"Topic\": [4, 3, 2, 4, 2, 3, 4, 1, 3, 1, 1, 4, 4, 4, 1, 3, 3, 3, 2, 1, 2, 3, 3, 1, 1, 2, 1, 3, 2, 4, 2, 1, 1, 1, 1, 3, 1, 2, 3, 3, 4, 3, 2, 1, 1, 2, 1, 3, 3, 4, 4, 4, 3, 1, 4, 3, 3, 1, 2, 4, 1, 2, 2, 2, 4, 1, 2, 3, 1, 2, 2, 2, 2, 1, 3, 4, 2, 3, 1, 1, 1, 2, 4, 4, 2, 3, 4, 1, 2, 2, 1, 4, 1, 1, 2, 2, 3, 4, 4, 4, 3, 4, 4, 1, 3, 3, 2, 3, 2, 2, 3, 4, 4, 2, 3, 3, 4, 4, 3, 4, 4], \"Freq\": [0.999917209148407, 0.9998245239257812, 0.9998692870140076, 0.9992983937263489, 0.9998068809509277, 0.9992212653160095, 0.999345064163208, 0.9999539256095886, 0.9997900724411011, 0.9999204277992249, 0.9994174838066101, 0.999347984790802, 0.999523401260376, 0.9997460246086121, 0.9997366666793823, 0.999137282371521, 0.999636709690094, 0.9999064207077026, 0.9995172619819641, 0.9991111159324646, 0.9990813136100769, 0.9998388886451721, 0.9993544220924377, 0.9998112320899963, 0.9993162751197815, 0.99959796667099, 0.9992573261260986, 0.9990409016609192, 0.9993281364440918, 0.9998763203620911, 0.9990435242652893, 0.9998303055763245, 0.9994848966598511, 0.9997826814651489, 0.9996505975723267, 0.9992228746414185, 0.9996468424797058, 0.9995238184928894, 0.9996294975280762, 0.9996408820152283, 0.9991779327392578, 0.9995721578598022, 0.9998531341552734, 0.9990901947021484, 0.9997056126594543, 0.9993882179260254, 0.9990782737731934, 0.9995943903923035, 0.9993956089019775, 0.999579668045044, 0.9989500045776367, 0.999657154083252, 0.9996557831764221, 0.9996846318244934, 0.9996944069862366, 0.9996140003204346, 0.9995004534721375, 0.9995019435882568, 0.999251127243042, 0.9996055960655212, 0.999701201915741, 0.9995632171630859, 0.999714195728302, 0.9995782971382141, 0.9997416138648987, 0.9989284873008728, 0.9993820786476135, 0.9995406866073608, 0.9992165565490723, 0.9998558163642883, 0.9997850060462952, 0.9998350143432617, 0.9998425841331482, 0.9995319843292236, 0.9998389482498169, 0.9996569752693176, 0.9993396401405334, 0.9997619390487671, 0.9998642802238464, 0.9992839694023132, 0.9995753169059753, 0.9997480511665344, 0.9995639324188232, 0.9995397329330444, 0.9991173148155212, 0.9993579983711243, 0.9995942115783691, 0.9993211627006531, 0.9996976852416992, 0.999144434928894, 0.9997807145118713, 0.9995624423027039, 0.9990738034248352, 0.9999637603759766, 0.9995015859603882, 0.9995505809783936, 0.9998564124107361, 0.9992130398750305, 0.9994775056838989, 0.9995786547660828, 0.9992678165435791, 0.9995712041854858, 0.9998504519462585, 0.9996480941772461, 0.9996441602706909, 0.999514102935791, 0.9997684359550476, 0.9995924234390259, 0.9996539354324341, 0.9995430111885071, 0.9992784857749939, 0.9996730089187622, 0.9997509121894836, 0.9992402195930481, 0.9997893571853638, 0.9994218349456787, 0.9998044967651367, 0.9998651742935181, 0.9995128512382507, 0.9995631575584412, 0.9996357560157776], \"Term\": [\"\", \"acabar\", \"agora\", \"algo\", \"alguem\", \"amor\", \"ano\", \"bolsonaro\", \"bom\", \"brasil\", \"brasileiro\", \"cabeca\", \"cabelo\", \"cada\", \"campanha\", \"caralho\", \"carreata\", \"casa\", \"caso\", \"certo\", \"cidade\", \"coisa\", \"comer\", \"contra\", \"crise\", \"cu\", \"datena\", \"deixar\", \"demais\", \"depois\", \"desde\", \"deus\", \"dinheiro\", \"doria\", \"economia\", \"enquanto\", \"falar\", \"familia\", \"favor\", \"fim\", \"final\", \"foto\", \"gente\", \"governador\", \"governo\", \"grande\", \"gripezinha\", \"grupo\", \"ha\", \"hora\", \"igual\", \"ir\", \"isolamento\", \"italia\", \"logo\", \"mae\", \"maior\", \"mal\", \"matar\", \"medo\", \"meio\", \"melhor\", \"menos\", \"merda\", \"mil\", \"milhoes\", \"momento\", \"morrer\", \"morte\", \"muito\", \"mundo\", \"nada\", \"nem\", \"ninguem\", \"novo\", \"nunca\", \"outro\", \"pai\", \"pandemia\", \"parabens\", \"parar\", \"passar\", \"pegar\", \"pessoa\", \"pessoal\", \"poder\", \"pois\", \"populacao\", \"porque\", \"pouco\", \"povo\", \"preciso\", \"prefeito\", \"presidente\", \"primeiro\", \"qual\", \"quando\", \"quanto\", \"quase\", \"realmente\", \"risco\", \"saber\", \"sair\", \"saude\", \"semana\", \"sempre\", \"sim\", \"social\", \"tambem\", \"tanto\", \"tarde\", \"tava\", \"tempo\", \"tomar\", \"trabalhar\", \"trabalho\", \"vez\", \"vida\", \"video\", \"voltar\", \"vontade\"]}, \"R\": 30, \"lambda.step\": 0.01, \"plot.opts\": {\"xlab\": \"PC1\", \"ylab\": \"PC2\"}, \"topic.order\": [3, 1, 4, 2]};\n",
       "\n",
       "function LDAvis_load_lib(url, callback){\n",
       "  var s = document.createElement('script');\n",
       "  s.src = url;\n",
       "  s.async = true;\n",
       "  s.onreadystatechange = s.onload = callback;\n",
       "  s.onerror = function(){console.warn(\"failed to load library \" + url);};\n",
       "  document.getElementsByTagName(\"head\")[0].appendChild(s);\n",
       "}\n",
       "\n",
       "if(typeof(LDAvis) !== \"undefined\"){\n",
       "   // already loaded: just create the visualization\n",
       "   !function(LDAvis){\n",
       "       new LDAvis(\"#\" + \"ldavis_el1726022457438352084586343467\", ldavis_el1726022457438352084586343467_data);\n",
       "   }(LDAvis);\n",
       "}else if(typeof define === \"function\" && define.amd){\n",
       "   // require.js is available: use it to load d3/LDAvis\n",
       "   require.config({paths: {d3: \"https://cdnjs.cloudflare.com/ajax/libs/d3/3.5.5/d3.min\"}});\n",
       "   require([\"d3\"], function(d3){\n",
       "      window.d3 = d3;\n",
       "      LDAvis_load_lib(\"https://cdn.rawgit.com/bmabey/pyLDAvis/files/ldavis.v1.0.0.js\", function(){\n",
       "        new LDAvis(\"#\" + \"ldavis_el1726022457438352084586343467\", ldavis_el1726022457438352084586343467_data);\n",
       "      });\n",
       "    });\n",
       "}else{\n",
       "    // require.js not available: dynamically load d3 & LDAvis\n",
       "    LDAvis_load_lib(\"https://cdnjs.cloudflare.com/ajax/libs/d3/3.5.5/d3.min.js\", function(){\n",
       "         LDAvis_load_lib(\"https://cdn.rawgit.com/bmabey/pyLDAvis/files/ldavis.v1.0.0.js\", function(){\n",
       "                 new LDAvis(\"#\" + \"ldavis_el1726022457438352084586343467\", ldavis_el1726022457438352084586343467_data);\n",
       "            })\n",
       "         });\n",
       "}\n",
       "</script>"
      ],
      "text/plain": [
       "PreparedData(topic_coordinates=              x         y  topics  cluster       Freq\n",
       "topic                                                \n",
       "2      0.329562  0.034225       1        1  29.527504\n",
       "0     -0.303156  0.245946       2        1  24.886482\n",
       "3     -0.131725 -0.391439       3        1  23.820560\n",
       "1      0.105319  0.111268       4        1  21.765455, topic_info=           Term          Freq         Total Category  logprob  loglift\n",
       "16    bolsonaro  28303.000000  28303.000000  Default  30.0000  30.0000\n",
       "5    presidente  20763.000000  20763.000000  Default  29.0000  29.0000\n",
       "21               16514.000000  16514.000000  Default  28.0000  28.0000\n",
       "132        casa  12313.000000  12313.000000  Default  27.0000  27.0000\n",
       "142    pandemia  10964.000000  10964.000000  Default  26.0000  26.0000\n",
       "..          ...           ...           ...      ...      ...      ...\n",
       "376      quanto   1472.198730   1473.159302   Topic4  -4.9397   1.5242\n",
       "364      cabeca   1417.978394   1418.925171   Topic4  -4.9772   1.5242\n",
       "56         algo   1410.016113   1410.989990   Topic4  -4.9828   1.5242\n",
       "525   realmente   1304.586426   1305.550049   Topic4  -5.0606   1.5241\n",
       "130       igual   1256.382324   1257.320190   Topic4  -5.0982   1.5241\n",
       "\n",
       "[151 rows x 6 columns], token_table=      Topic      Freq     Term\n",
       "term                          \n",
       "21        4  0.999917         \n",
       "70        3  0.999825   acabar\n",
       "96        2  0.999869    agora\n",
       "56        4  0.999298     algo\n",
       "154       2  0.999807   alguem\n",
       "...     ...       ...      ...\n",
       "150       4  0.999804      vez\n",
       "163       4  0.999865     vida\n",
       "322       3  0.999513    video\n",
       "124       4  0.999563   voltar\n",
       "361       4  0.999636  vontade\n",
       "\n",
       "[121 rows x 3 columns], R=30, lambda_step=0.01, plot_opts={'xlab': 'PC1', 'ylab': 'PC2'}, topic_order=[3, 1, 4, 2])"
      ]
     },
     "execution_count": 15,
     "metadata": {},
     "output_type": "execute_result"
    }
   ],
   "source": [
    "# Visualização dos tópicos em clusters\n",
    "\n",
    "pyLDAvis.enable_notebook()\n",
    "vis = pyLDAvis.gensim.prepare(lda_model, corpus, id2word)\n",
    "vis"
   ]
  },
  {
   "cell_type": "code",
   "execution_count": 16,
   "metadata": {},
   "outputs": [],
   "source": [
    "# Função para determinar a melhor quantidade de tópicos para a modelagem\n",
    "\n",
    "def compute_coherence_values(dictionary, corpus, texts, limit, start=2, step=5):\n",
    "    coherence_values = []\n",
    "    model_list = []\n",
    "    for num_topics in tqdm(range(start, limit, step)):\n",
    "        model = LdaMulticore(corpus, id2word=id2word, num_topics=4)\n",
    "        model_list.append(model)\n",
    "        coherencemodel = CoherenceModel(model=model, texts=texts, dictionary=dictionary, coherence='c_v')\n",
    "        coherence_values.append(coherencemodel.get_coherence())\n",
    "\n",
    "    return model_list, coherence_values"
   ]
  },
  {
   "cell_type": "code",
   "execution_count": 17,
   "metadata": {},
   "outputs": [
    {
     "name": "stderr",
     "output_type": "stream",
     "text": [
      "100%|████████████████████████████████████████████████████████████████████████████████████| 1/1 [01:02<00:00, 62.12s/it]\n"
     ]
    }
   ],
   "source": [
    "# Colocando parametros na função\n",
    "\n",
    "model_list, coherence_values = compute_coherence_values(dictionary=id2word, corpus=corpus, texts=texto, start=2, limit=4, step=2)"
   ]
  },
  {
   "cell_type": "code",
   "execution_count": 18,
   "metadata": {},
   "outputs": [
    {
     "data": {
      "text/plain": [
       "[(0,\n",
       "  '0.089*\"bolsonaro\" + 0.069*\"presidente\" + 0.014*\"brasil\" + 0.013*\"contra\" + 0.012*\"deus\" + 0.011*\"governo\" + 0.010*\"doria\" + 0.010*\"povo\" + 0.009*\"pandemia\" + 0.008*\"agora\" + 0.007*\"mundo\" + 0.007*\"isolamento\" + 0.007*\"trabalhar\" + 0.007*\"gente\" + 0.006*\"muito\" + 0.006*\"datena\" + 0.005*\"merda\" + 0.005*\"nada\" + 0.005*\"porque\" + 0.005*\"crise\"'),\n",
       " (1,\n",
       "  '0.088*\"\" + 0.037*\"nem\" + 0.024*\"casa\" + 0.017*\"sair\" + 0.015*\"pandemia\" + 0.013*\"ir\" + 0.012*\"pegar\" + 0.011*\"coisa\" + 0.010*\"tanto\" + 0.010*\"mae\" + 0.010*\"tomar\" + 0.009*\"gente\" + 0.009*\"pai\" + 0.007*\"vez\" + 0.007*\"agora\" + 0.007*\"foto\" + 0.007*\"depois\" + 0.006*\"falar\" + 0.006*\"mundo\" + 0.006*\"melhor\"'),\n",
       " (2,\n",
       "  '0.035*\"quando\" + 0.034*\"acabar\" + 0.024*\"depois\" + 0.020*\"gente\" + 0.020*\"casa\" + 0.015*\"agora\" + 0.014*\"passar\" + 0.012*\"nunca\" + 0.012*\"logo\" + 0.011*\"nada\" + 0.010*\"muito\" + 0.009*\"tempo\" + 0.008*\"sair\" + 0.008*\"cabelo\" + 0.008*\"sim\" + 0.007*\"voltar\" + 0.007*\"vida\" + 0.007*\"pessoa\" + 0.006*\"coisa\" + 0.006*\"momento\"'),\n",
       " (3,\n",
       "  '0.022*\"pandemia\" + 0.020*\"brasil\" + 0.013*\"saude\" + 0.011*\"fim\" + 0.011*\"bolsonaro\" + 0.011*\"italia\" + 0.011*\"alguem\" + 0.010*\"casa\" + 0.009*\"mundo\" + 0.009*\"novo\" + 0.008*\"mil\" + 0.008*\"primeiro\" + 0.008*\"caso\" + 0.007*\"presidente\" + 0.006*\"cidade\" + 0.006*\"povo\" + 0.006*\"muito\" + 0.006*\"gripezinha\" + 0.005*\"tambem\" + 0.005*\"menos\"')]"
      ]
     },
     "execution_count": 18,
     "metadata": {},
     "output_type": "execute_result"
    }
   ],
   "source": [
    "# Escolhe o modelo\n",
    "\n",
    "optimal_model = model_list[0]\n",
    "optimal_model.print_topics(num_topics = 4, num_words = 20)"
   ]
  },
  {
   "cell_type": "code",
   "execution_count": 19,
   "metadata": {},
   "outputs": [],
   "source": [
    "# Encontrar qual o principal tópico em cada tweet\n",
    "\n",
    "def format_topics_sentences(ldamodel=lda_model, corpus=corpus, texts=texto):\n",
    "    # Output\n",
    "    sent_topics_df = pd.DataFrame()\n",
    "\n",
    "    # Seleciona o principal tópico de cada tweet\n",
    "    for i, row in enumerate(ldamodel[corpus]):\n",
    "        row = sorted(row, key=lambda x: (x[1]), reverse=True)\n",
    "        # Calcula o principal tópico, o percentual de contribuição e as palavras chaves de cada tweet\n",
    "        for j, (topic_num, prop_topic) in enumerate(row):\n",
    "            if j == 0:  # => mostra o principal tópico\n",
    "                wp = ldamodel.show_topic(topic_num)\n",
    "                topic_keywords = \", \".join([word for word, prop in wp])\n",
    "                sent_topics_df = sent_topics_df.append(pd.Series([int(topic_num), round(prop_topic,4), topic_keywords]), ignore_index=True)\n",
    "            else:\n",
    "                break\n",
    "    sent_topics_df.columns = ['Principal_Topico', 'Perc_Contributicao', 'Palavras_Chave']\n",
    "\n",
    "    # Inclui o texto original no final do DataFrame\n",
    "    contents = pd.Series(texts)\n",
    "    sent_topics_df = pd.concat([sent_topics_df, contents], axis=1)\n",
    "    return(sent_topics_df)"
   ]
  },
  {
   "cell_type": "code",
   "execution_count": 20,
   "metadata": {},
   "outputs": [],
   "source": [
    "# roda a função de calcular os principais tópicos de cada tweet\n",
    "\n",
    "df_topic_sents_keywords = format_topics_sentences(ldamodel=optimal_model, corpus=corpus, texts=texto)"
   ]
  },
  {
   "cell_type": "code",
   "execution_count": 21,
   "metadata": {},
   "outputs": [],
   "source": [
    "# Formata o DataFrame\n",
    "\n",
    "df_dominant_topic = df_topic_sents_keywords.reset_index()\n",
    "df_dominant_topic.columns = ['Index_DF_Original', 'Principal_Topico', 'Perc_Contrib_Topico', 'Palavras_Chave', 'Tweets']"
   ]
  },
  {
   "cell_type": "code",
   "execution_count": 22,
   "metadata": {
    "scrolled": true
   },
   "outputs": [
    {
     "data": {
      "text/html": [
       "<div>\n",
       "<style scoped>\n",
       "    .dataframe tbody tr th:only-of-type {\n",
       "        vertical-align: middle;\n",
       "    }\n",
       "\n",
       "    .dataframe tbody tr th {\n",
       "        vertical-align: top;\n",
       "    }\n",
       "\n",
       "    .dataframe thead th {\n",
       "        text-align: right;\n",
       "    }\n",
       "</style>\n",
       "<table border=\"1\" class=\"dataframe\">\n",
       "  <thead>\n",
       "    <tr style=\"text-align: right;\">\n",
       "      <th></th>\n",
       "      <th>Topico</th>\n",
       "      <th>Topico_Perc_Contrib</th>\n",
       "      <th>Palavras_Chave</th>\n",
       "      <th>Tweet</th>\n",
       "    </tr>\n",
       "  </thead>\n",
       "  <tbody>\n",
       "    <tr>\n",
       "      <th>0</th>\n",
       "      <td>0.0</td>\n",
       "      <td>0.9591</td>\n",
       "      <td>bolsonaro, presidente, brasil, contra, deus, g...</td>\n",
       "      <td>[sr, certeza, vencer, jair, tarde, deus, brasi...</td>\n",
       "    </tr>\n",
       "    <tr>\n",
       "      <th>1</th>\n",
       "      <td>1.0</td>\n",
       "      <td>0.9499</td>\n",
       "      <td>, nem, casa, sair, pandemia, ir, pegar, coisa,...</td>\n",
       "      <td>[caralho, melhor, ponto, bater, tomar, reclama...</td>\n",
       "    </tr>\n",
       "    <tr>\n",
       "      <th>2</th>\n",
       "      <td>2.0</td>\n",
       "      <td>0.9535</td>\n",
       "      <td>quando, acabar, depois, gente, casa, agora, pa...</td>\n",
       "      <td>[volta, amo, comigo, muito, piercing, depois, ...</td>\n",
       "    </tr>\n",
       "    <tr>\n",
       "      <th>3</th>\n",
       "      <td>3.0</td>\n",
       "      <td>0.9537</td>\n",
       "      <td>pandemia, brasil, saude, fim, bolsonaro, itali...</td>\n",
       "      <td>[abril, saude, colapso, problema, feito, perig...</td>\n",
       "    </tr>\n",
       "  </tbody>\n",
       "</table>\n",
       "</div>"
      ],
      "text/plain": [
       "   Topico  Topico_Perc_Contrib  \\\n",
       "0     0.0               0.9591   \n",
       "1     1.0               0.9499   \n",
       "2     2.0               0.9535   \n",
       "3     3.0               0.9537   \n",
       "\n",
       "                                      Palavras_Chave  \\\n",
       "0  bolsonaro, presidente, brasil, contra, deus, g...   \n",
       "1  , nem, casa, sair, pandemia, ir, pegar, coisa,...   \n",
       "2  quando, acabar, depois, gente, casa, agora, pa...   \n",
       "3  pandemia, brasil, saude, fim, bolsonaro, itali...   \n",
       "\n",
       "                                               Tweet  \n",
       "0  [sr, certeza, vencer, jair, tarde, deus, brasi...  \n",
       "1  [caralho, melhor, ponto, bater, tomar, reclama...  \n",
       "2  [volta, amo, comigo, muito, piercing, depois, ...  \n",
       "3  [abril, saude, colapso, problema, feito, perig...  "
      ]
     },
     "execution_count": 22,
     "metadata": {},
     "output_type": "execute_result"
    }
   ],
   "source": [
    "# Group top 5 sentences under each topic\n",
    "sent_topics_sorteddf_mallet = pd.DataFrame()\n",
    "\n",
    "sent_topics_outdf_grpd = df_topic_sents_keywords.groupby('Principal_Topico')\n",
    "\n",
    "for i, grp in sent_topics_outdf_grpd:\n",
    "    sent_topics_sorteddf_mallet = pd.concat([sent_topics_sorteddf_mallet, \n",
    "                                             grp.sort_values(['Perc_Contributicao'], ascending=[0]).head(1)], \n",
    "                                            axis=0)\n",
    "\n",
    "# Reset Index    \n",
    "sent_topics_sorteddf_mallet.reset_index(drop=True, inplace=True)\n",
    "\n",
    "# Format\n",
    "sent_topics_sorteddf_mallet.columns = ['Topico', \"Topico_Perc_Contrib\", \"Palavras_Chave\", \"Tweet\"]\n",
    "\n",
    "# Show\n",
    "sent_topics_sorteddf_mallet"
   ]
  },
  {
   "cell_type": "code",
   "execution_count": 23,
   "metadata": {},
   "outputs": [
    {
     "data": {
      "text/html": [
       "<div>\n",
       "<style scoped>\n",
       "    .dataframe tbody tr th:only-of-type {\n",
       "        vertical-align: middle;\n",
       "    }\n",
       "\n",
       "    .dataframe tbody tr th {\n",
       "        vertical-align: top;\n",
       "    }\n",
       "\n",
       "    .dataframe thead th {\n",
       "        text-align: right;\n",
       "    }\n",
       "</style>\n",
       "<table border=\"1\" class=\"dataframe\">\n",
       "  <thead>\n",
       "    <tr style=\"text-align: right;\">\n",
       "      <th></th>\n",
       "      <th>Principal_Topico</th>\n",
       "      <th>Palavras_Chave</th>\n",
       "      <th>Qtd_Tweets</th>\n",
       "      <th>Perc_Tweets</th>\n",
       "    </tr>\n",
       "  </thead>\n",
       "  <tbody>\n",
       "    <tr>\n",
       "      <th>0.0</th>\n",
       "      <td>3.0</td>\n",
       "      <td>pandemia, brasil, saude, fim, bolsonaro, itali...</td>\n",
       "      <td>65808.0</td>\n",
       "      <td>0.2923</td>\n",
       "    </tr>\n",
       "    <tr>\n",
       "      <th>1.0</th>\n",
       "      <td>2.0</td>\n",
       "      <td>quando, acabar, depois, gente, casa, agora, pa...</td>\n",
       "      <td>55014.0</td>\n",
       "      <td>0.2444</td>\n",
       "    </tr>\n",
       "    <tr>\n",
       "      <th>2.0</th>\n",
       "      <td>2.0</td>\n",
       "      <td>quando, acabar, depois, gente, casa, agora, pa...</td>\n",
       "      <td>58035.0</td>\n",
       "      <td>0.2578</td>\n",
       "    </tr>\n",
       "    <tr>\n",
       "      <th>3.0</th>\n",
       "      <td>3.0</td>\n",
       "      <td>pandemia, brasil, saude, fim, bolsonaro, itali...</td>\n",
       "      <td>46265.0</td>\n",
       "      <td>0.2055</td>\n",
       "    </tr>\n",
       "    <tr>\n",
       "      <th>4.0</th>\n",
       "      <td>1.0</td>\n",
       "      <td>, nem, casa, sair, pandemia, ir, pegar, coisa,...</td>\n",
       "      <td>NaN</td>\n",
       "      <td>NaN</td>\n",
       "    </tr>\n",
       "    <tr>\n",
       "      <th>...</th>\n",
       "      <td>...</td>\n",
       "      <td>...</td>\n",
       "      <td>...</td>\n",
       "      <td>...</td>\n",
       "    </tr>\n",
       "    <tr>\n",
       "      <th>225117.0</th>\n",
       "      <td>0.0</td>\n",
       "      <td>bolsonaro, presidente, brasil, contra, deus, g...</td>\n",
       "      <td>NaN</td>\n",
       "      <td>NaN</td>\n",
       "    </tr>\n",
       "    <tr>\n",
       "      <th>225118.0</th>\n",
       "      <td>0.0</td>\n",
       "      <td>bolsonaro, presidente, brasil, contra, deus, g...</td>\n",
       "      <td>NaN</td>\n",
       "      <td>NaN</td>\n",
       "    </tr>\n",
       "    <tr>\n",
       "      <th>225119.0</th>\n",
       "      <td>3.0</td>\n",
       "      <td>pandemia, brasil, saude, fim, bolsonaro, itali...</td>\n",
       "      <td>NaN</td>\n",
       "      <td>NaN</td>\n",
       "    </tr>\n",
       "    <tr>\n",
       "      <th>225120.0</th>\n",
       "      <td>2.0</td>\n",
       "      <td>quando, acabar, depois, gente, casa, agora, pa...</td>\n",
       "      <td>NaN</td>\n",
       "      <td>NaN</td>\n",
       "    </tr>\n",
       "    <tr>\n",
       "      <th>225121.0</th>\n",
       "      <td>3.0</td>\n",
       "      <td>pandemia, brasil, saude, fim, bolsonaro, itali...</td>\n",
       "      <td>NaN</td>\n",
       "      <td>NaN</td>\n",
       "    </tr>\n",
       "  </tbody>\n",
       "</table>\n",
       "<p>225122 rows × 4 columns</p>\n",
       "</div>"
      ],
      "text/plain": [
       "          Principal_Topico                                     Palavras_Chave  \\\n",
       "0.0                    3.0  pandemia, brasil, saude, fim, bolsonaro, itali...   \n",
       "1.0                    2.0  quando, acabar, depois, gente, casa, agora, pa...   \n",
       "2.0                    2.0  quando, acabar, depois, gente, casa, agora, pa...   \n",
       "3.0                    3.0  pandemia, brasil, saude, fim, bolsonaro, itali...   \n",
       "4.0                    1.0  , nem, casa, sair, pandemia, ir, pegar, coisa,...   \n",
       "...                    ...                                                ...   \n",
       "225117.0               0.0  bolsonaro, presidente, brasil, contra, deus, g...   \n",
       "225118.0               0.0  bolsonaro, presidente, brasil, contra, deus, g...   \n",
       "225119.0               3.0  pandemia, brasil, saude, fim, bolsonaro, itali...   \n",
       "225120.0               2.0  quando, acabar, depois, gente, casa, agora, pa...   \n",
       "225121.0               3.0  pandemia, brasil, saude, fim, bolsonaro, itali...   \n",
       "\n",
       "          Qtd_Tweets  Perc_Tweets  \n",
       "0.0          65808.0       0.2923  \n",
       "1.0          55014.0       0.2444  \n",
       "2.0          58035.0       0.2578  \n",
       "3.0          46265.0       0.2055  \n",
       "4.0              NaN          NaN  \n",
       "...              ...          ...  \n",
       "225117.0         NaN          NaN  \n",
       "225118.0         NaN          NaN  \n",
       "225119.0         NaN          NaN  \n",
       "225120.0         NaN          NaN  \n",
       "225121.0         NaN          NaN  \n",
       "\n",
       "[225122 rows x 4 columns]"
      ]
     },
     "execution_count": 23,
     "metadata": {},
     "output_type": "execute_result"
    }
   ],
   "source": [
    "# Numero de tweets por topico\n",
    "\n",
    "topic_counts = df_topic_sents_keywords['Principal_Topico'].value_counts()\n",
    "\n",
    "# Porcentagem de tweets por tópico\n",
    "topic_contribution = round(topic_counts/topic_counts.sum(), 4)\n",
    "\n",
    "# Número do tópico e suas palavras chave\n",
    "topic_num_keywords = df_topic_sents_keywords[['Principal_Topico', 'Palavras_Chave']]\n",
    "\n",
    "# Concatena as colunas\n",
    "df_dominant_topics = pd.concat([topic_num_keywords, topic_counts, topic_contribution], axis=1)\n",
    "\n",
    "# Renomeia as colunas\n",
    "df_dominant_topics.columns = ['Principal_Topico', 'Palavras_Chave', 'Qtd_Tweets', 'Perc_Tweets']\n",
    "\n",
    "# Mostra o DataFrame\n",
    "df_dominant_topics"
   ]
  },
  {
   "cell_type": "code",
   "execution_count": 24,
   "metadata": {},
   "outputs": [],
   "source": [
    "# Criando stopwords em português utilizando a biblioteca nltk\n",
    "import pt_core_news_sm\n",
    "nlp = pt_core_news_sm.load()\n",
    "pt_stopwords = sorted([token.text for token in nlp.vocab if token.is_stop])\n",
    "list_exclude = ['obrigado', 'bom', 'mal', 'nenhuma', 'maior',\n",
    "             'bem', 'não', 'máximo', 'boa', 'mais',\n",
    "               'bastante', 'certamente', 'certeza', 'contra',\n",
    "                'quarentena', 'coronavírus', 'presidente', 'impeachment', 'demitido', 'demitida']\n",
    "for word in list_exclude:\n",
    "    nlp.vocab[word].is_stop = False\n",
    "list_include = set(['o', 'a', 'tá', 'ta', 'ser', 'pro', 'to', 'tô', 'vc', 'você', 'voce', 'pra',\n",
    "                    'pq', 'é', 'vou', 'que','tão', 'gt', 'de', 'da', 'do', 'em', 'uma', 'lá',\n",
    "                    'já', 'no', 'para', 'na', 'com', 'um', 'minha', 'se', 'isso', 'por', 'vou',\n",
    "                    'os', 'isso', 'como', 'mesmo', 'tenho', 'aqui', 'ele', 'ela', 'quem', 'fazer',\n",
    "                    'eu', 'só', 'ai', 'mais', 'só', 'querer', 'https', 'ter', 'estar', 'ficar',\n",
    "                    'dos', 'das', 'vcs', 'tem', 'as', 'mas','ao'\n",
    "                    'tava', 'nao', 'sao', 'ja', 'so', 'nossa',\n",
    "                    'nosso', 'estao', 'tco', 'me', 'dia', 'te', 'ver', 'sera', 'porra', 'fez', 'ne',\n",
    "                    'kkk','kkkkkk', 'puta', 'kkkkkkkk', 'hj', 'afff', 'gbr', 'meu', 'cara', 'guri', 'cmg',\n",
    "                    'ctg', 'agr', 'pqp', 'vdd', 'eh', 'va', 'obg',\n",
    "                    'corona','virus','coronavirus','covid','covid19','19'\n",
    "                   'nem', 'numa', 'num', 'nuns', 'ces', 'voces', 'oce', 'oces', 'kkkk', 'vao', 'via',\n",
    "                    'hj', 'hoje', 'tudo', 'todo', 'toda',\n",
    "                    'vir', 'bem','ao','sem','ou','vai', 'dizer', 'entao', 'dizer', 'entao',\n",
    "                    'tao', 'tu', 'mim', 'mano', 'oq', 'pos', 'dm', 'dps',\n",
    "                    'coronavirusoutbreak', 'coronavirusPandemic', 'dar', 'vairus',\n",
    "                    'ainda', 'assim']\n",
    "                  )\n",
    "for w in list_include:\n",
    "    nlp.vocab[w].is_stop = True\n",
    "stop_words = sorted([token.text for token in nlp.vocab if token.is_stop])"
   ]
  },
  {
   "cell_type": "code",
   "execution_count": 26,
   "metadata": {},
   "outputs": [
    {
     "data": {
      "image/png": "[encoded data removed]",
      "text/plain": [
       "<Figure size 720x720 with 4 Axes>"
      ]
     },
     "metadata": {
      "needs_background": "light"
     },
     "output_type": "display_data"
    }
   ],
   "source": [
    "# Cria wordclouds\n",
    "\n",
    "cols = [color for name, color in mcolors.XKCD_COLORS.items()]\n",
    "\n",
    "cloud = WordCloud(stopwords=stop_words,\n",
    "                  background_color='white',\n",
    "                  width=2500,\n",
    "                  height=1800,\n",
    "                  max_words=20,\n",
    "                  colormap='tab10',\n",
    "                  color_func=lambda *args, **kwargs: cols[i],\n",
    "                  prefer_horizontal=1.0)\n",
    "\n",
    "topics = lda_model.show_topics(formatted=False)\n",
    "\n",
    "fig, axes = plt.subplots(2, 2, figsize=(10,10), sharex=True, sharey=True)\n",
    "\n",
    "for i, ax in enumerate(axes.flatten()):\n",
    "    fig.add_subplot(ax)\n",
    "    topic_words = dict(topics[i][1])\n",
    "    cloud.generate_from_frequencies(topic_words, max_font_size=600)\n",
    "    plt.gca().imshow(cloud)\n",
    "    plt.gca().set_title('Topic ' + str(i), fontdict=dict(size=16))\n",
    "    plt.gca().axis('off')\n",
    "\n",
    "\n",
    "plt.subplots_adjust(wspace=0, hspace=0)\n",
    "plt.axis('off')\n",
    "plt.margins(x=0, y=0)\n",
    "plt.tight_layout()\n",
    "plt.show()"
   ]
  },
  {
   "cell_type": "code",
   "execution_count": 27,
   "metadata": {},
   "outputs": [],
   "source": [
    "sent_topics_sorteddf_mallet.to_excel('keywords_0327.xlsx')"
   ]
  },
  {
   "cell_type": "code",
   "execution_count": null,
   "metadata": {},
   "outputs": [],
   "source": []
  }
 ],
 "metadata": {
  "kernelspec": {
   "display_name": "Python 3",
   "language": "python",
   "name": "python3"
  },
  "language_info": {
   "codemirror_mode": {
    "name": "ipython",
    "version": 3
   },
   "file_extension": ".py",
   "mimetype": "text/x-python",
   "name": "python",
   "nbconvert_exporter": "python",
   "pygments_lexer": "ipython3",
   "version": "3.7.6"
  }
 },
 "nbformat": 4,
 "nbformat_minor": 1
}
