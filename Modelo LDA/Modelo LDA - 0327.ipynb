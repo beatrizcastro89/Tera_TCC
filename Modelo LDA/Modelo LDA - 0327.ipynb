{
 "cells": [
  {
   "cell_type": "markdown",
   "metadata": {
    "collapsed": true
   },
   "source": [
    "Análise do dia 27/03 através do modelo LDA."
   ]
  },
  {
   "cell_type": "code",
   "execution_count": 1,
   "metadata": {},
   "outputs": [],
   "source": [
    "# Importar bibliotecas\n",
    "\n",
    "# gerais\n",
    "import sys\n",
    "import os\n",
    "from pathlib import Path\n",
    "import re\n",
    "import numpy as np\n",
    "import pandas as pd\n",
    "from pprint import pprint\n",
    "from tqdm import tqdm\n",
    "from ast import literal_eval\n",
    "\n",
    "# Gensim\n",
    "import gensim, spacy, logging, warnings\n",
    "import gensim.corpora as corpora\n",
    "from gensim.utils import lemmatize, simple_preprocess\n",
    "from gensim.models import CoherenceModel\n",
    "from gensim.models.ldamulticore import LdaMulticore\n",
    "\n",
    "# NLTK Stop words\n",
    "import nltk\n",
    "from nltk.corpus import stopwords\n",
    "\n",
    "#plot\n",
    "import pyLDAvis\n",
    "import pyLDAvis.gensim\n",
    "import matplotlib.pyplot as plt\n",
    "import matplotlib.colors as mcolors\n",
    "%matplotlib inline\n",
    "from wordcloud import WordCloud, STOPWORDS"
   ]
  },
  {
   "cell_type": "code",
   "execution_count": 2,
   "metadata": {},
   "outputs": [],
   "source": [
    "# Criando stopwords em português utilizando a biblioteca nltk\n",
    "\n",
    "nlp = spacy.load(\"pt_core_news_sm\")\n",
    "pt_stopwords = sorted([token.text for token in nlp.vocab if token.is_stop])\n",
    "list_exclude = ['obrigado', 'bom', 'mal', 'nenhuma', 'maior', \n",
    "             'bem', 'não', 'máximo', 'boa', 'mais',\n",
    "               'bastante', 'certamente', 'certeza', 'contra',\n",
    "                'quarentena', 'coronavírus', 'presidente', 'impeachment', 'demitido', 'demitida']\n",
    "for word in list_exclude:\n",
    "    nlp.vocab[word].is_stop = False\n",
    "list_include = set(['o', 'a', 'tá', 'ta', 'ser', 'pro', 'to', 'tô', 'vc', 'você', 'voce', 'pra',\n",
    "                    'pq', 'é', 'vou', 'que','tão', 'gt', 'de', 'da', 'do', 'em', 'uma', 'lá',\n",
    "                    'já', 'no', 'para', 'na', 'com', 'um', 'minha', 'se', 'isso', 'por', 'vou',\n",
    "                    'os', 'isso', 'como', 'mesmo', 'tenho', 'aqui', 'ele', 'ela', 'quem', 'fazer',\n",
    "                    'eu', 'só', 'ai', 'mais', 'só', 'querer', 'https', 'ter', 'estar', 'ficar',\n",
    "                    'dos', 'das', 'vcs', 'jairbolsonaro', 'tava', 'nao', 'sao', 'ja', 'so', 'nossa',\n",
    "                    'nosso', 'estao', 'tco', 'me', 'dia', 'te', 'ver', 'sera', 'porra', 'fez', 'ne',\n",
    "                    'kkkkkk', 'puta', 'kkkkkkkk', 'hj', 'afff', 'gbr', 'meu', 'cara', 'guri', 'cmg',\n",
    "                    'ctg', 'agr', 'pqp', 'vdd', 'eh', 'va', 'fudeu', 'fuder', 'fodeu', 'foda', 'obg',\n",
    "                   'nem', 'numa', 'num', 'nuns', 'ces', 'voces', 'oce', 'oces', 'kkkk', 'vao', 'via',\n",
    "                    'hj', 'hoje', 'tudo', 'todo', 'toda', 'ir', 'vir', 'bem', 'sair', 'tao']\n",
    "                  )\n",
    "for w in list_include:\n",
    "    nlp.vocab[w].is_stop = True\n",
    "stop_words = sorted([token.text for token in nlp.vocab if token.is_stop])"
   ]
  },
  {
   "cell_type": "markdown",
   "metadata": {},
   "source": [
    "# Preparação dos dados"
   ]
  },
  {
   "cell_type": "code",
   "execution_count": 3,
   "metadata": {},
   "outputs": [
    {
     "name": "stderr",
     "output_type": "stream",
     "text": [
      "C:\\ProgramData\\Anaconda3\\lib\\site-packages\\IPython\\core\\interactiveshell.py:3063: DtypeWarning: Columns (1) have mixed types.Specify dtype option on import or set low_memory=False.\n",
      "  interactivity=interactivity, compiler=compiler, result=result)\n"
     ]
    }
   ],
   "source": [
    "# import dos dados\n",
    "\n",
    "df = pd.read_csv('0327_preprocessado.csv')"
   ]
  },
  {
   "cell_type": "code",
   "execution_count": 4,
   "metadata": {},
   "outputs": [],
   "source": [
    "# import dos tokens\n",
    "\n",
    "df_tokens = pd.read_csv('tokens_unicos_10k.csv')"
   ]
  },
  {
   "cell_type": "code",
   "execution_count": 5,
   "metadata": {},
   "outputs": [],
   "source": [
    "# criação de lista de tokens\n",
    "\n",
    "lista_token = []\n",
    "\n",
    "for row in range(0, len(df_tokens)):\n",
    "    lista_token.append(df_tokens.iloc[row,1])\n",
    "    \n",
    "lista_token = set(lista_token)"
   ]
  },
  {
   "cell_type": "code",
   "execution_count": 6,
   "metadata": {},
   "outputs": [],
   "source": [
    "# filtranso os tokens para aparecer apenas os 10 mil mais frequentes\n",
    "\n",
    "df['token2'] = df.token.apply(lambda x: str(list(set(literal_eval(x)).intersection(lista_token))))"
   ]
  },
  {
   "cell_type": "code",
   "execution_count": 7,
   "metadata": {},
   "outputs": [],
   "source": [
    "# função para reverter os tokens processados em lista de tuples\n",
    "\n",
    "def strip_characters(text):\n",
    "    t = re.sub(r'\\(|\\)|:|,|;|\\.|’|”|“|\\?|%|>|<|\\[|\\]', '', text)\n",
    "    t = re.sub(r'/', ' ', t)\n",
    "    t = t.replace(\"'\",'')\n",
    "    return t"
   ]
  },
  {
   "cell_type": "code",
   "execution_count": 8,
   "metadata": {},
   "outputs": [],
   "source": [
    "# aplica função em todos os tokens\n",
    "\n",
    "df['token2'] = df['token2'].apply(lambda x: strip_characters(x))\n",
    "df['token2'] = df['token2'].apply(lambda x: str(x).split(' '))"
   ]
  },
  {
   "cell_type": "code",
   "execution_count": 9,
   "metadata": {},
   "outputs": [],
   "source": [
    "# transforma os tokens em lista\n",
    "\n",
    "lista = list(df['token2'])"
   ]
  },
  {
   "cell_type": "code",
   "execution_count": 10,
   "metadata": {},
   "outputs": [],
   "source": [
    "# Build the bigram and trigram models\n",
    "\n",
    "bigram = gensim.models.Phrases(lista, min_count=5, threshold=100)\n",
    "bigram_mod = gensim.models.phrases.Phraser(bigram)\n",
    "\n",
    "trigram = gensim.models.Phrases(bigram[lista], threshold=100)\n",
    "trigram_mod = gensim.models.phrases.Phraser(trigram)"
   ]
  },
  {
   "cell_type": "code",
   "execution_count": 11,
   "metadata": {},
   "outputs": [],
   "source": [
    "# função para preprocessar palavras\n",
    "\n",
    "def process_words(texts, stop_words=stop_words, allowed_postags=['NOUN', 'ADJ', 'VERB', 'ADV']):\n",
    "    texts1 = [[word for word in simple_preprocess(str(doc)) if word not in stop_words] for doc in texts]\n",
    "    texts2 = [bigram_mod[doc] for doc in texts1]\n",
    "    texts3 = [trigram_mod[bigram_mod[doc]] for doc in texts2]\n",
    "    texts4 = [[word for word in simple_preprocess(str(doc)) if word not in stop_words] for doc in texts3]    \n",
    "    return texts4"
   ]
  },
  {
   "cell_type": "code",
   "execution_count": 12,
   "metadata": {},
   "outputs": [],
   "source": [
    "# Processing the abstract\n",
    "\n",
    "texto = process_words(lista)"
   ]
  },
  {
   "cell_type": "markdown",
   "metadata": {},
   "source": [
    "# Modelagem"
   ]
  },
  {
   "cell_type": "code",
   "execution_count": 13,
   "metadata": {},
   "outputs": [],
   "source": [
    "# Criar dicionário\n",
    "\n",
    "id2word = corpora.Dictionary(texto)"
   ]
  },
  {
   "cell_type": "code",
   "execution_count": 14,
   "metadata": {},
   "outputs": [],
   "source": [
    "# Criar o Corpus: A Frequência das palavras nos documentos\n",
    "\n",
    "corpus = [id2word.doc2bow(text) for text in texto]"
   ]
  },
  {
   "cell_type": "code",
   "execution_count": 15,
   "metadata": {},
   "outputs": [],
   "source": [
    "# Função para determinar a melhor quantidade de tópicos para a modelagem\n",
    "\n",
    "def compute_coherence_values(dictionary, corpus, texts, limit, start=2, step=5):\n",
    "    coherence_values = []\n",
    "    model_list = []\n",
    "    for num_topics in tqdm(range(start, limit, step)):\n",
    "        model = LdaMulticore(corpus, id2word=id2word, num_topics=10)\n",
    "        model_list.append(model)\n",
    "        coherencemodel = CoherenceModel(model=model, texts=texts, dictionary=dictionary, coherence='c_v')\n",
    "        coherence_values.append(coherencemodel.get_coherence())\n",
    "\n",
    "    return model_list, coherence_values"
   ]
  },
  {
   "cell_type": "code",
   "execution_count": 16,
   "metadata": {},
   "outputs": [
    {
     "name": "stderr",
     "output_type": "stream",
     "text": [
      "100%|██████████████████████████████████████████████████████████████████████████████████| 14/14 [10:19<00:00, 44.24s/it]\n"
     ]
    }
   ],
   "source": [
    "# Colocando parametros na função\n",
    "\n",
    "model_list, coherence_values = compute_coherence_values(dictionary=id2word, corpus=corpus, texts=texto, start=2, limit=30, step=2)"
   ]
  },
  {
   "cell_type": "code",
   "execution_count": 17,
   "metadata": {},
   "outputs": [
    {
     "data": {
      "image/png": "[encoded data removed]",
      "text/plain": [
       "<Figure size 432x288 with 1 Axes>"
      ]
     },
     "metadata": {
      "needs_background": "light"
     },
     "output_type": "display_data"
    }
   ],
   "source": [
    "# Mostrando visualmente a quantidade de tópicos\n",
    "\n",
    "limit=30; start=2; step=2;\n",
    "x = range(start, limit, step)\n",
    "plt.plot(x, coherence_values)\n",
    "plt.xlabel(\"Num Tópicos\")\n",
    "plt.ylabel(\"Score de Coerência\")\n",
    "plt.legend((\"Valores de Coerência\"), loc='best')\n",
    "plt.show()"
   ]
  },
  {
   "cell_type": "code",
   "execution_count": 18,
   "metadata": {},
   "outputs": [
    {
     "name": "stdout",
     "output_type": "stream",
     "text": [
      "A quantidade de tópicos = 2  tem um valor de coerência de  0.2891\n",
      "A quantidade de tópicos = 4  tem um valor de coerência de  0.2976\n",
      "A quantidade de tópicos = 6  tem um valor de coerência de  0.2812\n",
      "A quantidade de tópicos = 8  tem um valor de coerência de  0.323\n",
      "A quantidade de tópicos = 10  tem um valor de coerência de  0.2953\n",
      "A quantidade de tópicos = 12  tem um valor de coerência de  0.3165\n",
      "A quantidade de tópicos = 14  tem um valor de coerência de  0.3147\n",
      "A quantidade de tópicos = 16  tem um valor de coerência de  0.3582\n",
      "A quantidade de tópicos = 18  tem um valor de coerência de  0.311\n",
      "A quantidade de tópicos = 20  tem um valor de coerência de  0.2866\n",
      "A quantidade de tópicos = 22  tem um valor de coerência de  0.2959\n",
      "A quantidade de tópicos = 24  tem um valor de coerência de  0.3317\n",
      "A quantidade de tópicos = 26  tem um valor de coerência de  0.2936\n",
      "A quantidade de tópicos = 28  tem um valor de coerência de  0.3079\n"
     ]
    }
   ],
   "source": [
    "# Lista dos valores de coerência, para melhor identificar o ponto de inflexão do gráfico\n",
    "\n",
    "for m, cv in zip(x, coherence_values):\n",
    "    print(\"A quantidade de tópicos =\", m, \" tem um valor de coerência de \", round(cv, 4))"
   ]
  },
  {
   "cell_type": "markdown",
   "metadata": {},
   "source": [
    "Aqui conseguimos determinar a melhor quantidade de tópicos a serem analisados, que é 8 tópicos"
   ]
  },
  {
   "cell_type": "code",
   "execution_count": 19,
   "metadata": {},
   "outputs": [],
   "source": [
    "# Vamos agora construir de fato o modelo LDA\n",
    "\n",
    "lda_model = LdaMulticore(corpus=corpus,\n",
    "                        id2word=id2word,\n",
    "                        num_topics=4, \n",
    "                        random_state=42,\n",
    "                        chunksize=100,\n",
    "                        passes=10,\n",
    "                        per_word_topics=True)"
   ]
  },
  {
   "cell_type": "code",
   "execution_count": 20,
   "metadata": {},
   "outputs": [
    {
     "name": "stdout",
     "output_type": "stream",
     "text": [
      "\n",
      "Perplexidade:  -7.1480772746846295\n"
     ]
    }
   ],
   "source": [
    "# Computar a perplexidade do modelo (quanto menor, melhor)\n",
    "\n",
    "print('\\nPerplexidade: ', lda_model.log_perplexity(corpus))"
   ]
  },
  {
   "cell_type": "code",
   "execution_count": 21,
   "metadata": {},
   "outputs": [
    {
     "name": "stdout",
     "output_type": "stream",
     "text": [
      "\n",
      "Score de Coerência:  0.2426847286033501\n"
     ]
    }
   ],
   "source": [
    "# Computar o Score de Coerência\n",
    "\n",
    "coherence_model_lda = CoherenceModel(model=lda_model, texts=lista, dictionary=id2word, coherence='c_v')\n",
    "coherence_lda = coherence_model_lda.get_coherence()\n",
    "print('\\nScore de Coerência: ', coherence_lda)"
   ]
  },
  {
   "cell_type": "code",
   "execution_count": 22,
   "metadata": {},
   "outputs": [
    {
     "data": {
      "text/html": [
       "\n",
       "<link rel=\"stylesheet\" type=\"text/css\" href=\"https://cdn.rawgit.com/bmabey/pyLDAvis/files/ldavis.v1.0.0.css\">\n",
       "\n",
       "\n",
       "<div id=\"ldavis_el1470823355511678168165964521\"></div>\n",
       "<script type=\"text/javascript\">\n",
       "\n",
       "var ldavis_el1470823355511678168165964521_data = {\"mdsDat\": {\"x\": [0.1456626256524497, -0.3941441746131906, 0.11943636623049891, 0.12904518273024182], \"y\": [-0.1397761488803219, -0.0006928840123782058, -0.20400146415613707, 0.344470497048837], \"topics\": [1, 2, 3, 4], \"cluster\": [1, 1, 1, 1], \"Freq\": [28.601451873779297, 25.917381286621094, 24.149965286254883, 21.33119773864746]}, \"tinfo\": {\"Term\": [\"corona\", \"casa\", \"presidente\", \"virus\", \"quando\", \"bolsonaro\", \"acabar\", \"brasil\", \"coronavirus\", \"pandemia\", \"depois\", \"nada\", \"saude\", \"povo\", \"novo\", \"fim\", \"isolamento\", \"doria\", \"passar\", \"mae\", \"melhor\", \"pos\", \"meio\", \"italia\", \"tanto\", \"bom\", \"logo\", \"primeiro\", \"cabelo\", \"coisa\", \"brasil\", \"depois\", \"nada\", \"povo\", \"doria\", \"italia\", \"parar\", \"ninguem\", \"populacao\", \"crise\", \"campanha\", \"semana\", \"mil\", \"mal\", \"maior\", \"certo\", \"ha\", \"governador\", \"milhoes\", \"brasileiro\", \"desde\", \"oq\", \"final\", \"deixar\", \"senhor\", \"ajudar\", \"tirar\", \"tbm\", \"normal\", \"corrente\", \"presidente\", \"bolsonaro\", \"vida\", \"coronavirus\", \"menos\", \"governo\", \"nunca\", \"pandemia\", \"deus\", \"mundo\", \"agora\", \"sempre\", \"contra\", \"ainda\", \"corona\", \"casa\", \"virus\", \"quando\", \"acabar\", \"passar\", \"mae\", \"logo\", \"cabelo\", \"mim\", \"pegar\", \"pai\", \"vontade\", \"medo\", \"dps\", \"tomar\", \"risco\", \"preciso\", \"amor\", \"ano\", \"outro\", \"comer\", \"dentro\", \"covid\", \"filho\", \"comprar\", \"sextou\", \"fome\", \"saudade\", \"kkkkkkk\", \"trabalhar\", \"gente\", \"morrer\", \"deus\", \"assim\", \"agora\", \"ainda\", \"coisa\", \"muito\", \"saude\", \"meio\", \"dinheiro\", \"quase\", \"pois\", \"mano\", \"qual\", \"dizer\", \"pouco\", \"gripezinha\", \"algo\", \"caralho\", \"fiqueemcasa\", \"jair\", \"paises\", \"odio\", \"frente\", \"certeza\", \"problema\", \"galera\", \"mt\", \"usar\", \"triste\", \"lugar\", \"algum\", \"pagar\", \"jeito\", \"chegar\", \"apoio\", \"ouvir\", \"pandemia\", \"bolsonaro\", \"muito\", \"merda\", \"presidente\", \"agora\", \"coronavirus\", \"ainda\", \"familia\", \"alguem\", \"governo\", \"falar\", \"pessoa\", \"mundo\", \"tempo\", \"gente\", \"contra\", \"novo\", \"fim\", \"isolamento\", \"melhor\", \"pos\", \"tanto\", \"bom\", \"primeiro\", \"video\", \"carreata\", \"hora\", \"cu\", \"caso\", \"social\", \"grande\", \"datena\", \"quanto\", \"pessoal\", \"kkk\", \"parabens\", \"prefeito\", \"cidade\", \"tipo\", \"igual\", \"verdade\", \"lado\", \"amigo\", \"homem\", \"unica\", \"total\", \"coronavirus\", \"coisa\", \"bolsonaro\", \"tempo\", \"contra\", \"muito\", \"gente\"], \"Freq\": [24568.0, 12060.0, 22165.0, 10808.0, 8657.0, 30900.0, 7805.0, 8268.0, 24255.0, 11916.0, 6798.0, 4900.0, 4212.0, 4570.0, 3562.0, 3332.0, 3277.0, 3879.0, 3578.0, 3507.0, 3024.0, 2792.0, 2850.0, 3159.0, 2450.0, 2403.0, 2678.0, 2290.0, 2560.0, 4025.0, 8267.3994140625, 6798.1865234375, 4900.1435546875, 4569.845703125, 3879.08935546875, 3159.02734375, 2293.484619140625, 2261.517822265625, 2039.2520751953125, 2042.2598876953125, 1960.4619140625, 1931.9180908203125, 1861.807373046875, 1788.3543701171875, 1720.187255859375, 1646.7210693359375, 1644.602294921875, 1447.2825927734375, 1424.912841796875, 1410.827880859375, 1413.039794921875, 1360.80615234375, 1342.2381591796875, 1330.5731201171875, 1182.212158203125, 1116.626953125, 1127.2174072265625, 1077.26416015625, 1049.505859375, 1046.0911865234375, 16249.4169921875, 10643.5751953125, 2325.6220703125, 8055.1630859375, 1907.708984375, 2726.43017578125, 2205.5849609375, 4277.27392578125, 2163.2080078125, 2447.8212890625, 2382.70703125, 1515.1573486328125, 1683.3333740234375, 1598.9815673828125, 24567.732421875, 12059.8935546875, 10808.0419921875, 8656.4306640625, 7805.14501953125, 3577.725341796875, 3506.448486328125, 2678.036865234375, 2560.13427734375, 2453.017333984375, 2381.57373046875, 2042.72412109375, 1829.6656494140625, 1821.4334716796875, 1754.82421875, 1739.5057373046875, 1737.4803466796875, 1588.431640625, 1551.8363037109375, 1562.184326171875, 1566.5133056640625, 1381.8638916015625, 1301.96630859375, 1282.7637939453125, 1175.2135009765625, 1146.2232666015625, 1011.3858032226562, 1026.7298583984375, 965.3190307617188, 958.3801879882812, 2307.7109375, 4312.8662109375, 1733.199951171875, 2160.806640625, 1937.47509765625, 2418.478759765625, 1745.0040283203125, 1564.2125244140625, 1582.657470703125, 4212.2138671875, 2849.7060546875, 2350.196533203125, 1900.5489501953125, 1864.60546875, 1718.4007568359375, 1670.8531494140625, 1677.445556640625, 1415.5111083984375, 1381.4158935546875, 1346.7860107421875, 1329.5428466796875, 1291.137451171875, 1274.1959228515625, 1266.5185546875, 1156.8673095703125, 1150.0828857421875, 1126.1954345703125, 1111.5723876953125, 1085.032470703125, 1090.778076171875, 1060.995361328125, 1014.3416137695312, 1022.981201171875, 996.7445678710938, 961.1490478515625, 942.4712524414062, 911.70458984375, 899.7293090820312, 899.7676391601562, 7638.57177734375, 14019.521484375, 3308.091064453125, 2138.865234375, 5915.94091796875, 3027.104736328125, 5008.2998046875, 2365.771240234375, 1504.334228515625, 1537.1788330078125, 1976.5284423828125, 1512.80517578125, 1399.9197998046875, 1756.5751953125, 1457.6522216796875, 1598.06787109375, 1432.0911865234375, 3561.58642578125, 3331.445068359375, 3276.84130859375, 3024.07470703125, 2791.273193359375, 2449.51904296875, 2402.621826171875, 2290.150146484375, 1985.9375, 1932.4620361328125, 1919.483154296875, 1865.829345703125, 1679.96484375, 1599.68896484375, 1515.5714111328125, 1437.590087890625, 1452.60986328125, 1455.290283203125, 1394.3629150390625, 1365.0340576171875, 1344.4715576171875, 1334.0816650390625, 1263.7982177734375, 1192.5146484375, 1189.2017822265625, 1175.7821044921875, 1163.328369140625, 1148.6077880859375, 1098.1949462890625, 1081.73486328125, 11191.572265625, 2460.56103515625, 6236.736328125, 1992.697509765625, 1653.720703125, 1576.3564453125, 1355.1207275390625], \"Total\": [24568.0, 12060.0, 22165.0, 10808.0, 8657.0, 30900.0, 7805.0, 8268.0, 24255.0, 11916.0, 6798.0, 4900.0, 4212.0, 4570.0, 3562.0, 3332.0, 3277.0, 3879.0, 3578.0, 3507.0, 3024.0, 2792.0, 2850.0, 3159.0, 2450.0, 2403.0, 2678.0, 2290.0, 2560.0, 4025.0, 8268.1689453125, 6798.96923828125, 4900.9267578125, 4570.62353515625, 3879.853271484375, 3159.796875, 2294.2568359375, 2262.29345703125, 2040.0279541015625, 2043.037109375, 1961.2291259765625, 1932.699462890625, 1862.5728759765625, 1789.13623046875, 1720.96533203125, 1647.4979248046875, 1645.3819580078125, 1448.0477294921875, 1425.6905517578125, 1411.5989990234375, 1413.8135986328125, 1361.58544921875, 1343.0177001953125, 1331.3580322265625, 1182.9859619140625, 1117.404541015625, 1128.003173828125, 1078.051025390625, 1050.2811279296875, 1046.869873046875, 22165.87890625, 30900.087890625, 3406.4462890625, 24255.29296875, 2578.668701171875, 4703.47802734375, 3371.84228515625, 11916.3720703125, 4324.53369140625, 6621.52197265625, 7828.56201171875, 1939.052734375, 4769.40283203125, 5710.02587890625, 24568.482421875, 12060.65625, 10808.7998046875, 8657.1884765625, 7805.892578125, 3578.481689453125, 3507.203125, 2678.78857421875, 2560.8837890625, 2453.774658203125, 2382.328125, 2043.483642578125, 1830.427001953125, 1822.2003173828125, 1755.57373046875, 1740.270751953125, 1738.2635498046875, 1589.187744140625, 1552.600830078125, 1562.95458984375, 1567.3011474609375, 1382.6199951171875, 1302.726806640625, 1283.5443115234375, 1175.9871826171875, 1146.982177734375, 1012.1322021484375, 1027.4892578125, 966.0640869140625, 959.138671875, 3004.2021484375, 8814.4501953125, 2692.76220703125, 4324.53369140625, 3870.4072265625, 7828.56201171875, 5710.02587890625, 4025.279296875, 6467.361328125, 4212.9794921875, 2850.474365234375, 2350.968505859375, 1901.3194580078125, 1865.3770751953125, 1719.1695556640625, 1671.6177978515625, 1678.2147216796875, 1416.2779541015625, 1382.1827392578125, 1347.560791015625, 1330.3160400390625, 1291.9000244140625, 1274.95654296875, 1267.292236328125, 1157.6298828125, 1150.861083984375, 1126.96728515625, 1112.33935546875, 1085.798828125, 1091.559326171875, 1061.7667236328125, 1015.1038818359375, 1023.7517700195312, 997.51318359375, 961.9254150390625, 943.237548828125, 912.4820556640625, 900.4990844726562, 900.5396728515625, 11916.3720703125, 30900.087890625, 6467.361328125, 3340.239013671875, 22165.87890625, 7828.56201171875, 24255.29296875, 5710.02587890625, 2398.103515625, 2538.086669921875, 4703.47802734375, 2607.152099609375, 2361.0869140625, 6621.52197265625, 3450.8642578125, 8814.4501953125, 4769.40283203125, 3562.34521484375, 3332.19970703125, 3277.598388671875, 3024.832763671875, 2792.0185546875, 2450.2744140625, 2403.380615234375, 2290.906494140625, 1986.6947021484375, 1933.22412109375, 1920.249267578125, 1866.5924072265625, 1680.724365234375, 1600.448486328125, 1516.3397216796875, 1438.3375244140625, 1453.3680419921875, 1456.0498046875, 1395.1158447265625, 1365.7918701171875, 1345.2237548828125, 1334.836669921875, 1264.5660400390625, 1193.2662353515625, 1189.9591064453125, 1176.5462646484375, 1164.0919189453125, 1149.3719482421875, 1098.9510498046875, 1082.500244140625, 24255.29296875, 4025.279296875, 30900.087890625, 3450.8642578125, 4769.40283203125, 6467.361328125, 8814.4501953125], \"Category\": [\"Default\", \"Default\", \"Default\", \"Default\", \"Default\", \"Default\", \"Default\", \"Default\", \"Default\", \"Default\", \"Default\", \"Default\", \"Default\", \"Default\", \"Default\", \"Default\", \"Default\", \"Default\", \"Default\", \"Default\", \"Default\", \"Default\", \"Default\", \"Default\", \"Default\", \"Default\", \"Default\", \"Default\", \"Default\", \"Default\", \"Topic1\", \"Topic1\", \"Topic1\", \"Topic1\", \"Topic1\", \"Topic1\", \"Topic1\", \"Topic1\", \"Topic1\", \"Topic1\", \"Topic1\", \"Topic1\", \"Topic1\", \"Topic1\", \"Topic1\", \"Topic1\", \"Topic1\", \"Topic1\", \"Topic1\", \"Topic1\", \"Topic1\", \"Topic1\", \"Topic1\", \"Topic1\", \"Topic1\", \"Topic1\", \"Topic1\", \"Topic1\", \"Topic1\", \"Topic1\", \"Topic1\", \"Topic1\", \"Topic1\", \"Topic1\", \"Topic1\", \"Topic1\", \"Topic1\", \"Topic1\", \"Topic1\", \"Topic1\", \"Topic1\", \"Topic1\", \"Topic1\", \"Topic1\", \"Topic2\", \"Topic2\", \"Topic2\", \"Topic2\", \"Topic2\", \"Topic2\", \"Topic2\", \"Topic2\", \"Topic2\", \"Topic2\", \"Topic2\", \"Topic2\", \"Topic2\", \"Topic2\", \"Topic2\", \"Topic2\", \"Topic2\", \"Topic2\", \"Topic2\", \"Topic2\", \"Topic2\", \"Topic2\", \"Topic2\", \"Topic2\", \"Topic2\", \"Topic2\", \"Topic2\", \"Topic2\", \"Topic2\", \"Topic2\", \"Topic2\", \"Topic2\", \"Topic2\", \"Topic2\", \"Topic2\", \"Topic2\", \"Topic2\", \"Topic2\", \"Topic2\", \"Topic3\", \"Topic3\", \"Topic3\", \"Topic3\", \"Topic3\", \"Topic3\", \"Topic3\", \"Topic3\", \"Topic3\", \"Topic3\", \"Topic3\", \"Topic3\", \"Topic3\", \"Topic3\", \"Topic3\", \"Topic3\", \"Topic3\", \"Topic3\", \"Topic3\", \"Topic3\", \"Topic3\", \"Topic3\", \"Topic3\", \"Topic3\", \"Topic3\", \"Topic3\", \"Topic3\", \"Topic3\", \"Topic3\", \"Topic3\", \"Topic3\", \"Topic3\", \"Topic3\", \"Topic3\", \"Topic3\", \"Topic3\", \"Topic3\", \"Topic3\", \"Topic3\", \"Topic3\", \"Topic3\", \"Topic3\", \"Topic3\", \"Topic3\", \"Topic3\", \"Topic3\", \"Topic3\", \"Topic4\", \"Topic4\", \"Topic4\", \"Topic4\", \"Topic4\", \"Topic4\", \"Topic4\", \"Topic4\", \"Topic4\", \"Topic4\", \"Topic4\", \"Topic4\", \"Topic4\", \"Topic4\", \"Topic4\", \"Topic4\", \"Topic4\", \"Topic4\", \"Topic4\", \"Topic4\", \"Topic4\", \"Topic4\", \"Topic4\", \"Topic4\", \"Topic4\", \"Topic4\", \"Topic4\", \"Topic4\", \"Topic4\", \"Topic4\", \"Topic4\", \"Topic4\", \"Topic4\", \"Topic4\", \"Topic4\", \"Topic4\", \"Topic4\"], \"logprob\": [30.0, 29.0, 28.0, 27.0, 26.0, 25.0, 24.0, 23.0, 22.0, 21.0, 20.0, 19.0, 18.0, 17.0, 16.0, 15.0, 14.0, 13.0, 12.0, 11.0, 10.0, 9.0, 8.0, 7.0, 6.0, 5.0, 4.0, 3.0, 2.0, 1.0, -3.540600061416626, -3.7362000942230225, -4.063600063323975, -4.133399963378906, -4.297299861907959, -4.502600193023682, -4.822800159454346, -4.836900234222412, -4.940299987792969, -4.938799858093262, -4.979700088500977, -4.9944000244140625, -5.031400203704834, -5.071599960327148, -5.110499858856201, -5.154099941253662, -5.155399799346924, -5.283199787139893, -5.298799991607666, -5.308700084686279, -5.307199954986572, -5.344799995422363, -5.35860013961792, -5.367300033569336, -5.485499858856201, -5.542600154876709, -5.533199787139893, -5.578499794006348, -5.604599952697754, -5.607800006866455, -2.864799976348877, -3.287899971008301, -4.808899879455566, -3.5666000843048096, -5.006999969482422, -4.649899959564209, -4.8618998527526855, -4.1996002197265625, -4.88129997253418, -4.757699966430664, -4.7846999168396, -5.237400054931641, -5.1321001052856445, -5.183499813079834, -2.3529000282287598, -3.064500093460083, -3.174099922180176, -3.3961000442504883, -3.4995999336242676, -4.279600143432617, -4.299799919128418, -4.569300174713135, -4.614299774169922, -4.6570000648498535, -4.686600208282471, -4.840099811553955, -4.950200080871582, -4.954699993133545, -4.992000102996826, -5.000800132751465, -5.0019001960754395, -5.091599941253662, -5.1149001121521, -5.10830020904541, -5.105500221252441, -5.230899810791016, -5.290500164031982, -5.305300235748291, -5.392899990081787, -5.417900085449219, -5.543000221252441, -5.5279998779296875, -5.589700222015381, -5.59689998626709, -4.718100070953369, -4.092800140380859, -5.00439977645874, -4.783899784088135, -4.89300012588501, -4.671199798583984, -4.997600078582764, -5.10699987411499, -5.095300197601318, -4.0457000732421875, -4.436500072479248, -4.629199981689453, -4.841599941253662, -4.8607001304626465, -4.942299842834473, -4.970399856567383, -4.9664998054504395, -5.136199951171875, -5.160600185394287, -5.185999870300293, -5.19890022277832, -5.2281999588012695, -5.241399765014648, -5.247499942779541, -5.3379998207092285, -5.343900203704834, -5.3649001121521, -5.377999782562256, -5.402100086212158, -5.3968000411987305, -5.424499988555908, -5.4695000648498535, -5.460999965667725, -5.486999988555908, -5.523399829864502, -5.543000221252441, -5.576200008392334, -5.589399814605713, -5.589300155639648, -3.450500011444092, -2.8433001041412354, -4.287399768829346, -4.723499774932861, -3.7060999870300293, -4.376100063323975, -3.8726000785827637, -4.622600078582764, -5.075399875640869, -5.053800106048584, -4.8024001121521, -5.069799900054932, -5.147299766540527, -4.920400142669678, -5.106900215148926, -5.014900207519531, -5.124599933624268, -4.089399814605713, -4.156199932098389, -4.172699928283691, -4.252999782562256, -4.333099842071533, -4.463699817657471, -4.483099937438965, -4.531000137329102, -4.673500061035156, -4.700799942016602, -4.707600116729736, -4.735899925231934, -4.840799808502197, -4.889800071716309, -4.94379997253418, -4.996600151062012, -4.986299991607666, -4.984399795532227, -5.027200222015381, -5.048399925231934, -5.063600063323975, -5.071400165557861, -5.125500202178955, -5.183599948883057, -5.186299800872803, -5.197700023651123, -5.2083001136779785, -5.221099853515625, -5.265900135040283, -5.281000137329102, -2.944499969482422, -4.459199905395508, -3.5292000770568848, -4.670100212097168, -4.856599807739258, -4.9045000076293945, -5.055699825286865], \"loglift\": [30.0, 29.0, 28.0, 27.0, 26.0, 25.0, 24.0, 23.0, 22.0, 21.0, 20.0, 19.0, 18.0, 17.0, 16.0, 15.0, 14.0, 13.0, 12.0, 11.0, 10.0, 9.0, 8.0, 7.0, 6.0, 5.0, 4.0, 3.0, 2.0, 1.0, 1.2516000270843506, 1.2516000270843506, 1.2516000270843506, 1.2515000104904175, 1.2515000104904175, 1.2515000104904175, 1.2513999938964844, 1.2513999938964844, 1.2512999773025513, 1.2512999773025513, 1.2512999773025513, 1.2512999773025513, 1.2512999773025513, 1.2512999773025513, 1.2512999773025513, 1.2511999607086182, 1.2511999607086182, 1.2511999607086182, 1.2511999607086182, 1.2511999607086182, 1.2511999607086182, 1.251099944114685, 1.251099944114685, 1.251099944114685, 1.251099944114685, 1.2510000467300415, 1.2510000467300415, 1.2510000467300415, 1.2510000467300415, 1.2510000467300415, 0.9412000179290771, 0.1859000027179718, 0.8700000047683716, 0.149399995803833, 0.9502999782562256, 0.7063999772071838, 0.8271999955177307, 0.22709999978542328, 0.5590000152587891, 0.2565999925136566, 0.062199998646974564, 1.0049999952316284, 0.2102999985218048, -0.0210999995470047, 1.3502000570297241, 1.3502000570297241, 1.3502000570297241, 1.3502000570297241, 1.3502000570297241, 1.350000023841858, 1.350000023841858, 1.350000023841858, 1.350000023841858, 1.3499000072479248, 1.3499000072479248, 1.3499000072479248, 1.3497999906539917, 1.3497999906539917, 1.3497999906539917, 1.3497999906539917, 1.3497999906539917, 1.3497999906539917, 1.3497999906539917, 1.3497999906539917, 1.3497999906539917, 1.3496999740600586, 1.3496999740600586, 1.3495999574661255, 1.3495999574661255, 1.3495999574661255, 1.3494999408721924, 1.3494999408721924, 1.3494999408721924, 1.3494999408721924, 1.0865000486373901, 0.6355000138282776, 0.9096999764442444, 0.6564000248908997, 0.65829998254776, 0.17560000717639923, 0.1648000031709671, 0.4050000011920929, -0.05739999935030937, 1.420699954032898, 1.4206000566482544, 1.4206000566482544, 1.4205000400543213, 1.4205000400543213, 1.4204000234603882, 1.4204000234603882, 1.4204000234603882, 1.420300006866455, 1.420300006866455, 1.420300006866455, 1.420300006866455, 1.420300006866455, 1.420300006866455, 1.420300006866455, 1.420199990272522, 1.420199990272522, 1.420199990272522, 1.420199990272522, 1.420199990272522, 1.420199990272522, 1.420199990272522, 1.4200999736785889, 1.4200999736785889, 1.4200999736785889, 1.4200999736785889, 1.4200999736785889, 1.4199999570846558, 1.4199999570846558, 1.4199999570846558, 0.9761999845504761, 0.6305999755859375, 0.7505000233650208, 0.9750999808311462, 0.10000000149011612, 0.4706999957561493, -0.156700000166893, 0.5397999882698059, 0.9545999765396118, 0.9193999767303467, 0.5539000034332275, 0.8766000270843506, 0.8981999754905701, 0.09390000253915787, 0.5590999722480774, -0.2867000102996826, 0.21780000627040863, 1.544800043106079, 1.544800043106079, 1.544800043106079, 1.544700026512146, 1.544700026512146, 1.544700026512146, 1.544700026512146, 1.544700026512146, 1.544600009918213, 1.544600009918213, 1.544600009918213, 1.544600009918213, 1.5444999933242798, 1.5444999933242798, 1.5444999933242798, 1.5444999933242798, 1.5444999933242798, 1.5444999933242798, 1.5444999933242798, 1.5443999767303467, 1.5443999767303467, 1.5443999767303467, 1.5443999767303467, 1.5443999767303467, 1.5443999767303467, 1.5442999601364136, 1.5442999601364136, 1.5442999601364136, 1.5442999601364136, 1.5442999601364136, 0.7714999914169312, 1.0528000593185425, -0.05530000105500221, 0.9958999752998352, 0.48579999804496765, 0.13330000638961792, -0.32749998569488525]}, \"token.table\": {\"Topic\": [2, 1, 2, 3, 1, 2, 3, 1, 3, 2, 3, 3, 4, 2, 2, 3, 1, 2, 4, 1, 3, 4, 4, 1, 1, 2, 1, 3, 4, 2, 4, 3, 1, 3, 4, 2, 4, 2, 2, 1, 3, 4, 2, 1, 3, 4, 1, 2, 1, 4, 4, 1, 2, 1, 1, 1, 2, 3, 3, 1, 2, 1, 3, 2, 3, 2, 4, 1, 3, 2, 3, 3, 1, 2, 3, 4, 1, 1, 3, 4, 3, 1, 4, 4, 4, 4, 1, 3, 3, 4, 2, 4, 2, 3, 2, 1, 1, 3, 2, 3, 4, 1, 4, 2, 3, 1, 1, 2, 1, 2, 3, 2, 3, 4, 1, 2, 3, 4, 1, 1, 1, 4, 1, 4, 3, 1, 2, 3, 3, 2, 3, 1, 3, 4, 1, 2, 2, 2, 3, 4, 3, 1, 4, 3, 1, 2, 4, 1, 3, 4, 3, 3, 2, 4, 3, 2, 2, 3, 1, 1, 4, 1, 2, 4, 4, 1, 3, 4, 4, 1, 2, 4, 2, 4, 3, 4, 3, 4, 1, 2, 4, 2, 2], \"Freq\": [0.9998856782913208, 0.30439817905426025, 0.30886897444725037, 0.3866610527038574, 0.28003376722335815, 0.3056028187274933, 0.41435888409614563, 0.9996379613876343, 0.9995838403701782, 0.39399757981300354, 0.6055742502212524, 0.9994855523109436, 0.9990620017051697, 0.9996130466461182, 0.9993892312049866, 0.9994457960128784, 0.29428428411483765, 0.500464141368866, 0.20514637231826782, 0.344465047121048, 0.4537203907966614, 0.20184408128261566, 0.9998416304588318, 0.9998586177825928, 0.999575674533844, 0.9996548891067505, 0.9993733167648315, 0.9997624158859253, 0.999366819858551, 0.9999455809593201, 0.9995689988136292, 0.9991416931152344, 0.999697744846344, 0.9994717240333557, 0.999373197555542, 0.3885444700717926, 0.6113861203193665, 0.9995515942573547, 0.999143660068512, 0.35287436842918396, 0.3002472221851349, 0.3467939496040344, 0.9999803900718689, 0.3320924639701843, 0.20647040009498596, 0.4614250659942627, 0.9991690516471863, 0.9995759129524231, 0.999492347240448, 0.999682605266571, 0.9997653365135193, 0.9997310638427734, 0.9994421005249023, 0.9998574256896973, 0.9994245171546936, 0.5001695156097412, 0.49970704317092896, 0.9995880126953125, 0.9992761611938477, 0.9997800588607788, 0.9996731877326965, 0.4196149408817291, 0.5803267359733582, 0.37237757444381714, 0.6271622776985168, 0.9991605281829834, 0.9996399879455566, 0.9992422461509705, 0.9993033409118652, 0.9995238184928894, 0.9992517828941345, 0.9992642998695374, 0.17562070488929749, 0.4893101453781128, 0.18129321932792664, 0.15372484922409058, 0.9992764592170715, 0.5795711278915405, 0.42032724618911743, 0.9997759461402893, 0.9991443157196045, 0.9997678399085999, 0.9996764063835144, 0.9993494153022766, 0.9997768998146057, 0.999817430973053, 0.9997478127479553, 0.9992497563362122, 0.9986879825592041, 0.999200165271759, 0.9988127946853638, 0.9995356798171997, 0.9997056126594543, 0.9992656707763672, 0.9996569752693176, 0.9994390606880188, 0.9993649125099182, 0.9993196725845337, 0.9993413090705872, 0.9998335838317871, 0.9997246861457825, 0.7399166822433472, 0.2598240077495575, 0.35955509543418884, 0.6403733491897583, 0.999692440032959, 0.9995156526565552, 0.9996842741966248, 0.3561398684978485, 0.6435770392417908, 0.999487578868866, 0.24476751685142517, 0.5114914178848267, 0.24368515610694885, 0.3697035312652588, 0.1924028992652893, 0.26534685492515564, 0.17261892557144165, 0.9998108744621277, 0.9998703002929688, 0.9997323155403137, 0.9999030828475952, 0.6542417407035828, 0.34580501914024353, 0.9994558691978455, 0.9995700120925903, 0.9998078346252441, 0.9994007349014282, 0.9990379810333252, 0.9997633099555969, 0.999769389629364, 0.3589179515838623, 0.6410508155822754, 0.9994202256202698, 0.9994521737098694, 0.9998654127120972, 0.9998622536659241, 0.40701594948768616, 0.592947244644165, 0.9992790222167969, 0.9997978806495667, 0.9994961023330688, 0.9996352195739746, 0.9998037219047546, 0.9998635649681091, 0.9992526173591614, 0.999090313911438, 0.7330636382102966, 0.26689669489860535, 0.9996042847633362, 0.9996949434280396, 0.9996303915977478, 0.9998627305030823, 0.9997467398643494, 0.9998319745063782, 0.9992731213569641, 0.9988985061645508, 0.9997674822807312, 0.9996380805969238, 0.7813093066215515, 0.21814775466918945, 0.9991665482521057, 0.9988813400268555, 0.9997197985649109, 0.999888002872467, 0.9990250468254089, 0.4225028455257416, 0.5775364637374878, 0.9995523691177368, 0.9991106390953064, 0.9998444318771362, 0.9995378851890564, 0.768257200717926, 0.23167549073696136, 0.998912513256073, 0.9991346001625061, 0.9992778897285461, 0.9991940259933472, 0.6828230619430542, 0.3170459568500519, 0.9996502995491028, 0.9999260306358337, 0.9997667074203491], \"Term\": [\"acabar\", \"agora\", \"agora\", \"agora\", \"ainda\", \"ainda\", \"ainda\", \"ajudar\", \"algo\", \"alguem\", \"alguem\", \"algum\", \"amigo\", \"amor\", \"ano\", \"apoio\", \"assim\", \"assim\", \"assim\", \"bolsonaro\", \"bolsonaro\", \"bolsonaro\", \"bom\", \"brasil\", \"brasileiro\", \"cabelo\", \"campanha\", \"caralho\", \"carreata\", \"casa\", \"caso\", \"certeza\", \"certo\", \"chegar\", \"cidade\", \"coisa\", \"coisa\", \"comer\", \"comprar\", \"contra\", \"contra\", \"contra\", \"corona\", \"coronavirus\", \"coronavirus\", \"coronavirus\", \"corrente\", \"covid\", \"crise\", \"cu\", \"datena\", \"deixar\", \"dentro\", \"depois\", \"desde\", \"deus\", \"deus\", \"dinheiro\", \"dizer\", \"doria\", \"dps\", \"falar\", \"falar\", \"familia\", \"familia\", \"filho\", \"fim\", \"final\", \"fiqueemcasa\", \"fome\", \"frente\", \"galera\", \"gente\", \"gente\", \"gente\", \"gente\", \"governador\", \"governo\", \"governo\", \"grande\", \"gripezinha\", \"ha\", \"homem\", \"hora\", \"igual\", \"isolamento\", \"italia\", \"jair\", \"jeito\", \"kkk\", \"kkkkkkk\", \"lado\", \"logo\", \"lugar\", \"mae\", \"maior\", \"mal\", \"mano\", \"medo\", \"meio\", \"melhor\", \"menos\", \"menos\", \"merda\", \"merda\", \"mil\", \"milhoes\", \"mim\", \"morrer\", \"morrer\", \"mt\", \"muito\", \"muito\", \"muito\", \"mundo\", \"mundo\", \"mundo\", \"mundo\", \"nada\", \"ninguem\", \"normal\", \"novo\", \"nunca\", \"nunca\", \"odio\", \"oq\", \"outro\", \"ouvir\", \"pagar\", \"pai\", \"paises\", \"pandemia\", \"pandemia\", \"parabens\", \"parar\", \"passar\", \"pegar\", \"pessoa\", \"pessoa\", \"pessoal\", \"pois\", \"populacao\", \"pos\", \"pouco\", \"povo\", \"preciso\", \"prefeito\", \"presidente\", \"presidente\", \"primeiro\", \"problema\", \"qual\", \"quando\", \"quanto\", \"quase\", \"risco\", \"saudade\", \"saude\", \"semana\", \"sempre\", \"sempre\", \"senhor\", \"sextou\", \"social\", \"tanto\", \"tbm\", \"tempo\", \"tempo\", \"tipo\", \"tirar\", \"tomar\", \"total\", \"trabalhar\", \"trabalhar\", \"triste\", \"unica\", \"usar\", \"verdade\", \"vida\", \"vida\", \"video\", \"virus\", \"vontade\"]}, \"R\": 30, \"lambda.step\": 0.01, \"plot.opts\": {\"xlab\": \"PC1\", \"ylab\": \"PC2\"}, \"topic.order\": [3, 2, 4, 1]};\n",
       "\n",
       "function LDAvis_load_lib(url, callback){\n",
       "  var s = document.createElement('script');\n",
       "  s.src = url;\n",
       "  s.async = true;\n",
       "  s.onreadystatechange = s.onload = callback;\n",
       "  s.onerror = function(){console.warn(\"failed to load library \" + url);};\n",
       "  document.getElementsByTagName(\"head\")[0].appendChild(s);\n",
       "}\n",
       "\n",
       "if(typeof(LDAvis) !== \"undefined\"){\n",
       "   // already loaded: just create the visualization\n",
       "   !function(LDAvis){\n",
       "       new LDAvis(\"#\" + \"ldavis_el1470823355511678168165964521\", ldavis_el1470823355511678168165964521_data);\n",
       "   }(LDAvis);\n",
       "}else if(typeof define === \"function\" && define.amd){\n",
       "   // require.js is available: use it to load d3/LDAvis\n",
       "   require.config({paths: {d3: \"https://cdnjs.cloudflare.com/ajax/libs/d3/3.5.5/d3.min\"}});\n",
       "   require([\"d3\"], function(d3){\n",
       "      window.d3 = d3;\n",
       "      LDAvis_load_lib(\"https://cdn.rawgit.com/bmabey/pyLDAvis/files/ldavis.v1.0.0.js\", function(){\n",
       "        new LDAvis(\"#\" + \"ldavis_el1470823355511678168165964521\", ldavis_el1470823355511678168165964521_data);\n",
       "      });\n",
       "    });\n",
       "}else{\n",
       "    // require.js not available: dynamically load d3 & LDAvis\n",
       "    LDAvis_load_lib(\"https://cdnjs.cloudflare.com/ajax/libs/d3/3.5.5/d3.min.js\", function(){\n",
       "         LDAvis_load_lib(\"https://cdn.rawgit.com/bmabey/pyLDAvis/files/ldavis.v1.0.0.js\", function(){\n",
       "                 new LDAvis(\"#\" + \"ldavis_el1470823355511678168165964521\", ldavis_el1470823355511678168165964521_data);\n",
       "            })\n",
       "         });\n",
       "}\n",
       "</script>"
      ],
      "text/plain": [
       "PreparedData(topic_coordinates=              x         y  topics  cluster       Freq\n",
       "topic                                                \n",
       "2      0.145663 -0.139776       1        1  28.601452\n",
       "1     -0.394144 -0.000693       2        1  25.917381\n",
       "3      0.119436 -0.204001       3        1  24.149965\n",
       "0      0.129045  0.344470       4        1  21.331198, topic_info=           Term          Freq         Total Category  logprob  loglift\n",
       "18       corona  24568.000000  24568.000000  Default  30.0000  30.0000\n",
       "133        casa  12060.000000  12060.000000  Default  29.0000  29.0000\n",
       "5    presidente  22165.000000  22165.000000  Default  28.0000  28.0000\n",
       "67        virus  10808.000000  10808.000000  Default  27.0000  27.0000\n",
       "242      quando   8657.000000   8657.000000  Default  26.0000  26.0000\n",
       "..          ...           ...           ...      ...      ...      ...\n",
       "16    bolsonaro   6236.736328  30900.087891   Topic4  -3.5292  -0.0553\n",
       "128       tempo   1992.697510   3450.864258   Topic4  -4.6701   0.9959\n",
       "28       contra   1653.720703   4769.402832   Topic4  -4.8566   0.4858\n",
       "259       muito   1576.356445   6467.361328   Topic4  -4.9045   0.1333\n",
       "36        gente   1355.120728   8814.450195   Topic4  -5.0557  -0.3275\n",
       "\n",
       "[197 rows x 6 columns], token_table=      Topic      Freq     Term\n",
       "term                          \n",
       "72        2  0.999886   acabar\n",
       "98        1  0.304398    agora\n",
       "98        2  0.308869    agora\n",
       "98        3  0.386661    agora\n",
       "210       1  0.280034    ainda\n",
       "...     ...       ...      ...\n",
       "164       1  0.682823     vida\n",
       "164       2  0.317046     vida\n",
       "326       4  0.999650    video\n",
       "67        2  0.999926    virus\n",
       "367       2  0.999767  vontade\n",
       "\n",
       "[183 rows x 3 columns], R=30, lambda_step=0.01, plot_opts={'xlab': 'PC1', 'ylab': 'PC2'}, topic_order=[3, 2, 4, 1])"
      ]
     },
     "execution_count": 22,
     "metadata": {},
     "output_type": "execute_result"
    }
   ],
   "source": [
    "# Visualização dos tópicos em clusters\n",
    "\n",
    "pyLDAvis.enable_notebook()\n",
    "vis = pyLDAvis.gensim.prepare(lda_model, corpus, id2word)\n",
    "vis"
   ]
  },
  {
   "cell_type": "code",
   "execution_count": 23,
   "metadata": {},
   "outputs": [
    {
     "name": "stdout",
     "output_type": "stream",
     "text": [
      "[(0,\n",
      "  '0.229*\"corona\" + 0.110*\"virus\" + 0.026*\"logo\" + 0.021*\"pegar\" + '\n",
      "  '0.013*\"pandemia\" + 0.013*\"casa\" + 0.012*\"morrer\" + 0.009*\"caralho\" + '\n",
      "  '0.009*\"embora\" + 0.008*\"tomar\"'),\n",
      " (1,\n",
      "  '0.074*\"depois\" + 0.036*\"passar\" + 0.030*\"gente\" + 0.018*\"casa\" + '\n",
      "  '0.017*\"cabeca\" + 0.013*\"pandemia\" + 0.013*\"semana\" + 0.013*\"bom\" + '\n",
      "  '0.013*\"entao\" + 0.012*\"agora\"'),\n",
      " (2,\n",
      "  '0.061*\"bolsonaro\" + 0.041*\"brasil\" + 0.039*\"presidente\" + 0.030*\"contra\" + '\n",
      "  '0.030*\"coronavirus\" + 0.026*\"governo\" + 0.019*\"doria\" + 0.019*\"isolamento\" '\n",
      "  '+ 0.017*\"saude\" + 0.011*\"campanha\"'),\n",
      " (3,\n",
      "  '0.143*\"coronavirus\" + 0.045*\"pandemia\" + 0.024*\"novo\" + 0.016*\"brasil\" + '\n",
      "  '0.013*\"meio\" + 0.012*\"italia\" + 0.011*\"mil\" + 0.010*\"saude\" + 0.010*\"fim\" + '\n",
      "  '0.009*\"mundo\"'),\n",
      " (4,\n",
      "  '0.093*\"bolsonaro\" + 0.056*\"casa\" + 0.021*\"mae\" + 0.019*\"trabalhar\" + '\n",
      "  '0.016*\"mundo\" + 0.014*\"certo\" + 0.013*\"agora\" + 0.011*\"familia\" + '\n",
      "  '0.010*\"dentro\" + 0.009*\"tambem\"'),\n",
      " (5,\n",
      "  '0.152*\"presidente\" + 0.031*\"povo\" + 0.025*\"pos\" + 0.023*\"bolsonaro\" + '\n",
      "  '0.014*\"dinheiro\" + 0.012*\"deus\" + 0.012*\"parabens\" + 0.011*\"primeiro\" + '\n",
      "  '0.010*\"senhor\" + 0.010*\"tanto\"'),\n",
      " (6,\n",
      "  '0.041*\"deus\" + 0.037*\"ainda\" + 0.030*\"gente\" + 0.027*\"alguem\" + 0.021*\"vez\" '\n",
      "  '+ 0.021*\"bolsonaro\" + 0.016*\"cada\" + 0.015*\"mundo\" + 0.015*\"amor\" + '\n",
      "  '0.014*\"tu\"'),\n",
      " (7,\n",
      "  '0.034*\"tempo\" + 0.025*\"nada\" + 0.025*\"menos\" + 0.024*\"mim\" + 0.022*\"casa\" + '\n",
      "  '0.019*\"vida\" + 0.018*\"dps\" + 0.015*\"melhor\" + 0.015*\"kkk\" + 0.014*\"muito\"'),\n",
      " (8,\n",
      "  '0.081*\"bolsonaro\" + 0.023*\"presidente\" + 0.018*\"datena\" + 0.017*\"mal\" + '\n",
      "  '0.016*\"assim\" + 0.015*\"falar\" + 0.015*\"muito\" + 0.014*\"dar\" + 0.014*\"grupo\" '\n",
      "  '+ 0.012*\"risco\"'),\n",
      " (9,\n",
      "  '0.100*\"quando\" + 0.094*\"acabar\" + 0.032*\"cabelo\" + 0.018*\"vontade\" + '\n",
      "  '0.016*\"pai\" + 0.015*\"casa\" + 0.013*\"agora\" + 0.013*\"cu\" + 0.011*\"gente\" + '\n",
      "  '0.011*\"oq\"')]\n"
     ]
    }
   ],
   "source": [
    "# Escolhe o modelo\n",
    "\n",
    "optimal_model = model_list[3]\n",
    "model_topics = optimal_model.show_topics(formatted=False)\n",
    "pprint(optimal_model.print_topics(num_words=10))"
   ]
  },
  {
   "cell_type": "code",
   "execution_count": 24,
   "metadata": {},
   "outputs": [],
   "source": [
    "# Encontrar qual o principal tópico em cada tweet\n",
    "\n",
    "def format_topics_sentences(ldamodel=lda_model, corpus=corpus, texts=lista):\n",
    "    # Output\n",
    "    sent_topics_df = pd.DataFrame()\n",
    "\n",
    "    # Seleciona o principal tópico de cada tweet\n",
    "    for i, row in enumerate(ldamodel[corpus]):\n",
    "        row = sorted(row, key=lambda x: (x[1]), reverse=True)\n",
    "        # Calcula o principal tópico, o percentual de contribuição e as palavras chaves de cada tweet\n",
    "        for j, (topic_num, prop_topic) in enumerate(row):\n",
    "            if j == 0:  # => mostra o principal tópico\n",
    "                wp = ldamodel.show_topic(topic_num)\n",
    "                topic_keywords = \", \".join([word for word, prop in wp])\n",
    "                sent_topics_df = sent_topics_df.append(pd.Series([int(topic_num), round(prop_topic,4), topic_keywords]), ignore_index=True)\n",
    "            else:\n",
    "                break\n",
    "    sent_topics_df.columns = ['Principal_Topico', 'Perc_Contributicao', 'Palavras_Chave']\n",
    "\n",
    "    # Inclui o texto original no final do DataFrame\n",
    "    contents = pd.Series(texts)\n",
    "    sent_topics_df = pd.concat([sent_topics_df, contents], axis=1)\n",
    "    return(sent_topics_df)"
   ]
  },
  {
   "cell_type": "code",
   "execution_count": 25,
   "metadata": {},
   "outputs": [],
   "source": [
    "# roda a função de calcular os principais tópicos de cada tweet\n",
    "\n",
    "df_topic_sents_keywords = format_topics_sentences(ldamodel=optimal_model, corpus=corpus, texts=lista)"
   ]
  },
  {
   "cell_type": "code",
   "execution_count": 26,
   "metadata": {},
   "outputs": [],
   "source": [
    "# Formata o DataFrame\n",
    "\n",
    "df_dominant_topic = df_topic_sents_keywords.reset_index()\n",
    "df_dominant_topic.columns = ['Index_DF_Original', 'Principal_Topico', 'Perc_Contrib_Topico', 'Palavras_Chave', 'Tweets']"
   ]
  },
  {
   "cell_type": "code",
   "execution_count": 27,
   "metadata": {
    "scrolled": true
   },
   "outputs": [
    {
     "data": {
      "text/html": [
       "<div>\n",
       "<style scoped>\n",
       "    .dataframe tbody tr th:only-of-type {\n",
       "        vertical-align: middle;\n",
       "    }\n",
       "\n",
       "    .dataframe tbody tr th {\n",
       "        vertical-align: top;\n",
       "    }\n",
       "\n",
       "    .dataframe thead th {\n",
       "        text-align: right;\n",
       "    }\n",
       "</style>\n",
       "<table border=\"1\" class=\"dataframe\">\n",
       "  <thead>\n",
       "    <tr style=\"text-align: right;\">\n",
       "      <th></th>\n",
       "      <th>Topico</th>\n",
       "      <th>Topico_Perc_Contrib</th>\n",
       "      <th>Palavras_Chave</th>\n",
       "      <th>Tweet</th>\n",
       "    </tr>\n",
       "  </thead>\n",
       "  <tbody>\n",
       "    <tr>\n",
       "      <th>0</th>\n",
       "      <td>0.0</td>\n",
       "      <td>0.9357</td>\n",
       "      <td>corona, virus, logo, pegar, pandemia, casa, mo...</td>\n",
       "      <td>[cu, nao, tal, ficar, hora, porra, parar, prec...</td>\n",
       "    </tr>\n",
       "    <tr>\n",
       "      <th>1</th>\n",
       "      <td>1.0</td>\n",
       "      <td>0.9181</td>\n",
       "      <td>depois, passar, gente, casa, cabeca, pandemia,...</td>\n",
       "      <td>[solteiro, nao, agora, momento, tedio, certame...</td>\n",
       "    </tr>\n",
       "    <tr>\n",
       "      <th>2</th>\n",
       "      <td>2.0</td>\n",
       "      <td>0.9400</td>\n",
       "      <td>bolsonaro, brasil, presidente, contra, coronav...</td>\n",
       "      <td>[nao, parar, salvar, bolsonaro, ha, feito, hoj...</td>\n",
       "    </tr>\n",
       "    <tr>\n",
       "      <th>3</th>\n",
       "      <td>3.0</td>\n",
       "      <td>0.9400</td>\n",
       "      <td>coronavirus, pandemia, novo, brasil, meio, ita...</td>\n",
       "      <td>[saude, nao, coronavirus, definir, sao, pois, ...</td>\n",
       "    </tr>\n",
       "    <tr>\n",
       "      <th>4</th>\n",
       "      <td>4.0</td>\n",
       "      <td>0.9308</td>\n",
       "      <td>bolsonaro, casa, mae, trabalhar, mundo, certo,...</td>\n",
       "      <td>[comprar, bolsonaro, meu, fome, trabalhar, tam...</td>\n",
       "    </tr>\n",
       "    <tr>\n",
       "      <th>5</th>\n",
       "      <td>5.0</td>\n",
       "      <td>0.9400</td>\n",
       "      <td>presidente, povo, pos, bolsonaro, dinheiro, de...</td>\n",
       "      <td>[bola, nao, senhor, tudo, time, bolsonaro, pov...</td>\n",
       "    </tr>\n",
       "    <tr>\n",
       "      <th>6</th>\n",
       "      <td>6.0</td>\n",
       "      <td>0.9250</td>\n",
       "      <td>deus, ainda, gente, alguem, vez, bolsonaro, ca...</td>\n",
       "      <td>[canal, nao, jeito, cada, meio, casa, hein, pa...</td>\n",
       "    </tr>\n",
       "    <tr>\n",
       "      <th>7</th>\n",
       "      <td>7.0</td>\n",
       "      <td>0.9437</td>\n",
       "      <td>tempo, nada, menos, mim, casa, vida, dps, melh...</td>\n",
       "      <td>[ir, ver, nao, office, casa, home, dormir, gra...</td>\n",
       "    </tr>\n",
       "    <tr>\n",
       "      <th>8</th>\n",
       "      <td>8.0</td>\n",
       "      <td>0.9357</td>\n",
       "      <td>bolsonaro, presidente, datena, mal, assim, fal...</td>\n",
       "      <td>[mourao, saber, nao, assim, bolsonaro, falar, ...</td>\n",
       "    </tr>\n",
       "    <tr>\n",
       "      <th>9</th>\n",
       "      <td>9.0</td>\n",
       "      <td>0.9250</td>\n",
       "      <td>quando, acabar, cabelo, vontade, pai, casa, ag...</td>\n",
       "      <td>[paredao, cu, sdv, comeback, pyong, gizelly, b...</td>\n",
       "    </tr>\n",
       "  </tbody>\n",
       "</table>\n",
       "</div>"
      ],
      "text/plain": [
       "   Topico  Topico_Perc_Contrib  \\\n",
       "0     0.0               0.9357   \n",
       "1     1.0               0.9181   \n",
       "2     2.0               0.9400   \n",
       "3     3.0               0.9400   \n",
       "4     4.0               0.9308   \n",
       "5     5.0               0.9400   \n",
       "6     6.0               0.9250   \n",
       "7     7.0               0.9437   \n",
       "8     8.0               0.9357   \n",
       "9     9.0               0.9250   \n",
       "\n",
       "                                      Palavras_Chave  \\\n",
       "0  corona, virus, logo, pegar, pandemia, casa, mo...   \n",
       "1  depois, passar, gente, casa, cabeca, pandemia,...   \n",
       "2  bolsonaro, brasil, presidente, contra, coronav...   \n",
       "3  coronavirus, pandemia, novo, brasil, meio, ita...   \n",
       "4  bolsonaro, casa, mae, trabalhar, mundo, certo,...   \n",
       "5  presidente, povo, pos, bolsonaro, dinheiro, de...   \n",
       "6  deus, ainda, gente, alguem, vez, bolsonaro, ca...   \n",
       "7  tempo, nada, menos, mim, casa, vida, dps, melh...   \n",
       "8  bolsonaro, presidente, datena, mal, assim, fal...   \n",
       "9  quando, acabar, cabelo, vontade, pai, casa, ag...   \n",
       "\n",
       "                                               Tweet  \n",
       "0  [cu, nao, tal, ficar, hora, porra, parar, prec...  \n",
       "1  [solteiro, nao, agora, momento, tedio, certame...  \n",
       "2  [nao, parar, salvar, bolsonaro, ha, feito, hoj...  \n",
       "3  [saude, nao, coronavirus, definir, sao, pois, ...  \n",
       "4  [comprar, bolsonaro, meu, fome, trabalhar, tam...  \n",
       "5  [bola, nao, senhor, tudo, time, bolsonaro, pov...  \n",
       "6  [canal, nao, jeito, cada, meio, casa, hein, pa...  \n",
       "7  [ir, ver, nao, office, casa, home, dormir, gra...  \n",
       "8  [mourao, saber, nao, assim, bolsonaro, falar, ...  \n",
       "9  [paredao, cu, sdv, comeback, pyong, gizelly, b...  "
      ]
     },
     "execution_count": 27,
     "metadata": {},
     "output_type": "execute_result"
    }
   ],
   "source": [
    "# Group top 5 sentences under each topic\n",
    "sent_topics_sorteddf_mallet = pd.DataFrame()\n",
    "\n",
    "sent_topics_outdf_grpd = df_topic_sents_keywords.groupby('Principal_Topico')\n",
    "\n",
    "for i, grp in sent_topics_outdf_grpd:\n",
    "    sent_topics_sorteddf_mallet = pd.concat([sent_topics_sorteddf_mallet, \n",
    "                                             grp.sort_values(['Perc_Contributicao'], ascending=[0]).head(1)], \n",
    "                                            axis=0)\n",
    "\n",
    "# Reset Index    \n",
    "sent_topics_sorteddf_mallet.reset_index(drop=True, inplace=True)\n",
    "\n",
    "# Format\n",
    "sent_topics_sorteddf_mallet.columns = ['Topico', \"Topico_Perc_Contrib\", \"Palavras_Chave\", \"Tweet\"]\n",
    "\n",
    "# Show\n",
    "sent_topics_sorteddf_mallet"
   ]
  },
  {
   "cell_type": "code",
   "execution_count": 28,
   "metadata": {},
   "outputs": [
    {
     "data": {
      "text/html": [
       "<div>\n",
       "<style scoped>\n",
       "    .dataframe tbody tr th:only-of-type {\n",
       "        vertical-align: middle;\n",
       "    }\n",
       "\n",
       "    .dataframe tbody tr th {\n",
       "        vertical-align: top;\n",
       "    }\n",
       "\n",
       "    .dataframe thead th {\n",
       "        text-align: right;\n",
       "    }\n",
       "</style>\n",
       "<table border=\"1\" class=\"dataframe\">\n",
       "  <thead>\n",
       "    <tr style=\"text-align: right;\">\n",
       "      <th></th>\n",
       "      <th>Principal_Topico</th>\n",
       "      <th>Palavras_Chave</th>\n",
       "      <th>Qtd_Tweets</th>\n",
       "      <th>Perc_Tweets</th>\n",
       "    </tr>\n",
       "  </thead>\n",
       "  <tbody>\n",
       "    <tr>\n",
       "      <th>0.0</th>\n",
       "      <td>0.0</td>\n",
       "      <td>corona, virus, logo, pegar, pandemia, casa, mo...</td>\n",
       "      <td>34815.0</td>\n",
       "      <td>0.1546</td>\n",
       "    </tr>\n",
       "    <tr>\n",
       "      <th>1.0</th>\n",
       "      <td>5.0</td>\n",
       "      <td>presidente, povo, pos, bolsonaro, dinheiro, de...</td>\n",
       "      <td>18570.0</td>\n",
       "      <td>0.0825</td>\n",
       "    </tr>\n",
       "    <tr>\n",
       "      <th>2.0</th>\n",
       "      <td>2.0</td>\n",
       "      <td>bolsonaro, brasil, presidente, contra, coronav...</td>\n",
       "      <td>26939.0</td>\n",
       "      <td>0.1197</td>\n",
       "    </tr>\n",
       "    <tr>\n",
       "      <th>3.0</th>\n",
       "      <td>1.0</td>\n",
       "      <td>depois, passar, gente, casa, cabeca, pandemia,...</td>\n",
       "      <td>27396.0</td>\n",
       "      <td>0.1217</td>\n",
       "    </tr>\n",
       "    <tr>\n",
       "      <th>4.0</th>\n",
       "      <td>8.0</td>\n",
       "      <td>bolsonaro, presidente, datena, mal, assim, fal...</td>\n",
       "      <td>20414.0</td>\n",
       "      <td>0.0907</td>\n",
       "    </tr>\n",
       "    <tr>\n",
       "      <th>...</th>\n",
       "      <td>...</td>\n",
       "      <td>...</td>\n",
       "      <td>...</td>\n",
       "      <td>...</td>\n",
       "    </tr>\n",
       "    <tr>\n",
       "      <th>225118.0</th>\n",
       "      <td>2.0</td>\n",
       "      <td>bolsonaro, brasil, presidente, contra, coronav...</td>\n",
       "      <td>NaN</td>\n",
       "      <td>NaN</td>\n",
       "    </tr>\n",
       "    <tr>\n",
       "      <th>225119.0</th>\n",
       "      <td>3.0</td>\n",
       "      <td>coronavirus, pandemia, novo, brasil, meio, ita...</td>\n",
       "      <td>NaN</td>\n",
       "      <td>NaN</td>\n",
       "    </tr>\n",
       "    <tr>\n",
       "      <th>225120.0</th>\n",
       "      <td>7.0</td>\n",
       "      <td>tempo, nada, menos, mim, casa, vida, dps, melh...</td>\n",
       "      <td>NaN</td>\n",
       "      <td>NaN</td>\n",
       "    </tr>\n",
       "    <tr>\n",
       "      <th>225121.0</th>\n",
       "      <td>9.0</td>\n",
       "      <td>quando, acabar, cabelo, vontade, pai, casa, ag...</td>\n",
       "      <td>NaN</td>\n",
       "      <td>NaN</td>\n",
       "    </tr>\n",
       "    <tr>\n",
       "      <th>225122.0</th>\n",
       "      <td>3.0</td>\n",
       "      <td>coronavirus, pandemia, novo, brasil, meio, ita...</td>\n",
       "      <td>NaN</td>\n",
       "      <td>NaN</td>\n",
       "    </tr>\n",
       "  </tbody>\n",
       "</table>\n",
       "<p>225123 rows × 4 columns</p>\n",
       "</div>"
      ],
      "text/plain": [
       "          Principal_Topico                                     Palavras_Chave  \\\n",
       "0.0                    0.0  corona, virus, logo, pegar, pandemia, casa, mo...   \n",
       "1.0                    5.0  presidente, povo, pos, bolsonaro, dinheiro, de...   \n",
       "2.0                    2.0  bolsonaro, brasil, presidente, contra, coronav...   \n",
       "3.0                    1.0  depois, passar, gente, casa, cabeca, pandemia,...   \n",
       "4.0                    8.0  bolsonaro, presidente, datena, mal, assim, fal...   \n",
       "...                    ...                                                ...   \n",
       "225118.0               2.0  bolsonaro, brasil, presidente, contra, coronav...   \n",
       "225119.0               3.0  coronavirus, pandemia, novo, brasil, meio, ita...   \n",
       "225120.0               7.0  tempo, nada, menos, mim, casa, vida, dps, melh...   \n",
       "225121.0               9.0  quando, acabar, cabelo, vontade, pai, casa, ag...   \n",
       "225122.0               3.0  coronavirus, pandemia, novo, brasil, meio, ita...   \n",
       "\n",
       "          Qtd_Tweets  Perc_Tweets  \n",
       "0.0          34815.0       0.1546  \n",
       "1.0          18570.0       0.0825  \n",
       "2.0          26939.0       0.1197  \n",
       "3.0          27396.0       0.1217  \n",
       "4.0          20414.0       0.0907  \n",
       "...              ...          ...  \n",
       "225118.0         NaN          NaN  \n",
       "225119.0         NaN          NaN  \n",
       "225120.0         NaN          NaN  \n",
       "225121.0         NaN          NaN  \n",
       "225122.0         NaN          NaN  \n",
       "\n",
       "[225123 rows x 4 columns]"
      ]
     },
     "execution_count": 28,
     "metadata": {},
     "output_type": "execute_result"
    }
   ],
   "source": [
    "# Numero de tweets por topico\n",
    "\n",
    "topic_counts = df_topic_sents_keywords['Principal_Topico'].value_counts()\n",
    "\n",
    "# Porcentagem de tweets por tópico\n",
    "topic_contribution = round(topic_counts/topic_counts.sum(), 4)\n",
    "\n",
    "# Número do tópico e suas palavras chave\n",
    "topic_num_keywords = df_topic_sents_keywords[['Principal_Topico', 'Palavras_Chave']]\n",
    "\n",
    "# Concatena as colunas\n",
    "df_dominant_topics = pd.concat([topic_num_keywords, topic_counts, topic_contribution], axis=1)\n",
    "\n",
    "# Renomeia as colunas\n",
    "df_dominant_topics.columns = ['Principal_Topico', 'Palavras_Chave', 'Qtd_Tweets', 'Perc_Tweets']\n",
    "\n",
    "# Mostra o DataFrame\n",
    "df_dominant_topics"
   ]
  },
  {
   "cell_type": "code",
   "execution_count": 29,
   "metadata": {},
   "outputs": [
    {
     "data": {
      "image/png": "[encoded data removed]",
      "text/plain": [
       "<Figure size 720x720 with 4 Axes>"
      ]
     },
     "metadata": {
      "needs_background": "light"
     },
     "output_type": "display_data"
    }
   ],
   "source": [
    "# Cria wordclouds\n",
    "\n",
    "cols = [color for name, color in mcolors.XKCD_COLORS.items()]\n",
    "\n",
    "cloud = WordCloud(stopwords=stop_words,\n",
    "                  background_color='white',\n",
    "                  width=2500,\n",
    "                  height=1800,\n",
    "                  max_words=10,\n",
    "                  colormap='tab10',\n",
    "                  color_func=lambda *args, **kwargs: cols[i],\n",
    "                  prefer_horizontal=1.0)\n",
    "\n",
    "topics = lda_model.show_topics(formatted=False)\n",
    "\n",
    "fig, axes = plt.subplots(2, 2, figsize=(10,10), sharex=True, sharey=True)\n",
    "\n",
    "for i, ax in enumerate(axes.flatten()):\n",
    "    fig.add_subplot(ax)\n",
    "    topic_words = dict(topics[i][1])\n",
    "    cloud.generate_from_frequencies(topic_words, max_font_size=300)\n",
    "    plt.gca().imshow(cloud)\n",
    "    plt.gca().set_title('Topic ' + str(i), fontdict=dict(size=16))\n",
    "    plt.gca().axis('off')\n",
    "\n",
    "\n",
    "plt.subplots_adjust(wspace=0, hspace=0)\n",
    "plt.axis('off')\n",
    "plt.margins(x=0, y=0)\n",
    "plt.tight_layout()\n",
    "plt.show()"
   ]
  },
  {
   "cell_type": "code",
   "execution_count": null,
   "metadata": {},
   "outputs": [],
   "source": []
  },
  {
   "cell_type": "code",
   "execution_count": null,
   "metadata": {},
   "outputs": [],
   "source": []
  },
  {
   "cell_type": "code",
   "execution_count": null,
   "metadata": {},
   "outputs": [],
   "source": []
  },
  {
   "cell_type": "code",
   "execution_count": null,
   "metadata": {},
   "outputs": [],
   "source": []
  },
  {
   "cell_type": "code",
   "execution_count": null,
   "metadata": {},
   "outputs": [],
   "source": []
  },
  {
   "cell_type": "code",
   "execution_count": null,
   "metadata": {},
   "outputs": [],
   "source": []
  }
 ],
 "metadata": {
  "kernelspec": {
   "display_name": "Python 3",
   "language": "python",
   "name": "python3"
  },
  "language_info": {
   "codemirror_mode": {
    "name": "ipython",
    "version": 3
   },
   "file_extension": ".py",
   "mimetype": "text/x-python",
   "name": "python",
   "nbconvert_exporter": "python",
   "pygments_lexer": "ipython3",
   "version": "3.7.6"
  }
 },
 "nbformat": 4,
 "nbformat_minor": 1
}
