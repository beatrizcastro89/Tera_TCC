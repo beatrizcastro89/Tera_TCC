{
 "cells": [
  {
   "cell_type": "markdown",
   "metadata": {
    "collapsed": true
   },
   "source": [
    "Análise do dia 19/03 através do modelo LDA."
   ]
  },
  {
   "cell_type": "code",
   "execution_count": 1,
   "metadata": {},
   "outputs": [],
   "source": [
    "# Importar bibliotecas\n",
    "\n",
    "# gerais\n",
    "import sys\n",
    "import os\n",
    "from pathlib import Path\n",
    "import re\n",
    "import numpy as np\n",
    "import pandas as pd\n",
    "from pprint import pprint\n",
    "from tqdm import tqdm\n",
    "from ast import literal_eval\n",
    "\n",
    "# Gensim\n",
    "import gensim, spacy, logging, warnings\n",
    "import gensim.corpora as corpora\n",
    "from gensim.utils import lemmatize, simple_preprocess\n",
    "from gensim.models import CoherenceModel\n",
    "from gensim.models.ldamulticore import LdaMulticore\n",
    "\n",
    "# NLTK Stop words\n",
    "import nltk\n",
    "from nltk.corpus import stopwords\n",
    "\n",
    "# sklearn\n",
    "from sklearn.feature_extraction.text import CountVectorizer\n",
    "\n",
    "#plot\n",
    "import pyLDAvis\n",
    "import pyLDAvis.gensim\n",
    "import matplotlib.pyplot as plt\n",
    "import matplotlib.colors as mcolors\n",
    "%matplotlib inline\n",
    "from wordcloud import WordCloud, STOPWORDS"
   ]
  },
  {
   "cell_type": "markdown",
   "metadata": {},
   "source": [
    "# Preparação dos dados"
   ]
  },
  {
   "cell_type": "code",
   "execution_count": 2,
   "metadata": {},
   "outputs": [],
   "source": [
    "# import dos dados\n",
    "\n",
    "df = pd.read_csv('1903_preprocessado.csv')"
   ]
  },
  {
   "cell_type": "code",
   "execution_count": 3,
   "metadata": {},
   "outputs": [],
   "source": [
    "# função para reverter os tokens processados em lista de tuples\n",
    "\n",
    "def strip_characters(text):\n",
    "    t = re.sub(r'\\(|\\)|:|,|;|\\.|’|”|“|\\?|%|>|<|\\[|\\]', '', text)\n",
    "    t = re.sub(r'/', ' ', t)\n",
    "    t = t.replace(\"'\",'')\n",
    "    return t"
   ]
  },
  {
   "cell_type": "code",
   "execution_count": 4,
   "metadata": {},
   "outputs": [],
   "source": [
    "# aplica função em todos os tokens\n",
    "\n",
    "df['token3'] = df['token3'].apply(lambda x: strip_characters(x))\n",
    "df['token3'] = df['token3'].apply(lambda x: str(x).split(' '))"
   ]
  },
  {
   "cell_type": "code",
   "execution_count": 5,
   "metadata": {},
   "outputs": [],
   "source": [
    "texto = list(df.token3)"
   ]
  },
  {
   "cell_type": "markdown",
   "metadata": {},
   "source": [
    "# Modelagem"
   ]
  },
  {
   "cell_type": "code",
   "execution_count": 6,
   "metadata": {},
   "outputs": [],
   "source": [
    "# Criar dicionário\n",
    "\n",
    "id2word = corpora.Dictionary(texto)"
   ]
  },
  {
   "cell_type": "code",
   "execution_count": 7,
   "metadata": {},
   "outputs": [],
   "source": [
    "# Criar o Corpus: A Frequência das palavras nos documentos\n",
    "\n",
    "corpus = [id2word.doc2bow(text) for text in texto]"
   ]
  },
  {
   "cell_type": "code",
   "execution_count": 8,
   "metadata": {},
   "outputs": [],
   "source": [
    "# Função para determinar a melhor quantidade de tópicos para a modelagem\n",
    "\n",
    "def compute_coherence_values(dictionary, corpus, texts, limit, start=2, step=5):\n",
    "    coherence_values = []\n",
    "    model_list = []\n",
    "    for num_topics in tqdm(range(start, limit, step)):\n",
    "        model = LdaMulticore(corpus, id2word=id2word, num_topics=10)\n",
    "        model_list.append(model)\n",
    "        coherencemodel = CoherenceModel(model=model, texts=texts, dictionary=dictionary, coherence='c_v')\n",
    "        coherence_values.append(coherencemodel.get_coherence())\n",
    "\n",
    "    return model_list, coherence_values"
   ]
  },
  {
   "cell_type": "code",
   "execution_count": 9,
   "metadata": {},
   "outputs": [
    {
     "name": "stderr",
     "output_type": "stream",
     "text": [
      "100%|█████████████████████████████████████████████████████████████████████████████████| 14/14 [24:02<00:00, 103.02s/it]\n"
     ]
    }
   ],
   "source": [
    "# Colocando parametros na função\n",
    "\n",
    "model_list, coherence_values = compute_coherence_values(dictionary=id2word, corpus=corpus, texts=texto, start=2, limit=30, step=2)"
   ]
  },
  {
   "cell_type": "code",
   "execution_count": 10,
   "metadata": {},
   "outputs": [
    {
     "data": {
      "image/png": "[encoded data removed]",
      "text/plain": [
       "<Figure size 432x288 with 1 Axes>"
      ]
     },
     "metadata": {
      "needs_background": "light"
     },
     "output_type": "display_data"
    }
   ],
   "source": [
    "# Mostrando visualmente a quantidade de tópicos\n",
    "\n",
    "limit=30; start=2; step=2;\n",
    "x = range(start, limit, step)\n",
    "plt.plot(x, coherence_values)\n",
    "plt.xlabel(\"Num Tópicos\")\n",
    "plt.ylabel(\"Score de Coerência\")\n",
    "plt.legend((\"Valores de Coerência\"), loc='best')\n",
    "plt.show()"
   ]
  },
  {
   "cell_type": "code",
   "execution_count": 11,
   "metadata": {},
   "outputs": [
    {
     "name": "stdout",
     "output_type": "stream",
     "text": [
      "A quantidade de tópicos = 2  tem um valor de coerência de  0.3092\n",
      "A quantidade de tópicos = 4  tem um valor de coerência de  0.3148\n",
      "A quantidade de tópicos = 6  tem um valor de coerência de  0.2953\n",
      "A quantidade de tópicos = 8  tem um valor de coerência de  0.3021\n",
      "A quantidade de tópicos = 10  tem um valor de coerência de  0.2993\n",
      "A quantidade de tópicos = 12  tem um valor de coerência de  0.3318\n",
      "A quantidade de tópicos = 14  tem um valor de coerência de  0.3136\n",
      "A quantidade de tópicos = 16  tem um valor de coerência de  0.2961\n",
      "A quantidade de tópicos = 18  tem um valor de coerência de  0.3029\n",
      "A quantidade de tópicos = 20  tem um valor de coerência de  0.3069\n",
      "A quantidade de tópicos = 22  tem um valor de coerência de  0.2851\n",
      "A quantidade de tópicos = 24  tem um valor de coerência de  0.2931\n",
      "A quantidade de tópicos = 26  tem um valor de coerência de  0.3104\n",
      "A quantidade de tópicos = 28  tem um valor de coerência de  0.3183\n"
     ]
    }
   ],
   "source": [
    "# Lista dos valores de coerência, para melhor identificar o ponto de inflexão do gráfico\n",
    "\n",
    "for m, cv in zip(x, coherence_values):\n",
    "    print(\"A quantidade de tópicos =\", m, \" tem um valor de coerência de \", round(cv, 4))"
   ]
  },
  {
   "cell_type": "markdown",
   "metadata": {},
   "source": [
    "Aqui conseguimos determinar a melhor quantidade de tópicos a serem analisados, que é 8 tópicos"
   ]
  },
  {
   "cell_type": "code",
   "execution_count": 20,
   "metadata": {},
   "outputs": [],
   "source": [
    "# Vamos agora construir de fato o modelo LDA\n",
    "\n",
    "lda_model = LdaMulticore(corpus=corpus,\n",
    "                        id2word=id2word,\n",
    "                        num_topics=3, \n",
    "                        random_state=42,\n",
    "                        chunksize=100,\n",
    "                        passes=10,\n",
    "                        per_word_topics=True,\n",
    "                        alpha = 0.9,\n",
    "                        eta = 0.3)"
   ]
  },
  {
   "cell_type": "code",
   "execution_count": 21,
   "metadata": {},
   "outputs": [
    {
     "name": "stdout",
     "output_type": "stream",
     "text": [
      "\n",
      "Perplexidade:  -7.069210172304155\n"
     ]
    }
   ],
   "source": [
    "# Computar a perplexidade do modelo (quanto menor, melhor)\n",
    "\n",
    "print('\\nPerplexidade: ', lda_model.log_perplexity(corpus))"
   ]
  },
  {
   "cell_type": "code",
   "execution_count": 22,
   "metadata": {},
   "outputs": [
    {
     "name": "stdout",
     "output_type": "stream",
     "text": [
      "\n",
      "Score de Coerência:  0.3434869333748393\n"
     ]
    }
   ],
   "source": [
    "# Computar o Score de Coerência\n",
    "\n",
    "coherence_model_lda = CoherenceModel(model=lda_model, texts=texto, dictionary=id2word, coherence='c_v')\n",
    "coherence_lda = coherence_model_lda.get_coherence()\n",
    "print('\\nScore de Coerência: ', coherence_lda)"
   ]
  },
  {
   "cell_type": "code",
   "execution_count": 23,
   "metadata": {},
   "outputs": [
    {
     "data": {
      "text/html": [
       "\n",
       "<link rel=\"stylesheet\" type=\"text/css\" href=\"https://cdn.rawgit.com/bmabey/pyLDAvis/files/ldavis.v1.0.0.css\">\n",
       "\n",
       "\n",
       "<div id=\"ldavis_el209202447447881416848765560\"></div>\n",
       "<script type=\"text/javascript\">\n",
       "\n",
       "var ldavis_el209202447447881416848765560_data = {\"mdsDat\": {\"x\": [-0.26818008849233116, -0.110465424388608, 0.3786455128809392], \"y\": [0.28004050257842694, -0.37034004494023376, 0.09029954236180657], \"topics\": [1, 2, 3], \"cluster\": [1, 1, 1], \"Freq\": [34.687557220458984, 34.03868865966797, 31.273757934570312]}, \"tinfo\": {\"Term\": [\"\", \"casa\", \"bolsonaro\", \"presidente\", \"pandemia\", \"gente\", \"agora\", \"nem\", \"quando\", \"passar\", \"mundo\", \"coronga\", \"muito\", \"brasil\", \"nada\", \"sair\", \"mae\", \"ir\", \"acabar\", \"coisa\", \"contra\", \"deus\", \"pegar\", \"depois\", \"sim\", \"vida\", \"povo\", \"tempo\", \"governo\", \"familia\", \"pandemia\", \"gente\", \"muito\", \"deus\", \"depois\", \"sim\", \"tempo\", \"alguem\", \"saude\", \"tedio\", \"bom\", \"momento\", \"tambem\", \"meio\", \"vez\", \"ninguem\", \"fav\", \"morrer\", \"ano\", \"crise\", \"amor\", \"qual\", \"pois\", \"poder\", \"cada\", \"galera\", \"grupo\", \"postar\", \"diario\", \"tweet\", \"saber\", \"bolsonaro\", \"presidente\", \"quando\", \"passar\", \"mundo\", \"brasil\", \"acabar\", \"contra\", \"coisa\", \"povo\", \"governo\", \"familia\", \"falar\", \"merda\", \"menos\", \"melhor\", \"pessoa\", \"cabelo\", \"eduardo\", \"logo\", \"hora\", \"favor\", \"comigo\", \"maior\", \"cabeca\", \"mal\", \"jogar\", \"gosto\", \"sempre\", \"filho\", \"fim\", \"\", \"casa\", \"agora\", \"nem\", \"coronga\", \"sair\", \"mae\", \"nada\", \"ir\", \"pegar\", \"vida\", \"pai\", \"nunca\", \"medo\", \"novo\", \"primeiro\", \"quarto\", \"tava\", \"tanto\", \"trabalho\", \"caso\", \"alcool\", \"matar\", \"semana\", \"tomar\", \"video\", \"cu\", \"demais\", \"trabalhar\", \"comer\"], \"Freq\": [17763.0, 12893.0, 11757.0, 9818.0, 8596.0, 7717.0, 6323.0, 6184.0, 5513.0, 5393.0, 5313.0, 4925.0, 4985.0, 4787.0, 4196.0, 4167.0, 3986.0, 3271.0, 3502.0, 3447.0, 3356.0, 3325.0, 2962.0, 3214.0, 3148.0, 2812.0, 2946.0, 2912.0, 2612.0, 2611.0, 8595.814453125, 7716.72412109375, 4984.9736328125, 3324.6904296875, 3214.112060546875, 3147.79931640625, 2912.084716796875, 2538.1953125, 2364.189208984375, 1998.7701416015625, 1997.9991455078125, 1986.86572265625, 1864.79638671875, 1800.781005859375, 1724.26123046875, 1685.800048828125, 1525.0377197265625, 1582.5218505859375, 1478.2392578125, 1519.6573486328125, 1478.5753173828125, 1388.337646484375, 1435.5926513671875, 1421.5687255859375, 1339.9652099609375, 1333.2818603515625, 1323.9556884765625, 1202.1585693359375, 1224.3177490234375, 1141.68359375, 1198.054931640625, 11757.1201171875, 9818.1796875, 5512.58154296875, 5393.18994140625, 5313.1259765625, 4787.2021484375, 3502.187255859375, 3356.203857421875, 3446.51171875, 2945.470947265625, 2612.3583984375, 2611.111328125, 2474.149169921875, 2396.84375, 2283.5927734375, 2192.151123046875, 2171.704345703125, 1784.285888671875, 1656.5489501953125, 1659.8114013671875, 1625.0208740234375, 1579.8079833984375, 1449.06689453125, 1358.925537109375, 1369.7520751953125, 1353.6275634765625, 1344.11572265625, 1272.6409912109375, 1297.8870849609375, 1214.2242431640625, 1214.6292724609375, 17763.171875, 12893.224609375, 6323.2529296875, 6184.1318359375, 4924.9091796875, 4167.33251953125, 3985.902099609375, 4195.6767578125, 3271.1025390625, 2961.7861328125, 2812.16796875, 2403.734619140625, 2288.10107421875, 2161.146728515625, 2130.0185546875, 1924.0362548828125, 1886.2139892578125, 1944.9332275390625, 1884.4368896484375, 1615.4521484375, 1683.2899169921875, 1539.0018310546875, 1508.6993408203125, 1500.8486328125, 1484.734130859375, 1490.48876953125, 1339.741455078125, 1326.7840576171875, 1319.19384765625, 1193.739990234375], \"Total\": [17763.0, 12893.0, 11757.0, 9818.0, 8596.0, 7717.0, 6323.0, 6184.0, 5513.0, 5393.0, 5313.0, 4925.0, 4985.0, 4787.0, 4196.0, 4167.0, 3986.0, 3271.0, 3502.0, 3447.0, 3356.0, 3325.0, 2962.0, 3214.0, 3148.0, 2812.0, 2946.0, 2912.0, 2612.0, 2611.0, 8596.4638671875, 7717.3798828125, 4985.6376953125, 3325.345703125, 3214.77099609375, 3148.47216796875, 2912.73681640625, 2538.851806640625, 2364.83642578125, 1999.4178466796875, 1998.65771484375, 1987.538818359375, 1865.46044921875, 1801.4249267578125, 1724.9334716796875, 1686.4688720703125, 1525.662841796875, 1583.1820068359375, 1478.883056640625, 1520.32861328125, 1479.2447509765625, 1388.977783203125, 1436.2760009765625, 1422.2501220703125, 1340.6202392578125, 1333.939453125, 1324.6192626953125, 1202.7763671875, 1224.973388671875, 1142.296630859375, 1198.7197265625, 11757.7314453125, 9818.7939453125, 5513.23486328125, 5393.83837890625, 5313.78125, 4787.8291015625, 3502.82861328125, 3356.82763671875, 3447.161865234375, 2946.114501953125, 2612.98681640625, 2611.760986328125, 2474.79248046875, 2397.4892578125, 2284.2548828125, 2192.803955078125, 2172.36279296875, 1784.923583984375, 1657.1513671875, 1660.460693359375, 1625.6707763671875, 1580.4515380859375, 1449.722900390625, 1359.55322265625, 1370.3980712890625, 1354.266845703125, 1344.765625, 1273.2763671875, 1298.541748046875, 1214.8492431640625, 1215.2882080078125, 17763.796875, 12893.8837890625, 6323.9384765625, 6184.80859375, 4925.55615234375, 4167.9873046875, 3986.549560546875, 4196.3671875, 3271.7626953125, 2962.435791015625, 2812.853515625, 2404.393310546875, 2288.776123046875, 2161.812255859375, 2130.72265625, 1924.688232421875, 1886.8594970703125, 1945.601806640625, 1885.112060546875, 1616.142333984375, 1684.01806640625, 1539.6705322265625, 1509.35595703125, 1501.5172119140625, 1485.397216796875, 1491.1619873046875, 1340.3931884765625, 1327.451171875, 1319.864990234375, 1194.384521484375], \"Category\": [\"Default\", \"Default\", \"Default\", \"Default\", \"Default\", \"Default\", \"Default\", \"Default\", \"Default\", \"Default\", \"Default\", \"Default\", \"Default\", \"Default\", \"Default\", \"Default\", \"Default\", \"Default\", \"Default\", \"Default\", \"Default\", \"Default\", \"Default\", \"Default\", \"Default\", \"Default\", \"Default\", \"Default\", \"Default\", \"Default\", \"Topic1\", \"Topic1\", \"Topic1\", \"Topic1\", \"Topic1\", \"Topic1\", \"Topic1\", \"Topic1\", \"Topic1\", \"Topic1\", \"Topic1\", \"Topic1\", \"Topic1\", \"Topic1\", \"Topic1\", \"Topic1\", \"Topic1\", \"Topic1\", \"Topic1\", \"Topic1\", \"Topic1\", \"Topic1\", \"Topic1\", \"Topic1\", \"Topic1\", \"Topic1\", \"Topic1\", \"Topic1\", \"Topic1\", \"Topic1\", \"Topic1\", \"Topic2\", \"Topic2\", \"Topic2\", \"Topic2\", \"Topic2\", \"Topic2\", \"Topic2\", \"Topic2\", \"Topic2\", \"Topic2\", \"Topic2\", \"Topic2\", \"Topic2\", \"Topic2\", \"Topic2\", \"Topic2\", \"Topic2\", \"Topic2\", \"Topic2\", \"Topic2\", \"Topic2\", \"Topic2\", \"Topic2\", \"Topic2\", \"Topic2\", \"Topic2\", \"Topic2\", \"Topic2\", \"Topic2\", \"Topic2\", \"Topic2\", \"Topic3\", \"Topic3\", \"Topic3\", \"Topic3\", \"Topic3\", \"Topic3\", \"Topic3\", \"Topic3\", \"Topic3\", \"Topic3\", \"Topic3\", \"Topic3\", \"Topic3\", \"Topic3\", \"Topic3\", \"Topic3\", \"Topic3\", \"Topic3\", \"Topic3\", \"Topic3\", \"Topic3\", \"Topic3\", \"Topic3\", \"Topic3\", \"Topic3\", \"Topic3\", \"Topic3\", \"Topic3\", \"Topic3\", \"Topic3\"], \"logprob\": [30.0, 29.0, 28.0, 27.0, 26.0, 25.0, 24.0, 23.0, 22.0, 21.0, 20.0, 19.0, 18.0, 17.0, 16.0, 15.0, 14.0, 13.0, 12.0, 11.0, 10.0, 9.0, 8.0, 7.0, 6.0, 5.0, 4.0, 3.0, 2.0, 1.0, -3.360300064086914, -3.4681999683380127, -3.905100107192993, -4.310200214385986, -4.343999862670898, -4.3649001121521, -4.442699909210205, -4.580100059509277, -4.651100158691406, -4.818999767303467, -4.819399833679199, -4.824999809265137, -4.888400077819824, -4.923399925231934, -4.966800212860107, -4.989299774169922, -5.089600086212158, -5.052599906921387, -5.120699882507324, -5.093100070953369, -5.120500087738037, -5.183499813079834, -5.150000095367432, -5.159800052642822, -5.218900203704834, -5.223899841308594, -5.230999946594238, -5.327499866485596, -5.309199810028076, -5.3790998458862305, -5.330900192260742, -3.0281999111175537, -3.2084999084472656, -3.7857000827789307, -3.8076000213623047, -3.822499990463257, -3.9267001152038574, -4.239299774169922, -4.281899929046631, -4.255300045013428, -4.412399768829346, -4.532400131225586, -4.532899856567383, -4.5868000984191895, -4.618500232696533, -4.666900157928467, -4.707799911499023, -4.717199802398682, -4.913700103759766, -4.98799991607666, -4.986000061035156, -5.007199764251709, -5.035399913787842, -5.121799945831299, -5.185999870300293, -5.178100109100342, -5.189899921417236, -5.197000026702881, -5.2515997886657715, -5.23199987411499, -5.298600196838379, -5.298299789428711, -2.5308001041412354, -2.851300001144409, -3.563699960708618, -3.5859999656677246, -3.813699960708618, -3.9807000160217285, -4.025199890136719, -3.973900079727173, -4.222799777984619, -4.322199821472168, -4.374000072479248, -4.530900001525879, -4.5802001953125, -4.63730001449585, -4.651800155639648, -4.753499984741211, -4.773399829864502, -4.742700099945068, -4.7743000984191895, -4.928400039672852, -4.887199878692627, -4.976799964904785, -4.996699810028076, -5.0019001960754395, -5.012700080871582, -5.008900165557861, -5.115499973297119, -5.125199794769287, -5.13100004196167, -5.230899810791016], \"loglift\": [30.0, 29.0, 28.0, 27.0, 26.0, 25.0, 24.0, 23.0, 22.0, 21.0, 20.0, 19.0, 18.0, 17.0, 16.0, 15.0, 14.0, 13.0, 12.0, 11.0, 10.0, 9.0, 8.0, 7.0, 6.0, 5.0, 4.0, 3.0, 2.0, 1.0, 1.0586999654769897, 1.0586999654769897, 1.0586999654769897, 1.0585999488830566, 1.0585999488830566, 1.0585999488830566, 1.0585999488830566, 1.058500051498413, 1.058500051498413, 1.058500051498413, 1.058500051498413, 1.058500051498413, 1.05840003490448, 1.05840003490448, 1.05840003490448, 1.05840003490448, 1.05840003490448, 1.05840003490448, 1.05840003490448, 1.0583000183105469, 1.0583000183105469, 1.0583000183105469, 1.0583000183105469, 1.0583000183105469, 1.0583000183105469, 1.0583000183105469, 1.0583000183105469, 1.0583000183105469, 1.0583000183105469, 1.0583000183105469, 1.0582000017166138, 1.0776000022888184, 1.0776000022888184, 1.0776000022888184, 1.0776000022888184, 1.0774999856948853, 1.0774999856948853, 1.0774999856948853, 1.0774999856948853, 1.0774999856948853, 1.0774999856948853, 1.0773999691009521, 1.0773999691009521, 1.0773999691009521, 1.0773999691009521, 1.0773999691009521, 1.0773999691009521, 1.0773999691009521, 1.077299952507019, 1.077299952507019, 1.077299952507019, 1.077299952507019, 1.077299952507019, 1.0772000551223755, 1.0772000551223755, 1.0772000551223755, 1.0772000551223755, 1.0772000551223755, 1.0772000551223755, 1.0772000551223755, 1.0772000551223755, 1.0771000385284424, 1.1624000072479248, 1.1622999906539917, 1.1622999906539917, 1.1622999906539917, 1.1622999906539917, 1.1621999740600586, 1.1621999740600586, 1.1621999740600586, 1.1621999740600586, 1.1621999740600586, 1.1620999574661255, 1.1620999574661255, 1.1620999574661255, 1.1620999574661255, 1.1620999574661255, 1.1620999574661255, 1.1619999408721924, 1.1619999408721924, 1.1619999408721924, 1.1619999408721924, 1.1619999408721924, 1.1619999408721924, 1.1619999408721924, 1.1619000434875488, 1.1619000434875488, 1.1619000434875488, 1.1619000434875488, 1.1619000434875488, 1.1619000434875488, 1.1619000434875488]}, \"token.table\": {\"Topic\": [3, 2, 3, 3, 1, 1, 1, 2, 1, 2, 2, 2, 1, 3, 3, 2, 3, 2, 2, 3, 1, 3, 3, 1, 1, 1, 2, 2, 2, 1, 2, 2, 2, 1, 1, 2, 2, 1, 2, 3, 2, 2, 3, 2, 2, 3, 3, 1, 2, 2, 2, 1, 1, 1, 2, 3, 3, 1, 3, 3, 3, 1, 2, 3, 2, 1, 1, 1, 2, 2, 3, 1, 2, 3, 1, 3, 1, 3, 2, 1, 1, 3, 3, 1, 1, 3, 3, 3, 1, 1, 3, 3], \"Freq\": [0.9999551177024841, 0.9997634291648865, 0.9998515844345093, 0.9995644688606262, 0.9996644854545593, 0.9998345375061035, 0.9994028806686401, 0.9999377727508545, 0.9996709227561951, 0.9998268485069275, 0.9997095465660095, 0.9994825720787048, 0.9995373487472534, 0.9999314546585083, 0.9993954300880432, 0.999953031539917, 0.9996780753135681, 0.9995013475418091, 0.999753475189209, 0.9998871088027954, 0.9997838735580444, 0.9997066855430603, 0.9996601343154907, 0.9997601509094238, 0.9998960494995117, 0.9992053508758545, 0.9999086856842041, 0.9996798038482666, 0.9997086524963379, 0.9995655417442322, 0.9997143149375916, 0.9993009567260742, 0.9997628331184387, 0.999295711517334, 0.9999507665634155, 0.999782919883728, 0.9996223449707031, 0.9995325207710266, 0.99958735704422, 0.9997668862342834, 0.9994306564331055, 0.9997225403785706, 0.9998621344566345, 0.9995930790901184, 0.9998029470443726, 0.9997641444206238, 0.9996242523193359, 0.9997641444206238, 0.9996333718299866, 0.9998884201049805, 0.9997959136962891, 0.9997289180755615, 0.9998850226402283, 0.999872088432312, 0.9998529553413391, 0.9999125003814697, 0.9998692870140076, 0.9997220039367676, 0.999660849571228, 0.9996609091758728, 0.9998364448547363, 0.9999460577964783, 0.9998445510864258, 0.9998528957366943, 0.9998329877853394, 0.9998241066932678, 0.9998078346252441, 0.9993545413017273, 0.9996216893196106, 0.9999191164970398, 0.9996424317359924, 0.9992960691452026, 0.9999573826789856, 0.9995445013046265, 0.9993996024131775, 0.9997631311416626, 0.9996463060379028, 0.999655544757843, 0.999582827091217, 0.9998500347137451, 0.9997531771659851, 0.999410092830658, 0.9996907114982605, 0.9997910261154175, 0.9997470378875732, 0.9997326135635376, 0.9993446469306946, 0.9992931485176086, 0.9997403025627136, 0.9994588494300842, 0.9996965527534485, 0.9992207288742065], \"Term\": [\"\", \"acabar\", \"agora\", \"alcool\", \"alguem\", \"amor\", \"ano\", \"bolsonaro\", \"bom\", \"brasil\", \"cabeca\", \"cabelo\", \"cada\", \"casa\", \"caso\", \"coisa\", \"comer\", \"comigo\", \"contra\", \"coronga\", \"crise\", \"cu\", \"demais\", \"depois\", \"deus\", \"diario\", \"eduardo\", \"falar\", \"familia\", \"fav\", \"favor\", \"filho\", \"fim\", \"galera\", \"gente\", \"gosto\", \"governo\", \"grupo\", \"hora\", \"ir\", \"jogar\", \"logo\", \"mae\", \"maior\", \"mal\", \"matar\", \"medo\", \"meio\", \"melhor\", \"menos\", \"merda\", \"momento\", \"morrer\", \"muito\", \"mundo\", \"nada\", \"nem\", \"ninguem\", \"novo\", \"nunca\", \"pai\", \"pandemia\", \"passar\", \"pegar\", \"pessoa\", \"poder\", \"pois\", \"postar\", \"povo\", \"presidente\", \"primeiro\", \"qual\", \"quando\", \"quarto\", \"saber\", \"sair\", \"saude\", \"semana\", \"sempre\", \"sim\", \"tambem\", \"tanto\", \"tava\", \"tedio\", \"tempo\", \"tomar\", \"trabalhar\", \"trabalho\", \"tweet\", \"vez\", \"vida\", \"video\"]}, \"R\": 30, \"lambda.step\": 0.01, \"plot.opts\": {\"xlab\": \"PC1\", \"ylab\": \"PC2\"}, \"topic.order\": [3, 2, 1]};\n",
       "\n",
       "function LDAvis_load_lib(url, callback){\n",
       "  var s = document.createElement('script');\n",
       "  s.src = url;\n",
       "  s.async = true;\n",
       "  s.onreadystatechange = s.onload = callback;\n",
       "  s.onerror = function(){console.warn(\"failed to load library \" + url);};\n",
       "  document.getElementsByTagName(\"head\")[0].appendChild(s);\n",
       "}\n",
       "\n",
       "if(typeof(LDAvis) !== \"undefined\"){\n",
       "   // already loaded: just create the visualization\n",
       "   !function(LDAvis){\n",
       "       new LDAvis(\"#\" + \"ldavis_el209202447447881416848765560\", ldavis_el209202447447881416848765560_data);\n",
       "   }(LDAvis);\n",
       "}else if(typeof define === \"function\" && define.amd){\n",
       "   // require.js is available: use it to load d3/LDAvis\n",
       "   require.config({paths: {d3: \"https://cdnjs.cloudflare.com/ajax/libs/d3/3.5.5/d3.min\"}});\n",
       "   require([\"d3\"], function(d3){\n",
       "      window.d3 = d3;\n",
       "      LDAvis_load_lib(\"https://cdn.rawgit.com/bmabey/pyLDAvis/files/ldavis.v1.0.0.js\", function(){\n",
       "        new LDAvis(\"#\" + \"ldavis_el209202447447881416848765560\", ldavis_el209202447447881416848765560_data);\n",
       "      });\n",
       "    });\n",
       "}else{\n",
       "    // require.js not available: dynamically load d3 & LDAvis\n",
       "    LDAvis_load_lib(\"https://cdnjs.cloudflare.com/ajax/libs/d3/3.5.5/d3.min.js\", function(){\n",
       "         LDAvis_load_lib(\"https://cdn.rawgit.com/bmabey/pyLDAvis/files/ldavis.v1.0.0.js\", function(){\n",
       "                 new LDAvis(\"#\" + \"ldavis_el209202447447881416848765560\", ldavis_el209202447447881416848765560_data);\n",
       "            })\n",
       "         });\n",
       "}\n",
       "</script>"
      ],
      "text/plain": [
       "PreparedData(topic_coordinates=              x         y  topics  cluster       Freq\n",
       "topic                                                \n",
       "2     -0.268180  0.280041       1        1  34.687557\n",
       "1     -0.110465 -0.370340       2        1  34.038689\n",
       "0      0.378646  0.090300       3        1  31.273758, topic_info=           Term          Freq         Total Category  logprob  loglift\n",
       "7                17763.000000  17763.000000  Default  30.0000  30.0000\n",
       "61         casa  12893.000000  12893.000000  Default  29.0000  29.0000\n",
       "2     bolsonaro  11757.000000  11757.000000  Default  28.0000  28.0000\n",
       "70   presidente   9818.000000   9818.000000  Default  27.0000  27.0000\n",
       "17     pandemia   8596.000000   8596.000000  Default  26.0000  26.0000\n",
       "..          ...           ...           ...      ...      ...      ...\n",
       "200       video   1490.488770   1491.161987   Topic3  -5.0089   1.1619\n",
       "141          cu   1339.741455   1340.393188   Topic3  -5.1155   1.1619\n",
       "709      demais   1326.784058   1327.451172   Topic3  -5.1252   1.1619\n",
       "114   trabalhar   1319.193848   1319.864990   Topic3  -5.1310   1.1619\n",
       "611       comer   1193.739990   1194.384521   Topic3  -5.2309   1.1619\n",
       "\n",
       "[122 rows x 6 columns], token_table=      Topic      Freq      Term\n",
       "term                           \n",
       "7         3  0.999955          \n",
       "321       2  0.999763    acabar\n",
       "96        3  0.999852     agora\n",
       "643       3  0.999564    alcool\n",
       "105       1  0.999664    alguem\n",
       "...     ...       ...       ...\n",
       "81        3  0.999293  trabalho\n",
       "54        1  0.999740     tweet\n",
       "128       1  0.999459       vez\n",
       "168       3  0.999697      vida\n",
       "200       3  0.999221     video\n",
       "\n",
       "[92 rows x 3 columns], R=30, lambda_step=0.01, plot_opts={'xlab': 'PC1', 'ylab': 'PC2'}, topic_order=[3, 2, 1])"
      ]
     },
     "execution_count": 23,
     "metadata": {},
     "output_type": "execute_result"
    }
   ],
   "source": [
    "# Visualização dos tópicos em clusters\n",
    "\n",
    "pyLDAvis.enable_notebook()\n",
    "vis = pyLDAvis.gensim.prepare(lda_model, corpus, id2word)\n",
    "vis"
   ]
  },
  {
   "cell_type": "code",
   "execution_count": 24,
   "metadata": {},
   "outputs": [],
   "source": [
    "# Função para determinar a melhor quantidade de tópicos para a modelagem\n",
    "\n",
    "def compute_coherence_values(dictionary, corpus, texts, limit, start=2, step=5):\n",
    "    coherence_values = []\n",
    "    model_list = []\n",
    "    for num_topics in tqdm(range(start, limit, step)):\n",
    "        model = LdaMulticore(corpus, id2word=id2word, num_topics=3)\n",
    "        model_list.append(model)\n",
    "        coherencemodel = CoherenceModel(model=model, texts=texts, dictionary=dictionary, coherence='c_v')\n",
    "        coherence_values.append(coherencemodel.get_coherence())\n",
    "\n",
    "    return model_list, coherence_values"
   ]
  },
  {
   "cell_type": "code",
   "execution_count": 25,
   "metadata": {},
   "outputs": [
    {
     "name": "stderr",
     "output_type": "stream",
     "text": [
      "100%|███████████████████████████████████████████████████████████████████████████████████| 1/1 [03:14<00:00, 194.07s/it]\n"
     ]
    }
   ],
   "source": [
    "# Colocando parametros na função\n",
    "\n",
    "model_list, coherence_values = compute_coherence_values(dictionary=id2word, corpus=corpus, texts=texto, start=2, limit=4, step=2)"
   ]
  },
  {
   "cell_type": "code",
   "execution_count": 26,
   "metadata": {},
   "outputs": [
    {
     "data": {
      "text/plain": [
       "[(0,\n",
       "  '0.040*\"bolsonaro\" + 0.034*\"presidente\" + 0.016*\"brasil\" + 0.015*\"mundo\" + 0.015*\"pandemia\" + 0.011*\"depois\" + 0.009*\"governo\" + 0.008*\"contra\" + 0.008*\"povo\" + 0.008*\"passar\" + 0.007*\"saude\" + 0.007*\"vida\" + 0.007*\"primeiro\" + 0.007*\"gente\" + 0.006*\"sim\" + 0.006*\"merda\" + 0.006*\"caso\" + 0.006*\"tambem\" + 0.006*\"melhor\" + 0.006*\"eduardo\"'),\n",
       " (1,\n",
       "  '0.045*\"casa\" + 0.020*\"gente\" + 0.019*\"coronga\" + 0.017*\"pandemia\" + 0.015*\"sair\" + 0.011*\"muito\" + 0.011*\"pegar\" + 0.009*\"alguem\" + 0.009*\"coisa\" + 0.009*\"nem\" + 0.008*\"quando\" + 0.008*\"pai\" + 0.007*\"mae\" + 0.007*\"acabar\" + 0.007*\"deus\" + 0.007*\"tedio\" + 0.006*\"tava\" + 0.006*\"fav\" + 0.006*\"morrer\" + 0.006*\"familia\"'),\n",
       " (2,\n",
       "  '0.102*\"\" + 0.030*\"agora\" + 0.021*\"nada\" + 0.015*\"nem\" + 0.014*\"quando\" + 0.013*\"ir\" + 0.011*\"mae\" + 0.010*\"quarto\" + 0.009*\"passar\" + 0.009*\"cabelo\" + 0.009*\"medo\" + 0.007*\"acabar\" + 0.007*\"casa\" + 0.006*\"voltar\" + 0.006*\"jogar\" + 0.006*\"comigo\" + 0.006*\"gosto\" + 0.006*\"ninguem\" + 0.006*\"cabeca\" + 0.005*\"nunca\"')]"
      ]
     },
     "execution_count": 26,
     "metadata": {},
     "output_type": "execute_result"
    }
   ],
   "source": [
    "# Escolhe o modelo\n",
    "\n",
    "optimal_model = model_list[0]\n",
    "optimal_model.print_topics(num_topics = 3, num_words = 20)"
   ]
  },
  {
   "cell_type": "code",
   "execution_count": 27,
   "metadata": {},
   "outputs": [],
   "source": [
    "# Encontrar qual o principal tópico em cada tweet\n",
    "\n",
    "def format_topics_sentences(ldamodel=lda_model, corpus=corpus, texts=texto):\n",
    "    # Output\n",
    "    sent_topics_df = pd.DataFrame()\n",
    "\n",
    "    # Seleciona o principal tópico de cada tweet\n",
    "    for i, row in enumerate(ldamodel[corpus]):\n",
    "        row = sorted(row, key=lambda x: (x[1]), reverse=True)\n",
    "        # Calcula o principal tópico, o percentual de contribuição e as palavras chaves de cada tweet\n",
    "        for j, (topic_num, prop_topic) in enumerate(row):\n",
    "            if j == 0:  # => mostra o principal tópico\n",
    "                wp = ldamodel.show_topic(topic_num)\n",
    "                topic_keywords = \", \".join([word for word, prop in wp])\n",
    "                sent_topics_df = sent_topics_df.append(pd.Series([int(topic_num), round(prop_topic,4), topic_keywords]), ignore_index=True)\n",
    "            else:\n",
    "                break\n",
    "    sent_topics_df.columns = ['Principal_Topico', 'Perc_Contributicao', 'Palavras_Chave']\n",
    "\n",
    "    # Inclui o texto original no final do DataFrame\n",
    "    contents = pd.Series(texts)\n",
    "    sent_topics_df = pd.concat([sent_topics_df, contents], axis=1)\n",
    "    return(sent_topics_df)"
   ]
  },
  {
   "cell_type": "code",
   "execution_count": 29,
   "metadata": {},
   "outputs": [],
   "source": [
    "# roda a função de calcular os principais tópicos de cada tweet\n",
    "\n",
    "df_topic_sents_keywords = format_topics_sentences(ldamodel=optimal_model, corpus=corpus, texts=texto)"
   ]
  },
  {
   "cell_type": "code",
   "execution_count": 30,
   "metadata": {},
   "outputs": [],
   "source": [
    "# Formata o DataFrame\n",
    "\n",
    "df_dominant_topic = df_topic_sents_keywords.reset_index()\n",
    "df_dominant_topic.columns = ['Index_DF_Original', 'Principal_Topico', 'Perc_Contrib_Topico', 'Palavras_Chave', 'Tweets']"
   ]
  },
  {
   "cell_type": "code",
   "execution_count": 31,
   "metadata": {
    "scrolled": true
   },
   "outputs": [
    {
     "data": {
      "text/html": [
       "<div>\n",
       "<style scoped>\n",
       "    .dataframe tbody tr th:only-of-type {\n",
       "        vertical-align: middle;\n",
       "    }\n",
       "\n",
       "    .dataframe tbody tr th {\n",
       "        vertical-align: top;\n",
       "    }\n",
       "\n",
       "    .dataframe thead th {\n",
       "        text-align: right;\n",
       "    }\n",
       "</style>\n",
       "<table border=\"1\" class=\"dataframe\">\n",
       "  <thead>\n",
       "    <tr style=\"text-align: right;\">\n",
       "      <th></th>\n",
       "      <th>Topico</th>\n",
       "      <th>Topico_Perc_Contrib</th>\n",
       "      <th>Palavras_Chave</th>\n",
       "      <th>Tweet</th>\n",
       "    </tr>\n",
       "  </thead>\n",
       "  <tbody>\n",
       "    <tr>\n",
       "      <th>0</th>\n",
       "      <td>0.0</td>\n",
       "      <td>0.9608</td>\n",
       "      <td>bolsonaro, presidente, brasil, mundo, pandemia...</td>\n",
       "      <td>[decreto, usar, esquerdopatas, congresso, econ...</td>\n",
       "    </tr>\n",
       "    <tr>\n",
       "      <th>1</th>\n",
       "      <td>1.0</td>\n",
       "      <td>0.9587</td>\n",
       "      <td>casa, gente, coronga, pandemia, sair, muito, p...</td>\n",
       "      <td>[tomar, poder, galera, delicado, ponto, ouvir,...</td>\n",
       "    </tr>\n",
       "    <tr>\n",
       "      <th>2</th>\n",
       "      <td>2.0</td>\n",
       "      <td>0.9503</td>\n",
       "      <td>, agora, nada, nem, quando, ir, mae, quarto, p...</td>\n",
       "      <td>[bronquite, saudavel, alergia, rinite, calor, ...</td>\n",
       "    </tr>\n",
       "  </tbody>\n",
       "</table>\n",
       "</div>"
      ],
      "text/plain": [
       "   Topico  Topico_Perc_Contrib  \\\n",
       "0     0.0               0.9608   \n",
       "1     1.0               0.9587   \n",
       "2     2.0               0.9503   \n",
       "\n",
       "                                      Palavras_Chave  \\\n",
       "0  bolsonaro, presidente, brasil, mundo, pandemia...   \n",
       "1  casa, gente, coronga, pandemia, sair, muito, p...   \n",
       "2  , agora, nada, nem, quando, ir, mae, quarto, p...   \n",
       "\n",
       "                                               Tweet  \n",
       "0  [decreto, usar, esquerdopatas, congresso, econ...  \n",
       "1  [tomar, poder, galera, delicado, ponto, ouvir,...  \n",
       "2  [bronquite, saudavel, alergia, rinite, calor, ...  "
      ]
     },
     "execution_count": 31,
     "metadata": {},
     "output_type": "execute_result"
    }
   ],
   "source": [
    "# Group top 5 sentences under each topic\n",
    "sent_topics_sorteddf_mallet = pd.DataFrame()\n",
    "\n",
    "sent_topics_outdf_grpd = df_topic_sents_keywords.groupby('Principal_Topico')\n",
    "\n",
    "for i, grp in sent_topics_outdf_grpd:\n",
    "    sent_topics_sorteddf_mallet = pd.concat([sent_topics_sorteddf_mallet, \n",
    "                                             grp.sort_values(['Perc_Contributicao'], ascending=[0]).head(1)], \n",
    "                                            axis=0)\n",
    "\n",
    "# Reset Index    \n",
    "sent_topics_sorteddf_mallet.reset_index(drop=True, inplace=True)\n",
    "\n",
    "# Format\n",
    "sent_topics_sorteddf_mallet.columns = ['Topico', \"Topico_Perc_Contrib\", \"Palavras_Chave\", \"Tweet\"]\n",
    "\n",
    "# Show\n",
    "sent_topics_sorteddf_mallet"
   ]
  },
  {
   "cell_type": "code",
   "execution_count": 32,
   "metadata": {},
   "outputs": [
    {
     "data": {
      "text/html": [
       "<div>\n",
       "<style scoped>\n",
       "    .dataframe tbody tr th:only-of-type {\n",
       "        vertical-align: middle;\n",
       "    }\n",
       "\n",
       "    .dataframe tbody tr th {\n",
       "        vertical-align: top;\n",
       "    }\n",
       "\n",
       "    .dataframe thead th {\n",
       "        text-align: right;\n",
       "    }\n",
       "</style>\n",
       "<table border=\"1\" class=\"dataframe\">\n",
       "  <thead>\n",
       "    <tr style=\"text-align: right;\">\n",
       "      <th></th>\n",
       "      <th>Principal_Topico</th>\n",
       "      <th>Palavras_Chave</th>\n",
       "      <th>Qtd_Tweets</th>\n",
       "      <th>Perc_Tweets</th>\n",
       "    </tr>\n",
       "  </thead>\n",
       "  <tbody>\n",
       "    <tr>\n",
       "      <th>0.0</th>\n",
       "      <td>1.0</td>\n",
       "      <td>casa, gente, coronga, pandemia, sair, muito, p...</td>\n",
       "      <td>61892.0</td>\n",
       "      <td>0.3248</td>\n",
       "    </tr>\n",
       "    <tr>\n",
       "      <th>1.0</th>\n",
       "      <td>0.0</td>\n",
       "      <td>bolsonaro, presidente, brasil, mundo, pandemia...</td>\n",
       "      <td>69400.0</td>\n",
       "      <td>0.3642</td>\n",
       "    </tr>\n",
       "    <tr>\n",
       "      <th>2.0</th>\n",
       "      <td>1.0</td>\n",
       "      <td>casa, gente, coronga, pandemia, sair, muito, p...</td>\n",
       "      <td>59261.0</td>\n",
       "      <td>0.3110</td>\n",
       "    </tr>\n",
       "    <tr>\n",
       "      <th>3.0</th>\n",
       "      <td>2.0</td>\n",
       "      <td>, agora, nada, nem, quando, ir, mae, quarto, p...</td>\n",
       "      <td>NaN</td>\n",
       "      <td>NaN</td>\n",
       "    </tr>\n",
       "    <tr>\n",
       "      <th>4.0</th>\n",
       "      <td>2.0</td>\n",
       "      <td>, agora, nada, nem, quando, ir, mae, quarto, p...</td>\n",
       "      <td>NaN</td>\n",
       "      <td>NaN</td>\n",
       "    </tr>\n",
       "    <tr>\n",
       "      <th>...</th>\n",
       "      <td>...</td>\n",
       "      <td>...</td>\n",
       "      <td>...</td>\n",
       "      <td>...</td>\n",
       "    </tr>\n",
       "    <tr>\n",
       "      <th>190548.0</th>\n",
       "      <td>2.0</td>\n",
       "      <td>, agora, nada, nem, quando, ir, mae, quarto, p...</td>\n",
       "      <td>NaN</td>\n",
       "      <td>NaN</td>\n",
       "    </tr>\n",
       "    <tr>\n",
       "      <th>190549.0</th>\n",
       "      <td>1.0</td>\n",
       "      <td>casa, gente, coronga, pandemia, sair, muito, p...</td>\n",
       "      <td>NaN</td>\n",
       "      <td>NaN</td>\n",
       "    </tr>\n",
       "    <tr>\n",
       "      <th>190550.0</th>\n",
       "      <td>1.0</td>\n",
       "      <td>casa, gente, coronga, pandemia, sair, muito, p...</td>\n",
       "      <td>NaN</td>\n",
       "      <td>NaN</td>\n",
       "    </tr>\n",
       "    <tr>\n",
       "      <th>190551.0</th>\n",
       "      <td>0.0</td>\n",
       "      <td>bolsonaro, presidente, brasil, mundo, pandemia...</td>\n",
       "      <td>NaN</td>\n",
       "      <td>NaN</td>\n",
       "    </tr>\n",
       "    <tr>\n",
       "      <th>190552.0</th>\n",
       "      <td>2.0</td>\n",
       "      <td>, agora, nada, nem, quando, ir, mae, quarto, p...</td>\n",
       "      <td>NaN</td>\n",
       "      <td>NaN</td>\n",
       "    </tr>\n",
       "  </tbody>\n",
       "</table>\n",
       "<p>190553 rows × 4 columns</p>\n",
       "</div>"
      ],
      "text/plain": [
       "          Principal_Topico                                     Palavras_Chave  \\\n",
       "0.0                    1.0  casa, gente, coronga, pandemia, sair, muito, p...   \n",
       "1.0                    0.0  bolsonaro, presidente, brasil, mundo, pandemia...   \n",
       "2.0                    1.0  casa, gente, coronga, pandemia, sair, muito, p...   \n",
       "3.0                    2.0  , agora, nada, nem, quando, ir, mae, quarto, p...   \n",
       "4.0                    2.0  , agora, nada, nem, quando, ir, mae, quarto, p...   \n",
       "...                    ...                                                ...   \n",
       "190548.0               2.0  , agora, nada, nem, quando, ir, mae, quarto, p...   \n",
       "190549.0               1.0  casa, gente, coronga, pandemia, sair, muito, p...   \n",
       "190550.0               1.0  casa, gente, coronga, pandemia, sair, muito, p...   \n",
       "190551.0               0.0  bolsonaro, presidente, brasil, mundo, pandemia...   \n",
       "190552.0               2.0  , agora, nada, nem, quando, ir, mae, quarto, p...   \n",
       "\n",
       "          Qtd_Tweets  Perc_Tweets  \n",
       "0.0          61892.0       0.3248  \n",
       "1.0          69400.0       0.3642  \n",
       "2.0          59261.0       0.3110  \n",
       "3.0              NaN          NaN  \n",
       "4.0              NaN          NaN  \n",
       "...              ...          ...  \n",
       "190548.0         NaN          NaN  \n",
       "190549.0         NaN          NaN  \n",
       "190550.0         NaN          NaN  \n",
       "190551.0         NaN          NaN  \n",
       "190552.0         NaN          NaN  \n",
       "\n",
       "[190553 rows x 4 columns]"
      ]
     },
     "execution_count": 32,
     "metadata": {},
     "output_type": "execute_result"
    }
   ],
   "source": [
    "# Numero de tweets por topico\n",
    "\n",
    "topic_counts = df_topic_sents_keywords['Principal_Topico'].value_counts()\n",
    "\n",
    "# Porcentagem de tweets por tópico\n",
    "topic_contribution = round(topic_counts/topic_counts.sum(), 4)\n",
    "\n",
    "# Número do tópico e suas palavras chave\n",
    "topic_num_keywords = df_topic_sents_keywords[['Principal_Topico', 'Palavras_Chave']]\n",
    "\n",
    "# Concatena as colunas\n",
    "df_dominant_topics = pd.concat([topic_num_keywords, topic_counts, topic_contribution], axis=1)\n",
    "\n",
    "# Renomeia as colunas\n",
    "df_dominant_topics.columns = ['Principal_Topico', 'Palavras_Chave', 'Qtd_Tweets', 'Perc_Tweets']\n",
    "\n",
    "# Mostra o DataFrame\n",
    "df_dominant_topics"
   ]
  },
  {
   "cell_type": "code",
   "execution_count": 33,
   "metadata": {},
   "outputs": [],
   "source": [
    "# Criando stopwords em português utilizando a biblioteca nltk\n",
    "import pt_core_news_sm\n",
    "nlp = pt_core_news_sm.load()\n",
    "pt_stopwords = sorted([token.text for token in nlp.vocab if token.is_stop])\n",
    "list_exclude = ['obrigado', 'bom', 'mal', 'nenhuma', 'maior',\n",
    "             'bem', 'não', 'máximo', 'boa', 'mais',\n",
    "               'bastante', 'certamente', 'certeza', 'contra',\n",
    "                'quarentena', 'coronavírus', 'presidente', 'impeachment', 'demitido', 'demitida']\n",
    "for word in list_exclude:\n",
    "    nlp.vocab[word].is_stop = False\n",
    "list_include = set(['o', 'a', 'tá', 'ta', 'ser', 'pro', 'to', 'tô', 'vc', 'você', 'voce', 'pra',\n",
    "                    'pq', 'é', 'vou', 'que','tão', 'gt', 'de', 'da', 'do', 'em', 'uma', 'lá',\n",
    "                    'já', 'no', 'para', 'na', 'com', 'um', 'minha', 'se', 'isso', 'por', 'vou',\n",
    "                    'os', 'isso', 'como', 'mesmo', 'tenho', 'aqui', 'ele', 'ela', 'quem', 'fazer',\n",
    "                    'eu', 'só', 'ai', 'mais', 'só', 'querer', 'https', 'ter', 'estar', 'ficar',\n",
    "                    'dos', 'das', 'vcs', 'tem', 'as', 'mas','ao'\n",
    "                    'tava', 'nao', 'sao', 'ja', 'so', 'nossa',\n",
    "                    'nosso', 'estao', 'tco', 'me', 'dia', 'te', 'ver', 'sera', 'porra', 'fez', 'ne',\n",
    "                    'kkk','kkkkkk', 'puta', 'kkkkkkkk', 'hj', 'afff', 'gbr', 'meu', 'cara', 'guri', 'cmg',\n",
    "                    'ctg', 'agr', 'pqp', 'vdd', 'eh', 'va', 'obg',\n",
    "                    'corona','virus','coronavirus','covid','covid19','19'\n",
    "                   'nem', 'numa', 'num', 'nuns', 'ces', 'voces', 'oce', 'oces', 'kkkk', 'vao', 'via',\n",
    "                    'hj', 'hoje', 'tudo', 'todo', 'toda',\n",
    "                    'vir', 'bem','ao','sem','ou','vai', 'dizer', 'entao', 'dizer', 'entao',\n",
    "                    'tao', 'tu', 'mim', 'mano', 'oq', 'pos', 'dm', 'dps',\n",
    "                    'coronavirusoutbreak', 'coronavirusPandemic', 'dar', 'vairus',\n",
    "                    'ainda', 'assim']\n",
    "                  )\n",
    "for w in list_include:\n",
    "    nlp.vocab[w].is_stop = True\n",
    "stop_words = sorted([token.text for token in nlp.vocab if token.is_stop])"
   ]
  },
  {
   "cell_type": "code",
   "execution_count": 35,
   "metadata": {},
   "outputs": [
    {
     "data": {
      "image/png": "[encoded data removed]",
      "text/plain": [
       "<Figure size 720x720 with 3 Axes>"
      ]
     },
     "metadata": {
      "needs_background": "light"
     },
     "output_type": "display_data"
    }
   ],
   "source": [
    "# Cria wordclouds\n",
    "\n",
    "cols = [color for name, color in mcolors.XKCD_COLORS.items()]\n",
    "\n",
    "cloud = WordCloud(stopwords=stop_words,\n",
    "                  background_color='white',\n",
    "                  width=2500,\n",
    "                  height=1800,\n",
    "                  max_words=20,\n",
    "                  colormap='tab10',\n",
    "                  color_func=lambda *args, **kwargs: cols[i],\n",
    "                  prefer_horizontal=1.0)\n",
    "\n",
    "topics = lda_model.show_topics(formatted=False)\n",
    "\n",
    "fig, axes = plt.subplots(1, 3, figsize=(10,10), sharex=True, sharey=True)\n",
    "\n",
    "for i, ax in enumerate(axes.flatten()):\n",
    "    fig.add_subplot(ax)\n",
    "    topic_words = dict(topics[i][1])\n",
    "    cloud.generate_from_frequencies(topic_words, max_font_size=600)\n",
    "    plt.gca().imshow(cloud)\n",
    "    plt.gca().set_title('Topic ' + str(i), fontdict=dict(size=16))\n",
    "    plt.gca().axis('off')\n",
    "\n",
    "\n",
    "plt.subplots_adjust(wspace=0, hspace=0)\n",
    "plt.axis('off')\n",
    "plt.margins(x=0, y=0)\n",
    "plt.tight_layout()\n",
    "plt.show()"
   ]
  },
  {
   "cell_type": "code",
   "execution_count": 36,
   "metadata": {},
   "outputs": [],
   "source": [
    "sent_topics_sorteddf_mallet.to_excel('keywords_0326.xlsx')"
   ]
  },
  {
   "cell_type": "code",
   "execution_count": null,
   "metadata": {},
   "outputs": [],
   "source": []
  }
 ],
 "metadata": {
  "kernelspec": {
   "display_name": "Python 3",
   "language": "python",
   "name": "python3"
  },
  "language_info": {
   "codemirror_mode": {
    "name": "ipython",
    "version": 3
   },
   "file_extension": ".py",
   "mimetype": "text/x-python",
   "name": "python",
   "nbconvert_exporter": "python",
   "pygments_lexer": "ipython3",
   "version": "3.7.6"
  }
 },
 "nbformat": 4,
 "nbformat_minor": 1
}
