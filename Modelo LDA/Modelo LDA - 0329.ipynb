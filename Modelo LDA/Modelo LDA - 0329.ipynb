{
 "cells": [
  {
   "cell_type": "markdown",
   "metadata": {
    "collapsed": true
   },
   "source": [
    "Análise do dia 01/04 através do modelo LDA."
   ]
  },
  {
   "cell_type": "code",
   "execution_count": 1,
   "metadata": {},
   "outputs": [],
   "source": [
    "# Importar bibliotecas\n",
    "\n",
    "# gerais\n",
    "import sys\n",
    "import os\n",
    "from pathlib import Path\n",
    "import re\n",
    "import numpy as np\n",
    "import pandas as pd\n",
    "from pprint import pprint\n",
    "from tqdm import tqdm\n",
    "from ast import literal_eval\n",
    "\n",
    "# Gensim\n",
    "import gensim, spacy, logging, warnings\n",
    "import gensim.corpora as corpora\n",
    "from gensim.utils import lemmatize, simple_preprocess\n",
    "from gensim.models import CoherenceModel\n",
    "from gensim.models.ldamulticore import LdaMulticore\n",
    "\n",
    "# NLTK Stop words\n",
    "import nltk\n",
    "from nltk.corpus import stopwords\n",
    "\n",
    "#plot\n",
    "import pyLDAvis\n",
    "import pyLDAvis.gensim\n",
    "import matplotlib.pyplot as plt\n",
    "import matplotlib.colors as mcolors\n",
    "%matplotlib inline\n",
    "from wordcloud import WordCloud, STOPWORDS"
   ]
  },
  {
   "cell_type": "code",
   "execution_count": 2,
   "metadata": {},
   "outputs": [],
   "source": [
    "# Criando stopwords em português utilizando a biblioteca nltk\n",
    "\n",
    "nlp = spacy.load(\"pt_core_news_sm\")\n",
    "pt_stopwords = sorted([token.text for token in nlp.vocab if token.is_stop])\n",
    "list_exclude = ['obrigado', 'bom', 'mal', 'nenhuma', 'maior', \n",
    "             'bem', 'não', 'máximo', 'boa', 'mais',\n",
    "               'bastante', 'certamente', 'certeza', 'contra',\n",
    "                'quarentena', 'coronavírus', 'presidente', 'impeachment', 'demitido', 'demitida']\n",
    "for word in list_exclude:\n",
    "    nlp.vocab[word].is_stop = False\n",
    "list_include = set(['o', 'a', 'tá', 'ta', 'ser', 'pro', 'to', 'tô', 'vc', 'você', 'voce', 'pra',\n",
    "                    'pq', 'é', 'vou', 'que','tão', 'gt', 'de', 'da', 'do', 'em', 'uma', 'lá',\n",
    "                    'já', 'no', 'para', 'na', 'com', 'um', 'minha', 'se', 'isso', 'por', 'vou',\n",
    "                    'os', 'isso', 'como', 'mesmo', 'tenho', 'aqui', 'ele', 'ela', 'quem', 'fazer',\n",
    "                    'eu', 'só', 'ai', 'mais', 'só', 'querer', 'https', 'ter', 'estar', 'ficar',\n",
    "                    'dos', 'das', 'vcs', 'jairbolsonaro', 'tava', 'nao', 'sao', 'ja', 'so', 'nossa',\n",
    "                    'nosso', 'estao', 'tco', 'me', 'dia', 'te', 'ver', 'sera', 'porra', 'fez', 'ne',\n",
    "                    'kkkkkk', 'puta', 'kkkkkkkk', 'hj', 'afff', 'gbr', 'meu', 'cara', 'guri', 'cmg',\n",
    "                    'ctg', 'agr', 'pqp', 'vdd', 'eh', 'va', 'fudeu', 'fuder', 'fodeu', 'foda', 'obg',\n",
    "                   'nem', 'numa', 'num', 'nuns', 'ces', 'voces', 'oce', 'oces', 'kkkk', 'vao', 'via',\n",
    "                    'hj', 'hoje', 'tudo', 'todo', 'toda', 'ir', 'vir', 'bem', 'sair', 'tao']\n",
    "                  )\n",
    "for w in list_include:\n",
    "    nlp.vocab[w].is_stop = True\n",
    "stop_words = sorted([token.text for token in nlp.vocab if token.is_stop])"
   ]
  },
  {
   "cell_type": "markdown",
   "metadata": {},
   "source": [
    "# Preparação dos dados"
   ]
  },
  {
   "cell_type": "code",
   "execution_count": 3,
   "metadata": {},
   "outputs": [],
   "source": [
    "# import dos dados\n",
    "\n",
    "df = pd.read_csv('0329_preprocessado.csv')"
   ]
  },
  {
   "cell_type": "code",
   "execution_count": 4,
   "metadata": {},
   "outputs": [],
   "source": [
    "# import dos tokens\n",
    "\n",
    "df_tokens = pd.read_csv('tokens_unicos_10k.csv')"
   ]
  },
  {
   "cell_type": "code",
   "execution_count": 5,
   "metadata": {},
   "outputs": [],
   "source": [
    "# criação de lista de tokens\n",
    "\n",
    "lista_token = []\n",
    "\n",
    "for row in range(0, len(df_tokens)):\n",
    "    lista_token.append(df_tokens.iloc[row,1])\n",
    "    \n",
    "lista_token = set(lista_token)"
   ]
  },
  {
   "cell_type": "code",
   "execution_count": 6,
   "metadata": {},
   "outputs": [],
   "source": [
    "# filtranso os tokens para aparecer apenas os 10 mil mais frequentes\n",
    "\n",
    "df['token2'] = df.token.apply(lambda x: str(list(set(literal_eval(x)).intersection(lista_token))))"
   ]
  },
  {
   "cell_type": "code",
   "execution_count": 7,
   "metadata": {},
   "outputs": [],
   "source": [
    "# função para reverter os tokens processados em lista de tuples\n",
    "\n",
    "def strip_characters(text):\n",
    "    t = re.sub(r'\\(|\\)|:|,|;|\\.|’|”|“|\\?|%|>|<|\\[|\\]', '', text)\n",
    "    t = re.sub(r'/', ' ', t)\n",
    "    t = t.replace(\"'\",'')\n",
    "    return t"
   ]
  },
  {
   "cell_type": "code",
   "execution_count": 8,
   "metadata": {},
   "outputs": [],
   "source": [
    "# aplica função em todos os tokens\n",
    "\n",
    "df['token2'] = df['token2'].apply(lambda x: strip_characters(x))\n",
    "df['token2'] = df['token2'].apply(lambda x: str(x).split(' '))"
   ]
  },
  {
   "cell_type": "code",
   "execution_count": 9,
   "metadata": {},
   "outputs": [],
   "source": [
    "# transforma os tokens em lista\n",
    "\n",
    "lista = list(df['token2'])"
   ]
  },
  {
   "cell_type": "code",
   "execution_count": 10,
   "metadata": {},
   "outputs": [],
   "source": [
    "# Build the bigram and trigram models\n",
    "\n",
    "bigram = gensim.models.Phrases(lista, min_count=5, threshold=100)\n",
    "bigram_mod = gensim.models.phrases.Phraser(bigram)\n",
    "\n",
    "trigram = gensim.models.Phrases(bigram[lista], threshold=100)\n",
    "trigram_mod = gensim.models.phrases.Phraser(trigram)"
   ]
  },
  {
   "cell_type": "code",
   "execution_count": 11,
   "metadata": {},
   "outputs": [],
   "source": [
    "# função para preprocessar palavras\n",
    "\n",
    "def process_words(texts, stop_words=stop_words, allowed_postags=['NOUN', 'ADJ', 'VERB', 'ADV']):\n",
    "    texts1 = [[word for word in simple_preprocess(str(doc)) if word not in stop_words] for doc in texts]\n",
    "    texts2 = [bigram_mod[doc] for doc in texts1]\n",
    "    texts3 = [trigram_mod[bigram_mod[doc]] for doc in texts2]\n",
    "    texts4 = [[word for word in simple_preprocess(str(doc)) if word not in stop_words] for doc in texts3]    \n",
    "    return texts4"
   ]
  },
  {
   "cell_type": "code",
   "execution_count": 12,
   "metadata": {},
   "outputs": [],
   "source": [
    "# Processing the abstract\n",
    "\n",
    "texto = process_words(lista)"
   ]
  },
  {
   "cell_type": "markdown",
   "metadata": {},
   "source": [
    "# Modelagem"
   ]
  },
  {
   "cell_type": "code",
   "execution_count": 13,
   "metadata": {},
   "outputs": [],
   "source": [
    "# Criar dicionário\n",
    "\n",
    "id2word = corpora.Dictionary(texto)"
   ]
  },
  {
   "cell_type": "code",
   "execution_count": 14,
   "metadata": {},
   "outputs": [],
   "source": [
    "# Criar o Corpus: A Frequência das palavras nos documentos\n",
    "\n",
    "corpus = [id2word.doc2bow(text) for text in texto]"
   ]
  },
  {
   "cell_type": "code",
   "execution_count": 15,
   "metadata": {},
   "outputs": [],
   "source": [
    "# Função para determinar a melhor quantidade de tópicos para a modelagem\n",
    "\n",
    "def compute_coherence_values(dictionary, corpus, texts, limit, start=2, step=5):\n",
    "    coherence_values = []\n",
    "    model_list = []\n",
    "    for num_topics in tqdm(range(start, limit, step)):\n",
    "        model = LdaMulticore(corpus, id2word=id2word, num_topics=10)\n",
    "        model_list.append(model)\n",
    "        coherencemodel = CoherenceModel(model=model, texts=texts, dictionary=dictionary, coherence='c_v')\n",
    "        coherence_values.append(coherencemodel.get_coherence())\n",
    "\n",
    "    return model_list, coherence_values"
   ]
  },
  {
   "cell_type": "code",
   "execution_count": 16,
   "metadata": {},
   "outputs": [
    {
     "name": "stderr",
     "output_type": "stream",
     "text": [
      "100%|██████████████████████████████████████████████████████████████████████████████████| 14/14 [09:25<00:00, 40.41s/it]\n"
     ]
    }
   ],
   "source": [
    "# Colocando parametros na função\n",
    "\n",
    "model_list, coherence_values = compute_coherence_values(dictionary=id2word, corpus=corpus, texts=texto, start=2, limit=30, step=2)"
   ]
  },
  {
   "cell_type": "code",
   "execution_count": 17,
   "metadata": {},
   "outputs": [
    {
     "data": {
      "image/png": "[encoded data removed]",
      "text/plain": [
       "<Figure size 432x288 with 1 Axes>"
      ]
     },
     "metadata": {
      "needs_background": "light"
     },
     "output_type": "display_data"
    }
   ],
   "source": [
    "# Mostrando visualmente a quantidade de tópicos\n",
    "\n",
    "limit=30; start=2; step=2;\n",
    "x = range(start, limit, step)\n",
    "plt.plot(x, coherence_values)\n",
    "plt.xlabel(\"Num Tópicos\")\n",
    "plt.ylabel(\"Score de Coerência\")\n",
    "plt.legend((\"Valores de Coerência\"), loc='best')\n",
    "plt.show()"
   ]
  },
  {
   "cell_type": "code",
   "execution_count": 18,
   "metadata": {},
   "outputs": [
    {
     "name": "stdout",
     "output_type": "stream",
     "text": [
      "A quantidade de tópicos = 2  tem um valor de coerência de  0.2808\n",
      "A quantidade de tópicos = 4  tem um valor de coerência de  0.2722\n",
      "A quantidade de tópicos = 6  tem um valor de coerência de  0.2882\n",
      "A quantidade de tópicos = 8  tem um valor de coerência de  0.2774\n",
      "A quantidade de tópicos = 10  tem um valor de coerência de  0.2518\n",
      "A quantidade de tópicos = 12  tem um valor de coerência de  0.2719\n",
      "A quantidade de tópicos = 14  tem um valor de coerência de  0.2902\n",
      "A quantidade de tópicos = 16  tem um valor de coerência de  0.2416\n",
      "A quantidade de tópicos = 18  tem um valor de coerência de  0.2979\n",
      "A quantidade de tópicos = 20  tem um valor de coerência de  0.2655\n",
      "A quantidade de tópicos = 22  tem um valor de coerência de  0.2482\n",
      "A quantidade de tópicos = 24  tem um valor de coerência de  0.2782\n",
      "A quantidade de tópicos = 26  tem um valor de coerência de  0.2967\n",
      "A quantidade de tópicos = 28  tem um valor de coerência de  0.3068\n"
     ]
    }
   ],
   "source": [
    "# Lista dos valores de coerência, para melhor identificar o ponto de inflexão do gráfico\n",
    "\n",
    "for m, cv in zip(x, coherence_values):\n",
    "    print(\"A quantidade de tópicos =\", m, \" tem um valor de coerência de \", round(cv, 4))"
   ]
  },
  {
   "cell_type": "markdown",
   "metadata": {},
   "source": [
    "Aqui conseguimos determinar a melhor quantidade de tópicos a serem analisados, que é 8 tópicos"
   ]
  },
  {
   "cell_type": "code",
   "execution_count": 19,
   "metadata": {},
   "outputs": [],
   "source": [
    "# Vamos agora construir de fato o modelo LDA\n",
    "\n",
    "lda_model = LdaMulticore(corpus=corpus,\n",
    "                        id2word=id2word,\n",
    "                        num_topics=4, \n",
    "                        random_state=42,\n",
    "                        chunksize=100,\n",
    "                        passes=10,\n",
    "                        per_word_topics=True)"
   ]
  },
  {
   "cell_type": "code",
   "execution_count": 20,
   "metadata": {},
   "outputs": [
    {
     "name": "stdout",
     "output_type": "stream",
     "text": [
      "\n",
      "Perplexidade:  -7.168631713187199\n"
     ]
    }
   ],
   "source": [
    "# Computar a perplexidade do modelo (quanto menor, melhor)\n",
    "\n",
    "print('\\nPerplexidade: ', lda_model.log_perplexity(corpus))"
   ]
  },
  {
   "cell_type": "code",
   "execution_count": 21,
   "metadata": {},
   "outputs": [
    {
     "name": "stdout",
     "output_type": "stream",
     "text": [
      "\n",
      "Score de Coerência:  0.27233702125354065\n"
     ]
    }
   ],
   "source": [
    "# Computar o Score de Coerência\n",
    "\n",
    "coherence_model_lda = CoherenceModel(model=lda_model, texts=lista, dictionary=id2word, coherence='c_v')\n",
    "coherence_lda = coherence_model_lda.get_coherence()\n",
    "print('\\nScore de Coerência: ', coherence_lda)"
   ]
  },
  {
   "cell_type": "code",
   "execution_count": 22,
   "metadata": {},
   "outputs": [
    {
     "data": {
      "text/html": [
       "\n",
       "<link rel=\"stylesheet\" type=\"text/css\" href=\"https://cdn.rawgit.com/bmabey/pyLDAvis/files/ldavis.v1.0.0.css\">\n",
       "\n",
       "\n",
       "<div id=\"ldavis_el31625219716690649056179323\"></div>\n",
       "<script type=\"text/javascript\">\n",
       "\n",
       "var ldavis_el31625219716690649056179323_data = {\"mdsDat\": {\"x\": [-0.38372609204003166, 0.08124154744727505, 0.0646642375721606, 0.2378203070205958], \"y\": [-0.08750014164596497, -0.06142977542484406, 0.36963183674768146, -0.22070191967687258], \"topics\": [1, 2, 3, 4], \"cluster\": [1, 1, 1, 1], \"Freq\": [30.10210418701172, 24.875675201416016, 23.017074584960938, 22.00515365600586]}, \"tinfo\": {\"Term\": [\"corona\", \"bolsonaro\", \"presidente\", \"coronavirus\", \"virus\", \"quando\", \"acabar\", \"depois\", \"muito\", \"brasil\", \"coisa\", \"pandemia\", \"povo\", \"agora\", \"passar\", \"mae\", \"saude\", \"sim\", \"tempo\", \"contra\", \"melhor\", \"domingo\", \"casa\", \"dar\", \"porque\", \"nada\", \"governo\", \"meio\", \"gente\", \"voltar\", \"bolsonaro\", \"presidente\", \"coronavirus\", \"brasil\", \"povo\", \"saude\", \"contra\", \"governo\", \"novo\", \"bom\", \"merda\", \"cabelo\", \"isolamento\", \"cada\", \"populacao\", \"ministro\", \"final\", \"senhor\", \"mil\", \"social\", \"fiqueemcasa\", \"igual\", \"quanto\", \"unica\", \"cu\", \"jair\", \"globo\", \"parabens\", \"brasileiro\", \"foto\", \"trabalho\", \"morte\", \"pandemia\", \"mundo\", \"deus\", \"falar\", \"depois\", \"muito\", \"sim\", \"tempo\", \"melhor\", \"porque\", \"tanto\", \"entao\", \"semana\", \"fim\", \"desde\", \"comer\", \"medo\", \"mano\", \"risco\", \"pouco\", \"economia\", \"kkk\", \"quase\", \"deixar\", \"grupo\", \"amigo\", \"parar\", \"tarde\", \"fome\", \"dificil\", \"verdade\", \"comprar\", \"pensar\", \"triste\", \"pandemia\", \"nada\", \"vida\", \"nunca\", \"casa\", \"ainda\", \"gente\", \"agora\", \"familia\", \"sempre\", \"assim\", \"tambem\", \"corona\", \"virus\", \"mae\", \"domingo\", \"meio\", \"pos\", \"ninguem\", \"pai\", \"pegar\", \"morrer\", \"capitao\", \"matar\", \"oq\", \"dps\", \"tu\", \"cabeca\", \"ontem\", \"lado\", \"amor\", \"live\", \"dois\", \"caralho\", \"jogar\", \"tedio\", \"comigo\", \"algo\", \"churrasco\", \"galera\", \"campanha\", \"comecar\", \"deus\", \"gente\", \"casa\", \"mundo\", \"primeiro\", \"pessoa\", \"ainda\", \"mal\", \"quando\", \"acabar\", \"coisa\", \"passar\", \"dar\", \"voltar\", \"vontade\", \"poder\", \"mandetta\", \"covid\", \"colocar\", \"volta\", \"saber\", \"pessoal\", \"tirar\", \"decreto\", \"normal\", \"nenhum\", \"dentro\", \"governador\", \"real\", \"nome\", \"ruim\", \"lugar\", \"rio\", \"irresponsavel\", \"festa\", \"longe\", \"ponto\", \"geral\", \"agora\", \"assim\", \"logo\", \"menos\", \"mim\", \"vez\", \"trabalhar\", \"casa\", \"grande\", \"video\", \"gente\", \"nunca\", \"preciso\"], \"Freq\": [22606.0, 23085.0, 20488.0, 16505.0, 9766.0, 8991.0, 7992.0, 6199.0, 5527.0, 5983.0, 4385.0, 8393.0, 4761.0, 6991.0, 3705.0, 3192.0, 3901.0, 3300.0, 3111.0, 3598.0, 3061.0, 2887.0, 11597.0, 2642.0, 2718.0, 4305.0, 2956.0, 2356.0, 8006.0, 2204.0, 23084.701171875, 20488.111328125, 16504.798828125, 5982.4208984375, 4760.24169921875, 3900.4248046875, 3597.75927734375, 2956.133056640625, 2676.773681640625, 2646.03076171875, 2460.411376953125, 2442.08056640625, 2309.408203125, 2016.5582275390625, 1657.5496826171875, 1556.210693359375, 1431.6004638671875, 1346.5419921875, 1316.0335693359375, 1288.96875, 1297.3018798828125, 1205.2626953125, 1198.09375, 1227.4649658203125, 1167.12060546875, 1110.7913818359375, 1111.2589111328125, 1025.3492431640625, 976.9971923828125, 991.8540649414062, 1382.8585205078125, 1261.6544189453125, 2565.4619140625, 1698.943359375, 1273.8079833984375, 1186.2728271484375, 6199.01904296875, 5526.65380859375, 3299.371337890625, 3110.716064453125, 3061.12060546875, 2717.84765625, 2378.138671875, 2212.6728515625, 2173.356689453125, 1866.2679443359375, 1524.5849609375, 1492.8033447265625, 1447.8204345703125, 1430.955322265625, 1416.9573974609375, 1275.1865234375, 1296.0299072265625, 1249.68408203125, 1245.63330078125, 1169.355224609375, 1136.8660888671875, 1134.643310546875, 1139.9107666015625, 1113.5655517578125, 1104.4642333984375, 1062.7742919921875, 1067.6280517578125, 992.2118530273438, 973.0363159179688, 954.0390014648438, 5827.47412109375, 3304.1728515625, 2527.78564453125, 2275.614013671875, 4957.62548828125, 2906.600341796875, 2938.66455078125, 2727.344482421875, 1678.2901611328125, 1422.2864990234375, 1402.27587890625, 1262.428466796875, 22605.318359375, 9765.3896484375, 3191.82373046875, 2886.663330078125, 2355.540771484375, 2169.537353515625, 2130.361328125, 1966.60791015625, 1853.241455078125, 1761.194580078125, 1564.1851806640625, 1491.6939697265625, 1362.4327392578125, 1348.8095703125, 1354.14501953125, 1325.486328125, 1290.85791015625, 1293.91796875, 1217.0272216796875, 1199.2293701171875, 1210.3272705078125, 1171.03515625, 1105.4188232421875, 1045.7877197265625, 1037.0347900390625, 1071.5086669921875, 1021.2979125976562, 1028.7276611328125, 1026.4503173828125, 954.2421264648438, 2556.4736328125, 3703.902099609375, 3578.724365234375, 1919.019775390625, 1226.784423828125, 1309.4595947265625, 1249.254638671875, 1123.4249267578125, 8990.5791015625, 7991.615234375, 4385.04345703125, 3705.053466796875, 2642.147705078125, 2203.4248046875, 1825.0255126953125, 1836.1829833984375, 1349.93603515625, 1298.1807861328125, 1225.9921875, 1198.349853515625, 1134.68310546875, 1116.65869140625, 1108.6788330078125, 1029.6072998046875, 1024.3017578125, 995.212646484375, 975.942626953125, 952.3555908203125, 942.839599609375, 924.8062744140625, 900.8165283203125, 893.4103393554688, 860.3494262695312, 857.8803100585938, 796.5999145507812, 799.2297973632812, 770.3574829101562, 762.5606689453125, 4264.10791015625, 2513.659423828125, 1818.9149169921875, 1672.4779052734375, 1420.19580078125, 1455.843994140625, 1442.8201904296875, 3060.447265625, 1191.6842041015625, 1109.168212890625, 1363.766845703125, 1079.979736328125, 1011.7169799804688], \"Total\": [22606.0, 23085.0, 20488.0, 16505.0, 9766.0, 8991.0, 7992.0, 6199.0, 5527.0, 5983.0, 4385.0, 8393.0, 4761.0, 6991.0, 3705.0, 3192.0, 3901.0, 3300.0, 3111.0, 3598.0, 3061.0, 2887.0, 11597.0, 2642.0, 2718.0, 4305.0, 2956.0, 2356.0, 8006.0, 2204.0, 23085.474609375, 20488.884765625, 16505.572265625, 5983.1884765625, 4761.0185546875, 3901.196044921875, 3598.528564453125, 2956.902587890625, 2677.5634765625, 2646.836669921875, 2461.193115234375, 2442.871826171875, 2310.18701171875, 2017.34765625, 1658.326904296875, 1556.977783203125, 1432.4027099609375, 1347.3182373046875, 1316.8111572265625, 1289.743408203125, 1298.0865478515625, 1206.042724609375, 1198.8846435546875, 1228.2945556640625, 1167.9149169921875, 1111.55419921875, 1112.0372314453125, 1026.1146240234375, 977.7632446289062, 992.646484375, 1771.618408203125, 1625.776611328125, 8393.4658203125, 5820.52734375, 3830.80517578125, 2311.722900390625, 6199.8017578125, 5527.43896484375, 3300.156982421875, 3111.4990234375, 3061.899658203125, 2718.63427734375, 2378.919921875, 2213.45556640625, 2174.138427734375, 1867.0482177734375, 1525.3704833984375, 1493.5777587890625, 1448.6114501953125, 1431.737060546875, 1417.7437744140625, 1275.96728515625, 1296.82958984375, 1250.46337890625, 1246.4136962890625, 1170.1397705078125, 1137.64599609375, 1135.428466796875, 1140.7003173828125, 1114.3536376953125, 1105.2568359375, 1063.5562744140625, 1068.426025390625, 993.00244140625, 973.8171997070312, 954.817138671875, 8393.4658203125, 4305.62646484375, 3500.2373046875, 3356.118408203125, 11597.0576171875, 5287.3017578125, 8006.5966796875, 6991.98291015625, 2677.965576171875, 1871.765380859375, 3916.4658203125, 2631.38720703125, 22606.08203125, 9766.16015625, 3192.5966796875, 2887.43603515625, 2356.331298828125, 2170.301513671875, 2131.14208984375, 1967.37841796875, 1854.01171875, 1761.9727783203125, 1564.94921875, 1492.468017578125, 1363.2027587890625, 1349.5748291015625, 1354.9227294921875, 1326.2633056640625, 1291.6376953125, 1294.7086181640625, 1217.798583984375, 1200.007080078125, 1211.120849609375, 1171.8050537109375, 1106.1982421875, 1046.5537109375, 1037.80029296875, 1072.3072509765625, 1022.066650390625, 1029.5067138671875, 1027.274169921875, 955.0355834960938, 3830.80517578125, 8006.5966796875, 11597.0576171875, 5820.52734375, 1731.777587890625, 2319.8359375, 5287.3017578125, 1780.2926025390625, 8991.3427734375, 7992.37109375, 4385.82080078125, 3705.820556640625, 2642.91845703125, 2204.1884765625, 1825.7906494140625, 1836.9580078125, 1350.7294921875, 1298.963623046875, 1226.7730712890625, 1199.120361328125, 1135.4515380859375, 1117.432373046875, 1109.453369140625, 1030.3741455078125, 1025.0728759765625, 995.9996948242188, 976.7220458984375, 953.136474609375, 943.6188354492188, 925.5934448242188, 901.5949096679688, 894.1836547851562, 861.1193237304688, 858.6737670898438, 797.3699340820312, 800.0059814453125, 771.1370239257812, 763.340087890625, 6991.98291015625, 3916.4658203125, 2563.67041015625, 2686.88232421875, 2145.9326171875, 2266.1708984375, 2332.60400390625, 11597.0576171875, 1781.9259033203125, 1814.4910888671875, 8006.5966796875, 3356.118408203125, 1646.39208984375], \"Category\": [\"Default\", \"Default\", \"Default\", \"Default\", \"Default\", \"Default\", \"Default\", \"Default\", \"Default\", \"Default\", \"Default\", \"Default\", \"Default\", \"Default\", \"Default\", \"Default\", \"Default\", \"Default\", \"Default\", \"Default\", \"Default\", \"Default\", \"Default\", \"Default\", \"Default\", \"Default\", \"Default\", \"Default\", \"Default\", \"Default\", \"Topic1\", \"Topic1\", \"Topic1\", \"Topic1\", \"Topic1\", \"Topic1\", \"Topic1\", \"Topic1\", \"Topic1\", \"Topic1\", \"Topic1\", \"Topic1\", \"Topic1\", \"Topic1\", \"Topic1\", \"Topic1\", \"Topic1\", \"Topic1\", \"Topic1\", \"Topic1\", \"Topic1\", \"Topic1\", \"Topic1\", \"Topic1\", \"Topic1\", \"Topic1\", \"Topic1\", \"Topic1\", \"Topic1\", \"Topic1\", \"Topic1\", \"Topic1\", \"Topic1\", \"Topic1\", \"Topic1\", \"Topic1\", \"Topic2\", \"Topic2\", \"Topic2\", \"Topic2\", \"Topic2\", \"Topic2\", \"Topic2\", \"Topic2\", \"Topic2\", \"Topic2\", \"Topic2\", \"Topic2\", \"Topic2\", \"Topic2\", \"Topic2\", \"Topic2\", \"Topic2\", \"Topic2\", \"Topic2\", \"Topic2\", \"Topic2\", \"Topic2\", \"Topic2\", \"Topic2\", \"Topic2\", \"Topic2\", \"Topic2\", \"Topic2\", \"Topic2\", \"Topic2\", \"Topic2\", \"Topic2\", \"Topic2\", \"Topic2\", \"Topic2\", \"Topic2\", \"Topic2\", \"Topic2\", \"Topic2\", \"Topic2\", \"Topic2\", \"Topic2\", \"Topic3\", \"Topic3\", \"Topic3\", \"Topic3\", \"Topic3\", \"Topic3\", \"Topic3\", \"Topic3\", \"Topic3\", \"Topic3\", \"Topic3\", \"Topic3\", \"Topic3\", \"Topic3\", \"Topic3\", \"Topic3\", \"Topic3\", \"Topic3\", \"Topic3\", \"Topic3\", \"Topic3\", \"Topic3\", \"Topic3\", \"Topic3\", \"Topic3\", \"Topic3\", \"Topic3\", \"Topic3\", \"Topic3\", \"Topic3\", \"Topic3\", \"Topic3\", \"Topic3\", \"Topic3\", \"Topic3\", \"Topic3\", \"Topic3\", \"Topic3\", \"Topic4\", \"Topic4\", \"Topic4\", \"Topic4\", \"Topic4\", \"Topic4\", \"Topic4\", \"Topic4\", \"Topic4\", \"Topic4\", \"Topic4\", \"Topic4\", \"Topic4\", \"Topic4\", \"Topic4\", \"Topic4\", \"Topic4\", \"Topic4\", \"Topic4\", \"Topic4\", \"Topic4\", \"Topic4\", \"Topic4\", \"Topic4\", \"Topic4\", \"Topic4\", \"Topic4\", \"Topic4\", \"Topic4\", \"Topic4\", \"Topic4\", \"Topic4\", \"Topic4\", \"Topic4\", \"Topic4\", \"Topic4\", \"Topic4\", \"Topic4\", \"Topic4\", \"Topic4\", \"Topic4\", \"Topic4\", \"Topic4\"], \"logprob\": [30.0, 29.0, 28.0, 27.0, 26.0, 25.0, 24.0, 23.0, 22.0, 21.0, 20.0, 19.0, 18.0, 17.0, 16.0, 15.0, 14.0, 13.0, 12.0, 11.0, 10.0, 9.0, 8.0, 7.0, 6.0, 5.0, 4.0, 3.0, 2.0, 1.0, -2.4442999362945557, -2.5636000633239746, -2.7797999382019043, -3.794600009918213, -4.023099899291992, -4.222300052642822, -4.303100109100342, -4.499499797821045, -4.598800182342529, -4.610400199890137, -4.68310022354126, -4.6905999183654785, -4.746399879455566, -4.881999969482422, -5.078100204467773, -5.141200065612793, -5.224599838256836, -5.285900115966797, -5.308800220489502, -5.329599857330322, -5.3231000900268555, -5.396699905395508, -5.402699947357178, -5.378499984741211, -5.428899765014648, -5.478300094604492, -5.47790002822876, -5.5584001541137695, -5.6066999435424805, -5.591599941253662, -5.259300231933594, -5.35099983215332, -4.641300201416016, -5.053400039672852, -5.341400146484375, -5.412600040435791, -3.5683000087738037, -3.6830999851226807, -4.198999881744385, -4.257900238037109, -4.273900032043457, -4.392899990081787, -4.526400089263916, -4.598499774932861, -4.616399765014648, -4.768799781799316, -4.9710001945495605, -4.992099761962891, -5.02269983291626, -5.03439998626709, -5.0441999435424805, -5.149600028991699, -5.133399963378906, -5.1697998046875, -5.173099994659424, -5.236299991607666, -5.264400005340576, -5.26639986038208, -5.2617998123168945, -5.285200119018555, -5.293399810791016, -5.3317999839782715, -5.327300071716309, -5.4004998207092285, -5.420100212097168, -5.439799785614014, -3.6301000118255615, -4.197500228881836, -4.465400218963623, -4.570499897003174, -3.791800022125244, -4.325699806213379, -4.314799785614014, -4.389400005340576, -4.874899864196777, -5.040500164031982, -5.054599761962891, -5.1596999168396, -2.196899890899658, -3.0362000465393066, -4.1545000076293945, -4.255000114440918, -4.4583001136779785, -4.540500164031982, -4.558800220489502, -4.638800144195557, -4.6981000900268555, -4.749100208282471, -4.867700099945068, -4.915200233459473, -5.005799770355225, -5.0157999992370605, -5.011899948120117, -5.033299922943115, -5.059800148010254, -5.057400226593018, -5.11870002746582, -5.133399963378906, -5.124199867248535, -5.157199859619141, -5.214799880981445, -5.270299911499023, -5.27869987487793, -5.245999813079834, -5.294000148773193, -5.2866997718811035, -5.289000034332275, -5.3618998527526855, -4.376399993896484, -4.00570011138916, -4.04010009765625, -4.6631999015808105, -5.1107001304626465, -5.045400142669678, -5.09250020980835, -5.198699951171875, -3.073899984359741, -3.191699981689453, -3.7918999195098877, -3.960400104522705, -4.298500061035156, -4.480100154876709, -4.668499946594238, -4.662399768829346, -4.96999979019165, -5.009099960327148, -5.066400051116943, -5.089200019836426, -5.143799781799316, -5.159800052642822, -5.166900157928467, -5.240900039672852, -5.246099948883057, -5.274899959564209, -5.29449987411499, -5.318900108337402, -5.328999996185303, -5.348299980163574, -5.374599933624268, -5.382800102233887, -5.420499801635742, -5.423399925231934, -5.497499942779541, -5.494200229644775, -5.531000137329102, -5.541200160980225, -3.8199000358581543, -4.348400115966797, -4.671899795532227, -4.755799770355225, -4.919300079345703, -4.894499778747559, -4.903500080108643, -4.151500225067139, -5.094699859619141, -5.166500091552734, -4.95989990234375, -5.19320011138916, -5.258500099182129], \"loglift\": [30.0, 29.0, 28.0, 27.0, 26.0, 25.0, 24.0, 23.0, 22.0, 21.0, 20.0, 19.0, 18.0, 17.0, 16.0, 15.0, 14.0, 13.0, 12.0, 11.0, 10.0, 9.0, 8.0, 7.0, 6.0, 5.0, 4.0, 3.0, 2.0, 1.0, 1.2005000114440918, 1.2005000114440918, 1.2005000114440918, 1.2003999948501587, 1.2003999948501587, 1.2003999948501587, 1.2003999948501587, 1.2002999782562256, 1.2002999782562256, 1.2002999782562256, 1.2002999782562256, 1.2002999782562256, 1.2001999616622925, 1.2001999616622925, 1.2000999450683594, 1.2000999450683594, 1.2000000476837158, 1.2000000476837158, 1.2000000476837158, 1.2000000476837158, 1.2000000476837158, 1.1999000310897827, 1.1999000310897827, 1.1999000310897827, 1.1999000310897827, 1.1999000310897827, 1.1999000310897827, 1.1998000144958496, 1.1998000144958496, 1.1998000144958496, 0.9527999758720398, 0.9470000267028809, 0.015300000086426735, -0.030799999833106995, 0.09950000047683716, 0.5333999991416931, 1.3911999464035034, 1.3911000490188599, 1.3910000324249268, 1.3910000324249268, 1.3910000324249268, 1.3910000324249268, 1.3910000324249268, 1.3909000158309937, 1.3909000158309937, 1.3909000158309937, 1.3907999992370605, 1.3907999992370605, 1.3906999826431274, 1.3906999826431274, 1.3906999826431274, 1.3906999826431274, 1.3906999826431274, 1.3906999826431274, 1.3906999826431274, 1.3905999660491943, 1.3905999660491943, 1.3905999660491943, 1.3905999660491943, 1.3905999660491943, 1.3905999660491943, 1.3904999494552612, 1.3904999494552612, 1.3904999494552612, 1.3904999494552612, 1.3904999494552612, 1.0263999700546265, 1.1265000104904175, 1.0657999515533447, 1.0026999711990356, 0.5414999723434448, 0.7929999828338623, 0.3889999985694885, 0.4498000144958496, 0.9240000247955322, 1.1167000532150269, 0.36419999599456787, 0.6567999720573425, 1.4688999652862549, 1.4688999652862549, 1.4687000513076782, 1.4687000513076782, 1.4686000347137451, 1.4686000347137451, 1.4686000347137451, 1.468500018119812, 1.468500018119812, 1.468500018119812, 1.468400001525879, 1.468400001525879, 1.468400001525879, 1.468400001525879, 1.468400001525879, 1.4682999849319458, 1.4682999849319458, 1.4682999849319458, 1.4682999849319458, 1.4682999849319458, 1.4682999849319458, 1.4682999849319458, 1.4681999683380127, 1.4681999683380127, 1.4681999683380127, 1.4681999683380127, 1.4681999683380127, 1.4681999683380127, 1.4680999517440796, 1.4680999517440796, 1.0644999742507935, 0.6980999708175659, 0.29319998621940613, 0.3594000041484833, 1.1241999864578247, 0.8970999717712402, 0.026200000196695328, 1.0084999799728394, 1.513800024986267, 1.513800024986267, 1.513700008392334, 1.513700008392334, 1.5135999917984009, 1.5134999752044678, 1.5134999752044678, 1.5134999752044678, 1.5132999420166016, 1.5132999420166016, 1.5132999420166016, 1.5132999420166016, 1.513200044631958, 1.513200044631958, 1.513200044631958, 1.513100028038025, 1.513100028038025, 1.513100028038025, 1.513100028038025, 1.513100028038025, 1.513100028038025, 1.5130000114440918, 1.5130000114440918, 1.5130000114440918, 1.5130000114440918, 1.5130000114440918, 1.5128999948501587, 1.5128999948501587, 1.5128999948501587, 1.5128999948501587, 1.0194000005722046, 1.0703999996185303, 1.170699954032898, 1.0398000478744507, 1.101099967956543, 1.0714000463485718, 1.0334999561309814, 0.18170000612735748, 1.1116000413894653, 1.0217000246047974, -0.25609999895095825, 0.3801000118255615, 1.0269999504089355]}, \"token.table\": {\"Topic\": [4, 2, 4, 1, 2, 3, 3, 2, 3, 2, 4, 1, 1, 1, 1, 3, 1, 1, 3, 3, 3, 2, 3, 4, 3, 4, 4, 3, 2, 3, 2, 1, 3, 1, 4, 1, 4, 4, 2, 4, 2, 2, 1, 3, 2, 3, 3, 3, 2, 2, 1, 2, 3, 2, 3, 4, 2, 1, 1, 2, 1, 3, 2, 3, 4, 4, 1, 4, 1, 2, 4, 2, 1, 4, 1, 1, 3, 2, 3, 3, 3, 4, 4, 4, 3, 1, 3, 4, 2, 3, 2, 3, 2, 1, 4, 1, 1, 2, 4, 1, 3, 1, 2, 2, 1, 2, 3, 4, 2, 3, 4, 3, 4, 4, 1, 2, 4, 3, 3, 3, 1, 2, 1, 2, 4, 3, 2, 2, 3, 4, 4, 4, 1, 2, 3, 2, 1, 3, 4, 1, 2, 3, 4, 1, 2, 4, 4, 2, 4, 4, 1, 2, 2, 4, 1, 2, 1, 1, 2, 4, 2, 2, 3, 2, 4, 2, 4, 1, 2, 2, 3, 1, 2, 1, 4, 2, 3, 3, 4, 3, 4, 4, 4], \"Freq\": [0.99995356798172, 0.390018105506897, 0.6098412871360779, 0.21390873193740845, 0.5498078465461731, 0.23622635006904602, 0.9997134804725647, 0.999622642993927, 0.9993442296981812, 0.3579758107662201, 0.6419052481651306, 0.9999794363975525, 0.9996839165687561, 0.9998013377189636, 0.9992194175720215, 0.9990474581718445, 0.999643087387085, 0.9998276829719543, 0.9987596869468689, 0.9993934631347656, 0.9993129968643188, 0.4275222420692444, 0.30861276388168335, 0.2638600468635559, 0.9989563822746277, 0.9998128414154053, 0.9993698596954346, 0.9989156723022461, 0.9996131658554077, 0.999228835105896, 0.9989904761314392, 0.9998531341552734, 0.9999521374702454, 0.9999653100967407, 0.9992581605911255, 0.999216616153717, 0.9996525049209595, 0.9996368885040283, 0.9990259408950806, 0.9992607235908508, 0.9998706579208374, 0.9997571110725403, 0.33256715536117554, 0.6672226786613464, 0.999476969242096, 0.9990745186805725, 0.9998489618301392, 0.9995740652084351, 0.9993603229522705, 0.9997941851615906, 0.5130372643470764, 0.23402458429336548, 0.252625435590744, 0.6265950798988342, 0.37304437160491943, 0.9995360374450684, 0.9994385838508606, 0.9997188448905945, 0.9991629719734192, 0.9988628625869751, 0.9993487000465393, 0.9995077848434448, 0.36707231402397156, 0.46261852979660034, 0.1703595221042633, 0.999554455280304, 0.9990672469139099, 0.9988076686859131, 0.9996947646141052, 0.3311024308204651, 0.6689391732215881, 0.9994321465492249, 0.999135434627533, 0.9992153644561768, 0.9994862079620361, 0.9995014071464539, 0.9989168047904968, 0.9996294379234314, 0.9994527101516724, 0.9991607666015625, 0.2902089059352875, 0.7095295786857605, 0.9987425208091736, 0.9986763000488281, 0.9998130798339844, 0.3684787452220917, 0.6307951807975769, 0.9994599223136902, 0.999485194683075, 0.9996864199638367, 0.9995778799057007, 0.9998593926429749, 0.9997061491012573, 0.3773890733718872, 0.6222825646400452, 0.9995152354240417, 0.9993839859962463, 0.3378484547138214, 0.6617169380187988, 0.9993720054626465, 0.9994478821754456, 0.7762444019317627, 0.22389300167560577, 0.9999206066131592, 0.2918979525566101, 0.21321092545986176, 0.3296952247619629, 0.1652771234512329, 0.7673680186271667, 0.23248648643493652, 0.9989963173866272, 0.9994640946388245, 0.9993588328361511, 0.9989533424377441, 0.9997895359992981, 0.6781643629074097, 0.3218003213405609, 0.9995062947273254, 0.9991176724433899, 0.9998076558113098, 0.30559486150741577, 0.6942304968833923, 0.9989137649536133, 0.9993860721588135, 0.9997785687446594, 0.9994543194770813, 0.9991608262062073, 0.4353756010532379, 0.5642640590667725, 0.9996130466461182, 0.9994784593582153, 0.9985255002975464, 0.9998028874397278, 0.9997667074203491, 0.9998610615730286, 0.9992419481277466, 0.9997860789299011, 0.38508445024490356, 0.614677369594574, 0.9999568462371826, 0.2910304367542267, 0.7085205316543579, 0.9999618530273438, 0.9992620944976807, 0.9996680617332458, 0.9993441700935364, 0.9987001419067383, 0.999475359916687, 0.9993401765823364, 0.9996023178100586, 0.9996933937072754, 0.9994763731956482, 0.7597106099128723, 0.2398804873228073, 0.9997637867927551, 0.9996494054794312, 0.999423623085022, 0.2888210415840149, 0.4795949459075928, 0.2314368635416031, 0.9996132850646973, 0.9996826648712158, 0.9994709491729736, 0.9998396039009094, 0.9995913505554199, 0.38111913204193115, 0.6186219453811646, 0.7806421518325806, 0.21900878846645355, 0.9991441965103149, 0.9993189573287964, 0.9989460706710815, 0.9996012449264526, 0.3574311137199402, 0.642493486404419, 0.7222367525100708, 0.2776954472064972, 0.3885386884212494, 0.611190676689148, 0.9998812079429626, 0.9990656971931458, 0.9994608163833618, 0.9995669722557068], \"Term\": [\"acabar\", \"agora\", \"agora\", \"ainda\", \"ainda\", \"ainda\", \"algo\", \"amigo\", \"amor\", \"assim\", \"assim\", \"bolsonaro\", \"bom\", \"brasil\", \"brasileiro\", \"cabeca\", \"cabelo\", \"cada\", \"campanha\", \"capitao\", \"caralho\", \"casa\", \"casa\", \"casa\", \"churrasco\", \"coisa\", \"colocar\", \"comecar\", \"comer\", \"comigo\", \"comprar\", \"contra\", \"corona\", \"coronavirus\", \"covid\", \"cu\", \"dar\", \"decreto\", \"deixar\", \"dentro\", \"depois\", \"desde\", \"deus\", \"deus\", \"dificil\", \"dois\", \"domingo\", \"dps\", \"economia\", \"entao\", \"falar\", \"falar\", \"falar\", \"familia\", \"familia\", \"festa\", \"fim\", \"final\", \"fiqueemcasa\", \"fome\", \"foto\", \"galera\", \"gente\", \"gente\", \"gente\", \"geral\", \"globo\", \"governador\", \"governo\", \"grande\", \"grande\", \"grupo\", \"igual\", \"irresponsavel\", \"isolamento\", \"jair\", \"jogar\", \"kkk\", \"lado\", \"live\", \"logo\", \"logo\", \"longe\", \"lugar\", \"mae\", \"mal\", \"mal\", \"mandetta\", \"mano\", \"matar\", \"medo\", \"meio\", \"melhor\", \"menos\", \"menos\", \"merda\", \"mil\", \"mim\", \"mim\", \"ministro\", \"morrer\", \"morte\", \"morte\", \"muito\", \"mundo\", \"mundo\", \"mundo\", \"mundo\", \"nada\", \"nada\", \"nenhum\", \"ninguem\", \"nome\", \"normal\", \"novo\", \"nunca\", \"nunca\", \"ontem\", \"oq\", \"pai\", \"pandemia\", \"pandemia\", \"parabens\", \"parar\", \"passar\", \"pegar\", \"pensar\", \"pessoa\", \"pessoa\", \"pessoal\", \"poder\", \"ponto\", \"populacao\", \"porque\", \"pos\", \"pouco\", \"povo\", \"preciso\", \"preciso\", \"presidente\", \"primeiro\", \"primeiro\", \"quando\", \"quanto\", \"quase\", \"real\", \"rio\", \"risco\", \"ruim\", \"saber\", \"saude\", \"semana\", \"sempre\", \"sempre\", \"senhor\", \"sim\", \"social\", \"tambem\", \"tambem\", \"tambem\", \"tanto\", \"tarde\", \"tedio\", \"tempo\", \"tirar\", \"trabalhar\", \"trabalhar\", \"trabalho\", \"trabalho\", \"triste\", \"tu\", \"unica\", \"verdade\", \"vez\", \"vez\", \"vida\", \"vida\", \"video\", \"video\", \"virus\", \"volta\", \"voltar\", \"vontade\"]}, \"R\": 30, \"lambda.step\": 0.01, \"plot.opts\": {\"xlab\": \"PC1\", \"ylab\": \"PC2\"}, \"topic.order\": [4, 1, 2, 3]};\n",
       "\n",
       "function LDAvis_load_lib(url, callback){\n",
       "  var s = document.createElement('script');\n",
       "  s.src = url;\n",
       "  s.async = true;\n",
       "  s.onreadystatechange = s.onload = callback;\n",
       "  s.onerror = function(){console.warn(\"failed to load library \" + url);};\n",
       "  document.getElementsByTagName(\"head\")[0].appendChild(s);\n",
       "}\n",
       "\n",
       "if(typeof(LDAvis) !== \"undefined\"){\n",
       "   // already loaded: just create the visualization\n",
       "   !function(LDAvis){\n",
       "       new LDAvis(\"#\" + \"ldavis_el31625219716690649056179323\", ldavis_el31625219716690649056179323_data);\n",
       "   }(LDAvis);\n",
       "}else if(typeof define === \"function\" && define.amd){\n",
       "   // require.js is available: use it to load d3/LDAvis\n",
       "   require.config({paths: {d3: \"https://cdnjs.cloudflare.com/ajax/libs/d3/3.5.5/d3.min\"}});\n",
       "   require([\"d3\"], function(d3){\n",
       "      window.d3 = d3;\n",
       "      LDAvis_load_lib(\"https://cdn.rawgit.com/bmabey/pyLDAvis/files/ldavis.v1.0.0.js\", function(){\n",
       "        new LDAvis(\"#\" + \"ldavis_el31625219716690649056179323\", ldavis_el31625219716690649056179323_data);\n",
       "      });\n",
       "    });\n",
       "}else{\n",
       "    // require.js not available: dynamically load d3 & LDAvis\n",
       "    LDAvis_load_lib(\"https://cdnjs.cloudflare.com/ajax/libs/d3/3.5.5/d3.min.js\", function(){\n",
       "         LDAvis_load_lib(\"https://cdn.rawgit.com/bmabey/pyLDAvis/files/ldavis.v1.0.0.js\", function(){\n",
       "                 new LDAvis(\"#\" + \"ldavis_el31625219716690649056179323\", ldavis_el31625219716690649056179323_data);\n",
       "            })\n",
       "         });\n",
       "}\n",
       "</script>"
      ],
      "text/plain": [
       "PreparedData(topic_coordinates=              x         y  topics  cluster       Freq\n",
       "topic                                                \n",
       "3     -0.383726 -0.087500       1        1  30.102104\n",
       "0      0.081242 -0.061430       2        1  24.875675\n",
       "1      0.064664  0.369632       3        1  23.017075\n",
       "2      0.237820 -0.220702       4        1  22.005154, topic_info=            Term          Freq         Total Category  logprob  loglift\n",
       "16        corona  22606.000000  22606.000000  Default  30.0000  30.0000\n",
       "53     bolsonaro  23085.000000  23085.000000  Default  29.0000  29.0000\n",
       "7     presidente  20488.000000  20488.000000  Default  28.0000  28.0000\n",
       "9    coronavirus  16505.000000  16505.000000  Default  27.0000  27.0000\n",
       "17         virus   9766.000000   9766.000000  Default  26.0000  26.0000\n",
       "..           ...           ...           ...      ...      ...      ...\n",
       "405       grande   1191.684204   1781.925903   Topic4  -5.0947   1.1116\n",
       "542        video   1109.168213   1814.491089   Topic4  -5.1665   1.0217\n",
       "66         gente   1363.766846   8006.596680   Topic4  -4.9599  -0.2561\n",
       "42         nunca   1079.979736   3356.118408   Topic4  -5.1932   0.3801\n",
       "68       preciso   1011.716980   1646.392090   Topic4  -5.2585   1.0270\n",
       "\n",
       "[189 rows x 6 columns], token_table=      Topic      Freq     Term\n",
       "term                          \n",
       "38        4  0.999954   acabar\n",
       "291       2  0.390018    agora\n",
       "291       4  0.609841    agora\n",
       "69        1  0.213909    ainda\n",
       "69        2  0.549808    ainda\n",
       "...     ...       ...      ...\n",
       "542       4  0.611191    video\n",
       "17        3  0.999881    virus\n",
       "214       4  0.999066    volta\n",
       "408       4  0.999461   voltar\n",
       "74        4  0.999567  vontade\n",
       "\n",
       "[183 rows x 3 columns], R=30, lambda_step=0.01, plot_opts={'xlab': 'PC1', 'ylab': 'PC2'}, topic_order=[4, 1, 2, 3])"
      ]
     },
     "execution_count": 22,
     "metadata": {},
     "output_type": "execute_result"
    }
   ],
   "source": [
    "# Visualização dos tópicos em clusters\n",
    "\n",
    "pyLDAvis.enable_notebook()\n",
    "vis = pyLDAvis.gensim.prepare(lda_model, corpus, id2word)\n",
    "vis"
   ]
  },
  {
   "cell_type": "code",
   "execution_count": 23,
   "metadata": {},
   "outputs": [
    {
     "name": "stdout",
     "output_type": "stream",
     "text": [
      "[(0,\n",
      "  '0.040*\"saude\" + 0.038*\"coronavirus\" + 0.022*\"presidente\" + 0.019*\"vez\" + '\n",
      "  '0.016*\"cada\" + 0.013*\"risco\" + 0.011*\"familia\" + 0.011*\"grupo\" + '\n",
      "  '0.011*\"brasil\" + 0.010*\"foto\"'),\n",
      " (1,\n",
      "  '0.062*\"pandemia\" + 0.030*\"domingo\" + 0.025*\"cabelo\" + 0.016*\"coisa\" + '\n",
      "  '0.016*\"meio\" + 0.014*\"muito\" + 0.013*\"tanto\" + 0.012*\"ano\" + 0.012*\"menos\" '\n",
      "  '+ 0.010*\"casa\"'),\n",
      " (2,\n",
      "  '0.123*\"coronavirus\" + 0.056*\"quando\" + 0.053*\"acabar\" + 0.016*\"assim\" + '\n",
      "  '0.015*\"brasil\" + 0.014*\"ainda\" + 0.013*\"novo\" + 0.012*\"dps\" + 0.012*\"oq\" + '\n",
      "  '0.010*\"video\"'),\n",
      " (3,\n",
      "  '0.063*\"casa\" + 0.027*\"quando\" + 0.026*\"acabar\" + 0.023*\"sim\" + '\n",
      "  '0.019*\"tambem\" + 0.018*\"voltar\" + 0.014*\"tedio\" + 0.013*\"gente\" + '\n",
      "  '0.012*\"vida\" + 0.012*\"normal\"'),\n",
      " (4,\n",
      "  '0.153*\"bolsonaro\" + 0.045*\"presidente\" + 0.020*\"brasil\" + 0.017*\"contra\" + '\n",
      "  '0.017*\"governo\" + 0.015*\"povo\" + 0.011*\"isolamento\" + 0.008*\"jair\" + '\n",
      "  '0.007*\"social\" + 0.007*\"mandetta\"'),\n",
      " (5,\n",
      "  '0.026*\"muito\" + 0.025*\"tempo\" + 0.024*\"corona\" + 0.024*\"nada\" + '\n",
      "  '0.018*\"casa\" + 0.016*\"agora\" + 0.015*\"desde\" + 0.015*\"coronavirus\" + '\n",
      "  '0.014*\"semana\" + 0.013*\"deus\"'),\n",
      " (6,\n",
      "  '0.033*\"mundo\" + 0.027*\"casa\" + 0.026*\"mal\" + 0.022*\"mano\" + 0.020*\"corona\" '\n",
      "  '+ 0.015*\"cu\" + 0.015*\"pessoa\" + 0.012*\"caralho\" + 0.012*\"deixar\" + '\n",
      "  '0.012*\"gente\"'),\n",
      " (7,\n",
      "  '0.029*\"pai\" + 0.021*\"qual\" + 0.019*\"gente\" + 0.018*\"hora\" + 0.017*\"povo\" + '\n",
      "  '0.016*\"presidente\" + 0.016*\"covid\" + 0.014*\"demais\" + 0.011*\"cabeca\" + '\n",
      "  '0.011*\"passar\"'),\n",
      " (8,\n",
      "  '0.137*\"presidente\" + 0.028*\"pos\" + 0.027*\"gente\" + 0.015*\"deus\" + '\n",
      "  '0.015*\"lado\" + 0.013*\"povo\" + 0.013*\"brasil\" + 0.013*\"mundo\" + '\n",
      "  '0.011*\"merda\" + 0.011*\"ainda\"'),\n",
      " (9,\n",
      "  '0.194*\"corona\" + 0.081*\"virus\" + 0.054*\"depois\" + 0.015*\"mae\" + '\n",
      "  '0.015*\"pegar\" + 0.014*\"logo\" + 0.014*\"matar\" + 0.014*\"capitao\" + '\n",
      "  '0.010*\"preciso\" + 0.010*\"mim\"')]\n"
     ]
    }
   ],
   "source": [
    "# Escolhe o modelo\n",
    "\n",
    "optimal_model = model_list[3]\n",
    "model_topics = optimal_model.show_topics(formatted=False)\n",
    "pprint(optimal_model.print_topics(num_words=10))"
   ]
  },
  {
   "cell_type": "code",
   "execution_count": 24,
   "metadata": {},
   "outputs": [],
   "source": [
    "# Encontrar qual o principal tópico em cada tweet\n",
    "\n",
    "def format_topics_sentences(ldamodel=lda_model, corpus=corpus, texts=lista):\n",
    "    # Output\n",
    "    sent_topics_df = pd.DataFrame()\n",
    "\n",
    "    # Seleciona o principal tópico de cada tweet\n",
    "    for i, row in enumerate(ldamodel[corpus]):\n",
    "        row = sorted(row, key=lambda x: (x[1]), reverse=True)\n",
    "        # Calcula o principal tópico, o percentual de contribuição e as palavras chaves de cada tweet\n",
    "        for j, (topic_num, prop_topic) in enumerate(row):\n",
    "            if j == 0:  # => mostra o principal tópico\n",
    "                wp = ldamodel.show_topic(topic_num)\n",
    "                topic_keywords = \", \".join([word for word, prop in wp])\n",
    "                sent_topics_df = sent_topics_df.append(pd.Series([int(topic_num), round(prop_topic,4), topic_keywords]), ignore_index=True)\n",
    "            else:\n",
    "                break\n",
    "    sent_topics_df.columns = ['Principal_Topico', 'Perc_Contributicao', 'Palavras_Chave']\n",
    "\n",
    "    # Inclui o texto original no final do DataFrame\n",
    "    contents = pd.Series(texts)\n",
    "    sent_topics_df = pd.concat([sent_topics_df, contents], axis=1)\n",
    "    return(sent_topics_df)"
   ]
  },
  {
   "cell_type": "code",
   "execution_count": 25,
   "metadata": {},
   "outputs": [],
   "source": [
    "# roda a função de calcular os principais tópicos de cada tweet\n",
    "\n",
    "df_topic_sents_keywords = format_topics_sentences(ldamodel=optimal_model, corpus=corpus, texts=lista)"
   ]
  },
  {
   "cell_type": "code",
   "execution_count": 26,
   "metadata": {},
   "outputs": [],
   "source": [
    "# Formata o DataFrame\n",
    "\n",
    "df_dominant_topic = df_topic_sents_keywords.reset_index()\n",
    "df_dominant_topic.columns = ['Index_DF_Original', 'Principal_Topico', 'Perc_Contrib_Topico', 'Palavras_Chave', 'Tweets']"
   ]
  },
  {
   "cell_type": "code",
   "execution_count": 27,
   "metadata": {
    "scrolled": true
   },
   "outputs": [
    {
     "data": {
      "text/html": [
       "<div>\n",
       "<style scoped>\n",
       "    .dataframe tbody tr th:only-of-type {\n",
       "        vertical-align: middle;\n",
       "    }\n",
       "\n",
       "    .dataframe tbody tr th {\n",
       "        vertical-align: top;\n",
       "    }\n",
       "\n",
       "    .dataframe thead th {\n",
       "        text-align: right;\n",
       "    }\n",
       "</style>\n",
       "<table border=\"1\" class=\"dataframe\">\n",
       "  <thead>\n",
       "    <tr style=\"text-align: right;\">\n",
       "      <th></th>\n",
       "      <th>Topico</th>\n",
       "      <th>Topico_Perc_Contrib</th>\n",
       "      <th>Palavras_Chave</th>\n",
       "      <th>Tweet</th>\n",
       "    </tr>\n",
       "  </thead>\n",
       "  <tbody>\n",
       "    <tr>\n",
       "      <th>0</th>\n",
       "      <td>0.0</td>\n",
       "      <td>0.9437</td>\n",
       "      <td>saude, coronavirus, presidente, vez, cada, ris...</td>\n",
       "      <td>[pessoa, nao, fatal, cor, classe, grupo, sao, ...</td>\n",
       "    </tr>\n",
       "    <tr>\n",
       "      <th>1</th>\n",
       "      <td>1.0</td>\n",
       "      <td>0.9307</td>\n",
       "      <td>pandemia, domingo, cabelo, coisa, meio, muito,...</td>\n",
       "      <td>[ponto, cd, jeito, total, volta, saber, depois...</td>\n",
       "    </tr>\n",
       "    <tr>\n",
       "      <th>2</th>\n",
       "      <td>2.0</td>\n",
       "      <td>0.9400</td>\n",
       "      <td>coronavirus, quando, acabar, assim, brasil, ai...</td>\n",
       "      <td>[mundo, nao, previsto, volta, crise, suposto, ...</td>\n",
       "    </tr>\n",
       "    <tr>\n",
       "      <th>3</th>\n",
       "      <td>3.0</td>\n",
       "      <td>0.9315</td>\n",
       "      <td>casa, quando, acabar, sim, tambem, voltar, ted...</td>\n",
       "      <td>[igual, noite, nao, tava, dormir, mim, consegu...</td>\n",
       "    </tr>\n",
       "    <tr>\n",
       "      <th>4</th>\n",
       "      <td>4.0</td>\n",
       "      <td>0.9471</td>\n",
       "      <td>bolsonaro, presidente, brasil, contra, governo...</td>\n",
       "      <td>[brasil, grande, caos, manter, entender, criar...</td>\n",
       "    </tr>\n",
       "    <tr>\n",
       "      <th>5</th>\n",
       "      <td>5.0</td>\n",
       "      <td>0.9307</td>\n",
       "      <td>muito, tempo, corona, nada, casa, agora, desde...</td>\n",
       "      <td>[menos, muito, sol, meio, chover, dia, teresin...</td>\n",
       "    </tr>\n",
       "    <tr>\n",
       "      <th>6</th>\n",
       "      <td>6.0</td>\n",
       "      <td>0.9308</td>\n",
       "      <td>mundo, casa, mal, mano, corona, cu, pessoa, ca...</td>\n",
       "      <td>[bolsonaro, tanto, nao, tomar, volta, filho, c...</td>\n",
       "    </tr>\n",
       "    <tr>\n",
       "      <th>7</th>\n",
       "      <td>7.0</td>\n",
       "      <td>0.9400</td>\n",
       "      <td>pai, qual, gente, hora, povo, presidente, covi...</td>\n",
       "      <td>[nao, covid, trabalhar, fome, prefeito, tco, b...</td>\n",
       "    </tr>\n",
       "    <tr>\n",
       "      <th>8</th>\n",
       "      <td>8.0</td>\n",
       "      <td>0.9357</td>\n",
       "      <td>presidente, pos, gente, deus, lado, povo, bras...</td>\n",
       "      <td>[muito, ibope, ve, voces, imbecil, vcs, meio, ...</td>\n",
       "    </tr>\n",
       "    <tr>\n",
       "      <th>9</th>\n",
       "      <td>9.0</td>\n",
       "      <td>0.9307</td>\n",
       "      <td>corona, virus, depois, mae, pegar, logo, matar...</td>\n",
       "      <td>[amo, rezar, dormir, depois, mulher, cabeca, c...</td>\n",
       "    </tr>\n",
       "  </tbody>\n",
       "</table>\n",
       "</div>"
      ],
      "text/plain": [
       "   Topico  Topico_Perc_Contrib  \\\n",
       "0     0.0               0.9437   \n",
       "1     1.0               0.9307   \n",
       "2     2.0               0.9400   \n",
       "3     3.0               0.9315   \n",
       "4     4.0               0.9471   \n",
       "5     5.0               0.9307   \n",
       "6     6.0               0.9308   \n",
       "7     7.0               0.9400   \n",
       "8     8.0               0.9357   \n",
       "9     9.0               0.9307   \n",
       "\n",
       "                                      Palavras_Chave  \\\n",
       "0  saude, coronavirus, presidente, vez, cada, ris...   \n",
       "1  pandemia, domingo, cabelo, coisa, meio, muito,...   \n",
       "2  coronavirus, quando, acabar, assim, brasil, ai...   \n",
       "3  casa, quando, acabar, sim, tambem, voltar, ted...   \n",
       "4  bolsonaro, presidente, brasil, contra, governo...   \n",
       "5  muito, tempo, corona, nada, casa, agora, desde...   \n",
       "6  mundo, casa, mal, mano, corona, cu, pessoa, ca...   \n",
       "7  pai, qual, gente, hora, povo, presidente, covi...   \n",
       "8  presidente, pos, gente, deus, lado, povo, bras...   \n",
       "9  corona, virus, depois, mae, pegar, logo, matar...   \n",
       "\n",
       "                                               Tweet  \n",
       "0  [pessoa, nao, fatal, cor, classe, grupo, sao, ...  \n",
       "1  [ponto, cd, jeito, total, volta, saber, depois...  \n",
       "2  [mundo, nao, previsto, volta, crise, suposto, ...  \n",
       "3  [igual, noite, nao, tava, dormir, mim, consegu...  \n",
       "4  [brasil, grande, caos, manter, entender, criar...  \n",
       "5  [menos, muito, sol, meio, chover, dia, teresin...  \n",
       "6  [bolsonaro, tanto, nao, tomar, volta, filho, c...  \n",
       "7  [nao, covid, trabalhar, fome, prefeito, tco, b...  \n",
       "8  [muito, ibope, ve, voces, imbecil, vcs, meio, ...  \n",
       "9  [amo, rezar, dormir, depois, mulher, cabeca, c...  "
      ]
     },
     "execution_count": 27,
     "metadata": {},
     "output_type": "execute_result"
    }
   ],
   "source": [
    "# Group top 5 sentences under each topic\n",
    "sent_topics_sorteddf_mallet = pd.DataFrame()\n",
    "\n",
    "sent_topics_outdf_grpd = df_topic_sents_keywords.groupby('Principal_Topico')\n",
    "\n",
    "for i, grp in sent_topics_outdf_grpd:\n",
    "    sent_topics_sorteddf_mallet = pd.concat([sent_topics_sorteddf_mallet, \n",
    "                                             grp.sort_values(['Perc_Contributicao'], ascending=[0]).head(1)], \n",
    "                                            axis=0)\n",
    "\n",
    "# Reset Index    \n",
    "sent_topics_sorteddf_mallet.reset_index(drop=True, inplace=True)\n",
    "\n",
    "# Format\n",
    "sent_topics_sorteddf_mallet.columns = ['Topico', \"Topico_Perc_Contrib\", \"Palavras_Chave\", \"Tweet\"]\n",
    "\n",
    "# Show\n",
    "sent_topics_sorteddf_mallet"
   ]
  },
  {
   "cell_type": "code",
   "execution_count": 28,
   "metadata": {},
   "outputs": [
    {
     "data": {
      "text/html": [
       "<div>\n",
       "<style scoped>\n",
       "    .dataframe tbody tr th:only-of-type {\n",
       "        vertical-align: middle;\n",
       "    }\n",
       "\n",
       "    .dataframe tbody tr th {\n",
       "        vertical-align: top;\n",
       "    }\n",
       "\n",
       "    .dataframe thead th {\n",
       "        text-align: right;\n",
       "    }\n",
       "</style>\n",
       "<table border=\"1\" class=\"dataframe\">\n",
       "  <thead>\n",
       "    <tr style=\"text-align: right;\">\n",
       "      <th></th>\n",
       "      <th>Principal_Topico</th>\n",
       "      <th>Palavras_Chave</th>\n",
       "      <th>Qtd_Tweets</th>\n",
       "      <th>Perc_Tweets</th>\n",
       "    </tr>\n",
       "  </thead>\n",
       "  <tbody>\n",
       "    <tr>\n",
       "      <th>0.0</th>\n",
       "      <td>8.0</td>\n",
       "      <td>presidente, pos, gente, deus, lado, povo, bras...</td>\n",
       "      <td>26658.0</td>\n",
       "      <td>0.1315</td>\n",
       "    </tr>\n",
       "    <tr>\n",
       "      <th>1.0</th>\n",
       "      <td>8.0</td>\n",
       "      <td>presidente, pos, gente, deus, lado, povo, bras...</td>\n",
       "      <td>21421.0</td>\n",
       "      <td>0.1057</td>\n",
       "    </tr>\n",
       "    <tr>\n",
       "      <th>2.0</th>\n",
       "      <td>2.0</td>\n",
       "      <td>coronavirus, quando, acabar, assim, brasil, ai...</td>\n",
       "      <td>20262.0</td>\n",
       "      <td>0.1000</td>\n",
       "    </tr>\n",
       "    <tr>\n",
       "      <th>3.0</th>\n",
       "      <td>0.0</td>\n",
       "      <td>saude, coronavirus, presidente, vez, cada, ris...</td>\n",
       "      <td>16851.0</td>\n",
       "      <td>0.0831</td>\n",
       "    </tr>\n",
       "    <tr>\n",
       "      <th>4.0</th>\n",
       "      <td>9.0</td>\n",
       "      <td>corona, virus, depois, mae, pegar, logo, matar...</td>\n",
       "      <td>29630.0</td>\n",
       "      <td>0.1462</td>\n",
       "    </tr>\n",
       "    <tr>\n",
       "      <th>...</th>\n",
       "      <td>...</td>\n",
       "      <td>...</td>\n",
       "      <td>...</td>\n",
       "      <td>...</td>\n",
       "    </tr>\n",
       "    <tr>\n",
       "      <th>202705.0</th>\n",
       "      <td>0.0</td>\n",
       "      <td>saude, coronavirus, presidente, vez, cada, ris...</td>\n",
       "      <td>NaN</td>\n",
       "      <td>NaN</td>\n",
       "    </tr>\n",
       "    <tr>\n",
       "      <th>202706.0</th>\n",
       "      <td>5.0</td>\n",
       "      <td>muito, tempo, corona, nada, casa, agora, desde...</td>\n",
       "      <td>NaN</td>\n",
       "      <td>NaN</td>\n",
       "    </tr>\n",
       "    <tr>\n",
       "      <th>202707.0</th>\n",
       "      <td>9.0</td>\n",
       "      <td>corona, virus, depois, mae, pegar, logo, matar...</td>\n",
       "      <td>NaN</td>\n",
       "      <td>NaN</td>\n",
       "    </tr>\n",
       "    <tr>\n",
       "      <th>202708.0</th>\n",
       "      <td>8.0</td>\n",
       "      <td>presidente, pos, gente, deus, lado, povo, bras...</td>\n",
       "      <td>NaN</td>\n",
       "      <td>NaN</td>\n",
       "    </tr>\n",
       "    <tr>\n",
       "      <th>202709.0</th>\n",
       "      <td>9.0</td>\n",
       "      <td>corona, virus, depois, mae, pegar, logo, matar...</td>\n",
       "      <td>NaN</td>\n",
       "      <td>NaN</td>\n",
       "    </tr>\n",
       "  </tbody>\n",
       "</table>\n",
       "<p>202710 rows × 4 columns</p>\n",
       "</div>"
      ],
      "text/plain": [
       "          Principal_Topico                                     Palavras_Chave  \\\n",
       "0.0                    8.0  presidente, pos, gente, deus, lado, povo, bras...   \n",
       "1.0                    8.0  presidente, pos, gente, deus, lado, povo, bras...   \n",
       "2.0                    2.0  coronavirus, quando, acabar, assim, brasil, ai...   \n",
       "3.0                    0.0  saude, coronavirus, presidente, vez, cada, ris...   \n",
       "4.0                    9.0  corona, virus, depois, mae, pegar, logo, matar...   \n",
       "...                    ...                                                ...   \n",
       "202705.0               0.0  saude, coronavirus, presidente, vez, cada, ris...   \n",
       "202706.0               5.0  muito, tempo, corona, nada, casa, agora, desde...   \n",
       "202707.0               9.0  corona, virus, depois, mae, pegar, logo, matar...   \n",
       "202708.0               8.0  presidente, pos, gente, deus, lado, povo, bras...   \n",
       "202709.0               9.0  corona, virus, depois, mae, pegar, logo, matar...   \n",
       "\n",
       "          Qtd_Tweets  Perc_Tweets  \n",
       "0.0          26658.0       0.1315  \n",
       "1.0          21421.0       0.1057  \n",
       "2.0          20262.0       0.1000  \n",
       "3.0          16851.0       0.0831  \n",
       "4.0          29630.0       0.1462  \n",
       "...              ...          ...  \n",
       "202705.0         NaN          NaN  \n",
       "202706.0         NaN          NaN  \n",
       "202707.0         NaN          NaN  \n",
       "202708.0         NaN          NaN  \n",
       "202709.0         NaN          NaN  \n",
       "\n",
       "[202710 rows x 4 columns]"
      ]
     },
     "execution_count": 28,
     "metadata": {},
     "output_type": "execute_result"
    }
   ],
   "source": [
    "# Numero de tweets por topico\n",
    "\n",
    "topic_counts = df_topic_sents_keywords['Principal_Topico'].value_counts()\n",
    "\n",
    "# Porcentagem de tweets por tópico\n",
    "topic_contribution = round(topic_counts/topic_counts.sum(), 4)\n",
    "\n",
    "# Número do tópico e suas palavras chave\n",
    "topic_num_keywords = df_topic_sents_keywords[['Principal_Topico', 'Palavras_Chave']]\n",
    "\n",
    "# Concatena as colunas\n",
    "df_dominant_topics = pd.concat([topic_num_keywords, topic_counts, topic_contribution], axis=1)\n",
    "\n",
    "# Renomeia as colunas\n",
    "df_dominant_topics.columns = ['Principal_Topico', 'Palavras_Chave', 'Qtd_Tweets', 'Perc_Tweets']\n",
    "\n",
    "# Mostra o DataFrame\n",
    "df_dominant_topics"
   ]
  },
  {
   "cell_type": "code",
   "execution_count": 29,
   "metadata": {},
   "outputs": [
    {
     "data": {
      "image/png": "[encoded data removed]",
      "text/plain": [
       "<Figure size 720x720 with 4 Axes>"
      ]
     },
     "metadata": {
      "needs_background": "light"
     },
     "output_type": "display_data"
    }
   ],
   "source": [
    "# Cria wordclouds\n",
    "\n",
    "cols = [color for name, color in mcolors.XKCD_COLORS.items()]\n",
    "\n",
    "cloud = WordCloud(stopwords=stop_words,\n",
    "                  background_color='white',\n",
    "                  width=2500,\n",
    "                  height=1800,\n",
    "                  max_words=10,\n",
    "                  colormap='tab10',\n",
    "                  color_func=lambda *args, **kwargs: cols[i],\n",
    "                  prefer_horizontal=1.0)\n",
    "\n",
    "topics = lda_model.show_topics(formatted=False)\n",
    "\n",
    "fig, axes = plt.subplots(2, 2, figsize=(10,10), sharex=True, sharey=True)\n",
    "\n",
    "for i, ax in enumerate(axes.flatten()):\n",
    "    fig.add_subplot(ax)\n",
    "    topic_words = dict(topics[i][1])\n",
    "    cloud.generate_from_frequencies(topic_words, max_font_size=300)\n",
    "    plt.gca().imshow(cloud)\n",
    "    plt.gca().set_title('Topic ' + str(i), fontdict=dict(size=16))\n",
    "    plt.gca().axis('off')\n",
    "\n",
    "\n",
    "plt.subplots_adjust(wspace=0, hspace=0)\n",
    "plt.axis('off')\n",
    "plt.margins(x=0, y=0)\n",
    "plt.tight_layout()\n",
    "plt.show()"
   ]
  },
  {
   "cell_type": "code",
   "execution_count": null,
   "metadata": {},
   "outputs": [],
   "source": []
  },
  {
   "cell_type": "code",
   "execution_count": null,
   "metadata": {},
   "outputs": [],
   "source": []
  },
  {
   "cell_type": "code",
   "execution_count": null,
   "metadata": {},
   "outputs": [],
   "source": []
  },
  {
   "cell_type": "code",
   "execution_count": null,
   "metadata": {},
   "outputs": [],
   "source": []
  },
  {
   "cell_type": "code",
   "execution_count": null,
   "metadata": {},
   "outputs": [],
   "source": []
  },
  {
   "cell_type": "code",
   "execution_count": null,
   "metadata": {},
   "outputs": [],
   "source": []
  }
 ],
 "metadata": {
  "kernelspec": {
   "display_name": "Python 3",
   "language": "python",
   "name": "python3"
  },
  "language_info": {
   "codemirror_mode": {
    "name": "ipython",
    "version": 3
   },
   "file_extension": ".py",
   "mimetype": "text/x-python",
   "name": "python",
   "nbconvert_exporter": "python",
   "pygments_lexer": "ipython3",
   "version": "3.7.6"
  }
 },
 "nbformat": 4,
 "nbformat_minor": 1
}
