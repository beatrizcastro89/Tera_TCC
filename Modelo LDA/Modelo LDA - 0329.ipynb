{
 "cells": [
  {
   "cell_type": "markdown",
   "metadata": {
    "collapsed": true
   },
   "source": [
    "Análise do dia 29/03 através do modelo LDA."
   ]
  },
  {
   "cell_type": "code",
   "execution_count": 1,
   "metadata": {},
   "outputs": [],
   "source": [
    "# Importar bibliotecas\n",
    "\n",
    "# gerais\n",
    "import sys\n",
    "import os\n",
    "from pathlib import Path\n",
    "import re\n",
    "import numpy as np\n",
    "import pandas as pd\n",
    "from pprint import pprint\n",
    "from tqdm import tqdm\n",
    "from ast import literal_eval\n",
    "\n",
    "# Gensim\n",
    "import gensim, spacy, logging, warnings\n",
    "import gensim.corpora as corpora\n",
    "from gensim.utils import lemmatize, simple_preprocess\n",
    "from gensim.models import CoherenceModel\n",
    "from gensim.models.ldamulticore import LdaMulticore\n",
    "\n",
    "# NLTK Stop words\n",
    "import nltk\n",
    "from nltk.corpus import stopwords\n",
    "\n",
    "# sklearn\n",
    "from sklearn.feature_extraction.text import CountVectorizer\n",
    "\n",
    "#plot\n",
    "import pyLDAvis\n",
    "import pyLDAvis.gensim\n",
    "import matplotlib.pyplot as plt\n",
    "import matplotlib.colors as mcolors\n",
    "%matplotlib inline\n",
    "from wordcloud import WordCloud, STOPWORDS"
   ]
  },
  {
   "cell_type": "markdown",
   "metadata": {},
   "source": [
    "# Preparação dos dados"
   ]
  },
  {
   "cell_type": "code",
   "execution_count": 2,
   "metadata": {},
   "outputs": [],
   "source": [
    "# import dos dados\n",
    "\n",
    "df = pd.read_csv('2903_preprocessado.csv')"
   ]
  },
  {
   "cell_type": "code",
   "execution_count": 3,
   "metadata": {},
   "outputs": [],
   "source": [
    "# função para reverter os tokens processados em lista de tuples\n",
    "\n",
    "def strip_characters(text):\n",
    "    t = re.sub(r'\\(|\\)|:|,|;|\\.|’|”|“|\\?|%|>|<|\\[|\\]', '', text)\n",
    "    t = re.sub(r'/', ' ', t)\n",
    "    t = t.replace(\"'\",'')\n",
    "    return t"
   ]
  },
  {
   "cell_type": "code",
   "execution_count": 4,
   "metadata": {},
   "outputs": [],
   "source": [
    "# aplica função em todos os tokens\n",
    "\n",
    "df['token3'] = df['token3'].apply(lambda x: strip_characters(x))\n",
    "df['token3'] = df['token3'].apply(lambda x: str(x).split(' '))"
   ]
  },
  {
   "cell_type": "code",
   "execution_count": 5,
   "metadata": {},
   "outputs": [],
   "source": [
    "texto = list(df.token3)"
   ]
  },
  {
   "cell_type": "markdown",
   "metadata": {},
   "source": [
    "# Modelagem"
   ]
  },
  {
   "cell_type": "code",
   "execution_count": 6,
   "metadata": {},
   "outputs": [],
   "source": [
    "# Criar dicionário\n",
    "\n",
    "id2word = corpora.Dictionary(texto)"
   ]
  },
  {
   "cell_type": "code",
   "execution_count": 7,
   "metadata": {},
   "outputs": [],
   "source": [
    "# Criar o Corpus: A Frequência das palavras nos documentos\n",
    "\n",
    "corpus = [id2word.doc2bow(text) for text in texto]"
   ]
  },
  {
   "cell_type": "code",
   "execution_count": 8,
   "metadata": {},
   "outputs": [],
   "source": [
    "# Função para determinar a melhor quantidade de tópicos para a modelagem\n",
    "\n",
    "def compute_coherence_values(dictionary, corpus, texts, limit, start=2, step=5):\n",
    "    coherence_values = []\n",
    "    model_list = []\n",
    "    for num_topics in tqdm(range(start, limit, step)):\n",
    "        model = LdaMulticore(corpus, id2word=id2word, num_topics=10)\n",
    "        model_list.append(model)\n",
    "        coherencemodel = CoherenceModel(model=model, texts=texts, dictionary=dictionary, coherence='c_v')\n",
    "        coherence_values.append(coherencemodel.get_coherence())\n",
    "\n",
    "    return model_list, coherence_values"
   ]
  },
  {
   "cell_type": "code",
   "execution_count": 9,
   "metadata": {},
   "outputs": [
    {
     "name": "stderr",
     "output_type": "stream",
     "text": [
      "100%|█████████████████████████████████████████████████████████████████████████████████| 14/14 [24:12<00:00, 103.74s/it]\n"
     ]
    }
   ],
   "source": [
    "# Colocando parametros na função\n",
    "\n",
    "model_list, coherence_values = compute_coherence_values(dictionary=id2word, corpus=corpus, texts=texto, start=2, limit=30, step=2)"
   ]
  },
  {
   "cell_type": "code",
   "execution_count": 10,
   "metadata": {},
   "outputs": [
    {
     "data": {
      "image/png": "[encoded data removed]",
      "text/plain": [
       "<Figure size 432x288 with 1 Axes>"
      ]
     },
     "metadata": {
      "needs_background": "light"
     },
     "output_type": "display_data"
    }
   ],
   "source": [
    "# Mostrando visualmente a quantidade de tópicos\n",
    "\n",
    "limit=30; start=2; step=2;\n",
    "x = range(start, limit, step)\n",
    "plt.plot(x, coherence_values)\n",
    "plt.xlabel(\"Num Tópicos\")\n",
    "plt.ylabel(\"Score de Coerência\")\n",
    "plt.legend((\"Valores de Coerência\"), loc='best')\n",
    "plt.show()"
   ]
  },
  {
   "cell_type": "code",
   "execution_count": 11,
   "metadata": {},
   "outputs": [
    {
     "name": "stdout",
     "output_type": "stream",
     "text": [
      "A quantidade de tópicos = 2  tem um valor de coerência de  0.3259\n",
      "A quantidade de tópicos = 4  tem um valor de coerência de  0.3203\n",
      "A quantidade de tópicos = 6  tem um valor de coerência de  0.3248\n",
      "A quantidade de tópicos = 8  tem um valor de coerência de  0.3244\n",
      "A quantidade de tópicos = 10  tem um valor de coerência de  0.3038\n",
      "A quantidade de tópicos = 12  tem um valor de coerência de  0.3213\n",
      "A quantidade de tópicos = 14  tem um valor de coerência de  0.3097\n",
      "A quantidade de tópicos = 16  tem um valor de coerência de  0.3259\n",
      "A quantidade de tópicos = 18  tem um valor de coerência de  0.3017\n",
      "A quantidade de tópicos = 20  tem um valor de coerência de  0.3188\n",
      "A quantidade de tópicos = 22  tem um valor de coerência de  0.2821\n",
      "A quantidade de tópicos = 24  tem um valor de coerência de  0.3012\n",
      "A quantidade de tópicos = 26  tem um valor de coerência de  0.3069\n",
      "A quantidade de tópicos = 28  tem um valor de coerência de  0.3054\n"
     ]
    }
   ],
   "source": [
    "# Lista dos valores de coerência, para melhor identificar o ponto de inflexão do gráfico\n",
    "\n",
    "for m, cv in zip(x, coherence_values):\n",
    "    print(\"A quantidade de tópicos =\", m, \" tem um valor de coerência de \", round(cv, 4))"
   ]
  },
  {
   "cell_type": "markdown",
   "metadata": {},
   "source": [
    "Aqui conseguimos determinar a melhor quantidade de tópicos a serem analisados, que é 8 tópicos"
   ]
  },
  {
   "cell_type": "code",
   "execution_count": 20,
   "metadata": {},
   "outputs": [],
   "source": [
    "# Vamos agora construir de fato o modelo LDA\n",
    "\n",
    "lda_model = LdaMulticore(corpus=corpus,\n",
    "                        id2word=id2word,\n",
    "                        num_topics=3, \n",
    "                        random_state=42,\n",
    "                        chunksize=100,\n",
    "                        passes=10,\n",
    "                        per_word_topics=True,\n",
    "                        alpha = 0.9,\n",
    "                        eta = 0.3)"
   ]
  },
  {
   "cell_type": "code",
   "execution_count": 21,
   "metadata": {},
   "outputs": [
    {
     "name": "stdout",
     "output_type": "stream",
     "text": [
      "\n",
      "Perplexidade:  -7.0911350869869505\n"
     ]
    }
   ],
   "source": [
    "# Computar a perplexidade do modelo (quanto menor, melhor)\n",
    "\n",
    "print('\\nPerplexidade: ', lda_model.log_perplexity(corpus))"
   ]
  },
  {
   "cell_type": "code",
   "execution_count": 22,
   "metadata": {},
   "outputs": [
    {
     "name": "stdout",
     "output_type": "stream",
     "text": [
      "\n",
      "Score de Coerência:  0.35501803749228716\n"
     ]
    }
   ],
   "source": [
    "# Computar o Score de Coerência\n",
    "\n",
    "coherence_model_lda = CoherenceModel(model=lda_model, texts=texto, dictionary=id2word, coherence='c_v')\n",
    "coherence_lda = coherence_model_lda.get_coherence()\n",
    "print('\\nScore de Coerência: ', coherence_lda)"
   ]
  },
  {
   "cell_type": "code",
   "execution_count": 23,
   "metadata": {},
   "outputs": [
    {
     "data": {
      "text/html": [
       "\n",
       "<link rel=\"stylesheet\" type=\"text/css\" href=\"https://cdn.rawgit.com/bmabey/pyLDAvis/files/ldavis.v1.0.0.css\">\n",
       "\n",
       "\n",
       "<div id=\"ldavis_el293628355524558805564255877\"></div>\n",
       "<script type=\"text/javascript\">\n",
       "\n",
       "var ldavis_el293628355524558805564255877_data = {\"mdsDat\": {\"x\": [0.3021009903834345, -0.36238916538244237, 0.06028817499900777], \"y\": [-0.2435939441561301, -0.13935958193034884, 0.38295352608647915], \"topics\": [1, 2, 3], \"cluster\": [1, 1, 1], \"Freq\": [33.875553131103516, 33.28763198852539, 32.836814880371094]}, \"tinfo\": {\"Term\": [\"bolsonaro\", \"presidente\", \"\", \"casa\", \"gente\", \"quando\", \"pandemia\", \"acabar\", \"agora\", \"depois\", \"nem\", \"brasil\", \"mundo\", \"muito\", \"sair\", \"povo\", \"nada\", \"coisa\", \"deus\", \"vida\", \"ir\", \"saude\", \"passar\", \"contra\", \"nunca\", \"sim\", \"tempo\", \"mae\", \"melhor\", \"tambem\", \"bolsonaro\", \"presidente\", \"\", \"agora\", \"brasil\", \"povo\", \"saude\", \"contra\", \"nunca\", \"melhor\", \"governo\", \"tambem\", \"domingo\", \"falar\", \"bom\", \"merda\", \"cabelo\", \"isolamento\", \"sempre\", \"fim\", \"favor\", \"ministro\", \"populacao\", \"qual\", \"jair\", \"mandetta\", \"demais\", \"senhor\", \"social\", \"mil\", \"maior\", \"enquanto\", \"casa\", \"gente\", \"mundo\", \"sair\", \"nada\", \"coisa\", \"deus\", \"porque\", \"familia\", \"menos\", \"alguem\", \"pessoa\", \"vez\", \"tava\", \"ninguem\", \"morte\", \"cada\", \"video\", \"morrer\", \"poder\", \"primeiro\", \"caso\", \"momento\", \"grande\", \"muito\", \"ha\", \"certo\", \"outro\", \"risco\", \"fiqueemcasa\", \"pai\", \"quando\", \"pandemia\", \"acabar\", \"depois\", \"nem\", \"ir\", \"vida\", \"passar\", \"tempo\", \"sim\", \"mae\", \"logo\", \"novo\", \"tanto\", \"meio\", \"trabalhar\", \"voltar\", \"semana\", \"pegar\", \"vontade\", \"mal\", \"hora\", \"trabalho\", \"pois\", \"preciso\", \"comer\", \"ano\", \"matar\", \"capitao\", \"desde\"], \"Freq\": [22588.0, 19709.0, 15848.0, 12220.0, 8708.0, 8486.0, 8256.0, 7571.0, 6769.0, 6035.0, 5998.0, 6150.0, 5946.0, 5700.0, 4520.0, 4593.0, 4461.0, 4407.0, 3909.0, 3812.0, 3707.0, 3762.0, 3496.0, 3444.0, 3285.0, 3163.0, 3060.0, 3026.0, 3018.0, 2956.0, 22587.43359375, 19708.80078125, 15847.50390625, 6769.11767578125, 6149.95947265625, 4592.85888671875, 3762.142333984375, 3443.813720703125, 3284.664306640625, 3017.836181640625, 2814.546630859375, 2955.95068359375, 2810.130859375, 2676.16943359375, 2509.851318359375, 2373.51220703125, 2353.950439453125, 2239.60107421875, 1823.0068359375, 1823.6644287109375, 1655.171630859375, 1511.6845703125, 1573.8707275390625, 1560.601806640625, 1460.2564697265625, 1262.7215576171875, 1339.26220703125, 1266.763916015625, 1247.8369140625, 1245.80078125, 1311.39111328125, 1282.1961669921875, 12220.2060546875, 8707.7587890625, 5945.46337890625, 4519.54541015625, 4460.6650390625, 4407.31298828125, 3908.76123046875, 2865.321533203125, 2779.584716796875, 2619.976806640625, 2470.97705078125, 2389.234130859375, 2329.33935546875, 2243.5947265625, 2179.153076171875, 2116.4609375, 2046.412109375, 1862.75634765625, 1791.7803955078125, 1846.4652099609375, 1768.1444091796875, 1764.40673828125, 1785.5147705078125, 1835.9326171875, 5698.40234375, 1653.440673828125, 1588.717529296875, 1474.8126220703125, 1412.67919921875, 1364.7325439453125, 1965.627197265625, 8486.236328125, 8256.0009765625, 7570.46435546875, 6034.98193359375, 5998.08935546875, 3706.853515625, 3811.915771484375, 3495.6484375, 3059.764892578125, 3163.1552734375, 3026.054443359375, 2491.55419921875, 2567.637939453125, 2340.834716796875, 2283.62744140625, 2263.437744140625, 2052.3916015625, 2062.432861328125, 1831.46923828125, 1722.62451171875, 1726.4761962890625, 1688.542236328125, 1692.826416015625, 1642.1783447265625, 1531.9671630859375, 1441.3115234375, 1471.830322265625, 1454.04443359375, 1512.9744873046875, 1451.8857421875], \"Total\": [22588.0, 19709.0, 15848.0, 12220.0, 8708.0, 8486.0, 8256.0, 7571.0, 6769.0, 6035.0, 5998.0, 6150.0, 5946.0, 5700.0, 4520.0, 4593.0, 4461.0, 4407.0, 3909.0, 3812.0, 3707.0, 3762.0, 3496.0, 3444.0, 3285.0, 3163.0, 3060.0, 3026.0, 3018.0, 2956.0, 22588.091796875, 19709.455078125, 15848.1337890625, 6769.8193359375, 6150.61328125, 4593.52392578125, 3762.821044921875, 3444.469482421875, 3285.36767578125, 3018.522705078125, 2815.20166015625, 2956.647216796875, 2810.8056640625, 2676.8642578125, 2510.556396484375, 2374.182861328125, 2354.625244140625, 2240.2705078125, 1823.698974609375, 1824.3582763671875, 1655.8529052734375, 1512.3323974609375, 1574.545654296875, 1561.279296875, 1460.901611328125, 1263.3575439453125, 1339.94677734375, 1267.422607421875, 1248.5010986328125, 1246.481201171875, 1438.0367431640625, 1479.5765380859375, 12220.8505859375, 8708.4091796875, 5946.1142578125, 4520.18701171875, 4461.32080078125, 4407.962890625, 3909.40625, 2865.978759765625, 2780.227294921875, 2620.625, 2471.614990234375, 2389.878173828125, 2329.988525390625, 2244.243896484375, 2179.78955078125, 2117.11083984375, 2047.0516357421875, 1863.4046630859375, 1792.4163818359375, 1847.1224365234375, 1768.786865234375, 1765.05517578125, 1786.1719970703125, 1836.6163330078125, 5700.60888671875, 1654.095703125, 1589.3760986328125, 1475.486083984375, 1413.3275146484375, 1365.378662109375, 1993.2718505859375, 8486.8896484375, 8256.6728515625, 7571.09912109375, 6035.6376953125, 5998.76953125, 3707.510498046875, 3812.611083984375, 3496.300048828125, 3060.4365234375, 3163.85205078125, 3026.7236328125, 2492.20458984375, 2568.319580078125, 2341.50390625, 2284.302978515625, 2264.141845703125, 2053.046142578125, 2063.09423828125, 1832.1385498046875, 1723.295654296875, 1727.16259765625, 1689.2213134765625, 1693.5250244140625, 1642.8675537109375, 1532.6204833984375, 1441.9549560546875, 1472.4942626953125, 1454.712158203125, 1513.6702880859375, 1452.561279296875], \"Category\": [\"Default\", \"Default\", \"Default\", \"Default\", \"Default\", \"Default\", \"Default\", \"Default\", \"Default\", \"Default\", \"Default\", \"Default\", \"Default\", \"Default\", \"Default\", \"Default\", \"Default\", \"Default\", \"Default\", \"Default\", \"Default\", \"Default\", \"Default\", \"Default\", \"Default\", \"Default\", \"Default\", \"Default\", \"Default\", \"Default\", \"Topic1\", \"Topic1\", \"Topic1\", \"Topic1\", \"Topic1\", \"Topic1\", \"Topic1\", \"Topic1\", \"Topic1\", \"Topic1\", \"Topic1\", \"Topic1\", \"Topic1\", \"Topic1\", \"Topic1\", \"Topic1\", \"Topic1\", \"Topic1\", \"Topic1\", \"Topic1\", \"Topic1\", \"Topic1\", \"Topic1\", \"Topic1\", \"Topic1\", \"Topic1\", \"Topic1\", \"Topic1\", \"Topic1\", \"Topic1\", \"Topic1\", \"Topic1\", \"Topic2\", \"Topic2\", \"Topic2\", \"Topic2\", \"Topic2\", \"Topic2\", \"Topic2\", \"Topic2\", \"Topic2\", \"Topic2\", \"Topic2\", \"Topic2\", \"Topic2\", \"Topic2\", \"Topic2\", \"Topic2\", \"Topic2\", \"Topic2\", \"Topic2\", \"Topic2\", \"Topic2\", \"Topic2\", \"Topic2\", \"Topic2\", \"Topic2\", \"Topic2\", \"Topic2\", \"Topic2\", \"Topic2\", \"Topic2\", \"Topic2\", \"Topic3\", \"Topic3\", \"Topic3\", \"Topic3\", \"Topic3\", \"Topic3\", \"Topic3\", \"Topic3\", \"Topic3\", \"Topic3\", \"Topic3\", \"Topic3\", \"Topic3\", \"Topic3\", \"Topic3\", \"Topic3\", \"Topic3\", \"Topic3\", \"Topic3\", \"Topic3\", \"Topic3\", \"Topic3\", \"Topic3\", \"Topic3\", \"Topic3\", \"Topic3\", \"Topic3\", \"Topic3\", \"Topic3\", \"Topic3\"], \"logprob\": [30.0, 29.0, 28.0, 27.0, 26.0, 25.0, 24.0, 23.0, 22.0, 21.0, 20.0, 19.0, 18.0, 17.0, 16.0, 15.0, 14.0, 13.0, 12.0, 11.0, 10.0, 9.0, 8.0, 7.0, 6.0, 5.0, 4.0, 3.0, 2.0, 1.0, -2.53629994392395, -2.6726999282836914, -2.890700101852417, -3.7414000034332275, -3.8373000621795654, -4.129199981689453, -4.328700065612793, -4.417200088500977, -4.4644999504089355, -4.549200057983398, -4.618899822235107, -4.569900035858154, -4.620500087738037, -4.669400215148926, -4.733500003814697, -4.789400100708008, -4.797599792480469, -4.847400188446045, -5.053199768066406, -5.0528998374938965, -5.149799823760986, -5.240499973297119, -5.200200080871582, -5.208700180053711, -5.275100231170654, -5.420499801635742, -5.361599922180176, -5.417300224304199, -5.432300090789795, -5.434000015258789, -5.382599830627441, -5.405200004577637, -3.1331000328063965, -3.4719998836517334, -3.853600025177002, -4.127799987792969, -4.140900135040283, -4.1529998779296875, -4.2729997634887695, -4.583499908447266, -4.613900184631348, -4.673099994659424, -4.731599807739258, -4.7652997970581055, -4.790599822998047, -4.828100204467773, -4.8572998046875, -4.886499881744385, -4.920100212097168, -5.014200210571289, -5.052999973297119, -5.0229997634887695, -5.066299915313721, -5.068399906158447, -5.05649995803833, -5.02869987487793, -3.8959999084472656, -5.133399963378906, -5.173299789428711, -5.247700214385986, -5.2906999588012695, -5.325300216674805, -4.960400104522705, -3.484100103378296, -3.511699914932251, -3.598299980163574, -3.825000047683716, -3.831199884414673, -4.312399864196777, -4.2845001220703125, -4.371099948883057, -4.504300117492676, -4.4710001945495605, -4.5152997970581055, -4.709700107574463, -4.679599761962891, -4.77209997177124, -4.796800136566162, -4.805699825286865, -4.903600215911865, -4.89870023727417, -5.017499923706055, -5.078700065612793, -5.076499938964844, -5.098700046539307, -5.096199989318848, -5.1265997886657715, -5.196000099182129, -5.256999969482422, -5.236100196838379, -5.248199939727783, -5.208499908447266, -5.24970006942749], \"loglift\": [30.0, 29.0, 28.0, 27.0, 26.0, 25.0, 24.0, 23.0, 22.0, 21.0, 20.0, 19.0, 18.0, 17.0, 16.0, 15.0, 14.0, 13.0, 12.0, 11.0, 10.0, 9.0, 8.0, 7.0, 6.0, 5.0, 4.0, 3.0, 2.0, 1.0, 1.0823999643325806, 1.0823999643325806, 1.0823999643325806, 1.0823999643325806, 1.0823999643325806, 1.0822999477386475, 1.0822999477386475, 1.0822999477386475, 1.0822999477386475, 1.082200050354004, 1.082200050354004, 1.082200050354004, 1.082200050354004, 1.082200050354004, 1.082200050354004, 1.082200050354004, 1.082200050354004, 1.082200050354004, 1.0821000337600708, 1.0821000337600708, 1.0821000337600708, 1.0820000171661377, 1.0820000171661377, 1.0820000171661377, 1.0820000171661377, 1.0820000171661377, 1.0820000171661377, 1.0820000171661377, 1.0819000005722046, 1.0819000005722046, 0.9902999997138977, 0.939300000667572, 1.0999000072479248, 1.0999000072479248, 1.0999000072479248, 1.0997999906539917, 1.0997999906539917, 1.0997999906539917, 1.0997999906539917, 1.0997999906539917, 1.0997999906539917, 1.0996999740600586, 1.0996999740600586, 1.0996999740600586, 1.0996999740600586, 1.0996999740600586, 1.0996999740600586, 1.0996999740600586, 1.0996999740600586, 1.0995999574661255, 1.0995999574661255, 1.0995999574661255, 1.0995999574661255, 1.0995999574661255, 1.0995999574661255, 1.0995999574661255, 1.0995999574661255, 1.0995999574661255, 1.0995999574661255, 1.0994999408721924, 1.0994999408721924, 1.0994999408721924, 1.0859999656677246, 1.1134999990463257, 1.1134999990463257, 1.1134999990463257, 1.1134999990463257, 1.1134999990463257, 1.1133999824523926, 1.1133999824523926, 1.1133999824523926, 1.1133999824523926, 1.1133999824523926, 1.1133999824523926, 1.1133999824523926, 1.1133999824523926, 1.1132999658584595, 1.1132999658584595, 1.1132999658584595, 1.1132999658584595, 1.1132999658584595, 1.1132999658584595, 1.1131999492645264, 1.1131999492645264, 1.1131999492645264, 1.1131999492645264, 1.1131999492645264, 1.1131999492645264, 1.1131999492645264, 1.1131999492645264, 1.1131999492645264, 1.1131999492645264, 1.1131999492645264]}, \"token.table\": {\"Topic\": [1, 3, 1, 2, 3, 1, 1, 1, 1, 2, 3, 2, 2, 2, 2, 3, 1, 1, 3, 3, 2, 1, 1, 2, 1, 2, 1, 1, 2, 2, 1, 2, 2, 3, 3, 1, 1, 3, 3, 1, 2, 3, 3, 1, 3, 3, 1, 2, 1, 1, 1, 2, 2, 2, 2, 3, 2, 2, 3, 2, 3, 1, 2, 1, 2, 3, 3, 3, 2, 2, 3, 1, 2, 1, 3, 1, 2, 1, 3, 2, 2, 1, 3, 1, 1, 3, 1, 1, 3, 2, 3, 3, 3, 2, 3, 2, 3, 3], \"Freq\": [0.9999915361404419, 0.9998548030853271, 0.9998789429664612, 0.9997511506080627, 0.999664306640625, 0.9999516606330872, 0.9997783899307251, 0.9999002814292908, 0.9997344613075256, 0.9994862675666809, 0.9995571970939636, 0.9999303817749023, 0.9994021654129028, 0.9997633695602417, 0.9997815489768982, 0.9993377327919006, 0.9998636841773987, 0.9992934465408325, 0.9998943209648132, 0.9996135830879211, 0.9998961091041565, 0.9997133612632751, 0.8664641380310059, 0.13314621150493622, 0.9996771216392517, 0.9999182224273682, 0.9994848966598511, 0.9998036026954651, 0.9997226595878601, 0.999953031539917, 0.99992835521698, 0.9996644258499146, 0.9993375539779663, 0.9998689889907837, 0.9998623132705688, 0.9998792409896851, 0.9993828535079956, 0.9999179244041443, 0.9997609257698059, 0.9116595983505249, 0.0486774779856205, 0.03963737562298775, 0.9993268847465515, 0.9997169971466064, 0.9995104670524597, 0.9998673796653748, 0.9998268485069275, 0.9997615218162537, 0.9999229907989502, 0.9996139407157898, 0.9997802376747131, 0.999903678894043, 0.9997677206993103, 0.9994753003120422, 0.9995423555374146, 0.00035083972034044564, 0.9998126029968262, 0.9999281167984009, 0.9998717308044434, 0.9996377825737, 0.999875545501709, 0.9998880624771118, 0.9996705651283264, 0.013545568101108074, 0.986318051815033, 0.999918520450592, 0.9999141693115234, 0.9993785619735718, 0.9996325373649597, 0.9993923306465149, 0.99947190284729, 0.9996534585952759, 0.999658465385437, 0.9998859167098999, 0.9995951652526855, 0.9999769330024719, 0.9995551109313965, 0.999821126461029, 0.9998951554298401, 0.9997682571411133, 0.9999586343765259, 0.9997817873954773, 0.9994696378707886, 0.9996167421340942, 0.9996665716171265, 0.9997307062149048, 0.9995986223220825, 0.99978107213974, 0.9997847676277161, 0.9998913407325745, 0.9998573660850525, 0.9994956851005554, 0.9996899962425232, 0.9995757341384888, 0.999839723110199, 0.9997828602790833, 0.9994904398918152, 0.9998284578323364], \"Term\": [\"\", \"acabar\", \"agora\", \"alguem\", \"ano\", \"bolsonaro\", \"bom\", \"brasil\", \"cabelo\", \"cada\", \"capitao\", \"casa\", \"caso\", \"certo\", \"coisa\", \"comer\", \"contra\", \"demais\", \"depois\", \"desde\", \"deus\", \"domingo\", \"enquanto\", \"enquanto\", \"falar\", \"familia\", \"favor\", \"fim\", \"fiqueemcasa\", \"gente\", \"governo\", \"grande\", \"ha\", \"hora\", \"ir\", \"isolamento\", \"jair\", \"logo\", \"mae\", \"maior\", \"maior\", \"maior\", \"mal\", \"mandetta\", \"matar\", \"meio\", \"melhor\", \"menos\", \"merda\", \"mil\", \"ministro\", \"momento\", \"morrer\", \"morte\", \"muito\", \"muito\", \"mundo\", \"nada\", \"nem\", \"ninguem\", \"novo\", \"nunca\", \"outro\", \"pai\", \"pai\", \"pandemia\", \"passar\", \"pegar\", \"pessoa\", \"poder\", \"pois\", \"populacao\", \"porque\", \"povo\", \"preciso\", \"presidente\", \"primeiro\", \"qual\", \"quando\", \"risco\", \"sair\", \"saude\", \"semana\", \"sempre\", \"senhor\", \"sim\", \"social\", \"tambem\", \"tanto\", \"tava\", \"tempo\", \"trabalhar\", \"trabalho\", \"vez\", \"vida\", \"video\", \"voltar\", \"vontade\"]}, \"R\": 30, \"lambda.step\": 0.01, \"plot.opts\": {\"xlab\": \"PC1\", \"ylab\": \"PC2\"}, \"topic.order\": [2, 3, 1]};\n",
       "\n",
       "function LDAvis_load_lib(url, callback){\n",
       "  var s = document.createElement('script');\n",
       "  s.src = url;\n",
       "  s.async = true;\n",
       "  s.onreadystatechange = s.onload = callback;\n",
       "  s.onerror = function(){console.warn(\"failed to load library \" + url);};\n",
       "  document.getElementsByTagName(\"head\")[0].appendChild(s);\n",
       "}\n",
       "\n",
       "if(typeof(LDAvis) !== \"undefined\"){\n",
       "   // already loaded: just create the visualization\n",
       "   !function(LDAvis){\n",
       "       new LDAvis(\"#\" + \"ldavis_el293628355524558805564255877\", ldavis_el293628355524558805564255877_data);\n",
       "   }(LDAvis);\n",
       "}else if(typeof define === \"function\" && define.amd){\n",
       "   // require.js is available: use it to load d3/LDAvis\n",
       "   require.config({paths: {d3: \"https://cdnjs.cloudflare.com/ajax/libs/d3/3.5.5/d3.min\"}});\n",
       "   require([\"d3\"], function(d3){\n",
       "      window.d3 = d3;\n",
       "      LDAvis_load_lib(\"https://cdn.rawgit.com/bmabey/pyLDAvis/files/ldavis.v1.0.0.js\", function(){\n",
       "        new LDAvis(\"#\" + \"ldavis_el293628355524558805564255877\", ldavis_el293628355524558805564255877_data);\n",
       "      });\n",
       "    });\n",
       "}else{\n",
       "    // require.js not available: dynamically load d3 & LDAvis\n",
       "    LDAvis_load_lib(\"https://cdnjs.cloudflare.com/ajax/libs/d3/3.5.5/d3.min.js\", function(){\n",
       "         LDAvis_load_lib(\"https://cdn.rawgit.com/bmabey/pyLDAvis/files/ldavis.v1.0.0.js\", function(){\n",
       "                 new LDAvis(\"#\" + \"ldavis_el293628355524558805564255877\", ldavis_el293628355524558805564255877_data);\n",
       "            })\n",
       "         });\n",
       "}\n",
       "</script>"
      ],
      "text/plain": [
       "PreparedData(topic_coordinates=              x         y  topics  cluster       Freq\n",
       "topic                                                \n",
       "1      0.302101 -0.243594       1        1  33.875553\n",
       "2     -0.362389 -0.139360       2        1  33.287632\n",
       "0      0.060288  0.382954       3        1  32.836815, topic_info=           Term          Freq         Total Category  logprob  loglift\n",
       "53    bolsonaro  22588.000000  22588.000000  Default  30.0000  30.0000\n",
       "7    presidente  19709.000000  19709.000000  Default  29.0000  29.0000\n",
       "16               15848.000000  15848.000000  Default  28.0000  28.0000\n",
       "50         casa  12220.000000  12220.000000  Default  27.0000  27.0000\n",
       "66        gente   8708.000000   8708.000000  Default  26.0000  26.0000\n",
       "..          ...           ...           ...      ...      ...      ...\n",
       "874       comer   1441.311523   1441.954956   Topic3  -5.2570   1.1132\n",
       "143         ano   1471.830322   1472.494263   Topic3  -5.2361   1.1132\n",
       "89        matar   1454.044434   1454.712158   Topic3  -5.2482   1.1132\n",
       "676     capitao   1512.974487   1513.670288   Topic3  -5.2085   1.1132\n",
       "274       desde   1451.885742   1452.561279   Topic3  -5.2497   1.1132\n",
       "\n",
       "[123 rows x 6 columns], token_table=      Topic      Freq     Term\n",
       "term                          \n",
       "16        1  0.999992         \n",
       "37        3  0.999855   acabar\n",
       "286       1  0.999879    agora\n",
       "154       2  0.999751   alguem\n",
       "143       3  0.999664      ano\n",
       "...     ...       ...      ...\n",
       "141       2  0.999576      vez\n",
       "63        3  0.999840     vida\n",
       "534       2  0.999783    video\n",
       "400       3  0.999490   voltar\n",
       "74        3  0.999828  vontade\n",
       "\n",
       "[98 rows x 3 columns], R=30, lambda_step=0.01, plot_opts={'xlab': 'PC1', 'ylab': 'PC2'}, topic_order=[2, 3, 1])"
      ]
     },
     "execution_count": 23,
     "metadata": {},
     "output_type": "execute_result"
    }
   ],
   "source": [
    "# Visualização dos tópicos em clusters\n",
    "\n",
    "pyLDAvis.enable_notebook()\n",
    "vis = pyLDAvis.gensim.prepare(lda_model, corpus, id2word)\n",
    "vis"
   ]
  },
  {
   "cell_type": "code",
   "execution_count": 24,
   "metadata": {},
   "outputs": [],
   "source": [
    "# Função para determinar a melhor quantidade de tópicos para a modelagem\n",
    "\n",
    "def compute_coherence_values(dictionary, corpus, texts, limit, start=2, step=5):\n",
    "    coherence_values = []\n",
    "    model_list = []\n",
    "    for num_topics in tqdm(range(start, limit, step)):\n",
    "        model = LdaMulticore(corpus, id2word=id2word, num_topics=3)\n",
    "        model_list.append(model)\n",
    "        coherencemodel = CoherenceModel(model=model, texts=texts, dictionary=dictionary, coherence='c_v')\n",
    "        coherence_values.append(coherencemodel.get_coherence())\n",
    "\n",
    "    return model_list, coherence_values"
   ]
  },
  {
   "cell_type": "code",
   "execution_count": 25,
   "metadata": {},
   "outputs": [
    {
     "name": "stderr",
     "output_type": "stream",
     "text": [
      "100%|████████████████████████████████████████████████████████████████████████████████████| 1/1 [01:32<00:00, 92.50s/it]\n"
     ]
    }
   ],
   "source": [
    "# Colocando parametros na função\n",
    "\n",
    "model_list, coherence_values = compute_coherence_values(dictionary=id2word, corpus=corpus, texts=texto, start=2, limit=4, step=2)"
   ]
  },
  {
   "cell_type": "code",
   "execution_count": 26,
   "metadata": {},
   "outputs": [
    {
     "data": {
      "text/plain": [
       "[(0,\n",
       "  '0.075*\"bolsonaro\" + 0.011*\"depois\" + 0.010*\"pandemia\" + 0.010*\"melhor\" + 0.009*\"gente\" + 0.008*\"brasil\" + 0.008*\"cabelo\" + 0.007*\"deus\" + 0.007*\"governo\" + 0.007*\"agora\" + 0.006*\"contra\" + 0.006*\"cada\" + 0.006*\"mal\" + 0.006*\"coisa\" + 0.006*\"familia\" + 0.006*\"presidente\" + 0.005*\"meio\" + 0.005*\"pai\" + 0.005*\"casa\" + 0.005*\"logo\"'),\n",
       " (1,\n",
       "  '0.061*\"\" + 0.027*\"acabar\" + 0.024*\"nem\" + 0.023*\"quando\" + 0.022*\"pandemia\" + 0.017*\"gente\" + 0.017*\"mundo\" + 0.009*\"saude\" + 0.009*\"coisa\" + 0.009*\"nada\" + 0.008*\"novo\" + 0.007*\"tanto\" + 0.006*\"depois\" + 0.006*\"ir\" + 0.006*\"tempo\" + 0.005*\"ano\" + 0.005*\"fim\" + 0.005*\"demais\" + 0.005*\"agora\" + 0.005*\"quase\"'),\n",
       " (2,\n",
       "  '0.061*\"presidente\" + 0.031*\"casa\" + 0.012*\"povo\" + 0.012*\"muito\" + 0.011*\"brasil\" + 0.011*\"passar\" + 0.011*\"agora\" + 0.010*\"sair\" + 0.010*\"sim\" + 0.009*\"quando\" + 0.009*\"domingo\" + 0.008*\"merda\" + 0.006*\"nunca\" + 0.006*\"vida\" + 0.006*\"depois\" + 0.005*\"mae\" + 0.005*\"falar\" + 0.005*\"hora\" + 0.005*\"primeiro\" + 0.005*\"gente\"')]"
      ]
     },
     "execution_count": 26,
     "metadata": {},
     "output_type": "execute_result"
    }
   ],
   "source": [
    "# Escolhe o modelo\n",
    "\n",
    "optimal_model = model_list[0]\n",
    "optimal_model.print_topics(num_topics = 3, num_words = 20)"
   ]
  },
  {
   "cell_type": "code",
   "execution_count": 27,
   "metadata": {},
   "outputs": [],
   "source": [
    "# Encontrar qual o principal tópico em cada tweet\n",
    "\n",
    "def format_topics_sentences(ldamodel=lda_model, corpus=corpus, texts=texto):\n",
    "    # Output\n",
    "    sent_topics_df = pd.DataFrame()\n",
    "\n",
    "    # Seleciona o principal tópico de cada tweet\n",
    "    for i, row in enumerate(ldamodel[corpus]):\n",
    "        row = sorted(row, key=lambda x: (x[1]), reverse=True)\n",
    "        # Calcula o principal tópico, o percentual de contribuição e as palavras chaves de cada tweet\n",
    "        for j, (topic_num, prop_topic) in enumerate(row):\n",
    "            if j == 0:  # => mostra o principal tópico\n",
    "                wp = ldamodel.show_topic(topic_num)\n",
    "                topic_keywords = \", \".join([word for word, prop in wp])\n",
    "                sent_topics_df = sent_topics_df.append(pd.Series([int(topic_num), round(prop_topic,4), topic_keywords]), ignore_index=True)\n",
    "            else:\n",
    "                break\n",
    "    sent_topics_df.columns = ['Principal_Topico', 'Perc_Contributicao', 'Palavras_Chave']\n",
    "\n",
    "    # Inclui o texto original no final do DataFrame\n",
    "    contents = pd.Series(texts)\n",
    "    sent_topics_df = pd.concat([sent_topics_df, contents], axis=1)\n",
    "    return(sent_topics_df)"
   ]
  },
  {
   "cell_type": "code",
   "execution_count": 28,
   "metadata": {},
   "outputs": [],
   "source": [
    "# roda a função de calcular os principais tópicos de cada tweet\n",
    "\n",
    "df_topic_sents_keywords = format_topics_sentences(ldamodel=optimal_model, corpus=corpus, texts=texto)"
   ]
  },
  {
   "cell_type": "code",
   "execution_count": 29,
   "metadata": {},
   "outputs": [],
   "source": [
    "# Formata o DataFrame\n",
    "\n",
    "df_dominant_topic = df_topic_sents_keywords.reset_index()\n",
    "df_dominant_topic.columns = ['Index_DF_Original', 'Principal_Topico', 'Perc_Contrib_Topico', 'Palavras_Chave', 'Tweets']"
   ]
  },
  {
   "cell_type": "code",
   "execution_count": 30,
   "metadata": {
    "scrolled": true
   },
   "outputs": [
    {
     "data": {
      "text/html": [
       "<div>\n",
       "<style scoped>\n",
       "    .dataframe tbody tr th:only-of-type {\n",
       "        vertical-align: middle;\n",
       "    }\n",
       "\n",
       "    .dataframe tbody tr th {\n",
       "        vertical-align: top;\n",
       "    }\n",
       "\n",
       "    .dataframe thead th {\n",
       "        text-align: right;\n",
       "    }\n",
       "</style>\n",
       "<table border=\"1\" class=\"dataframe\">\n",
       "  <thead>\n",
       "    <tr style=\"text-align: right;\">\n",
       "      <th></th>\n",
       "      <th>Topico</th>\n",
       "      <th>Topico_Perc_Contrib</th>\n",
       "      <th>Palavras_Chave</th>\n",
       "      <th>Tweet</th>\n",
       "    </tr>\n",
       "  </thead>\n",
       "  <tbody>\n",
       "    <tr>\n",
       "      <th>0</th>\n",
       "      <td>0.0</td>\n",
       "      <td>0.9662</td>\n",
       "      <td>bolsonaro, depois, pandemia, melhor, gente, br...</td>\n",
       "      <td>[desflopando, exposed, daddy, volta, marcela, ...</td>\n",
       "    </tr>\n",
       "    <tr>\n",
       "      <th>1</th>\n",
       "      <td>1.0</td>\n",
       "      <td>0.9541</td>\n",
       "      <td>, acabar, nem, quando, pandemia, gente, mundo,...</td>\n",
       "      <td>[saude, novo, tempo, mar, manter, quase, gente...</td>\n",
       "    </tr>\n",
       "    <tr>\n",
       "      <th>2</th>\n",
       "      <td>2.0</td>\n",
       "      <td>0.9569</td>\n",
       "      <td>presidente, casa, povo, muito, brasil, passar,...</td>\n",
       "      <td>[ocioso, macho, dentro, abrir, usar, argumento...</td>\n",
       "    </tr>\n",
       "  </tbody>\n",
       "</table>\n",
       "</div>"
      ],
      "text/plain": [
       "   Topico  Topico_Perc_Contrib  \\\n",
       "0     0.0               0.9662   \n",
       "1     1.0               0.9541   \n",
       "2     2.0               0.9569   \n",
       "\n",
       "                                      Palavras_Chave  \\\n",
       "0  bolsonaro, depois, pandemia, melhor, gente, br...   \n",
       "1  , acabar, nem, quando, pandemia, gente, mundo,...   \n",
       "2  presidente, casa, povo, muito, brasil, passar,...   \n",
       "\n",
       "                                               Tweet  \n",
       "0  [desflopando, exposed, daddy, volta, marcela, ...  \n",
       "1  [saude, novo, tempo, mar, manter, quase, gente...  \n",
       "2  [ocioso, macho, dentro, abrir, usar, argumento...  "
      ]
     },
     "execution_count": 30,
     "metadata": {},
     "output_type": "execute_result"
    }
   ],
   "source": [
    "# Group top 5 sentences under each topic\n",
    "sent_topics_sorteddf_mallet = pd.DataFrame()\n",
    "\n",
    "sent_topics_outdf_grpd = df_topic_sents_keywords.groupby('Principal_Topico')\n",
    "\n",
    "for i, grp in sent_topics_outdf_grpd:\n",
    "    sent_topics_sorteddf_mallet = pd.concat([sent_topics_sorteddf_mallet, \n",
    "                                             grp.sort_values(['Perc_Contributicao'], ascending=[0]).head(1)], \n",
    "                                            axis=0)\n",
    "\n",
    "# Reset Index    \n",
    "sent_topics_sorteddf_mallet.reset_index(drop=True, inplace=True)\n",
    "\n",
    "# Format\n",
    "sent_topics_sorteddf_mallet.columns = ['Topico', \"Topico_Perc_Contrib\", \"Palavras_Chave\", \"Tweet\"]\n",
    "\n",
    "# Show\n",
    "sent_topics_sorteddf_mallet"
   ]
  },
  {
   "cell_type": "code",
   "execution_count": 31,
   "metadata": {},
   "outputs": [
    {
     "data": {
      "text/html": [
       "<div>\n",
       "<style scoped>\n",
       "    .dataframe tbody tr th:only-of-type {\n",
       "        vertical-align: middle;\n",
       "    }\n",
       "\n",
       "    .dataframe tbody tr th {\n",
       "        vertical-align: top;\n",
       "    }\n",
       "\n",
       "    .dataframe thead th {\n",
       "        text-align: right;\n",
       "    }\n",
       "</style>\n",
       "<table border=\"1\" class=\"dataframe\">\n",
       "  <thead>\n",
       "    <tr style=\"text-align: right;\">\n",
       "      <th></th>\n",
       "      <th>Principal_Topico</th>\n",
       "      <th>Palavras_Chave</th>\n",
       "      <th>Qtd_Tweets</th>\n",
       "      <th>Perc_Tweets</th>\n",
       "    </tr>\n",
       "  </thead>\n",
       "  <tbody>\n",
       "    <tr>\n",
       "      <th>0.0</th>\n",
       "      <td>0.0</td>\n",
       "      <td>bolsonaro, depois, pandemia, melhor, gente, br...</td>\n",
       "      <td>62852.0</td>\n",
       "      <td>0.3101</td>\n",
       "    </tr>\n",
       "    <tr>\n",
       "      <th>1.0</th>\n",
       "      <td>2.0</td>\n",
       "      <td>presidente, casa, povo, muito, brasil, passar,...</td>\n",
       "      <td>68167.0</td>\n",
       "      <td>0.3363</td>\n",
       "    </tr>\n",
       "    <tr>\n",
       "      <th>2.0</th>\n",
       "      <td>1.0</td>\n",
       "      <td>, acabar, nem, quando, pandemia, gente, mundo,...</td>\n",
       "      <td>71691.0</td>\n",
       "      <td>0.3537</td>\n",
       "    </tr>\n",
       "    <tr>\n",
       "      <th>3.0</th>\n",
       "      <td>1.0</td>\n",
       "      <td>, acabar, nem, quando, pandemia, gente, mundo,...</td>\n",
       "      <td>NaN</td>\n",
       "      <td>NaN</td>\n",
       "    </tr>\n",
       "    <tr>\n",
       "      <th>4.0</th>\n",
       "      <td>1.0</td>\n",
       "      <td>, acabar, nem, quando, pandemia, gente, mundo,...</td>\n",
       "      <td>NaN</td>\n",
       "      <td>NaN</td>\n",
       "    </tr>\n",
       "    <tr>\n",
       "      <th>...</th>\n",
       "      <td>...</td>\n",
       "      <td>...</td>\n",
       "      <td>...</td>\n",
       "      <td>...</td>\n",
       "    </tr>\n",
       "    <tr>\n",
       "      <th>202705.0</th>\n",
       "      <td>1.0</td>\n",
       "      <td>, acabar, nem, quando, pandemia, gente, mundo,...</td>\n",
       "      <td>NaN</td>\n",
       "      <td>NaN</td>\n",
       "    </tr>\n",
       "    <tr>\n",
       "      <th>202706.0</th>\n",
       "      <td>2.0</td>\n",
       "      <td>presidente, casa, povo, muito, brasil, passar,...</td>\n",
       "      <td>NaN</td>\n",
       "      <td>NaN</td>\n",
       "    </tr>\n",
       "    <tr>\n",
       "      <th>202707.0</th>\n",
       "      <td>1.0</td>\n",
       "      <td>, acabar, nem, quando, pandemia, gente, mundo,...</td>\n",
       "      <td>NaN</td>\n",
       "      <td>NaN</td>\n",
       "    </tr>\n",
       "    <tr>\n",
       "      <th>202708.0</th>\n",
       "      <td>2.0</td>\n",
       "      <td>presidente, casa, povo, muito, brasil, passar,...</td>\n",
       "      <td>NaN</td>\n",
       "      <td>NaN</td>\n",
       "    </tr>\n",
       "    <tr>\n",
       "      <th>202709.0</th>\n",
       "      <td>1.0</td>\n",
       "      <td>, acabar, nem, quando, pandemia, gente, mundo,...</td>\n",
       "      <td>NaN</td>\n",
       "      <td>NaN</td>\n",
       "    </tr>\n",
       "  </tbody>\n",
       "</table>\n",
       "<p>202710 rows × 4 columns</p>\n",
       "</div>"
      ],
      "text/plain": [
       "          Principal_Topico                                     Palavras_Chave  \\\n",
       "0.0                    0.0  bolsonaro, depois, pandemia, melhor, gente, br...   \n",
       "1.0                    2.0  presidente, casa, povo, muito, brasil, passar,...   \n",
       "2.0                    1.0  , acabar, nem, quando, pandemia, gente, mundo,...   \n",
       "3.0                    1.0  , acabar, nem, quando, pandemia, gente, mundo,...   \n",
       "4.0                    1.0  , acabar, nem, quando, pandemia, gente, mundo,...   \n",
       "...                    ...                                                ...   \n",
       "202705.0               1.0  , acabar, nem, quando, pandemia, gente, mundo,...   \n",
       "202706.0               2.0  presidente, casa, povo, muito, brasil, passar,...   \n",
       "202707.0               1.0  , acabar, nem, quando, pandemia, gente, mundo,...   \n",
       "202708.0               2.0  presidente, casa, povo, muito, brasil, passar,...   \n",
       "202709.0               1.0  , acabar, nem, quando, pandemia, gente, mundo,...   \n",
       "\n",
       "          Qtd_Tweets  Perc_Tweets  \n",
       "0.0          62852.0       0.3101  \n",
       "1.0          68167.0       0.3363  \n",
       "2.0          71691.0       0.3537  \n",
       "3.0              NaN          NaN  \n",
       "4.0              NaN          NaN  \n",
       "...              ...          ...  \n",
       "202705.0         NaN          NaN  \n",
       "202706.0         NaN          NaN  \n",
       "202707.0         NaN          NaN  \n",
       "202708.0         NaN          NaN  \n",
       "202709.0         NaN          NaN  \n",
       "\n",
       "[202710 rows x 4 columns]"
      ]
     },
     "execution_count": 31,
     "metadata": {},
     "output_type": "execute_result"
    }
   ],
   "source": [
    "# Numero de tweets por topico\n",
    "\n",
    "topic_counts = df_topic_sents_keywords['Principal_Topico'].value_counts()\n",
    "\n",
    "# Porcentagem de tweets por tópico\n",
    "topic_contribution = round(topic_counts/topic_counts.sum(), 4)\n",
    "\n",
    "# Número do tópico e suas palavras chave\n",
    "topic_num_keywords = df_topic_sents_keywords[['Principal_Topico', 'Palavras_Chave']]\n",
    "\n",
    "# Concatena as colunas\n",
    "df_dominant_topics = pd.concat([topic_num_keywords, topic_counts, topic_contribution], axis=1)\n",
    "\n",
    "# Renomeia as colunas\n",
    "df_dominant_topics.columns = ['Principal_Topico', 'Palavras_Chave', 'Qtd_Tweets', 'Perc_Tweets']\n",
    "\n",
    "# Mostra o DataFrame\n",
    "df_dominant_topics"
   ]
  },
  {
   "cell_type": "code",
   "execution_count": 32,
   "metadata": {},
   "outputs": [],
   "source": [
    "# Criando stopwords em português utilizando a biblioteca nltk\n",
    "import pt_core_news_sm\n",
    "nlp = pt_core_news_sm.load()\n",
    "pt_stopwords = sorted([token.text for token in nlp.vocab if token.is_stop])\n",
    "list_exclude = ['obrigado', 'bom', 'mal', 'nenhuma', 'maior',\n",
    "             'bem', 'não', 'máximo', 'boa', 'mais',\n",
    "               'bastante', 'certamente', 'certeza', 'contra',\n",
    "                'quarentena', 'coronavírus', 'presidente', 'impeachment', 'demitido', 'demitida']\n",
    "for word in list_exclude:\n",
    "    nlp.vocab[word].is_stop = False\n",
    "list_include = set(['o', 'a', 'tá', 'ta', 'ser', 'pro', 'to', 'tô', 'vc', 'você', 'voce', 'pra',\n",
    "                    'pq', 'é', 'vou', 'que','tão', 'gt', 'de', 'da', 'do', 'em', 'uma', 'lá',\n",
    "                    'já', 'no', 'para', 'na', 'com', 'um', 'minha', 'se', 'isso', 'por', 'vou',\n",
    "                    'os', 'isso', 'como', 'mesmo', 'tenho', 'aqui', 'ele', 'ela', 'quem', 'fazer',\n",
    "                    'eu', 'só', 'ai', 'mais', 'só', 'querer', 'https', 'ter', 'estar', 'ficar',\n",
    "                    'dos', 'das', 'vcs', 'tem', 'as', 'mas','ao'\n",
    "                    'tava', 'nao', 'sao', 'ja', 'so', 'nossa',\n",
    "                    'nosso', 'estao', 'tco', 'me', 'dia', 'te', 'ver', 'sera', 'porra', 'fez', 'ne',\n",
    "                    'kkk','kkkkkk', 'puta', 'kkkkkkkk', 'hj', 'afff', 'gbr', 'meu', 'cara', 'guri', 'cmg',\n",
    "                    'ctg', 'agr', 'pqp', 'vdd', 'eh', 'va', 'obg',\n",
    "                    'corona','virus','coronavirus','covid','covid19','19'\n",
    "                   'nem', 'numa', 'num', 'nuns', 'ces', 'voces', 'oce', 'oces', 'kkkk', 'vao', 'via',\n",
    "                    'hj', 'hoje', 'tudo', 'todo', 'toda',\n",
    "                    'vir', 'bem','ao','sem','ou','vai', 'dizer', 'entao', 'dizer', 'entao',\n",
    "                    'tao', 'tu', 'mim', 'mano', 'oq', 'pos', 'dm', 'dps',\n",
    "                    'coronavirusoutbreak', 'coronavirusPandemic', 'dar', 'vairus',\n",
    "                    'ainda', 'assim']\n",
    "                  )\n",
    "for w in list_include:\n",
    "    nlp.vocab[w].is_stop = True\n",
    "stop_words = sorted([token.text for token in nlp.vocab if token.is_stop])"
   ]
  },
  {
   "cell_type": "code",
   "execution_count": 34,
   "metadata": {},
   "outputs": [
    {
     "data": {
      "image/png": "[encoded data removed]",
      "text/plain": [
       "<Figure size 720x720 with 3 Axes>"
      ]
     },
     "metadata": {
      "needs_background": "light"
     },
     "output_type": "display_data"
    }
   ],
   "source": [
    "# Cria wordclouds\n",
    "\n",
    "cols = [color for name, color in mcolors.XKCD_COLORS.items()]\n",
    "\n",
    "cloud = WordCloud(stopwords=stop_words,\n",
    "                  background_color='white',\n",
    "                  width=2500,\n",
    "                  height=1800,\n",
    "                  max_words=20,\n",
    "                  colormap='tab10',\n",
    "                  color_func=lambda *args, **kwargs: cols[i],\n",
    "                  prefer_horizontal=1.0)\n",
    "\n",
    "topics = lda_model.show_topics(formatted=False)\n",
    "\n",
    "fig, axes = plt.subplots(1, 3, figsize=(10,10), sharex=True, sharey=True)\n",
    "\n",
    "for i, ax in enumerate(axes.flatten()):\n",
    "    fig.add_subplot(ax)\n",
    "    topic_words = dict(topics[i][1])\n",
    "    cloud.generate_from_frequencies(topic_words, max_font_size=600)\n",
    "    plt.gca().imshow(cloud)\n",
    "    plt.gca().set_title('Topic ' + str(i), fontdict=dict(size=16))\n",
    "    plt.gca().axis('off')\n",
    "\n",
    "\n",
    "plt.subplots_adjust(wspace=0, hspace=0)\n",
    "plt.axis('off')\n",
    "plt.margins(x=0, y=0)\n",
    "plt.tight_layout()\n",
    "plt.show()"
   ]
  },
  {
   "cell_type": "code",
   "execution_count": 35,
   "metadata": {},
   "outputs": [],
   "source": [
    "sent_topics_sorteddf_mallet.to_excel('keywords_0329.xlsx')"
   ]
  },
  {
   "cell_type": "code",
   "execution_count": null,
   "metadata": {},
   "outputs": [],
   "source": []
  }
 ],
 "metadata": {
  "kernelspec": {
   "display_name": "Python 3",
   "language": "python",
   "name": "python3"
  },
  "language_info": {
   "codemirror_mode": {
    "name": "ipython",
    "version": 3
   },
   "file_extension": ".py",
   "mimetype": "text/x-python",
   "name": "python",
   "nbconvert_exporter": "python",
   "pygments_lexer": "ipython3",
   "version": "3.7.6"
  }
 },
 "nbformat": 4,
 "nbformat_minor": 1
}
