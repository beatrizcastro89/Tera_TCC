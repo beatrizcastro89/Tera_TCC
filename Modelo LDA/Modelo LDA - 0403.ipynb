{
 "cells": [
  {
   "cell_type": "markdown",
   "metadata": {
    "collapsed": true
   },
   "source": [
    "Análise do dia 03/04 através do modelo LDA."
   ]
  },
  {
   "cell_type": "code",
   "execution_count": 1,
   "metadata": {},
   "outputs": [],
   "source": [
    "# Importar bibliotecas\n",
    "\n",
    "# gerais\n",
    "import sys\n",
    "import os\n",
    "from pathlib import Path\n",
    "import re\n",
    "import numpy as np\n",
    "import pandas as pd\n",
    "from pprint import pprint\n",
    "from tqdm import tqdm\n",
    "from ast import literal_eval\n",
    "\n",
    "# Gensim\n",
    "import gensim, spacy, logging, warnings\n",
    "import gensim.corpora as corpora\n",
    "from gensim.utils import lemmatize, simple_preprocess\n",
    "from gensim.models import CoherenceModel\n",
    "from gensim.models.ldamulticore import LdaMulticore\n",
    "\n",
    "# NLTK Stop words\n",
    "import nltk\n",
    "from nltk.corpus import stopwords\n",
    "\n",
    "#plot\n",
    "import pyLDAvis\n",
    "import pyLDAvis.gensim\n",
    "import matplotlib.pyplot as plt\n",
    "import matplotlib.colors as mcolors\n",
    "%matplotlib inline\n",
    "from wordcloud import WordCloud, STOPWORDS"
   ]
  },
  {
   "cell_type": "code",
   "execution_count": 2,
   "metadata": {},
   "outputs": [],
   "source": [
    "# Criando stopwords em português utilizando a biblioteca nltk\n",
    "\n",
    "nlp = spacy.load(\"pt_core_news_sm\")\n",
    "pt_stopwords = sorted([token.text for token in nlp.vocab if token.is_stop])\n",
    "list_exclude = ['obrigado', 'bom', 'mal', 'nenhuma', 'maior', \n",
    "             'bem', 'não', 'máximo', 'boa', 'mais',\n",
    "               'bastante', 'certamente', 'certeza', 'contra',\n",
    "                'quarentena', 'coronavírus', 'presidente', 'impeachment', 'demitido', 'demitida']\n",
    "for word in list_exclude:\n",
    "    nlp.vocab[word].is_stop = False\n",
    "list_include = set(['o', 'a', 'tá', 'ta', 'ser', 'pro', 'to', 'tô', 'vc', 'você', 'voce', 'pra',\n",
    "                    'pq', 'é', 'vou', 'que','tão', 'gt', 'de', 'da', 'do', 'em', 'uma', 'lá',\n",
    "                    'já', 'no', 'para', 'na', 'com', 'um', 'minha', 'se', 'isso', 'por', 'vou',\n",
    "                    'os', 'isso', 'como', 'mesmo', 'tenho', 'aqui', 'ele', 'ela', 'quem', 'fazer',\n",
    "                    'eu', 'só', 'ai', 'mais', 'só', 'querer', 'https', 'ter', 'estar', 'ficar',\n",
    "                    'dos', 'das', 'vcs', 'jairbolsonaro', 'tava', 'nao', 'sao', 'ja', 'so', 'nossa',\n",
    "                    'nosso', 'estao', 'tco', 'me', 'dia', 'te', 'ver', 'sera', 'porra', 'fez', 'ne',\n",
    "                    'kkkkkk', 'puta', 'kkkkkkkk', 'hj', 'afff', 'gbr', 'meu', 'cara', 'guri', 'cmg',\n",
    "                    'ctg', 'agr', 'pqp', 'vdd', 'eh', 'va', 'fudeu', 'fuder', 'fodeu', 'foda', 'obg',\n",
    "                   'nem', 'numa', 'num', 'nuns', 'ces', 'voces', 'oce', 'oces', 'kkkk', 'vao', 'via',\n",
    "                    'hj', 'hoje', 'tudo', 'todo', 'toda', 'ir', 'vir', 'bem', 'sair', 'tao']\n",
    "                  )\n",
    "for w in list_include:\n",
    "    nlp.vocab[w].is_stop = True\n",
    "stop_words = sorted([token.text for token in nlp.vocab if token.is_stop])"
   ]
  },
  {
   "cell_type": "markdown",
   "metadata": {},
   "source": [
    "# Preparação dos dados"
   ]
  },
  {
   "cell_type": "code",
   "execution_count": 3,
   "metadata": {},
   "outputs": [
    {
     "name": "stderr",
     "output_type": "stream",
     "text": [
      "C:\\ProgramData\\Anaconda3\\lib\\site-packages\\IPython\\core\\interactiveshell.py:3063: DtypeWarning: Columns (2) have mixed types.Specify dtype option on import or set low_memory=False.\n",
      "  interactivity=interactivity, compiler=compiler, result=result)\n"
     ]
    }
   ],
   "source": [
    "# import dos dados\n",
    "\n",
    "df = pd.read_csv('0403_preprocessado.csv')"
   ]
  },
  {
   "cell_type": "code",
   "execution_count": 4,
   "metadata": {},
   "outputs": [],
   "source": [
    "# import dos tokens\n",
    "\n",
    "df_tokens = pd.read_csv('tokens_unicos_10k.csv')"
   ]
  },
  {
   "cell_type": "code",
   "execution_count": 5,
   "metadata": {},
   "outputs": [],
   "source": [
    "# criação de lista de tokens\n",
    "\n",
    "lista_token = []\n",
    "\n",
    "for row in range(0, len(df_tokens)):\n",
    "    lista_token.append(df_tokens.iloc[row,1])\n",
    "    \n",
    "lista_token = set(lista_token)"
   ]
  },
  {
   "cell_type": "code",
   "execution_count": 6,
   "metadata": {},
   "outputs": [],
   "source": [
    "# filtranso os tokens para aparecer apenas os 10 mil mais frequentes\n",
    "\n",
    "df['token2'] = df.token.apply(lambda x: str(list(set(literal_eval(x)).intersection(lista_token))))"
   ]
  },
  {
   "cell_type": "code",
   "execution_count": 7,
   "metadata": {},
   "outputs": [],
   "source": [
    "# função para reverter os tokens processados em lista de tuples\n",
    "\n",
    "def strip_characters(text):\n",
    "    t = re.sub(r'\\(|\\)|:|,|;|\\.|’|”|“|\\?|%|>|<|\\[|\\]', '', text)\n",
    "    t = re.sub(r'/', ' ', t)\n",
    "    t = t.replace(\"'\",'')\n",
    "    return t"
   ]
  },
  {
   "cell_type": "code",
   "execution_count": 8,
   "metadata": {},
   "outputs": [],
   "source": [
    "# aplica função em todos os tokens\n",
    "\n",
    "df['token2'] = df['token2'].apply(lambda x: strip_characters(x))\n",
    "df['token2'] = df['token2'].apply(lambda x: str(x).split(' '))"
   ]
  },
  {
   "cell_type": "code",
   "execution_count": 9,
   "metadata": {},
   "outputs": [],
   "source": [
    "# transforma os tokens em lista\n",
    "\n",
    "lista = list(df['token2'])"
   ]
  },
  {
   "cell_type": "code",
   "execution_count": 10,
   "metadata": {},
   "outputs": [],
   "source": [
    "# Build the bigram and trigram models\n",
    "\n",
    "bigram = gensim.models.Phrases(lista, min_count=5, threshold=100)\n",
    "bigram_mod = gensim.models.phrases.Phraser(bigram)\n",
    "\n",
    "trigram = gensim.models.Phrases(bigram[lista], threshold=100)\n",
    "trigram_mod = gensim.models.phrases.Phraser(trigram)"
   ]
  },
  {
   "cell_type": "code",
   "execution_count": 11,
   "metadata": {},
   "outputs": [],
   "source": [
    "# função para preprocessar palavras\n",
    "\n",
    "def process_words(texts, stop_words=stop_words, allowed_postags=['NOUN', 'ADJ', 'VERB', 'ADV']):\n",
    "    texts1 = [[word for word in simple_preprocess(str(doc)) if word not in stop_words] for doc in texts]\n",
    "    texts2 = [bigram_mod[doc] for doc in texts1]\n",
    "    texts3 = [trigram_mod[bigram_mod[doc]] for doc in texts2]\n",
    "    texts4 = [[word for word in simple_preprocess(str(doc)) if word not in stop_words] for doc in texts3]    \n",
    "    return texts4"
   ]
  },
  {
   "cell_type": "code",
   "execution_count": 12,
   "metadata": {},
   "outputs": [],
   "source": [
    "# Processing the abstract\n",
    "\n",
    "texto = process_words(lista)"
   ]
  },
  {
   "cell_type": "markdown",
   "metadata": {},
   "source": [
    "# Modelagem"
   ]
  },
  {
   "cell_type": "code",
   "execution_count": 13,
   "metadata": {},
   "outputs": [],
   "source": [
    "# Criar dicionário\n",
    "\n",
    "id2word = corpora.Dictionary(texto)"
   ]
  },
  {
   "cell_type": "code",
   "execution_count": 14,
   "metadata": {},
   "outputs": [],
   "source": [
    "# Criar o Corpus: A Frequência das palavras nos documentos\n",
    "\n",
    "corpus = [id2word.doc2bow(text) for text in texto]"
   ]
  },
  {
   "cell_type": "code",
   "execution_count": 15,
   "metadata": {},
   "outputs": [],
   "source": [
    "# Função para determinar a melhor quantidade de tópicos para a modelagem\n",
    "\n",
    "def compute_coherence_values(dictionary, corpus, texts, limit, start=2, step=5):\n",
    "    coherence_values = []\n",
    "    model_list = []\n",
    "    for num_topics in tqdm(range(start, limit, step)):\n",
    "        model = LdaMulticore(corpus, id2word=id2word, num_topics=10)\n",
    "        model_list.append(model)\n",
    "        coherencemodel = CoherenceModel(model=model, texts=texts, dictionary=dictionary, coherence='c_v')\n",
    "        coherence_values.append(coherencemodel.get_coherence())\n",
    "\n",
    "    return model_list, coherence_values"
   ]
  },
  {
   "cell_type": "code",
   "execution_count": 16,
   "metadata": {},
   "outputs": [
    {
     "name": "stderr",
     "output_type": "stream",
     "text": [
      "100%|██████████████████████████████████████████████████████████████████████████████████| 14/14 [07:39<00:00, 32.81s/it]\n"
     ]
    }
   ],
   "source": [
    "# Colocando parametros na função\n",
    "\n",
    "model_list, coherence_values = compute_coherence_values(dictionary=id2word, corpus=corpus, texts=texto, start=2, limit=30, step=2)"
   ]
  },
  {
   "cell_type": "code",
   "execution_count": 17,
   "metadata": {},
   "outputs": [
    {
     "data": {
      "image/png": "[encoded data removed]",
      "text/plain": [
       "<Figure size 432x288 with 1 Axes>"
      ]
     },
     "metadata": {
      "needs_background": "light"
     },
     "output_type": "display_data"
    }
   ],
   "source": [
    "# Mostrando visualmente a quantidade de tópicos\n",
    "\n",
    "limit=30; start=2; step=2;\n",
    "x = range(start, limit, step)\n",
    "plt.plot(x, coherence_values)\n",
    "plt.xlabel(\"Num Tópicos\")\n",
    "plt.ylabel(\"Score de Coerência\")\n",
    "plt.legend((\"Valores de Coerência\"), loc='best')\n",
    "plt.show()"
   ]
  },
  {
   "cell_type": "code",
   "execution_count": 18,
   "metadata": {},
   "outputs": [
    {
     "name": "stdout",
     "output_type": "stream",
     "text": [
      "A quantidade de tópicos = 2  tem um valor de coerência de  0.2784\n",
      "A quantidade de tópicos = 4  tem um valor de coerência de  0.2597\n",
      "A quantidade de tópicos = 6  tem um valor de coerência de  0.2721\n",
      "A quantidade de tópicos = 8  tem um valor de coerência de  0.2602\n",
      "A quantidade de tópicos = 10  tem um valor de coerência de  0.2954\n",
      "A quantidade de tópicos = 12  tem um valor de coerência de  0.2897\n",
      "A quantidade de tópicos = 14  tem um valor de coerência de  0.2887\n",
      "A quantidade de tópicos = 16  tem um valor de coerência de  0.2971\n",
      "A quantidade de tópicos = 18  tem um valor de coerência de  0.2838\n",
      "A quantidade de tópicos = 20  tem um valor de coerência de  0.2852\n",
      "A quantidade de tópicos = 22  tem um valor de coerência de  0.2575\n",
      "A quantidade de tópicos = 24  tem um valor de coerência de  0.3001\n",
      "A quantidade de tópicos = 26  tem um valor de coerência de  0.3051\n",
      "A quantidade de tópicos = 28  tem um valor de coerência de  0.2774\n"
     ]
    }
   ],
   "source": [
    "# Lista dos valores de coerência, para melhor identificar o ponto de inflexão do gráfico\n",
    "\n",
    "for m, cv in zip(x, coherence_values):\n",
    "    print(\"A quantidade de tópicos =\", m, \" tem um valor de coerência de \", round(cv, 4))"
   ]
  },
  {
   "cell_type": "markdown",
   "metadata": {},
   "source": [
    "Aqui conseguimos determinar a melhor quantidade de tópicos a serem analisados, que é 8 tópicos"
   ]
  },
  {
   "cell_type": "code",
   "execution_count": 19,
   "metadata": {},
   "outputs": [],
   "source": [
    "# Vamos agora construir de fato o modelo LDA\n",
    "\n",
    "lda_model = LdaMulticore(corpus=corpus,\n",
    "                        id2word=id2word,\n",
    "                        num_topics=4, \n",
    "                        random_state=42,\n",
    "                        chunksize=100,\n",
    "                        passes=10,\n",
    "                        per_word_topics=True)"
   ]
  },
  {
   "cell_type": "code",
   "execution_count": 20,
   "metadata": {},
   "outputs": [
    {
     "name": "stdout",
     "output_type": "stream",
     "text": [
      "\n",
      "Perplexidade:  -7.119972953552391\n"
     ]
    }
   ],
   "source": [
    "# Computar a perplexidade do modelo (quanto menor, melhor)\n",
    "\n",
    "print('\\nPerplexidade: ', lda_model.log_perplexity(corpus))"
   ]
  },
  {
   "cell_type": "code",
   "execution_count": 21,
   "metadata": {},
   "outputs": [
    {
     "name": "stdout",
     "output_type": "stream",
     "text": [
      "\n",
      "Score de Coerência:  0.303997660330972\n"
     ]
    }
   ],
   "source": [
    "# Computar o Score de Coerência\n",
    "\n",
    "coherence_model_lda = CoherenceModel(model=lda_model, texts=lista, dictionary=id2word, coherence='c_v')\n",
    "coherence_lda = coherence_model_lda.get_coherence()\n",
    "print('\\nScore de Coerência: ', coherence_lda)"
   ]
  },
  {
   "cell_type": "code",
   "execution_count": 22,
   "metadata": {},
   "outputs": [
    {
     "data": {
      "text/html": [
       "\n",
       "<link rel=\"stylesheet\" type=\"text/css\" href=\"https://cdn.rawgit.com/bmabey/pyLDAvis/files/ldavis.v1.0.0.css\">\n",
       "\n",
       "\n",
       "<div id=\"ldavis_el1453229359162378965940361821\"></div>\n",
       "<script type=\"text/javascript\">\n",
       "\n",
       "var ldavis_el1453229359162378965940361821_data = {\"mdsDat\": {\"x\": [0.049106643841684706, 0.07916421183975328, -0.3763206980593538, 0.24804984237791583], \"y\": [0.24357726302342977, 0.1780083132491478, -0.12576039536668077, -0.2958251809058968], \"topics\": [1, 2, 3, 4], \"cluster\": [1, 1, 1, 1], \"Freq\": [29.53881072998047, 28.86672592163086, 21.86920166015625, 19.725269317626953]}, \"tinfo\": {\"Term\": [\"bolsonaro\", \"corona\", \"coronavirus\", \"presidente\", \"pandemia\", \"virus\", \"casa\", \"brasil\", \"quando\", \"acabar\", \"depois\", \"povo\", \"novo\", \"gente\", \"saude\", \"coisa\", \"mandetta\", \"passar\", \"ministro\", \"nunca\", \"meio\", \"crise\", \"vida\", \"cabelo\", \"bom\", \"governo\", \"contra\", \"tempo\", \"falar\", \"ano\", \"bolsonaro\", \"presidente\", \"povo\", \"mandetta\", \"ministro\", \"falar\", \"trabalho\", \"momento\", \"dizer\", \"enquanto\", \"trabalhar\", \"senhor\", \"lula\", \"deixar\", \"apoio\", \"algo\", \"tirar\", \"midia\", \"frente\", \"doria\", \"vergonha\", \"parabens\", \"kkk\", \"problema\", \"governador\", \"ruim\", \"pt\", \"guedes\", \"paises\", \"derrubar\", \"congresso\", \"sempre\", \"governo\", \"contra\", \"porque\", \"ainda\", \"favor\", \"agora\", \"muito\", \"nada\", \"entao\", \"saude\", \"melhor\", \"tambem\", \"casa\", \"quando\", \"acabar\", \"depois\", \"coisa\", \"passar\", \"nunca\", \"vida\", \"bom\", \"logo\", \"mim\", \"tanto\", \"tomar\", \"voltar\", \"primeiro\", \"saber\", \"preciso\", \"mulher\", \"amor\", \"quanto\", \"dps\", \"comprar\", \"comigo\", \"volta\", \"comer\", \"triste\", \"feliz\", \"normal\", \"live\", \"risco\", \"tempo\", \"gente\", \"assim\", \"nada\", \"muito\", \"alguem\", \"semana\", \"deus\", \"fim\", \"melhor\", \"pandemia\", \"dar\", \"agora\", \"mae\", \"ainda\", \"coronavirus\", \"brasil\", \"meio\", \"crise\", \"ministerio\", \"ha\", \"pouco\", \"situacao\", \"covid\", \"verdade\", \"tarde\", \"jair\", \"morrer\", \"jejum\", \"oq\", \"realmente\", \"pessoal\", \"milhoes\", \"mes\", \"algum\", \"bbb\", \"homem\", \"robos\", \"nome\", \"janeiro\", \"mundial\", \"fome\", \"pagar\", \"facil\", \"abril\", \"kkkkkkk\", \"pandemia\", \"saude\", \"isolamento\", \"mundo\", \"governo\", \"contra\", \"caso\", \"ninguem\", \"tambem\", \"menos\", \"maior\", \"corona\", \"virus\", \"novo\", \"cabelo\", \"ano\", \"pai\", \"pegar\", \"vontade\", \"final\", \"mil\", \"social\", \"mano\", \"demais\", \"medo\", \"matar\", \"prior\", \"tu\", \"caralho\", \"hospital\", \"comecou\", \"eua\", \"devido\", \"sp\", \"jogar\", \"rede\", \"epoca\", \"msm\", \"longe\", \"ok\", \"anitta\", \"chegar\", \"agora\", \"mae\", \"gente\", \"ainda\", \"pos\", \"mundo\", \"merda\", \"vez\"], \"Freq\": [19946.0, 14747.0, 14894.0, 17047.0, 9823.0, 6208.0, 7079.0, 4741.0, 5213.0, 4256.0, 4017.0, 3420.0, 2456.0, 5097.0, 4069.0, 3007.0, 3005.0, 2593.0, 2458.0, 2345.0, 1894.0, 1835.0, 2245.0, 1573.0, 2015.0, 3559.0, 3370.0, 2492.0, 1812.0, 1339.0, 19945.798828125, 17046.298828125, 3419.903564453125, 3004.471923828125, 2457.727294921875, 1811.8287353515625, 1570.8656005859375, 1450.640380859375, 1268.6328125, 1057.1732177734375, 1020.4796142578125, 973.4276733398438, 925.4171752929688, 947.2732543945312, 889.2171020507812, 909.1744995117188, 839.0928955078125, 802.68310546875, 802.7442016601562, 757.8197021484375, 706.9755859375, 695.1305541992188, 666.7368774414062, 634.6882934570312, 612.67138671875, 601.8463134765625, 569.2545166015625, 571.661376953125, 584.0663452148438, 536.6217041015625, 540.9263916015625, 1248.30322265625, 2100.28466796875, 1980.6014404296875, 1448.79052734375, 1642.46533203125, 917.3137817382812, 1828.6385498046875, 1566.9781494140625, 1075.8565673828125, 906.4769897460938, 1098.952880859375, 882.865478515625, 852.2972412109375, 7079.22412109375, 5212.3623046875, 4256.0478515625, 4016.496826171875, 3007.1513671875, 2592.63720703125, 2345.0517578125, 2245.046875, 2014.310302734375, 1708.469482421875, 1554.5509033203125, 1458.7484130859375, 1385.1663818359375, 1142.1614990234375, 1165.60009765625, 1072.1148681640625, 967.9285888671875, 975.2160034179688, 906.3543090820312, 943.8441162109375, 879.8194580078125, 859.7247314453125, 783.2225952148438, 818.3662109375, 763.6565551757812, 778.464599609375, 735.0968017578125, 737.1253051757812, 738.7810668945312, 736.6372680664062, 2216.32080078125, 4085.60302734375, 1669.0439453125, 1817.9390869140625, 2315.2958984375, 1324.633544921875, 1097.149658203125, 1539.69970703125, 1042.331787109375, 1165.844970703125, 1850.191650390625, 1117.3616943359375, 1424.171875, 1079.9669189453125, 1145.9932861328125, 14893.9873046875, 4740.92578125, 1893.9468994140625, 1834.7176513671875, 1199.638916015625, 1170.6866455078125, 1176.877197265625, 1060.525634765625, 983.52978515625, 977.48046875, 950.424560546875, 910.214599609375, 908.0325317382812, 901.0974731445312, 831.9964599609375, 795.155517578125, 750.5537719726562, 706.0230102539062, 671.2681884765625, 663.2579956054688, 641.0091552734375, 623.232421875, 597.53515625, 587.5940551757812, 577.4306640625, 564.455078125, 572.0252075195312, 563.6898193359375, 552.83837890625, 537.5714721679688, 538.322265625, 7972.93603515625, 2970.3935546875, 1068.845703125, 1683.642333984375, 1458.7109375, 1389.5770263671875, 868.1702880859375, 819.5014038085938, 876.8002319335938, 800.573486328125, 699.1348266601562, 14746.3359375, 6208.09326171875, 2455.844482421875, 1572.76416015625, 1338.5670166015625, 1236.8487548828125, 1206.1126708984375, 1203.621826171875, 1139.6776123046875, 1099.1192626953125, 1118.0467529296875, 986.722412109375, 974.54443359375, 910.908935546875, 896.9012451171875, 917.9600219726562, 890.9091796875, 807.8519897460938, 776.5474853515625, 767.47265625, 748.9867553710938, 752.4850463867188, 706.1716918945312, 619.1221923828125, 617.58837890625, 581.0184936523438, 562.7340087890625, 559.9864501953125, 547.4531860351562, 538.2577514648438, 539.2059936523438, 1821.690673828125, 949.9841918945312, 1010.941162109375, 895.6785278320312, 674.1129150390625, 806.8233032226562, 677.8878173828125, 675.6414794921875], \"Total\": [19946.0, 14747.0, 14894.0, 17047.0, 9823.0, 6208.0, 7079.0, 4741.0, 5213.0, 4256.0, 4017.0, 3420.0, 2456.0, 5097.0, 4069.0, 3007.0, 3005.0, 2593.0, 2458.0, 2345.0, 1894.0, 1835.0, 2245.0, 1573.0, 2015.0, 3559.0, 3370.0, 2492.0, 1812.0, 1339.0, 19946.568359375, 17047.064453125, 3420.676025390625, 3005.2275390625, 2458.485595703125, 1812.6126708984375, 1571.6513671875, 1451.4261474609375, 1269.419189453125, 1057.9564208984375, 1021.2680053710938, 974.1904296875, 926.17724609375, 948.0659790039062, 889.9832763671875, 909.9629516601562, 839.8816528320312, 803.4597778320312, 803.5298461914062, 758.5848999023438, 707.7509765625, 695.8995971679688, 667.5305786132812, 635.4708862304688, 613.4408569335938, 602.6458129882812, 570.0189208984375, 572.4321899414062, 584.886962890625, 537.3816528320312, 541.6961059570312, 1660.6087646484375, 3559.51416015625, 3370.70068359375, 2276.744384765625, 3684.394775390625, 1373.309814453125, 5657.515625, 4342.44384765625, 2894.321044921875, 1709.4486083984375, 4069.86669921875, 2049.23681640625, 2204.434814453125, 7079.98974609375, 5213.12548828125, 4256.79736328125, 4017.2587890625, 3007.917724609375, 2593.403564453125, 2345.822509765625, 2245.817138671875, 2015.093017578125, 1709.2313232421875, 1555.3197021484375, 1459.509033203125, 1385.944091796875, 1142.9241943359375, 1166.389404296875, 1072.895751953125, 968.6882934570312, 976.00390625, 907.1137084960938, 944.6415405273438, 880.572021484375, 860.4866333007812, 783.9801025390625, 819.1688842773438, 764.40966796875, 779.2366333007812, 735.8612670898438, 737.8941040039062, 739.5556030273438, 737.4242553710938, 2492.195068359375, 5097.04931640625, 2487.329345703125, 2894.321044921875, 4342.44384765625, 1825.6484375, 1428.8397216796875, 2716.332275390625, 1425.9805908203125, 2049.23681640625, 9823.6513671875, 1836.87548828125, 5657.515625, 2030.441650390625, 3684.394775390625, 14894.755859375, 4741.69970703125, 1894.7215576171875, 1835.4925537109375, 1200.403564453125, 1171.4638671875, 1177.6710205078125, 1061.3123779296875, 984.3001098632812, 978.2688598632812, 951.2145385742188, 911.0064697265625, 908.8226928710938, 901.8843383789062, 832.7822265625, 795.9351196289062, 751.3330078125, 706.792724609375, 672.052001953125, 664.0560302734375, 641.8109130859375, 624.0213623046875, 598.3067626953125, 588.3742065429688, 578.2022094726562, 565.2266235351562, 572.8090209960938, 564.4705200195312, 553.6256713867188, 538.3399047851562, 539.1135864257812, 9823.6513671875, 4069.86669921875, 1599.069091796875, 3539.95849609375, 3559.51416015625, 3370.70068359375, 1396.688720703125, 1498.8612060546875, 2204.434814453125, 1717.3643798828125, 1057.515380859375, 14747.07421875, 6208.83447265625, 2456.609375, 1573.5010986328125, 1339.316650390625, 1237.5950927734375, 1206.861328125, 1204.3819580078125, 1140.4259033203125, 1099.87109375, 1118.8123779296875, 987.4656372070312, 975.3002319335938, 911.663330078125, 897.6453247070312, 918.7252197265625, 891.6598510742188, 808.5960083007812, 777.3099365234375, 768.22802734375, 749.7479858398438, 753.257080078125, 706.94091796875, 619.8737182617188, 618.3619384765625, 581.7744750976562, 563.4834594726562, 560.7356567382812, 548.2064208984375, 539.0103759765625, 539.9608154296875, 5657.515625, 2030.441650390625, 5097.04931640625, 3684.394775390625, 1280.135498046875, 3539.95849609375, 1628.2467041015625, 1853.087646484375], \"Category\": [\"Default\", \"Default\", \"Default\", \"Default\", \"Default\", \"Default\", \"Default\", \"Default\", \"Default\", \"Default\", \"Default\", \"Default\", \"Default\", \"Default\", \"Default\", \"Default\", \"Default\", \"Default\", \"Default\", \"Default\", \"Default\", \"Default\", \"Default\", \"Default\", \"Default\", \"Default\", \"Default\", \"Default\", \"Default\", \"Default\", \"Topic1\", \"Topic1\", \"Topic1\", \"Topic1\", \"Topic1\", \"Topic1\", \"Topic1\", \"Topic1\", \"Topic1\", \"Topic1\", \"Topic1\", \"Topic1\", \"Topic1\", \"Topic1\", \"Topic1\", \"Topic1\", \"Topic1\", \"Topic1\", \"Topic1\", \"Topic1\", \"Topic1\", \"Topic1\", \"Topic1\", \"Topic1\", \"Topic1\", \"Topic1\", \"Topic1\", \"Topic1\", \"Topic1\", \"Topic1\", \"Topic1\", \"Topic1\", \"Topic1\", \"Topic1\", \"Topic1\", \"Topic1\", \"Topic1\", \"Topic1\", \"Topic1\", \"Topic1\", \"Topic1\", \"Topic1\", \"Topic1\", \"Topic1\", \"Topic2\", \"Topic2\", \"Topic2\", \"Topic2\", \"Topic2\", \"Topic2\", \"Topic2\", \"Topic2\", \"Topic2\", \"Topic2\", \"Topic2\", \"Topic2\", \"Topic2\", \"Topic2\", \"Topic2\", \"Topic2\", \"Topic2\", \"Topic2\", \"Topic2\", \"Topic2\", \"Topic2\", \"Topic2\", \"Topic2\", \"Topic2\", \"Topic2\", \"Topic2\", \"Topic2\", \"Topic2\", \"Topic2\", \"Topic2\", \"Topic2\", \"Topic2\", \"Topic2\", \"Topic2\", \"Topic2\", \"Topic2\", \"Topic2\", \"Topic2\", \"Topic2\", \"Topic2\", \"Topic2\", \"Topic2\", \"Topic2\", \"Topic2\", \"Topic2\", \"Topic3\", \"Topic3\", \"Topic3\", \"Topic3\", \"Topic3\", \"Topic3\", \"Topic3\", \"Topic3\", \"Topic3\", \"Topic3\", \"Topic3\", \"Topic3\", \"Topic3\", \"Topic3\", \"Topic3\", \"Topic3\", \"Topic3\", \"Topic3\", \"Topic3\", \"Topic3\", \"Topic3\", \"Topic3\", \"Topic3\", \"Topic3\", \"Topic3\", \"Topic3\", \"Topic3\", \"Topic3\", \"Topic3\", \"Topic3\", \"Topic3\", \"Topic3\", \"Topic3\", \"Topic3\", \"Topic3\", \"Topic3\", \"Topic3\", \"Topic3\", \"Topic3\", \"Topic3\", \"Topic3\", \"Topic3\", \"Topic4\", \"Topic4\", \"Topic4\", \"Topic4\", \"Topic4\", \"Topic4\", \"Topic4\", \"Topic4\", \"Topic4\", \"Topic4\", \"Topic4\", \"Topic4\", \"Topic4\", \"Topic4\", \"Topic4\", \"Topic4\", \"Topic4\", \"Topic4\", \"Topic4\", \"Topic4\", \"Topic4\", \"Topic4\", \"Topic4\", \"Topic4\", \"Topic4\", \"Topic4\", \"Topic4\", \"Topic4\", \"Topic4\", \"Topic4\", \"Topic4\", \"Topic4\", \"Topic4\", \"Topic4\", \"Topic4\", \"Topic4\", \"Topic4\", \"Topic4\", \"Topic4\"], \"logprob\": [30.0, 29.0, 28.0, 27.0, 26.0, 25.0, 24.0, 23.0, 22.0, 21.0, 20.0, 19.0, 18.0, 17.0, 16.0, 15.0, 14.0, 13.0, 12.0, 11.0, 10.0, 9.0, 8.0, 7.0, 6.0, 5.0, 4.0, 3.0, 2.0, 1.0, -2.2767999172210693, -2.4339001178741455, -4.040200233459473, -4.1697001457214355, -4.37060022354126, -4.67549991607666, -4.81820011138916, -4.897799968719482, -5.031899929046631, -5.214200019836426, -5.249599933624268, -5.296800136566162, -5.347400188446045, -5.323999881744385, -5.38730001449585, -5.365099906921387, -5.445300102233887, -5.48960018157959, -5.48960018157959, -5.5472002029418945, -5.616600036621094, -5.633500099182129, -5.67519998550415, -5.7245001792907715, -5.759799957275391, -5.777599811553955, -5.8333001136779785, -5.829100131988525, -5.807600021362305, -5.892300128936768, -5.884300231933594, -5.048099994659424, -4.5278000831604, -4.586400032043457, -4.899099826812744, -4.773600101470947, -5.356200218200684, -4.666299819946289, -4.820700168609619, -5.196700096130371, -5.368000030517578, -5.17549991607666, -5.394400119781494, -5.429699897766113, -3.2897000312805176, -3.5957999229431152, -3.7985000610351562, -3.8564000129699707, -4.1458001136779785, -4.2941999435424805, -4.394499778747559, -4.4380998611450195, -4.546599864959717, -4.71120023727417, -4.805600166320801, -4.86929988861084, -4.921000003814697, -5.113900184631348, -5.093599796295166, -5.177199840545654, -5.279399871826172, -5.271900177001953, -5.345200061798096, -5.304599761962891, -5.374899864196777, -5.3979997634887695, -5.491199970245361, -5.447299957275391, -5.516499996185303, -5.497300148010254, -5.554599761962891, -5.551799774169922, -5.549600124359131, -5.552499771118164, -4.451000213623047, -3.839400053024292, -4.734600067138672, -4.649099826812744, -4.407299995422363, -4.965700149536133, -5.154099941253662, -4.815199851989746, -5.205399990081787, -5.093400001525879, -4.631499767303467, -5.135900020599365, -4.893199920654297, -5.169899940490723, -5.110599994659424, -2.2683000564575195, -3.4130001068115234, -4.330599784851074, -4.362299919128418, -4.787199974060059, -4.811600208282471, -4.806399822235107, -4.9105000495910645, -4.985799789428711, -4.992000102996826, -5.020100116729736, -5.063300132751465, -5.065700054168701, -5.073400020599365, -5.15310001373291, -5.198400020599365, -5.256199836730957, -5.317299842834473, -5.367800235748291, -5.379799842834473, -5.413899898529053, -5.4421000480651855, -5.4842000007629395, -5.500899791717529, -5.518400192260742, -5.541100025177002, -5.5278000831604, -5.542500019073486, -5.5619001388549805, -5.589900016784668, -5.588500022888184, -2.893199920654297, -3.880500078201294, -4.902599811553955, -4.448299884796143, -4.591700077056885, -4.640200138092041, -5.110599994659424, -5.168300151824951, -5.1006999015808105, -5.1915998458862305, -5.327099800109863, -2.174999952316284, -3.0401999950408936, -3.967600107192993, -4.4131999015808105, -4.574399948120117, -4.653500080108643, -4.678599834442139, -4.680699825286865, -4.735300064086914, -4.771500110626221, -4.754499912261963, -4.87939977645874, -4.8917999267578125, -4.959400177001953, -4.974899768829346, -4.951600074768066, -4.981599807739258, -5.079400062561035, -5.118899822235107, -5.13070011138916, -5.155099868774414, -5.150400161743164, -5.213900089263916, -5.3454999923706055, -5.3480000495910645, -5.408999919891357, -5.440999984741211, -5.445899963378906, -5.468500137329102, -5.485499858856201, -5.483699798583984, -4.266300201416016, -4.917399883270264, -4.855199813842773, -4.976200103759766, -5.26039981842041, -5.080699920654297, -5.254799842834473, -5.2581000328063965], \"loglift\": [30.0, 29.0, 28.0, 27.0, 26.0, 25.0, 24.0, 23.0, 22.0, 21.0, 20.0, 19.0, 18.0, 17.0, 16.0, 15.0, 14.0, 13.0, 12.0, 11.0, 10.0, 9.0, 8.0, 7.0, 6.0, 5.0, 4.0, 3.0, 2.0, 1.0, 1.2194000482559204, 1.2194000482559204, 1.2192000150680542, 1.2192000150680542, 1.2192000150680542, 1.218999981880188, 1.218999981880188, 1.2188999652862549, 1.2187999486923218, 1.2187000513076782, 1.2187000513076782, 1.2187000513076782, 1.2186000347137451, 1.2186000347137451, 1.2186000347137451, 1.2186000347137451, 1.218500018119812, 1.218500018119812, 1.218500018119812, 1.218500018119812, 1.218400001525879, 1.218400001525879, 1.2182999849319458, 1.2181999683380127, 1.2181999683380127, 1.2180999517440796, 1.2180999517440796, 1.2180999517440796, 1.2180999517440796, 1.2180999517440796, 1.218000054359436, 0.9340999722480774, 0.6919000148773193, 0.6876999735832214, 0.7674000263214111, 0.4115999937057495, 0.8159000277519226, 0.09009999781847, 0.20020000636577606, 0.2298000007867813, 0.585099995136261, -0.08980000019073486, 0.3774000108242035, 0.26919999718666077, 1.242400050163269, 1.242300033569336, 1.242300033569336, 1.242300033569336, 1.2422000169754028, 1.2422000169754028, 1.2422000169754028, 1.2421000003814697, 1.2421000003814697, 1.2419999837875366, 1.2419999837875366, 1.2419999837875366, 1.2418999671936035, 1.2417999505996704, 1.2417999505996704, 1.2417999505996704, 1.2417000532150269, 1.2417000532150269, 1.2416000366210938, 1.2416000366210938, 1.2416000366210938, 1.2416000366210938, 1.2415000200271606, 1.2415000200271606, 1.2415000200271606, 1.2415000200271606, 1.2414000034332275, 1.2414000034332275, 1.2414000034332275, 1.2414000034332275, 1.1252000331878662, 1.021299958229065, 0.843500018119812, 0.777400016784668, 0.6136000156402588, 0.9217000007629395, 0.9782999753952026, 0.6747999787330627, 0.929099977016449, 0.6784999966621399, -0.4269999861717224, 0.7454000115394592, -0.13689999282360077, 0.6111999750137329, 0.07460000365972519, 1.5199999809265137, 1.5198999643325806, 1.519700050354004, 1.519700050354004, 1.5195000171661377, 1.5194000005722046, 1.5194000005722046, 1.5192999839782715, 1.5192999839782715, 1.5192999839782715, 1.5192999839782715, 1.5191999673843384, 1.5191999673843384, 1.5191999673843384, 1.5190999507904053, 1.5190999507904053, 1.5190999507904053, 1.5190000534057617, 1.5189000368118286, 1.5189000368118286, 1.5188000202178955, 1.5188000202178955, 1.5188000202178955, 1.5188000202178955, 1.5188000202178955, 1.5187000036239624, 1.5187000036239624, 1.5187000036239624, 1.5187000036239624, 1.5187000036239624, 1.5185999870300293, 1.311400055885315, 1.205199956893921, 1.1172000169754028, 0.7768999934196472, 0.628000020980835, 0.6340000033378601, 1.044600009918213, 0.9162999987602234, 0.5981000065803528, 0.7569000124931335, 1.1062999963760376, 1.6232000589370728, 1.6232000589370728, 1.6230000257492065, 1.6227999925613403, 1.6226999759674072, 1.6226999759674072, 1.6225999593734741, 1.6225999593734741, 1.6225999593734741, 1.6225999593734741, 1.6225999593734741, 1.622499942779541, 1.622499942779541, 1.6224000453948975, 1.6224000453948975, 1.6224000453948975, 1.6224000453948975, 1.6223000288009644, 1.6223000288009644, 1.6223000288009644, 1.6223000288009644, 1.6222000122070312, 1.6222000122070312, 1.6220999956130981, 1.621999979019165, 1.621999979019165, 1.621899962425232, 1.621899962425232, 1.621899962425232, 1.621899962425232, 1.621899962425232, 0.49000000953674316, 0.8636999726295471, 0.005499999970197678, 0.20900000631809235, 0.9818999767303467, 0.1445000022649765, 0.746999979019165, 0.614300012588501]}, \"token.table\": {\"Topic\": [3, 2, 1, 2, 3, 4, 1, 2, 4, 1, 1, 2, 3, 2, 4, 4, 1, 1, 2, 3, 1, 2, 3, 4, 4, 2, 3, 4, 4, 2, 4, 2, 2, 2, 1, 1, 3, 4, 3, 3, 3, 1, 2, 1, 4, 2, 1, 1, 2, 4, 4, 1, 1, 2, 1, 1, 2, 4, 4, 4, 3, 1, 1, 2, 2, 2, 4, 4, 3, 1, 2, 4, 1, 1, 3, 1, 3, 3, 4, 3, 4, 3, 3, 3, 4, 1, 3, 2, 2, 4, 1, 2, 4, 1, 3, 1, 4, 4, 4, 3, 1, 2, 2, 3, 1, 2, 4, 3, 1, 4, 3, 2, 3, 1, 1, 3, 4, 1, 2, 3, 2, 3, 2, 3, 4, 1, 2, 2, 3, 3, 2, 4, 2, 4, 3, 3, 4, 1, 2, 3, 1, 2, 4, 3, 1, 2, 2, 4, 3, 1, 2, 1, 2, 4, 1, 1, 2, 2, 3, 4, 2, 3, 1, 2, 1, 3, 2, 3, 1, 2, 1, 3, 4, 4, 1, 2, 3, 2, 3, 1, 2, 1, 2, 1, 1, 2, 4, 3, 1, 1, 2, 4, 2, 4, 2, 2, 4], \"Freq\": [0.9993686079978943, 0.999812662601471, 0.323286771774292, 0.25170058012008667, 0.10304876416921616, 0.32204949855804443, 0.4456634223461151, 0.31104159355163574, 0.24318784475326538, 0.9989417791366577, 0.27387529611587524, 0.7257695198059082, 0.9984097480773926, 0.9987722635269165, 0.9981254935264587, 0.999763548374176, 0.9988951683044434, 0.32886677980422974, 0.6710007786750793, 0.9987365007400513, 0.9999715089797974, 0.999457597732544, 0.9998524188995361, 0.9996815323829651, 0.9992629289627075, 0.9998602271080017, 0.6214699149131775, 0.3780369758605957, 0.9982205629348755, 0.9996948838233948, 0.9984014630317688, 0.9994640946388245, 0.998749852180481, 0.9994344711303711, 0.9987149238586426, 0.5877116322517395, 0.41237717866897583, 0.9999271631240845, 0.9999492764472961, 0.9996951222419739, 0.9997316598892212, 0.39142554998397827, 0.6080978512763977, 0.998875617980957, 0.9996921420097351, 0.9996866583824158, 0.9992898106575012, 0.275739461183548, 0.56694096326828, 0.1571972668170929, 0.9983311295509338, 0.9996697902679443, 0.9992289543151855, 0.999350368976593, 0.9990959763526917, 0.5299954414367676, 0.3451405167579651, 0.1246015802025795, 0.9986687898635864, 0.9990023374557495, 0.9988698363304138, 0.9996619820594788, 0.6677298545837402, 0.33131635189056396, 0.9988296031951904, 0.7307252287864685, 0.2685871124267578, 0.9996265172958374, 0.9985876083374023, 0.9993405938148499, 0.8016402721405029, 0.19835005700588226, 0.9992813467979431, 0.5899681448936462, 0.4098874032497406, 0.9992449879646301, 0.9996040463447571, 0.9983632564544678, 0.9996012449264526, 0.6685139536857605, 0.33144283294677734, 0.9988952279090881, 0.9979207515716553, 0.9990194439888, 0.9985904693603516, 0.9992051720619202, 0.9979344010353088, 0.999248743057251, 0.9992796182632446, 0.9986880421638489, 0.9987289309501648, 0.5319039821624756, 0.4678784906864166, 0.3385293483734131, 0.6609832644462585, 0.9995915293693542, 0.9995284676551819, 0.999281108379364, 0.9992724061012268, 0.99961918592453, 0.43089210987091064, 0.5689923167228699, 0.5333754420280457, 0.46641236543655396, 0.29295316338539124, 0.2904965281486511, 0.416398823261261, 0.9984346628189087, 0.9994277358055115, 0.9992080330848694, 0.9988784193992615, 0.9997944235801697, 0.9996638298034668, 0.9998024702072144, 0.9997063875198364, 0.9990947842597961, 0.9991419911384583, 0.36085671186447144, 0.5331099629402161, 0.10593113303184509, 0.9989714026451111, 0.9978298544883728, 0.29633116722106934, 0.47571179270744324, 0.22796876728534698, 0.3717624843120575, 0.6281265616416931, 0.45301058888435364, 0.5470820069313049, 0.9993640184402466, 0.9987882971763611, 0.9997519254684448, 0.9996493458747864, 0.9977993369102478, 0.9990606904029846, 0.9991664290428162, 0.9995191693305969, 0.9984835386276245, 0.18832100927829742, 0.8116126656532288, 0.9987072944641113, 0.9998443722724915, 0.9992862939834595, 0.9995567798614502, 0.6364350914955139, 0.36323797702789307, 0.47338739037513733, 0.526506781578064, 0.999430239200592, 0.9998023509979248, 0.9992894530296326, 0.9999375343322754, 0.999666154384613, 0.9992105960845947, 0.9992589950561523, 0.998212456703186, 0.9997841119766235, 0.9993208646774292, 0.9988251328468323, 0.9994146823883057, 0.9994246959686279, 0.9994872808456421, 0.9989283680915833, 0.9991651177406311, 0.27003341913223267, 0.7297536134719849, 0.7677558064460754, 0.2316564917564392, 0.7515316009521484, 0.24810178577899933, 0.9987780451774597, 0.9997056722640991, 0.9992738962173462, 0.9986690282821655, 0.38649362325668335, 0.21547472476959229, 0.3978343904018402, 0.9996512532234192, 0.9987231492996216, 0.11034449189901352, 0.8891760110855103, 0.9989502429962158, 0.9993188381195068, 0.9987583756446838, 0.9995855689048767, 0.9984130263328552, 0.9992599487304688, 0.9987029433250427, 0.9989389181137085, 0.2919451892375946, 0.34375059604644775, 0.36479654908180237, 0.999636173248291, 0.9998655915260315, 0.9985730648040771, 0.999191403388977, 0.9996828436851501], \"Term\": [\"abril\", \"acabar\", \"agora\", \"agora\", \"agora\", \"agora\", \"ainda\", \"ainda\", \"ainda\", \"algo\", \"alguem\", \"alguem\", \"algum\", \"amor\", \"anitta\", \"ano\", \"apoio\", \"assim\", \"assim\", \"bbb\", \"bolsonaro\", \"bom\", \"brasil\", \"cabelo\", \"caralho\", \"casa\", \"caso\", \"caso\", \"chegar\", \"coisa\", \"comecou\", \"comer\", \"comigo\", \"comprar\", \"congresso\", \"contra\", \"contra\", \"corona\", \"coronavirus\", \"covid\", \"crise\", \"dar\", \"dar\", \"deixar\", \"demais\", \"depois\", \"derrubar\", \"deus\", \"deus\", \"deus\", \"devido\", \"dizer\", \"doria\", \"dps\", \"enquanto\", \"entao\", \"entao\", \"entao\", \"epoca\", \"eua\", \"facil\", \"falar\", \"favor\", \"favor\", \"feliz\", \"fim\", \"fim\", \"final\", \"fome\", \"frente\", \"gente\", \"gente\", \"governador\", \"governo\", \"governo\", \"guedes\", \"ha\", \"homem\", \"hospital\", \"isolamento\", \"isolamento\", \"jair\", \"janeiro\", \"jejum\", \"jogar\", \"kkk\", \"kkkkkkk\", \"live\", \"logo\", \"longe\", \"lula\", \"mae\", \"mae\", \"maior\", \"maior\", \"mandetta\", \"mano\", \"matar\", \"medo\", \"meio\", \"melhor\", \"melhor\", \"menos\", \"menos\", \"merda\", \"merda\", \"merda\", \"mes\", \"midia\", \"mil\", \"milhoes\", \"mim\", \"ministerio\", \"ministro\", \"momento\", \"morrer\", \"msm\", \"muito\", \"muito\", \"muito\", \"mulher\", \"mundial\", \"mundo\", \"mundo\", \"mundo\", \"nada\", \"nada\", \"ninguem\", \"ninguem\", \"nome\", \"normal\", \"novo\", \"nunca\", \"ok\", \"oq\", \"pagar\", \"pai\", \"paises\", \"pandemia\", \"pandemia\", \"parabens\", \"passar\", \"pegar\", \"pessoal\", \"porque\", \"porque\", \"pos\", \"pos\", \"pouco\", \"povo\", \"preciso\", \"presidente\", \"primeiro\", \"prior\", \"problema\", \"pt\", \"quando\", \"quanto\", \"realmente\", \"rede\", \"risco\", \"robos\", \"ruim\", \"saber\", \"saude\", \"saude\", \"semana\", \"semana\", \"sempre\", \"sempre\", \"senhor\", \"situacao\", \"social\", \"sp\", \"tambem\", \"tambem\", \"tambem\", \"tanto\", \"tarde\", \"tempo\", \"tempo\", \"tirar\", \"tomar\", \"trabalhar\", \"trabalho\", \"triste\", \"tu\", \"verdade\", \"vergonha\", \"vez\", \"vez\", \"vez\", \"vida\", \"virus\", \"volta\", \"voltar\", \"vontade\"]}, \"R\": 30, \"lambda.step\": 0.01, \"plot.opts\": {\"xlab\": \"PC1\", \"ylab\": \"PC2\"}, \"topic.order\": [4, 1, 3, 2]};\n",
       "\n",
       "function LDAvis_load_lib(url, callback){\n",
       "  var s = document.createElement('script');\n",
       "  s.src = url;\n",
       "  s.async = true;\n",
       "  s.onreadystatechange = s.onload = callback;\n",
       "  s.onerror = function(){console.warn(\"failed to load library \" + url);};\n",
       "  document.getElementsByTagName(\"head\")[0].appendChild(s);\n",
       "}\n",
       "\n",
       "if(typeof(LDAvis) !== \"undefined\"){\n",
       "   // already loaded: just create the visualization\n",
       "   !function(LDAvis){\n",
       "       new LDAvis(\"#\" + \"ldavis_el1453229359162378965940361821\", ldavis_el1453229359162378965940361821_data);\n",
       "   }(LDAvis);\n",
       "}else if(typeof define === \"function\" && define.amd){\n",
       "   // require.js is available: use it to load d3/LDAvis\n",
       "   require.config({paths: {d3: \"https://cdnjs.cloudflare.com/ajax/libs/d3/3.5.5/d3.min\"}});\n",
       "   require([\"d3\"], function(d3){\n",
       "      window.d3 = d3;\n",
       "      LDAvis_load_lib(\"https://cdn.rawgit.com/bmabey/pyLDAvis/files/ldavis.v1.0.0.js\", function(){\n",
       "        new LDAvis(\"#\" + \"ldavis_el1453229359162378965940361821\", ldavis_el1453229359162378965940361821_data);\n",
       "      });\n",
       "    });\n",
       "}else{\n",
       "    // require.js not available: dynamically load d3 & LDAvis\n",
       "    LDAvis_load_lib(\"https://cdnjs.cloudflare.com/ajax/libs/d3/3.5.5/d3.min.js\", function(){\n",
       "         LDAvis_load_lib(\"https://cdn.rawgit.com/bmabey/pyLDAvis/files/ldavis.v1.0.0.js\", function(){\n",
       "                 new LDAvis(\"#\" + \"ldavis_el1453229359162378965940361821\", ldavis_el1453229359162378965940361821_data);\n",
       "            })\n",
       "         });\n",
       "}\n",
       "</script>"
      ],
      "text/plain": [
       "PreparedData(topic_coordinates=              x         y  topics  cluster       Freq\n",
       "topic                                                \n",
       "3      0.049107  0.243577       1        1  29.538811\n",
       "0      0.079164  0.178008       2        1  28.866726\n",
       "2     -0.376321 -0.125760       3        1  21.869202\n",
       "1      0.248050 -0.295825       4        1  19.725269, topic_info=            Term          Freq         Total Category  logprob  loglift\n",
       "2      bolsonaro  19946.000000  19946.000000  Default  30.0000  30.0000\n",
       "0         corona  14747.000000  14747.000000  Default  29.0000  29.0000\n",
       "24   coronavirus  14894.000000  14894.000000  Default  28.0000  28.0000\n",
       "20    presidente  17047.000000  17047.000000  Default  27.0000  27.0000\n",
       "29      pandemia   9823.000000   9823.000000  Default  26.0000  26.0000\n",
       "..           ...           ...           ...      ...      ...      ...\n",
       "233        ainda    895.678528   3684.394775   Topic4  -4.9762   0.2090\n",
       "62           pos    674.112915   1280.135498   Topic4  -5.2604   0.9819\n",
       "391        mundo    806.823303   3539.958496   Topic4  -5.0807   0.1445\n",
       "85         merda    677.887817   1628.246704   Topic4  -5.2548   0.7470\n",
       "380          vez    675.641479   1853.087646   Topic4  -5.2581   0.6143\n",
       "\n",
       "[200 rows x 6 columns], token_table=      Topic      Freq     Term\n",
       "term                          \n",
       "425       3  0.999369    abril\n",
       "243       2  0.999813   acabar\n",
       "28        1  0.323287    agora\n",
       "28        2  0.251701    agora\n",
       "28        3  0.103049    agora\n",
       "...     ...       ...      ...\n",
       "357       2  0.999636     vida\n",
       "46        4  0.999866    virus\n",
       "113       2  0.998573    volta\n",
       "114       2  0.999191   voltar\n",
       "173       4  0.999683  vontade\n",
       "\n",
       "[197 rows x 3 columns], R=30, lambda_step=0.01, plot_opts={'xlab': 'PC1', 'ylab': 'PC2'}, topic_order=[4, 1, 3, 2])"
      ]
     },
     "execution_count": 22,
     "metadata": {},
     "output_type": "execute_result"
    }
   ],
   "source": [
    "# Visualização dos tópicos em clusters\n",
    "\n",
    "pyLDAvis.enable_notebook()\n",
    "vis = pyLDAvis.gensim.prepare(lda_model, corpus, id2word)\n",
    "vis"
   ]
  },
  {
   "cell_type": "code",
   "execution_count": 23,
   "metadata": {},
   "outputs": [
    {
     "name": "stdout",
     "output_type": "stream",
     "text": [
      "[(0,\n",
      "  '0.080*\"corona\" + 0.051*\"virus\" + 0.040*\"presidente\" + 0.020*\"sim\" + '\n",
      "  '0.016*\"hora\" + 0.014*\"ainda\" + 0.014*\"quando\" + 0.012*\"acabar\" + '\n",
      "  '0.012*\"agora\" + 0.011*\"tomar\"'),\n",
      " (1,\n",
      "  '0.053*\"presidente\" + 0.052*\"bolsonaro\" + 0.031*\"brasil\" + '\n",
      "  '0.030*\"coronavirus\" + 0.027*\"mandetta\" + 0.024*\"saude\" + 0.022*\"ministro\" + '\n",
      "  '0.019*\"melhor\" + 0.017*\"governo\" + 0.013*\"ministerio\"'),\n",
      " (2,\n",
      "  '0.115*\"coronavirus\" + 0.079*\"pandemia\" + 0.018*\"meio\" + 0.017*\"depois\" + '\n",
      "  '0.014*\"bolsonaro\" + 0.014*\"novo\" + 0.012*\"mundo\" + 0.010*\"brasil\" + '\n",
      "  '0.010*\"qual\" + 0.009*\"crise\"'),\n",
      " (3,\n",
      "  '0.032*\"deus\" + 0.030*\"corona\" + 0.022*\"logo\" + 0.021*\"presidente\" + '\n",
      "  '0.014*\"gente\" + 0.014*\"povo\" + 0.013*\"amor\" + 0.013*\"vida\" + '\n",
      "  '0.012*\"bolsonaro\" + 0.012*\"video\"'),\n",
      " (4,\n",
      "  '0.102*\"bolsonaro\" + 0.011*\"presidente\" + 0.011*\"oq\" + 0.009*\"muito\" + '\n",
      "  '0.009*\"agora\" + 0.009*\"jair\" + 0.008*\"mundo\" + 0.008*\"robos\" + '\n",
      "  '0.008*\"governo\" + 0.007*\"pandemia\"'),\n",
      " (5,\n",
      "  '0.037*\"bolsonaro\" + 0.028*\"presidente\" + 0.018*\"casa\" + 0.014*\"demais\" + '\n",
      "  '0.012*\"doria\" + 0.012*\"pandemia\" + 0.012*\"nada\" + 0.011*\"live\" + '\n",
      "  '0.011*\"tirar\" + 0.010*\"alguem\"'),\n",
      " (6,\n",
      "  '0.047*\"coronavirus\" + 0.027*\"contra\" + 0.023*\"pandemia\" + 0.019*\"bolsonaro\" '\n",
      "  '+ 0.016*\"agora\" + 0.015*\"tambem\" + 0.014*\"semana\" + 0.014*\"momento\" + '\n",
      "  '0.009*\"dinheiro\" + 0.009*\"saude\"'),\n",
      " (7,\n",
      "  '0.051*\"casa\" + 0.034*\"quando\" + 0.030*\"acabar\" + 0.027*\"gente\" + '\n",
      "  '0.022*\"passar\" + 0.020*\"muito\" + 0.019*\"coisa\" + 0.014*\"cabelo\" + '\n",
      "  '0.014*\"depois\" + 0.012*\"pandemia\"'),\n",
      " (8,\n",
      "  '0.093*\"presidente\" + 0.048*\"bolsonaro\" + 0.013*\"muito\" + 0.013*\"senhor\" + '\n",
      "  '0.013*\"vez\" + 0.012*\"fim\" + 0.012*\"trabalhar\" + 0.010*\"povo\" + '\n",
      "  '0.009*\"mandetta\" + 0.008*\"agora\"'),\n",
      " (9,\n",
      "  '0.159*\"corona\" + 0.054*\"virus\" + 0.028*\"final\" + 0.019*\"tanto\" + '\n",
      "  '0.015*\"mundo\" + 0.011*\"matar\" + 0.010*\"mae\" + 0.010*\"dizer\" + '\n",
      "  '0.010*\"embora\" + 0.010*\"familia\"')]\n"
     ]
    }
   ],
   "source": [
    "# Escolhe o modelo\n",
    "\n",
    "optimal_model = model_list[3]\n",
    "model_topics = optimal_model.show_topics(formatted=False)\n",
    "pprint(optimal_model.print_topics(num_words=10))"
   ]
  },
  {
   "cell_type": "code",
   "execution_count": 24,
   "metadata": {},
   "outputs": [],
   "source": [
    "# Encontrar qual o principal tópico em cada tweet\n",
    "\n",
    "def format_topics_sentences(ldamodel=lda_model, corpus=corpus, texts=lista):\n",
    "    # Output\n",
    "    sent_topics_df = pd.DataFrame()\n",
    "\n",
    "    # Seleciona o principal tópico de cada tweet\n",
    "    for i, row in enumerate(ldamodel[corpus]):\n",
    "        row = sorted(row, key=lambda x: (x[1]), reverse=True)\n",
    "        # Calcula o principal tópico, o percentual de contribuição e as palavras chaves de cada tweet\n",
    "        for j, (topic_num, prop_topic) in enumerate(row):\n",
    "            if j == 0:  # => mostra o principal tópico\n",
    "                wp = ldamodel.show_topic(topic_num)\n",
    "                topic_keywords = \", \".join([word for word, prop in wp])\n",
    "                sent_topics_df = sent_topics_df.append(pd.Series([int(topic_num), round(prop_topic,4), topic_keywords]), ignore_index=True)\n",
    "            else:\n",
    "                break\n",
    "    sent_topics_df.columns = ['Principal_Topico', 'Perc_Contributicao', 'Palavras_Chave']\n",
    "\n",
    "    # Inclui o texto original no final do DataFrame\n",
    "    contents = pd.Series(texts)\n",
    "    sent_topics_df = pd.concat([sent_topics_df, contents], axis=1)\n",
    "    return(sent_topics_df)"
   ]
  },
  {
   "cell_type": "code",
   "execution_count": 25,
   "metadata": {},
   "outputs": [],
   "source": [
    "# roda a função de calcular os principais tópicos de cada tweet\n",
    "\n",
    "df_topic_sents_keywords = format_topics_sentences(ldamodel=optimal_model, corpus=corpus, texts=lista)"
   ]
  },
  {
   "cell_type": "code",
   "execution_count": 26,
   "metadata": {},
   "outputs": [],
   "source": [
    "# Formata o DataFrame\n",
    "\n",
    "df_dominant_topic = df_topic_sents_keywords.reset_index()\n",
    "df_dominant_topic.columns = ['Index_DF_Original', 'Principal_Topico', 'Perc_Contrib_Topico', 'Palavras_Chave', 'Tweets']"
   ]
  },
  {
   "cell_type": "code",
   "execution_count": 27,
   "metadata": {
    "scrolled": true
   },
   "outputs": [
    {
     "data": {
      "text/html": [
       "<div>\n",
       "<style scoped>\n",
       "    .dataframe tbody tr th:only-of-type {\n",
       "        vertical-align: middle;\n",
       "    }\n",
       "\n",
       "    .dataframe tbody tr th {\n",
       "        vertical-align: top;\n",
       "    }\n",
       "\n",
       "    .dataframe thead th {\n",
       "        text-align: right;\n",
       "    }\n",
       "</style>\n",
       "<table border=\"1\" class=\"dataframe\">\n",
       "  <thead>\n",
       "    <tr style=\"text-align: right;\">\n",
       "      <th></th>\n",
       "      <th>Topico</th>\n",
       "      <th>Topico_Perc_Contrib</th>\n",
       "      <th>Palavras_Chave</th>\n",
       "      <th>Tweet</th>\n",
       "    </tr>\n",
       "  </thead>\n",
       "  <tbody>\n",
       "    <tr>\n",
       "      <th>0</th>\n",
       "      <td>0.0</td>\n",
       "      <td>0.9308</td>\n",
       "      <td>corona, virus, presidente, sim, hora, ainda, q...</td>\n",
       "      <td>[outro, saude, exatamente, ainda, so, https, p...</td>\n",
       "    </tr>\n",
       "    <tr>\n",
       "      <th>1</th>\n",
       "      <td>1.0</td>\n",
       "      <td>0.9500</td>\n",
       "      <td>presidente, bolsonaro, brasil, coronavirus, ma...</td>\n",
       "      <td>[ainda, jogo, bolsonaro, falar, time, nao, com...</td>\n",
       "    </tr>\n",
       "    <tr>\n",
       "      <th>2</th>\n",
       "      <td>2.0</td>\n",
       "      <td>0.9357</td>\n",
       "      <td>coronavirus, pandemia, meio, depois, bolsonaro...</td>\n",
       "      <td>[pandemia, verde, mar, planeta, mundo, ja, bor...</td>\n",
       "    </tr>\n",
       "    <tr>\n",
       "      <th>3</th>\n",
       "      <td>3.0</td>\n",
       "      <td>0.9437</td>\n",
       "      <td>deus, corona, logo, presidente, gente, povo, a...</td>\n",
       "      <td>[hora, dizer, sdds, noite, sera, msm, caseiro,...</td>\n",
       "    </tr>\n",
       "    <tr>\n",
       "      <th>4</th>\n",
       "      <td>4.0</td>\n",
       "      <td>0.9470</td>\n",
       "      <td>bolsonaro, presidente, oq, muito, agora, jair,...</td>\n",
       "      <td>[dizer, falar, sim, nao, trabalho, das, gay, s...</td>\n",
       "    </tr>\n",
       "    <tr>\n",
       "      <th>5</th>\n",
       "      <td>5.0</td>\n",
       "      <td>0.9500</td>\n",
       "      <td>bolsonaro, presidente, casa, demais, doria, pa...</td>\n",
       "      <td>[thread, vittar, bolsonaro, cu, papel, boca, t...</td>\n",
       "    </tr>\n",
       "    <tr>\n",
       "      <th>6</th>\n",
       "      <td>6.0</td>\n",
       "      <td>0.9400</td>\n",
       "      <td>coronavirus, contra, pandemia, bolsonaro, agor...</td>\n",
       "      <td>[sairam, rabo, salarios, saude, bi, dos, etc, ...</td>\n",
       "    </tr>\n",
       "    <tr>\n",
       "      <th>7</th>\n",
       "      <td>7.0</td>\n",
       "      <td>0.9437</td>\n",
       "      <td>casa, quando, acabar, gente, passar, muito, co...</td>\n",
       "      <td>[semana, comemorar, caso, dia, sp, meu, puglie...</td>\n",
       "    </tr>\n",
       "    <tr>\n",
       "      <th>8</th>\n",
       "      <td>8.0</td>\n",
       "      <td>0.9470</td>\n",
       "      <td>presidente, bolsonaro, muito, senhor, vez, fim...</td>\n",
       "      <td>[prepotente, senhor, sr, traira, entao, humild...</td>\n",
       "    </tr>\n",
       "    <tr>\n",
       "      <th>9</th>\n",
       "      <td>9.0</td>\n",
       "      <td>0.9307</td>\n",
       "      <td>corona, virus, final, tanto, mundo, matar, mae...</td>\n",
       "      <td>[fim, temporada, dizer, das, rita, capaz, assi...</td>\n",
       "    </tr>\n",
       "  </tbody>\n",
       "</table>\n",
       "</div>"
      ],
      "text/plain": [
       "   Topico  Topico_Perc_Contrib  \\\n",
       "0     0.0               0.9308   \n",
       "1     1.0               0.9500   \n",
       "2     2.0               0.9357   \n",
       "3     3.0               0.9437   \n",
       "4     4.0               0.9470   \n",
       "5     5.0               0.9500   \n",
       "6     6.0               0.9400   \n",
       "7     7.0               0.9437   \n",
       "8     8.0               0.9470   \n",
       "9     9.0               0.9307   \n",
       "\n",
       "                                      Palavras_Chave  \\\n",
       "0  corona, virus, presidente, sim, hora, ainda, q...   \n",
       "1  presidente, bolsonaro, brasil, coronavirus, ma...   \n",
       "2  coronavirus, pandemia, meio, depois, bolsonaro...   \n",
       "3  deus, corona, logo, presidente, gente, povo, a...   \n",
       "4  bolsonaro, presidente, oq, muito, agora, jair,...   \n",
       "5  bolsonaro, presidente, casa, demais, doria, pa...   \n",
       "6  coronavirus, contra, pandemia, bolsonaro, agor...   \n",
       "7  casa, quando, acabar, gente, passar, muito, co...   \n",
       "8  presidente, bolsonaro, muito, senhor, vez, fim...   \n",
       "9  corona, virus, final, tanto, mundo, matar, mae...   \n",
       "\n",
       "                                               Tweet  \n",
       "0  [outro, saude, exatamente, ainda, so, https, p...  \n",
       "1  [ainda, jogo, bolsonaro, falar, time, nao, com...  \n",
       "2  [pandemia, verde, mar, planeta, mundo, ja, bor...  \n",
       "3  [hora, dizer, sdds, noite, sera, msm, caseiro,...  \n",
       "4  [dizer, falar, sim, nao, trabalho, das, gay, s...  \n",
       "5  [thread, vittar, bolsonaro, cu, papel, boca, t...  \n",
       "6  [sairam, rabo, salarios, saude, bi, dos, etc, ...  \n",
       "7  [semana, comemorar, caso, dia, sp, meu, puglie...  \n",
       "8  [prepotente, senhor, sr, traira, entao, humild...  \n",
       "9  [fim, temporada, dizer, das, rita, capaz, assi...  "
      ]
     },
     "execution_count": 27,
     "metadata": {},
     "output_type": "execute_result"
    }
   ],
   "source": [
    "# Group top 5 sentences under each topic\n",
    "sent_topics_sorteddf_mallet = pd.DataFrame()\n",
    "\n",
    "sent_topics_outdf_grpd = df_topic_sents_keywords.groupby('Principal_Topico')\n",
    "\n",
    "for i, grp in sent_topics_outdf_grpd:\n",
    "    sent_topics_sorteddf_mallet = pd.concat([sent_topics_sorteddf_mallet, \n",
    "                                             grp.sort_values(['Perc_Contributicao'], ascending=[0]).head(1)], \n",
    "                                            axis=0)\n",
    "\n",
    "# Reset Index    \n",
    "sent_topics_sorteddf_mallet.reset_index(drop=True, inplace=True)\n",
    "\n",
    "# Format\n",
    "sent_topics_sorteddf_mallet.columns = ['Topico', \"Topico_Perc_Contrib\", \"Palavras_Chave\", \"Tweet\"]\n",
    "\n",
    "# Show\n",
    "sent_topics_sorteddf_mallet"
   ]
  },
  {
   "cell_type": "code",
   "execution_count": 28,
   "metadata": {},
   "outputs": [
    {
     "data": {
      "text/html": [
       "<div>\n",
       "<style scoped>\n",
       "    .dataframe tbody tr th:only-of-type {\n",
       "        vertical-align: middle;\n",
       "    }\n",
       "\n",
       "    .dataframe tbody tr th {\n",
       "        vertical-align: top;\n",
       "    }\n",
       "\n",
       "    .dataframe thead th {\n",
       "        text-align: right;\n",
       "    }\n",
       "</style>\n",
       "<table border=\"1\" class=\"dataframe\">\n",
       "  <thead>\n",
       "    <tr style=\"text-align: right;\">\n",
       "      <th></th>\n",
       "      <th>Principal_Topico</th>\n",
       "      <th>Palavras_Chave</th>\n",
       "      <th>Qtd_Tweets</th>\n",
       "      <th>Perc_Tweets</th>\n",
       "    </tr>\n",
       "  </thead>\n",
       "  <tbody>\n",
       "    <tr>\n",
       "      <th>0.0</th>\n",
       "      <td>0.0</td>\n",
       "      <td>corona, virus, presidente, sim, hora, ainda, q...</td>\n",
       "      <td>17574.0</td>\n",
       "      <td>0.1220</td>\n",
       "    </tr>\n",
       "    <tr>\n",
       "      <th>1.0</th>\n",
       "      <td>9.0</td>\n",
       "      <td>corona, virus, final, tanto, mundo, matar, mae...</td>\n",
       "      <td>14282.0</td>\n",
       "      <td>0.0992</td>\n",
       "    </tr>\n",
       "    <tr>\n",
       "      <th>2.0</th>\n",
       "      <td>4.0</td>\n",
       "      <td>bolsonaro, presidente, oq, muito, agora, jair,...</td>\n",
       "      <td>15037.0</td>\n",
       "      <td>0.1044</td>\n",
       "    </tr>\n",
       "    <tr>\n",
       "      <th>3.0</th>\n",
       "      <td>7.0</td>\n",
       "      <td>casa, quando, acabar, gente, passar, muito, co...</td>\n",
       "      <td>10073.0</td>\n",
       "      <td>0.0699</td>\n",
       "    </tr>\n",
       "    <tr>\n",
       "      <th>4.0</th>\n",
       "      <td>7.0</td>\n",
       "      <td>casa, quando, acabar, gente, passar, muito, co...</td>\n",
       "      <td>13090.0</td>\n",
       "      <td>0.0909</td>\n",
       "    </tr>\n",
       "    <tr>\n",
       "      <th>...</th>\n",
       "      <td>...</td>\n",
       "      <td>...</td>\n",
       "      <td>...</td>\n",
       "      <td>...</td>\n",
       "    </tr>\n",
       "    <tr>\n",
       "      <th>143999.0</th>\n",
       "      <td>3.0</td>\n",
       "      <td>deus, corona, logo, presidente, gente, povo, a...</td>\n",
       "      <td>NaN</td>\n",
       "      <td>NaN</td>\n",
       "    </tr>\n",
       "    <tr>\n",
       "      <th>144000.0</th>\n",
       "      <td>1.0</td>\n",
       "      <td>presidente, bolsonaro, brasil, coronavirus, ma...</td>\n",
       "      <td>NaN</td>\n",
       "      <td>NaN</td>\n",
       "    </tr>\n",
       "    <tr>\n",
       "      <th>144001.0</th>\n",
       "      <td>6.0</td>\n",
       "      <td>coronavirus, contra, pandemia, bolsonaro, agor...</td>\n",
       "      <td>NaN</td>\n",
       "      <td>NaN</td>\n",
       "    </tr>\n",
       "    <tr>\n",
       "      <th>144002.0</th>\n",
       "      <td>6.0</td>\n",
       "      <td>coronavirus, contra, pandemia, bolsonaro, agor...</td>\n",
       "      <td>NaN</td>\n",
       "      <td>NaN</td>\n",
       "    </tr>\n",
       "    <tr>\n",
       "      <th>144003.0</th>\n",
       "      <td>6.0</td>\n",
       "      <td>coronavirus, contra, pandemia, bolsonaro, agor...</td>\n",
       "      <td>NaN</td>\n",
       "      <td>NaN</td>\n",
       "    </tr>\n",
       "  </tbody>\n",
       "</table>\n",
       "<p>144004 rows × 4 columns</p>\n",
       "</div>"
      ],
      "text/plain": [
       "          Principal_Topico                                     Palavras_Chave  \\\n",
       "0.0                    0.0  corona, virus, presidente, sim, hora, ainda, q...   \n",
       "1.0                    9.0  corona, virus, final, tanto, mundo, matar, mae...   \n",
       "2.0                    4.0  bolsonaro, presidente, oq, muito, agora, jair,...   \n",
       "3.0                    7.0  casa, quando, acabar, gente, passar, muito, co...   \n",
       "4.0                    7.0  casa, quando, acabar, gente, passar, muito, co...   \n",
       "...                    ...                                                ...   \n",
       "143999.0               3.0  deus, corona, logo, presidente, gente, povo, a...   \n",
       "144000.0               1.0  presidente, bolsonaro, brasil, coronavirus, ma...   \n",
       "144001.0               6.0  coronavirus, contra, pandemia, bolsonaro, agor...   \n",
       "144002.0               6.0  coronavirus, contra, pandemia, bolsonaro, agor...   \n",
       "144003.0               6.0  coronavirus, contra, pandemia, bolsonaro, agor...   \n",
       "\n",
       "          Qtd_Tweets  Perc_Tweets  \n",
       "0.0          17574.0       0.1220  \n",
       "1.0          14282.0       0.0992  \n",
       "2.0          15037.0       0.1044  \n",
       "3.0          10073.0       0.0699  \n",
       "4.0          13090.0       0.0909  \n",
       "...              ...          ...  \n",
       "143999.0         NaN          NaN  \n",
       "144000.0         NaN          NaN  \n",
       "144001.0         NaN          NaN  \n",
       "144002.0         NaN          NaN  \n",
       "144003.0         NaN          NaN  \n",
       "\n",
       "[144004 rows x 4 columns]"
      ]
     },
     "execution_count": 28,
     "metadata": {},
     "output_type": "execute_result"
    }
   ],
   "source": [
    "# Numero de tweets por topico\n",
    "\n",
    "topic_counts = df_topic_sents_keywords['Principal_Topico'].value_counts()\n",
    "\n",
    "# Porcentagem de tweets por tópico\n",
    "topic_contribution = round(topic_counts/topic_counts.sum(), 4)\n",
    "\n",
    "# Número do tópico e suas palavras chave\n",
    "topic_num_keywords = df_topic_sents_keywords[['Principal_Topico', 'Palavras_Chave']]\n",
    "\n",
    "# Concatena as colunas\n",
    "df_dominant_topics = pd.concat([topic_num_keywords, topic_counts, topic_contribution], axis=1)\n",
    "\n",
    "# Renomeia as colunas\n",
    "df_dominant_topics.columns = ['Principal_Topico', 'Palavras_Chave', 'Qtd_Tweets', 'Perc_Tweets']\n",
    "\n",
    "# Mostra o DataFrame\n",
    "df_dominant_topics"
   ]
  },
  {
   "cell_type": "code",
   "execution_count": 29,
   "metadata": {},
   "outputs": [
    {
     "data": {
      "image/png": "[encoded data removed]",
      "text/plain": [
       "<Figure size 720x720 with 4 Axes>"
      ]
     },
     "metadata": {
      "needs_background": "light"
     },
     "output_type": "display_data"
    }
   ],
   "source": [
    "# Cria wordclouds\n",
    "\n",
    "cols = [color for name, color in mcolors.XKCD_COLORS.items()]\n",
    "\n",
    "cloud = WordCloud(stopwords=stop_words,\n",
    "                  background_color='white',\n",
    "                  width=2500,\n",
    "                  height=1800,\n",
    "                  max_words=10,\n",
    "                  colormap='tab10',\n",
    "                  color_func=lambda *args, **kwargs: cols[i],\n",
    "                  prefer_horizontal=1.0)\n",
    "\n",
    "topics = lda_model.show_topics(formatted=False)\n",
    "\n",
    "fig, axes = plt.subplots(2, 2, figsize=(10,10), sharex=True, sharey=True)\n",
    "\n",
    "for i, ax in enumerate(axes.flatten()):\n",
    "    fig.add_subplot(ax)\n",
    "    topic_words = dict(topics[i][1])\n",
    "    cloud.generate_from_frequencies(topic_words, max_font_size=300)\n",
    "    plt.gca().imshow(cloud)\n",
    "    plt.gca().set_title('Topic ' + str(i), fontdict=dict(size=16))\n",
    "    plt.gca().axis('off')\n",
    "\n",
    "\n",
    "plt.subplots_adjust(wspace=0, hspace=0)\n",
    "plt.axis('off')\n",
    "plt.margins(x=0, y=0)\n",
    "plt.tight_layout()\n",
    "plt.show()"
   ]
  },
  {
   "cell_type": "code",
   "execution_count": null,
   "metadata": {},
   "outputs": [],
   "source": []
  }
 ],
 "metadata": {
  "kernelspec": {
   "display_name": "Python 3",
   "language": "python",
   "name": "python3"
  },
  "language_info": {
   "codemirror_mode": {
    "name": "ipython",
    "version": 3
   },
   "file_extension": ".py",
   "mimetype": "text/x-python",
   "name": "python",
   "nbconvert_exporter": "python",
   "pygments_lexer": "ipython3",
   "version": "3.7.6"
  }
 },
 "nbformat": 4,
 "nbformat_minor": 1
}
