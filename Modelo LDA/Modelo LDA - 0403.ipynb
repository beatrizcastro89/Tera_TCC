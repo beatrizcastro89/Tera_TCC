{
 "cells": [
  {
   "cell_type": "markdown",
   "metadata": {
    "collapsed": true
   },
   "source": [
    "Análise do dia 03/04 através do modelo LDA."
   ]
  },
  {
   "cell_type": "code",
   "execution_count": 2,
   "metadata": {},
   "outputs": [],
   "source": [
    "# Importar bibliotecas\n",
    "\n",
    "# gerais\n",
    "import sys\n",
    "import os\n",
    "from pathlib import Path\n",
    "import re\n",
    "import numpy as np\n",
    "import pandas as pd\n",
    "from pprint import pprint\n",
    "from tqdm import tqdm\n",
    "from ast import literal_eval\n",
    "\n",
    "# Gensim\n",
    "import gensim, spacy, logging, warnings\n",
    "import gensim.corpora as corpora\n",
    "from gensim.utils import lemmatize, simple_preprocess\n",
    "from gensim.models import CoherenceModel\n",
    "from gensim.models.ldamulticore import LdaMulticore\n",
    "\n",
    "# NLTK Stop words\n",
    "import nltk\n",
    "from nltk.corpus import stopwords\n",
    "\n",
    "# sklearn\n",
    "from sklearn.feature_extraction.text import CountVectorizer\n",
    "\n",
    "#plot\n",
    "import pyLDAvis\n",
    "import pyLDAvis.gensim\n",
    "import matplotlib.pyplot as plt\n",
    "import matplotlib.colors as mcolors\n",
    "%matplotlib inline\n",
    "from wordcloud import WordCloud, STOPWORDS"
   ]
  },
  {
   "cell_type": "markdown",
   "metadata": {},
   "source": [
    "# Preparação dos dados"
   ]
  },
  {
   "cell_type": "code",
   "execution_count": 3,
   "metadata": {},
   "outputs": [],
   "source": [
    "# import dos dados\n",
    "\n",
    "df = pd.read_csv('0304_preprocessado.csv')"
   ]
  },
  {
   "cell_type": "code",
   "execution_count": 4,
   "metadata": {},
   "outputs": [],
   "source": [
    "# função para reverter os tokens processados em lista de tuples\n",
    "\n",
    "def strip_characters(text):\n",
    "    t = re.sub(r'\\(|\\)|:|,|;|\\.|’|”|“|\\?|%|>|<|\\[|\\]', '', text)\n",
    "    t = re.sub(r'/', ' ', t)\n",
    "    t = t.replace(\"'\",'')\n",
    "    return t"
   ]
  },
  {
   "cell_type": "code",
   "execution_count": 5,
   "metadata": {},
   "outputs": [],
   "source": [
    "# aplica função em todos os tokens\n",
    "\n",
    "df['token3'] = df['token3'].apply(lambda x: strip_characters(x))\n",
    "df['token3'] = df['token3'].apply(lambda x: str(x).split(' '))"
   ]
  },
  {
   "cell_type": "code",
   "execution_count": 6,
   "metadata": {},
   "outputs": [],
   "source": [
    "texto = list(df.token3)"
   ]
  },
  {
   "cell_type": "markdown",
   "metadata": {},
   "source": [
    "# Modelagem"
   ]
  },
  {
   "cell_type": "code",
   "execution_count": 7,
   "metadata": {},
   "outputs": [],
   "source": [
    "# Criar dicionário\n",
    "\n",
    "id2word = corpora.Dictionary(texto)"
   ]
  },
  {
   "cell_type": "code",
   "execution_count": 8,
   "metadata": {},
   "outputs": [],
   "source": [
    "# Criar o Corpus: A Frequência das palavras nos documentos\n",
    "\n",
    "corpus = [id2word.doc2bow(text) for text in texto]"
   ]
  },
  {
   "cell_type": "code",
   "execution_count": 9,
   "metadata": {},
   "outputs": [],
   "source": [
    "# Função para determinar a melhor quantidade de tópicos para a modelagem\n",
    "\n",
    "def compute_coherence_values(dictionary, corpus, texts, limit, start=2, step=5):\n",
    "    coherence_values = []\n",
    "    model_list = []\n",
    "    for num_topics in tqdm(range(start, limit, step)):\n",
    "        model = LdaMulticore(corpus, id2word=id2word, num_topics=10)\n",
    "        model_list.append(model)\n",
    "        coherencemodel = CoherenceModel(model=model, texts=texts, dictionary=dictionary, coherence='c_v')\n",
    "        coherence_values.append(coherencemodel.get_coherence())\n",
    "\n",
    "    return model_list, coherence_values"
   ]
  },
  {
   "cell_type": "code",
   "execution_count": 9,
   "metadata": {},
   "outputs": [
    {
     "name": "stderr",
     "output_type": "stream",
     "text": [
      "100%|██████████████████████████████████████████████████████████████████████████████████| 14/14 [08:03<00:00, 34.54s/it]\n"
     ]
    }
   ],
   "source": [
    "# Colocando parametros na função\n",
    "\n",
    "model_list, coherence_values = compute_coherence_values(dictionary=id2word, corpus=corpus, texts=texto, start=2, limit=30, step=2)"
   ]
  },
  {
   "cell_type": "code",
   "execution_count": 10,
   "metadata": {},
   "outputs": [
    {
     "data": {
      "image/png": "[encoded data removed]",
      "text/plain": [
       "<Figure size 432x288 with 1 Axes>"
      ]
     },
     "metadata": {
      "needs_background": "light"
     },
     "output_type": "display_data"
    }
   ],
   "source": [
    "# Mostrando visualmente a quantidade de tópicos\n",
    "\n",
    "limit=30; start=2; step=2;\n",
    "x = range(start, limit, step)\n",
    "plt.plot(x, coherence_values)\n",
    "plt.xlabel(\"Num Tópicos\")\n",
    "plt.ylabel(\"Score de Coerência\")\n",
    "plt.legend((\"Valores de Coerência\"), loc='best')\n",
    "plt.show()"
   ]
  },
  {
   "cell_type": "code",
   "execution_count": 11,
   "metadata": {},
   "outputs": [
    {
     "name": "stdout",
     "output_type": "stream",
     "text": [
      "A quantidade de tópicos = 2  tem um valor de coerência de  0.3116\n",
      "A quantidade de tópicos = 4  tem um valor de coerência de  0.3038\n",
      "A quantidade de tópicos = 6  tem um valor de coerência de  0.3321\n",
      "A quantidade de tópicos = 8  tem um valor de coerência de  0.3154\n",
      "A quantidade de tópicos = 10  tem um valor de coerência de  0.3195\n",
      "A quantidade de tópicos = 12  tem um valor de coerência de  0.3165\n",
      "A quantidade de tópicos = 14  tem um valor de coerência de  0.304\n",
      "A quantidade de tópicos = 16  tem um valor de coerência de  0.3332\n",
      "A quantidade de tópicos = 18  tem um valor de coerência de  0.3191\n",
      "A quantidade de tópicos = 20  tem um valor de coerência de  0.3205\n",
      "A quantidade de tópicos = 22  tem um valor de coerência de  0.3171\n",
      "A quantidade de tópicos = 24  tem um valor de coerência de  0.3077\n",
      "A quantidade de tópicos = 26  tem um valor de coerência de  0.3487\n",
      "A quantidade de tópicos = 28  tem um valor de coerência de  0.2973\n"
     ]
    }
   ],
   "source": [
    "# Lista dos valores de coerência, para melhor identificar o ponto de inflexão do gráfico\n",
    "\n",
    "for m, cv in zip(x, coherence_values):\n",
    "    print(\"A quantidade de tópicos =\", m, \" tem um valor de coerência de \", round(cv, 4))"
   ]
  },
  {
   "cell_type": "markdown",
   "metadata": {},
   "source": [
    "Aqui conseguimos determinar a melhor quantidade de tópicos a serem analisados, que é 8 tópicos"
   ]
  },
  {
   "cell_type": "code",
   "execution_count": 10,
   "metadata": {},
   "outputs": [],
   "source": [
    "# Vamos agora construir de fato o modelo LDA\n",
    "\n",
    "lda_model = LdaMulticore(corpus=corpus,\n",
    "                        id2word=id2word,\n",
    "                        num_topics=2, \n",
    "                        random_state=42,\n",
    "                        chunksize=100,\n",
    "                        passes=10,\n",
    "                        per_word_topics=True,\n",
    "                        alpha = 0.9,\n",
    "                        eta = 0.3)"
   ]
  },
  {
   "cell_type": "code",
   "execution_count": 11,
   "metadata": {},
   "outputs": [
    {
     "name": "stdout",
     "output_type": "stream",
     "text": [
      "\n",
      "Perplexidade:  -7.073248661318827\n"
     ]
    }
   ],
   "source": [
    "# Computar a perplexidade do modelo (quanto menor, melhor)\n",
    "\n",
    "print('\\nPerplexidade: ', lda_model.log_perplexity(corpus))"
   ]
  },
  {
   "cell_type": "code",
   "execution_count": 12,
   "metadata": {},
   "outputs": [
    {
     "name": "stdout",
     "output_type": "stream",
     "text": [
      "\n",
      "Score de Coerência:  0.4050952915812253\n"
     ]
    }
   ],
   "source": [
    "# Computar o Score de Coerência\n",
    "\n",
    "coherence_model_lda = CoherenceModel(model=lda_model, texts=texto, dictionary=id2word, coherence='c_v')\n",
    "coherence_lda = coherence_model_lda.get_coherence()\n",
    "print('\\nScore de Coerência: ', coherence_lda)"
   ]
  },
  {
   "cell_type": "code",
   "execution_count": 13,
   "metadata": {},
   "outputs": [
    {
     "data": {
      "text/html": [
       "\n",
       "<link rel=\"stylesheet\" type=\"text/css\" href=\"https://cdn.rawgit.com/bmabey/pyLDAvis/files/ldavis.v1.0.0.css\">\n",
       "\n",
       "\n",
       "<div id=\"ldavis_el535623855508947922300383195\"></div>\n",
       "<script type=\"text/javascript\">\n",
       "\n",
       "var ldavis_el535623855508947922300383195_data = {\"mdsDat\": {\"x\": [0.31906703114509577, -0.31906703114509577], \"y\": [0.0, 0.0], \"topics\": [1, 2], \"cluster\": [1, 1], \"Freq\": [50.89088821411133, 49.10911178588867]}, \"tinfo\": {\"Term\": [\"bolsonaro\", \"presidente\", \"pandemia\", \"\", \"casa\", \"gente\", \"brasil\", \"muito\", \"nem\", \"depois\", \"saude\", \"acabar\", \"quando\", \"mundo\", \"governo\", \"povo\", \"contra\", \"sair\", \"nada\", \"coisa\", \"mandetta\", \"passar\", \"tempo\", \"ir\", \"nunca\", \"ministro\", \"vida\", \"novo\", \"melhor\", \"tambem\", \"bolsonaro\", \"presidente\", \"\", \"brasil\", \"saude\", \"governo\", \"contra\", \"povo\", \"acabar\", \"mandetta\", \"ministro\", \"tambem\", \"novo\", \"meio\", \"crise\", \"dinheiro\", \"trabalho\", \"hora\", \"momento\", \"caso\", \"cabelo\", \"ministerio\", \"pois\", \"populacao\", \"primeiro\", \"qual\", \"certo\", \"maior\", \"senhor\", \"mil\", \"pandemia\", \"situacao\", \"sim\", \"ha\", \"agora\", \"sempre\", \"casa\", \"gente\", \"nem\", \"depois\", \"mundo\", \"sair\", \"coisa\", \"nada\", \"passar\", \"tempo\", \"ir\", \"nunca\", \"vida\", \"mae\", \"melhor\", \"bom\", \"falar\", \"alguem\", \"menos\", \"vez\", \"logo\", \"merda\", \"tanto\", \"semana\", \"tava\", \"video\", \"tomar\", \"cada\", \"pessoa\", \"fim\", \"muito\", \"isolamento\", \"quando\", \"agora\", \"deus\"], \"Freq\": [20109.0, 17313.0, 9852.0, 8881.0, 7151.0, 5116.0, 4802.0, 4471.0, 4340.0, 4069.0, 4117.0, 4094.0, 5252.0, 3579.0, 3580.0, 3455.0, 3402.0, 3083.0, 3009.0, 2994.0, 3046.0, 2624.0, 2529.0, 2464.0, 2390.0, 2484.0, 2312.0, 2274.0, 2095.0, 2193.0, 20108.759765625, 17313.435546875, 8881.4013671875, 4802.1953125, 4116.99365234375, 3580.46826171875, 3402.513671875, 3455.1962890625, 4093.760498046875, 3045.878662109375, 2484.1640625, 2193.3056640625, 2274.1142578125, 1984.07763671875, 1836.876953125, 1555.907958984375, 1578.6231689453125, 1529.375, 1443.668701171875, 1362.8492431640625, 1456.529296875, 1207.5118408203125, 1291.9481201171875, 1104.2708740234375, 1143.6650390625, 1164.9615478515625, 1050.4752197265625, 1047.1998291015625, 974.5015869140625, 1030.8155517578125, 9840.91015625, 1076.15625, 1972.4375, 1142.150146484375, 1756.4140625, 1219.8973388671875, 7150.71630859375, 5115.78857421875, 4340.1552734375, 4068.737548828125, 3579.59228515625, 3082.95166015625, 2993.701171875, 3009.6328125, 2623.935546875, 2528.966552734375, 2464.662353515625, 2390.310302734375, 2311.950927734375, 1996.0908203125, 2095.56494140625, 2043.2440185546875, 1894.785400390625, 1845.4014892578125, 1798.78076171875, 1848.8468017578125, 1723.8526611328125, 1639.88037109375, 1438.5084228515625, 1475.883056640625, 1371.56103515625, 1448.3885498046875, 1415.285888671875, 1451.9156494140625, 1394.9527587890625, 1417.5245361328125, 4459.6025390625, 1623.8568115234375, 5005.13916015625, 3921.99609375, 2107.3447265625], \"Total\": [20109.0, 17313.0, 9852.0, 8881.0, 7151.0, 5116.0, 4802.0, 4471.0, 4340.0, 4069.0, 4117.0, 4094.0, 5252.0, 3579.0, 3580.0, 3455.0, 3402.0, 3083.0, 3009.0, 2994.0, 3046.0, 2624.0, 2529.0, 2464.0, 2390.0, 2484.0, 2312.0, 2274.0, 2095.0, 2193.0, 20109.08984375, 17313.7578125, 8881.712890625, 4802.52001953125, 4117.3115234375, 3580.787353515625, 3402.834716796875, 3455.5263671875, 4094.177001953125, 3046.18994140625, 2484.47412109375, 2193.652099609375, 2274.50537109375, 1984.4251708984375, 1837.206298828125, 1556.2415771484375, 1578.962158203125, 1529.726806640625, 1444.0059814453125, 1363.17724609375, 1456.886474609375, 1207.821533203125, 1292.3018798828125, 1104.59326171875, 1144.0062255859375, 1165.3140869140625, 1050.8150634765625, 1047.538818359375, 974.8175048828125, 1031.1510009765625, 9852.7626953125, 1076.5164794921875, 2004.195068359375, 1168.1483154296875, 5678.41015625, 1679.2620849609375, 7151.025390625, 5116.10498046875, 4340.4736328125, 4069.056884765625, 3579.92578125, 3083.265625, 2994.0166015625, 3009.962890625, 2624.24951171875, 2529.28759765625, 2464.978271484375, 2390.6337890625, 2312.266845703125, 1996.3944091796875, 2095.898681640625, 2043.57958984375, 1895.11767578125, 1845.7301025390625, 1799.10498046875, 1849.1822509765625, 1724.1676025390625, 1640.1983642578125, 1438.8162841796875, 1476.205078125, 1371.8690185546875, 1448.7138671875, 1415.604248046875, 1452.2445068359375, 1395.2685546875, 1417.8475341796875, 4471.59033203125, 1624.22900390625, 5252.1708984375, 5678.41015625, 2751.47607421875], \"Category\": [\"Default\", \"Default\", \"Default\", \"Default\", \"Default\", \"Default\", \"Default\", \"Default\", \"Default\", \"Default\", \"Default\", \"Default\", \"Default\", \"Default\", \"Default\", \"Default\", \"Default\", \"Default\", \"Default\", \"Default\", \"Default\", \"Default\", \"Default\", \"Default\", \"Default\", \"Default\", \"Default\", \"Default\", \"Default\", \"Default\", \"Topic1\", \"Topic1\", \"Topic1\", \"Topic1\", \"Topic1\", \"Topic1\", \"Topic1\", \"Topic1\", \"Topic1\", \"Topic1\", \"Topic1\", \"Topic1\", \"Topic1\", \"Topic1\", \"Topic1\", \"Topic1\", \"Topic1\", \"Topic1\", \"Topic1\", \"Topic1\", \"Topic1\", \"Topic1\", \"Topic1\", \"Topic1\", \"Topic1\", \"Topic1\", \"Topic1\", \"Topic1\", \"Topic1\", \"Topic1\", \"Topic1\", \"Topic1\", \"Topic1\", \"Topic1\", \"Topic1\", \"Topic1\", \"Topic2\", \"Topic2\", \"Topic2\", \"Topic2\", \"Topic2\", \"Topic2\", \"Topic2\", \"Topic2\", \"Topic2\", \"Topic2\", \"Topic2\", \"Topic2\", \"Topic2\", \"Topic2\", \"Topic2\", \"Topic2\", \"Topic2\", \"Topic2\", \"Topic2\", \"Topic2\", \"Topic2\", \"Topic2\", \"Topic2\", \"Topic2\", \"Topic2\", \"Topic2\", \"Topic2\", \"Topic2\", \"Topic2\", \"Topic2\", \"Topic2\", \"Topic2\", \"Topic2\", \"Topic2\", \"Topic2\"], \"logprob\": [30.0, 29.0, 28.0, 27.0, 26.0, 25.0, 24.0, 23.0, 22.0, 21.0, 20.0, 19.0, 18.0, 17.0, 16.0, 15.0, 14.0, 13.0, 12.0, 11.0, 10.0, 9.0, 8.0, 7.0, 6.0, 5.0, 4.0, 3.0, 2.0, 1.0, -2.7623000144958496, -2.911900043487549, -3.5794999599456787, -4.194399833679199, -4.348299980163574, -4.4878997802734375, -4.538899898529053, -4.523499965667725, -4.354000091552734, -4.649600028991699, -4.853499889373779, -4.978000164031982, -4.941800117492676, -5.0782999992370605, -5.155399799346924, -5.321400165557861, -5.3069000244140625, -5.338600158691406, -5.396200180053711, -5.45389986038208, -5.387400150299072, -5.574900150299072, -5.507299900054932, -5.6641998291015625, -5.629199981689453, -5.6107001304626465, -5.714200019836426, -5.717299938201904, -5.789299964904785, -5.733099937438965, -3.476900100708008, -5.690000057220459, -5.084199905395508, -5.630499839782715, -5.200200080871582, -5.564700126647949, -3.7606000900268555, -4.0954999923706055, -4.259900093078613, -4.32450008392334, -4.452499866485596, -4.601900100708008, -4.63129997253418, -4.625999927520752, -4.7631001472473145, -4.800000190734863, -4.825699806213379, -4.856400012969971, -4.889699935913086, -5.036600112915039, -4.98799991607666, -5.013199806213379, -5.088699817657471, -5.115099906921387, -5.140699863433838, -5.1132001876831055, -5.183199882507324, -5.2332000732421875, -5.364200115203857, -5.338500022888184, -5.411799907684326, -5.3572998046875, -5.380499839782715, -5.354899883270264, -5.394899845123291, -5.378900051116943, -4.232699871063232, -5.243000030517578, -4.117300033569336, -4.361199855804443, -4.982399940490723], \"loglift\": [30.0, 29.0, 28.0, 27.0, 26.0, 25.0, 24.0, 23.0, 22.0, 21.0, 20.0, 19.0, 18.0, 17.0, 16.0, 15.0, 14.0, 13.0, 12.0, 11.0, 10.0, 9.0, 8.0, 7.0, 6.0, 5.0, 4.0, 3.0, 2.0, 1.0, 0.6754999756813049, 0.6754999756813049, 0.6754999756813049, 0.6754000186920166, 0.6754000186920166, 0.6754000186920166, 0.6754000186920166, 0.6754000186920166, 0.6754000186920166, 0.6754000186920166, 0.6754000186920166, 0.6753000020980835, 0.6753000020980835, 0.6753000020980835, 0.6753000020980835, 0.6753000020980835, 0.6753000020980835, 0.6753000020980835, 0.6753000020980835, 0.6751999855041504, 0.6751999855041504, 0.6751999855041504, 0.6751999855041504, 0.6751999855041504, 0.6751999855041504, 0.6751999855041504, 0.6751999855041504, 0.6751999855041504, 0.6751999855041504, 0.6751999855041504, 0.6743000149726868, 0.6751999855041504, 0.659500002861023, 0.652999997138977, -0.49790000915527344, 0.35589998960494995, 0.7110999822616577, 0.7110999822616577, 0.7110999822616577, 0.7110000252723694, 0.7110000252723694, 0.7110000252723694, 0.7110000252723694, 0.7110000252723694, 0.7110000252723694, 0.7110000252723694, 0.7110000252723694, 0.7110000252723694, 0.7110000252723694, 0.7110000252723694, 0.7110000252723694, 0.7110000252723694, 0.7110000252723694, 0.7109000086784363, 0.7109000086784363, 0.7109000086784363, 0.7109000086784363, 0.7109000086784363, 0.7109000086784363, 0.7109000086784363, 0.7109000086784363, 0.7109000086784363, 0.7109000086784363, 0.7109000086784363, 0.7109000086784363, 0.7109000086784363, 0.7084000110626221, 0.7109000086784363, 0.6628999710083008, 0.3411000072956085, 0.44440001249313354]}, \"token.table\": {\"Topic\": [1, 1, 1, 2, 2, 1, 2, 1, 1, 2, 2, 1, 1, 2, 1, 1, 2, 1, 2, 1, 2, 2, 2, 1, 1, 2, 1, 2, 2, 2, 2, 1, 1, 1, 2, 2, 2, 1, 1, 1, 1, 1, 2, 2, 2, 2, 1, 2, 1, 2, 2, 2, 1, 1, 1, 1, 1, 1, 1, 2, 2, 1, 2, 1, 2, 1, 1, 2, 1, 1, 2, 2, 2, 2, 1, 2, 2, 2], \"Freq\": [0.9999197125434875, 0.9999567866325378, 0.30924147367477417, 0.6906862854957581, 0.9996044635772705, 0.9999955296516418, 0.9997164011001587, 0.9998916983604431, 1.0000779628753662, 0.9998316168785095, 0.9999964237213135, 0.9998700022697449, 0.9992243647575378, 0.9999944567680359, 1.0000485181808472, 0.9998877048492432, 0.9999859929084778, 0.23405618965625763, 0.7657707929611206, 0.9998447895050049, 0.999937891960144, 1.0001075267791748, 0.9999794960021973, 0.9997801184654236, 0.9776155948638916, 0.022257447242736816, 0.9995248913764954, 1.0000088214874268, 0.9998590350151062, 0.9999027848243713, 0.9998024106025696, 0.9994856119155884, 0.9999376535415649, 0.9997857213020325, 1.0000483989715576, 0.9999416470527649, 0.9998790621757507, 0.9998535513877869, 1.0001477003097534, 0.9998091459274292, 0.9999958872795105, 0.002683609025552869, 0.9974080324172974, 1.0000207424163818, 1.0000122785568237, 0.9998908638954163, 0.9997777938842773, 0.9997348785400391, 0.9988061785697937, 0.0012179325567558408, 0.9999049305915833, 0.9998075366020203, 0.9997664093971252, 0.999462902545929, 0.9998476505279541, 0.9999562501907349, 0.9999945759773254, 0.9997304677963257, 0.04702817276120186, 0.9529392719268799, 0.9999138712882996, 0.99992436170578, 0.9998610615730286, 0.7265095710754395, 0.2733343541622162, 1.0001871585845947, 0.9839361310005188, 0.01596651040017605, 0.9995202422142029, 0.9997027516365051, 1.0001276731491089, 1.0000954866409302, 0.9998862743377686, 0.9995731711387634, 1.0000239610671997, 0.9999014139175415, 0.9998846054077148, 0.9995072484016418], \"Term\": [\"\", \"acabar\", \"agora\", \"agora\", \"alguem\", \"bolsonaro\", \"bom\", \"brasil\", \"cabelo\", \"cada\", \"casa\", \"caso\", \"certo\", \"coisa\", \"contra\", \"crise\", \"depois\", \"deus\", \"deus\", \"dinheiro\", \"falar\", \"fim\", \"gente\", \"governo\", \"ha\", \"ha\", \"hora\", \"ir\", \"isolamento\", \"logo\", \"mae\", \"maior\", \"mandetta\", \"meio\", \"melhor\", \"menos\", \"merda\", \"mil\", \"ministerio\", \"ministro\", \"momento\", \"muito\", \"muito\", \"mundo\", \"nada\", \"nem\", \"novo\", \"nunca\", \"pandemia\", \"pandemia\", \"passar\", \"pessoa\", \"pois\", \"populacao\", \"povo\", \"presidente\", \"primeiro\", \"qual\", \"quando\", \"quando\", \"sair\", \"saude\", \"semana\", \"sempre\", \"sempre\", \"senhor\", \"sim\", \"sim\", \"situacao\", \"tambem\", \"tanto\", \"tava\", \"tempo\", \"tomar\", \"trabalho\", \"vez\", \"vida\", \"video\"]}, \"R\": 30, \"lambda.step\": 0.01, \"plot.opts\": {\"xlab\": \"PC1\", \"ylab\": \"PC2\"}, \"topic.order\": [2, 1]};\n",
       "\n",
       "function LDAvis_load_lib(url, callback){\n",
       "  var s = document.createElement('script');\n",
       "  s.src = url;\n",
       "  s.async = true;\n",
       "  s.onreadystatechange = s.onload = callback;\n",
       "  s.onerror = function(){console.warn(\"failed to load library \" + url);};\n",
       "  document.getElementsByTagName(\"head\")[0].appendChild(s);\n",
       "}\n",
       "\n",
       "if(typeof(LDAvis) !== \"undefined\"){\n",
       "   // already loaded: just create the visualization\n",
       "   !function(LDAvis){\n",
       "       new LDAvis(\"#\" + \"ldavis_el535623855508947922300383195\", ldavis_el535623855508947922300383195_data);\n",
       "   }(LDAvis);\n",
       "}else if(typeof define === \"function\" && define.amd){\n",
       "   // require.js is available: use it to load d3/LDAvis\n",
       "   require.config({paths: {d3: \"https://cdnjs.cloudflare.com/ajax/libs/d3/3.5.5/d3.min\"}});\n",
       "   require([\"d3\"], function(d3){\n",
       "      window.d3 = d3;\n",
       "      LDAvis_load_lib(\"https://cdn.rawgit.com/bmabey/pyLDAvis/files/ldavis.v1.0.0.js\", function(){\n",
       "        new LDAvis(\"#\" + \"ldavis_el535623855508947922300383195\", ldavis_el535623855508947922300383195_data);\n",
       "      });\n",
       "    });\n",
       "}else{\n",
       "    // require.js not available: dynamically load d3 & LDAvis\n",
       "    LDAvis_load_lib(\"https://cdnjs.cloudflare.com/ajax/libs/d3/3.5.5/d3.min.js\", function(){\n",
       "         LDAvis_load_lib(\"https://cdn.rawgit.com/bmabey/pyLDAvis/files/ldavis.v1.0.0.js\", function(){\n",
       "                 new LDAvis(\"#\" + \"ldavis_el535623855508947922300383195\", ldavis_el535623855508947922300383195_data);\n",
       "            })\n",
       "         });\n",
       "}\n",
       "</script>"
      ],
      "text/plain": [
       "PreparedData(topic_coordinates=              x    y  topics  cluster       Freq\n",
       "topic                                           \n",
       "1      0.319067  0.0       1        1  50.890888\n",
       "0     -0.319067  0.0       2        1  49.109112, topic_info=           Term          Freq         Total Category  logprob  loglift\n",
       "2     bolsonaro  20109.000000  20109.000000  Default  30.0000  30.0000\n",
       "19   presidente  17313.000000  17313.000000  Default  29.0000  29.0000\n",
       "27     pandemia   9852.000000   9852.000000  Default  28.0000  28.0000\n",
       "14                8881.000000   8881.000000  Default  27.0000  27.0000\n",
       "4          casa   7151.000000   7151.000000  Default  26.0000  26.0000\n",
       "..          ...           ...           ...      ...      ...      ...\n",
       "6         muito   4459.602539   4471.590332   Topic2  -4.2327   0.7084\n",
       "646  isolamento   1623.856812   1624.229004   Topic2  -5.2430   0.7109\n",
       "219      quando   5005.139160   5252.170898   Topic2  -4.1173   0.6629\n",
       "26        agora   3921.996094   5678.410156   Topic2  -4.3612   0.3411\n",
       "120        deus   2107.344727   2751.476074   Topic2  -4.9824   0.4444\n",
       "\n",
       "[101 rows x 6 columns], token_table=      Topic      Freq      Term\n",
       "term                           \n",
       "14        1  0.999920          \n",
       "239       1  0.999957    acabar\n",
       "26        1  0.309241     agora\n",
       "26        2  0.690686     agora\n",
       "71        2  0.999604    alguem\n",
       "...     ...       ...       ...\n",
       "80        2  0.999573     tomar\n",
       "212       1  1.000024  trabalho\n",
       "373       2  0.999901       vez\n",
       "350       2  0.999885      vida\n",
       "856       2  0.999507     video\n",
       "\n",
       "[78 rows x 3 columns], R=30, lambda_step=0.01, plot_opts={'xlab': 'PC1', 'ylab': 'PC2'}, topic_order=[2, 1])"
      ]
     },
     "execution_count": 13,
     "metadata": {},
     "output_type": "execute_result"
    }
   ],
   "source": [
    "# Visualização dos tópicos em clusters\n",
    "\n",
    "pyLDAvis.enable_notebook()\n",
    "vis = pyLDAvis.gensim.prepare(lda_model, corpus, id2word)\n",
    "vis"
   ]
  },
  {
   "cell_type": "code",
   "execution_count": 14,
   "metadata": {},
   "outputs": [],
   "source": [
    "# Função para determinar a melhor quantidade de tópicos para a modelagem\n",
    "\n",
    "def compute_coherence_values(dictionary, corpus, texts, limit, start=2, step=5):\n",
    "    coherence_values = []\n",
    "    model_list = []\n",
    "    for num_topics in tqdm(range(start, limit, step)):\n",
    "        model = LdaMulticore(corpus, id2word=id2word, num_topics=2)\n",
    "        model_list.append(model)\n",
    "        coherencemodel = CoherenceModel(model=model, texts=texts, dictionary=dictionary, coherence='c_v')\n",
    "        coherence_values.append(coherencemodel.get_coherence())\n",
    "\n",
    "    return model_list, coherence_values"
   ]
  },
  {
   "cell_type": "code",
   "execution_count": 15,
   "metadata": {},
   "outputs": [
    {
     "name": "stderr",
     "output_type": "stream",
     "text": [
      "100%|████████████████████████████████████████████████████████████████████████████████████| 1/1 [00:46<00:00, 46.22s/it]\n"
     ]
    }
   ],
   "source": [
    "# Colocando parametros na função\n",
    "\n",
    "model_list, coherence_values = compute_coherence_values(dictionary=id2word, corpus=corpus, texts=texto, start=2, limit=4, step=2)"
   ]
  },
  {
   "cell_type": "code",
   "execution_count": 16,
   "metadata": {},
   "outputs": [
    {
     "data": {
      "text/plain": [
       "[(0,\n",
       "  '0.050*\"bolsonaro\" + 0.038*\"presidente\" + 0.015*\"pandemia\" + 0.014*\"quando\" + 0.013*\"casa\" + 0.013*\"acabar\" + 0.012*\"gente\" + 0.010*\"nem\" + 0.009*\"brasil\" + 0.009*\"muito\" + 0.009*\"povo\" + 0.008*\"contra\" + 0.008*\"mandetta\" + 0.008*\"deus\" + 0.008*\"agora\" + 0.006*\"ministro\" + 0.006*\"nada\" + 0.006*\"melhor\" + 0.005*\"final\" + 0.005*\"falar\"'),\n",
       " (1,\n",
       "  '0.032*\"\" + 0.017*\"pandemia\" + 0.015*\"presidente\" + 0.011*\"mundo\" + 0.011*\"agora\" + 0.010*\"saude\" + 0.009*\"bolsonaro\" + 0.009*\"depois\" + 0.009*\"sair\" + 0.008*\"casa\" + 0.008*\"passar\" + 0.007*\"coisa\" + 0.006*\"brasil\" + 0.006*\"meio\" + 0.006*\"governo\" + 0.006*\"logo\" + 0.005*\"sim\" + 0.005*\"porque\" + 0.005*\"dinheiro\" + 0.005*\"caso\"')]"
      ]
     },
     "execution_count": 16,
     "metadata": {},
     "output_type": "execute_result"
    }
   ],
   "source": [
    "# Escolhe o modelo\n",
    "\n",
    "optimal_model = model_list[0]\n",
    "optimal_model.print_topics(num_topics = 2, num_words = 20)"
   ]
  },
  {
   "cell_type": "code",
   "execution_count": 17,
   "metadata": {},
   "outputs": [],
   "source": [
    "# Encontrar qual o principal tópico em cada tweet\n",
    "\n",
    "def format_topics_sentences(ldamodel=lda_model, corpus=corpus, texts=texto):\n",
    "    # Output\n",
    "    sent_topics_df = pd.DataFrame()\n",
    "\n",
    "    # Seleciona o principal tópico de cada tweet\n",
    "    for i, row in enumerate(ldamodel[corpus]):\n",
    "        row = sorted(row, key=lambda x: (x[1]), reverse=True)\n",
    "        # Calcula o principal tópico, o percentual de contribuição e as palavras chaves de cada tweet\n",
    "        for j, (topic_num, prop_topic) in enumerate(row):\n",
    "            if j == 0:  # => mostra o principal tópico\n",
    "                wp = ldamodel.show_topic(topic_num)\n",
    "                topic_keywords = \", \".join([word for word, prop in wp])\n",
    "                sent_topics_df = sent_topics_df.append(pd.Series([int(topic_num), round(prop_topic,4), topic_keywords]), ignore_index=True)\n",
    "            else:\n",
    "                break\n",
    "    sent_topics_df.columns = ['Principal_Topico', 'Perc_Contributicao', 'Palavras_Chave']\n",
    "\n",
    "    # Inclui o texto original no final do DataFrame\n",
    "    contents = pd.Series(texts)\n",
    "    sent_topics_df = pd.concat([sent_topics_df, contents], axis=1)\n",
    "    return(sent_topics_df)"
   ]
  },
  {
   "cell_type": "code",
   "execution_count": 18,
   "metadata": {},
   "outputs": [],
   "source": [
    "# roda a função de calcular os principais tópicos de cada tweet\n",
    "\n",
    "df_topic_sents_keywords = format_topics_sentences(ldamodel=optimal_model, corpus=corpus, texts=texto)"
   ]
  },
  {
   "cell_type": "code",
   "execution_count": 19,
   "metadata": {},
   "outputs": [],
   "source": [
    "# Formata o DataFrame\n",
    "\n",
    "df_dominant_topic = df_topic_sents_keywords.reset_index()\n",
    "df_dominant_topic.columns = ['Index_DF_Original', 'Principal_Topico', 'Perc_Contrib_Topico', 'Palavras_Chave', 'Tweets']"
   ]
  },
  {
   "cell_type": "code",
   "execution_count": 20,
   "metadata": {
    "scrolled": true
   },
   "outputs": [
    {
     "data": {
      "text/html": [
       "<div>\n",
       "<style scoped>\n",
       "    .dataframe tbody tr th:only-of-type {\n",
       "        vertical-align: middle;\n",
       "    }\n",
       "\n",
       "    .dataframe tbody tr th {\n",
       "        vertical-align: top;\n",
       "    }\n",
       "\n",
       "    .dataframe thead th {\n",
       "        text-align: right;\n",
       "    }\n",
       "</style>\n",
       "<table border=\"1\" class=\"dataframe\">\n",
       "  <thead>\n",
       "    <tr style=\"text-align: right;\">\n",
       "      <th></th>\n",
       "      <th>Topico</th>\n",
       "      <th>Topico_Perc_Contrib</th>\n",
       "      <th>Palavras_Chave</th>\n",
       "      <th>Tweet</th>\n",
       "    </tr>\n",
       "  </thead>\n",
       "  <tbody>\n",
       "    <tr>\n",
       "      <th>0</th>\n",
       "      <td>0.0</td>\n",
       "      <td>0.9751</td>\n",
       "      <td>bolsonaro, presidente, pandemia, quando, casa,...</td>\n",
       "      <td>[desflopando, tok, volta, casa, mari, marcela,...</td>\n",
       "    </tr>\n",
       "    <tr>\n",
       "      <th>1</th>\n",
       "      <td>1.0</td>\n",
       "      <td>0.9639</td>\n",
       "      <td>, pandemia, presidente, mundo, agora, saude, b...</td>\n",
       "      <td>[afetados, mapa, italia, economia, alemanha, p...</td>\n",
       "    </tr>\n",
       "  </tbody>\n",
       "</table>\n",
       "</div>"
      ],
      "text/plain": [
       "   Topico  Topico_Perc_Contrib  \\\n",
       "0     0.0               0.9751   \n",
       "1     1.0               0.9639   \n",
       "\n",
       "                                      Palavras_Chave  \\\n",
       "0  bolsonaro, presidente, pandemia, quando, casa,...   \n",
       "1  , pandemia, presidente, mundo, agora, saude, b...   \n",
       "\n",
       "                                               Tweet  \n",
       "0  [desflopando, tok, volta, casa, mari, marcela,...  \n",
       "1  [afetados, mapa, italia, economia, alemanha, p...  "
      ]
     },
     "execution_count": 20,
     "metadata": {},
     "output_type": "execute_result"
    }
   ],
   "source": [
    "# Group top 5 sentences under each topic\n",
    "sent_topics_sorteddf_mallet = pd.DataFrame()\n",
    "\n",
    "sent_topics_outdf_grpd = df_topic_sents_keywords.groupby('Principal_Topico')\n",
    "\n",
    "for i, grp in sent_topics_outdf_grpd:\n",
    "    sent_topics_sorteddf_mallet = pd.concat([sent_topics_sorteddf_mallet, \n",
    "                                             grp.sort_values(['Perc_Contributicao'], ascending=[0]).head(1)], \n",
    "                                            axis=0)\n",
    "\n",
    "# Reset Index    \n",
    "sent_topics_sorteddf_mallet.reset_index(drop=True, inplace=True)\n",
    "\n",
    "# Format\n",
    "sent_topics_sorteddf_mallet.columns = ['Topico', \"Topico_Perc_Contrib\", \"Palavras_Chave\", \"Tweet\"]\n",
    "\n",
    "# Show\n",
    "sent_topics_sorteddf_mallet"
   ]
  },
  {
   "cell_type": "code",
   "execution_count": 21,
   "metadata": {},
   "outputs": [
    {
     "data": {
      "text/html": [
       "<div>\n",
       "<style scoped>\n",
       "    .dataframe tbody tr th:only-of-type {\n",
       "        vertical-align: middle;\n",
       "    }\n",
       "\n",
       "    .dataframe tbody tr th {\n",
       "        vertical-align: top;\n",
       "    }\n",
       "\n",
       "    .dataframe thead th {\n",
       "        text-align: right;\n",
       "    }\n",
       "</style>\n",
       "<table border=\"1\" class=\"dataframe\">\n",
       "  <thead>\n",
       "    <tr style=\"text-align: right;\">\n",
       "      <th></th>\n",
       "      <th>Principal_Topico</th>\n",
       "      <th>Palavras_Chave</th>\n",
       "      <th>Qtd_Tweets</th>\n",
       "      <th>Perc_Tweets</th>\n",
       "    </tr>\n",
       "  </thead>\n",
       "  <tbody>\n",
       "    <tr>\n",
       "      <th>0.0</th>\n",
       "      <td>0.0</td>\n",
       "      <td>bolsonaro, presidente, pandemia, quando, casa,...</td>\n",
       "      <td>74081.0</td>\n",
       "      <td>0.5144</td>\n",
       "    </tr>\n",
       "    <tr>\n",
       "      <th>1.0</th>\n",
       "      <td>0.0</td>\n",
       "      <td>bolsonaro, presidente, pandemia, quando, casa,...</td>\n",
       "      <td>69922.0</td>\n",
       "      <td>0.4856</td>\n",
       "    </tr>\n",
       "    <tr>\n",
       "      <th>2.0</th>\n",
       "      <td>1.0</td>\n",
       "      <td>, pandemia, presidente, mundo, agora, saude, b...</td>\n",
       "      <td>NaN</td>\n",
       "      <td>NaN</td>\n",
       "    </tr>\n",
       "    <tr>\n",
       "      <th>3.0</th>\n",
       "      <td>0.0</td>\n",
       "      <td>bolsonaro, presidente, pandemia, quando, casa,...</td>\n",
       "      <td>NaN</td>\n",
       "      <td>NaN</td>\n",
       "    </tr>\n",
       "    <tr>\n",
       "      <th>4.0</th>\n",
       "      <td>1.0</td>\n",
       "      <td>, pandemia, presidente, mundo, agora, saude, b...</td>\n",
       "      <td>NaN</td>\n",
       "      <td>NaN</td>\n",
       "    </tr>\n",
       "    <tr>\n",
       "      <th>...</th>\n",
       "      <td>...</td>\n",
       "      <td>...</td>\n",
       "      <td>...</td>\n",
       "      <td>...</td>\n",
       "    </tr>\n",
       "    <tr>\n",
       "      <th>143998.0</th>\n",
       "      <td>1.0</td>\n",
       "      <td>, pandemia, presidente, mundo, agora, saude, b...</td>\n",
       "      <td>NaN</td>\n",
       "      <td>NaN</td>\n",
       "    </tr>\n",
       "    <tr>\n",
       "      <th>143999.0</th>\n",
       "      <td>0.0</td>\n",
       "      <td>bolsonaro, presidente, pandemia, quando, casa,...</td>\n",
       "      <td>NaN</td>\n",
       "      <td>NaN</td>\n",
       "    </tr>\n",
       "    <tr>\n",
       "      <th>144000.0</th>\n",
       "      <td>0.0</td>\n",
       "      <td>bolsonaro, presidente, pandemia, quando, casa,...</td>\n",
       "      <td>NaN</td>\n",
       "      <td>NaN</td>\n",
       "    </tr>\n",
       "    <tr>\n",
       "      <th>144001.0</th>\n",
       "      <td>0.0</td>\n",
       "      <td>bolsonaro, presidente, pandemia, quando, casa,...</td>\n",
       "      <td>NaN</td>\n",
       "      <td>NaN</td>\n",
       "    </tr>\n",
       "    <tr>\n",
       "      <th>144002.0</th>\n",
       "      <td>1.0</td>\n",
       "      <td>, pandemia, presidente, mundo, agora, saude, b...</td>\n",
       "      <td>NaN</td>\n",
       "      <td>NaN</td>\n",
       "    </tr>\n",
       "  </tbody>\n",
       "</table>\n",
       "<p>144003 rows × 4 columns</p>\n",
       "</div>"
      ],
      "text/plain": [
       "          Principal_Topico                                     Palavras_Chave  \\\n",
       "0.0                    0.0  bolsonaro, presidente, pandemia, quando, casa,...   \n",
       "1.0                    0.0  bolsonaro, presidente, pandemia, quando, casa,...   \n",
       "2.0                    1.0  , pandemia, presidente, mundo, agora, saude, b...   \n",
       "3.0                    0.0  bolsonaro, presidente, pandemia, quando, casa,...   \n",
       "4.0                    1.0  , pandemia, presidente, mundo, agora, saude, b...   \n",
       "...                    ...                                                ...   \n",
       "143998.0               1.0  , pandemia, presidente, mundo, agora, saude, b...   \n",
       "143999.0               0.0  bolsonaro, presidente, pandemia, quando, casa,...   \n",
       "144000.0               0.0  bolsonaro, presidente, pandemia, quando, casa,...   \n",
       "144001.0               0.0  bolsonaro, presidente, pandemia, quando, casa,...   \n",
       "144002.0               1.0  , pandemia, presidente, mundo, agora, saude, b...   \n",
       "\n",
       "          Qtd_Tweets  Perc_Tweets  \n",
       "0.0          74081.0       0.5144  \n",
       "1.0          69922.0       0.4856  \n",
       "2.0              NaN          NaN  \n",
       "3.0              NaN          NaN  \n",
       "4.0              NaN          NaN  \n",
       "...              ...          ...  \n",
       "143998.0         NaN          NaN  \n",
       "143999.0         NaN          NaN  \n",
       "144000.0         NaN          NaN  \n",
       "144001.0         NaN          NaN  \n",
       "144002.0         NaN          NaN  \n",
       "\n",
       "[144003 rows x 4 columns]"
      ]
     },
     "execution_count": 21,
     "metadata": {},
     "output_type": "execute_result"
    }
   ],
   "source": [
    "# Numero de tweets por topico\n",
    "\n",
    "topic_counts = df_topic_sents_keywords['Principal_Topico'].value_counts()\n",
    "\n",
    "# Porcentagem de tweets por tópico\n",
    "topic_contribution = round(topic_counts/topic_counts.sum(), 4)\n",
    "\n",
    "# Número do tópico e suas palavras chave\n",
    "topic_num_keywords = df_topic_sents_keywords[['Principal_Topico', 'Palavras_Chave']]\n",
    "\n",
    "# Concatena as colunas\n",
    "df_dominant_topics = pd.concat([topic_num_keywords, topic_counts, topic_contribution], axis=1)\n",
    "\n",
    "# Renomeia as colunas\n",
    "df_dominant_topics.columns = ['Principal_Topico', 'Palavras_Chave', 'Qtd_Tweets', 'Perc_Tweets']\n",
    "\n",
    "# Mostra o DataFrame\n",
    "df_dominant_topics"
   ]
  },
  {
   "cell_type": "code",
   "execution_count": 22,
   "metadata": {},
   "outputs": [],
   "source": [
    "# Criando stopwords em português utilizando a biblioteca nltk\n",
    "import pt_core_news_sm\n",
    "nlp = pt_core_news_sm.load()\n",
    "pt_stopwords = sorted([token.text for token in nlp.vocab if token.is_stop])\n",
    "list_exclude = ['obrigado', 'bom', 'mal', 'nenhuma', 'maior',\n",
    "             'bem', 'não', 'máximo', 'boa', 'mais',\n",
    "               'bastante', 'certamente', 'certeza', 'contra',\n",
    "                'quarentena', 'coronavírus', 'presidente', 'impeachment', 'demitido', 'demitida']\n",
    "for word in list_exclude:\n",
    "    nlp.vocab[word].is_stop = False\n",
    "list_include = set(['o', 'a', 'tá', 'ta', 'ser', 'pro', 'to', 'tô', 'vc', 'você', 'voce', 'pra',\n",
    "                    'pq', 'é', 'vou', 'que','tão', 'gt', 'de', 'da', 'do', 'em', 'uma', 'lá',\n",
    "                    'já', 'no', 'para', 'na', 'com', 'um', 'minha', 'se', 'isso', 'por', 'vou',\n",
    "                    'os', 'isso', 'como', 'mesmo', 'tenho', 'aqui', 'ele', 'ela', 'quem', 'fazer',\n",
    "                    'eu', 'só', 'ai', 'mais', 'só', 'querer', 'https', 'ter', 'estar', 'ficar',\n",
    "                    'dos', 'das', 'vcs', 'tem', 'as', 'mas','ao'\n",
    "                    'tava', 'nao', 'sao', 'ja', 'so', 'nossa',\n",
    "                    'nosso', 'estao', 'tco', 'me', 'dia', 'te', 'ver', 'sera', 'porra', 'fez', 'ne',\n",
    "                    'kkk','kkkkkk', 'puta', 'kkkkkkkk', 'hj', 'afff', 'gbr', 'meu', 'cara', 'guri', 'cmg',\n",
    "                    'ctg', 'agr', 'pqp', 'vdd', 'eh', 'va', 'obg',\n",
    "                    'corona','virus','coronavirus','covid','covid19','19'\n",
    "                   'nem', 'numa', 'num', 'nuns', 'ces', 'voces', 'oce', 'oces', 'kkkk', 'vao', 'via',\n",
    "                    'hj', 'hoje', 'tudo', 'todo', 'toda',\n",
    "                    'vir', 'bem','ao','sem','ou','vai', 'dizer', 'entao', 'dizer', 'entao',\n",
    "                    'tao', 'tu', 'mim', 'mano', 'oq', 'pos', 'dm', 'dps',\n",
    "                    'coronavirusoutbreak', 'coronavirusPandemic', 'dar', 'vairus',\n",
    "                    'ainda', 'assim']\n",
    "                  )\n",
    "for w in list_include:\n",
    "    nlp.vocab[w].is_stop = True\n",
    "stop_words = sorted([token.text for token in nlp.vocab if token.is_stop])"
   ]
  },
  {
   "cell_type": "code",
   "execution_count": 23,
   "metadata": {},
   "outputs": [
    {
     "data": {
      "image/png": "[encoded data removed]",
      "text/plain": [
       "<Figure size 720x720 with 2 Axes>"
      ]
     },
     "metadata": {
      "needs_background": "light"
     },
     "output_type": "display_data"
    }
   ],
   "source": [
    "# Cria wordclouds\n",
    "\n",
    "cols = [color for name, color in mcolors.XKCD_COLORS.items()]\n",
    "\n",
    "cloud = WordCloud(stopwords=stop_words,\n",
    "                  background_color='white',\n",
    "                  width=2500,\n",
    "                  height=1800,\n",
    "                  max_words=20,\n",
    "                  colormap='tab10',\n",
    "                  color_func=lambda *args, **kwargs: cols[i],\n",
    "                  prefer_horizontal=1.0)\n",
    "\n",
    "topics = lda_model.show_topics(formatted=False)\n",
    "\n",
    "fig, axes = plt.subplots(1, 2, figsize=(10,10), sharex=True, sharey=True)\n",
    "\n",
    "for i, ax in enumerate(axes.flatten()):\n",
    "    fig.add_subplot(ax)\n",
    "    topic_words = dict(topics[i][1])\n",
    "    cloud.generate_from_frequencies(topic_words, max_font_size=600)\n",
    "    plt.gca().imshow(cloud)\n",
    "    plt.gca().set_title('Topic ' + str(i), fontdict=dict(size=16))\n",
    "    plt.gca().axis('off')\n",
    "\n",
    "\n",
    "plt.subplots_adjust(wspace=0, hspace=0)\n",
    "plt.axis('off')\n",
    "plt.margins(x=0, y=0)\n",
    "plt.tight_layout()\n",
    "plt.show()"
   ]
  },
  {
   "cell_type": "code",
   "execution_count": 24,
   "metadata": {},
   "outputs": [],
   "source": [
    "sent_topics_sorteddf_mallet.to_excel('keywords_0403.xlsx')"
   ]
  },
  {
   "cell_type": "code",
   "execution_count": null,
   "metadata": {},
   "outputs": [],
   "source": []
  }
 ],
 "metadata": {
  "kernelspec": {
   "display_name": "Python 3",
   "language": "python",
   "name": "python3"
  },
  "language_info": {
   "codemirror_mode": {
    "name": "ipython",
    "version": 3
   },
   "file_extension": ".py",
   "mimetype": "text/x-python",
   "name": "python",
   "nbconvert_exporter": "python",
   "pygments_lexer": "ipython3",
   "version": "3.7.6"
  }
 },
 "nbformat": 4,
 "nbformat_minor": 1
}
