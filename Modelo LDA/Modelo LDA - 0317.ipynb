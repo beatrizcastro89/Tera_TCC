{
 "cells": [
  {
   "cell_type": "markdown",
   "metadata": {
    "collapsed": true
   },
   "source": [
    "Análise do dia 17/03 através do modelo LDA."
   ]
  },
  {
   "cell_type": "code",
   "execution_count": 1,
   "metadata": {},
   "outputs": [],
   "source": [
    "# Importar bibliotecas\n",
    "\n",
    "# gerais\n",
    "import sys\n",
    "import os\n",
    "from pathlib import Path\n",
    "import re\n",
    "import numpy as np\n",
    "import pandas as pd\n",
    "from pprint import pprint\n",
    "from tqdm import tqdm\n",
    "from ast import literal_eval\n",
    "\n",
    "# Gensim\n",
    "import gensim, spacy, logging, warnings\n",
    "import gensim.corpora as corpora\n",
    "from gensim.utils import lemmatize, simple_preprocess\n",
    "from gensim.models import CoherenceModel\n",
    "from gensim.models.ldamulticore import LdaMulticore\n",
    "\n",
    "# NLTK Stop words\n",
    "import nltk\n",
    "from nltk.corpus import stopwords\n",
    "\n",
    "# sklearn\n",
    "from sklearn.feature_extraction.text import CountVectorizer\n",
    "\n",
    "#plot\n",
    "import pyLDAvis\n",
    "import pyLDAvis.gensim\n",
    "import matplotlib.pyplot as plt\n",
    "import matplotlib.colors as mcolors\n",
    "%matplotlib inline\n",
    "from wordcloud import WordCloud, STOPWORDS"
   ]
  },
  {
   "cell_type": "markdown",
   "metadata": {},
   "source": [
    "# Preparação dos dados"
   ]
  },
  {
   "cell_type": "code",
   "execution_count": 2,
   "metadata": {},
   "outputs": [],
   "source": [
    "# import dos dados\n",
    "\n",
    "df = pd.read_csv('1703_preprocessado.csv')"
   ]
  },
  {
   "cell_type": "code",
   "execution_count": 3,
   "metadata": {},
   "outputs": [],
   "source": [
    "# função para reverter os tokens processados em lista de tuples\n",
    "\n",
    "def strip_characters(text):\n",
    "    t = re.sub(r'\\(|\\)|:|,|;|\\.|’|”|“|\\?|%|>|<|\\[|\\]', '', text)\n",
    "    t = re.sub(r'/', ' ', t)\n",
    "    t = t.replace(\"'\",'')\n",
    "    return t"
   ]
  },
  {
   "cell_type": "code",
   "execution_count": 4,
   "metadata": {},
   "outputs": [],
   "source": [
    "# aplica função em todos os tokens\n",
    "\n",
    "df['token3'] = df['token3'].apply(lambda x: strip_characters(x))\n",
    "df['token3'] = df['token3'].apply(lambda x: str(x).split(' '))"
   ]
  },
  {
   "cell_type": "code",
   "execution_count": 5,
   "metadata": {},
   "outputs": [],
   "source": [
    "texto = list(df.token3)"
   ]
  },
  {
   "cell_type": "markdown",
   "metadata": {},
   "source": [
    "# Modelagem"
   ]
  },
  {
   "cell_type": "code",
   "execution_count": 6,
   "metadata": {},
   "outputs": [],
   "source": [
    "# Criar dicionário\n",
    "\n",
    "id2word = corpora.Dictionary(texto)"
   ]
  },
  {
   "cell_type": "code",
   "execution_count": 7,
   "metadata": {},
   "outputs": [],
   "source": [
    "# Criar o Corpus: A Frequência das palavras nos documentos\n",
    "\n",
    "corpus = [id2word.doc2bow(text) for text in texto]"
   ]
  },
  {
   "cell_type": "code",
   "execution_count": 8,
   "metadata": {},
   "outputs": [],
   "source": [
    "# Função para determinar a melhor quantidade de tópicos para a modelagem\n",
    "\n",
    "def compute_coherence_values(dictionary, corpus, texts, limit, start=2, step=5):\n",
    "    coherence_values = []\n",
    "    model_list = []\n",
    "    for num_topics in tqdm(range(start, limit, step)):\n",
    "        model = LdaMulticore(corpus, id2word=id2word, num_topics=10)\n",
    "        model_list.append(model)\n",
    "        coherencemodel = CoherenceModel(model=model, texts=texts, dictionary=dictionary, coherence='c_v')\n",
    "        coherence_values.append(coherencemodel.get_coherence())\n",
    "\n",
    "    return model_list, coherence_values"
   ]
  },
  {
   "cell_type": "code",
   "execution_count": 9,
   "metadata": {},
   "outputs": [
    {
     "name": "stderr",
     "output_type": "stream",
     "text": [
      "100%|██████████████████████████████████████████████████████████████████████████████████| 14/14 [09:17<00:00, 39.83s/it]\n"
     ]
    }
   ],
   "source": [
    "# Colocando parametros na função\n",
    "\n",
    "model_list, coherence_values = compute_coherence_values(dictionary=id2word, corpus=corpus, texts=texto, start=2, limit=30, step=2)"
   ]
  },
  {
   "cell_type": "code",
   "execution_count": 10,
   "metadata": {},
   "outputs": [
    {
     "data": {
      "image/png": "[encoded data removed]",
      "text/plain": [
       "<Figure size 432x288 with 1 Axes>"
      ]
     },
     "metadata": {
      "needs_background": "light"
     },
     "output_type": "display_data"
    }
   ],
   "source": [
    "# Mostrando visualmente a quantidade de tópicos\n",
    "\n",
    "limit=30; start=2; step=2;\n",
    "x = range(start, limit, step)\n",
    "plt.plot(x, coherence_values)\n",
    "plt.xlabel(\"Num Tópicos\")\n",
    "plt.ylabel(\"Score de Coerência\")\n",
    "plt.legend((\"Valores de Coerência\"), loc='best')\n",
    "plt.show()"
   ]
  },
  {
   "cell_type": "code",
   "execution_count": 11,
   "metadata": {},
   "outputs": [
    {
     "name": "stdout",
     "output_type": "stream",
     "text": [
      "A quantidade de tópicos = 2  tem um valor de coerência de  0.3094\n",
      "A quantidade de tópicos = 4  tem um valor de coerência de  0.312\n",
      "A quantidade de tópicos = 6  tem um valor de coerência de  0.3085\n",
      "A quantidade de tópicos = 8  tem um valor de coerência de  0.3044\n",
      "A quantidade de tópicos = 10  tem um valor de coerência de  0.3128\n",
      "A quantidade de tópicos = 12  tem um valor de coerência de  0.3073\n",
      "A quantidade de tópicos = 14  tem um valor de coerência de  0.3192\n",
      "A quantidade de tópicos = 16  tem um valor de coerência de  0.3216\n",
      "A quantidade de tópicos = 18  tem um valor de coerência de  0.3159\n",
      "A quantidade de tópicos = 20  tem um valor de coerência de  0.3159\n",
      "A quantidade de tópicos = 22  tem um valor de coerência de  0.3166\n",
      "A quantidade de tópicos = 24  tem um valor de coerência de  0.3211\n",
      "A quantidade de tópicos = 26  tem um valor de coerência de  0.3292\n",
      "A quantidade de tópicos = 28  tem um valor de coerência de  0.2828\n"
     ]
    }
   ],
   "source": [
    "# Lista dos valores de coerência, para melhor identificar o ponto de inflexão do gráfico\n",
    "\n",
    "for m, cv in zip(x, coherence_values):\n",
    "    print(\"A quantidade de tópicos =\", m, \" tem um valor de coerência de \", round(cv, 4))"
   ]
  },
  {
   "cell_type": "markdown",
   "metadata": {},
   "source": [
    "Aqui conseguimos determinar a melhor quantidade de tópicos a serem analisados, que é 8 tópicos"
   ]
  },
  {
   "cell_type": "code",
   "execution_count": 12,
   "metadata": {},
   "outputs": [],
   "source": [
    "# Vamos agora construir de fato o modelo LDA\n",
    "\n",
    "lda_model = LdaMulticore(corpus=corpus,\n",
    "                        id2word=id2word,\n",
    "                        num_topics=3, \n",
    "                        random_state=42,\n",
    "                        chunksize=100,\n",
    "                        passes=10,\n",
    "                        per_word_topics=True,\n",
    "                        alpha = 0.9,\n",
    "                        eta = 0.3)"
   ]
  },
  {
   "cell_type": "code",
   "execution_count": 13,
   "metadata": {},
   "outputs": [
    {
     "name": "stdout",
     "output_type": "stream",
     "text": [
      "\n",
      "Perplexidade:  -6.875692094557525\n"
     ]
    }
   ],
   "source": [
    "# Computar a perplexidade do modelo (quanto menor, melhor)\n",
    "\n",
    "print('\\nPerplexidade: ', lda_model.log_perplexity(corpus))"
   ]
  },
  {
   "cell_type": "code",
   "execution_count": 14,
   "metadata": {},
   "outputs": [
    {
     "name": "stdout",
     "output_type": "stream",
     "text": [
      "\n",
      "Score de Coerência:  0.39247694588832743\n"
     ]
    }
   ],
   "source": [
    "# Computar o Score de Coerência\n",
    "\n",
    "coherence_model_lda = CoherenceModel(model=lda_model, texts=texto, dictionary=id2word, coherence='c_v')\n",
    "coherence_lda = coherence_model_lda.get_coherence()\n",
    "print('\\nScore de Coerência: ', coherence_lda)"
   ]
  },
  {
   "cell_type": "code",
   "execution_count": 15,
   "metadata": {},
   "outputs": [
    {
     "data": {
      "text/html": [
       "\n",
       "<link rel=\"stylesheet\" type=\"text/css\" href=\"https://cdn.rawgit.com/bmabey/pyLDAvis/files/ldavis.v1.0.0.css\">\n",
       "\n",
       "\n",
       "<div id=\"ldavis_el409218422689105362388793928\"></div>\n",
       "<script type=\"text/javascript\">\n",
       "\n",
       "var ldavis_el409218422689105362388793928_data = {\"mdsDat\": {\"x\": [-0.2530750157214256, -0.12161916029832201, 0.3746941760197475], \"y\": [0.2838455985532338, -0.35902626212900957, 0.07518066357577581], \"topics\": [1, 2, 3], \"cluster\": [1, 1, 1], \"Freq\": [34.67900466918945, 33.86219024658203, 31.45880126953125]}, \"tinfo\": {\"Term\": [\"presidente\", \"bolsonaro\", \"\", \"casa\", \"brasil\", \"agora\", \"gente\", \"nem\", \"povo\", \"muito\", \"pegar\", \"mundo\", \"contra\", \"quando\", \"deus\", \"falar\", \"nada\", \"medo\", \"sair\", \"governo\", \"ir\", \"saude\", \"sim\", \"merda\", \"mae\", \"tambem\", \"nunca\", \"porque\", \"melhor\", \"caso\", \"bolsonaro\", \"brasil\", \"quando\", \"governo\", \"nunca\", \"porque\", \"impeachment\", \"nada\", \"alguem\", \"pessoa\", \"ninguem\", \"poder\", \"pandemia\", \"histeria\", \"crise\", \"jair\", \"enquanto\", \"saber\", \"morte\", \"situacao\", \"midia\", \"pt\", \"outro\", \"tirar\", \"irresponsavel\", \"lado\", \"dinheiro\", \"fechar\", \"nenhum\", \"apenas\", \"filho\", \"depois\", \"coisa\", \"casa\", \"gente\", \"nem\", \"pegar\", \"mundo\", \"deus\", \"medo\", \"sair\", \"ir\", \"mae\", \"merda\", \"morrer\", \"tava\", \"matar\", \"passar\", \"longe\", \"demais\", \"vida\", \"cu\", \"logo\", \"pai\", \"tomar\", \"alcool\", \"mao\", \"risco\", \"familia\", \"tanto\", \"ano\", \"acabar\", \"amor\", \"agora\", \"presidente\", \"\", \"povo\", \"muito\", \"contra\", \"falar\", \"saude\", \"sim\", \"tambem\", \"melhor\", \"caso\", \"bom\", \"menos\", \"vez\", \"primeiro\", \"ministro\", \"brasileiro\", \"populacao\", \"pois\", \"favor\", \"cada\", \"hora\", \"momento\", \"meio\", \"mal\", \"teste\", \"verdade\", \"eleito\", \"maior\", \"proprio\", \"novo\", \"congresso\", \"tempo\"], \"Freq\": [25325.0, 20989.0, 7161.0, 4839.0, 4633.0, 4815.0, 4499.0, 4450.0, 3613.0, 3360.0, 3372.0, 3033.0, 2669.0, 2698.0, 2525.0, 2304.0, 2420.0, 2320.0, 2275.0, 2281.0, 2218.0, 2034.0, 1901.0, 2023.0, 2015.0, 1703.0, 1744.0, 1689.0, 1531.0, 1499.0, 20988.79296875, 4632.8203125, 2697.788818359375, 2280.907958984375, 1743.625244140625, 1688.5355224609375, 1563.1617431640625, 2419.38818359375, 1502.998291015625, 1414.946044921875, 1391.9764404296875, 1363.8536376953125, 1464.925048828125, 1104.25048828125, 1094.05224609375, 927.2836303710938, 868.0917358398438, 830.5113525390625, 803.7103271484375, 785.6538696289062, 781.9782104492188, 755.400146484375, 777.4890747070312, 743.260009765625, 757.8298950195312, 717.2747802734375, 706.9631958007812, 664.7647094726562, 659.7574462890625, 650.305419921875, 669.0386962890625, 1427.2496337890625, 1666.423583984375, 4838.9931640625, 4498.44287109375, 4449.57958984375, 3372.29345703125, 3033.171630859375, 2524.661865234375, 2320.178466796875, 2275.281982421875, 2218.139892578125, 2014.6817626953125, 2022.9281005859375, 1578.645751953125, 1452.437255859375, 1384.4708251953125, 1340.8729248046875, 1237.4500732421875, 1278.080322265625, 1254.5478515625, 1133.979736328125, 1051.08935546875, 1003.51513671875, 1024.671875, 970.1005249023438, 1029.7279052734375, 1023.5906982421875, 995.4981689453125, 1000.5838623046875, 954.6243896484375, 915.6571655273438, 879.0556030273438, 4757.39892578125, 25325.005859375, 7160.431640625, 3612.46044921875, 3359.484130859375, 2669.245849609375, 2303.758056640625, 2034.0361328125, 1901.09912109375, 1702.7626953125, 1531.163330078125, 1498.820068359375, 1404.0877685546875, 1318.6943359375, 1249.2630615234375, 1191.742431640625, 1142.1602783203125, 1145.4189453125, 1080.868896484375, 1087.505615234375, 981.4234619140625, 971.1832885742188, 977.1132202148438, 948.6072387695312, 921.7728271484375, 896.8707885742188, 887.8299560546875, 847.0867309570312, 819.1282958984375, 844.8931274414062, 790.6112670898438, 817.7033081054688, 829.3280639648438, 844.0790405273438], \"Total\": [25325.0, 20989.0, 7161.0, 4839.0, 4633.0, 4815.0, 4499.0, 4450.0, 3613.0, 3360.0, 3372.0, 3033.0, 2669.0, 2698.0, 2525.0, 2304.0, 2420.0, 2320.0, 2275.0, 2281.0, 2218.0, 2034.0, 1901.0, 2023.0, 2015.0, 1703.0, 1744.0, 1689.0, 1531.0, 1499.0, 20989.421875, 4633.46484375, 2698.448486328125, 2281.54248046875, 1744.27880859375, 1689.189453125, 1563.775390625, 2420.42041015625, 1503.6571044921875, 1415.610107421875, 1392.640869140625, 1364.51220703125, 1465.662109375, 1104.8873291015625, 1094.68408203125, 927.8944091796875, 868.7442626953125, 831.1541137695312, 804.3377075195312, 786.3001708984375, 782.6231079101562, 756.0272827148438, 778.1358642578125, 743.8927612304688, 758.4771728515625, 717.9307861328125, 707.6239013671875, 665.3939819335938, 660.4056396484375, 650.94482421875, 669.7011108398438, 1541.2843017578125, 2051.744873046875, 4839.61083984375, 4499.0859375, 4450.23583984375, 3372.9013671875, 3033.818359375, 2525.3095703125, 2320.790771484375, 2275.911376953125, 2218.767822265625, 2015.2889404296875, 2023.5919189453125, 1579.2685546875, 1453.05224609375, 1385.0985107421875, 1341.4959716796875, 1238.05615234375, 1278.7188720703125, 1255.1937255859375, 1134.6070556640625, 1051.7279052734375, 1004.130615234375, 1025.3099365234375, 970.7113647460938, 1030.376220703125, 1024.2379150390625, 996.1384887695312, 1001.2530517578125, 955.268310546875, 916.2980346679688, 879.6840209960938, 4815.59716796875, 25325.634765625, 7161.02392578125, 3613.085693359375, 3360.127685546875, 2669.876708984375, 2304.40185546875, 2034.66357421875, 1901.7410888671875, 1703.408935546875, 1531.8094482421875, 1499.4561767578125, 1404.7314453125, 1319.331787109375, 1249.9019775390625, 1192.3824462890625, 1142.7757568359375, 1146.0413818359375, 1081.4951171875, 1088.1492919921875, 982.0567016601562, 971.8209838867188, 977.7568969726562, 949.2326049804688, 922.4195556640625, 897.5111694335938, 888.476318359375, 847.7203979492188, 819.7444458007812, 845.5440063476562, 791.2384033203125, 818.35205078125, 929.8131713867188, 1351.98095703125], \"Category\": [\"Default\", \"Default\", \"Default\", \"Default\", \"Default\", \"Default\", \"Default\", \"Default\", \"Default\", \"Default\", \"Default\", \"Default\", \"Default\", \"Default\", \"Default\", \"Default\", \"Default\", \"Default\", \"Default\", \"Default\", \"Default\", \"Default\", \"Default\", \"Default\", \"Default\", \"Default\", \"Default\", \"Default\", \"Default\", \"Default\", \"Topic1\", \"Topic1\", \"Topic1\", \"Topic1\", \"Topic1\", \"Topic1\", \"Topic1\", \"Topic1\", \"Topic1\", \"Topic1\", \"Topic1\", \"Topic1\", \"Topic1\", \"Topic1\", \"Topic1\", \"Topic1\", \"Topic1\", \"Topic1\", \"Topic1\", \"Topic1\", \"Topic1\", \"Topic1\", \"Topic1\", \"Topic1\", \"Topic1\", \"Topic1\", \"Topic1\", \"Topic1\", \"Topic1\", \"Topic1\", \"Topic1\", \"Topic1\", \"Topic1\", \"Topic2\", \"Topic2\", \"Topic2\", \"Topic2\", \"Topic2\", \"Topic2\", \"Topic2\", \"Topic2\", \"Topic2\", \"Topic2\", \"Topic2\", \"Topic2\", \"Topic2\", \"Topic2\", \"Topic2\", \"Topic2\", \"Topic2\", \"Topic2\", \"Topic2\", \"Topic2\", \"Topic2\", \"Topic2\", \"Topic2\", \"Topic2\", \"Topic2\", \"Topic2\", \"Topic2\", \"Topic2\", \"Topic2\", \"Topic2\", \"Topic2\", \"Topic3\", \"Topic3\", \"Topic3\", \"Topic3\", \"Topic3\", \"Topic3\", \"Topic3\", \"Topic3\", \"Topic3\", \"Topic3\", \"Topic3\", \"Topic3\", \"Topic3\", \"Topic3\", \"Topic3\", \"Topic3\", \"Topic3\", \"Topic3\", \"Topic3\", \"Topic3\", \"Topic3\", \"Topic3\", \"Topic3\", \"Topic3\", \"Topic3\", \"Topic3\", \"Topic3\", \"Topic3\", \"Topic3\", \"Topic3\", \"Topic3\", \"Topic3\", \"Topic3\"], \"logprob\": [30.0, 29.0, 28.0, 27.0, 26.0, 25.0, 24.0, 23.0, 22.0, 21.0, 20.0, 19.0, 18.0, 17.0, 16.0, 15.0, 14.0, 13.0, 12.0, 11.0, 10.0, 9.0, 8.0, 7.0, 6.0, 5.0, 4.0, 3.0, 2.0, 1.0, -2.066800117492676, -3.5776000022888184, -4.118299961090088, -4.286200046539307, -4.554800033569336, -4.586900234222412, -4.664000034332275, -4.227200031280518, -4.7032999992370605, -4.763700008392334, -4.78000020980835, -4.8003997802734375, -4.729000091552734, -5.011600017547607, -5.020899772644043, -5.186299800872803, -5.252200126647949, -5.296500205993652, -5.3292999267578125, -5.3520002365112305, -5.3566999435424805, -5.391300201416016, -5.362400054931641, -5.40749979019165, -5.3881001472473145, -5.4430999755859375, -5.457499980926514, -5.519100189208984, -5.526599884033203, -5.541100025177002, -5.512700080871582, -4.755000114440918, -4.600100040435791, -3.510200023651123, -3.583199977874756, -3.594099998474121, -3.871299982070923, -3.977299928665161, -4.160799980163574, -4.245299816131592, -4.264800071716309, -4.290299892425537, -4.386499881744385, -4.382400035858154, -4.63040018081665, -4.713699817657471, -4.761600017547607, -4.793600082397461, -4.873899936676025, -4.841599941253662, -4.860099792480469, -4.96120023727417, -5.037099838256836, -5.083399772644043, -5.062600135803223, -5.117300033569336, -5.057600021362305, -5.063600063323975, -5.091400146484375, -5.086299896240234, -5.133399963378906, -5.175000190734863, -5.215799808502197, -3.5271999835968018, -1.781499981880188, -3.0446999073028564, -3.7288999557495117, -3.801500082015991, -4.031499862670898, -4.178800106048584, -4.303299903869629, -4.3709001541137695, -4.481100082397461, -4.587299823760986, -4.60860013961792, -4.673900127410889, -4.736700057983398, -4.7906999588012695, -4.837900161743164, -4.88040018081665, -4.877500057220459, -4.935500144958496, -4.9293999671936035, -5.032100200653076, -5.042500019073486, -5.036499977111816, -5.066100120544434, -5.094799995422363, -5.122099876403809, -5.132299900054932, -5.179299831390381, -5.212800025939941, -5.18179988861084, -5.248300075531006, -5.214600086212158, -5.200399875640869, -5.182799816131592], \"loglift\": [30.0, 29.0, 28.0, 27.0, 26.0, 25.0, 24.0, 23.0, 22.0, 21.0, 20.0, 19.0, 18.0, 17.0, 16.0, 15.0, 14.0, 13.0, 12.0, 11.0, 10.0, 9.0, 8.0, 7.0, 6.0, 5.0, 4.0, 3.0, 2.0, 1.0, 1.059000015258789, 1.058899998664856, 1.0587999820709229, 1.0587999820709229, 1.0586999654769897, 1.0585999488830566, 1.0585999488830566, 1.0585999488830566, 1.0585999488830566, 1.0585999488830566, 1.0585999488830566, 1.0585999488830566, 1.058500051498413, 1.058500051498413, 1.058500051498413, 1.05840003490448, 1.0583000183105469, 1.0583000183105469, 1.0583000183105469, 1.0582000017166138, 1.0582000017166138, 1.0582000017166138, 1.0582000017166138, 1.0582000017166138, 1.0582000017166138, 1.0580999851226807, 1.0580999851226807, 1.0580999851226807, 1.0580999851226807, 1.0580999851226807, 1.0579999685287476, 0.982200026512146, 0.8510000109672546, 1.0827000141143799, 1.0827000141143799, 1.0827000141143799, 1.0827000141143799, 1.0827000141143799, 1.0825999975204468, 1.0825999975204468, 1.0825999975204468, 1.0825999975204468, 1.0825999975204468, 1.0824999809265137, 1.0824999809265137, 1.0823999643325806, 1.0823999643325806, 1.0823999643325806, 1.0823999643325806, 1.0823999643325806, 1.0823999643325806, 1.0822999477386475, 1.0822999477386475, 1.0822999477386475, 1.082200050354004, 1.082200050354004, 1.082200050354004, 1.082200050354004, 1.082200050354004, 1.082200050354004, 1.082200050354004, 1.082200050354004, 1.082200050354004, 1.0707000494003296, 1.156499981880188, 1.1563999652862549, 1.1562999486923218, 1.1562999486923218, 1.1562999486923218, 1.1562000513076782, 1.1562000513076782, 1.1562000513076782, 1.1561000347137451, 1.1561000347137451, 1.1561000347137451, 1.156000018119812, 1.156000018119812, 1.156000018119812, 1.156000018119812, 1.156000018119812, 1.155900001525879, 1.155900001525879, 1.155900001525879, 1.1557999849319458, 1.1557999849319458, 1.1557999849319458, 1.1557999849319458, 1.1557999849319458, 1.1557999849319458, 1.1557999849319458, 1.1556999683380127, 1.1556999683380127, 1.1556999683380127, 1.1556999683380127, 1.1556999683380127, 1.042099952697754, 0.6854000091552734]}, \"token.table\": {\"Topic\": [3, 2, 2, 3, 2, 1, 2, 2, 1, 1, 3, 1, 3, 3, 2, 3, 1, 2, 1, 3, 3, 1, 2, 2, 1, 2, 2, 1, 3, 1, 3, 2, 3, 1, 1, 2, 1, 1, 3, 1, 2, 1, 1, 1, 2, 2, 2, 3, 3, 2, 2, 2, 3, 3, 3, 2, 1, 3, 3, 2, 1, 3, 2, 1, 2, 2, 1, 1, 3, 1, 1, 2, 1, 2, 2, 1, 1, 3, 3, 1, 3, 3, 3, 3, 1, 1, 2, 1, 2, 3, 3, 1, 3, 2, 2, 2, 3, 3, 1, 2, 3, 3, 2], \"Freq\": [0.9998570084571838, 0.9996747374534607, 0.9878317713737488, 0.01204419694840908, 0.9992671608924866, 0.9995629787445068, 0.9992223978042603, 0.9997191429138184, 0.9985485076904297, 0.9999799132347107, 0.9994792938232422, 0.999899685382843, 0.9990913271903992, 0.9991552233695984, 0.9998737573623657, 0.9996957778930664, 0.811991810798645, 0.18764516711235046, 0.10754849016666412, 0.8915769457817078, 0.9996716380119324, 0.9993751049041748, 0.9994649887084961, 0.9994378089904785, 0.9258512258529663, 0.07396429032087326, 0.999877393245697, 0.9991183280944824, 0.9990918636322021, 0.9991433024406433, 0.9998255968093872, 0.9988570809364319, 0.9989240169525146, 0.9994078874588013, 0.998953104019165, 0.9997586607933044, 0.999762237071991, 0.9991968870162964, 0.9992258548736572, 0.9995041489601135, 0.9996539354324341, 0.9993708729743958, 0.9990360736846924, 0.9987035393714905, 0.9993078708648682, 0.9991469383239746, 0.9998566508293152, 0.9993566274642944, 0.9994304776191711, 0.999634861946106, 0.9992069005966187, 0.9996592402458191, 0.999545156955719, 0.9994715452194214, 0.9997485280036926, 0.9997075200080872, 0.9992038011550903, 0.9993211627006531, 0.9997549653053284, 0.9998299479484558, 0.9995801448822021, 0.9996643662452698, 0.9997302293777466, 0.9994131326675415, 0.000413151370594278, 0.9999470114707947, 0.9993857741355896, 0.9995397925376892, 0.999569833278656, 0.9998401403427124, 0.9985402822494507, 0.9998699426651001, 0.9995482563972473, 0.9996302723884583, 0.9997327327728271, 0.9995689988136292, 0.9996246099472046, 0.999862790107727, 0.9995421767234802, 0.9998878240585327, 0.9996995329856873, 0.9999749064445496, 0.9996792674064636, 0.9996986985206604, 0.9986411929130554, 0.9998338222503662, 0.9997677206993103, 0.9998145699501038, 0.9995995759963989, 0.9996738433837891, 0.9996103048324585, 0.9996182322502136, 0.9997599124908447, 0.9997472763061523, 0.9992758631706238, 0.37574493885040283, 0.6242691278457642, 0.9994639158248901, 0.9987998604774475, 0.9996976852416992, 0.9991502165794373, 0.9992783665657043, 0.9998456835746765], \"Term\": [\"\", \"acabar\", \"agora\", \"agora\", \"alcool\", \"alguem\", \"amor\", \"ano\", \"apenas\", \"bolsonaro\", \"bom\", \"brasil\", \"brasileiro\", \"cada\", \"casa\", \"caso\", \"coisa\", \"coisa\", \"congresso\", \"congresso\", \"contra\", \"crise\", \"cu\", \"demais\", \"depois\", \"depois\", \"deus\", \"dinheiro\", \"eleito\", \"enquanto\", \"falar\", \"familia\", \"favor\", \"fechar\", \"filho\", \"gente\", \"governo\", \"histeria\", \"hora\", \"impeachment\", \"ir\", \"irresponsavel\", \"jair\", \"lado\", \"logo\", \"longe\", \"mae\", \"maior\", \"mal\", \"mao\", \"matar\", \"medo\", \"meio\", \"melhor\", \"menos\", \"merda\", \"midia\", \"ministro\", \"momento\", \"morrer\", \"morte\", \"muito\", \"mundo\", \"nada\", \"nada\", \"nem\", \"nenhum\", \"ninguem\", \"novo\", \"nunca\", \"outro\", \"pai\", \"pandemia\", \"passar\", \"pegar\", \"pessoa\", \"poder\", \"pois\", \"populacao\", \"porque\", \"povo\", \"presidente\", \"primeiro\", \"proprio\", \"pt\", \"quando\", \"risco\", \"saber\", \"sair\", \"saude\", \"sim\", \"situacao\", \"tambem\", \"tanto\", \"tava\", \"tempo\", \"tempo\", \"teste\", \"tirar\", \"tomar\", \"verdade\", \"vez\", \"vida\"]}, \"R\": 30, \"lambda.step\": 0.01, \"plot.opts\": {\"xlab\": \"PC1\", \"ylab\": \"PC2\"}, \"topic.order\": [2, 3, 1]};\n",
       "\n",
       "function LDAvis_load_lib(url, callback){\n",
       "  var s = document.createElement('script');\n",
       "  s.src = url;\n",
       "  s.async = true;\n",
       "  s.onreadystatechange = s.onload = callback;\n",
       "  s.onerror = function(){console.warn(\"failed to load library \" + url);};\n",
       "  document.getElementsByTagName(\"head\")[0].appendChild(s);\n",
       "}\n",
       "\n",
       "if(typeof(LDAvis) !== \"undefined\"){\n",
       "   // already loaded: just create the visualization\n",
       "   !function(LDAvis){\n",
       "       new LDAvis(\"#\" + \"ldavis_el409218422689105362388793928\", ldavis_el409218422689105362388793928_data);\n",
       "   }(LDAvis);\n",
       "}else if(typeof define === \"function\" && define.amd){\n",
       "   // require.js is available: use it to load d3/LDAvis\n",
       "   require.config({paths: {d3: \"https://cdnjs.cloudflare.com/ajax/libs/d3/3.5.5/d3.min\"}});\n",
       "   require([\"d3\"], function(d3){\n",
       "      window.d3 = d3;\n",
       "      LDAvis_load_lib(\"https://cdn.rawgit.com/bmabey/pyLDAvis/files/ldavis.v1.0.0.js\", function(){\n",
       "        new LDAvis(\"#\" + \"ldavis_el409218422689105362388793928\", ldavis_el409218422689105362388793928_data);\n",
       "      });\n",
       "    });\n",
       "}else{\n",
       "    // require.js not available: dynamically load d3 & LDAvis\n",
       "    LDAvis_load_lib(\"https://cdnjs.cloudflare.com/ajax/libs/d3/3.5.5/d3.min.js\", function(){\n",
       "         LDAvis_load_lib(\"https://cdn.rawgit.com/bmabey/pyLDAvis/files/ldavis.v1.0.0.js\", function(){\n",
       "                 new LDAvis(\"#\" + \"ldavis_el409218422689105362388793928\", ldavis_el409218422689105362388793928_data);\n",
       "            })\n",
       "         });\n",
       "}\n",
       "</script>"
      ],
      "text/plain": [
       "PreparedData(topic_coordinates=              x         y  topics  cluster       Freq\n",
       "topic                                                \n",
       "1     -0.253075  0.283846       1        1  34.679005\n",
       "2     -0.121619 -0.359026       2        1  33.862190\n",
       "0      0.374694  0.075181       3        1  31.458801, topic_info=            Term          Freq         Total Category  logprob  loglift\n",
       "12    presidente  25325.000000  25325.000000  Default  30.0000  30.0000\n",
       "40     bolsonaro  20989.000000  20989.000000  Default  29.0000  29.0000\n",
       "4                  7161.000000   7161.000000  Default  28.0000  28.0000\n",
       "23          casa   4839.000000   4839.000000  Default  27.0000  27.0000\n",
       "50        brasil   4633.000000   4633.000000  Default  26.0000  26.0000\n",
       "...          ...           ...           ...      ...      ...      ...\n",
       "409        maior    844.893127    845.544006   Topic3  -5.1818   1.1557\n",
       "1053     proprio    790.611267    791.238403   Topic3  -5.2483   1.1557\n",
       "181         novo    817.703308    818.352051   Topic3  -5.2146   1.1557\n",
       "41     congresso    829.328064    929.813171   Topic3  -5.2004   1.0421\n",
       "53         tempo    844.079041   1351.980957   Topic3  -5.1828   0.6854\n",
       "\n",
       "[127 rows x 6 columns], token_table=      Topic      Freq     Term\n",
       "term                          \n",
       "4         3  0.999857         \n",
       "148       2  0.999675   acabar\n",
       "15        2  0.987832    agora\n",
       "15        3  0.012044    agora\n",
       "140       2  0.999267   alcool\n",
       "...     ...       ...      ...\n",
       "479       1  0.998800    tirar\n",
       "337       2  0.999698    tomar\n",
       "167       3  0.999150  verdade\n",
       "411       3  0.999278      vez\n",
       "67        2  0.999846     vida\n",
       "\n",
       "[103 rows x 3 columns], R=30, lambda_step=0.01, plot_opts={'xlab': 'PC1', 'ylab': 'PC2'}, topic_order=[2, 3, 1])"
      ]
     },
     "execution_count": 15,
     "metadata": {},
     "output_type": "execute_result"
    }
   ],
   "source": [
    "# Visualização dos tópicos em clusters\n",
    "\n",
    "pyLDAvis.enable_notebook()\n",
    "vis = pyLDAvis.gensim.prepare(lda_model, corpus, id2word)\n",
    "vis"
   ]
  },
  {
   "cell_type": "code",
   "execution_count": 16,
   "metadata": {},
   "outputs": [],
   "source": [
    "# Função para determinar a melhor quantidade de tópicos para a modelagem\n",
    "\n",
    "def compute_coherence_values(dictionary, corpus, texts, limit, start=2, step=5):\n",
    "    coherence_values = []\n",
    "    model_list = []\n",
    "    for num_topics in tqdm(range(start, limit, step)):\n",
    "        model = LdaMulticore(corpus, id2word=id2word, num_topics=3)\n",
    "        model_list.append(model)\n",
    "        coherencemodel = CoherenceModel(model=model, texts=texts, dictionary=dictionary, coherence='c_v')\n",
    "        coherence_values.append(coherencemodel.get_coherence())\n",
    "\n",
    "    return model_list, coherence_values"
   ]
  },
  {
   "cell_type": "code",
   "execution_count": 17,
   "metadata": {},
   "outputs": [
    {
     "name": "stderr",
     "output_type": "stream",
     "text": [
      "100%|████████████████████████████████████████████████████████████████████████████████████| 1/1 [00:48<00:00, 48.49s/it]\n"
     ]
    }
   ],
   "source": [
    "# Colocando parametros na função\n",
    "\n",
    "model_list, coherence_values = compute_coherence_values(dictionary=id2word, corpus=corpus, texts=texto, start=2, limit=4, step=2)"
   ]
  },
  {
   "cell_type": "code",
   "execution_count": 18,
   "metadata": {},
   "outputs": [
    {
     "data": {
      "text/plain": [
       "[(0,\n",
       "  '0.115*\"bolsonaro\" + 0.051*\"\" + 0.015*\"agora\" + 0.015*\"presidente\" + 0.009*\"impeachment\" + 0.009*\"gente\" + 0.009*\"merda\" + 0.008*\"brasil\" + 0.007*\"muito\" + 0.007*\"jair\" + 0.007*\"longe\" + 0.006*\"coisa\" + 0.006*\"governo\" + 0.006*\"povo\" + 0.006*\"nunca\" + 0.006*\"passar\" + 0.006*\"risco\" + 0.006*\"quando\" + 0.006*\"parar\" + 0.006*\"mundo\"'),\n",
       " (1,\n",
       "  '0.092*\"presidente\" + 0.020*\"nem\" + 0.015*\"povo\" + 0.013*\"agora\" + 0.013*\"gente\" + 0.011*\"bolsonaro\" + 0.009*\"sim\" + 0.008*\"saude\" + 0.008*\"brasil\" + 0.007*\"nada\" + 0.007*\"ninguem\" + 0.007*\"caso\" + 0.007*\"falar\" + 0.007*\"mundo\" + 0.006*\"porque\" + 0.006*\"matar\" + 0.006*\"menos\" + 0.006*\"brasileiro\" + 0.005*\"alguem\" + 0.005*\"crise\"'),\n",
       " (2,\n",
       "  '0.038*\"presidente\" + 0.028*\"casa\" + 0.022*\"pegar\" + 0.014*\"deus\" + 0.014*\"brasil\" + 0.012*\"bolsonaro\" + 0.012*\"sair\" + 0.011*\"medo\" + 0.010*\"mae\" + 0.010*\"ir\" + 0.009*\"muito\" + 0.008*\"gente\" + 0.008*\"mundo\" + 0.008*\"quando\" + 0.007*\"pai\" + 0.007*\"melhor\" + 0.007*\"tava\" + 0.007*\"contra\" + 0.006*\"depois\" + 0.005*\"caralho\"')]"
      ]
     },
     "execution_count": 18,
     "metadata": {},
     "output_type": "execute_result"
    }
   ],
   "source": [
    "# Escolhe o modelo\n",
    "\n",
    "optimal_model = model_list[0]\n",
    "optimal_model.print_topics(num_topics = 3, num_words = 20)"
   ]
  },
  {
   "cell_type": "code",
   "execution_count": 19,
   "metadata": {},
   "outputs": [],
   "source": [
    "# Encontrar qual o principal tópico em cada tweet\n",
    "\n",
    "def format_topics_sentences(ldamodel=lda_model, corpus=corpus, texts=texto):\n",
    "    # Output\n",
    "    sent_topics_df = pd.DataFrame()\n",
    "\n",
    "    # Seleciona o principal tópico de cada tweet\n",
    "    for i, row in enumerate(ldamodel[corpus]):\n",
    "        row = sorted(row, key=lambda x: (x[1]), reverse=True)\n",
    "        # Calcula o principal tópico, o percentual de contribuição e as palavras chaves de cada tweet\n",
    "        for j, (topic_num, prop_topic) in enumerate(row):\n",
    "            if j == 0:  # => mostra o principal tópico\n",
    "                wp = ldamodel.show_topic(topic_num)\n",
    "                topic_keywords = \", \".join([word for word, prop in wp])\n",
    "                sent_topics_df = sent_topics_df.append(pd.Series([int(topic_num), round(prop_topic,4), topic_keywords]), ignore_index=True)\n",
    "            else:\n",
    "                break\n",
    "    sent_topics_df.columns = ['Principal_Topico', 'Perc_Contributicao', 'Palavras_Chave']\n",
    "\n",
    "    # Inclui o texto original no final do DataFrame\n",
    "    contents = pd.Series(texts)\n",
    "    sent_topics_df = pd.concat([sent_topics_df, contents], axis=1)\n",
    "    return(sent_topics_df)"
   ]
  },
  {
   "cell_type": "code",
   "execution_count": 20,
   "metadata": {},
   "outputs": [],
   "source": [
    "# roda a função de calcular os principais tópicos de cada tweet\n",
    "\n",
    "df_topic_sents_keywords = format_topics_sentences(ldamodel=optimal_model, corpus=corpus, texts=texto)"
   ]
  },
  {
   "cell_type": "code",
   "execution_count": 21,
   "metadata": {},
   "outputs": [],
   "source": [
    "# Formata o DataFrame\n",
    "\n",
    "df_dominant_topic = df_topic_sents_keywords.reset_index()\n",
    "df_dominant_topic.columns = ['Index_DF_Original', 'Principal_Topico', 'Perc_Contrib_Topico', 'Palavras_Chave', 'Tweets']"
   ]
  },
  {
   "cell_type": "code",
   "execution_count": 22,
   "metadata": {
    "scrolled": true
   },
   "outputs": [
    {
     "data": {
      "text/html": [
       "<div>\n",
       "<style scoped>\n",
       "    .dataframe tbody tr th:only-of-type {\n",
       "        vertical-align: middle;\n",
       "    }\n",
       "\n",
       "    .dataframe tbody tr th {\n",
       "        vertical-align: top;\n",
       "    }\n",
       "\n",
       "    .dataframe thead th {\n",
       "        text-align: right;\n",
       "    }\n",
       "</style>\n",
       "<table border=\"1\" class=\"dataframe\">\n",
       "  <thead>\n",
       "    <tr style=\"text-align: right;\">\n",
       "      <th></th>\n",
       "      <th>Topico</th>\n",
       "      <th>Topico_Perc_Contrib</th>\n",
       "      <th>Palavras_Chave</th>\n",
       "      <th>Tweet</th>\n",
       "    </tr>\n",
       "  </thead>\n",
       "  <tbody>\n",
       "    <tr>\n",
       "      <th>0</th>\n",
       "      <td>0.0</td>\n",
       "      <td>0.9508</td>\n",
       "      <td>bolsonaro, , agora, presidente, impeachment, g...</td>\n",
       "      <td>[verdadeiro, fechar, coronel, apenas, agir, po...</td>\n",
       "    </tr>\n",
       "    <tr>\n",
       "      <th>1</th>\n",
       "      <td>1.0</td>\n",
       "      <td>0.9599</td>\n",
       "      <td>presidente, nem, povo, agora, gente, bolsonaro...</td>\n",
       "      <td>[executivo, legislativo, sr, desafio, sim, ter...</td>\n",
       "    </tr>\n",
       "    <tr>\n",
       "      <th>2</th>\n",
       "      <td>2.0</td>\n",
       "      <td>0.9652</td>\n",
       "      <td>presidente, casa, pegar, deus, brasil, bolsona...</td>\n",
       "      <td>[daddy, volta, daniel, sugar, memes, girl, fan...</td>\n",
       "    </tr>\n",
       "  </tbody>\n",
       "</table>\n",
       "</div>"
      ],
      "text/plain": [
       "   Topico  Topico_Perc_Contrib  \\\n",
       "0     0.0               0.9508   \n",
       "1     1.0               0.9599   \n",
       "2     2.0               0.9652   \n",
       "\n",
       "                                      Palavras_Chave  \\\n",
       "0  bolsonaro, , agora, presidente, impeachment, g...   \n",
       "1  presidente, nem, povo, agora, gente, bolsonaro...   \n",
       "2  presidente, casa, pegar, deus, brasil, bolsona...   \n",
       "\n",
       "                                               Tweet  \n",
       "0  [verdadeiro, fechar, coronel, apenas, agir, po...  \n",
       "1  [executivo, legislativo, sr, desafio, sim, ter...  \n",
       "2  [daddy, volta, daniel, sugar, memes, girl, fan...  "
      ]
     },
     "execution_count": 22,
     "metadata": {},
     "output_type": "execute_result"
    }
   ],
   "source": [
    "# Group top 5 sentences under each topic\n",
    "sent_topics_sorteddf_mallet = pd.DataFrame()\n",
    "\n",
    "sent_topics_outdf_grpd = df_topic_sents_keywords.groupby('Principal_Topico')\n",
    "\n",
    "for i, grp in sent_topics_outdf_grpd:\n",
    "    sent_topics_sorteddf_mallet = pd.concat([sent_topics_sorteddf_mallet, \n",
    "                                             grp.sort_values(['Perc_Contributicao'], ascending=[0]).head(1)], \n",
    "                                            axis=0)\n",
    "\n",
    "# Reset Index    \n",
    "sent_topics_sorteddf_mallet.reset_index(drop=True, inplace=True)\n",
    "\n",
    "# Format\n",
    "sent_topics_sorteddf_mallet.columns = ['Topico', \"Topico_Perc_Contrib\", \"Palavras_Chave\", \"Tweet\"]\n",
    "\n",
    "# Show\n",
    "sent_topics_sorteddf_mallet"
   ]
  },
  {
   "cell_type": "code",
   "execution_count": 23,
   "metadata": {},
   "outputs": [
    {
     "data": {
      "text/html": [
       "<div>\n",
       "<style scoped>\n",
       "    .dataframe tbody tr th:only-of-type {\n",
       "        vertical-align: middle;\n",
       "    }\n",
       "\n",
       "    .dataframe tbody tr th {\n",
       "        vertical-align: top;\n",
       "    }\n",
       "\n",
       "    .dataframe thead th {\n",
       "        text-align: right;\n",
       "    }\n",
       "</style>\n",
       "<table border=\"1\" class=\"dataframe\">\n",
       "  <thead>\n",
       "    <tr style=\"text-align: right;\">\n",
       "      <th></th>\n",
       "      <th>Principal_Topico</th>\n",
       "      <th>Palavras_Chave</th>\n",
       "      <th>Qtd_Tweets</th>\n",
       "      <th>Perc_Tweets</th>\n",
       "    </tr>\n",
       "  </thead>\n",
       "  <tbody>\n",
       "    <tr>\n",
       "      <th>0.0</th>\n",
       "      <td>1.0</td>\n",
       "      <td>presidente, nem, povo, agora, gente, bolsonaro...</td>\n",
       "      <td>36710.0</td>\n",
       "      <td>0.3236</td>\n",
       "    </tr>\n",
       "    <tr>\n",
       "      <th>1.0</th>\n",
       "      <td>0.0</td>\n",
       "      <td>bolsonaro, , agora, presidente, impeachment, g...</td>\n",
       "      <td>39648.0</td>\n",
       "      <td>0.3495</td>\n",
       "    </tr>\n",
       "    <tr>\n",
       "      <th>2.0</th>\n",
       "      <td>1.0</td>\n",
       "      <td>presidente, nem, povo, agora, gente, bolsonaro...</td>\n",
       "      <td>37079.0</td>\n",
       "      <td>0.3269</td>\n",
       "    </tr>\n",
       "    <tr>\n",
       "      <th>3.0</th>\n",
       "      <td>0.0</td>\n",
       "      <td>bolsonaro, , agora, presidente, impeachment, g...</td>\n",
       "      <td>NaN</td>\n",
       "      <td>NaN</td>\n",
       "    </tr>\n",
       "    <tr>\n",
       "      <th>4.0</th>\n",
       "      <td>0.0</td>\n",
       "      <td>bolsonaro, , agora, presidente, impeachment, g...</td>\n",
       "      <td>NaN</td>\n",
       "      <td>NaN</td>\n",
       "    </tr>\n",
       "    <tr>\n",
       "      <th>...</th>\n",
       "      <td>...</td>\n",
       "      <td>...</td>\n",
       "      <td>...</td>\n",
       "      <td>...</td>\n",
       "    </tr>\n",
       "    <tr>\n",
       "      <th>113432.0</th>\n",
       "      <td>2.0</td>\n",
       "      <td>presidente, casa, pegar, deus, brasil, bolsona...</td>\n",
       "      <td>NaN</td>\n",
       "      <td>NaN</td>\n",
       "    </tr>\n",
       "    <tr>\n",
       "      <th>113433.0</th>\n",
       "      <td>0.0</td>\n",
       "      <td>bolsonaro, , agora, presidente, impeachment, g...</td>\n",
       "      <td>NaN</td>\n",
       "      <td>NaN</td>\n",
       "    </tr>\n",
       "    <tr>\n",
       "      <th>113434.0</th>\n",
       "      <td>2.0</td>\n",
       "      <td>presidente, casa, pegar, deus, brasil, bolsona...</td>\n",
       "      <td>NaN</td>\n",
       "      <td>NaN</td>\n",
       "    </tr>\n",
       "    <tr>\n",
       "      <th>113435.0</th>\n",
       "      <td>0.0</td>\n",
       "      <td>bolsonaro, , agora, presidente, impeachment, g...</td>\n",
       "      <td>NaN</td>\n",
       "      <td>NaN</td>\n",
       "    </tr>\n",
       "    <tr>\n",
       "      <th>113436.0</th>\n",
       "      <td>1.0</td>\n",
       "      <td>presidente, nem, povo, agora, gente, bolsonaro...</td>\n",
       "      <td>NaN</td>\n",
       "      <td>NaN</td>\n",
       "    </tr>\n",
       "  </tbody>\n",
       "</table>\n",
       "<p>113437 rows × 4 columns</p>\n",
       "</div>"
      ],
      "text/plain": [
       "          Principal_Topico                                     Palavras_Chave  \\\n",
       "0.0                    1.0  presidente, nem, povo, agora, gente, bolsonaro...   \n",
       "1.0                    0.0  bolsonaro, , agora, presidente, impeachment, g...   \n",
       "2.0                    1.0  presidente, nem, povo, agora, gente, bolsonaro...   \n",
       "3.0                    0.0  bolsonaro, , agora, presidente, impeachment, g...   \n",
       "4.0                    0.0  bolsonaro, , agora, presidente, impeachment, g...   \n",
       "...                    ...                                                ...   \n",
       "113432.0               2.0  presidente, casa, pegar, deus, brasil, bolsona...   \n",
       "113433.0               0.0  bolsonaro, , agora, presidente, impeachment, g...   \n",
       "113434.0               2.0  presidente, casa, pegar, deus, brasil, bolsona...   \n",
       "113435.0               0.0  bolsonaro, , agora, presidente, impeachment, g...   \n",
       "113436.0               1.0  presidente, nem, povo, agora, gente, bolsonaro...   \n",
       "\n",
       "          Qtd_Tweets  Perc_Tweets  \n",
       "0.0          36710.0       0.3236  \n",
       "1.0          39648.0       0.3495  \n",
       "2.0          37079.0       0.3269  \n",
       "3.0              NaN          NaN  \n",
       "4.0              NaN          NaN  \n",
       "...              ...          ...  \n",
       "113432.0         NaN          NaN  \n",
       "113433.0         NaN          NaN  \n",
       "113434.0         NaN          NaN  \n",
       "113435.0         NaN          NaN  \n",
       "113436.0         NaN          NaN  \n",
       "\n",
       "[113437 rows x 4 columns]"
      ]
     },
     "execution_count": 23,
     "metadata": {},
     "output_type": "execute_result"
    }
   ],
   "source": [
    "# Numero de tweets por topico\n",
    "\n",
    "topic_counts = df_topic_sents_keywords['Principal_Topico'].value_counts()\n",
    "\n",
    "# Porcentagem de tweets por tópico\n",
    "topic_contribution = round(topic_counts/topic_counts.sum(), 4)\n",
    "\n",
    "# Número do tópico e suas palavras chave\n",
    "topic_num_keywords = df_topic_sents_keywords[['Principal_Topico', 'Palavras_Chave']]\n",
    "\n",
    "# Concatena as colunas\n",
    "df_dominant_topics = pd.concat([topic_num_keywords, topic_counts, topic_contribution], axis=1)\n",
    "\n",
    "# Renomeia as colunas\n",
    "df_dominant_topics.columns = ['Principal_Topico', 'Palavras_Chave', 'Qtd_Tweets', 'Perc_Tweets']\n",
    "\n",
    "# Mostra o DataFrame\n",
    "df_dominant_topics"
   ]
  },
  {
   "cell_type": "code",
   "execution_count": 24,
   "metadata": {},
   "outputs": [],
   "source": [
    "# Criando stopwords em português utilizando a biblioteca nltk\n",
    "import pt_core_news_sm\n",
    "nlp = pt_core_news_sm.load()\n",
    "pt_stopwords = sorted([token.text for token in nlp.vocab if token.is_stop])\n",
    "list_exclude = ['obrigado', 'bom', 'mal', 'nenhuma', 'maior',\n",
    "             'bem', 'não', 'máximo', 'boa', 'mais',\n",
    "               'bastante', 'certamente', 'certeza', 'contra',\n",
    "                'quarentena', 'coronavírus', 'presidente', 'impeachment', 'demitido', 'demitida']\n",
    "for word in list_exclude:\n",
    "    nlp.vocab[word].is_stop = False\n",
    "list_include = set(['o', 'a', 'tá', 'ta', 'ser', 'pro', 'to', 'tô', 'vc', 'você', 'voce', 'pra',\n",
    "                    'pq', 'é', 'vou', 'que','tão', 'gt', 'de', 'da', 'do', 'em', 'uma', 'lá',\n",
    "                    'já', 'no', 'para', 'na', 'com', 'um', 'minha', 'se', 'isso', 'por', 'vou',\n",
    "                    'os', 'isso', 'como', 'mesmo', 'tenho', 'aqui', 'ele', 'ela', 'quem', 'fazer',\n",
    "                    'eu', 'só', 'ai', 'mais', 'só', 'querer', 'https', 'ter', 'estar', 'ficar',\n",
    "                    'dos', 'das', 'vcs', 'tem', 'as', 'mas','ao'\n",
    "                    'tava', 'nao', 'sao', 'ja', 'so', 'nossa',\n",
    "                    'nosso', 'estao', 'tco', 'me', 'dia', 'te', 'ver', 'sera', 'porra', 'fez', 'ne',\n",
    "                    'kkk','kkkkkk', 'puta', 'kkkkkkkk', 'hj', 'afff', 'gbr', 'meu', 'cara', 'guri', 'cmg',\n",
    "                    'ctg', 'agr', 'pqp', 'vdd', 'eh', 'va', 'obg',\n",
    "                    'corona','virus','coronavirus','covid','covid19','19'\n",
    "                   'nem', 'numa', 'num', 'nuns', 'ces', 'voces', 'oce', 'oces', 'kkkk', 'vao', 'via',\n",
    "                    'hj', 'hoje', 'tudo', 'todo', 'toda',\n",
    "                    'vir', 'bem','ao','sem','ou','vai', 'dizer', 'entao', 'dizer', 'entao',\n",
    "                    'tao', 'tu', 'mim', 'mano', 'oq', 'pos', 'dm', 'dps',\n",
    "                    'coronavirusoutbreak', 'coronavirusPandemic', 'dar', 'vairus',\n",
    "                    'ainda', 'assim']\n",
    "                  )\n",
    "for w in list_include:\n",
    "    nlp.vocab[w].is_stop = True\n",
    "stop_words = sorted([token.text for token in nlp.vocab if token.is_stop])"
   ]
  },
  {
   "cell_type": "code",
   "execution_count": 25,
   "metadata": {},
   "outputs": [
    {
     "data": {
      "image/png": "[encoded data removed]",
      "text/plain": [
       "<Figure size 720x720 with 3 Axes>"
      ]
     },
     "metadata": {
      "needs_background": "light"
     },
     "output_type": "display_data"
    }
   ],
   "source": [
    "# Cria wordclouds\n",
    "\n",
    "cols = [color for name, color in mcolors.XKCD_COLORS.items()]\n",
    "\n",
    "cloud = WordCloud(stopwords=stop_words,\n",
    "                  background_color='white',\n",
    "                  width=2500,\n",
    "                  height=1800,\n",
    "                  max_words=20,\n",
    "                  colormap='tab10',\n",
    "                  color_func=lambda *args, **kwargs: cols[i],\n",
    "                  prefer_horizontal=1.0)\n",
    "\n",
    "topics = lda_model.show_topics(formatted=False)\n",
    "\n",
    "fig, axes = plt.subplots(1, 3, figsize=(10,10), sharex=True, sharey=True)\n",
    "\n",
    "for i, ax in enumerate(axes.flatten()):\n",
    "    fig.add_subplot(ax)\n",
    "    topic_words = dict(topics[i][1])\n",
    "    cloud.generate_from_frequencies(topic_words, max_font_size=600)\n",
    "    plt.gca().imshow(cloud)\n",
    "    plt.gca().set_title('Topic ' + str(i), fontdict=dict(size=16))\n",
    "    plt.gca().axis('off')\n",
    "\n",
    "\n",
    "plt.subplots_adjust(wspace=0, hspace=0)\n",
    "plt.axis('off')\n",
    "plt.margins(x=0, y=0)\n",
    "plt.tight_layout()\n",
    "plt.show()"
   ]
  },
  {
   "cell_type": "code",
   "execution_count": 26,
   "metadata": {},
   "outputs": [],
   "source": [
    "sent_topics_sorteddf_mallet.to_excel('keywords_0317.xlsx')"
   ]
  },
  {
   "cell_type": "code",
   "execution_count": null,
   "metadata": {},
   "outputs": [],
   "source": []
  }
 ],
 "metadata": {
  "kernelspec": {
   "display_name": "Python 3",
   "language": "python",
   "name": "python3"
  },
  "language_info": {
   "codemirror_mode": {
    "name": "ipython",
    "version": 3
   },
   "file_extension": ".py",
   "mimetype": "text/x-python",
   "name": "python",
   "nbconvert_exporter": "python",
   "pygments_lexer": "ipython3",
   "version": "3.7.6"
  }
 },
 "nbformat": 4,
 "nbformat_minor": 1
}
