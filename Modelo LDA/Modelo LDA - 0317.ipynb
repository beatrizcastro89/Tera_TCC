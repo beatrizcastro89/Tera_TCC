{
 "cells": [
  {
   "cell_type": "markdown",
   "metadata": {
    "collapsed": true
   },
   "source": [
    "Análise do dia 17/03 através do modelo LDA."
   ]
  },
  {
   "cell_type": "code",
   "execution_count": 1,
   "metadata": {},
   "outputs": [],
   "source": [
    "# Importar bibliotecas\n",
    "\n",
    "# gerais\n",
    "import sys\n",
    "import os\n",
    "from pathlib import Path\n",
    "import re\n",
    "import numpy as np\n",
    "import pandas as pd\n",
    "from pprint import pprint\n",
    "from tqdm import tqdm\n",
    "from ast import literal_eval\n",
    "\n",
    "# Gensim\n",
    "import gensim, spacy, logging, warnings\n",
    "import gensim.corpora as corpora\n",
    "from gensim.utils import lemmatize, simple_preprocess\n",
    "from gensim.models import CoherenceModel\n",
    "from gensim.models.ldamulticore import LdaMulticore\n",
    "\n",
    "# NLTK Stop words\n",
    "import nltk\n",
    "from nltk.corpus import stopwords\n",
    "\n",
    "#plot\n",
    "import pyLDAvis\n",
    "import pyLDAvis.gensim\n",
    "import matplotlib.pyplot as plt\n",
    "import matplotlib.colors as mcolors\n",
    "%matplotlib inline\n",
    "from wordcloud import WordCloud, STOPWORDS"
   ]
  },
  {
   "cell_type": "code",
   "execution_count": 2,
   "metadata": {},
   "outputs": [],
   "source": [
    "# Criando stopwords em português utilizando a biblioteca nltk\n",
    "\n",
    "nlp = spacy.load(\"pt_core_news_sm\")\n",
    "pt_stopwords = sorted([token.text for token in nlp.vocab if token.is_stop])\n",
    "list_exclude = ['obrigado', 'bom', 'mal', 'nenhuma', 'maior', \n",
    "             'bem', 'não', 'máximo', 'boa', 'mais',\n",
    "               'bastante', 'certamente', 'certeza', 'contra',\n",
    "                'quarentena', 'coronavírus', 'presidente', 'impeachment', 'demitido', 'demitida']\n",
    "for word in list_exclude:\n",
    "    nlp.vocab[word].is_stop = False\n",
    "list_include = set(['o', 'a', 'tá', 'ta', 'ser', 'pro', 'to', 'tô', 'vc', 'você', 'voce', 'pra',\n",
    "                    'pq', 'é', 'vou', 'que','tão', 'gt', 'de', 'da', 'do', 'em', 'uma', 'lá',\n",
    "                    'já', 'no', 'para', 'na', 'com', 'um', 'minha', 'se', 'isso', 'por', 'vou',\n",
    "                    'os', 'isso', 'como', 'mesmo', 'tenho', 'aqui', 'ele', 'ela', 'quem', 'fazer',\n",
    "                    'eu', 'só', 'ai', 'mais', 'só', 'querer', 'https', 'ter', 'estar', 'ficar',\n",
    "                    'dos', 'das', 'vcs', 'jairbolsonaro', 'tava', 'nao', 'sao', 'ja', 'so', 'nossa',\n",
    "                    'nosso', 'estao', 'tco', 'me', 'dia', 'te', 'ver', 'sera', 'porra', 'fez', 'ne',\n",
    "                    'kkkkkk', 'puta', 'kkkkkkkk', 'hj', 'afff', 'gbr', 'meu', 'cara', 'guri', 'cmg',\n",
    "                    'ctg', 'agr', 'pqp', 'vdd', 'eh', 'va', 'fudeu', 'fuder', 'fodeu', 'foda', 'obg',\n",
    "                   'nem', 'numa', 'num', 'nuns', 'ces', 'voces', 'oce', 'oces', 'kkkk', 'vao', 'via',\n",
    "                    'hj', 'hoje', 'tudo', 'todo', 'toda', 'ir', 'vir', 'bem', 'sair', 'tao']\n",
    "                  )\n",
    "for w in list_include:\n",
    "    nlp.vocab[w].is_stop = True\n",
    "stop_words = sorted([token.text for token in nlp.vocab if token.is_stop])"
   ]
  },
  {
   "cell_type": "markdown",
   "metadata": {},
   "source": [
    "# Preparação dos dados"
   ]
  },
  {
   "cell_type": "code",
   "execution_count": 3,
   "metadata": {},
   "outputs": [],
   "source": [
    "# import dos dados\n",
    "\n",
    "df = pd.read_csv('0317_preprocessado.csv')"
   ]
  },
  {
   "cell_type": "code",
   "execution_count": 4,
   "metadata": {},
   "outputs": [],
   "source": [
    "# import dos tokens\n",
    "\n",
    "df_tokens = pd.read_csv('tokens_unicos_10k.csv')"
   ]
  },
  {
   "cell_type": "code",
   "execution_count": 5,
   "metadata": {},
   "outputs": [],
   "source": [
    "# criação de lista de tokens\n",
    "\n",
    "lista_token = []\n",
    "\n",
    "for row in range(0, len(df_tokens)):\n",
    "    lista_token.append(df_tokens.iloc[row,1])\n",
    "    \n",
    "lista_token = set(lista_token)"
   ]
  },
  {
   "cell_type": "code",
   "execution_count": 6,
   "metadata": {},
   "outputs": [],
   "source": [
    "# filtranso os tokens para aparecer apenas os 10 mil mais frequentes\n",
    "\n",
    "df['token2'] = df.token.apply(lambda x: str(list(set(literal_eval(x)).intersection(lista_token))))"
   ]
  },
  {
   "cell_type": "code",
   "execution_count": 7,
   "metadata": {},
   "outputs": [],
   "source": [
    "# função para reverter os tokens processados em lista de tuples\n",
    "\n",
    "def strip_characters(text):\n",
    "    t = re.sub(r'\\(|\\)|:|,|;|\\.|’|”|“|\\?|%|>|<|\\[|\\]', '', text)\n",
    "    t = re.sub(r'/', ' ', t)\n",
    "    t = t.replace(\"'\",'')\n",
    "    return t"
   ]
  },
  {
   "cell_type": "code",
   "execution_count": 8,
   "metadata": {},
   "outputs": [],
   "source": [
    "# aplica função em todos os tokens\n",
    "\n",
    "df['token2'] = df['token2'].apply(lambda x: strip_characters(x))\n",
    "df['token2'] = df['token2'].apply(lambda x: str(x).split(' '))"
   ]
  },
  {
   "cell_type": "code",
   "execution_count": 9,
   "metadata": {},
   "outputs": [],
   "source": [
    "# transforma os tokens em lista\n",
    "\n",
    "lista = list(df['token2'])"
   ]
  },
  {
   "cell_type": "code",
   "execution_count": 10,
   "metadata": {},
   "outputs": [],
   "source": [
    "# Build the bigram and trigram models\n",
    "\n",
    "bigram = gensim.models.Phrases(lista, min_count=5, threshold=100)\n",
    "bigram_mod = gensim.models.phrases.Phraser(bigram)\n",
    "\n",
    "trigram = gensim.models.Phrases(bigram[lista], threshold=100)\n",
    "trigram_mod = gensim.models.phrases.Phraser(trigram)"
   ]
  },
  {
   "cell_type": "code",
   "execution_count": 11,
   "metadata": {},
   "outputs": [],
   "source": [
    "# função para preprocessar palavras\n",
    "\n",
    "def process_words(texts, stop_words=stop_words, allowed_postags=['NOUN', 'ADJ', 'VERB', 'ADV']):\n",
    "    texts1 = [[word for word in simple_preprocess(str(doc)) if word not in stop_words] for doc in texts]\n",
    "    texts2 = [bigram_mod[doc] for doc in texts1]\n",
    "    texts3 = [trigram_mod[bigram_mod[doc]] for doc in texts2]\n",
    "    texts4 = [[word for word in simple_preprocess(str(doc)) if word not in stop_words] for doc in texts3]    \n",
    "    return texts4"
   ]
  },
  {
   "cell_type": "code",
   "execution_count": 12,
   "metadata": {},
   "outputs": [],
   "source": [
    "# Processing the abstract\n",
    "\n",
    "texto = process_words(lista)"
   ]
  },
  {
   "cell_type": "markdown",
   "metadata": {},
   "source": [
    "# Modelagem"
   ]
  },
  {
   "cell_type": "code",
   "execution_count": 13,
   "metadata": {},
   "outputs": [],
   "source": [
    "# Criar dicionário\n",
    "\n",
    "id2word = corpora.Dictionary(texto)"
   ]
  },
  {
   "cell_type": "code",
   "execution_count": 14,
   "metadata": {},
   "outputs": [],
   "source": [
    "# Criar o Corpus: A Frequência das palavras nos documentos\n",
    "\n",
    "corpus = [id2word.doc2bow(text) for text in texto]"
   ]
  },
  {
   "cell_type": "code",
   "execution_count": 15,
   "metadata": {},
   "outputs": [],
   "source": [
    "# Função para determinar a melhor quantidade de tópicos para a modelagem\n",
    "\n",
    "def compute_coherence_values(dictionary, corpus, texts, limit, start=2, step=5):\n",
    "    coherence_values = []\n",
    "    model_list = []\n",
    "    for num_topics in tqdm(range(start, limit, step)):\n",
    "        model = LdaMulticore(corpus, id2word=id2word, num_topics=10)\n",
    "        model_list.append(model)\n",
    "        coherencemodel = CoherenceModel(model=model, texts=texts, dictionary=dictionary, coherence='c_v')\n",
    "        coherence_values.append(coherencemodel.get_coherence())\n",
    "\n",
    "    return model_list, coherence_values"
   ]
  },
  {
   "cell_type": "code",
   "execution_count": 16,
   "metadata": {},
   "outputs": [
    {
     "name": "stderr",
     "output_type": "stream",
     "text": [
      "100%|██████████████████████████████████████████████████████████████████████████████████| 14/14 [09:54<00:00, 42.50s/it]\n"
     ]
    }
   ],
   "source": [
    "# Colocando parametros na função\n",
    "\n",
    "model_list, coherence_values = compute_coherence_values(dictionary=id2word, corpus=corpus, texts=texto, start=2, limit=30, step=2)"
   ]
  },
  {
   "cell_type": "code",
   "execution_count": 17,
   "metadata": {},
   "outputs": [
    {
     "data": {
      "image/png": "[encoded data removed]",
      "text/plain": [
       "<Figure size 432x288 with 1 Axes>"
      ]
     },
     "metadata": {
      "needs_background": "light"
     },
     "output_type": "display_data"
    }
   ],
   "source": [
    "# Mostrando visualmente a quantidade de tópicos\n",
    "\n",
    "limit=30; start=2; step=2;\n",
    "x = range(start, limit, step)\n",
    "plt.plot(x, coherence_values)\n",
    "plt.xlabel(\"Num Tópicos\")\n",
    "plt.ylabel(\"Score de Coerência\")\n",
    "plt.legend((\"Valores de Coerência\"), loc='best')\n",
    "plt.show()"
   ]
  },
  {
   "cell_type": "code",
   "execution_count": 18,
   "metadata": {},
   "outputs": [
    {
     "name": "stdout",
     "output_type": "stream",
     "text": [
      "A quantidade de tópicos = 2  tem um valor de coerência de  0.381\n",
      "A quantidade de tópicos = 4  tem um valor de coerência de  0.373\n",
      "A quantidade de tópicos = 6  tem um valor de coerência de  0.3627\n",
      "A quantidade de tópicos = 8  tem um valor de coerência de  0.3525\n",
      "A quantidade de tópicos = 10  tem um valor de coerência de  0.3559\n",
      "A quantidade de tópicos = 12  tem um valor de coerência de  0.3506\n",
      "A quantidade de tópicos = 14  tem um valor de coerência de  0.3492\n",
      "A quantidade de tópicos = 16  tem um valor de coerência de  0.3397\n",
      "A quantidade de tópicos = 18  tem um valor de coerência de  0.3706\n",
      "A quantidade de tópicos = 20  tem um valor de coerência de  0.3318\n",
      "A quantidade de tópicos = 22  tem um valor de coerência de  0.3775\n",
      "A quantidade de tópicos = 24  tem um valor de coerência de  0.3599\n",
      "A quantidade de tópicos = 26  tem um valor de coerência de  0.3499\n",
      "A quantidade de tópicos = 28  tem um valor de coerência de  0.3717\n"
     ]
    }
   ],
   "source": [
    "# Lista dos valores de coerência, para melhor identificar o ponto de inflexão do gráfico\n",
    "\n",
    "for m, cv in zip(x, coherence_values):\n",
    "    print(\"A quantidade de tópicos =\", m, \" tem um valor de coerência de \", round(cv, 4))"
   ]
  },
  {
   "cell_type": "markdown",
   "metadata": {},
   "source": [
    "Aqui conseguimos determinar a melhor quantidade de tópicos a serem analisados, que é 8 tópicos"
   ]
  },
  {
   "cell_type": "code",
   "execution_count": 19,
   "metadata": {},
   "outputs": [],
   "source": [
    "# Vamos agora construir de fato o modelo LDA\n",
    "\n",
    "lda_model = LdaMulticore(corpus=corpus,\n",
    "                        id2word=id2word,\n",
    "                        num_topics=4, \n",
    "                        random_state=42,\n",
    "                        chunksize=100,\n",
    "                        passes=10,\n",
    "                        per_word_topics=True)"
   ]
  },
  {
   "cell_type": "code",
   "execution_count": 20,
   "metadata": {},
   "outputs": [
    {
     "name": "stdout",
     "output_type": "stream",
     "text": [
      "\n",
      "Perplexidade:  -6.398423192166341\n"
     ]
    }
   ],
   "source": [
    "# Computar a perplexidade do modelo (quanto menor, melhor)\n",
    "\n",
    "print('\\nPerplexidade: ', lda_model.log_perplexity(corpus))"
   ]
  },
  {
   "cell_type": "code",
   "execution_count": 21,
   "metadata": {},
   "outputs": [
    {
     "name": "stdout",
     "output_type": "stream",
     "text": [
      "\n",
      "Score de Coerência:  0.36053598343460747\n"
     ]
    }
   ],
   "source": [
    "# Computar o Score de Coerência\n",
    "\n",
    "coherence_model_lda = CoherenceModel(model=lda_model, texts=lista, dictionary=id2word, coherence='c_v')\n",
    "coherence_lda = coherence_model_lda.get_coherence()\n",
    "print('\\nScore de Coerência: ', coherence_lda)"
   ]
  },
  {
   "cell_type": "code",
   "execution_count": 22,
   "metadata": {},
   "outputs": [
    {
     "data": {
      "text/html": [
       "\n",
       "<link rel=\"stylesheet\" type=\"text/css\" href=\"https://cdn.rawgit.com/bmabey/pyLDAvis/files/ldavis.v1.0.0.css\">\n",
       "\n",
       "\n",
       "<div id=\"ldavis_el1565619139605898968865685220\"></div>\n",
       "<script type=\"text/javascript\">\n",
       "\n",
       "var ldavis_el1565619139605898968865685220_data = {\"mdsDat\": {\"x\": [-0.21567629282531436, 0.21619294449255114, 0.2670785719707648, -0.26759522363800164], \"y\": [-0.2268663810054988, -0.1336524754559981, 0.14296220767484877, 0.21755664878664813], \"topics\": [1, 2, 3, 4], \"cluster\": [1, 1, 1, 1], \"Freq\": [34.801204681396484, 28.062328338623047, 19.990108489990234, 17.14635467529297]}, \"tinfo\": {\"Term\": [\"corona\", \"virus\", \"presidente\", \"bolsonaro\", \"brasil\", \"mae\", \"pegar\", \"casa\", \"tambem\", \"governo\", \"pessoa\", \"povo\", \"impeachment\", \"menos\", \"saude\", \"medo\", \"sim\", \"brasileiro\", \"falar\", \"primeiro\", \"contra\", \"dizer\", \"vairus\", \"entao\", \"cu\", \"pandemia\", \"parar\", \"tomar\", \"coronavirus\", \"morrer\", \"virus\", \"pegar\", \"medo\", \"vairus\", \"morrer\", \"matar\", \"longe\", \"mano\", \"grupo\", \"oq\", \"chegar\", \"kkk\", \"msm\", \"aula\", \"cidade\", \"voltar\", \"perto\", \"mes\", \"kkkkkkk\", \"mt\", \"contato\", \"prender\", \"pego\", \"embora\", \"dps\", \"entrar\", \"comprar\", \"levar\", \"dengue\", \"preocupado\", \"corona\", \"casa\", \"mundo\", \"ano\", \"agora\", \"logo\", \"demais\", \"mim\", \"deus\", \"passar\", \"ainda\", \"gente\", \"alcool\", \"merda\", \"caso\", \"vida\", \"tu\", \"depois\", \"coisa\", \"quando\", \"nada\", \"brasil\", \"governo\", \"saude\", \"sim\", \"pandemia\", \"histeria\", \"ministro\", \"populacao\", \"jair\", \"proprio\", \"morte\", \"tirar\", \"pt\", \"parabens\", \"odio\", \"lula\", \"quanto\", \"maos\", \"vergonha\", \"burro\", \"economia\", \"exemplo\", \"homem\", \"mandetta\", \"janaina\", \"claro\", \"trump\", \"derrubar\", \"saco\", \"caos\", \"direito\", \"presidente\", \"bolsonaro\", \"contra\", \"crise\", \"enquanto\", \"coronavirus\", \"melhor\", \"nunca\", \"povo\", \"falar\", \"ainda\", \"muito\", \"merda\", \"nada\", \"ninguem\", \"agora\", \"porque\", \"deus\", \"mundo\", \"impeachment\", \"primeiro\", \"dizer\", \"cu\", \"tomar\", \"sempre\", \"cada\", \"congresso\", \"acabar\", \"festa\", \"teste\", \"eleito\", \"verdade\", \"novo\", \"midia\", \"ha\", \"certeza\", \"problema\", \"bolsonaroacabou\", \"camara\", \"desde\", \"quase\", \"ok\", \"voto\", \"fake\", \"ve\", \"sr\", \"news\", \"imbecil\", \"pau\", \"teu\", \"entao\", \"vez\", \"bolsonaro\", \"presidente\", \"povo\", \"quando\", \"caso\", \"agora\", \"coronavirus\", \"assim\", \"mae\", \"tambem\", \"pessoa\", \"menos\", \"brasileiro\", \"parar\", \"bbb\", \"trabalhar\", \"irresponsavel\", \"mulher\", \"pyong\", \"pessoal\", \"senhor\", \"surto\", \"cabeca\", \"nenhum\", \"ontem\", \"tbm\", \"tipo\", \"video\", \"volta\", \"pensar\", \"nome\", \"preso\", \"hospital\", \"colocar\", \"sp\", \"amigo\", \"unica\", \"triste\", \"corona\", \"hora\", \"falar\", \"gente\", \"muito\", \"casa\", \"coisa\"], \"Freq\": [65381.0, 27134.0, 24537.0, 20761.0, 4459.0, 2254.0, 3350.0, 4925.0, 1847.0, 2232.0, 1574.0, 3541.0, 1688.0, 1458.0, 1920.0, 2280.0, 1847.0, 1215.0, 2362.0, 1241.0, 2569.0, 1216.0, 1822.0, 1750.0, 1157.0, 1431.0, 1007.0, 1090.0, 2325.0, 1588.0, 27134.00390625, 3350.021728515625, 2279.48974609375, 1821.7371826171875, 1587.6148681640625, 1368.3079833984375, 1213.6231689453125, 1182.575439453125, 733.3466186523438, 702.1644287109375, 678.5921020507812, 623.494140625, 605.3739624023438, 542.0517578125, 541.3236694335938, 522.9114379882812, 491.0950927734375, 476.14501953125, 461.73382568359375, 465.3582763671875, 451.1548767089844, 520.12939453125, 423.6144104003906, 425.0977783203125, 413.22210693359375, 415.31402587890625, 400.1103515625, 411.6756896972656, 398.95733642578125, 426.0953063964844, 56454.42578125, 4177.62353515625, 2088.267333984375, 822.9475708007812, 2774.376220703125, 843.9859008789062, 950.5062255859375, 927.338134765625, 1567.7962646484375, 1012.531982421875, 2004.6744384765625, 2368.5048828125, 788.10498046875, 1005.1290283203125, 832.13232421875, 769.1273803710938, 714.0732421875, 788.511474609375, 782.9601440429688, 767.233154296875, 759.8580322265625, 4458.48486328125, 2231.518310546875, 1920.02001953125, 1846.2762451171875, 1430.2161865234375, 1094.5423583984375, 1083.3134765625, 1021.6307373046875, 893.094970703125, 750.6366577148438, 742.6884155273438, 717.572021484375, 699.62158203125, 641.8949584960938, 645.8258666992188, 610.75244140625, 605.2232666015625, 596.5323486328125, 554.243896484375, 532.6805419921875, 514.1891479492188, 512.3336181640625, 505.0799255371094, 470.24530029296875, 470.0040588378906, 456.2591552734375, 453.1640625, 441.98883056640625, 460.0337829589844, 449.1108093261719, 444.73272705078125, 17928.2890625, 14604.8203125, 1996.5985107421875, 931.6718139648438, 754.3292846679688, 1687.2962646484375, 1160.631103515625, 1207.88671875, 1902.2635498046875, 1285.177734375, 1550.6964111328125, 1372.927490234375, 1020.149658203125, 1082.6512451171875, 802.7040405273438, 1182.828857421875, 839.5693359375, 922.49169921875, 880.01318359375, 1687.474853515625, 1240.63671875, 1215.3486328125, 1156.922607421875, 1090.166259765625, 1009.2882690429688, 1010.5292358398438, 945.925537109375, 963.6463012695312, 896.4867553710938, 886.7431640625, 865.5206909179688, 870.3831176757812, 861.54931640625, 819.1930541992188, 725.6566162109375, 704.4133911132812, 691.68408203125, 667.71875, 630.1329345703125, 615.469970703125, 591.6055297851562, 584.3624877929688, 502.9709167480469, 484.858154296875, 473.6932678222656, 442.52069091796875, 428.1543273925781, 427.2359924316406, 416.3641662597656, 418.9999694824219, 1367.053466796875, 960.0227661132812, 6155.83984375, 6608.4619140625, 1638.4942626953125, 884.0374145507812, 668.3048095703125, 891.8203735351562, 638.1553955078125, 627.3845825195312, 2253.4658203125, 1846.595458984375, 1573.3037109375, 1457.4854736328125, 1214.8760986328125, 1006.67529296875, 882.6644897460938, 852.6826782226562, 839.6270141601562, 804.9190063476562, 799.4385375976562, 802.9539184570312, 810.6019287109375, 767.1790161132812, 745.857177734375, 753.6878051757812, 717.5950317382812, 681.5982666015625, 670.2614135742188, 656.2110595703125, 649.3827514648438, 597.0135498046875, 581.4866943359375, 583.9424438476562, 555.9697875976562, 556.9920043945312, 551.9320068359375, 517.228759765625, 518.3944702148438, 508.90264892578125, 8927.0458984375, 733.94287109375, 1077.05712890625, 1028.6058349609375, 733.8004760742188, 747.405517578125, 594.1044921875], \"Total\": [65381.0, 27134.0, 24537.0, 20761.0, 4459.0, 2254.0, 3350.0, 4925.0, 1847.0, 2232.0, 1574.0, 3541.0, 1688.0, 1458.0, 1920.0, 2280.0, 1847.0, 1215.0, 2362.0, 1241.0, 2569.0, 1216.0, 1822.0, 1750.0, 1157.0, 1431.0, 1007.0, 1090.0, 2325.0, 1588.0, 27134.775390625, 3350.786376953125, 2280.261962890625, 1822.496826171875, 1588.393798828125, 1369.076904296875, 1214.3857421875, 1183.353759765625, 734.1355590820312, 702.9410400390625, 679.3951416015625, 624.2677001953125, 606.15576171875, 542.8170776367188, 542.1038818359375, 523.7086181640625, 491.8642883300781, 476.9291076660156, 462.51348876953125, 466.1449890136719, 451.9416809082031, 521.0481567382812, 424.3743896484375, 425.8684997558594, 414.0137939453125, 416.118408203125, 400.9002380371094, 412.4949951171875, 399.75347900390625, 426.95654296875, 65381.96484375, 4925.5322265625, 2968.828857421875, 993.155517578125, 4849.30859375, 1037.185791015625, 1218.992431640625, 1199.813720703125, 2490.83447265625, 1368.336669921875, 3555.9228515625, 4596.208984375, 1018.2620849609375, 2025.826904296875, 1500.969970703125, 1277.0006103515625, 1108.9796142578125, 1463.390625, 2118.419921875, 2713.24755859375, 2484.031494140625, 4459.2666015625, 2232.300537109375, 1920.8065185546875, 1847.07958984375, 1431.002685546875, 1095.3179931640625, 1084.0841064453125, 1022.4118041992188, 893.8653564453125, 751.4217529296875, 743.4841918945312, 718.3551025390625, 700.4051513671875, 642.6705322265625, 646.6304931640625, 611.5255126953125, 606.010009765625, 597.3529052734375, 555.0232543945312, 533.4632568359375, 514.9707641601562, 513.1139526367188, 505.8720703125, 471.01226806640625, 470.7782897949219, 457.04998779296875, 453.9512939453125, 442.759765625, 460.8373718261719, 449.8966369628906, 445.5347900390625, 24537.26953125, 20761.1796875, 2569.872314453125, 1073.849365234375, 844.8626708984375, 2325.971923828125, 1458.221435546875, 1740.9923095703125, 3541.2822265625, 2362.751953125, 3555.9228515625, 3370.652587890625, 2025.826904296875, 2484.031494140625, 1379.851318359375, 4849.30859375, 1641.8228759765625, 2490.83447265625, 2968.828857421875, 1688.2247314453125, 1241.3951416015625, 1216.12255859375, 1157.6826171875, 1090.93115234375, 1010.0533447265625, 1011.2993774414062, 946.67919921875, 964.4174194335938, 897.2515869140625, 887.505615234375, 866.2734985351562, 871.14208984375, 862.3109741210938, 819.9637451171875, 726.423828125, 705.1749267578125, 692.4512329101562, 668.4835815429688, 630.8822631835938, 616.2348022460938, 592.3751831054688, 585.1394653320312, 503.7304992675781, 485.6092224121094, 474.4591979980469, 443.2794189453125, 428.9033508300781, 427.9964904785156, 417.1203308105469, 419.7633972167969, 1750.68994140625, 1346.1334228515625, 20761.1796875, 24537.26953125, 3541.2822265625, 2713.24755859375, 1500.969970703125, 4849.30859375, 2325.971923828125, 1841.9598388671875, 2254.204345703125, 1847.35400390625, 1574.0523681640625, 1458.2359619140625, 1215.6341552734375, 1007.4188842773438, 883.40234375, 853.4235229492188, 840.3912353515625, 805.6614990234375, 800.1770629882812, 803.6981811523438, 811.3558349609375, 767.9178466796875, 746.59912109375, 754.445068359375, 718.341552734375, 682.3406372070312, 671.0073852539062, 656.955810546875, 650.136962890625, 597.7666625976562, 582.2343139648438, 584.7057495117188, 556.7098999023438, 557.7484741210938, 552.6846313476562, 517.9732666015625, 519.1427001953125, 509.6459655761719, 65381.96484375, 1051.1942138671875, 2362.751953125, 4596.208984375, 3370.652587890625, 4925.5322265625, 2118.419921875], \"Category\": [\"Default\", \"Default\", \"Default\", \"Default\", \"Default\", \"Default\", \"Default\", \"Default\", \"Default\", \"Default\", \"Default\", \"Default\", \"Default\", \"Default\", \"Default\", \"Default\", \"Default\", \"Default\", \"Default\", \"Default\", \"Default\", \"Default\", \"Default\", \"Default\", \"Default\", \"Default\", \"Default\", \"Default\", \"Default\", \"Default\", \"Topic1\", \"Topic1\", \"Topic1\", \"Topic1\", \"Topic1\", \"Topic1\", \"Topic1\", \"Topic1\", \"Topic1\", \"Topic1\", \"Topic1\", \"Topic1\", \"Topic1\", \"Topic1\", \"Topic1\", \"Topic1\", \"Topic1\", \"Topic1\", \"Topic1\", \"Topic1\", \"Topic1\", \"Topic1\", \"Topic1\", \"Topic1\", \"Topic1\", \"Topic1\", \"Topic1\", \"Topic1\", \"Topic1\", \"Topic1\", \"Topic1\", \"Topic1\", \"Topic1\", \"Topic1\", \"Topic1\", \"Topic1\", \"Topic1\", \"Topic1\", \"Topic1\", \"Topic1\", \"Topic1\", \"Topic1\", \"Topic1\", \"Topic1\", \"Topic1\", \"Topic1\", \"Topic1\", \"Topic1\", \"Topic1\", \"Topic1\", \"Topic1\", \"Topic2\", \"Topic2\", \"Topic2\", \"Topic2\", \"Topic2\", \"Topic2\", \"Topic2\", \"Topic2\", \"Topic2\", \"Topic2\", \"Topic2\", \"Topic2\", \"Topic2\", \"Topic2\", \"Topic2\", \"Topic2\", \"Topic2\", \"Topic2\", \"Topic2\", \"Topic2\", \"Topic2\", \"Topic2\", \"Topic2\", \"Topic2\", \"Topic2\", \"Topic2\", \"Topic2\", \"Topic2\", \"Topic2\", \"Topic2\", \"Topic2\", \"Topic2\", \"Topic2\", \"Topic2\", \"Topic2\", \"Topic2\", \"Topic2\", \"Topic2\", \"Topic2\", \"Topic2\", \"Topic2\", \"Topic2\", \"Topic2\", \"Topic2\", \"Topic2\", \"Topic2\", \"Topic2\", \"Topic2\", \"Topic2\", \"Topic2\", \"Topic3\", \"Topic3\", \"Topic3\", \"Topic3\", \"Topic3\", \"Topic3\", \"Topic3\", \"Topic3\", \"Topic3\", \"Topic3\", \"Topic3\", \"Topic3\", \"Topic3\", \"Topic3\", \"Topic3\", \"Topic3\", \"Topic3\", \"Topic3\", \"Topic3\", \"Topic3\", \"Topic3\", \"Topic3\", \"Topic3\", \"Topic3\", \"Topic3\", \"Topic3\", \"Topic3\", \"Topic3\", \"Topic3\", \"Topic3\", \"Topic3\", \"Topic3\", \"Topic3\", \"Topic3\", \"Topic3\", \"Topic3\", \"Topic3\", \"Topic3\", \"Topic3\", \"Topic3\", \"Topic3\", \"Topic4\", \"Topic4\", \"Topic4\", \"Topic4\", \"Topic4\", \"Topic4\", \"Topic4\", \"Topic4\", \"Topic4\", \"Topic4\", \"Topic4\", \"Topic4\", \"Topic4\", \"Topic4\", \"Topic4\", \"Topic4\", \"Topic4\", \"Topic4\", \"Topic4\", \"Topic4\", \"Topic4\", \"Topic4\", \"Topic4\", \"Topic4\", \"Topic4\", \"Topic4\", \"Topic4\", \"Topic4\", \"Topic4\", \"Topic4\", \"Topic4\", \"Topic4\", \"Topic4\", \"Topic4\", \"Topic4\", \"Topic4\", \"Topic4\"], \"logprob\": [30.0, 29.0, 28.0, 27.0, 26.0, 25.0, 24.0, 23.0, 22.0, 21.0, 20.0, 19.0, 18.0, 17.0, 16.0, 15.0, 14.0, 13.0, 12.0, 11.0, 10.0, 9.0, 8.0, 7.0, 6.0, 5.0, 4.0, 3.0, 2.0, 1.0, -2.0030999183654785, -4.094900131225586, -4.479899883270264, -4.704100131988525, -4.841599941253662, -4.990300178527832, -5.110300064086914, -5.136199951171875, -5.613999843597412, -5.65749979019165, -5.6915998458862305, -5.776299953460693, -5.805799961090088, -5.916299819946289, -5.917600154876709, -5.952199935913086, -6.014999866485596, -6.045899868011475, -6.076600074768066, -6.06879997253418, -6.099800109863281, -5.957499980926514, -6.162799835205078, -6.159299850463867, -6.187600135803223, -6.182600021362305, -6.219900131225586, -6.191400051116943, -6.222799777984619, -6.1570000648498535, -1.270400047302246, -3.8740999698638916, -4.567500114440918, -5.498700141906738, -4.283400058746338, -5.473499774932861, -5.354599952697754, -5.379300117492676, -4.8541998863220215, -5.291399955749512, -4.608399868011475, -4.4415998458862305, -5.541999816894531, -5.298799991607666, -5.487599849700928, -5.566400051116943, -5.640600204467773, -5.541500091552734, -5.548500061035156, -5.56879997253418, -5.578499794006348, -3.5938000679016113, -4.285999774932861, -4.436299800872803, -4.475500106811523, -4.730800151824951, -4.998300075531006, -5.008600234985352, -5.067200183868408, -5.201700210571289, -5.375500202178955, -5.386099815368652, -5.420499801635742, -5.445899963378906, -5.5320000648498535, -5.525899887084961, -5.581699848175049, -5.590799808502197, -5.605299949645996, -5.678800106048584, -5.718500137329102, -5.753799915313721, -5.757400035858154, -5.771699905395508, -5.843100070953369, -5.843699932098389, -5.873300075531006, -5.880099773406982, -5.905099868774414, -5.865099906921387, -5.889100074768066, -5.898900032043457, -2.2023000717163086, -2.4072999954223633, -4.397200107574463, -5.15939998626709, -5.37060022354126, -4.565499782562256, -4.939700126647949, -4.899799823760986, -4.4456000328063965, -4.837699890136719, -4.649899959564209, -4.771699905395508, -5.068699836730957, -5.009200096130371, -5.3084001541137695, -4.9207000732421875, -5.263500213623047, -5.169300079345703, -5.2164998054504395, -4.226200103759766, -4.53380012512207, -4.5543999671936035, -4.603700160980225, -4.663099765777588, -4.740200042724609, -4.738999843597412, -4.804999828338623, -4.786499977111816, -4.858699798583984, -4.869699954986572, -4.893899917602539, -4.888299942016602, -4.898499965667725, -4.94890022277832, -5.070099830627441, -5.099800109863281, -5.118100166320801, -5.153299808502197, -5.211299896240234, -5.234799861907959, -5.274400234222412, -5.2866997718811035, -5.436699867248535, -5.473400115966797, -5.496600151062012, -5.564700126647949, -5.597700119018555, -5.599899768829346, -5.6255998611450195, -5.61929988861084, -4.436800003051758, -4.790200233459473, -2.931999921798706, -2.8610999584198, -4.25570011138916, -4.872700214385986, -5.152500152587891, -4.863900184631348, -5.198599815368652, -5.21560001373291, -3.7834999561309814, -3.9827001094818115, -4.1427998542785645, -4.219299793243408, -4.401400089263916, -4.589300155639648, -4.720799922943115, -4.75540018081665, -4.7708001136779785, -4.813000202178955, -4.819799900054932, -4.815499782562256, -4.806000232696533, -4.861000061035156, -4.889200210571289, -4.878799915313721, -4.927800178527832, -4.979300022125244, -4.996099948883057, -5.017300128936768, -5.027699947357178, -5.111800193786621, -5.138199806213379, -5.133999824523926, -5.183000087738037, -5.18120002746582, -5.190299987792969, -5.255300045013428, -5.252999782562256, -5.271500110626221, -2.406899929046631, -4.905300140380859, -4.5218000411987305, -4.567800045013428, -4.9054999351501465, -4.8871002197265625, -5.116700172424316], \"loglift\": [30.0, 29.0, 28.0, 27.0, 26.0, 25.0, 24.0, 23.0, 22.0, 21.0, 20.0, 19.0, 18.0, 17.0, 16.0, 15.0, 14.0, 13.0, 12.0, 11.0, 10.0, 9.0, 8.0, 7.0, 6.0, 5.0, 4.0, 3.0, 2.0, 1.0, 1.0555000305175781, 1.055299997329712, 1.0551999807357788, 1.0550999641418457, 1.0549999475479126, 1.0549999475479126, 1.054900050163269, 1.054900050163269, 1.0543999671936035, 1.0543999671936035, 1.0542999505996704, 1.0542999505996704, 1.0542000532150269, 1.0541000366210938, 1.0541000366210938, 1.0540000200271606, 1.0540000200271606, 1.0539000034332275, 1.0537999868392944, 1.0537999868392944, 1.0537999868392944, 1.0537999868392944, 1.0536999702453613, 1.0536999702453613, 1.0535999536514282, 1.0535999536514282, 1.0535000562667847, 1.0535000562667847, 1.0535000562667847, 1.0535000562667847, 0.9086999893188477, 0.8907999992370605, 0.7037000060081482, 0.8675000071525574, 0.49709999561309814, 0.849399983882904, 0.8066999912261963, 0.7979000210762024, 0.5925999879837036, 0.7544000148773193, 0.48240000009536743, 0.39250001311302185, 0.7993000149726868, 0.3546999990940094, 0.46560001373291016, 0.5485000014305115, 0.6152999997138977, 0.43720000982284546, 0.06019999831914902, -0.20759999752044678, -0.1289999932050705, 1.2705999612808228, 1.270400047302246, 1.270300030708313, 1.270300030708313, 1.2702000141143799, 1.2699999809265137, 1.2699999809265137, 1.2699999809265137, 1.2698999643325806, 1.269700050354004, 1.269700050354004, 1.269700050354004, 1.2696000337600708, 1.2695000171661377, 1.2695000171661377, 1.2695000171661377, 1.2694000005722046, 1.2694000005722046, 1.2692999839782715, 1.2692999839782715, 1.2691999673843384, 1.2691999673843384, 1.2691999673843384, 1.2690999507904053, 1.2690999507904053, 1.2690000534057617, 1.2690000534057617, 1.2690000534057617, 1.2690000534057617, 1.2690000534057617, 1.2689000368118286, 0.9569000005722046, 0.9190000295639038, 1.0183000564575195, 1.1287000179290771, 1.1574000120162964, 0.9496999979019165, 1.0425000190734863, 0.9052000045776367, 0.6492999792098999, 0.6618000268936157, 0.4408000111579895, 0.3725999891757965, 0.5846999883651733, 0.44029998779296875, 0.7289999723434448, -0.14020000398159027, 0.6000999808311462, 0.2773999869823456, 0.05480000004172325, 1.6095000505447388, 1.6093000173568726, 1.6093000173568726, 1.6093000173568726, 1.6092000007629395, 1.6092000007629395, 1.6092000007629395, 1.6090999841690063, 1.6090999841690063, 1.6090999841690063, 1.6090999841690063, 1.6090999841690063, 1.6090999841690063, 1.6089999675750732, 1.6089999675750732, 1.6088999509811401, 1.6088999509811401, 1.6088000535964966, 1.6088000535964966, 1.6087000370025635, 1.6087000370025635, 1.6086000204086304, 1.6086000204086304, 1.6083999872207642, 1.6083999872207642, 1.608299970626831, 1.608199954032898, 1.608199954032898, 1.608199954032898, 1.6081000566482544, 1.6081000566482544, 1.3625999689102173, 1.2719000577926636, 0.39419999718666077, 0.29809999465942383, 0.8392000198364258, 0.4884999990463257, 0.8008000254631042, -0.08340000361204147, 0.3165999948978424, 0.5328999757766724, 1.763100028038025, 1.7630000114440918, 1.7628999948501587, 1.7628999948501587, 1.7627999782562256, 1.7625999450683594, 1.7625000476837158, 1.7625000476837158, 1.7625000476837158, 1.7625000476837158, 1.7625000476837158, 1.7625000476837158, 1.7625000476837158, 1.7624000310897827, 1.7624000310897827, 1.7624000310897827, 1.7623000144958496, 1.7623000144958496, 1.7623000144958496, 1.7623000144958496, 1.7621999979019165, 1.7620999813079834, 1.7620999813079834, 1.7620999813079834, 1.7620999813079834, 1.7619999647140503, 1.7619999647140503, 1.7618999481201172, 1.7618999481201172, 1.7618999481201172, -0.22779999673366547, 1.404099941253662, 0.9778000116348267, 0.266400009393692, 0.23880000412464142, -0.12219999730587006, 0.492000013589859]}, \"token.table\": {\"Topic\": [3, 1, 2, 3, 1, 2, 1, 4, 4, 1, 3, 1, 2, 3, 1, 4, 2, 3, 3, 2, 4, 2, 4, 3, 3, 2, 1, 4, 1, 3, 3, 1, 1, 2, 1, 2, 4, 4, 1, 3, 1, 2, 3, 1, 4, 2, 3, 2, 4, 3, 1, 2, 1, 1, 2, 2, 3, 1, 2, 2, 3, 1, 2, 3, 1, 2, 4, 3, 4, 1, 2, 3, 2, 4, 3, 1, 2, 3, 4, 2, 1, 3, 2, 2, 3, 4, 4, 3, 3, 4, 2, 2, 1, 1, 1, 1, 3, 1, 2, 4, 2, 1, 2, 1, 1, 1, 2, 4, 1, 2, 1, 3, 1, 4, 2, 1, 2, 1, 1, 1, 2, 3, 4, 4, 1, 2, 1, 2, 3, 4, 4, 3, 1, 2, 4, 3, 1, 2, 2, 3, 4, 1, 2, 2, 4, 1, 3, 4, 3, 1, 1, 4, 1, 4, 4, 2, 1, 2, 3, 2, 3, 1, 1, 2, 3, 4, 3, 3, 2, 2, 4, 1, 2, 3, 4, 2, 3, 2, 2, 3, 4, 2, 4, 3, 4, 4, 4, 3, 3, 4, 2, 3, 4, 4, 2, 1, 3, 4, 1, 3, 3, 2, 3, 4, 1, 3, 4, 1, 4, 1, 3], \"Freq\": [0.9995671510696411, 0.572040319442749, 0.24395230412483215, 0.1839437484741211, 0.5638480186462402, 0.4361737072467804, 0.7738675475120544, 0.22587504982948303, 0.9981210231781006, 0.8286718130111694, 0.17117157578468323, 0.3257400095462799, 0.3333406150341034, 0.34039831161499023, 0.9984947443008423, 0.9995445609092712, 0.7034764289855957, 0.29651492834091187, 0.9992765784263611, 0.9997159838676453, 0.9994783401489258, 0.9991316199302673, 0.9991975426673889, 0.9997039437294006, 0.9986015558242798, 0.9980069994926453, 0.8482332229614258, 0.15165874361991882, 0.5543082356452942, 0.4450455605983734, 0.9983338713645935, 0.9994183778762817, 0.9979637265205383, 0.9977026581764221, 0.3696151077747345, 0.34978899359703064, 0.2803976535797119, 0.9986580610275269, 0.9977544546127319, 0.9992825388908386, 0.9979163408279419, 0.7770814299583435, 0.22296828031539917, 0.8634490966796875, 0.1365361213684082, 0.7252882122993469, 0.2742939293384552, 0.8679057359695435, 0.13223455846309662, 0.9994103312492371, 0.7801524996757507, 0.2198536992073059, 0.9981151223182678, 0.539158821105957, 0.460574209690094, 0.9982840418815613, 0.9979962110519409, 0.6295078992843628, 0.37015706300735474, 0.9987996816635132, 0.9990769624710083, 0.9975513219833374, 0.9981149435043335, 0.9996842741966248, 0.99796062707901, 0.8924527168273926, 0.10652618855237961, 0.7808350324630737, 0.21877089142799377, 0.9973123073577881, 0.997829020023346, 0.9987454414367676, 0.5438573360443115, 0.4558244049549103, 0.9986050724983215, 0.5154247879981995, 0.15839140117168427, 0.10247575491666794, 0.22388015687465668, 0.9998653531074524, 0.9984531998634338, 0.9994165301322937, 0.9997096657752991, 0.9982761144638062, 0.30156177282333374, 0.6982534527778625, 0.9987248182296753, 0.9976717233657837, 0.9992745518684387, 0.9995344877243042, 0.9990319013595581, 0.9983468055725098, 0.9979693293571472, 0.9988898038864136, 0.9987999796867371, 0.8137404322624207, 0.1860804557800293, 0.9996823668479919, 0.9991406798362732, 0.9994657039642334, 0.9978508949279785, 0.9997010827064514, 0.9994091987609863, 0.9992133975028992, 0.9994465708732605, 0.20367276668548584, 0.7961753606796265, 0.999152421951294, 0.4960937201976776, 0.5034980773925781, 0.9980518817901611, 0.9988246560096741, 0.7726199626922607, 0.22670185565948486, 0.9989999532699585, 0.9997521042823792, 0.9993487596511841, 0.99809330701828, 0.9975436925888062, 0.19640113413333893, 0.40733951330184937, 0.17860043048858643, 0.21776197850704193, 0.999178946018219, 0.7033076286315918, 0.2964131832122803, 0.305954247713089, 0.4359848201274872, 0.13486140966415405, 0.12318684160709381, 0.999410092830658, 0.9978938102722168, 0.418161004781723, 0.5819467306137085, 0.9978800415992737, 0.9996393918991089, 0.3061472475528717, 0.6938571929931641, 0.9990249276161194, 0.9980526566505432, 0.9995245337486267, 0.9986612796783447, 0.9992992877960205, 0.9989566206932068, 0.9995841979980469, 0.7403149008750916, 0.07308142632246017, 0.18708845973014832, 0.9973141551017761, 0.9997653365135193, 0.9991177916526794, 0.9987174272537231, 0.9982428550720215, 0.9993314146995544, 0.9991312623023987, 0.9995972514152527, 0.21500492095947266, 0.5116264224052429, 0.2734765112400055, 0.5370935797691345, 0.462544322013855, 0.9979883432388306, 0.9977596402168274, 0.730643630027771, 0.2693046033382416, 0.9987930059432983, 0.9996817111968994, 0.9993483424186707, 0.9994387030601501, 0.9994215369224548, 0.9985290169715881, 0.28268706798553467, 0.19607499241828918, 0.3258088231086731, 0.19533787667751312, 0.9983333349227905, 0.9993666410446167, 0.9981829524040222, 0.9995800852775574, 0.9989571571350098, 0.9995614290237427, 0.9994155168533325, 0.9987612366676331, 0.9993696808815002, 0.9988047480583191, 0.9998083710670471, 0.9995008111000061, 0.9994302988052368, 0.9981813430786133, 0.9984986782073975, 0.9995056986808777, 0.9991464614868164, 0.9995037317276001, 0.9987325072288513, 0.9979044198989868, 0.6438351273536682, 0.3552815616130829, 0.9977988600730896, 0.9997273683547974, 0.9990321397781372, 0.9986889958381653, 0.9981563687324524, 0.7131536602973938, 0.2867472171783447, 0.6021923422813416, 0.39702409505844116, 0.9985451102256775, 0.9999714493751526, 0.99825119972229, 0.9986469149589539, 0.9985498189926147], \"Term\": [\"acabar\", \"agora\", \"agora\", \"agora\", \"ainda\", \"ainda\", \"alcool\", \"alcool\", \"amigo\", \"ano\", \"ano\", \"assim\", \"assim\", \"assim\", \"aula\", \"bbb\", \"bolsonaro\", \"bolsonaro\", \"bolsonaroacabou\", \"brasil\", \"brasileiro\", \"burro\", \"cabeca\", \"cada\", \"camara\", \"caos\", \"casa\", \"casa\", \"caso\", \"caso\", \"certeza\", \"chegar\", \"cidade\", \"claro\", \"coisa\", \"coisa\", \"coisa\", \"colocar\", \"comprar\", \"congresso\", \"contato\", \"contra\", \"contra\", \"corona\", \"corona\", \"coronavirus\", \"coronavirus\", \"crise\", \"crise\", \"cu\", \"demais\", \"demais\", \"dengue\", \"depois\", \"depois\", \"derrubar\", \"desde\", \"deus\", \"deus\", \"direito\", \"dizer\", \"dps\", \"economia\", \"eleito\", \"embora\", \"enquanto\", \"enquanto\", \"entao\", \"entao\", \"entrar\", \"exemplo\", \"fake\", \"falar\", \"falar\", \"festa\", \"gente\", \"gente\", \"gente\", \"gente\", \"governo\", \"grupo\", \"ha\", \"histeria\", \"homem\", \"hora\", \"hora\", \"hospital\", \"imbecil\", \"impeachment\", \"irresponsavel\", \"jair\", \"janaina\", \"kkk\", \"kkkkkkk\", \"levar\", \"logo\", \"logo\", \"longe\", \"lula\", \"mae\", \"mandetta\", \"mano\", \"maos\", \"matar\", \"medo\", \"melhor\", \"melhor\", \"menos\", \"merda\", \"merda\", \"mes\", \"midia\", \"mim\", \"mim\", \"ministro\", \"morrer\", \"morte\", \"msm\", \"mt\", \"muito\", \"muito\", \"muito\", \"muito\", \"mulher\", \"mundo\", \"mundo\", \"nada\", \"nada\", \"nada\", \"nada\", \"nenhum\", \"news\", \"ninguem\", \"ninguem\", \"nome\", \"novo\", \"nunca\", \"nunca\", \"odio\", \"ok\", \"ontem\", \"oq\", \"pandemia\", \"parabens\", \"parar\", \"passar\", \"passar\", \"passar\", \"pau\", \"pegar\", \"pego\", \"pensar\", \"perto\", \"pessoa\", \"pessoal\", \"populacao\", \"porque\", \"porque\", \"porque\", \"povo\", \"povo\", \"prender\", \"preocupado\", \"presidente\", \"presidente\", \"preso\", \"primeiro\", \"problema\", \"proprio\", \"pt\", \"pyong\", \"quando\", \"quando\", \"quando\", \"quando\", \"quanto\", \"quase\", \"saco\", \"saude\", \"sempre\", \"senhor\", \"sim\", \"sp\", \"sr\", \"surto\", \"tambem\", \"tbm\", \"teste\", \"teu\", \"tipo\", \"tirar\", \"tomar\", \"trabalhar\", \"triste\", \"trump\", \"tu\", \"tu\", \"unica\", \"vairus\", \"ve\", \"verdade\", \"vergonha\", \"vez\", \"vez\", \"vida\", \"vida\", \"video\", \"virus\", \"volta\", \"voltar\", \"voto\"]}, \"R\": 30, \"lambda.step\": 0.01, \"plot.opts\": {\"xlab\": \"PC1\", \"ylab\": \"PC2\"}, \"topic.order\": [4, 2, 1, 3]};\n",
       "\n",
       "function LDAvis_load_lib(url, callback){\n",
       "  var s = document.createElement('script');\n",
       "  s.src = url;\n",
       "  s.async = true;\n",
       "  s.onreadystatechange = s.onload = callback;\n",
       "  s.onerror = function(){console.warn(\"failed to load library \" + url);};\n",
       "  document.getElementsByTagName(\"head\")[0].appendChild(s);\n",
       "}\n",
       "\n",
       "if(typeof(LDAvis) !== \"undefined\"){\n",
       "   // already loaded: just create the visualization\n",
       "   !function(LDAvis){\n",
       "       new LDAvis(\"#\" + \"ldavis_el1565619139605898968865685220\", ldavis_el1565619139605898968865685220_data);\n",
       "   }(LDAvis);\n",
       "}else if(typeof define === \"function\" && define.amd){\n",
       "   // require.js is available: use it to load d3/LDAvis\n",
       "   require.config({paths: {d3: \"https://cdnjs.cloudflare.com/ajax/libs/d3/3.5.5/d3.min\"}});\n",
       "   require([\"d3\"], function(d3){\n",
       "      window.d3 = d3;\n",
       "      LDAvis_load_lib(\"https://cdn.rawgit.com/bmabey/pyLDAvis/files/ldavis.v1.0.0.js\", function(){\n",
       "        new LDAvis(\"#\" + \"ldavis_el1565619139605898968865685220\", ldavis_el1565619139605898968865685220_data);\n",
       "      });\n",
       "    });\n",
       "}else{\n",
       "    // require.js not available: dynamically load d3 & LDAvis\n",
       "    LDAvis_load_lib(\"https://cdnjs.cloudflare.com/ajax/libs/d3/3.5.5/d3.min.js\", function(){\n",
       "         LDAvis_load_lib(\"https://cdn.rawgit.com/bmabey/pyLDAvis/files/ldavis.v1.0.0.js\", function(){\n",
       "                 new LDAvis(\"#\" + \"ldavis_el1565619139605898968865685220\", ldavis_el1565619139605898968865685220_data);\n",
       "            })\n",
       "         });\n",
       "}\n",
       "</script>"
      ],
      "text/plain": [
       "PreparedData(topic_coordinates=              x         y  topics  cluster       Freq\n",
       "topic                                                \n",
       "3     -0.215676 -0.226866       1        1  34.801205\n",
       "1      0.216193 -0.133652       2        1  28.062328\n",
       "0      0.267079  0.142962       3        1  19.990108\n",
       "2     -0.267595  0.217557       4        1  17.146355, topic_info=           Term          Freq         Total Category  logprob  loglift\n",
       "0        corona  65381.000000  65381.000000  Default  30.0000  30.0000\n",
       "5         virus  27134.000000  27134.000000  Default  29.0000  29.0000\n",
       "14   presidente  24537.000000  24537.000000  Default  28.0000  28.0000\n",
       "42    bolsonaro  20761.000000  20761.000000  Default  27.0000  27.0000\n",
       "51       brasil   4459.000000   4459.000000  Default  26.0000  26.0000\n",
       "..          ...           ...           ...      ...      ...      ...\n",
       "49        falar   1077.057129   2362.751953   Topic4  -4.5218   0.9778\n",
       "2         gente   1028.605835   4596.208984   Topic4  -4.5678   0.2664\n",
       "36        muito    733.800476   3370.652588   Topic4  -4.9055   0.2388\n",
       "25         casa    747.405518   4925.532227   Topic4  -4.8871  -0.1222\n",
       "287       coisa    594.104492   2118.419922   Topic4  -5.1167   0.4920\n",
       "\n",
       "[209 rows x 6 columns], token_table=      Topic      Freq    Term\n",
       "term                         \n",
       "152       3  0.999567  acabar\n",
       "17        1  0.572040   agora\n",
       "17        2  0.243952   agora\n",
       "17        3  0.183944   agora\n",
       "124       1  0.563848   ainda\n",
       "...     ...       ...     ...\n",
       "357       4  0.998545   video\n",
       "5         1  0.999971   virus\n",
       "465       4  0.998251   volta\n",
       "198       1  0.998647  voltar\n",
       "471       3  0.998550    voto\n",
       "\n",
       "[211 rows x 3 columns], R=30, lambda_step=0.01, plot_opts={'xlab': 'PC1', 'ylab': 'PC2'}, topic_order=[4, 2, 1, 3])"
      ]
     },
     "execution_count": 22,
     "metadata": {},
     "output_type": "execute_result"
    }
   ],
   "source": [
    "# Visualização dos tópicos em clusters\n",
    "\n",
    "pyLDAvis.enable_notebook()\n",
    "vis = pyLDAvis.gensim.prepare(lda_model, corpus, id2word)\n",
    "vis"
   ]
  },
  {
   "cell_type": "code",
   "execution_count": 23,
   "metadata": {},
   "outputs": [
    {
     "name": "stdout",
     "output_type": "stream",
     "text": [
      "[(0,\n",
      "  '0.116*\"bolsonaro\" + 0.030*\"contra\" + 0.026*\"presidente\" + 0.015*\"corona\" + '\n",
      "  '0.011*\"governo\" + 0.009*\"saude\" + 0.009*\"sempre\" + 0.008*\"preso\" + '\n",
      "  '0.008*\"janaina\" + 0.008*\"quando\"'),\n",
      " (1,\n",
      "  '0.064*\"corona\" + 0.045*\"presidente\" + 0.028*\"risco\" + 0.026*\"virus\" + '\n",
      "  '0.022*\"grupo\" + 0.020*\"povo\" + 0.018*\"bolsonaro\" + 0.014*\"cada\" + '\n",
      "  '0.012*\"congresso\" + 0.009*\"fechar\"'),\n",
      " (2,\n",
      "  '0.207*\"presidente\" + 0.027*\"povo\" + 0.027*\"brasil\" + 0.023*\"bolsonaro\" + '\n",
      "  '0.010*\"parabens\" + 0.010*\"muito\" + 0.010*\"eleito\" + 0.010*\"senhor\" + '\n",
      "  '0.009*\"brasileiro\" + 0.009*\"contra\"'),\n",
      " (3,\n",
      "  '0.092*\"corona\" + 0.049*\"gente\" + 0.041*\"presidente\" + 0.036*\"virus\" + '\n",
      "  '0.014*\"nunca\" + 0.012*\"agora\" + 0.010*\"morrer\" + 0.010*\"ainda\" + '\n",
      "  '0.008*\"teste\" + 0.008*\"globo\"'),\n",
      " (4,\n",
      "  '0.120*\"corona\" + 0.034*\"ainda\" + 0.024*\"bolsonaro\" + 0.022*\"casa\" + '\n",
      "  '0.018*\"virus\" + 0.014*\"gente\" + 0.014*\"assim\" + 0.011*\"mal\" + 0.011*\"mundo\" '\n",
      "  '+ 0.008*\"evitar\"'),\n",
      " (5,\n",
      "  '0.084*\"bolsonaro\" + 0.031*\"presidente\" + 0.022*\"corona\" + '\n",
      "  '0.019*\"irresponsavel\" + 0.019*\"sim\" + 0.017*\"agora\" + 0.016*\"mulher\" + '\n",
      "  '0.015*\"lula\" + 0.014*\"ah\" + 0.013*\"situacao\"'),\n",
      " (6,\n",
      "  '0.076*\"corona\" + 0.053*\"presidente\" + 0.019*\"nada\" + 0.019*\"cu\" + '\n",
      "  '0.013*\"virus\" + 0.011*\"mao\" + 0.010*\"casa\" + 0.010*\"merda\" + 0.009*\"tomar\" '\n",
      "  '+ 0.008*\"favor\"'),\n",
      " (7,\n",
      "  '0.265*\"corona\" + 0.137*\"virus\" + 0.024*\"pegar\" + 0.014*\"casa\" + '\n",
      "  '0.012*\"medo\" + 0.011*\"mundo\" + 0.011*\"agora\" + 0.010*\"longe\" + '\n",
      "  '0.007*\"matar\" + 0.007*\"deus\"'),\n",
      " (8,\n",
      "  '0.143*\"bolsonaro\" + 0.062*\"presidente\" + 0.023*\"coronavirus\" + '\n",
      "  '0.020*\"brasil\" + 0.017*\"governo\" + 0.016*\"impeachment\" + 0.012*\"muito\" + '\n",
      "  '0.010*\"ministro\" + 0.010*\"saude\" + 0.008*\"melhor\"'),\n",
      " (9,\n",
      "  '0.219*\"corona\" + 0.080*\"virus\" + 0.023*\"vairus\" + 0.019*\"mae\" + '\n",
      "  '0.017*\"casa\" + 0.012*\"passar\" + 0.011*\"agora\" + 0.010*\"gente\" + '\n",
      "  '0.010*\"alcool\" + 0.009*\"pai\"')]\n"
     ]
    }
   ],
   "source": [
    "# Escolhe o modelo\n",
    "\n",
    "optimal_model = model_list[3]\n",
    "model_topics = optimal_model.show_topics(formatted=False)\n",
    "pprint(optimal_model.print_topics(num_words=10))"
   ]
  },
  {
   "cell_type": "code",
   "execution_count": 24,
   "metadata": {},
   "outputs": [],
   "source": [
    "# Encontrar qual o principal tópico em cada tweet\n",
    "\n",
    "def format_topics_sentences(ldamodel=lda_model, corpus=corpus, texts=lista):\n",
    "    # Output\n",
    "    sent_topics_df = pd.DataFrame()\n",
    "\n",
    "    # Seleciona o principal tópico de cada tweet\n",
    "    for i, row in enumerate(ldamodel[corpus]):\n",
    "        row = sorted(row, key=lambda x: (x[1]), reverse=True)\n",
    "        # Calcula o principal tópico, o percentual de contribuição e as palavras chaves de cada tweet\n",
    "        for j, (topic_num, prop_topic) in enumerate(row):\n",
    "            if j == 0:  # => mostra o principal tópico\n",
    "                wp = ldamodel.show_topic(topic_num)\n",
    "                topic_keywords = \", \".join([word for word, prop in wp])\n",
    "                sent_topics_df = sent_topics_df.append(pd.Series([int(topic_num), round(prop_topic,4), topic_keywords]), ignore_index=True)\n",
    "            else:\n",
    "                break\n",
    "    sent_topics_df.columns = ['Principal_Topico', 'Perc_Contributicao', 'Palavras_Chave']\n",
    "\n",
    "    # Inclui o texto original no final do DataFrame\n",
    "    contents = pd.Series(texts)\n",
    "    sent_topics_df = pd.concat([sent_topics_df, contents], axis=1)\n",
    "    return(sent_topics_df)"
   ]
  },
  {
   "cell_type": "code",
   "execution_count": 25,
   "metadata": {},
   "outputs": [],
   "source": [
    "# roda a função de calcular os principais tópicos de cada tweet\n",
    "\n",
    "df_topic_sents_keywords = format_topics_sentences(ldamodel=optimal_model, corpus=corpus, texts=lista)"
   ]
  },
  {
   "cell_type": "code",
   "execution_count": 26,
   "metadata": {},
   "outputs": [],
   "source": [
    "# Formata o DataFrame\n",
    "\n",
    "df_dominant_topic = df_topic_sents_keywords.reset_index()\n",
    "df_dominant_topic.columns = ['Index_DF_Original', 'Principal_Topico', 'Perc_Contrib_Topico', 'Palavras_Chave', 'Tweets']"
   ]
  },
  {
   "cell_type": "code",
   "execution_count": 27,
   "metadata": {
    "scrolled": true
   },
   "outputs": [
    {
     "data": {
      "text/html": [
       "<div>\n",
       "<style scoped>\n",
       "    .dataframe tbody tr th:only-of-type {\n",
       "        vertical-align: middle;\n",
       "    }\n",
       "\n",
       "    .dataframe tbody tr th {\n",
       "        vertical-align: top;\n",
       "    }\n",
       "\n",
       "    .dataframe thead th {\n",
       "        text-align: right;\n",
       "    }\n",
       "</style>\n",
       "<table border=\"1\" class=\"dataframe\">\n",
       "  <thead>\n",
       "    <tr style=\"text-align: right;\">\n",
       "      <th></th>\n",
       "      <th>Topico</th>\n",
       "      <th>Topico_Perc_Contrib</th>\n",
       "      <th>Palavras_Chave</th>\n",
       "      <th>Tweet</th>\n",
       "    </tr>\n",
       "  </thead>\n",
       "  <tbody>\n",
       "    <tr>\n",
       "      <th>0</th>\n",
       "      <td>0.0</td>\n",
       "      <td>0.9400</td>\n",
       "      <td>bolsonaro, contra, presidente, corona, governo...</td>\n",
       "      <td>[tco, lixo, bolsonaro, barco, bolsonaroacabou,...</td>\n",
       "    </tr>\n",
       "    <tr>\n",
       "      <th>1</th>\n",
       "      <td>1.0</td>\n",
       "      <td>0.9308</td>\n",
       "      <td>corona, presidente, risco, virus, grupo, povo,...</td>\n",
       "      <td>[presidente, hipocrisia, dos, senado, morte, m...</td>\n",
       "    </tr>\n",
       "    <tr>\n",
       "      <th>2</th>\n",
       "      <td>2.0</td>\n",
       "      <td>0.9437</td>\n",
       "      <td>presidente, povo, brasil, bolsonaro, parabens,...</td>\n",
       "      <td>[presidente, torcer, picuinha, contra, duro, n...</td>\n",
       "    </tr>\n",
       "    <tr>\n",
       "      <th>3</th>\n",
       "      <td>3.0</td>\n",
       "      <td>0.9470</td>\n",
       "      <td>corona, gente, presidente, virus, nunca, agora...</td>\n",
       "      <td>[sp, corona, globo, falar, jovem, estadao, gra...</td>\n",
       "    </tr>\n",
       "    <tr>\n",
       "      <th>4</th>\n",
       "      <td>4.0</td>\n",
       "      <td>0.9437</td>\n",
       "      <td>corona, ainda, bolsonaro, casa, virus, gente, ...</td>\n",
       "      <td>[cm, fisico, gente, inclusive, sao, vcs, senti...</td>\n",
       "    </tr>\n",
       "    <tr>\n",
       "      <th>5</th>\n",
       "      <td>5.0</td>\n",
       "      <td>0.9400</td>\n",
       "      <td>bolsonaro, presidente, corona, irresponsavel, ...</td>\n",
       "      <td>[tco, fogo, desde, bolsonaro, dia, incrivel, e...</td>\n",
       "    </tr>\n",
       "    <tr>\n",
       "      <th>6</th>\n",
       "      <td>6.0</td>\n",
       "      <td>0.9400</td>\n",
       "      <td>corona, presidente, nada, cu, virus, mao, casa...</td>\n",
       "      <td>[corona, estudante, maos, nivel, muito, ne, ba...</td>\n",
       "    </tr>\n",
       "    <tr>\n",
       "      <th>7</th>\n",
       "      <td>7.0</td>\n",
       "      <td>0.9500</td>\n",
       "      <td>corona, virus, pegar, casa, medo, mundo, agora...</td>\n",
       "      <td>[praia, pobre, muito, pegar, dinheiro, fudido,...</td>\n",
       "    </tr>\n",
       "    <tr>\n",
       "      <th>8</th>\n",
       "      <td>8.0</td>\n",
       "      <td>0.9500</td>\n",
       "      <td>bolsonaro, presidente, coronavirus, brasil, go...</td>\n",
       "      <td>[saude, situacao, bolsonaro, contra, coronavir...</td>\n",
       "    </tr>\n",
       "    <tr>\n",
       "      <th>9</th>\n",
       "      <td>9.0</td>\n",
       "      <td>0.9500</td>\n",
       "      <td>corona, virus, vairus, mae, casa, passar, agor...</td>\n",
       "      <td>[vez, ganhar, olhar, casa, dar, dia, agora, tu...</td>\n",
       "    </tr>\n",
       "  </tbody>\n",
       "</table>\n",
       "</div>"
      ],
      "text/plain": [
       "   Topico  Topico_Perc_Contrib  \\\n",
       "0     0.0               0.9400   \n",
       "1     1.0               0.9308   \n",
       "2     2.0               0.9437   \n",
       "3     3.0               0.9470   \n",
       "4     4.0               0.9437   \n",
       "5     5.0               0.9400   \n",
       "6     6.0               0.9400   \n",
       "7     7.0               0.9500   \n",
       "8     8.0               0.9500   \n",
       "9     9.0               0.9500   \n",
       "\n",
       "                                      Palavras_Chave  \\\n",
       "0  bolsonaro, contra, presidente, corona, governo...   \n",
       "1  corona, presidente, risco, virus, grupo, povo,...   \n",
       "2  presidente, povo, brasil, bolsonaro, parabens,...   \n",
       "3  corona, gente, presidente, virus, nunca, agora...   \n",
       "4  corona, ainda, bolsonaro, casa, virus, gente, ...   \n",
       "5  bolsonaro, presidente, corona, irresponsavel, ...   \n",
       "6  corona, presidente, nada, cu, virus, mao, casa...   \n",
       "7  corona, virus, pegar, casa, medo, mundo, agora...   \n",
       "8  bolsonaro, presidente, coronavirus, brasil, go...   \n",
       "9  corona, virus, vairus, mae, casa, passar, agor...   \n",
       "\n",
       "                                               Tweet  \n",
       "0  [tco, lixo, bolsonaro, barco, bolsonaroacabou,...  \n",
       "1  [presidente, hipocrisia, dos, senado, morte, m...  \n",
       "2  [presidente, torcer, picuinha, contra, duro, n...  \n",
       "3  [sp, corona, globo, falar, jovem, estadao, gra...  \n",
       "4  [cm, fisico, gente, inclusive, sao, vcs, senti...  \n",
       "5  [tco, fogo, desde, bolsonaro, dia, incrivel, e...  \n",
       "6  [corona, estudante, maos, nivel, muito, ne, ba...  \n",
       "7  [praia, pobre, muito, pegar, dinheiro, fudido,...  \n",
       "8  [saude, situacao, bolsonaro, contra, coronavir...  \n",
       "9  [vez, ganhar, olhar, casa, dar, dia, agora, tu...  "
      ]
     },
     "execution_count": 27,
     "metadata": {},
     "output_type": "execute_result"
    }
   ],
   "source": [
    "# Group top 5 sentences under each topic\n",
    "sent_topics_sorteddf_mallet = pd.DataFrame()\n",
    "\n",
    "sent_topics_outdf_grpd = df_topic_sents_keywords.groupby('Principal_Topico')\n",
    "\n",
    "for i, grp in sent_topics_outdf_grpd:\n",
    "    sent_topics_sorteddf_mallet = pd.concat([sent_topics_sorteddf_mallet, \n",
    "                                             grp.sort_values(['Perc_Contributicao'], ascending=[0]).head(1)], \n",
    "                                            axis=0)\n",
    "\n",
    "# Reset Index    \n",
    "sent_topics_sorteddf_mallet.reset_index(drop=True, inplace=True)\n",
    "\n",
    "# Format\n",
    "sent_topics_sorteddf_mallet.columns = ['Topico', \"Topico_Perc_Contrib\", \"Palavras_Chave\", \"Tweet\"]\n",
    "\n",
    "# Show\n",
    "sent_topics_sorteddf_mallet"
   ]
  },
  {
   "cell_type": "code",
   "execution_count": 28,
   "metadata": {},
   "outputs": [
    {
     "data": {
      "text/html": [
       "<div>\n",
       "<style scoped>\n",
       "    .dataframe tbody tr th:only-of-type {\n",
       "        vertical-align: middle;\n",
       "    }\n",
       "\n",
       "    .dataframe tbody tr th {\n",
       "        vertical-align: top;\n",
       "    }\n",
       "\n",
       "    .dataframe thead th {\n",
       "        text-align: right;\n",
       "    }\n",
       "</style>\n",
       "<table border=\"1\" class=\"dataframe\">\n",
       "  <thead>\n",
       "    <tr style=\"text-align: right;\">\n",
       "      <th></th>\n",
       "      <th>Principal_Topico</th>\n",
       "      <th>Palavras_Chave</th>\n",
       "      <th>Qtd_Tweets</th>\n",
       "      <th>Perc_Tweets</th>\n",
       "    </tr>\n",
       "  </thead>\n",
       "  <tbody>\n",
       "    <tr>\n",
       "      <th>0.0</th>\n",
       "      <td>4.0</td>\n",
       "      <td>corona, ainda, bolsonaro, casa, virus, gente, ...</td>\n",
       "      <td>5680.0</td>\n",
       "      <td>0.0501</td>\n",
       "    </tr>\n",
       "    <tr>\n",
       "      <th>1.0</th>\n",
       "      <td>7.0</td>\n",
       "      <td>corona, virus, pegar, casa, medo, mundo, agora...</td>\n",
       "      <td>3702.0</td>\n",
       "      <td>0.0326</td>\n",
       "    </tr>\n",
       "    <tr>\n",
       "      <th>2.0</th>\n",
       "      <td>1.0</td>\n",
       "      <td>corona, presidente, risco, virus, grupo, povo,...</td>\n",
       "      <td>13782.0</td>\n",
       "      <td>0.1215</td>\n",
       "    </tr>\n",
       "    <tr>\n",
       "      <th>3.0</th>\n",
       "      <td>7.0</td>\n",
       "      <td>corona, virus, pegar, casa, medo, mundo, agora...</td>\n",
       "      <td>6399.0</td>\n",
       "      <td>0.0564</td>\n",
       "    </tr>\n",
       "    <tr>\n",
       "      <th>4.0</th>\n",
       "      <td>7.0</td>\n",
       "      <td>corona, virus, pegar, casa, medo, mundo, agora...</td>\n",
       "      <td>6544.0</td>\n",
       "      <td>0.0577</td>\n",
       "    </tr>\n",
       "    <tr>\n",
       "      <th>...</th>\n",
       "      <td>...</td>\n",
       "      <td>...</td>\n",
       "      <td>...</td>\n",
       "      <td>...</td>\n",
       "    </tr>\n",
       "    <tr>\n",
       "      <th>113432.0</th>\n",
       "      <td>9.0</td>\n",
       "      <td>corona, virus, vairus, mae, casa, passar, agor...</td>\n",
       "      <td>NaN</td>\n",
       "      <td>NaN</td>\n",
       "    </tr>\n",
       "    <tr>\n",
       "      <th>113433.0</th>\n",
       "      <td>6.0</td>\n",
       "      <td>corona, presidente, nada, cu, virus, mao, casa...</td>\n",
       "      <td>NaN</td>\n",
       "      <td>NaN</td>\n",
       "    </tr>\n",
       "    <tr>\n",
       "      <th>113434.0</th>\n",
       "      <td>3.0</td>\n",
       "      <td>corona, gente, presidente, virus, nunca, agora...</td>\n",
       "      <td>NaN</td>\n",
       "      <td>NaN</td>\n",
       "    </tr>\n",
       "    <tr>\n",
       "      <th>113435.0</th>\n",
       "      <td>5.0</td>\n",
       "      <td>bolsonaro, presidente, corona, irresponsavel, ...</td>\n",
       "      <td>NaN</td>\n",
       "      <td>NaN</td>\n",
       "    </tr>\n",
       "    <tr>\n",
       "      <th>113436.0</th>\n",
       "      <td>6.0</td>\n",
       "      <td>corona, presidente, nada, cu, virus, mao, casa...</td>\n",
       "      <td>NaN</td>\n",
       "      <td>NaN</td>\n",
       "    </tr>\n",
       "  </tbody>\n",
       "</table>\n",
       "<p>113437 rows × 4 columns</p>\n",
       "</div>"
      ],
      "text/plain": [
       "          Principal_Topico                                     Palavras_Chave  \\\n",
       "0.0                    4.0  corona, ainda, bolsonaro, casa, virus, gente, ...   \n",
       "1.0                    7.0  corona, virus, pegar, casa, medo, mundo, agora...   \n",
       "2.0                    1.0  corona, presidente, risco, virus, grupo, povo,...   \n",
       "3.0                    7.0  corona, virus, pegar, casa, medo, mundo, agora...   \n",
       "4.0                    7.0  corona, virus, pegar, casa, medo, mundo, agora...   \n",
       "...                    ...                                                ...   \n",
       "113432.0               9.0  corona, virus, vairus, mae, casa, passar, agor...   \n",
       "113433.0               6.0  corona, presidente, nada, cu, virus, mao, casa...   \n",
       "113434.0               3.0  corona, gente, presidente, virus, nunca, agora...   \n",
       "113435.0               5.0  bolsonaro, presidente, corona, irresponsavel, ...   \n",
       "113436.0               6.0  corona, presidente, nada, cu, virus, mao, casa...   \n",
       "\n",
       "          Qtd_Tweets  Perc_Tweets  \n",
       "0.0           5680.0       0.0501  \n",
       "1.0           3702.0       0.0326  \n",
       "2.0          13782.0       0.1215  \n",
       "3.0           6399.0       0.0564  \n",
       "4.0           6544.0       0.0577  \n",
       "...              ...          ...  \n",
       "113432.0         NaN          NaN  \n",
       "113433.0         NaN          NaN  \n",
       "113434.0         NaN          NaN  \n",
       "113435.0         NaN          NaN  \n",
       "113436.0         NaN          NaN  \n",
       "\n",
       "[113437 rows x 4 columns]"
      ]
     },
     "execution_count": 28,
     "metadata": {},
     "output_type": "execute_result"
    }
   ],
   "source": [
    "# Numero de tweets por topico\n",
    "\n",
    "topic_counts = df_topic_sents_keywords['Principal_Topico'].value_counts()\n",
    "\n",
    "# Porcentagem de tweets por tópico\n",
    "topic_contribution = round(topic_counts/topic_counts.sum(), 4)\n",
    "\n",
    "# Número do tópico e suas palavras chave\n",
    "topic_num_keywords = df_topic_sents_keywords[['Principal_Topico', 'Palavras_Chave']]\n",
    "\n",
    "# Concatena as colunas\n",
    "df_dominant_topics = pd.concat([topic_num_keywords, topic_counts, topic_contribution], axis=1)\n",
    "\n",
    "# Renomeia as colunas\n",
    "df_dominant_topics.columns = ['Principal_Topico', 'Palavras_Chave', 'Qtd_Tweets', 'Perc_Tweets']\n",
    "\n",
    "# Mostra o DataFrame\n",
    "df_dominant_topics"
   ]
  },
  {
   "cell_type": "code",
   "execution_count": 29,
   "metadata": {},
   "outputs": [
    {
     "data": {
      "image/png": "[encoded data removed]",
      "text/plain": [
       "<Figure size 720x720 with 4 Axes>"
      ]
     },
     "metadata": {
      "needs_background": "light"
     },
     "output_type": "display_data"
    }
   ],
   "source": [
    "# Cria wordclouds\n",
    "\n",
    "cols = [color for name, color in mcolors.XKCD_COLORS.items()]\n",
    "\n",
    "cloud = WordCloud(stopwords=stop_words,\n",
    "                  background_color='white',\n",
    "                  width=2500,\n",
    "                  height=1800,\n",
    "                  max_words=10,\n",
    "                  colormap='tab10',\n",
    "                  color_func=lambda *args, **kwargs: cols[i],\n",
    "                  prefer_horizontal=1.0)\n",
    "\n",
    "topics = lda_model.show_topics(formatted=False)\n",
    "\n",
    "fig, axes = plt.subplots(2, 2, figsize=(10,10), sharex=True, sharey=True)\n",
    "\n",
    "for i, ax in enumerate(axes.flatten()):\n",
    "    fig.add_subplot(ax)\n",
    "    topic_words = dict(topics[i][1])\n",
    "    cloud.generate_from_frequencies(topic_words, max_font_size=300)\n",
    "    plt.gca().imshow(cloud)\n",
    "    plt.gca().set_title('Topic ' + str(i), fontdict=dict(size=16))\n",
    "    plt.gca().axis('off')\n",
    "\n",
    "\n",
    "plt.subplots_adjust(wspace=0, hspace=0)\n",
    "plt.axis('off')\n",
    "plt.margins(x=0, y=0)\n",
    "plt.tight_layout()\n",
    "plt.show()"
   ]
  },
  {
   "cell_type": "code",
   "execution_count": null,
   "metadata": {},
   "outputs": [],
   "source": []
  }
 ],
 "metadata": {
  "kernelspec": {
   "display_name": "Python 3",
   "language": "python",
   "name": "python3"
  },
  "language_info": {
   "codemirror_mode": {
    "name": "ipython",
    "version": 3
   },
   "file_extension": ".py",
   "mimetype": "text/x-python",
   "name": "python",
   "nbconvert_exporter": "python",
   "pygments_lexer": "ipython3",
   "version": "3.7.6"
  }
 },
 "nbformat": 4,
 "nbformat_minor": 1
}
