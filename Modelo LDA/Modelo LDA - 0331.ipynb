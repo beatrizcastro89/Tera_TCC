{
 "cells": [
  {
   "cell_type": "markdown",
   "metadata": {
    "collapsed": true
   },
   "source": [
    "Análise do dia 31/03 através do modelo LDA."
   ]
  },
  {
   "cell_type": "code",
   "execution_count": 1,
   "metadata": {},
   "outputs": [],
   "source": [
    "# Importar bibliotecas\n",
    "\n",
    "# gerais\n",
    "import sys\n",
    "import os\n",
    "from pathlib import Path\n",
    "import re\n",
    "import numpy as np\n",
    "import pandas as pd\n",
    "from pprint import pprint\n",
    "from tqdm import tqdm\n",
    "from ast import literal_eval\n",
    "\n",
    "# Gensim\n",
    "import gensim, spacy, logging, warnings\n",
    "import gensim.corpora as corpora\n",
    "from gensim.utils import lemmatize, simple_preprocess\n",
    "from gensim.models import CoherenceModel\n",
    "from gensim.models.ldamulticore import LdaMulticore\n",
    "\n",
    "# NLTK Stop words\n",
    "import nltk\n",
    "from nltk.corpus import stopwords\n",
    "\n",
    "# sklearn\n",
    "from sklearn.feature_extraction.text import CountVectorizer\n",
    "\n",
    "#plot\n",
    "import pyLDAvis\n",
    "import pyLDAvis.gensim\n",
    "import matplotlib.pyplot as plt\n",
    "import matplotlib.colors as mcolors\n",
    "%matplotlib inline\n",
    "from wordcloud import WordCloud, STOPWORDS"
   ]
  },
  {
   "cell_type": "markdown",
   "metadata": {},
   "source": [
    "# Preparação dos dados"
   ]
  },
  {
   "cell_type": "code",
   "execution_count": 6,
   "metadata": {},
   "outputs": [],
   "source": [
    "# import dos dados\n",
    "\n",
    "df = pd.read_csv('3103_preprocessado.csv')"
   ]
  },
  {
   "cell_type": "code",
   "execution_count": 7,
   "metadata": {},
   "outputs": [],
   "source": [
    "# função para reverter os tokens processados em lista de tuples\n",
    "\n",
    "def strip_characters(text):\n",
    "    t = re.sub(r'\\(|\\)|:|,|;|\\.|’|”|“|\\?|%|>|<|\\[|\\]', '', text)\n",
    "    t = re.sub(r'/', ' ', t)\n",
    "    t = t.replace(\"'\",'')\n",
    "    return t"
   ]
  },
  {
   "cell_type": "code",
   "execution_count": 8,
   "metadata": {},
   "outputs": [],
   "source": [
    "# aplica função em todos os tokens\n",
    "\n",
    "df['token3'] = df['token3'].apply(lambda x: strip_characters(x))\n",
    "df['token3'] = df['token3'].apply(lambda x: str(x).split(' '))"
   ]
  },
  {
   "cell_type": "code",
   "execution_count": 9,
   "metadata": {},
   "outputs": [],
   "source": [
    "texto = list(df.token3)"
   ]
  },
  {
   "cell_type": "markdown",
   "metadata": {},
   "source": [
    "# Modelagem"
   ]
  },
  {
   "cell_type": "code",
   "execution_count": 10,
   "metadata": {},
   "outputs": [],
   "source": [
    "# Criar dicionário\n",
    "\n",
    "id2word = corpora.Dictionary(texto)"
   ]
  },
  {
   "cell_type": "code",
   "execution_count": 11,
   "metadata": {},
   "outputs": [],
   "source": [
    "# Criar o Corpus: A Frequência das palavras nos documentos\n",
    "\n",
    "corpus = [id2word.doc2bow(text) for text in texto]"
   ]
  },
  {
   "cell_type": "code",
   "execution_count": 12,
   "metadata": {},
   "outputs": [],
   "source": [
    "# Função para determinar a melhor quantidade de tópicos para a modelagem\n",
    "\n",
    "def compute_coherence_values(dictionary, corpus, texts, limit, start=2, step=5):\n",
    "    coherence_values = []\n",
    "    model_list = []\n",
    "    for num_topics in tqdm(range(start, limit, step)):\n",
    "        model = LdaMulticore(corpus, id2word=id2word, num_topics=10)\n",
    "        model_list.append(model)\n",
    "        coherencemodel = CoherenceModel(model=model, texts=texts, dictionary=dictionary, coherence='c_v')\n",
    "        coherence_values.append(coherencemodel.get_coherence())\n",
    "\n",
    "    return model_list, coherence_values"
   ]
  },
  {
   "cell_type": "code",
   "execution_count": 13,
   "metadata": {},
   "outputs": [
    {
     "name": "stderr",
     "output_type": "stream",
     "text": [
      "100%|██████████████████████████████████████████████████████████████████████████████████| 14/14 [22:01<00:00, 94.38s/it]\n"
     ]
    }
   ],
   "source": [
    "# Colocando parametros na função\n",
    "\n",
    "model_list, coherence_values = compute_coherence_values(dictionary=id2word, corpus=corpus, texts=texto, start=2, limit=30, step=2)"
   ]
  },
  {
   "cell_type": "code",
   "execution_count": 14,
   "metadata": {},
   "outputs": [
    {
     "data": {
      "image/png": "[encoded data removed]",
      "text/plain": [
       "<Figure size 432x288 with 1 Axes>"
      ]
     },
     "metadata": {
      "needs_background": "light"
     },
     "output_type": "display_data"
    }
   ],
   "source": [
    "# Mostrando visualmente a quantidade de tópicos\n",
    "\n",
    "limit=30; start=2; step=2;\n",
    "x = range(start, limit, step)\n",
    "plt.plot(x, coherence_values)\n",
    "plt.xlabel(\"Num Tópicos\")\n",
    "plt.ylabel(\"Score de Coerência\")\n",
    "plt.legend((\"Valores de Coerência\"), loc='best')\n",
    "plt.show()"
   ]
  },
  {
   "cell_type": "code",
   "execution_count": 15,
   "metadata": {},
   "outputs": [
    {
     "name": "stdout",
     "output_type": "stream",
     "text": [
      "A quantidade de tópicos = 2  tem um valor de coerência de  0.3329\n",
      "A quantidade de tópicos = 4  tem um valor de coerência de  0.3236\n",
      "A quantidade de tópicos = 6  tem um valor de coerência de  0.3278\n",
      "A quantidade de tópicos = 8  tem um valor de coerência de  0.338\n",
      "A quantidade de tópicos = 10  tem um valor de coerência de  0.3299\n",
      "A quantidade de tópicos = 12  tem um valor de coerência de  0.3306\n",
      "A quantidade de tópicos = 14  tem um valor de coerência de  0.3113\n",
      "A quantidade de tópicos = 16  tem um valor de coerência de  0.3185\n",
      "A quantidade de tópicos = 18  tem um valor de coerência de  0.3341\n",
      "A quantidade de tópicos = 20  tem um valor de coerência de  0.3088\n",
      "A quantidade de tópicos = 22  tem um valor de coerência de  0.3346\n",
      "A quantidade de tópicos = 24  tem um valor de coerência de  0.3019\n",
      "A quantidade de tópicos = 26  tem um valor de coerência de  0.3148\n",
      "A quantidade de tópicos = 28  tem um valor de coerência de  0.3361\n"
     ]
    }
   ],
   "source": [
    "# Lista dos valores de coerência, para melhor identificar o ponto de inflexão do gráfico\n",
    "\n",
    "for m, cv in zip(x, coherence_values):\n",
    "    print(\"A quantidade de tópicos =\", m, \" tem um valor de coerência de \", round(cv, 4))"
   ]
  },
  {
   "cell_type": "markdown",
   "metadata": {},
   "source": [
    "Aqui conseguimos determinar a melhor quantidade de tópicos a serem analisados, que é 8 tópicos"
   ]
  },
  {
   "cell_type": "code",
   "execution_count": 22,
   "metadata": {},
   "outputs": [],
   "source": [
    "# Vamos agora construir de fato o modelo LDA\n",
    "\n",
    "lda_model = LdaMulticore(corpus=corpus,\n",
    "                        id2word=id2word,\n",
    "                        num_topics=3, \n",
    "                        random_state=42,\n",
    "                        chunksize=100,\n",
    "                        passes=10,\n",
    "                        per_word_topics=True,\n",
    "                        alpha = 0.9,\n",
    "                        eta = 0.3)"
   ]
  },
  {
   "cell_type": "code",
   "execution_count": 23,
   "metadata": {},
   "outputs": [
    {
     "name": "stdout",
     "output_type": "stream",
     "text": [
      "\n",
      "Perplexidade:  -6.960049949899504\n"
     ]
    }
   ],
   "source": [
    "# Computar a perplexidade do modelo (quanto menor, melhor)\n",
    "\n",
    "print('\\nPerplexidade: ', lda_model.log_perplexity(corpus))"
   ]
  },
  {
   "cell_type": "code",
   "execution_count": 24,
   "metadata": {},
   "outputs": [
    {
     "name": "stdout",
     "output_type": "stream",
     "text": [
      "\n",
      "Score de Coerência:  0.3331344178415489\n"
     ]
    }
   ],
   "source": [
    "# Computar o Score de Coerência\n",
    "\n",
    "coherence_model_lda = CoherenceModel(model=lda_model, texts=texto, dictionary=id2word, coherence='c_v')\n",
    "coherence_lda = coherence_model_lda.get_coherence()\n",
    "print('\\nScore de Coerência: ', coherence_lda)"
   ]
  },
  {
   "cell_type": "code",
   "execution_count": 25,
   "metadata": {},
   "outputs": [
    {
     "data": {
      "text/html": [
       "\n",
       "<link rel=\"stylesheet\" type=\"text/css\" href=\"https://cdn.rawgit.com/bmabey/pyLDAvis/files/ldavis.v1.0.0.css\">\n",
       "\n",
       "\n",
       "<div id=\"ldavis_el2125621004739138005979012296\"></div>\n",
       "<script type=\"text/javascript\">\n",
       "\n",
       "var ldavis_el2125621004739138005979012296_data = {\"mdsDat\": {\"x\": [-0.08433240693911485, -0.2877608111449048, 0.3720932180840197], \"y\": [-0.3794529538273751, 0.26247024939730773, 0.11698270443006745], \"topics\": [1, 2, 3], \"cluster\": [1, 1, 1], \"Freq\": [35.31001281738281, 35.00910949707031, 29.68088150024414]}, \"tinfo\": {\"Term\": [\"bolsonaro\", \"presidente\", \"\", \"pandemia\", \"casa\", \"agora\", \"gente\", \"quando\", \"muito\", \"brasil\", \"acabar\", \"mundo\", \"bbb\", \"nem\", \"contra\", \"povo\", \"nada\", \"sair\", \"depois\", \"coisa\", \"prior\", \"oms\", \"novo\", \"tempo\", \"pronunciamento\", \"melhor\", \"governo\", \"deus\", \"passar\", \"isolamento\", \"bolsonaro\", \"agora\", \"mundo\", \"contra\", \"povo\", \"oms\", \"pronunciamento\", \"novo\", \"governo\", \"isolamento\", \"passar\", \"sim\", \"vez\", \"familia\", \"fim\", \"alguem\", \"video\", \"cabelo\", \"favor\", \"social\", \"cada\", \"jair\", \"ditadura\", \"semana\", \"tava\", \"trabalhar\", \"dinheiro\", \"golpe\", \"lado\", \"enquanto\", \"crise\", \"presidente\", \"pandemia\", \"gente\", \"quando\", \"brasil\", \"acabar\", \"nem\", \"depois\", \"deus\", \"saude\", \"vida\", \"ir\", \"falar\", \"nunca\", \"merda\", \"porque\", \"tambem\", \"logo\", \"tanto\", \"sempre\", \"poder\", \"primeiro\", \"pessoa\", \"preciso\", \"ninguem\", \"caso\", \"trabalho\", \"ha\", \"tipo\", \"comer\", \"brasileiro\", \"\", \"casa\", \"muito\", \"bbb\", \"sair\", \"nada\", \"coisa\", \"prior\", \"tempo\", \"melhor\", \"bilhao\", \"meio\", \"pai\", \"bom\", \"menos\", \"manu\", \"ano\", \"momento\", \"abner\", \"hora\", \"mal\", \"foraprior\", \"paredao\", \"voltar\", \"filho\", \"mil\", \"nacional\", \"cu\", \"pegar\", \"globo\", \"tirar\", \"mae\"], \"Freq\": [33968.0, 22470.0, 14718.0, 12535.0, 10097.0, 8896.0, 7772.0, 7441.0, 6188.0, 7106.0, 6686.0, 6572.0, 5387.0, 6094.0, 5787.0, 5738.0, 4839.0, 4758.0, 5367.0, 4516.0, 4281.0, 4476.0, 4296.0, 3604.0, 4175.0, 3409.0, 3976.0, 3853.0, 3829.0, 3631.0, 33967.66015625, 8896.107421875, 6572.22314453125, 5787.1865234375, 5738.02587890625, 4475.8486328125, 4175.04736328125, 4295.5146484375, 3976.047607421875, 3630.97021484375, 3828.914794921875, 3310.848876953125, 2698.1435546875, 2680.884521484375, 2546.041259765625, 2563.513916015625, 2399.677978515625, 2357.337646484375, 2398.071533203125, 2231.9736328125, 2189.02734375, 1869.824951171875, 1857.4229736328125, 1964.6552734375, 1954.291259765625, 1937.36474609375, 1898.9425048828125, 1689.705078125, 1796.70263671875, 1779.804931640625, 2641.188232421875, 22469.33203125, 12534.3505859375, 7772.2099609375, 7440.34765625, 7105.6396484375, 6686.1416015625, 6093.7431640625, 5366.91943359375, 3852.755615234375, 3541.9228515625, 3468.410400390625, 3472.805419921875, 3459.882080078125, 2932.027587890625, 3029.304443359375, 2995.65966796875, 2560.642578125, 2362.5791015625, 2224.085693359375, 2130.003662109375, 2033.5067138671875, 1941.2410888671875, 1966.4149169921875, 1932.9576416015625, 1887.06201171875, 1668.4312744140625, 1680.968994140625, 1620.759521484375, 1598.5595703125, 1582.5574951171875, 2855.43115234375, 14717.640625, 10097.25390625, 6187.61962890625, 5387.173828125, 4757.77685546875, 4838.43701171875, 4515.84619140625, 4280.419921875, 3604.152099609375, 3408.490478515625, 3032.151123046875, 2835.966552734375, 2615.56494140625, 2428.98486328125, 2388.87255859375, 1988.233154296875, 2112.05859375, 2148.24169921875, 1797.3797607421875, 1881.891845703125, 1868.6793212890625, 1691.228759765625, 1636.43359375, 1768.0921630859375, 1625.6204833984375, 1610.4810791015625, 1836.2308349609375, 1576.7310791015625, 1602.4749755859375, 1558.69482421875, 1586.4317626953125, 2486.695068359375], \"Total\": [33968.0, 22470.0, 14718.0, 12535.0, 10097.0, 8896.0, 7772.0, 7441.0, 6188.0, 7106.0, 6686.0, 6572.0, 5387.0, 6094.0, 5787.0, 5738.0, 4839.0, 4758.0, 5367.0, 4516.0, 4281.0, 4476.0, 4296.0, 3604.0, 4175.0, 3409.0, 3976.0, 3853.0, 3829.0, 3631.0, 33968.2890625, 8896.7607421875, 6572.880859375, 5787.8095703125, 5738.66796875, 4476.4580078125, 4175.66552734375, 4296.154296875, 3976.67626953125, 3631.589599609375, 3829.574951171875, 3311.500244140625, 2698.786865234375, 2681.5322265625, 2546.67578125, 2564.1591796875, 2400.317138671875, 2357.96826171875, 2398.720458984375, 2232.6044921875, 2189.671142578125, 1870.441650390625, 1858.0408935546875, 1965.30859375, 1954.9444580078125, 1938.0155029296875, 1899.5889892578125, 1690.318359375, 1797.3624267578125, 1780.4671630859375, 2643.11865234375, 22470.052734375, 12535.05859375, 7772.919921875, 7441.033203125, 7106.33740234375, 6686.81494140625, 6094.4482421875, 5367.61376953125, 3853.43603515625, 3542.613037109375, 3469.109375, 3473.507080078125, 3460.609130859375, 2932.71923828125, 3030.025390625, 2996.37890625, 2561.3447265625, 2363.271484375, 2224.782470703125, 2130.719970703125, 2034.21142578125, 1941.93359375, 1967.123046875, 1933.669677734375, 1887.76416015625, 1669.1131591796875, 1681.6966552734375, 1621.464111328125, 1599.261962890625, 1583.260498046875, 2948.059814453125, 14718.267578125, 10097.923828125, 6188.30810546875, 5387.81103515625, 4758.43798828125, 4839.123046875, 4516.5205078125, 4281.06494140625, 3604.830322265625, 3409.17626953125, 3032.781005859375, 2836.652099609375, 2616.22021484375, 2429.656005859375, 2389.556640625, 1988.864990234375, 2112.734130859375, 2148.95751953125, 1798.00732421875, 1882.5792236328125, 1869.3643798828125, 1691.86572265625, 1637.0633544921875, 1768.7725830078125, 1626.2916259765625, 1611.158447265625, 1837.005126953125, 1577.4046630859375, 1603.1597900390625, 1559.3953857421875, 1587.146484375, 2760.576171875], \"Category\": [\"Default\", \"Default\", \"Default\", \"Default\", \"Default\", \"Default\", \"Default\", \"Default\", \"Default\", \"Default\", \"Default\", \"Default\", \"Default\", \"Default\", \"Default\", \"Default\", \"Default\", \"Default\", \"Default\", \"Default\", \"Default\", \"Default\", \"Default\", \"Default\", \"Default\", \"Default\", \"Default\", \"Default\", \"Default\", \"Default\", \"Topic1\", \"Topic1\", \"Topic1\", \"Topic1\", \"Topic1\", \"Topic1\", \"Topic1\", \"Topic1\", \"Topic1\", \"Topic1\", \"Topic1\", \"Topic1\", \"Topic1\", \"Topic1\", \"Topic1\", \"Topic1\", \"Topic1\", \"Topic1\", \"Topic1\", \"Topic1\", \"Topic1\", \"Topic1\", \"Topic1\", \"Topic1\", \"Topic1\", \"Topic1\", \"Topic1\", \"Topic1\", \"Topic1\", \"Topic1\", \"Topic1\", \"Topic2\", \"Topic2\", \"Topic2\", \"Topic2\", \"Topic2\", \"Topic2\", \"Topic2\", \"Topic2\", \"Topic2\", \"Topic2\", \"Topic2\", \"Topic2\", \"Topic2\", \"Topic2\", \"Topic2\", \"Topic2\", \"Topic2\", \"Topic2\", \"Topic2\", \"Topic2\", \"Topic2\", \"Topic2\", \"Topic2\", \"Topic2\", \"Topic2\", \"Topic2\", \"Topic2\", \"Topic2\", \"Topic2\", \"Topic2\", \"Topic2\", \"Topic3\", \"Topic3\", \"Topic3\", \"Topic3\", \"Topic3\", \"Topic3\", \"Topic3\", \"Topic3\", \"Topic3\", \"Topic3\", \"Topic3\", \"Topic3\", \"Topic3\", \"Topic3\", \"Topic3\", \"Topic3\", \"Topic3\", \"Topic3\", \"Topic3\", \"Topic3\", \"Topic3\", \"Topic3\", \"Topic3\", \"Topic3\", \"Topic3\", \"Topic3\", \"Topic3\", \"Topic3\", \"Topic3\", \"Topic3\", \"Topic3\", \"Topic3\"], \"logprob\": [30.0, 29.0, 28.0, 27.0, 26.0, 25.0, 24.0, 23.0, 22.0, 21.0, 20.0, 19.0, 18.0, 17.0, 16.0, 15.0, 14.0, 13.0, 12.0, 11.0, 10.0, 9.0, 8.0, 7.0, 6.0, 5.0, 4.0, 3.0, 2.0, 1.0, -2.3069000244140625, -3.646699905395508, -3.94950008392334, -4.076700210571289, -4.08519983291626, -4.333600044250488, -4.403200149536133, -4.37470006942749, -4.452000141143799, -4.542799949645996, -4.489699840545654, -4.6350998878479, -4.839799880981445, -4.846199989318848, -4.897799968719482, -4.890900135040283, -4.956999778747559, -4.974800109863281, -4.957600116729736, -5.029399871826172, -5.048900127410889, -5.206500053405762, -5.213099956512451, -5.1570000648498535, -5.162300109863281, -5.171000003814697, -5.190999984741211, -5.307799816131592, -5.246399879455566, -5.255799770355225, -4.861100196838379, -2.7116000652313232, -3.295300006866455, -3.773200035095215, -3.816800117492676, -3.8629000186920166, -3.9237000942230225, -4.016499996185303, -4.143499851226807, -4.474999904632568, -4.559100151062012, -4.580100059509277, -4.578800201416016, -4.582499980926514, -4.7480998039245605, -4.715400218963623, -4.726600170135498, -4.883500099182129, -4.964000225067139, -5.024400234222412, -5.067599773406982, -5.113999843597412, -5.160399913787842, -5.147500038146973, -5.164700031280518, -5.188700199127197, -5.3119001388549805, -5.3043999671936035, -5.34089994430542, -5.354700088500977, -5.364699840545654, -4.774499893188477, -2.969599962234497, -3.346400022506714, -3.8361001014709473, -3.974600076675415, -4.098899841308594, -4.082099914550781, -4.151100158691406, -4.204599857330322, -4.3765997886657715, -4.432400226593018, -4.5493998527526855, -4.616300106048584, -4.697199821472168, -4.771200180053711, -4.787799835205078, -4.971399784088135, -4.910999774932861, -4.894000053405762, -5.072299957275391, -5.026400089263916, -5.033400058746338, -5.133200168609619, -5.166100025177002, -5.088799953460693, -5.172800064086914, -5.18209981918335, -5.050899982452393, -5.2032999992370605, -5.187099933624268, -5.214799880981445, -5.197199821472168, -4.747700214385986], \"loglift\": [30.0, 29.0, 28.0, 27.0, 26.0, 25.0, 24.0, 23.0, 22.0, 21.0, 20.0, 19.0, 18.0, 17.0, 16.0, 15.0, 14.0, 13.0, 12.0, 11.0, 10.0, 9.0, 8.0, 7.0, 6.0, 5.0, 4.0, 3.0, 2.0, 1.0, 1.0410000085830688, 1.0408999919891357, 1.0408999919891357, 1.0408999919891357, 1.0408999919891357, 1.0408999919891357, 1.0408999919891357, 1.0408999919891357, 1.0407999753952026, 1.0407999753952026, 1.0407999753952026, 1.0407999753952026, 1.0407999753952026, 1.0407999753952026, 1.0407999753952026, 1.0407999753952026, 1.0406999588012695, 1.0406999588012695, 1.0406999588012695, 1.0406999588012695, 1.0406999588012695, 1.0406999588012695, 1.0406999588012695, 1.0406999588012695, 1.0406999588012695, 1.0406999588012695, 1.0406999588012695, 1.0405999422073364, 1.0405999422073364, 1.0405999422073364, 1.0403000116348267, 1.0494999885559082, 1.0494999885559082, 1.0494999885559082, 1.0494999885559082, 1.0494999885559082, 1.0494999885559082, 1.049399971961975, 1.049399971961975, 1.049399971961975, 1.049399971961975, 1.049399971961975, 1.049399971961975, 1.049399971961975, 1.049299955368042, 1.049299955368042, 1.049299955368042, 1.049299955368042, 1.049299955368042, 1.0492000579833984, 1.0492000579833984, 1.0492000579833984, 1.0492000579833984, 1.0492000579833984, 1.0492000579833984, 1.0492000579833984, 1.0492000579833984, 1.0491000413894653, 1.0491000413894653, 1.0491000413894653, 1.0491000413894653, 1.0176000595092773, 1.2145999670028687, 1.2145999670028687, 1.2145999670028687, 1.2144999504089355, 1.2144999504089355, 1.2144999504089355, 1.2144999504089355, 1.2144999504089355, 1.2144999504089355, 1.2144999504089355, 1.2144999504089355, 1.214400053024292, 1.214400053024292, 1.214400053024292, 1.214400053024292, 1.2143000364303589, 1.2143000364303589, 1.2143000364303589, 1.2143000364303589, 1.2143000364303589, 1.2143000364303589, 1.2143000364303589, 1.2143000364303589, 1.2143000364303589, 1.2143000364303589, 1.2142000198364258, 1.2142000198364258, 1.2142000198364258, 1.2142000198364258, 1.2142000198364258, 1.2142000198364258, 1.110200047492981]}, \"token.table\": {\"Topic\": [3, 3, 2, 1, 1, 3, 3, 3, 1, 3, 2, 2, 3, 1, 1, 3, 2, 3, 2, 1, 1, 2, 3, 2, 2, 1, 1, 1, 2, 1, 1, 3, 1, 3, 2, 3, 1, 1, 2, 3, 2, 1, 1, 1, 2, 1, 3, 3, 3, 3, 3, 3, 2, 3, 3, 3, 1, 3, 3, 2, 2, 1, 2, 1, 3, 2, 3, 1, 3, 2, 2, 2, 1, 2, 2, 2, 3, 1, 2, 3, 2, 1, 2, 1, 1, 2, 2, 1, 3, 2, 3, 1, 2, 1, 2, 1, 3], \"Freq\": [0.9999818205833435, 0.9994397759437561, 0.9998781085014343, 0.9999144673347473, 0.999937891960144, 0.9996525049209595, 0.9998494982719421, 0.9997425079345703, 0.9999914765357971, 0.9997299909591675, 0.999952495098114, 0.9684335589408875, 0.031206965446472168, 0.9995893836021423, 0.9996935129165649, 0.9999085068702698, 0.9993330836296082, 0.9998847842216492, 0.9998354911804199, 0.9998601078987122, 0.9991984367370605, 0.0007566818967461586, 0.9997434616088867, 0.9998856782913208, 0.9998868703842163, 0.9996899366378784, 0.9994397759437561, 0.9997376203536987, 0.9998239874839783, 0.999801516532898, 0.9996996521949768, 0.9998207092285156, 0.99973464012146, 0.9994882941246033, 0.9998816251754761, 0.9997464418411255, 0.9998116493225098, 0.9998299479484558, 0.9997137784957886, 0.9996923208236694, 0.9998540282249451, 0.9998376369476318, 0.9997639060020447, 0.9997983574867249, 0.9998851418495178, 0.09925464540719986, 0.9008988738059998, 0.9998050928115845, 0.999565064907074, 0.9997701048851013, 0.9996549487113953, 0.9997670650482178, 0.9996615648269653, 0.9992809891700745, 0.999554455280304, 0.9999502301216125, 0.9998660087585449, 0.9994528293609619, 0.9997678995132446, 0.9999264478683472, 0.9995952248573303, 0.9999640583992004, 0.9997547268867493, 0.9998976588249207, 0.9999158382415771, 0.9999155402183533, 0.9993504285812378, 0.9998498558998108, 0.9992765784263611, 0.9994291067123413, 0.9998960494995117, 0.9998735189437866, 0.9998835921287537, 0.999653697013855, 0.9999531507492065, 0.9995192289352417, 0.9997512698173523, 0.9998406171798706, 0.9998611211776733, 0.9999079704284668, 0.999826967716217, 0.9998430013656616, 0.9996621012687683, 0.9998489618301392, 0.9997292160987854, 0.9998654127120972, 0.9996482729911804, 0.9995169043540955, 0.9997696876525879, 0.9998362064361572, 0.999277651309967, 0.9994760155677795, 0.999585747718811, 0.9997084140777588, 0.99968022108078, 0.999867856502533, 0.9995632171630859], \"Term\": [\"\", \"abner\", \"acabar\", \"agora\", \"alguem\", \"ano\", \"bbb\", \"bilhao\", \"bolsonaro\", \"bom\", \"brasil\", \"brasileiro\", \"brasileiro\", \"cabelo\", \"cada\", \"casa\", \"caso\", \"coisa\", \"comer\", \"contra\", \"crise\", \"crise\", \"cu\", \"depois\", \"deus\", \"dinheiro\", \"ditadura\", \"enquanto\", \"falar\", \"familia\", \"favor\", \"filho\", \"fim\", \"foraprior\", \"gente\", \"globo\", \"golpe\", \"governo\", \"ha\", \"hora\", \"ir\", \"isolamento\", \"jair\", \"lado\", \"logo\", \"mae\", \"mae\", \"mal\", \"manu\", \"meio\", \"melhor\", \"menos\", \"merda\", \"mil\", \"momento\", \"muito\", \"mundo\", \"nacional\", \"nada\", \"nem\", \"ninguem\", \"novo\", \"nunca\", \"oms\", \"pai\", \"pandemia\", \"paredao\", \"passar\", \"pegar\", \"pessoa\", \"poder\", \"porque\", \"povo\", \"preciso\", \"presidente\", \"primeiro\", \"prior\", \"pronunciamento\", \"quando\", \"sair\", \"saude\", \"semana\", \"sempre\", \"sim\", \"social\", \"tambem\", \"tanto\", \"tava\", \"tempo\", \"tipo\", \"tirar\", \"trabalhar\", \"trabalho\", \"vez\", \"vida\", \"video\", \"voltar\"]}, \"R\": 30, \"lambda.step\": 0.01, \"plot.opts\": {\"xlab\": \"PC1\", \"ylab\": \"PC2\"}, \"topic.order\": [2, 3, 1]};\n",
       "\n",
       "function LDAvis_load_lib(url, callback){\n",
       "  var s = document.createElement('script');\n",
       "  s.src = url;\n",
       "  s.async = true;\n",
       "  s.onreadystatechange = s.onload = callback;\n",
       "  s.onerror = function(){console.warn(\"failed to load library \" + url);};\n",
       "  document.getElementsByTagName(\"head\")[0].appendChild(s);\n",
       "}\n",
       "\n",
       "if(typeof(LDAvis) !== \"undefined\"){\n",
       "   // already loaded: just create the visualization\n",
       "   !function(LDAvis){\n",
       "       new LDAvis(\"#\" + \"ldavis_el2125621004739138005979012296\", ldavis_el2125621004739138005979012296_data);\n",
       "   }(LDAvis);\n",
       "}else if(typeof define === \"function\" && define.amd){\n",
       "   // require.js is available: use it to load d3/LDAvis\n",
       "   require.config({paths: {d3: \"https://cdnjs.cloudflare.com/ajax/libs/d3/3.5.5/d3.min\"}});\n",
       "   require([\"d3\"], function(d3){\n",
       "      window.d3 = d3;\n",
       "      LDAvis_load_lib(\"https://cdn.rawgit.com/bmabey/pyLDAvis/files/ldavis.v1.0.0.js\", function(){\n",
       "        new LDAvis(\"#\" + \"ldavis_el2125621004739138005979012296\", ldavis_el2125621004739138005979012296_data);\n",
       "      });\n",
       "    });\n",
       "}else{\n",
       "    // require.js not available: dynamically load d3 & LDAvis\n",
       "    LDAvis_load_lib(\"https://cdnjs.cloudflare.com/ajax/libs/d3/3.5.5/d3.min.js\", function(){\n",
       "         LDAvis_load_lib(\"https://cdn.rawgit.com/bmabey/pyLDAvis/files/ldavis.v1.0.0.js\", function(){\n",
       "                 new LDAvis(\"#\" + \"ldavis_el2125621004739138005979012296\", ldavis_el2125621004739138005979012296_data);\n",
       "            })\n",
       "         });\n",
       "}\n",
       "</script>"
      ],
      "text/plain": [
       "PreparedData(topic_coordinates=              x         y  topics  cluster       Freq\n",
       "topic                                                \n",
       "1     -0.084332 -0.379453       1        1  35.310013\n",
       "2     -0.287761  0.262470       2        1  35.009109\n",
       "0      0.372093  0.116983       3        1  29.680882, topic_info=           Term          Freq         Total Category  logprob  loglift\n",
       "3     bolsonaro  33968.000000  33968.000000  Default  30.0000  30.0000\n",
       "1    presidente  22470.000000  22470.000000  Default  29.0000  29.0000\n",
       "2                14718.000000  14718.000000  Default  28.0000  28.0000\n",
       "193    pandemia  12535.000000  12535.000000  Default  27.0000  27.0000\n",
       "455        casa  10097.000000  10097.000000  Default  26.0000  26.0000\n",
       "..          ...           ...           ...      ...      ...      ...\n",
       "17           cu   1576.731079   1577.404663   Topic3  -5.2033   1.2142\n",
       "437       pegar   1602.474976   1603.159790   Topic3  -5.1871   1.2142\n",
       "100       globo   1558.694824   1559.395386   Topic3  -5.2148   1.2142\n",
       "241       tirar   1586.431763   1587.146484   Topic3  -5.1972   1.2142\n",
       "290         mae   2486.695068   2760.576172   Topic3  -4.7477   1.1102\n",
       "\n",
       "[124 rows x 6 columns], token_table=      Topic      Freq      Term\n",
       "term                           \n",
       "2         3  0.999982          \n",
       "524       3  0.999440     abner\n",
       "93        2  0.999878    acabar\n",
       "133       1  0.999914     agora\n",
       "458       1  0.999938    alguem\n",
       "...     ...       ...       ...\n",
       "151       2  0.999586  trabalho\n",
       "132       1  0.999708       vez\n",
       "381       2  0.999680      vida\n",
       "275       1  0.999868     video\n",
       "152       3  0.999563    voltar\n",
       "\n",
       "[97 rows x 3 columns], R=30, lambda_step=0.01, plot_opts={'xlab': 'PC1', 'ylab': 'PC2'}, topic_order=[2, 3, 1])"
      ]
     },
     "execution_count": 25,
     "metadata": {},
     "output_type": "execute_result"
    }
   ],
   "source": [
    "# Visualização dos tópicos em clusters\n",
    "\n",
    "pyLDAvis.enable_notebook()\n",
    "vis = pyLDAvis.gensim.prepare(lda_model, corpus, id2word)\n",
    "vis"
   ]
  },
  {
   "cell_type": "code",
   "execution_count": 26,
   "metadata": {},
   "outputs": [],
   "source": [
    "# Função para determinar a melhor quantidade de tópicos para a modelagem\n",
    "\n",
    "def compute_coherence_values(dictionary, corpus, texts, limit, start=2, step=5):\n",
    "    coherence_values = []\n",
    "    model_list = []\n",
    "    for num_topics in tqdm(range(start, limit, step)):\n",
    "        model = LdaMulticore(corpus, id2word=id2word, num_topics=3)\n",
    "        model_list.append(model)\n",
    "        coherencemodel = CoherenceModel(model=model, texts=texts, dictionary=dictionary, coherence='c_v')\n",
    "        coherence_values.append(coherencemodel.get_coherence())\n",
    "\n",
    "    return model_list, coherence_values"
   ]
  },
  {
   "cell_type": "code",
   "execution_count": 27,
   "metadata": {},
   "outputs": [
    {
     "name": "stderr",
     "output_type": "stream",
     "text": [
      "100%|████████████████████████████████████████████████████████████████████████████████████| 1/1 [01:36<00:00, 96.77s/it]\n"
     ]
    }
   ],
   "source": [
    "# Colocando parametros na função\n",
    "\n",
    "model_list, coherence_values = compute_coherence_values(dictionary=id2word, corpus=corpus, texts=texto, start=2, limit=4, step=2)"
   ]
  },
  {
   "cell_type": "code",
   "execution_count": 29,
   "metadata": {},
   "outputs": [
    {
     "data": {
      "text/plain": [
       "[(0,\n",
       "  '0.022*\"casa\" + 0.018*\"quando\" + 0.018*\"acabar\" + 0.018*\"pandemia\" + 0.014*\"gente\" + 0.012*\"depois\" + 0.012*\"sair\" + 0.011*\"nem\" + 0.011*\"bbb\" + 0.009*\"prior\" + 0.008*\"ir\" + 0.008*\"tempo\" + 0.008*\"passar\" + 0.008*\"coisa\" + 0.008*\"bilhao\" + 0.007*\"mundo\" + 0.007*\"muito\" + 0.006*\"mae\" + 0.006*\"nada\" + 0.005*\"logo\"'),\n",
       " (1,\n",
       "  '0.066*\"presidente\" + 0.044*\"\" + 0.022*\"brasil\" + 0.018*\"bolsonaro\" + 0.015*\"povo\" + 0.012*\"novo\" + 0.010*\"saude\" + 0.009*\"brasileiro\" + 0.009*\"pandemia\" + 0.008*\"pronunciamento\" + 0.006*\"governo\" + 0.006*\"nada\" + 0.006*\"agora\" + 0.005*\"caso\" + 0.005*\"contra\" + 0.005*\"bom\" + 0.005*\"tambem\" + 0.005*\"gente\" + 0.005*\"jair\" + 0.005*\"ditadura\"'),\n",
       " (2,\n",
       "  '0.116*\"bolsonaro\" + 0.022*\"agora\" + 0.015*\"contra\" + 0.012*\"pandemia\" + 0.010*\"isolamento\" + 0.010*\"merda\" + 0.010*\"oms\" + 0.009*\"falar\" + 0.009*\"pronunciamento\" + 0.008*\"muito\" + 0.008*\"melhor\" + 0.008*\"mundo\" + 0.007*\"bbb\" + 0.007*\"cu\" + 0.007*\"globo\" + 0.006*\"vez\" + 0.006*\"deus\" + 0.006*\"saber\" + 0.006*\"meio\" + 0.006*\"sim\"')]"
      ]
     },
     "execution_count": 29,
     "metadata": {},
     "output_type": "execute_result"
    }
   ],
   "source": [
    "# Escolhe o modelo\n",
    "\n",
    "optimal_model = model_list[0]\n",
    "optimal_model.print_topics(num_topics = 3, num_words = 20)"
   ]
  },
  {
   "cell_type": "code",
   "execution_count": 30,
   "metadata": {},
   "outputs": [],
   "source": [
    "# Encontrar qual o principal tópico em cada tweet\n",
    "\n",
    "def format_topics_sentences(ldamodel=lda_model, corpus=corpus, texts=texto):\n",
    "    # Output\n",
    "    sent_topics_df = pd.DataFrame()\n",
    "\n",
    "    # Seleciona o principal tópico de cada tweet\n",
    "    for i, row in enumerate(ldamodel[corpus]):\n",
    "        row = sorted(row, key=lambda x: (x[1]), reverse=True)\n",
    "        # Calcula o principal tópico, o percentual de contribuição e as palavras chaves de cada tweet\n",
    "        for j, (topic_num, prop_topic) in enumerate(row):\n",
    "            if j == 0:  # => mostra o principal tópico\n",
    "                wp = ldamodel.show_topic(topic_num)\n",
    "                topic_keywords = \", \".join([word for word, prop in wp])\n",
    "                sent_topics_df = sent_topics_df.append(pd.Series([int(topic_num), round(prop_topic,4), topic_keywords]), ignore_index=True)\n",
    "            else:\n",
    "                break\n",
    "    sent_topics_df.columns = ['Principal_Topico', 'Perc_Contributicao', 'Palavras_Chave']\n",
    "\n",
    "    # Inclui o texto original no final do DataFrame\n",
    "    contents = pd.Series(texts)\n",
    "    sent_topics_df = pd.concat([sent_topics_df, contents], axis=1)\n",
    "    return(sent_topics_df)"
   ]
  },
  {
   "cell_type": "code",
   "execution_count": 31,
   "metadata": {},
   "outputs": [],
   "source": [
    "# roda a função de calcular os principais tópicos de cada tweet\n",
    "\n",
    "df_topic_sents_keywords = format_topics_sentences(ldamodel=optimal_model, corpus=corpus, texts=texto)"
   ]
  },
  {
   "cell_type": "code",
   "execution_count": 32,
   "metadata": {},
   "outputs": [],
   "source": [
    "# Formata o DataFrame\n",
    "\n",
    "df_dominant_topic = df_topic_sents_keywords.reset_index()\n",
    "df_dominant_topic.columns = ['Index_DF_Original', 'Principal_Topico', 'Perc_Contrib_Topico', 'Palavras_Chave', 'Tweets']"
   ]
  },
  {
   "cell_type": "code",
   "execution_count": 33,
   "metadata": {
    "scrolled": true
   },
   "outputs": [
    {
     "data": {
      "text/html": [
       "<div>\n",
       "<style scoped>\n",
       "    .dataframe tbody tr th:only-of-type {\n",
       "        vertical-align: middle;\n",
       "    }\n",
       "\n",
       "    .dataframe tbody tr th {\n",
       "        vertical-align: top;\n",
       "    }\n",
       "\n",
       "    .dataframe thead th {\n",
       "        text-align: right;\n",
       "    }\n",
       "</style>\n",
       "<table border=\"1\" class=\"dataframe\">\n",
       "  <thead>\n",
       "    <tr style=\"text-align: right;\">\n",
       "      <th></th>\n",
       "      <th>Topico</th>\n",
       "      <th>Topico_Perc_Contrib</th>\n",
       "      <th>Palavras_Chave</th>\n",
       "      <th>Tweet</th>\n",
       "    </tr>\n",
       "  </thead>\n",
       "  <tbody>\n",
       "    <tr>\n",
       "      <th>0</th>\n",
       "      <td>0.0</td>\n",
       "      <td>0.9628</td>\n",
       "      <td>casa, quando, acabar, pandemia, gente, depois,...</td>\n",
       "      <td>[coisa, poder, video, igual, surto, buscar, ca...</td>\n",
       "    </tr>\n",
       "    <tr>\n",
       "      <th>1</th>\n",
       "      <td>1.0</td>\n",
       "      <td>0.9626</td>\n",
       "      <td>presidente, , brasil, bolsonaro, povo, novo, s...</td>\n",
       "      <td>[processo, estrago, dever, social, falar, feit...</td>\n",
       "    </tr>\n",
       "    <tr>\n",
       "      <th>2</th>\n",
       "      <td>2.0</td>\n",
       "      <td>0.9692</td>\n",
       "      <td>bolsonaro, agora, contra, pandemia, isolamento...</td>\n",
       "      <td>[views, volta, daniel, marcela, fancam, thelma...</td>\n",
       "    </tr>\n",
       "  </tbody>\n",
       "</table>\n",
       "</div>"
      ],
      "text/plain": [
       "   Topico  Topico_Perc_Contrib  \\\n",
       "0     0.0               0.9628   \n",
       "1     1.0               0.9626   \n",
       "2     2.0               0.9692   \n",
       "\n",
       "                                      Palavras_Chave  \\\n",
       "0  casa, quando, acabar, pandemia, gente, depois,...   \n",
       "1  presidente, , brasil, bolsonaro, povo, novo, s...   \n",
       "2  bolsonaro, agora, contra, pandemia, isolamento...   \n",
       "\n",
       "                                               Tweet  \n",
       "0  [coisa, poder, video, igual, surto, buscar, ca...  \n",
       "1  [processo, estrago, dever, social, falar, feit...  \n",
       "2  [views, volta, daniel, marcela, fancam, thelma...  "
      ]
     },
     "execution_count": 33,
     "metadata": {},
     "output_type": "execute_result"
    }
   ],
   "source": [
    "# Group top 5 sentences under each topic\n",
    "sent_topics_sorteddf_mallet = pd.DataFrame()\n",
    "\n",
    "sent_topics_outdf_grpd = df_topic_sents_keywords.groupby('Principal_Topico')\n",
    "\n",
    "for i, grp in sent_topics_outdf_grpd:\n",
    "    sent_topics_sorteddf_mallet = pd.concat([sent_topics_sorteddf_mallet, \n",
    "                                             grp.sort_values(['Perc_Contributicao'], ascending=[0]).head(1)], \n",
    "                                            axis=0)\n",
    "\n",
    "# Reset Index    \n",
    "sent_topics_sorteddf_mallet.reset_index(drop=True, inplace=True)\n",
    "\n",
    "# Format\n",
    "sent_topics_sorteddf_mallet.columns = ['Topico', \"Topico_Perc_Contrib\", \"Palavras_Chave\", \"Tweet\"]\n",
    "\n",
    "# Show\n",
    "sent_topics_sorteddf_mallet"
   ]
  },
  {
   "cell_type": "code",
   "execution_count": 34,
   "metadata": {},
   "outputs": [
    {
     "data": {
      "text/html": [
       "<div>\n",
       "<style scoped>\n",
       "    .dataframe tbody tr th:only-of-type {\n",
       "        vertical-align: middle;\n",
       "    }\n",
       "\n",
       "    .dataframe tbody tr th {\n",
       "        vertical-align: top;\n",
       "    }\n",
       "\n",
       "    .dataframe thead th {\n",
       "        text-align: right;\n",
       "    }\n",
       "</style>\n",
       "<table border=\"1\" class=\"dataframe\">\n",
       "  <thead>\n",
       "    <tr style=\"text-align: right;\">\n",
       "      <th></th>\n",
       "      <th>Principal_Topico</th>\n",
       "      <th>Palavras_Chave</th>\n",
       "      <th>Qtd_Tweets</th>\n",
       "      <th>Perc_Tweets</th>\n",
       "    </tr>\n",
       "  </thead>\n",
       "  <tbody>\n",
       "    <tr>\n",
       "      <th>0.0</th>\n",
       "      <td>1.0</td>\n",
       "      <td>presidente, , brasil, bolsonaro, povo, novo, s...</td>\n",
       "      <td>82197.0</td>\n",
       "      <td>0.3753</td>\n",
       "    </tr>\n",
       "    <tr>\n",
       "      <th>1.0</th>\n",
       "      <td>1.0</td>\n",
       "      <td>presidente, , brasil, bolsonaro, povo, novo, s...</td>\n",
       "      <td>71850.0</td>\n",
       "      <td>0.3281</td>\n",
       "    </tr>\n",
       "    <tr>\n",
       "      <th>2.0</th>\n",
       "      <td>2.0</td>\n",
       "      <td>bolsonaro, agora, contra, pandemia, isolamento...</td>\n",
       "      <td>64958.0</td>\n",
       "      <td>0.2966</td>\n",
       "    </tr>\n",
       "    <tr>\n",
       "      <th>3.0</th>\n",
       "      <td>1.0</td>\n",
       "      <td>presidente, , brasil, bolsonaro, povo, novo, s...</td>\n",
       "      <td>NaN</td>\n",
       "      <td>NaN</td>\n",
       "    </tr>\n",
       "    <tr>\n",
       "      <th>4.0</th>\n",
       "      <td>2.0</td>\n",
       "      <td>bolsonaro, agora, contra, pandemia, isolamento...</td>\n",
       "      <td>NaN</td>\n",
       "      <td>NaN</td>\n",
       "    </tr>\n",
       "    <tr>\n",
       "      <th>...</th>\n",
       "      <td>...</td>\n",
       "      <td>...</td>\n",
       "      <td>...</td>\n",
       "      <td>...</td>\n",
       "    </tr>\n",
       "    <tr>\n",
       "      <th>219000.0</th>\n",
       "      <td>1.0</td>\n",
       "      <td>presidente, , brasil, bolsonaro, povo, novo, s...</td>\n",
       "      <td>NaN</td>\n",
       "      <td>NaN</td>\n",
       "    </tr>\n",
       "    <tr>\n",
       "      <th>219001.0</th>\n",
       "      <td>2.0</td>\n",
       "      <td>bolsonaro, agora, contra, pandemia, isolamento...</td>\n",
       "      <td>NaN</td>\n",
       "      <td>NaN</td>\n",
       "    </tr>\n",
       "    <tr>\n",
       "      <th>219002.0</th>\n",
       "      <td>1.0</td>\n",
       "      <td>presidente, , brasil, bolsonaro, povo, novo, s...</td>\n",
       "      <td>NaN</td>\n",
       "      <td>NaN</td>\n",
       "    </tr>\n",
       "    <tr>\n",
       "      <th>219003.0</th>\n",
       "      <td>1.0</td>\n",
       "      <td>presidente, , brasil, bolsonaro, povo, novo, s...</td>\n",
       "      <td>NaN</td>\n",
       "      <td>NaN</td>\n",
       "    </tr>\n",
       "    <tr>\n",
       "      <th>219004.0</th>\n",
       "      <td>0.0</td>\n",
       "      <td>casa, quando, acabar, pandemia, gente, depois,...</td>\n",
       "      <td>NaN</td>\n",
       "      <td>NaN</td>\n",
       "    </tr>\n",
       "  </tbody>\n",
       "</table>\n",
       "<p>219005 rows × 4 columns</p>\n",
       "</div>"
      ],
      "text/plain": [
       "          Principal_Topico                                     Palavras_Chave  \\\n",
       "0.0                    1.0  presidente, , brasil, bolsonaro, povo, novo, s...   \n",
       "1.0                    1.0  presidente, , brasil, bolsonaro, povo, novo, s...   \n",
       "2.0                    2.0  bolsonaro, agora, contra, pandemia, isolamento...   \n",
       "3.0                    1.0  presidente, , brasil, bolsonaro, povo, novo, s...   \n",
       "4.0                    2.0  bolsonaro, agora, contra, pandemia, isolamento...   \n",
       "...                    ...                                                ...   \n",
       "219000.0               1.0  presidente, , brasil, bolsonaro, povo, novo, s...   \n",
       "219001.0               2.0  bolsonaro, agora, contra, pandemia, isolamento...   \n",
       "219002.0               1.0  presidente, , brasil, bolsonaro, povo, novo, s...   \n",
       "219003.0               1.0  presidente, , brasil, bolsonaro, povo, novo, s...   \n",
       "219004.0               0.0  casa, quando, acabar, pandemia, gente, depois,...   \n",
       "\n",
       "          Qtd_Tweets  Perc_Tweets  \n",
       "0.0          82197.0       0.3753  \n",
       "1.0          71850.0       0.3281  \n",
       "2.0          64958.0       0.2966  \n",
       "3.0              NaN          NaN  \n",
       "4.0              NaN          NaN  \n",
       "...              ...          ...  \n",
       "219000.0         NaN          NaN  \n",
       "219001.0         NaN          NaN  \n",
       "219002.0         NaN          NaN  \n",
       "219003.0         NaN          NaN  \n",
       "219004.0         NaN          NaN  \n",
       "\n",
       "[219005 rows x 4 columns]"
      ]
     },
     "execution_count": 34,
     "metadata": {},
     "output_type": "execute_result"
    }
   ],
   "source": [
    "# Numero de tweets por topico\n",
    "\n",
    "topic_counts = df_topic_sents_keywords['Principal_Topico'].value_counts()\n",
    "\n",
    "# Porcentagem de tweets por tópico\n",
    "topic_contribution = round(topic_counts/topic_counts.sum(), 4)\n",
    "\n",
    "# Número do tópico e suas palavras chave\n",
    "topic_num_keywords = df_topic_sents_keywords[['Principal_Topico', 'Palavras_Chave']]\n",
    "\n",
    "# Concatena as colunas\n",
    "df_dominant_topics = pd.concat([topic_num_keywords, topic_counts, topic_contribution], axis=1)\n",
    "\n",
    "# Renomeia as colunas\n",
    "df_dominant_topics.columns = ['Principal_Topico', 'Palavras_Chave', 'Qtd_Tweets', 'Perc_Tweets']\n",
    "\n",
    "# Mostra o DataFrame\n",
    "df_dominant_topics"
   ]
  },
  {
   "cell_type": "code",
   "execution_count": 35,
   "metadata": {},
   "outputs": [],
   "source": [
    "# Criando stopwords em português utilizando a biblioteca nltk\n",
    "import pt_core_news_sm\n",
    "nlp = pt_core_news_sm.load()\n",
    "pt_stopwords = sorted([token.text for token in nlp.vocab if token.is_stop])\n",
    "list_exclude = ['obrigado', 'bom', 'mal', 'nenhuma', 'maior',\n",
    "             'bem', 'não', 'máximo', 'boa', 'mais',\n",
    "               'bastante', 'certamente', 'certeza', 'contra',\n",
    "                'quarentena', 'coronavírus', 'presidente', 'impeachment', 'demitido', 'demitida']\n",
    "for word in list_exclude:\n",
    "    nlp.vocab[word].is_stop = False\n",
    "list_include = set(['o', 'a', 'tá', 'ta', 'ser', 'pro', 'to', 'tô', 'vc', 'você', 'voce', 'pra',\n",
    "                    'pq', 'é', 'vou', 'que','tão', 'gt', 'de', 'da', 'do', 'em', 'uma', 'lá',\n",
    "                    'já', 'no', 'para', 'na', 'com', 'um', 'minha', 'se', 'isso', 'por', 'vou',\n",
    "                    'os', 'isso', 'como', 'mesmo', 'tenho', 'aqui', 'ele', 'ela', 'quem', 'fazer',\n",
    "                    'eu', 'só', 'ai', 'mais', 'só', 'querer', 'https', 'ter', 'estar', 'ficar',\n",
    "                    'dos', 'das', 'vcs', 'tem', 'as', 'mas','ao'\n",
    "                    'tava', 'nao', 'sao', 'ja', 'so', 'nossa',\n",
    "                    'nosso', 'estao', 'tco', 'me', 'dia', 'te', 'ver', 'sera', 'porra', 'fez', 'ne',\n",
    "                    'kkk','kkkkkk', 'puta', 'kkkkkkkk', 'hj', 'afff', 'gbr', 'meu', 'cara', 'guri', 'cmg',\n",
    "                    'ctg', 'agr', 'pqp', 'vdd', 'eh', 'va', 'obg',\n",
    "                    'corona','virus','coronavirus','covid','covid19','19'\n",
    "                   'nem', 'numa', 'num', 'nuns', 'ces', 'voces', 'oce', 'oces', 'kkkk', 'vao', 'via',\n",
    "                    'hj', 'hoje', 'tudo', 'todo', 'toda',\n",
    "                    'vir', 'bem','ao','sem','ou','vai', 'dizer', 'entao', 'dizer', 'entao',\n",
    "                    'tao', 'tu', 'mim', 'mano', 'oq', 'pos', 'dm', 'dps',\n",
    "                    'coronavirusoutbreak', 'coronavirusPandemic', 'dar', 'vairus',\n",
    "                    'ainda', 'assim']\n",
    "                  )\n",
    "for w in list_include:\n",
    "    nlp.vocab[w].is_stop = True\n",
    "stop_words = sorted([token.text for token in nlp.vocab if token.is_stop])"
   ]
  },
  {
   "cell_type": "code",
   "execution_count": 40,
   "metadata": {},
   "outputs": [
    {
     "data": {
      "image/png": "[encoded data removed]",
      "text/plain": [
       "<Figure size 720x720 with 3 Axes>"
      ]
     },
     "metadata": {
      "needs_background": "light"
     },
     "output_type": "display_data"
    }
   ],
   "source": [
    "# Cria wordclouds\n",
    "\n",
    "cols = [color for name, color in mcolors.XKCD_COLORS.items()]\n",
    "\n",
    "cloud = WordCloud(stopwords=stop_words,\n",
    "                  background_color='white',\n",
    "                  width=2500,\n",
    "                  height=1800,\n",
    "                  max_words=20,\n",
    "                  colormap='tab10',\n",
    "                  color_func=lambda *args, **kwargs: cols[i],\n",
    "                  prefer_horizontal=1.0)\n",
    "\n",
    "topics = lda_model.show_topics(formatted=False)\n",
    "\n",
    "fig, axes = plt.subplots(1, 3, figsize=(10,10), sharex=True, sharey=True)\n",
    "\n",
    "for i, ax in enumerate(axes.flatten()):\n",
    "    fig.add_subplot(ax)\n",
    "    topic_words = dict(topics[i][1])\n",
    "    cloud.generate_from_frequencies(topic_words, max_font_size=600)\n",
    "    plt.gca().imshow(cloud)\n",
    "    plt.gca().set_title('Topic ' + str(i), fontdict=dict(size=16))\n",
    "    plt.gca().axis('off')\n",
    "\n",
    "\n",
    "plt.subplots_adjust(wspace=0, hspace=0)\n",
    "plt.axis('off')\n",
    "plt.margins(x=0, y=0)\n",
    "plt.tight_layout()\n",
    "plt.show()"
   ]
  },
  {
   "cell_type": "code",
   "execution_count": 41,
   "metadata": {},
   "outputs": [],
   "source": [
    "sent_topics_sorteddf_mallet.to_excel('keywords_0331.xlsx')"
   ]
  },
  {
   "cell_type": "code",
   "execution_count": null,
   "metadata": {},
   "outputs": [],
   "source": []
  }
 ],
 "metadata": {
  "kernelspec": {
   "display_name": "Python 3",
   "language": "python",
   "name": "python3"
  },
  "language_info": {
   "codemirror_mode": {
    "name": "ipython",
    "version": 3
   },
   "file_extension": ".py",
   "mimetype": "text/x-python",
   "name": "python",
   "nbconvert_exporter": "python",
   "pygments_lexer": "ipython3",
   "version": "3.7.6"
  }
 },
 "nbformat": 4,
 "nbformat_minor": 1
}
