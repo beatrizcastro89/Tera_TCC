{
 "cells": [
  {
   "cell_type": "markdown",
   "metadata": {
    "collapsed": true
   },
   "source": [
    "Análise do dia 01/04 através do modelo LDA."
   ]
  },
  {
   "cell_type": "code",
   "execution_count": 1,
   "metadata": {},
   "outputs": [],
   "source": [
    "# Importar bibliotecas\n",
    "\n",
    "# gerais\n",
    "import sys\n",
    "import os\n",
    "from pathlib import Path\n",
    "import re\n",
    "import numpy as np\n",
    "import pandas as pd\n",
    "from pprint import pprint\n",
    "from tqdm import tqdm\n",
    "from ast import literal_eval\n",
    "\n",
    "# Gensim\n",
    "import gensim, spacy, logging, warnings\n",
    "import gensim.corpora as corpora\n",
    "from gensim.utils import lemmatize, simple_preprocess\n",
    "from gensim.models import CoherenceModel\n",
    "from gensim.models.ldamulticore import LdaMulticore\n",
    "\n",
    "# NLTK Stop words\n",
    "import nltk\n",
    "from nltk.corpus import stopwords\n",
    "\n",
    "#plot\n",
    "import pyLDAvis\n",
    "import pyLDAvis.gensim\n",
    "import matplotlib.pyplot as plt\n",
    "import matplotlib.colors as mcolors\n",
    "%matplotlib inline\n",
    "from wordcloud import WordCloud, STOPWORDS"
   ]
  },
  {
   "cell_type": "code",
   "execution_count": 2,
   "metadata": {},
   "outputs": [],
   "source": [
    "# Criando stopwords em português utilizando a biblioteca nltk\n",
    "\n",
    "nlp = spacy.load(\"pt_core_news_sm\")\n",
    "pt_stopwords = sorted([token.text for token in nlp.vocab if token.is_stop])\n",
    "list_exclude = ['obrigado', 'bom', 'mal', 'nenhuma', 'maior', \n",
    "             'bem', 'não', 'máximo', 'boa', 'mais',\n",
    "               'bastante', 'certamente', 'certeza', 'contra',\n",
    "                'quarentena', 'coronavírus', 'presidente', 'impeachment', 'demitido', 'demitida']\n",
    "for word in list_exclude:\n",
    "    nlp.vocab[word].is_stop = False\n",
    "list_include = set(['o', 'a', 'tá', 'ta', 'ser', 'pro', 'to', 'tô', 'vc', 'você', 'voce', 'pra',\n",
    "                    'pq', 'é', 'vou', 'que','tão', 'gt', 'de', 'da', 'do', 'em', 'uma', 'lá',\n",
    "                    'já', 'no', 'para', 'na', 'com', 'um', 'minha', 'se', 'isso', 'por', 'vou',\n",
    "                    'os', 'isso', 'como', 'mesmo', 'tenho', 'aqui', 'ele', 'ela', 'quem', 'fazer',\n",
    "                    'eu', 'só', 'ai', 'mais', 'só', 'querer', 'https', 'ter', 'estar', 'ficar',\n",
    "                    'dos', 'das', 'vcs', 'jairbolsonaro', 'tava', 'nao', 'sao', 'ja', 'so', 'nossa',\n",
    "                    'nosso', 'estao', 'tco', 'me', 'dia', 'te', 'ver', 'sera', 'porra', 'fez', 'ne',\n",
    "                    'kkkkkk', 'puta', 'kkkkkkkk', 'hj', 'afff', 'gbr', 'meu', 'cara', 'guri', 'cmg',\n",
    "                    'ctg', 'agr', 'pqp', 'vdd', 'eh', 'va', 'fudeu', 'fuder', 'fodeu', 'foda', 'obg',\n",
    "                   'nem', 'numa', 'num', 'nuns', 'ces', 'voces', 'oce', 'oces', 'kkkk', 'vao', 'via',\n",
    "                    'hj', 'hoje', 'tudo', 'todo', 'toda', 'ir', 'vir', 'bem', 'sair', 'tao']\n",
    "                  )\n",
    "for w in list_include:\n",
    "    nlp.vocab[w].is_stop = True\n",
    "stop_words = sorted([token.text for token in nlp.vocab if token.is_stop])"
   ]
  },
  {
   "cell_type": "markdown",
   "metadata": {},
   "source": [
    "# Preparação dos dados"
   ]
  },
  {
   "cell_type": "code",
   "execution_count": 3,
   "metadata": {},
   "outputs": [],
   "source": [
    "# import dos dados\n",
    "\n",
    "df = pd.read_csv('0331_preprocessado.csv')"
   ]
  },
  {
   "cell_type": "code",
   "execution_count": 4,
   "metadata": {},
   "outputs": [],
   "source": [
    "# import dos tokens\n",
    "\n",
    "df_tokens = pd.read_csv('tokens_unicos_10k.csv')"
   ]
  },
  {
   "cell_type": "code",
   "execution_count": 5,
   "metadata": {},
   "outputs": [],
   "source": [
    "# criação de lista de tokens\n",
    "\n",
    "lista_token = []\n",
    "\n",
    "for row in range(0, len(df_tokens)):\n",
    "    lista_token.append(df_tokens.iloc[row,1])\n",
    "    \n",
    "lista_token = set(lista_token)"
   ]
  },
  {
   "cell_type": "code",
   "execution_count": 6,
   "metadata": {},
   "outputs": [],
   "source": [
    "# filtranso os tokens para aparecer apenas os 10 mil mais frequentes\n",
    "\n",
    "df['token2'] = df.token.apply(lambda x: str(list(set(literal_eval(x)).intersection(lista_token))))"
   ]
  },
  {
   "cell_type": "code",
   "execution_count": 7,
   "metadata": {},
   "outputs": [],
   "source": [
    "# função para reverter os tokens processados em lista de tuples\n",
    "\n",
    "def strip_characters(text):\n",
    "    t = re.sub(r'\\(|\\)|:|,|;|\\.|’|”|“|\\?|%|>|<|\\[|\\]', '', text)\n",
    "    t = re.sub(r'/', ' ', t)\n",
    "    t = t.replace(\"'\",'')\n",
    "    return t"
   ]
  },
  {
   "cell_type": "code",
   "execution_count": 8,
   "metadata": {},
   "outputs": [],
   "source": [
    "# aplica função em todos os tokens\n",
    "\n",
    "df['token2'] = df['token2'].apply(lambda x: strip_characters(x))\n",
    "df['token2'] = df['token2'].apply(lambda x: str(x).split(' '))"
   ]
  },
  {
   "cell_type": "code",
   "execution_count": 9,
   "metadata": {},
   "outputs": [],
   "source": [
    "# transforma os tokens em lista\n",
    "\n",
    "lista = list(df['token2'])"
   ]
  },
  {
   "cell_type": "code",
   "execution_count": 10,
   "metadata": {},
   "outputs": [],
   "source": [
    "# Build the bigram and trigram models\n",
    "\n",
    "bigram = gensim.models.Phrases(lista, min_count=5, threshold=100)\n",
    "bigram_mod = gensim.models.phrases.Phraser(bigram)\n",
    "\n",
    "trigram = gensim.models.Phrases(bigram[lista], threshold=100)\n",
    "trigram_mod = gensim.models.phrases.Phraser(trigram)"
   ]
  },
  {
   "cell_type": "code",
   "execution_count": 11,
   "metadata": {},
   "outputs": [],
   "source": [
    "# função para preprocessar palavras\n",
    "\n",
    "def process_words(texts, stop_words=stop_words, allowed_postags=['NOUN', 'ADJ', 'VERB', 'ADV']):\n",
    "    texts1 = [[word for word in simple_preprocess(str(doc)) if word not in stop_words] for doc in texts]\n",
    "    texts2 = [bigram_mod[doc] for doc in texts1]\n",
    "    texts3 = [trigram_mod[bigram_mod[doc]] for doc in texts2]\n",
    "    texts4 = [[word for word in simple_preprocess(str(doc)) if word not in stop_words] for doc in texts3]    \n",
    "    return texts4"
   ]
  },
  {
   "cell_type": "code",
   "execution_count": 12,
   "metadata": {},
   "outputs": [],
   "source": [
    "# Processing the abstract\n",
    "\n",
    "texto = process_words(lista)"
   ]
  },
  {
   "cell_type": "markdown",
   "metadata": {},
   "source": [
    "# Modelagem"
   ]
  },
  {
   "cell_type": "code",
   "execution_count": 13,
   "metadata": {},
   "outputs": [],
   "source": [
    "# Criar dicionário\n",
    "\n",
    "id2word = corpora.Dictionary(texto)"
   ]
  },
  {
   "cell_type": "code",
   "execution_count": 14,
   "metadata": {},
   "outputs": [],
   "source": [
    "# Criar o Corpus: A Frequência das palavras nos documentos\n",
    "\n",
    "corpus = [id2word.doc2bow(text) for text in texto]"
   ]
  },
  {
   "cell_type": "code",
   "execution_count": 15,
   "metadata": {},
   "outputs": [],
   "source": [
    "# Função para determinar a melhor quantidade de tópicos para a modelagem\n",
    "\n",
    "def compute_coherence_values(dictionary, corpus, texts, limit, start=2, step=5):\n",
    "    coherence_values = []\n",
    "    model_list = []\n",
    "    for num_topics in tqdm(range(start, limit, step)):\n",
    "        model = LdaMulticore(corpus, id2word=id2word, num_topics=10)\n",
    "        model_list.append(model)\n",
    "        coherencemodel = CoherenceModel(model=model, texts=texts, dictionary=dictionary, coherence='c_v')\n",
    "        coherence_values.append(coherencemodel.get_coherence())\n",
    "\n",
    "    return model_list, coherence_values"
   ]
  },
  {
   "cell_type": "code",
   "execution_count": 16,
   "metadata": {},
   "outputs": [
    {
     "name": "stderr",
     "output_type": "stream",
     "text": [
      "100%|██████████████████████████████████████████████████████████████████████████████████| 14/14 [10:58<00:00, 47.02s/it]\n"
     ]
    }
   ],
   "source": [
    "# Colocando parametros na função\n",
    "\n",
    "model_list, coherence_values = compute_coherence_values(dictionary=id2word, corpus=corpus, texts=texto, start=2, limit=30, step=2)"
   ]
  },
  {
   "cell_type": "code",
   "execution_count": 17,
   "metadata": {},
   "outputs": [
    {
     "data": {
      "image/png": "[encoded data removed]",
      "text/plain": [
       "<Figure size 432x288 with 1 Axes>"
      ]
     },
     "metadata": {
      "needs_background": "light"
     },
     "output_type": "display_data"
    }
   ],
   "source": [
    "# Mostrando visualmente a quantidade de tópicos\n",
    "\n",
    "limit=30; start=2; step=2;\n",
    "x = range(start, limit, step)\n",
    "plt.plot(x, coherence_values)\n",
    "plt.xlabel(\"Num Tópicos\")\n",
    "plt.ylabel(\"Score de Coerência\")\n",
    "plt.legend((\"Valores de Coerência\"), loc='best')\n",
    "plt.show()"
   ]
  },
  {
   "cell_type": "code",
   "execution_count": 18,
   "metadata": {},
   "outputs": [
    {
     "name": "stdout",
     "output_type": "stream",
     "text": [
      "A quantidade de tópicos = 2  tem um valor de coerência de  0.3068\n",
      "A quantidade de tópicos = 4  tem um valor de coerência de  0.2946\n",
      "A quantidade de tópicos = 6  tem um valor de coerência de  0.2921\n",
      "A quantidade de tópicos = 8  tem um valor de coerência de  0.3105\n",
      "A quantidade de tópicos = 10  tem um valor de coerência de  0.3106\n",
      "A quantidade de tópicos = 12  tem um valor de coerência de  0.3117\n",
      "A quantidade de tópicos = 14  tem um valor de coerência de  0.3158\n",
      "A quantidade de tópicos = 16  tem um valor de coerência de  0.305\n",
      "A quantidade de tópicos = 18  tem um valor de coerência de  0.277\n",
      "A quantidade de tópicos = 20  tem um valor de coerência de  0.28\n",
      "A quantidade de tópicos = 22  tem um valor de coerência de  0.3026\n",
      "A quantidade de tópicos = 24  tem um valor de coerência de  0.292\n",
      "A quantidade de tópicos = 26  tem um valor de coerência de  0.3121\n",
      "A quantidade de tópicos = 28  tem um valor de coerência de  0.3075\n"
     ]
    }
   ],
   "source": [
    "# Lista dos valores de coerência, para melhor identificar o ponto de inflexão do gráfico\n",
    "\n",
    "for m, cv in zip(x, coherence_values):\n",
    "    print(\"A quantidade de tópicos =\", m, \" tem um valor de coerência de \", round(cv, 4))"
   ]
  },
  {
   "cell_type": "markdown",
   "metadata": {},
   "source": [
    "Aqui conseguimos determinar a melhor quantidade de tópicos a serem analisados, que é 8 tópicos"
   ]
  },
  {
   "cell_type": "code",
   "execution_count": 30,
   "metadata": {},
   "outputs": [],
   "source": [
    "# Vamos agora construir de fato o modelo LDA\n",
    "\n",
    "lda_model = LdaMulticore(corpus=corpus,\n",
    "                        id2word=id2word,\n",
    "                        num_topics=4, \n",
    "                        random_state=42,\n",
    "                        chunksize=100,\n",
    "                        passes=10,\n",
    "                        per_word_topics=True)"
   ]
  },
  {
   "cell_type": "code",
   "execution_count": 31,
   "metadata": {},
   "outputs": [
    {
     "name": "stdout",
     "output_type": "stream",
     "text": [
      "\n",
      "Perplexidade:  -7.022800038232651\n"
     ]
    }
   ],
   "source": [
    "# Computar a perplexidade do modelo (quanto menor, melhor)\n",
    "\n",
    "print('\\nPerplexidade: ', lda_model.log_perplexity(corpus))"
   ]
  },
  {
   "cell_type": "code",
   "execution_count": 32,
   "metadata": {},
   "outputs": [
    {
     "name": "stdout",
     "output_type": "stream",
     "text": [
      "\n",
      "Score de Coerência:  0.30540904699089305\n"
     ]
    }
   ],
   "source": [
    "# Computar o Score de Coerência\n",
    "\n",
    "coherence_model_lda = CoherenceModel(model=lda_model, texts=lista, dictionary=id2word, coherence='c_v')\n",
    "coherence_lda = coherence_model_lda.get_coherence()\n",
    "print('\\nScore de Coerência: ', coherence_lda)"
   ]
  },
  {
   "cell_type": "code",
   "execution_count": 33,
   "metadata": {},
   "outputs": [
    {
     "data": {
      "text/html": [
       "\n",
       "<link rel=\"stylesheet\" type=\"text/css\" href=\"https://cdn.rawgit.com/bmabey/pyLDAvis/files/ldavis.v1.0.0.css\">\n",
       "\n",
       "\n",
       "<div id=\"ldavis_el372025966430581203938672183\"></div>\n",
       "<script type=\"text/javascript\">\n",
       "\n",
       "var ldavis_el372025966430581203938672183_data = {\"mdsDat\": {\"x\": [-0.1428309091908672, -0.29439627046474404, 0.16258874346788782, 0.27463843618772316], \"y\": [0.033585840637268716, 0.04232105453285955, -0.34005633421441717, 0.2641494390442889], \"topics\": [1, 2, 3, 4], \"cluster\": [1, 1, 1, 1], \"Freq\": [30.471595764160156, 29.46201515197754, 20.458255767822266, 19.608139038085938]}, \"tinfo\": {\"Term\": [\"presidente\", \"coronavirus\", \"corona\", \"bolsonaro\", \"casa\", \"pandemia\", \"virus\", \"depois\", \"quando\", \"coisa\", \"contra\", \"acabar\", \"prior\", \"oms\", \"merda\", \"pronunciamento\", \"bbb\", \"nunca\", \"mae\", \"isolamento\", \"brasil\", \"nada\", \"pai\", \"vez\", \"entao\", \"povo\", \"gente\", \"familia\", \"tempo\", \"tanto\", \"presidente\", \"contra\", \"oms\", \"pronunciamento\", \"isolamento\", \"social\", \"nacional\", \"jair\", \"ditadura\", \"rede\", \"golpe\", \"certo\", \"tv\", \"morrer\", \"maior\", \"marco\", \"vergonha\", \"matar\", \"forabolsonaro\", \"ministro\", \"parabens\", \"abril\", \"impeachment\", \"senhor\", \"amigo\", \"doria\", \"militar\", \"discurso\", \"tal\", \"news\", \"bolsonaro\", \"governo\", \"povo\", \"brasil\", \"deus\", \"falar\", \"globo\", \"ainda\", \"favor\", \"sempre\", \"agora\", \"novo\", \"muito\", \"coronavirus\", \"corona\", \"pandemia\", \"virus\", \"quando\", \"acabar\", \"tempo\", \"sim\", \"meio\", \"tambem\", \"crise\", \"mim\", \"preciso\", \"primeiro\", \"pos\", \"dinheiro\", \"voltar\", \"trabalhar\", \"trabalho\", \"caso\", \"pegar\", \"desde\", \"morte\", \"tarde\", \"ajudar\", \"deixar\", \"kkk\", \"igual\", \"covid\", \"apenas\", \"saude\", \"assim\", \"ainda\", \"passar\", \"muito\", \"vida\", \"novo\", \"logo\", \"mundo\", \"agora\", \"brasil\", \"gente\", \"dar\", \"casa\", \"depois\", \"prior\", \"nunca\", \"entao\", \"familia\", \"bilhao\", \"tanto\", \"ano\", \"manu\", \"foraprior\", \"cu\", \"tirar\", \"tu\", \"tomar\", \"medo\", \"demais\", \"eduardo\", \"kkkkkkk\", \"dps\", \"live\", \"ontem\", \"assistir\", \"mes\", \"dentro\", \"parar\", \"eua\", \"tbm\", \"twitter\", \"aula\", \"nada\", \"ninguem\", \"gente\", \"agora\", \"bolsonaro\", \"bbb\", \"pessoa\", \"muito\", \"coisa\", \"merda\", \"mae\", \"pai\", \"vez\", \"cabelo\", \"cada\", \"mano\", \"hora\", \"mal\", \"oq\", \"comer\", \"tipo\", \"filho\", \"qual\", \"lado\", \"mil\", \"vontade\", \"paredao\", \"final\", \"cabeca\", \"abner\", \"caralho\", \"quase\", \"galera\", \"volta\", \"unica\", \"segundo\", \"jeito\", \"comigo\", \"internet\", \"bbb\", \"gente\", \"mundo\", \"fim\", \"melhor\", \"brasileiro\", \"falar\", \"nada\", \"bolsonaro\", \"agora\"], \"Freq\": [27549.0, 19127.0, 18798.0, 35459.0, 10090.0, 11399.0, 8393.0, 5657.0, 6653.0, 4776.0, 6264.0, 6076.0, 4248.0, 4830.0, 3405.0, 4460.0, 5203.0, 3110.0, 3002.0, 3978.0, 7798.0, 4859.0, 2742.0, 2534.0, 2568.0, 5766.0, 7968.0, 2409.0, 3119.0, 2380.0, 27548.677734375, 6263.5048828125, 4829.38671875, 4459.73095703125, 3977.944580078125, 2443.667236328125, 2276.5361328125, 2058.092041015625, 1964.1187744140625, 1805.4425048828125, 1755.5731201171875, 1781.0172119140625, 1641.3350830078125, 1717.3857421875, 1672.31201171875, 1557.317138671875, 1511.705322265625, 1533.0037841796875, 1370.2078857421875, 1376.47509765625, 1309.021728515625, 1314.84130859375, 1243.4879150390625, 1200.8155517578125, 1222.9747314453125, 1148.3349609375, 1131.5299072265625, 1039.786865234375, 1092.783935546875, 1034.3758544921875, 29671.380859375, 3575.179443359375, 4443.2138671875, 5633.5107421875, 2718.091552734375, 2389.9384765625, 1465.1956787109375, 2286.559814453125, 1559.7545166015625, 1593.82666015625, 1896.3629150390625, 1623.1727294921875, 1573.7857666015625, 19126.44921875, 18797.3046875, 11398.2734375, 8392.78515625, 6652.904296875, 6075.4375, 3118.487548828125, 2608.25439453125, 2365.42822265625, 2374.84130859375, 2024.2232666015625, 1934.586181640625, 1795.0758056640625, 1753.2698974609375, 1484.9010009765625, 1512.86328125, 1480.7974853515625, 1495.386962890625, 1504.5152587890625, 1473.001708984375, 1371.8074951171875, 1391.7098388671875, 1279.3616943359375, 1284.4898681640625, 1225.510986328125, 1221.8421630859375, 1117.799560546875, 1140.8056640625, 1085.6480712890625, 1097.998291015625, 2566.8037109375, 2339.23046875, 2917.67333984375, 2101.389404296875, 2934.58935546875, 2129.972412109375, 2223.477294921875, 1645.06396484375, 2237.6416015625, 2308.21923828125, 2164.876708984375, 2124.3974609375, 1491.2867431640625, 10089.2197265625, 5656.3603515625, 4247.45458984375, 3110.114990234375, 2567.2802734375, 2409.139404296875, 2335.894775390625, 2379.424560546875, 2071.197021484375, 1954.46435546875, 1583.3692626953125, 1571.031982421875, 1558.1573486328125, 1496.7193603515625, 1428.6822509765625, 1410.9197998046875, 1388.7843017578125, 1339.2679443359375, 1226.746826171875, 1211.0477294921875, 1185.597412109375, 1211.7186279296875, 1155.7313232421875, 1164.3355712890625, 1155.1214599609375, 1067.317626953125, 1011.6607055664062, 982.926025390625, 978.463134765625, 952.2910766601562, 3233.49072265625, 1705.5501708984375, 2445.26904296875, 2379.190185546875, 3791.640625, 1646.3868408203125, 1259.4759521484375, 1322.8736572265625, 4775.5361328125, 3404.736572265625, 3001.335693359375, 2741.55078125, 2533.356201171875, 2265.47509765625, 2131.4228515625, 2052.0595703125, 1944.58544921875, 1882.099853515625, 1838.6611328125, 1835.9237060546875, 1846.2762451171875, 1796.865966796875, 1800.8369140625, 1817.5030517578125, 1679.599609375, 1566.065673828125, 1537.0474853515625, 1492.9111328125, 1479.734619140625, 1399.2789306640625, 1383.397216796875, 1326.4027099609375, 1280.0694580078125, 1190.2335205078125, 1124.9921875, 1151.57470703125, 1084.341064453125, 1008.1921997070312, 1012.6908569335938, 3557.040771484375, 3398.0400390625, 2446.12060546875, 1619.676025390625, 1832.1546630859375, 1609.498046875, 1709.6824951171875, 1625.222900390625, 1996.4111328125, 1513.293701171875], \"Total\": [27549.0, 19127.0, 18798.0, 35459.0, 10090.0, 11399.0, 8393.0, 5657.0, 6653.0, 4776.0, 6264.0, 6076.0, 4248.0, 4830.0, 3405.0, 4460.0, 5203.0, 3110.0, 3002.0, 3978.0, 7798.0, 4859.0, 2742.0, 2534.0, 2568.0, 5766.0, 7968.0, 2409.0, 3119.0, 2380.0, 27549.421875, 6264.25244140625, 4830.12060546875, 4460.4638671875, 3978.6884765625, 2444.419921875, 2277.27001953125, 2058.824951171875, 1964.8568115234375, 1806.18798828125, 1756.30615234375, 1781.76953125, 1642.077880859375, 1718.1641845703125, 1673.073486328125, 1558.07763671875, 1512.455078125, 1533.7681884765625, 1370.943359375, 1377.2154541015625, 1309.7652587890625, 1315.614990234375, 1244.2218017578125, 1201.5638427734375, 1223.74755859375, 1149.0799560546875, 1132.2685546875, 1040.523681640625, 1093.5615234375, 1035.1126708984375, 35459.6484375, 3987.214111328125, 5766.3642578125, 7798.923828125, 4097.81005859375, 4100.10302734375, 1740.7669677734375, 5204.78125, 2328.215087890625, 2547.9775390625, 8097.06640625, 3847.1865234375, 5831.533203125, 19127.28515625, 18798.13671875, 11399.1123046875, 8393.61328125, 6653.7412109375, 6076.2646484375, 3119.34033203125, 2609.115966796875, 2366.2666015625, 2375.696044921875, 2025.0693359375, 1935.4305419921875, 1795.9462890625, 1754.122802734375, 1485.7305908203125, 1513.7161865234375, 1481.6346435546875, 1496.23486328125, 1505.369873046875, 1473.8433837890625, 1372.6412353515625, 1392.561279296875, 1280.1934814453125, 1285.341064453125, 1226.3480224609375, 1222.6998291015625, 1118.6318359375, 1141.66796875, 1086.4874267578125, 1098.857177734375, 3530.071533203125, 3390.410888671875, 5204.78125, 3150.2861328125, 5831.533203125, 3455.6376953125, 3847.1865234375, 2299.15234375, 5657.18701171875, 8097.06640625, 7798.923828125, 7968.009765625, 2669.277587890625, 10090.0126953125, 5657.15087890625, 4248.240234375, 3110.91064453125, 2568.084716796875, 2409.935791015625, 2336.6728515625, 2380.22216796875, 2071.9921875, 1955.244873046875, 1584.1484375, 1571.8221435546875, 1558.9610595703125, 1497.515869140625, 1429.484375, 1411.7239990234375, 1389.585205078125, 1340.053466796875, 1227.5322265625, 1211.8314208984375, 1186.38916015625, 1212.5411376953125, 1156.522216796875, 1165.1339111328125, 1155.919921875, 1068.122802734375, 1012.4677734375, 983.7196655273438, 979.2601318359375, 953.0844116210938, 4859.24755859375, 2135.07568359375, 7968.009765625, 8097.06640625, 35459.6484375, 5203.94091796875, 1963.229248046875, 5831.533203125, 4776.3115234375, 3405.512939453125, 3002.109375, 2742.318603515625, 2534.135009765625, 2266.237060546875, 2132.2001953125, 2052.829345703125, 1945.3642578125, 1882.87841796875, 1839.4248046875, 1836.6962890625, 1847.0615234375, 1797.64404296875, 1801.6177978515625, 1818.2955322265625, 1680.3780517578125, 1566.8363037109375, 1537.812744140625, 1493.6790771484375, 1480.5050048828125, 1400.045654296875, 1384.1689453125, 1327.1768798828125, 1280.842529296875, 1191.0208740234375, 1125.7611083984375, 1152.3638916015625, 1085.1265869140625, 1008.9539794921875, 1013.4662475585938, 5203.94091796875, 7968.009765625, 5657.18701171875, 2658.59765625, 3668.6103515625, 3026.1923828125, 4100.10302734375, 4859.24755859375, 35459.6484375, 8097.06640625], \"Category\": [\"Default\", \"Default\", \"Default\", \"Default\", \"Default\", \"Default\", \"Default\", \"Default\", \"Default\", \"Default\", \"Default\", \"Default\", \"Default\", \"Default\", \"Default\", \"Default\", \"Default\", \"Default\", \"Default\", \"Default\", \"Default\", \"Default\", \"Default\", \"Default\", \"Default\", \"Default\", \"Default\", \"Default\", \"Default\", \"Default\", \"Topic1\", \"Topic1\", \"Topic1\", \"Topic1\", \"Topic1\", \"Topic1\", \"Topic1\", \"Topic1\", \"Topic1\", \"Topic1\", \"Topic1\", \"Topic1\", \"Topic1\", \"Topic1\", \"Topic1\", \"Topic1\", \"Topic1\", \"Topic1\", \"Topic1\", \"Topic1\", \"Topic1\", \"Topic1\", \"Topic1\", \"Topic1\", \"Topic1\", \"Topic1\", \"Topic1\", \"Topic1\", \"Topic1\", \"Topic1\", \"Topic1\", \"Topic1\", \"Topic1\", \"Topic1\", \"Topic1\", \"Topic1\", \"Topic1\", \"Topic1\", \"Topic1\", \"Topic1\", \"Topic1\", \"Topic1\", \"Topic1\", \"Topic2\", \"Topic2\", \"Topic2\", \"Topic2\", \"Topic2\", \"Topic2\", \"Topic2\", \"Topic2\", \"Topic2\", \"Topic2\", \"Topic2\", \"Topic2\", \"Topic2\", \"Topic2\", \"Topic2\", \"Topic2\", \"Topic2\", \"Topic2\", \"Topic2\", \"Topic2\", \"Topic2\", \"Topic2\", \"Topic2\", \"Topic2\", \"Topic2\", \"Topic2\", \"Topic2\", \"Topic2\", \"Topic2\", \"Topic2\", \"Topic2\", \"Topic2\", \"Topic2\", \"Topic2\", \"Topic2\", \"Topic2\", \"Topic2\", \"Topic2\", \"Topic2\", \"Topic2\", \"Topic2\", \"Topic2\", \"Topic2\", \"Topic3\", \"Topic3\", \"Topic3\", \"Topic3\", \"Topic3\", \"Topic3\", \"Topic3\", \"Topic3\", \"Topic3\", \"Topic3\", \"Topic3\", \"Topic3\", \"Topic3\", \"Topic3\", \"Topic3\", \"Topic3\", \"Topic3\", \"Topic3\", \"Topic3\", \"Topic3\", \"Topic3\", \"Topic3\", \"Topic3\", \"Topic3\", \"Topic3\", \"Topic3\", \"Topic3\", \"Topic3\", \"Topic3\", \"Topic3\", \"Topic3\", \"Topic3\", \"Topic3\", \"Topic3\", \"Topic3\", \"Topic3\", \"Topic3\", \"Topic3\", \"Topic4\", \"Topic4\", \"Topic4\", \"Topic4\", \"Topic4\", \"Topic4\", \"Topic4\", \"Topic4\", \"Topic4\", \"Topic4\", \"Topic4\", \"Topic4\", \"Topic4\", \"Topic4\", \"Topic4\", \"Topic4\", \"Topic4\", \"Topic4\", \"Topic4\", \"Topic4\", \"Topic4\", \"Topic4\", \"Topic4\", \"Topic4\", \"Topic4\", \"Topic4\", \"Topic4\", \"Topic4\", \"Topic4\", \"Topic4\", \"Topic4\", \"Topic4\", \"Topic4\", \"Topic4\", \"Topic4\", \"Topic4\", \"Topic4\", \"Topic4\", \"Topic4\", \"Topic4\", \"Topic4\"], \"logprob\": [30.0, 29.0, 28.0, 27.0, 26.0, 25.0, 24.0, 23.0, 22.0, 21.0, 20.0, 19.0, 18.0, 17.0, 16.0, 15.0, 14.0, 13.0, 12.0, 11.0, 10.0, 9.0, 8.0, 7.0, 6.0, 5.0, 4.0, 3.0, 2.0, 1.0, -2.409600019454956, -3.8907999992370605, -4.1508002281188965, -4.230400085449219, -4.344799995422363, -4.831999778747559, -4.902900218963623, -5.003799915313721, -5.05049991607666, -5.134699821472168, -5.162700176239014, -5.1483001708984375, -5.230000019073486, -5.184700012207031, -5.211299896240234, -5.282599925994873, -5.312300205230713, -5.298299789428711, -5.410600185394287, -5.406000137329102, -5.456299781799316, -5.4517998695373535, -5.507599830627441, -5.542500019073486, -5.524199962615967, -5.587200164794922, -5.6020002365112305, -5.686500072479248, -5.6367998123168945, -5.691699981689453, -2.3352999687194824, -4.451499938964844, -4.2342000007629395, -3.996799945831299, -4.725599765777588, -4.854300022125244, -5.343500137329102, -4.898499965667725, -5.281000137329102, -5.259399890899658, -5.085599899291992, -5.241099834442139, -5.271999835968018, -2.740799903869629, -2.7581000328063965, -3.2583999633789062, -3.564500093460083, -3.796799898147583, -3.8875999450683594, -4.554500102996826, -4.7332000732421875, -4.830900192260742, -4.826900005340576, -4.986700057983398, -5.031899929046631, -5.106800079345703, -5.13040018081665, -5.296500205993652, -5.2778000831604, -5.299300193786621, -5.2895002365112305, -5.283400058746338, -5.304500102996826, -5.375699996948242, -5.361299991607666, -5.445499897003174, -5.441500186920166, -5.488500118255615, -5.491499900817871, -5.58050012588501, -5.560100078582764, -5.6097002029418945, -5.598299980163574, -4.749199867248535, -4.8420000076293945, -4.621099948883057, -4.94920015335083, -4.615300178527832, -4.935699939727783, -4.8927998542785645, -5.1940999031066895, -4.88640022277832, -4.855400085449219, -4.91949987411499, -4.938300132751465, -5.292200088500977, -3.015700101852417, -3.5943000316619873, -3.8808000087738037, -4.192500114440918, -4.384300231933594, -4.44789981842041, -4.478700160980225, -4.460299968719482, -4.598999977111816, -4.6570000648498535, -4.867599964141846, -4.875400066375732, -4.883600234985352, -4.923799991607666, -4.970399856567383, -4.982900142669678, -4.998700141906738, -5.034999847412109, -5.122799873352051, -5.1356000900268555, -5.156899929046631, -5.1350998878479, -5.182400226593018, -5.175000190734863, -5.1828999519348145, -5.26200008392334, -5.315499782562256, -5.344299793243408, -5.348899841308594, -5.375999927520752, -4.153600215911865, -4.7932000160217285, -4.433000087738037, -4.460400104522705, -3.99429988861084, -4.828499794006348, -5.096399784088135, -5.047299861907959, -3.7211999893188477, -4.059500217437744, -4.1855998039245605, -4.276199817657471, -4.355100154876709, -4.466899871826172, -4.527900218963623, -4.565800189971924, -4.61959981918335, -4.652299880981445, -4.675600051879883, -4.67710018157959, -4.671500205993652, -4.698599815368652, -4.696400165557861, -4.68720006942749, -4.76609992980957, -4.836100101470947, -4.854800224304199, -4.883999824523926, -4.8927998542785645, -4.948699951171875, -4.960100173950195, -5.002200126647949, -5.037799835205078, -5.110499858856201, -5.166900157928467, -5.143599987030029, -5.203700065612793, -5.276500225067139, -5.27209997177124, -4.0157999992370605, -4.061500072479248, -4.390200138092041, -4.802499771118164, -4.679200172424316, -4.808800220489502, -4.7484002113342285, -4.798999786376953, -4.593299865722656, -4.8703999519348145], \"loglift\": [30.0, 29.0, 28.0, 27.0, 26.0, 25.0, 24.0, 23.0, 22.0, 21.0, 20.0, 19.0, 18.0, 17.0, 16.0, 15.0, 14.0, 13.0, 12.0, 11.0, 10.0, 9.0, 8.0, 7.0, 6.0, 5.0, 4.0, 3.0, 2.0, 1.0, 1.1883000135421753, 1.1883000135421753, 1.1881999969482422, 1.1881999969482422, 1.1881999969482422, 1.188099980354309, 1.188099980354309, 1.187999963760376, 1.187999963760376, 1.187999963760376, 1.187999963760376, 1.187999963760376, 1.1878999471664429, 1.1878999471664429, 1.1878999471664429, 1.1878999471664429, 1.1878999471664429, 1.1878999471664429, 1.1878000497817993, 1.1878000497817993, 1.1878000497817993, 1.1878000497817993, 1.1878000497817993, 1.1878000497817993, 1.1877000331878662, 1.1877000331878662, 1.1877000331878662, 1.1877000331878662, 1.1877000331878662, 1.1877000331878662, 1.010200023651123, 1.079300045967102, 0.9276999831199646, 0.863099992275238, 0.777899980545044, 0.6485999822616577, 1.0160000324249268, 0.36579999327659607, 0.7878000140190125, 0.7192000150680542, -0.2632000148296356, 0.3253999948501587, -0.12139999866485596, 1.222000002861023, 1.222000002861023, 1.222000002861023, 1.222000002861023, 1.2218999862670898, 1.2218999862670898, 1.2217999696731567, 1.2216999530792236, 1.2216999530792236, 1.2216999530792236, 1.2216999530792236, 1.22160005569458, 1.22160005569458, 1.22160005569458, 1.221500039100647, 1.221500039100647, 1.221500039100647, 1.221500039100647, 1.221500039100647, 1.221500039100647, 1.221500039100647, 1.221500039100647, 1.2214000225067139, 1.2214000225067139, 1.2214000225067139, 1.2214000225067139, 1.2213000059127808, 1.2213000059127808, 1.2213000059127808, 1.2213000059127808, 0.9034000039100647, 0.8508999943733215, 0.6432999968528748, 0.8172000050544739, 0.5353999733924866, 0.7382000088691711, 0.673799991607666, 0.8873000144958496, 0.2946000099182129, -0.032999999821186066, -0.05959999933838844, -0.09989999979734421, 0.6399000287055969, 1.5866999626159668, 1.5865999460220337, 1.5865999460220337, 1.5865000486373901, 1.5865000486373901, 1.5865000486373901, 1.5865000486373901, 1.586400032043457, 1.586400032043457, 1.586400032043457, 1.586300015449524, 1.586300015449524, 1.586300015449524, 1.586300015449524, 1.5861999988555908, 1.5861999988555908, 1.5861999988555908, 1.5861999988555908, 1.5860999822616577, 1.5860999822616577, 1.5860999822616577, 1.5860999822616577, 1.5860999822616577, 1.5860999822616577, 1.5860999822616577, 1.5859999656677246, 1.5859999656677246, 1.5859999656677246, 1.5859999656677246, 1.5859999656677246, 1.1794999837875366, 1.3622000217437744, 0.40549999475479126, 0.3619999885559082, -0.6488000154495239, 0.4359999895095825, 1.142899990081787, 0.10329999774694443, 1.62909996509552, 1.628999948501587, 1.628999948501587, 1.6289000511169434, 1.6289000511169434, 1.6289000511169434, 1.6289000511169434, 1.6289000511169434, 1.6288000345230103, 1.6288000345230103, 1.6288000345230103, 1.6288000345230103, 1.6288000345230103, 1.6288000345230103, 1.6288000345230103, 1.6288000345230103, 1.6288000345230103, 1.6287000179290771, 1.6287000179290771, 1.6287000179290771, 1.6287000179290771, 1.6287000179290771, 1.6287000179290771, 1.628600001335144, 1.628600001335144, 1.628600001335144, 1.628499984741211, 1.628499984741211, 1.628499984741211, 1.628499984741211, 1.628499984741211, 1.2487000226974487, 0.7770000100135803, 0.7907999753952026, 1.1337000131607056, 0.9348999857902527, 0.9977999925613403, 0.7544999718666077, 0.5339999794960022, -1.2477999925613403, -0.04800000041723251]}, \"token.table\": {\"Topic\": [4, 1, 2, 1, 2, 3, 4, 1, 2, 2, 1, 3, 2, 1, 2, 3, 3, 3, 4, 3, 1, 3, 4, 1, 2, 1, 3, 4, 4, 4, 4, 4, 3, 2, 1, 4, 4, 4, 1, 2, 2, 2, 2, 3, 1, 2, 2, 3, 3, 3, 2, 1, 2, 2, 1, 1, 1, 3, 3, 3, 3, 1, 4, 3, 1, 2, 4, 1, 4, 4, 1, 3, 4, 2, 3, 4, 1, 3, 1, 1, 2, 4, 2, 1, 4, 1, 1, 4, 2, 3, 4, 3, 1, 2, 4, 4, 1, 4, 4, 3, 1, 1, 3, 2, 1, 3, 4, 4, 3, 4, 1, 2, 1, 1, 2, 1, 2, 3, 2, 3, 4, 1, 3, 4, 1, 1, 3, 1, 2, 3, 1, 3, 4, 4, 2, 1, 3, 4, 2, 3, 2, 2, 3, 2, 1, 4, 2, 1, 2, 3, 1, 4, 2, 4, 1, 1, 2, 4, 1, 3, 4, 1, 2, 1, 1, 2, 3, 2, 3, 2, 4, 3, 3, 2, 2, 3, 1, 3, 4, 1, 4, 2, 3, 4, 2, 4, 2, 4], \"Freq\": [0.9992531538009644, 0.9995325207710266, 0.9997918605804443, 0.23415887355804443, 0.2850415110588074, 0.293810099363327, 0.18685780465602875, 0.4394036829471588, 0.5606383681297302, 0.9997162222862244, 0.999389111995697, 0.9995211362838745, 0.9992199540138245, 0.3099919259548187, 0.6898868680000305, 0.9995484352111816, 0.9988622069358826, 0.3162987530231476, 0.6835204362869263, 0.9997120499610901, 0.8367539048194885, 0.1069384515285492, 0.05628933385014534, 0.722407341003418, 0.2776024043560028, 0.24816663563251495, 0.2197480946779251, 0.5316912531852722, 0.9996588826179504, 0.999454140663147, 0.9994370937347412, 0.9991554617881775, 0.9998996257781982, 0.9994277954101562, 0.9995681047439575, 0.9999347925186157, 0.9996209144592285, 0.999054491519928, 0.9999597072601318, 0.999939501285553, 0.9999328255653381, 0.9995513558387756, 0.9994719624519348, 0.999476969242096, 0.44094327092170715, 0.5585780739784241, 0.9994276165962219, 0.9995788931846619, 0.999204158782959, 0.9997965693473816, 0.9995969533920288, 0.6632810831069946, 0.3365212082862854, 0.999526858329773, 0.9994966983795166, 0.9995639324188232, 0.9990601539611816, 0.9993138909339905, 0.9992138743400574, 0.9995776414871216, 0.999538004398346, 0.5829122066497803, 0.4170626997947693, 0.9996116757392883, 0.6700412034988403, 0.3298664391040802, 0.9996417164802551, 0.39043140411376953, 0.6093438267707825, 0.9995453953742981, 0.9993118643760681, 0.9992750287055969, 0.9993422031402588, 0.2665659487247467, 0.3068520426750183, 0.4264552891254425, 0.8415830731391907, 0.15797634422779083, 0.999825656414032, 0.8966159820556641, 0.10333029180765152, 0.9998127818107605, 0.9994149208068848, 0.9990180134773254, 0.9995399713516235, 0.999826967716217, 0.9995993375778198, 0.9989618062973022, 0.9994351863861084, 0.9995664358139038, 0.9998374581336975, 0.999671995639801, 0.02827128954231739, 0.7154811024665833, 0.25618135929107666, 0.9996304512023926, 0.9993583559989929, 0.999533474445343, 0.9995959997177124, 0.9993633031845093, 0.9993083477020264, 0.9994991421699524, 0.9994871616363525, 0.999464750289917, 0.2878473997116089, 0.21288715302944183, 0.49937164783477783, 0.9998493790626526, 0.9990267753601074, 0.9997749924659729, 0.9997628331184387, 0.9997775554656982, 0.9991174340248108, 0.9993224143981934, 0.9990677237510681, 0.26991185545921326, 0.5032981634140015, 0.22687001526355743, 0.3956029713153839, 0.17199361324310303, 0.4323703646659851, 0.9998814463615417, 0.6653293371200562, 0.33441391587257385, 0.9989250898361206, 0.2009296417236328, 0.7990348935127258, 0.4218667447566986, 0.5778248310089111, 0.9997072815895081, 0.9997680187225342, 0.9995537400245667, 0.9997690320014954, 0.9998838305473328, 0.9999024271965027, 0.9994157552719116, 0.9989488124847412, 0.9994714856147766, 0.6669235229492188, 0.3326681852340698, 0.9995328187942505, 0.35808348655700684, 0.6412903666496277, 0.999508261680603, 0.7705028057098389, 0.22943399846553802, 0.9994730949401855, 0.9999846816062927, 0.9993599057197571, 0.9997080564498901, 0.9998959898948669, 0.9996570944786072, 0.9998885989189148, 0.9991132616996765, 0.9993422627449036, 0.272799015045166, 0.7271807193756104, 0.99968421459198, 0.6255941987037659, 0.18916964530944824, 0.18524496257305145, 0.9995307326316833, 0.9995722770690918, 0.9998282194137573, 0.99948650598526, 0.999707043170929, 0.99948650598526, 0.9989566206932068, 0.9992684125900269, 0.9995703101158142, 0.9994252920150757, 0.9993835091590881, 0.9996611475944519, 0.9991747140884399, 0.9997543096542358, 0.999655544757843, 0.9993435740470886, 0.9987131953239441, 0.9993239045143127, 0.9996991157531738, 0.9995521306991577, 0.6163840889930725, 0.19070285558700562, 0.19272853434085846, 0.9999269247055054, 0.9991428852081299, 0.999571681022644, 0.9994662404060364], \"Term\": [\"abner\", \"abril\", \"acabar\", \"agora\", \"agora\", \"agora\", \"agora\", \"ainda\", \"ainda\", \"ajudar\", \"amigo\", \"ano\", \"apenas\", \"assim\", \"assim\", \"assistir\", \"aula\", \"bbb\", \"bbb\", \"bilhao\", \"bolsonaro\", \"bolsonaro\", \"bolsonaro\", \"brasil\", \"brasil\", \"brasileiro\", \"brasileiro\", \"brasileiro\", \"cabeca\", \"cabelo\", \"cada\", \"caralho\", \"casa\", \"caso\", \"certo\", \"coisa\", \"comer\", \"comigo\", \"contra\", \"corona\", \"coronavirus\", \"covid\", \"crise\", \"cu\", \"dar\", \"dar\", \"deixar\", \"demais\", \"dentro\", \"depois\", \"desde\", \"deus\", \"deus\", \"dinheiro\", \"discurso\", \"ditadura\", \"doria\", \"dps\", \"eduardo\", \"entao\", \"eua\", \"falar\", \"falar\", \"familia\", \"favor\", \"favor\", \"filho\", \"fim\", \"fim\", \"final\", \"forabolsonaro\", \"foraprior\", \"galera\", \"gente\", \"gente\", \"gente\", \"globo\", \"globo\", \"golpe\", \"governo\", \"governo\", \"hora\", \"igual\", \"impeachment\", \"internet\", \"isolamento\", \"jair\", \"jeito\", \"kkk\", \"kkkkkkk\", \"lado\", \"live\", \"logo\", \"logo\", \"logo\", \"mae\", \"maior\", \"mal\", \"mano\", \"manu\", \"marco\", \"matar\", \"medo\", \"meio\", \"melhor\", \"melhor\", \"melhor\", \"merda\", \"mes\", \"mil\", \"militar\", \"mim\", \"ministro\", \"morrer\", \"morte\", \"muito\", \"muito\", \"muito\", \"mundo\", \"mundo\", \"mundo\", \"nacional\", \"nada\", \"nada\", \"news\", \"ninguem\", \"ninguem\", \"novo\", \"novo\", \"nunca\", \"oms\", \"ontem\", \"oq\", \"pai\", \"pandemia\", \"parabens\", \"parar\", \"paredao\", \"passar\", \"passar\", \"pegar\", \"pessoa\", \"pessoa\", \"pos\", \"povo\", \"povo\", \"preciso\", \"presidente\", \"primeiro\", \"prior\", \"pronunciamento\", \"qual\", \"quando\", \"quase\", \"rede\", \"saude\", \"saude\", \"segundo\", \"sempre\", \"sempre\", \"sempre\", \"senhor\", \"sim\", \"social\", \"tal\", \"tambem\", \"tanto\", \"tarde\", \"tbm\", \"tempo\", \"tipo\", \"tirar\", \"tomar\", \"trabalhar\", \"trabalho\", \"tu\", \"tv\", \"twitter\", \"unica\", \"vergonha\", \"vez\", \"vida\", \"vida\", \"vida\", \"virus\", \"volta\", \"voltar\", \"vontade\"]}, \"R\": 30, \"lambda.step\": 0.01, \"plot.opts\": {\"xlab\": \"PC1\", \"ylab\": \"PC2\"}, \"topic.order\": [3, 1, 2, 4]};\n",
       "\n",
       "function LDAvis_load_lib(url, callback){\n",
       "  var s = document.createElement('script');\n",
       "  s.src = url;\n",
       "  s.async = true;\n",
       "  s.onreadystatechange = s.onload = callback;\n",
       "  s.onerror = function(){console.warn(\"failed to load library \" + url);};\n",
       "  document.getElementsByTagName(\"head\")[0].appendChild(s);\n",
       "}\n",
       "\n",
       "if(typeof(LDAvis) !== \"undefined\"){\n",
       "   // already loaded: just create the visualization\n",
       "   !function(LDAvis){\n",
       "       new LDAvis(\"#\" + \"ldavis_el372025966430581203938672183\", ldavis_el372025966430581203938672183_data);\n",
       "   }(LDAvis);\n",
       "}else if(typeof define === \"function\" && define.amd){\n",
       "   // require.js is available: use it to load d3/LDAvis\n",
       "   require.config({paths: {d3: \"https://cdnjs.cloudflare.com/ajax/libs/d3/3.5.5/d3.min\"}});\n",
       "   require([\"d3\"], function(d3){\n",
       "      window.d3 = d3;\n",
       "      LDAvis_load_lib(\"https://cdn.rawgit.com/bmabey/pyLDAvis/files/ldavis.v1.0.0.js\", function(){\n",
       "        new LDAvis(\"#\" + \"ldavis_el372025966430581203938672183\", ldavis_el372025966430581203938672183_data);\n",
       "      });\n",
       "    });\n",
       "}else{\n",
       "    // require.js not available: dynamically load d3 & LDAvis\n",
       "    LDAvis_load_lib(\"https://cdnjs.cloudflare.com/ajax/libs/d3/3.5.5/d3.min.js\", function(){\n",
       "         LDAvis_load_lib(\"https://cdn.rawgit.com/bmabey/pyLDAvis/files/ldavis.v1.0.0.js\", function(){\n",
       "                 new LDAvis(\"#\" + \"ldavis_el372025966430581203938672183\", ldavis_el372025966430581203938672183_data);\n",
       "            })\n",
       "         });\n",
       "}\n",
       "</script>"
      ],
      "text/plain": [
       "PreparedData(topic_coordinates=              x         y  topics  cluster       Freq\n",
       "topic                                                \n",
       "2     -0.142831  0.033586       1        1  30.471596\n",
       "0     -0.294396  0.042321       2        1  29.462015\n",
       "1      0.162589 -0.340056       3        1  20.458256\n",
       "3      0.274638  0.264149       4        1  19.608139, topic_info=            Term          Freq         Total Category  logprob  loglift\n",
       "1     presidente  27549.000000  27549.000000  Default  30.0000  30.0000\n",
       "46   coronavirus  19127.000000  19127.000000  Default  29.0000  29.0000\n",
       "39        corona  18798.000000  18798.000000  Default  28.0000  28.0000\n",
       "2      bolsonaro  35459.000000  35459.000000  Default  27.0000  27.0000\n",
       "463         casa  10090.000000  10090.000000  Default  26.0000  26.0000\n",
       "..           ...           ...           ...      ...      ...      ...\n",
       "263   brasileiro   1609.498047   3026.192383   Topic4  -4.8088   0.9978\n",
       "360        falar   1709.682495   4100.103027   Topic4  -4.7484   0.7545\n",
       "254         nada   1625.222900   4859.247559   Topic4  -4.7990   0.5340\n",
       "2      bolsonaro   1996.411133  35459.648438   Topic4  -4.5933  -1.2478\n",
       "136        agora   1513.293701   8097.066406   Topic4  -4.8704  -0.0480\n",
       "\n",
       "[195 rows x 6 columns], token_table=      Topic      Freq     Term\n",
       "term                          \n",
       "533       4  0.999253    abner\n",
       "387       1  0.999533    abril\n",
       "96        2  0.999792   acabar\n",
       "136       1  0.234159    agora\n",
       "136       2  0.285042    agora\n",
       "...     ...       ...      ...\n",
       "389       4  0.192729     vida\n",
       "42        2  0.999927    virus\n",
       "340       4  0.999143    volta\n",
       "156       2  0.999572   voltar\n",
       "364       4  0.999466  vontade\n",
       "\n",
       "[188 rows x 3 columns], R=30, lambda_step=0.01, plot_opts={'xlab': 'PC1', 'ylab': 'PC2'}, topic_order=[3, 1, 2, 4])"
      ]
     },
     "execution_count": 33,
     "metadata": {},
     "output_type": "execute_result"
    }
   ],
   "source": [
    "# Visualização dos tópicos em clusters\n",
    "\n",
    "pyLDAvis.enable_notebook()\n",
    "vis = pyLDAvis.gensim.prepare(lda_model, corpus, id2word)\n",
    "vis"
   ]
  },
  {
   "cell_type": "code",
   "execution_count": 41,
   "metadata": {},
   "outputs": [
    {
     "name": "stdout",
     "output_type": "stream",
     "text": [
      "[(0,\n",
      "  '0.025*\"cada\" + 0.024*\"mano\" + 0.022*\"comer\" + 0.019*\"dps\" + 0.019*\"vez\" + '\n",
      "  '0.019*\"melhor\" + 0.017*\"presidente\" + 0.014*\"nada\" + 0.014*\"casa\" + '\n",
      "  '0.012*\"entao\"'),\n",
      " (1,\n",
      "  '0.200*\"bolsonaro\" + 0.030*\"merda\" + 0.030*\"prior\" + 0.024*\"pronunciamento\" '\n",
      "  '+ 0.023*\"falar\" + 0.018*\"foraprior\" + 0.015*\"eduardo\" + 0.013*\"manu\" + '\n",
      "  '0.012*\"tv\" + 0.010*\"bbb\"'),\n",
      " (2,\n",
      "  '0.040*\"bbb\" + 0.029*\"coronavirus\" + 0.024*\"bilhao\" + 0.018*\"pandemia\" + '\n",
      "  '0.015*\"muito\" + 0.014*\"paredao\" + 0.014*\"gente\" + 0.014*\"brasil\" + '\n",
      "  '0.013*\"oq\" + 0.010*\"tirar\"'),\n",
      " (3,\n",
      "  '0.122*\"corona\" + 0.066*\"coronavirus\" + 0.061*\"virus\" + 0.034*\"pandemia\" + '\n",
      "  '0.014*\"brasil\" + 0.013*\"mundo\" + 0.011*\"agora\" + 0.010*\"saude\" + '\n",
      "  '0.009*\"novo\" + 0.009*\"pegar\"'),\n",
      " (4,\n",
      "  '0.065*\"acabar\" + 0.060*\"quando\" + 0.054*\"coronavirus\" + 0.020*\"casa\" + '\n",
      "  '0.018*\"cabelo\" + 0.016*\"alguem\" + 0.012*\"final\" + 0.011*\"primeiro\" + '\n",
      "  '0.010*\"caso\" + 0.009*\"logo\"'),\n",
      " (5,\n",
      "  '0.031*\"casa\" + 0.026*\"pandemia\" + 0.025*\"coisa\" + 0.024*\"depois\" + '\n",
      "  '0.024*\"passar\" + 0.020*\"gente\" + 0.019*\"tempo\" + 0.017*\"nunca\" + '\n",
      "  '0.017*\"mim\" + 0.017*\"agora\"'),\n",
      " (6,\n",
      "  '0.075*\"bolsonaro\" + 0.054*\"presidente\" + 0.042*\"oms\" + 0.030*\"isolamento\" + '\n",
      "  '0.018*\"pronunciamento\" + 0.017*\"social\" + 0.015*\"jair\" + 0.014*\"golpe\" + '\n",
      "  '0.012*\"contra\" + 0.011*\"ditadura\"'),\n",
      " (7,\n",
      "  '0.131*\"presidente\" + 0.032*\"brasil\" + 0.029*\"povo\" + 0.027*\"bolsonaro\" + '\n",
      "  '0.019*\"deus\" + 0.015*\"brasileiro\" + 0.012*\"contra\" + 0.010*\"governo\" + '\n",
      "  '0.009*\"parabens\" + 0.008*\"fim\"'),\n",
      " (8,\n",
      "  '0.048*\"bolsonaro\" + 0.026*\"corona\" + 0.023*\"tomar\" + 0.017*\"cu\" + '\n",
      "  '0.015*\"kkkkkkk\" + 0.014*\"casa\" + 0.014*\"pai\" + 0.013*\"mae\" + 0.012*\"contra\" '\n",
      "  '+ 0.012*\"sim\"'),\n",
      " (9,\n",
      "  '0.055*\"bolsonaro\" + 0.038*\"nacional\" + 0.030*\"pos\" + 0.029*\"rede\" + '\n",
      "  '0.026*\"outro\" + 0.016*\"comecou\" + 0.016*\"prior\" + 0.015*\"nome\" + '\n",
      "  '0.012*\"cadeia\" + 0.012*\"dar\"')]\n"
     ]
    }
   ],
   "source": [
    "# Escolhe o modelo\n",
    "\n",
    "optimal_model = model_list[3]\n",
    "model_topics = optimal_model.show_topics(formatted=False)\n",
    "pprint(optimal_model.print_topics(num_words=10))"
   ]
  },
  {
   "cell_type": "code",
   "execution_count": 42,
   "metadata": {},
   "outputs": [],
   "source": [
    "# Encontrar qual o principal tópico em cada tweet\n",
    "\n",
    "def format_topics_sentences(ldamodel=lda_model, corpus=corpus, texts=lista):\n",
    "    # Output\n",
    "    sent_topics_df = pd.DataFrame()\n",
    "\n",
    "    # Seleciona o principal tópico de cada tweet\n",
    "    for i, row in enumerate(ldamodel[corpus]):\n",
    "        row = sorted(row, key=lambda x: (x[1]), reverse=True)\n",
    "        # Calcula o principal tópico, o percentual de contribuição e as palavras chaves de cada tweet\n",
    "        for j, (topic_num, prop_topic) in enumerate(row):\n",
    "            if j == 0:  # => mostra o principal tópico\n",
    "                wp = ldamodel.show_topic(topic_num)\n",
    "                topic_keywords = \", \".join([word for word, prop in wp])\n",
    "                sent_topics_df = sent_topics_df.append(pd.Series([int(topic_num), round(prop_topic,4), topic_keywords]), ignore_index=True)\n",
    "            else:\n",
    "                break\n",
    "    sent_topics_df.columns = ['Principal_Topico', 'Perc_Contributicao', 'Palavras_Chave']\n",
    "\n",
    "    # Inclui o texto original no final do DataFrame\n",
    "    contents = pd.Series(texts)\n",
    "    sent_topics_df = pd.concat([sent_topics_df, contents], axis=1)\n",
    "    return(sent_topics_df)"
   ]
  },
  {
   "cell_type": "code",
   "execution_count": 43,
   "metadata": {},
   "outputs": [],
   "source": [
    "# roda a função de calcular os principais tópicos de cada tweet\n",
    "\n",
    "df_topic_sents_keywords = format_topics_sentences(ldamodel=optimal_model, corpus=corpus, texts=lista)"
   ]
  },
  {
   "cell_type": "code",
   "execution_count": 44,
   "metadata": {},
   "outputs": [],
   "source": [
    "# Formata o DataFrame\n",
    "\n",
    "df_dominant_topic = df_topic_sents_keywords.reset_index()\n",
    "df_dominant_topic.columns = ['Index_DF_Original', 'Principal_Topico', 'Perc_Contrib_Topico', 'Palavras_Chave', 'Tweets']"
   ]
  },
  {
   "cell_type": "code",
   "execution_count": 45,
   "metadata": {
    "scrolled": true
   },
   "outputs": [
    {
     "data": {
      "text/html": [
       "<div>\n",
       "<style scoped>\n",
       "    .dataframe tbody tr th:only-of-type {\n",
       "        vertical-align: middle;\n",
       "    }\n",
       "\n",
       "    .dataframe tbody tr th {\n",
       "        vertical-align: top;\n",
       "    }\n",
       "\n",
       "    .dataframe thead th {\n",
       "        text-align: right;\n",
       "    }\n",
       "</style>\n",
       "<table border=\"1\" class=\"dataframe\">\n",
       "  <thead>\n",
       "    <tr style=\"text-align: right;\">\n",
       "      <th></th>\n",
       "      <th>Topico</th>\n",
       "      <th>Topico_Perc_Contrib</th>\n",
       "      <th>Palavras_Chave</th>\n",
       "      <th>Tweet</th>\n",
       "    </tr>\n",
       "  </thead>\n",
       "  <tbody>\n",
       "    <tr>\n",
       "      <th>0</th>\n",
       "      <td>0.0</td>\n",
       "      <td>0.9182</td>\n",
       "      <td>cada, mano, comer, dps, vez, melhor, president...</td>\n",
       "      <td>[tao, pandemia, impossivel, tambem, ter, vazio...</td>\n",
       "    </tr>\n",
       "    <tr>\n",
       "      <th>1</th>\n",
       "      <td>1.0</td>\n",
       "      <td>0.9308</td>\n",
       "      <td>bolsonaro, merda, prior, pronunciamento, falar...</td>\n",
       "      <td>[total, parar, foco, logo, https, foraprior, h...</td>\n",
       "    </tr>\n",
       "    <tr>\n",
       "      <th>2</th>\n",
       "      <td>2.0</td>\n",
       "      <td>0.9437</td>\n",
       "      <td>bbb, coronavirus, bilhao, pandemia, muito, par...</td>\n",
       "      <td>[bilhao, paredao, filho, mes, apolo, gente, oq...</td>\n",
       "    </tr>\n",
       "    <tr>\n",
       "      <th>3</th>\n",
       "      <td>3.0</td>\n",
       "      <td>0.9400</td>\n",
       "      <td>corona, coronavirus, virus, pandemia, brasil, ...</td>\n",
       "      <td>[pandemia, crise, ficaemcasa, trabalhar, pegar...</td>\n",
       "    </tr>\n",
       "    <tr>\n",
       "      <th>4</th>\n",
       "      <td>4.0</td>\n",
       "      <td>0.9100</td>\n",
       "      <td>acabar, quando, coronavirus, casa, cabelo, alg...</td>\n",
       "      <td>[casa, logo, nao, quando, jeito, lado, tu, me,...</td>\n",
       "    </tr>\n",
       "    <tr>\n",
       "      <th>5</th>\n",
       "      <td>5.0</td>\n",
       "      <td>0.9470</td>\n",
       "      <td>casa, pandemia, coisa, depois, passar, gente, ...</td>\n",
       "      <td>[gosto, dificil, casa, tbm, deixar, avo, coron...</td>\n",
       "    </tr>\n",
       "    <tr>\n",
       "      <th>6</th>\n",
       "      <td>6.0</td>\n",
       "      <td>0.9473</td>\n",
       "      <td>bolsonaro, presidente, oms, isolamento, pronun...</td>\n",
       "      <td>[criticar, serasse, golpe, oms, ditadura, hj, ...</td>\n",
       "    </tr>\n",
       "    <tr>\n",
       "      <th>7</th>\n",
       "      <td>7.0</td>\n",
       "      <td>0.9500</td>\n",
       "      <td>presidente, brasil, povo, bolsonaro, deus, bra...</td>\n",
       "      <td>[conjunto, tal, atual, fa, comunista, presiden...</td>\n",
       "    </tr>\n",
       "    <tr>\n",
       "      <th>8</th>\n",
       "      <td>8.0</td>\n",
       "      <td>0.9249</td>\n",
       "      <td>bolsonaro, corona, tomar, cu, kkkkkkk, casa, p...</td>\n",
       "      <td>[pe, casa, nao, bolsonaro, homem, mae, irmao, ...</td>\n",
       "    </tr>\n",
       "    <tr>\n",
       "      <th>9</th>\n",
       "      <td>9.0</td>\n",
       "      <td>0.9307</td>\n",
       "      <td>bolsonaro, nacional, pos, rede, outro, comecou...</td>\n",
       "      <td>[todo, falar, santo, paz, dar, nome, nacional,...</td>\n",
       "    </tr>\n",
       "  </tbody>\n",
       "</table>\n",
       "</div>"
      ],
      "text/plain": [
       "   Topico  Topico_Perc_Contrib  \\\n",
       "0     0.0               0.9182   \n",
       "1     1.0               0.9308   \n",
       "2     2.0               0.9437   \n",
       "3     3.0               0.9400   \n",
       "4     4.0               0.9100   \n",
       "5     5.0               0.9470   \n",
       "6     6.0               0.9473   \n",
       "7     7.0               0.9500   \n",
       "8     8.0               0.9249   \n",
       "9     9.0               0.9307   \n",
       "\n",
       "                                      Palavras_Chave  \\\n",
       "0  cada, mano, comer, dps, vez, melhor, president...   \n",
       "1  bolsonaro, merda, prior, pronunciamento, falar...   \n",
       "2  bbb, coronavirus, bilhao, pandemia, muito, par...   \n",
       "3  corona, coronavirus, virus, pandemia, brasil, ...   \n",
       "4  acabar, quando, coronavirus, casa, cabelo, alg...   \n",
       "5  casa, pandemia, coisa, depois, passar, gente, ...   \n",
       "6  bolsonaro, presidente, oms, isolamento, pronun...   \n",
       "7  presidente, brasil, povo, bolsonaro, deus, bra...   \n",
       "8  bolsonaro, corona, tomar, cu, kkkkkkk, casa, p...   \n",
       "9  bolsonaro, nacional, pos, rede, outro, comecou...   \n",
       "\n",
       "                                               Tweet  \n",
       "0  [tao, pandemia, impossivel, tambem, ter, vazio...  \n",
       "1  [total, parar, foco, logo, https, foraprior, h...  \n",
       "2  [bilhao, paredao, filho, mes, apolo, gente, oq...  \n",
       "3  [pandemia, crise, ficaemcasa, trabalhar, pegar...  \n",
       "4  [casa, logo, nao, quando, jeito, lado, tu, me,...  \n",
       "5  [gosto, dificil, casa, tbm, deixar, avo, coron...  \n",
       "6  [criticar, serasse, golpe, oms, ditadura, hj, ...  \n",
       "7  [conjunto, tal, atual, fa, comunista, presiden...  \n",
       "8  [pe, casa, nao, bolsonaro, homem, mae, irmao, ...  \n",
       "9  [todo, falar, santo, paz, dar, nome, nacional,...  "
      ]
     },
     "execution_count": 45,
     "metadata": {},
     "output_type": "execute_result"
    }
   ],
   "source": [
    "# Group top 5 sentences under each topic\n",
    "sent_topics_sorteddf_mallet = pd.DataFrame()\n",
    "\n",
    "sent_topics_outdf_grpd = df_topic_sents_keywords.groupby('Principal_Topico')\n",
    "\n",
    "for i, grp in sent_topics_outdf_grpd:\n",
    "    sent_topics_sorteddf_mallet = pd.concat([sent_topics_sorteddf_mallet, \n",
    "                                             grp.sort_values(['Perc_Contributicao'], ascending=[0]).head(1)], \n",
    "                                            axis=0)\n",
    "\n",
    "# Reset Index    \n",
    "sent_topics_sorteddf_mallet.reset_index(drop=True, inplace=True)\n",
    "\n",
    "# Format\n",
    "sent_topics_sorteddf_mallet.columns = ['Topico', \"Topico_Perc_Contrib\", \"Palavras_Chave\", \"Tweet\"]\n",
    "\n",
    "# Show\n",
    "sent_topics_sorteddf_mallet"
   ]
  },
  {
   "cell_type": "code",
   "execution_count": 46,
   "metadata": {},
   "outputs": [
    {
     "data": {
      "text/html": [
       "<div>\n",
       "<style scoped>\n",
       "    .dataframe tbody tr th:only-of-type {\n",
       "        vertical-align: middle;\n",
       "    }\n",
       "\n",
       "    .dataframe tbody tr th {\n",
       "        vertical-align: top;\n",
       "    }\n",
       "\n",
       "    .dataframe thead th {\n",
       "        text-align: right;\n",
       "    }\n",
       "</style>\n",
       "<table border=\"1\" class=\"dataframe\">\n",
       "  <thead>\n",
       "    <tr style=\"text-align: right;\">\n",
       "      <th></th>\n",
       "      <th>Principal_Topico</th>\n",
       "      <th>Palavras_Chave</th>\n",
       "      <th>Qtd_Tweets</th>\n",
       "      <th>Perc_Tweets</th>\n",
       "    </tr>\n",
       "  </thead>\n",
       "  <tbody>\n",
       "    <tr>\n",
       "      <th>0.0</th>\n",
       "      <td>7.0</td>\n",
       "      <td>presidente, brasil, povo, bolsonaro, deus, bra...</td>\n",
       "      <td>21882.0</td>\n",
       "      <td>0.0999</td>\n",
       "    </tr>\n",
       "    <tr>\n",
       "      <th>1.0</th>\n",
       "      <td>0.0</td>\n",
       "      <td>cada, mano, comer, dps, vez, melhor, president...</td>\n",
       "      <td>30800.0</td>\n",
       "      <td>0.1406</td>\n",
       "    </tr>\n",
       "    <tr>\n",
       "      <th>2.0</th>\n",
       "      <td>8.0</td>\n",
       "      <td>bolsonaro, corona, tomar, cu, kkkkkkk, casa, p...</td>\n",
       "      <td>20130.0</td>\n",
       "      <td>0.0919</td>\n",
       "    </tr>\n",
       "    <tr>\n",
       "      <th>3.0</th>\n",
       "      <td>1.0</td>\n",
       "      <td>bolsonaro, merda, prior, pronunciamento, falar...</td>\n",
       "      <td>32108.0</td>\n",
       "      <td>0.1466</td>\n",
       "    </tr>\n",
       "    <tr>\n",
       "      <th>4.0</th>\n",
       "      <td>1.0</td>\n",
       "      <td>bolsonaro, merda, prior, pronunciamento, falar...</td>\n",
       "      <td>20170.0</td>\n",
       "      <td>0.0921</td>\n",
       "    </tr>\n",
       "    <tr>\n",
       "      <th>...</th>\n",
       "      <td>...</td>\n",
       "      <td>...</td>\n",
       "      <td>...</td>\n",
       "      <td>...</td>\n",
       "    </tr>\n",
       "    <tr>\n",
       "      <th>219000.0</th>\n",
       "      <td>5.0</td>\n",
       "      <td>casa, pandemia, coisa, depois, passar, gente, ...</td>\n",
       "      <td>NaN</td>\n",
       "      <td>NaN</td>\n",
       "    </tr>\n",
       "    <tr>\n",
       "      <th>219001.0</th>\n",
       "      <td>2.0</td>\n",
       "      <td>bbb, coronavirus, bilhao, pandemia, muito, par...</td>\n",
       "      <td>NaN</td>\n",
       "      <td>NaN</td>\n",
       "    </tr>\n",
       "    <tr>\n",
       "      <th>219002.0</th>\n",
       "      <td>6.0</td>\n",
       "      <td>bolsonaro, presidente, oms, isolamento, pronun...</td>\n",
       "      <td>NaN</td>\n",
       "      <td>NaN</td>\n",
       "    </tr>\n",
       "    <tr>\n",
       "      <th>219003.0</th>\n",
       "      <td>8.0</td>\n",
       "      <td>bolsonaro, corona, tomar, cu, kkkkkkk, casa, p...</td>\n",
       "      <td>NaN</td>\n",
       "      <td>NaN</td>\n",
       "    </tr>\n",
       "    <tr>\n",
       "      <th>219004.0</th>\n",
       "      <td>5.0</td>\n",
       "      <td>casa, pandemia, coisa, depois, passar, gente, ...</td>\n",
       "      <td>NaN</td>\n",
       "      <td>NaN</td>\n",
       "    </tr>\n",
       "  </tbody>\n",
       "</table>\n",
       "<p>219005 rows × 4 columns</p>\n",
       "</div>"
      ],
      "text/plain": [
       "          Principal_Topico                                     Palavras_Chave  \\\n",
       "0.0                    7.0  presidente, brasil, povo, bolsonaro, deus, bra...   \n",
       "1.0                    0.0  cada, mano, comer, dps, vez, melhor, president...   \n",
       "2.0                    8.0  bolsonaro, corona, tomar, cu, kkkkkkk, casa, p...   \n",
       "3.0                    1.0  bolsonaro, merda, prior, pronunciamento, falar...   \n",
       "4.0                    1.0  bolsonaro, merda, prior, pronunciamento, falar...   \n",
       "...                    ...                                                ...   \n",
       "219000.0               5.0  casa, pandemia, coisa, depois, passar, gente, ...   \n",
       "219001.0               2.0  bbb, coronavirus, bilhao, pandemia, muito, par...   \n",
       "219002.0               6.0  bolsonaro, presidente, oms, isolamento, pronun...   \n",
       "219003.0               8.0  bolsonaro, corona, tomar, cu, kkkkkkk, casa, p...   \n",
       "219004.0               5.0  casa, pandemia, coisa, depois, passar, gente, ...   \n",
       "\n",
       "          Qtd_Tweets  Perc_Tweets  \n",
       "0.0          21882.0       0.0999  \n",
       "1.0          30800.0       0.1406  \n",
       "2.0          20130.0       0.0919  \n",
       "3.0          32108.0       0.1466  \n",
       "4.0          20170.0       0.0921  \n",
       "...              ...          ...  \n",
       "219000.0         NaN          NaN  \n",
       "219001.0         NaN          NaN  \n",
       "219002.0         NaN          NaN  \n",
       "219003.0         NaN          NaN  \n",
       "219004.0         NaN          NaN  \n",
       "\n",
       "[219005 rows x 4 columns]"
      ]
     },
     "execution_count": 46,
     "metadata": {},
     "output_type": "execute_result"
    }
   ],
   "source": [
    "# Numero de tweets por topico\n",
    "\n",
    "topic_counts = df_topic_sents_keywords['Principal_Topico'].value_counts()\n",
    "\n",
    "# Porcentagem de tweets por tópico\n",
    "topic_contribution = round(topic_counts/topic_counts.sum(), 4)\n",
    "\n",
    "# Número do tópico e suas palavras chave\n",
    "topic_num_keywords = df_topic_sents_keywords[['Principal_Topico', 'Palavras_Chave']]\n",
    "\n",
    "# Concatena as colunas\n",
    "df_dominant_topics = pd.concat([topic_num_keywords, topic_counts, topic_contribution], axis=1)\n",
    "\n",
    "# Renomeia as colunas\n",
    "df_dominant_topics.columns = ['Principal_Topico', 'Palavras_Chave', 'Qtd_Tweets', 'Perc_Tweets']\n",
    "\n",
    "# Mostra o DataFrame\n",
    "df_dominant_topics"
   ]
  },
  {
   "cell_type": "code",
   "execution_count": 47,
   "metadata": {},
   "outputs": [
    {
     "data": {
      "image/png": "[encoded data removed]",
      "text/plain": [
       "<Figure size 720x720 with 4 Axes>"
      ]
     },
     "metadata": {
      "needs_background": "light"
     },
     "output_type": "display_data"
    }
   ],
   "source": [
    "# Cria wordclouds\n",
    "\n",
    "cols = [color for name, color in mcolors.XKCD_COLORS.items()]\n",
    "\n",
    "cloud = WordCloud(stopwords=stop_words,\n",
    "                  background_color='white',\n",
    "                  width=2500,\n",
    "                  height=1800,\n",
    "                  max_words=10,\n",
    "                  colormap='tab10',\n",
    "                  color_func=lambda *args, **kwargs: cols[i],\n",
    "                  prefer_horizontal=1.0)\n",
    "\n",
    "topics = lda_model.show_topics(formatted=False)\n",
    "\n",
    "fig, axes = plt.subplots(2, 2, figsize=(10,10), sharex=True, sharey=True)\n",
    "\n",
    "for i, ax in enumerate(axes.flatten()):\n",
    "    fig.add_subplot(ax)\n",
    "    topic_words = dict(topics[i][1])\n",
    "    cloud.generate_from_frequencies(topic_words, max_font_size=300)\n",
    "    plt.gca().imshow(cloud)\n",
    "    plt.gca().set_title('Topic ' + str(i), fontdict=dict(size=16))\n",
    "    plt.gca().axis('off')\n",
    "\n",
    "\n",
    "plt.subplots_adjust(wspace=0, hspace=0)\n",
    "plt.axis('off')\n",
    "plt.margins(x=0, y=0)\n",
    "plt.tight_layout()\n",
    "plt.show()"
   ]
  },
  {
   "cell_type": "code",
   "execution_count": null,
   "metadata": {},
   "outputs": [],
   "source": []
  },
  {
   "cell_type": "code",
   "execution_count": null,
   "metadata": {},
   "outputs": [],
   "source": []
  }
 ],
 "metadata": {
  "kernelspec": {
   "display_name": "Python 3",
   "language": "python",
   "name": "python3"
  },
  "language_info": {
   "codemirror_mode": {
    "name": "ipython",
    "version": 3
   },
   "file_extension": ".py",
   "mimetype": "text/x-python",
   "name": "python",
   "nbconvert_exporter": "python",
   "pygments_lexer": "ipython3",
   "version": "3.7.6"
  }
 },
 "nbformat": 4,
 "nbformat_minor": 1
}
