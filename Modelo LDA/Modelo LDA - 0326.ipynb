{
 "cells": [
  {
   "cell_type": "markdown",
   "metadata": {
    "collapsed": true
   },
   "source": [
    "Análise do dia 26/03 através do modelo LDA."
   ]
  },
  {
   "cell_type": "code",
   "execution_count": 1,
   "metadata": {},
   "outputs": [],
   "source": [
    "# Importar bibliotecas\n",
    "\n",
    "# gerais\n",
    "import sys\n",
    "import os\n",
    "from pathlib import Path\n",
    "import re\n",
    "import numpy as np\n",
    "import pandas as pd\n",
    "from pprint import pprint\n",
    "from tqdm import tqdm\n",
    "from ast import literal_eval\n",
    "\n",
    "# Gensim\n",
    "import gensim, spacy, logging, warnings\n",
    "import gensim.corpora as corpora\n",
    "from gensim.utils import lemmatize, simple_preprocess\n",
    "from gensim.models import CoherenceModel\n",
    "from gensim.models.ldamulticore import LdaMulticore\n",
    "\n",
    "# NLTK Stop words\n",
    "import nltk\n",
    "from nltk.corpus import stopwords\n",
    "\n",
    "#plot\n",
    "import pyLDAvis\n",
    "import pyLDAvis.gensim\n",
    "import matplotlib.pyplot as plt\n",
    "import matplotlib.colors as mcolors\n",
    "%matplotlib inline\n",
    "from wordcloud import WordCloud, STOPWORDS"
   ]
  },
  {
   "cell_type": "code",
   "execution_count": 2,
   "metadata": {},
   "outputs": [],
   "source": [
    "# Criando stopwords em português utilizando a biblioteca nltk\n",
    "\n",
    "nlp = spacy.load(\"pt_core_news_sm\")\n",
    "pt_stopwords = sorted([token.text for token in nlp.vocab if token.is_stop])\n",
    "list_exclude = ['obrigado', 'bom', 'mal', 'nenhuma', 'maior', \n",
    "             'bem', 'não', 'máximo', 'boa', 'mais',\n",
    "               'bastante', 'certamente', 'certeza', 'contra',\n",
    "                'quarentena', 'coronavírus', 'presidente', 'impeachment', 'demitido', 'demitida']\n",
    "for word in list_exclude:\n",
    "    nlp.vocab[word].is_stop = False\n",
    "list_include = set(['o', 'a', 'tá', 'ta', 'ser', 'pro', 'to', 'tô', 'vc', 'você', 'voce', 'pra',\n",
    "                    'pq', 'é', 'vou', 'que','tão', 'gt', 'de', 'da', 'do', 'em', 'uma', 'lá',\n",
    "                    'já', 'no', 'para', 'na', 'com', 'um', 'minha', 'se', 'isso', 'por', 'vou',\n",
    "                    'os', 'isso', 'como', 'mesmo', 'tenho', 'aqui', 'ele', 'ela', 'quem', 'fazer',\n",
    "                    'eu', 'só', 'ai', 'mais', 'só', 'querer', 'https', 'ter', 'estar', 'ficar',\n",
    "                    'dos', 'das', 'vcs', 'jairbolsonaro', 'tava', 'nao', 'sao', 'ja', 'so', 'nossa',\n",
    "                    'nosso', 'estao', 'tco', 'me', 'dia', 'te', 'ver', 'sera', 'porra', 'fez', 'ne',\n",
    "                    'kkkkkk', 'puta', 'kkkkkkkk', 'hj', 'afff', 'gbr', 'meu', 'cara', 'guri', 'cmg',\n",
    "                    'ctg', 'agr', 'pqp', 'vdd', 'eh', 'va', 'fudeu', 'fuder', 'fodeu', 'foda', 'obg',\n",
    "                   'nem', 'numa', 'num', 'nuns', 'ces', 'voces', 'oce', 'oces', 'kkkk', 'vao', 'via',\n",
    "                    'hj', 'hoje', 'tudo', 'todo', 'toda', 'ir', 'vir', 'bem', 'sair', 'tao']\n",
    "                  )\n",
    "for w in list_include:\n",
    "    nlp.vocab[w].is_stop = True\n",
    "stop_words = sorted([token.text for token in nlp.vocab if token.is_stop])"
   ]
  },
  {
   "cell_type": "markdown",
   "metadata": {},
   "source": [
    "# Preparação dos dados"
   ]
  },
  {
   "cell_type": "code",
   "execution_count": 3,
   "metadata": {},
   "outputs": [],
   "source": [
    "# import dos dados\n",
    "\n",
    "df = pd.read_csv('0326_preprocessado.csv')"
   ]
  },
  {
   "cell_type": "code",
   "execution_count": 4,
   "metadata": {},
   "outputs": [],
   "source": [
    "# import dos tokens\n",
    "\n",
    "df_tokens = pd.read_csv('tokens_unicos_10k.csv')"
   ]
  },
  {
   "cell_type": "code",
   "execution_count": 5,
   "metadata": {},
   "outputs": [],
   "source": [
    "# criação de lista de tokens\n",
    "\n",
    "lista_token = []\n",
    "\n",
    "for row in range(0, len(df_tokens)):\n",
    "    lista_token.append(df_tokens.iloc[row,1])\n",
    "    \n",
    "lista_token = set(lista_token)"
   ]
  },
  {
   "cell_type": "code",
   "execution_count": 6,
   "metadata": {},
   "outputs": [],
   "source": [
    "# filtranso os tokens para aparecer apenas os 10 mil mais frequentes\n",
    "\n",
    "df['token2'] = df.token.apply(lambda x: str(list(set(literal_eval(x)).intersection(lista_token))))"
   ]
  },
  {
   "cell_type": "code",
   "execution_count": 7,
   "metadata": {},
   "outputs": [],
   "source": [
    "# função para reverter os tokens processados em lista de tuples\n",
    "\n",
    "def strip_characters(text):\n",
    "    t = re.sub(r'\\(|\\)|:|,|;|\\.|’|”|“|\\?|%|>|<|\\[|\\]', '', text)\n",
    "    t = re.sub(r'/', ' ', t)\n",
    "    t = t.replace(\"'\",'')\n",
    "    return t"
   ]
  },
  {
   "cell_type": "code",
   "execution_count": 8,
   "metadata": {},
   "outputs": [],
   "source": [
    "# aplica função em todos os tokens\n",
    "\n",
    "df['token2'] = df['token2'].apply(lambda x: strip_characters(x))\n",
    "df['token2'] = df['token2'].apply(lambda x: str(x).split(' '))"
   ]
  },
  {
   "cell_type": "code",
   "execution_count": 9,
   "metadata": {},
   "outputs": [],
   "source": [
    "# transforma os tokens em lista\n",
    "\n",
    "lista = list(df['token2'])"
   ]
  },
  {
   "cell_type": "code",
   "execution_count": 10,
   "metadata": {},
   "outputs": [],
   "source": [
    "# Build the bigram and trigram models\n",
    "\n",
    "bigram = gensim.models.Phrases(lista, min_count=5, threshold=100)\n",
    "bigram_mod = gensim.models.phrases.Phraser(bigram)\n",
    "\n",
    "trigram = gensim.models.Phrases(bigram[lista], threshold=100)\n",
    "trigram_mod = gensim.models.phrases.Phraser(trigram)"
   ]
  },
  {
   "cell_type": "code",
   "execution_count": 11,
   "metadata": {},
   "outputs": [],
   "source": [
    "# função para preprocessar palavras\n",
    "\n",
    "def process_words(texts, stop_words=stop_words, allowed_postags=['NOUN', 'ADJ', 'VERB', 'ADV']):\n",
    "    texts1 = [[word for word in simple_preprocess(str(doc)) if word not in stop_words] for doc in texts]\n",
    "    texts2 = [bigram_mod[doc] for doc in texts1]\n",
    "    texts3 = [trigram_mod[bigram_mod[doc]] for doc in texts2]\n",
    "    texts4 = [[word for word in simple_preprocess(str(doc)) if word not in stop_words] for doc in texts3]    \n",
    "    return texts4"
   ]
  },
  {
   "cell_type": "code",
   "execution_count": 12,
   "metadata": {},
   "outputs": [],
   "source": [
    "# Processing the abstract\n",
    "\n",
    "texto = process_words(lista)"
   ]
  },
  {
   "cell_type": "markdown",
   "metadata": {},
   "source": [
    "# Modelagem"
   ]
  },
  {
   "cell_type": "code",
   "execution_count": 13,
   "metadata": {},
   "outputs": [],
   "source": [
    "# Criar dicionário\n",
    "\n",
    "id2word = corpora.Dictionary(texto)"
   ]
  },
  {
   "cell_type": "code",
   "execution_count": 14,
   "metadata": {},
   "outputs": [],
   "source": [
    "# Criar o Corpus: A Frequência das palavras nos documentos\n",
    "\n",
    "corpus = [id2word.doc2bow(text) for text in texto]"
   ]
  },
  {
   "cell_type": "code",
   "execution_count": 15,
   "metadata": {},
   "outputs": [],
   "source": [
    "# Função para determinar a melhor quantidade de tópicos para a modelagem\n",
    "\n",
    "def compute_coherence_values(dictionary, corpus, texts, limit, start=2, step=5):\n",
    "    coherence_values = []\n",
    "    model_list = []\n",
    "    for num_topics in tqdm(range(start, limit, step)):\n",
    "        model = LdaMulticore(corpus, id2word=id2word, num_topics=10)\n",
    "        model_list.append(model)\n",
    "        coherencemodel = CoherenceModel(model=model, texts=texts, dictionary=dictionary, coherence='c_v')\n",
    "        coherence_values.append(coherencemodel.get_coherence())\n",
    "\n",
    "    return model_list, coherence_values"
   ]
  },
  {
   "cell_type": "code",
   "execution_count": 16,
   "metadata": {},
   "outputs": [
    {
     "name": "stderr",
     "output_type": "stream",
     "text": [
      "100%|██████████████████████████████████████████████████████████████████████████████████| 14/14 [21:33<00:00, 92.42s/it]\n"
     ]
    }
   ],
   "source": [
    "# Colocando parametros na função\n",
    "\n",
    "model_list, coherence_values = compute_coherence_values(dictionary=id2word, corpus=corpus, texts=texto, start=2, limit=30, step=2)"
   ]
  },
  {
   "cell_type": "code",
   "execution_count": 17,
   "metadata": {},
   "outputs": [
    {
     "data": {
      "image/png": "[encoded data removed]",
      "text/plain": [
       "<Figure size 432x288 with 1 Axes>"
      ]
     },
     "metadata": {
      "needs_background": "light"
     },
     "output_type": "display_data"
    }
   ],
   "source": [
    "# Mostrando visualmente a quantidade de tópicos\n",
    "\n",
    "limit=30; start=2; step=2;\n",
    "x = range(start, limit, step)\n",
    "plt.plot(x, coherence_values)\n",
    "plt.xlabel(\"Num Tópicos\")\n",
    "plt.ylabel(\"Score de Coerência\")\n",
    "plt.legend((\"Valores de Coerência\"), loc='best')\n",
    "plt.show()"
   ]
  },
  {
   "cell_type": "code",
   "execution_count": 18,
   "metadata": {},
   "outputs": [
    {
     "name": "stdout",
     "output_type": "stream",
     "text": [
      "A quantidade de tópicos = 2  tem um valor de coerência de  0.3048\n",
      "A quantidade de tópicos = 4  tem um valor de coerência de  0.3036\n",
      "A quantidade de tópicos = 6  tem um valor de coerência de  0.2694\n",
      "A quantidade de tópicos = 8  tem um valor de coerência de  0.3073\n",
      "A quantidade de tópicos = 10  tem um valor de coerência de  0.2973\n",
      "A quantidade de tópicos = 12  tem um valor de coerência de  0.3344\n",
      "A quantidade de tópicos = 14  tem um valor de coerência de  0.3117\n",
      "A quantidade de tópicos = 16  tem um valor de coerência de  0.2936\n",
      "A quantidade de tópicos = 18  tem um valor de coerência de  0.3092\n",
      "A quantidade de tópicos = 20  tem um valor de coerência de  0.3219\n",
      "A quantidade de tópicos = 22  tem um valor de coerência de  0.2829\n",
      "A quantidade de tópicos = 24  tem um valor de coerência de  0.2966\n",
      "A quantidade de tópicos = 26  tem um valor de coerência de  0.3258\n",
      "A quantidade de tópicos = 28  tem um valor de coerência de  0.2923\n"
     ]
    }
   ],
   "source": [
    "# Lista dos valores de coerência, para melhor identificar o ponto de inflexão do gráfico\n",
    "\n",
    "for m, cv in zip(x, coherence_values):\n",
    "    print(\"A quantidade de tópicos =\", m, \" tem um valor de coerência de \", round(cv, 4))"
   ]
  },
  {
   "cell_type": "markdown",
   "metadata": {},
   "source": [
    "Aqui conseguimos determinar a melhor quantidade de tópicos a serem analisados, que é 8 tópicos"
   ]
  },
  {
   "cell_type": "code",
   "execution_count": 19,
   "metadata": {},
   "outputs": [],
   "source": [
    "# Vamos agora construir de fato o modelo LDA\n",
    "\n",
    "lda_model = LdaMulticore(corpus=corpus,\n",
    "                        id2word=id2word,\n",
    "                        num_topics=4, \n",
    "                        random_state=42,\n",
    "                        chunksize=100,\n",
    "                        passes=10,\n",
    "                        per_word_topics=True)"
   ]
  },
  {
   "cell_type": "code",
   "execution_count": 20,
   "metadata": {},
   "outputs": [
    {
     "name": "stdout",
     "output_type": "stream",
     "text": [
      "\n",
      "Perplexidade:  -7.104080474729473\n"
     ]
    }
   ],
   "source": [
    "# Computar a perplexidade do modelo (quanto menor, melhor)\n",
    "\n",
    "print('\\nPerplexidade: ', lda_model.log_perplexity(corpus))"
   ]
  },
  {
   "cell_type": "code",
   "execution_count": 21,
   "metadata": {},
   "outputs": [
    {
     "name": "stdout",
     "output_type": "stream",
     "text": [
      "\n",
      "Score de Coerência:  0.266717868426731\n"
     ]
    }
   ],
   "source": [
    "# Computar o Score de Coerência\n",
    "\n",
    "coherence_model_lda = CoherenceModel(model=lda_model, texts=lista, dictionary=id2word, coherence='c_v')\n",
    "coherence_lda = coherence_model_lda.get_coherence()\n",
    "print('\\nScore de Coerência: ', coherence_lda)"
   ]
  },
  {
   "cell_type": "code",
   "execution_count": 22,
   "metadata": {},
   "outputs": [
    {
     "data": {
      "text/html": [
       "\n",
       "<link rel=\"stylesheet\" type=\"text/css\" href=\"https://cdn.rawgit.com/bmabey/pyLDAvis/files/ldavis.v1.0.0.css\">\n",
       "\n",
       "\n",
       "<div id=\"ldavis_el1462423000583687122304985403\"></div>\n",
       "<script type=\"text/javascript\">\n",
       "\n",
       "var ldavis_el1462423000583687122304985403_data = {\"mdsDat\": {\"x\": [0.02567416560412174, -0.21965687173835166, -0.1512353126106342, 0.34521801874486413], \"y\": [0.35184369129538423, -0.0378987617167995, -0.18334337629891787, -0.13060155327966694], \"topics\": [1, 2, 3, 4], \"cluster\": [1, 1, 1, 1], \"Freq\": [35.410301208496094, 22.36403465270996, 21.202619552612305, 21.023040771484375]}, \"tinfo\": {\"Term\": [\"corona\", \"bolsonaro\", \"presidente\", \"virus\", \"quando\", \"acabar\", \"gente\", \"coisa\", \"depois\", \"brasil\", \"passar\", \"coronavirus\", \"tempo\", \"casa\", \"pandemia\", \"povo\", \"cabelo\", \"merda\", \"logo\", \"pos\", \"mim\", \"governo\", \"assim\", \"contra\", \"bom\", \"pessoa\", \"vez\", \"sim\", \"morrer\", \"pegar\", \"bolsonaro\", \"presidente\", \"brasil\", \"povo\", \"governo\", \"contra\", \"crise\", \"economia\", \"dinheiro\", \"doria\", \"isolamento\", \"maior\", \"populacao\", \"governador\", \"certo\", \"mil\", \"apenas\", \"social\", \"milhoes\", \"italia\", \"grande\", \"senhor\", \"verdade\", \"lado\", \"ajudar\", \"situacao\", \"igual\", \"problema\", \"impeachment\", \"eua\", \"fome\", \"coronavirus\", \"pandemia\", \"saude\", \"momento\", \"trabalhar\", \"mundo\", \"agora\", \"novo\", \"ha\", \"muito\", \"porque\", \"tambem\", \"ainda\", \"merda\", \"logo\", \"mim\", \"pessoa\", \"vez\", \"dps\", \"cada\", \"caso\", \"tomar\", \"mal\", \"quase\", \"vontade\", \"medo\", \"mano\", \"comer\", \"cu\", \"deixar\", \"dois\", \"cabeca\", \"amor\", \"tedio\", \"colocar\", \"normal\", \"amigo\", \"foto\", \"mulher\", \"embora\", \"irmao\", \"cidade\", \"pensar\", \"gente\", \"sim\", \"vida\", \"hora\", \"alguem\", \"voltar\", \"pandemia\", \"casa\", \"ainda\", \"depois\", \"nada\", \"deus\", \"agora\", \"quando\", \"acabar\", \"coisa\", \"passar\", \"tempo\", \"cabelo\", \"pos\", \"bom\", \"oq\", \"dizer\", \"demais\", \"tarde\", \"kkk\", \"enquanto\", \"tbm\", \"unica\", \"atleta\", \"pessoal\", \"entrar\", \"triste\", \"longe\", \"festa\", \"saudade\", \"comida\", \"cortar\", \"provar\", \"ideia\", \"ok\", \"tal\", \"varios\", \"depois\", \"assim\", \"casa\", \"pai\", \"semana\", \"dar\", \"tanto\", \"melhor\", \"primeiro\", \"nunca\", \"mae\", \"muito\", \"coronavirus\", \"agora\", \"corona\", \"virus\", \"morrer\", \"pegar\", \"matar\", \"qual\", \"ano\", \"corrente\", \"final\", \"jogar\", \"sp\", \"volta\", \"comprar\", \"kkkkkkk\", \"gripezinha\", \"dentro\", \"comigo\", \"hospital\", \"ontem\", \"jeito\", \"algum\", \"filho\", \"msm\", \"devido\", \"usar\", \"real\", \"covid\", \"assistir\", \"feito\", \"geral\", \"fim\", \"coronavirus\", \"casa\", \"gente\", \"agora\", \"mundo\"], \"Freq\": [26108.0, 29127.0, 25574.0, 12352.0, 10818.0, 9684.0, 9224.0, 5291.0, 8509.0, 7723.0, 4771.0, 24489.0, 4248.0, 12880.0, 11422.0, 5333.0, 3380.0, 3137.0, 3071.0, 2960.0, 2994.0, 4319.0, 4863.0, 4090.0, 2661.0, 2687.0, 2685.0, 4267.0, 2467.0, 2298.0, 29126.5703125, 25573.896484375, 7722.599609375, 5332.9580078125, 4318.82763671875, 4089.587158203125, 2669.971923828125, 2550.467041015625, 2459.944580078125, 2198.4326171875, 2134.219970703125, 1963.2034912109375, 1798.3951416015625, 1792.3690185546875, 1798.6240234375, 1728.1702880859375, 1642.18994140625, 1488.1925048828125, 1474.7130126953125, 1443.840576171875, 1469.6790771484375, 1401.68603515625, 1402.1357421875, 1410.3172607421875, 1361.2833251953125, 1278.5198974609375, 1290.21728515625, 1259.783447265625, 1196.624755859375, 1202.86083984375, 1229.0191650390625, 16496.474609375, 8185.26513671875, 3158.2333984375, 1797.931396484375, 2094.258056640625, 3340.870849609375, 3712.72705078125, 1960.5068359375, 1599.3096923828125, 2115.358642578125, 1700.779541015625, 1624.6968994140625, 1757.354248046875, 3136.61279296875, 3070.874755859375, 2993.575927734375, 2686.745361328125, 2684.406494140625, 2291.64892578125, 2304.7626953125, 2158.678955078125, 2046.681884765625, 1981.5909423828125, 1860.3885498046875, 1838.825927734375, 1868.4482421875, 1821.197265625, 1782.8743896484375, 1666.3857421875, 1666.719970703125, 1661.052734375, 1552.489501953125, 1436.673828125, 1396.1094970703125, 1335.6888427734375, 1275.6929931640625, 1279.6312255859375, 1251.5968017578125, 1172.47900390625, 1162.6097412109375, 1114.00927734375, 1105.8543701171875, 1086.857177734375, 6663.625, 3125.007568359375, 2673.98095703125, 1752.9671630859375, 1991.4244384765625, 1824.6678466796875, 3237.158203125, 3325.2841796875, 2332.081298828125, 2467.45751953125, 2016.2476806640625, 1785.1470947265625, 1743.8885498046875, 10817.994140625, 9683.8671875, 5290.2314453125, 4771.0146484375, 4247.3486328125, 3379.435302734375, 2959.295166015625, 2660.9150390625, 2051.856201171875, 1780.6767578125, 1611.126220703125, 1498.3956298828125, 1451.4268798828125, 1376.731201171875, 1299.40380859375, 1199.9200439453125, 1159.2630615234375, 1069.7308349609375, 1076.8701171875, 1018.3265991210938, 974.2044067382812, 968.089111328125, 930.838623046875, 936.4791870117188, 866.24267578125, 823.6582641601562, 826.8842163085938, 785.7717895507812, 758.114501953125, 693.5269165039062, 6041.7412109375, 3205.016357421875, 6509.8603515625, 1901.21044921875, 1596.1134033203125, 1948.3040771484375, 1750.4110107421875, 1759.8956298828125, 1545.9312744140625, 1939.0703125, 1778.630615234375, 2091.22314453125, 3284.14697265625, 1328.891845703125, 26107.919921875, 12351.421875, 2466.33154296875, 2297.800537109375, 1966.345703125, 1913.348388671875, 1812.59912109375, 1729.8424072265625, 1609.64208984375, 1423.849853515625, 1400.1427001953125, 1370.0118408203125, 1378.031982421875, 1342.2137451171875, 1313.7742919921875, 1319.4539794921875, 1270.7271728515625, 1220.7142333984375, 1238.5716552734375, 1209.124755859375, 1187.2222900390625, 1133.19189453125, 1098.266357421875, 1104.693603515625, 1107.9224853515625, 1072.7808837890625, 1060.4871826171875, 1007.671875, 1013.9081420898438, 982.9927978515625, 1842.7655029296875, 4708.58544921875, 3044.745361328125, 2560.74853515625, 1728.2220458984375, 1457.5872802734375], \"Total\": [26108.0, 29127.0, 25574.0, 12352.0, 10818.0, 9684.0, 9224.0, 5291.0, 8509.0, 7723.0, 4771.0, 24489.0, 4248.0, 12880.0, 11422.0, 5333.0, 3380.0, 3137.0, 3071.0, 2960.0, 2994.0, 4319.0, 4863.0, 4090.0, 2661.0, 2687.0, 2685.0, 4267.0, 2467.0, 2298.0, 29127.369140625, 25574.689453125, 7723.3935546875, 5333.75439453125, 4319.61865234375, 4090.3779296875, 2670.7685546875, 2551.25927734375, 2460.745361328125, 2199.219482421875, 2135.015869140625, 1964.02587890625, 1799.18212890625, 1793.157470703125, 1799.4296875, 1728.9678955078125, 1643.00146484375, 1488.9857177734375, 1475.502197265625, 1444.63037109375, 1470.4964599609375, 1402.4852294921875, 1402.950439453125, 1411.1417236328125, 1362.0902099609375, 1279.31884765625, 1291.0496826171875, 1260.6036376953125, 1197.4061279296875, 1203.651611328125, 1229.8304443359375, 24489.48046875, 11422.966796875, 4088.06298828125, 2201.703857421875, 2953.2646484375, 6751.27783203125, 8513.7294921875, 3173.544921875, 1933.4527587890625, 6403.58349609375, 3475.4267578125, 2670.8955078125, 6045.6767578125, 3137.381103515625, 3071.6376953125, 2994.345458984375, 2687.516357421875, 2685.177490234375, 2292.412841796875, 2305.535888671875, 2159.46484375, 2047.4459228515625, 1982.358154296875, 1861.1575927734375, 1839.5894775390625, 1869.226806640625, 1821.964111328125, 1783.6414794921875, 1667.1480712890625, 1667.4954833984375, 1661.8309326171875, 1553.2523193359375, 1437.4417724609375, 1396.8677978515625, 1336.4713134765625, 1276.4549560546875, 1280.4107666015625, 1252.3751220703125, 1173.24853515625, 1163.38818359375, 1114.7779541015625, 1106.6240234375, 1087.62744140625, 9224.8818359375, 4267.8857421875, 3922.635009765625, 2303.707763671875, 2927.216796875, 2643.189453125, 11422.966796875, 12880.1298828125, 6045.6767578125, 8509.708984375, 4889.26123046875, 4173.44873046875, 8513.7294921875, 10818.7646484375, 9684.6337890625, 5291.0087890625, 4771.78759765625, 4248.13232421875, 3380.19873046875, 2960.058837890625, 2661.691650390625, 2052.63232421875, 1781.469970703125, 1611.906982421875, 1499.1829833984375, 1452.198974609375, 1377.5281982421875, 1300.193115234375, 1200.6953125, 1160.0384521484375, 1070.5185546875, 1077.6636962890625, 1019.107421875, 974.98193359375, 968.8652954101562, 931.6096801757812, 937.2644653320312, 867.0067138671875, 824.4208984375, 827.6661376953125, 786.5510864257812, 758.9002685546875, 694.3092651367188, 8509.708984375, 4863.4931640625, 12880.1298828125, 2735.545166015625, 2228.3115234375, 3087.564697265625, 2669.468994140625, 2913.518798828125, 2371.83984375, 3994.0302734375, 3536.433349609375, 6403.58349609375, 24489.48046875, 8513.7294921875, 26108.681640625, 12352.1826171875, 2467.09912109375, 2298.563232421875, 1967.109375, 1914.1190185546875, 1813.3726806640625, 1730.59619140625, 1610.40576171875, 1424.6290283203125, 1400.9154052734375, 1370.781494140625, 1378.8084716796875, 1342.986083984375, 1314.5426025390625, 1320.2271728515625, 1271.501220703125, 1221.490234375, 1239.3609619140625, 1209.8983154296875, 1188.009521484375, 1133.9677734375, 1099.0333251953125, 1105.474365234375, 1108.7064208984375, 1073.5499267578125, 1061.2559814453125, 1008.44140625, 1014.6889038085938, 983.7652587890625, 2715.48681640625, 24489.48046875, 12880.1298828125, 9224.8818359375, 8513.7294921875, 6751.27783203125], \"Category\": [\"Default\", \"Default\", \"Default\", \"Default\", \"Default\", \"Default\", \"Default\", \"Default\", \"Default\", \"Default\", \"Default\", \"Default\", \"Default\", \"Default\", \"Default\", \"Default\", \"Default\", \"Default\", \"Default\", \"Default\", \"Default\", \"Default\", \"Default\", \"Default\", \"Default\", \"Default\", \"Default\", \"Default\", \"Default\", \"Default\", \"Topic1\", \"Topic1\", \"Topic1\", \"Topic1\", \"Topic1\", \"Topic1\", \"Topic1\", \"Topic1\", \"Topic1\", \"Topic1\", \"Topic1\", \"Topic1\", \"Topic1\", \"Topic1\", \"Topic1\", \"Topic1\", \"Topic1\", \"Topic1\", \"Topic1\", \"Topic1\", \"Topic1\", \"Topic1\", \"Topic1\", \"Topic1\", \"Topic1\", \"Topic1\", \"Topic1\", \"Topic1\", \"Topic1\", \"Topic1\", \"Topic1\", \"Topic1\", \"Topic1\", \"Topic1\", \"Topic1\", \"Topic1\", \"Topic1\", \"Topic1\", \"Topic1\", \"Topic1\", \"Topic1\", \"Topic1\", \"Topic1\", \"Topic1\", \"Topic2\", \"Topic2\", \"Topic2\", \"Topic2\", \"Topic2\", \"Topic2\", \"Topic2\", \"Topic2\", \"Topic2\", \"Topic2\", \"Topic2\", \"Topic2\", \"Topic2\", \"Topic2\", \"Topic2\", \"Topic2\", \"Topic2\", \"Topic2\", \"Topic2\", \"Topic2\", \"Topic2\", \"Topic2\", \"Topic2\", \"Topic2\", \"Topic2\", \"Topic2\", \"Topic2\", \"Topic2\", \"Topic2\", \"Topic2\", \"Topic2\", \"Topic2\", \"Topic2\", \"Topic2\", \"Topic2\", \"Topic2\", \"Topic2\", \"Topic2\", \"Topic2\", \"Topic2\", \"Topic2\", \"Topic2\", \"Topic2\", \"Topic3\", \"Topic3\", \"Topic3\", \"Topic3\", \"Topic3\", \"Topic3\", \"Topic3\", \"Topic3\", \"Topic3\", \"Topic3\", \"Topic3\", \"Topic3\", \"Topic3\", \"Topic3\", \"Topic3\", \"Topic3\", \"Topic3\", \"Topic3\", \"Topic3\", \"Topic3\", \"Topic3\", \"Topic3\", \"Topic3\", \"Topic3\", \"Topic3\", \"Topic3\", \"Topic3\", \"Topic3\", \"Topic3\", \"Topic3\", \"Topic3\", \"Topic3\", \"Topic3\", \"Topic3\", \"Topic3\", \"Topic3\", \"Topic3\", \"Topic3\", \"Topic3\", \"Topic3\", \"Topic3\", \"Topic3\", \"Topic3\", \"Topic3\", \"Topic4\", \"Topic4\", \"Topic4\", \"Topic4\", \"Topic4\", \"Topic4\", \"Topic4\", \"Topic4\", \"Topic4\", \"Topic4\", \"Topic4\", \"Topic4\", \"Topic4\", \"Topic4\", \"Topic4\", \"Topic4\", \"Topic4\", \"Topic4\", \"Topic4\", \"Topic4\", \"Topic4\", \"Topic4\", \"Topic4\", \"Topic4\", \"Topic4\", \"Topic4\", \"Topic4\", \"Topic4\", \"Topic4\", \"Topic4\", \"Topic4\", \"Topic4\", \"Topic4\", \"Topic4\", \"Topic4\", \"Topic4\"], \"logprob\": [30.0, 29.0, 28.0, 27.0, 26.0, 25.0, 24.0, 23.0, 22.0, 21.0, 20.0, 19.0, 18.0, 17.0, 16.0, 15.0, 14.0, 13.0, 12.0, 11.0, 10.0, 9.0, 8.0, 7.0, 6.0, 5.0, 4.0, 3.0, 2.0, 1.0, -2.5683999061584473, -2.698499917984009, -3.895900011062622, -4.266200065612793, -4.477099895477295, -4.531599998474121, -4.958000183105469, -5.003799915313721, -5.039899826049805, -5.152299880981445, -5.182000160217285, -5.265500068664551, -5.3531999588012695, -5.356500148773193, -5.353099822998047, -5.39300012588501, -5.4440999031066895, -5.542500019073486, -5.551599979400635, -5.572800159454346, -5.554999828338623, -5.602399826049805, -5.602099895477295, -5.59630012512207, -5.631700038909912, -5.694399833679199, -5.685299873352051, -5.709099769592285, -5.7606000900268555, -5.75540018081665, -5.73390007019043, -3.136899948120117, -3.8376998901367188, -4.79010009765625, -5.353400230407715, -5.200900077819824, -4.733799934387207, -4.628300189971924, -5.266900062561035, -5.4704999923706055, -5.190899848937988, -5.408999919891357, -5.454800128936768, -5.376299858093262, -4.337399959564209, -4.35860013961792, -4.384099960327148, -4.492199897766113, -4.493100166320801, -4.651299953460693, -4.645599842071533, -4.710999965667725, -4.7642998695373535, -4.796599864959717, -4.8597002029418945, -4.871399879455566, -4.855400085449219, -4.88100004196167, -4.902299880981445, -4.969900131225586, -4.969699859619141, -4.973100185394287, -5.0406999588012695, -5.118199825286865, -5.1468000411987305, -5.191100120544434, -5.236999988555908, -5.234000205993652, -5.256100177764893, -5.321400165557861, -5.329899787902832, -5.372600078582764, -5.379899978637695, -5.397200107574463, -3.583899974822998, -4.341100215911865, -4.497000217437744, -4.9191999435424805, -4.7916998863220215, -4.8790998458862305, -4.305799961090088, -4.2789998054504395, -4.633800029754639, -4.577300071716309, -4.779300212860107, -4.901000022888184, -4.9243998527526855, -3.0460000038146973, -3.1566998958587646, -3.7613000869750977, -3.8645999431610107, -3.9809000492095947, -4.209499835968018, -4.342299938201904, -4.448500156402588, -4.708499908447266, -4.850200176239014, -4.950300216674805, -5.022799968719482, -5.054699897766113, -5.107500076293945, -5.165299892425537, -5.244900226593018, -5.279399871826172, -5.359799861907959, -5.353099822998047, -5.408999919891357, -5.4532999992370605, -5.45959997177124, -5.498899936676025, -5.492800235748291, -5.570799827575684, -5.621200084686279, -5.617300033569336, -5.668300151824951, -5.704100131988525, -5.7932000160217285, -3.628499984741211, -4.262499809265137, -3.5539000034332275, -4.7846999168396, -4.95959997177124, -4.760200023651123, -4.867400169372559, -4.8618998527526855, -4.991600036621094, -4.764999866485596, -4.851399898529053, -4.689499855041504, -4.238100051879883, -5.142899990081787, -2.1565001010894775, -2.904900074005127, -4.515999794006348, -4.586699962615967, -4.742499828338623, -4.769800186157227, -4.82390022277832, -4.870699882507324, -4.942699909210205, -5.065299987792969, -5.082099914550781, -5.103899955749512, -5.0980000495910645, -5.1244001388549805, -5.1458001136779785, -5.141499996185303, -5.179100036621094, -5.219299793243408, -5.204699993133545, -5.228799819946289, -5.247099876403809, -5.293700218200684, -5.324999809265137, -5.3190999031066895, -5.316199779510498, -5.348400115966797, -5.360000133514404, -5.411099910736084, -5.404900074005127, -5.4359002113342285, -4.807400226593018, -3.86929988861084, -4.305300235748291, -4.478400230407715, -4.871600151062012, -5.041900157928467], \"loglift\": [30.0, 29.0, 28.0, 27.0, 26.0, 25.0, 24.0, 23.0, 22.0, 21.0, 20.0, 19.0, 18.0, 17.0, 16.0, 15.0, 14.0, 13.0, 12.0, 11.0, 10.0, 9.0, 8.0, 7.0, 6.0, 5.0, 4.0, 3.0, 2.0, 1.0, 1.038100004196167, 1.038100004196167, 1.038100004196167, 1.0379999876022339, 1.0379999876022339, 1.0379999876022339, 1.0378999710083008, 1.0378999710083008, 1.0377999544143677, 1.0377999544143677, 1.0377999544143677, 1.0377000570297241, 1.0377000570297241, 1.0377000570297241, 1.0377000570297241, 1.0377000570297241, 1.0377000570297241, 1.037600040435791, 1.037600040435791, 1.037600040435791, 1.037600040435791, 1.037600040435791, 1.037600040435791, 1.037600040435791, 1.037600040435791, 1.037500023841858, 1.037500023841858, 1.037500023841858, 1.037500023841858, 1.037500023841858, 1.037500023841858, 0.6431000232696533, 0.7049000263214111, 0.7800999879837036, 0.8356000185012817, 0.6945000290870667, 0.33469998836517334, 0.20829999446868896, 0.5565000176429749, 0.8483999967575073, -0.06949999928474426, 0.32350000739097595, 0.541100025177002, -0.19740000367164612, 1.497499942779541, 1.497499942779541, 1.497499942779541, 1.4974000453948975, 1.4974000453948975, 1.4974000453948975, 1.4974000453948975, 1.4974000453948975, 1.4973000288009644, 1.4973000288009644, 1.4973000288009644, 1.4973000288009644, 1.4973000288009644, 1.4973000288009644, 1.4973000288009644, 1.4973000288009644, 1.4973000288009644, 1.4972000122070312, 1.4972000122070312, 1.4972000122070312, 1.4972000122070312, 1.4970999956130981, 1.4970999956130981, 1.4970999956130981, 1.4970999956130981, 1.4970999956130981, 1.496999979019165, 1.496999979019165, 1.496999979019165, 1.496999979019165, 1.1725000143051147, 1.1859999895095825, 1.1145000457763672, 1.2244999408721924, 1.1124999523162842, 1.1270999908447266, 0.23680000007152557, 0.1436000019311905, 0.5450999736785889, 0.2597000002861023, 0.6118999719619751, 0.6485000252723694, -0.08780000358819962, 1.5509999990463257, 1.5509999990463257, 1.5508999824523926, 1.5508999824523926, 1.5508999824523926, 1.5507999658584595, 1.5507999658584595, 1.5507999658584595, 1.5506999492645264, 1.5506000518798828, 1.5506000518798828, 1.5505000352859497, 1.5505000352859497, 1.5505000352859497, 1.5504000186920166, 1.5504000186920166, 1.5504000186920166, 1.5503000020980835, 1.5503000020980835, 1.5503000020980835, 1.5501999855041504, 1.5501999855041504, 1.5501999855041504, 1.5501999855041504, 1.5501999855041504, 1.5500999689102173, 1.5500999689102173, 1.5500999689102173, 1.5499999523162842, 1.5499000549316406, 1.2085000276565552, 1.1339999437332153, 0.8687000274658203, 1.1871999502182007, 1.2173999547958374, 1.0906000137329102, 1.128999948501587, 1.0469000339508057, 1.1230000257492065, 0.828499972820282, 0.8637999892234802, 0.4318999946117401, -0.45809999108314514, -0.30630001425743103, 1.559499979019165, 1.559499979019165, 1.5592000484466553, 1.5592000484466553, 1.5592000484466553, 1.5591000318527222, 1.5591000318527222, 1.5591000318527222, 1.5591000318527222, 1.559000015258789, 1.559000015258789, 1.559000015258789, 1.559000015258789, 1.559000015258789, 1.559000015258789, 1.559000015258789, 1.558899998664856, 1.558899998664856, 1.558899998664856, 1.558899998664856, 1.558899998664856, 1.558899998664856, 1.558899998664856, 1.5587999820709229, 1.5587999820709229, 1.5587999820709229, 1.5587999820709229, 1.5587999820709229, 1.5587999820709229, 1.5587999820709229, 1.1718000173568726, -0.0892999991774559, 0.11729999631643295, 0.27790001034736633, -0.03500000014901161, 0.026599999517202377]}, \"token.table\": {\"Topic\": [3, 1, 2, 3, 4, 1, 2, 3, 4, 1, 2, 3, 4, 2, 2, 4, 1, 2, 3, 4, 3, 1, 3, 1, 2, 3, 2, 2, 3, 4, 2, 1, 2, 3, 2, 2, 3, 4, 4, 1, 4, 1, 3, 4, 4, 3, 4, 1, 2, 1, 3, 2, 3, 4, 2, 3, 1, 2, 3, 4, 4, 1, 3, 2, 1, 2, 1, 2, 3, 3, 1, 4, 3, 4, 2, 4, 4, 1, 2, 2, 4, 4, 1, 1, 1, 4, 1, 3, 1, 2, 4, 3, 1, 1, 2, 1, 1, 4, 4, 3, 4, 1, 2, 3, 2, 3, 4, 1, 2, 2, 4, 2, 1, 3, 2, 1, 1, 2, 1, 3, 4, 4, 1, 2, 3, 4, 2, 1, 2, 3, 4, 1, 2, 3, 4, 2, 1, 3, 4, 1, 2, 3, 3, 4, 3, 3, 4, 1, 2, 3, 4, 2, 2, 3, 1, 1, 2, 4, 3, 1, 1, 2, 3, 1, 3, 4, 3, 2, 4, 3, 1, 4, 2, 3, 1, 1, 2, 1, 1, 4, 3, 1, 3, 4, 2, 3, 3, 3, 2, 3, 2, 1, 2, 3, 3, 4, 3, 1, 2, 1, 2, 3, 4, 4, 2, 3, 2], \"Freq\": [0.9999345541000366, 0.43611910939216614, 0.20484559237957, 0.156100794672966, 0.20296627283096313, 0.290620893239975, 0.38573017716407776, 0.14125797152519226, 0.18244442343711853, 0.999199628829956, 0.6801682710647583, 0.3194160461425781, 0.9991502165794373, 0.9996792078018188, 0.9996926784515381, 0.9997944831848145, 0.9993904829025269, 0.3409072458744049, 0.6589913368225098, 0.9995622634887695, 0.9991047978401184, 0.9999873042106628, 0.9997401237487793, 0.999949038028717, 0.9991937279701233, 0.9996453523635864, 0.999767541885376, 0.25814956426620483, 0.5054296851158142, 0.23641066253185272, 0.9997847676277161, 0.9997612237930298, 0.99943608045578, 0.9998093247413635, 0.999647319316864, 0.9996403455734253, 0.9986509084701538, 0.9996057748794556, 0.9994136691093445, 0.9999076128005981, 0.9999738931655884, 0.6735953688621521, 0.13409839570522308, 0.1922866404056549, 0.9996554851531982, 0.9988388419151306, 0.9988164901733398, 0.9997122287750244, 0.9993113279342651, 0.3688991665840149, 0.6309179663658142, 0.9997028708457947, 0.9994373321533203, 0.9990704655647278, 0.2899041473865509, 0.7100125551223755, 0.24703790247440338, 0.4277038276195526, 0.1686854362487793, 0.15670493245124817, 0.999570906162262, 0.9996970891952515, 0.9997361898422241, 0.9994999766349792, 0.9994454979896545, 0.9998199343681335, 0.999506413936615, 0.9996663331985474, 0.9996165633201599, 0.9993841052055359, 0.9994586110115051, 0.9993210434913635, 0.9991068840026855, 0.999146580696106, 0.32112106680870056, 0.6786996722221375, 0.9997480511665344, 0.9993247389793396, 0.9997004866600037, 0.7223940491676331, 0.27761873602867126, 0.9992220997810364, 0.9993544816970825, 0.9998567700386047, 0.9996623992919922, 0.9995872378349304, 0.8270179033279419, 0.17274795472621918, 0.2387455552816391, 0.7609472274780273, 0.9995986819267273, 0.9991951584815979, 0.9991869330406189, 0.999660849571228, 0.9993021488189697, 0.9995241761207581, 0.9995636343955994, 0.999257504940033, 0.9995584487915039, 0.9991743564605713, 0.999265730381012, 0.9991909265518188, 0.9997923970222473, 0.9989928603172302, 0.3101995289325714, 0.5030491948127747, 0.18662871420383453, 0.9994776844978333, 0.9998193383216858, 0.9994708299636841, 0.9994360208511353, 0.9993436932563782, 0.39574140310287476, 0.6040805578231812, 0.9998785257339478, 0.9994401931762695, 0.9996596574783325, 0.9998846054077148, 0.8166402578353882, 0.183040052652359, 0.9995545148849487, 0.999059796333313, 0.3302838206291199, 0.23096442222595215, 0.3265359103679657, 0.1121247187256813, 0.9989358186721802, 0.49486929178237915, 0.18737193942070007, 0.10190663486719131, 0.2159591168165207, 0.25975295901298523, 0.4123322367668152, 0.19696226716041565, 0.13110364973545074, 0.9996435642242432, 0.617920994758606, 0.17456819117069244, 0.2076542228460312, 0.2726569175720215, 0.241610586643219, 0.48547452688217163, 0.9992993474006653, 0.9997087717056274, 0.9996919631958008, 0.6949254870414734, 0.3048752546310425, 0.7165389060974121, 0.28337645530700684, 0.9998349547386169, 0.9997549653053284, 0.999423086643219, 0.9998078942298889, 0.9995155930519104, 0.9993429780006409, 0.4894362986087799, 0.36830008029937744, 0.14242854714393616, 0.9996423125267029, 0.999858558177948, 0.9999730587005615, 0.34783124923706055, 0.6518146395683289, 0.9995211362838745, 0.9994894862174988, 0.999415397644043, 0.9999293088912964, 0.9993780255317688, 0.9994877576828003, 0.9993455410003662, 0.7724930047988892, 0.2272469848394394, 0.2836228311061859, 0.7162373661994934, 0.9996539950370789, 0.2675797939300537, 0.7322126626968384, 0.9997507929801941, 0.9993379712104797, 0.9993465542793274, 0.9988137483596802, 0.6084101796150208, 0.16810840368270874, 0.22352053225040436, 0.3442632257938385, 0.655561089515686, 0.9992108941078186, 0.9990823268890381, 0.9993787407875061, 0.9997334480285645, 0.9997822046279907, 0.7090458273887634, 0.2905259430408478, 0.9989133477210999, 0.9994208812713623, 0.9993628263473511, 0.9995545744895935, 0.9993225336074829, 0.9995614886283875, 0.12721040844917297, 0.6816846132278442, 0.19094307720661163, 0.9999042749404907, 0.9994298815727234, 0.6904537081718445, 0.3094745874404907, 0.9996795654296875], \"Term\": [\"acabar\", \"agora\", \"agora\", \"agora\", \"agora\", \"ainda\", \"ainda\", \"ainda\", \"ainda\", \"ajudar\", \"alguem\", \"alguem\", \"algum\", \"amigo\", \"amor\", \"ano\", \"apenas\", \"assim\", \"assim\", \"assistir\", \"atleta\", \"bolsonaro\", \"bom\", \"brasil\", \"cabeca\", \"cabelo\", \"cada\", \"casa\", \"casa\", \"casa\", \"caso\", \"certo\", \"cidade\", \"coisa\", \"colocar\", \"comer\", \"comida\", \"comigo\", \"comprar\", \"contra\", \"corona\", \"coronavirus\", \"coronavirus\", \"coronavirus\", \"corrente\", \"cortar\", \"covid\", \"crise\", \"cu\", \"dar\", \"dar\", \"deixar\", \"demais\", \"dentro\", \"depois\", \"depois\", \"deus\", \"deus\", \"deus\", \"deus\", \"devido\", \"dinheiro\", \"dizer\", \"dois\", \"doria\", \"dps\", \"economia\", \"embora\", \"enquanto\", \"entrar\", \"eua\", \"feito\", \"festa\", \"filho\", \"fim\", \"fim\", \"final\", \"fome\", \"foto\", \"gente\", \"gente\", \"geral\", \"governador\", \"governo\", \"grande\", \"gripezinha\", \"ha\", \"ha\", \"hora\", \"hora\", \"hospital\", \"ideia\", \"igual\", \"impeachment\", \"irmao\", \"isolamento\", \"italia\", \"jeito\", \"jogar\", \"kkk\", \"kkkkkkk\", \"lado\", \"logo\", \"longe\", \"mae\", \"mae\", \"mae\", \"maior\", \"mal\", \"mano\", \"matar\", \"medo\", \"melhor\", \"melhor\", \"merda\", \"mil\", \"milhoes\", \"mim\", \"momento\", \"momento\", \"morrer\", \"msm\", \"muito\", \"muito\", \"muito\", \"muito\", \"mulher\", \"mundo\", \"mundo\", \"mundo\", \"mundo\", \"nada\", \"nada\", \"nada\", \"nada\", \"normal\", \"novo\", \"novo\", \"novo\", \"nunca\", \"nunca\", \"nunca\", \"ok\", \"ontem\", \"oq\", \"pai\", \"pai\", \"pandemia\", \"pandemia\", \"passar\", \"pegar\", \"pensar\", \"pessoa\", \"pessoal\", \"populacao\", \"porque\", \"porque\", \"porque\", \"pos\", \"povo\", \"presidente\", \"primeiro\", \"primeiro\", \"problema\", \"provar\", \"qual\", \"quando\", \"quase\", \"real\", \"saudade\", \"saude\", \"saude\", \"semana\", \"semana\", \"senhor\", \"sim\", \"sim\", \"situacao\", \"social\", \"sp\", \"tal\", \"tambem\", \"tambem\", \"tambem\", \"tanto\", \"tanto\", \"tarde\", \"tbm\", \"tedio\", \"tempo\", \"tomar\", \"trabalhar\", \"trabalhar\", \"triste\", \"unica\", \"usar\", \"varios\", \"verdade\", \"vez\", \"vida\", \"vida\", \"vida\", \"virus\", \"volta\", \"voltar\", \"voltar\", \"vontade\"]}, \"R\": 30, \"lambda.step\": 0.01, \"plot.opts\": {\"xlab\": \"PC1\", \"ylab\": \"PC2\"}, \"topic.order\": [3, 2, 4, 1]};\n",
       "\n",
       "function LDAvis_load_lib(url, callback){\n",
       "  var s = document.createElement('script');\n",
       "  s.src = url;\n",
       "  s.async = true;\n",
       "  s.onreadystatechange = s.onload = callback;\n",
       "  s.onerror = function(){console.warn(\"failed to load library \" + url);};\n",
       "  document.getElementsByTagName(\"head\")[0].appendChild(s);\n",
       "}\n",
       "\n",
       "if(typeof(LDAvis) !== \"undefined\"){\n",
       "   // already loaded: just create the visualization\n",
       "   !function(LDAvis){\n",
       "       new LDAvis(\"#\" + \"ldavis_el1462423000583687122304985403\", ldavis_el1462423000583687122304985403_data);\n",
       "   }(LDAvis);\n",
       "}else if(typeof define === \"function\" && define.amd){\n",
       "   // require.js is available: use it to load d3/LDAvis\n",
       "   require.config({paths: {d3: \"https://cdnjs.cloudflare.com/ajax/libs/d3/3.5.5/d3.min\"}});\n",
       "   require([\"d3\"], function(d3){\n",
       "      window.d3 = d3;\n",
       "      LDAvis_load_lib(\"https://cdn.rawgit.com/bmabey/pyLDAvis/files/ldavis.v1.0.0.js\", function(){\n",
       "        new LDAvis(\"#\" + \"ldavis_el1462423000583687122304985403\", ldavis_el1462423000583687122304985403_data);\n",
       "      });\n",
       "    });\n",
       "}else{\n",
       "    // require.js not available: dynamically load d3 & LDAvis\n",
       "    LDAvis_load_lib(\"https://cdnjs.cloudflare.com/ajax/libs/d3/3.5.5/d3.min.js\", function(){\n",
       "         LDAvis_load_lib(\"https://cdn.rawgit.com/bmabey/pyLDAvis/files/ldavis.v1.0.0.js\", function(){\n",
       "                 new LDAvis(\"#\" + \"ldavis_el1462423000583687122304985403\", ldavis_el1462423000583687122304985403_data);\n",
       "            })\n",
       "         });\n",
       "}\n",
       "</script>"
      ],
      "text/plain": [
       "PreparedData(topic_coordinates=              x         y  topics  cluster       Freq\n",
       "topic                                                \n",
       "2      0.025674  0.351844       1        1  35.410301\n",
       "1     -0.219657 -0.037899       2        1  22.364035\n",
       "3     -0.151235 -0.183343       3        1  21.202620\n",
       "0      0.345218 -0.130602       4        1  21.023041, topic_info=            Term          Freq         Total Category  logprob  loglift\n",
       "12        corona  26108.000000  26108.000000  Default  30.0000  30.0000\n",
       "0      bolsonaro  29127.000000  29127.000000  Default  29.0000  29.0000\n",
       "47    presidente  25574.000000  25574.000000  Default  28.0000  28.0000\n",
       "146        virus  12352.000000  12352.000000  Default  27.0000  27.0000\n",
       "205       quando  10818.000000  10818.000000  Default  26.0000  26.0000\n",
       "..           ...           ...           ...      ...      ...      ...\n",
       "15   coronavirus   4708.585449  24489.480469   Topic4  -3.8693  -0.0893\n",
       "83          casa   3044.745361  12880.129883   Topic4  -4.3053   0.1173\n",
       "40         gente   2560.748535   9224.881836   Topic4  -4.4784   0.2779\n",
       "149        agora   1728.222046   8513.729492   Topic4  -4.8716  -0.0350\n",
       "201        mundo   1457.587280   6751.277832   Topic4  -5.0419   0.0266\n",
       "\n",
       "[197 rows x 6 columns], token_table=      Topic      Freq     Term\n",
       "term                          \n",
       "142       3  0.999935   acabar\n",
       "149       1  0.436119    agora\n",
       "149       2  0.204846    agora\n",
       "149       3  0.156101    agora\n",
       "149       4  0.202966    agora\n",
       "...     ...       ...      ...\n",
       "146       4  0.999904    virus\n",
       "90        4  0.999430    volta\n",
       "460       2  0.690454   voltar\n",
       "460       3  0.309475   voltar\n",
       "512       2  0.999680  vontade\n",
       "\n",
       "[207 rows x 3 columns], R=30, lambda_step=0.01, plot_opts={'xlab': 'PC1', 'ylab': 'PC2'}, topic_order=[3, 2, 4, 1])"
      ]
     },
     "execution_count": 22,
     "metadata": {},
     "output_type": "execute_result"
    }
   ],
   "source": [
    "# Visualização dos tópicos em clusters\n",
    "\n",
    "pyLDAvis.enable_notebook()\n",
    "vis = pyLDAvis.gensim.prepare(lda_model, corpus, id2word)\n",
    "vis"
   ]
  },
  {
   "cell_type": "code",
   "execution_count": 23,
   "metadata": {},
   "outputs": [
    {
     "name": "stdout",
     "output_type": "stream",
     "text": [
      "[(0,\n",
      "  '0.145*\"presidente\" + 0.060*\"bolsonaro\" + 0.028*\"povo\" + 0.017*\"governo\" + '\n",
      "  '0.017*\"brasil\" + 0.014*\"contra\" + 0.013*\"governador\" + 0.012*\"doria\" + '\n",
      "  '0.011*\"nada\" + 0.010*\"agora\"'),\n",
      " (1,\n",
      "  '0.068*\"depois\" + 0.049*\"pandemia\" + 0.025*\"coisa\" + 0.016*\"final\" + '\n",
      "  '0.015*\"casa\" + 0.013*\"meio\" + 0.012*\"social\" + 0.011*\"unica\" + '\n",
      "  '0.010*\"ninguem\" + 0.010*\"isolamento\"'),\n",
      " (2,\n",
      "  '0.044*\"bolsonaro\" + 0.030*\"presidente\" + 0.023*\"muito\" + 0.021*\"tempo\" + '\n",
      "  '0.018*\"mundo\" + 0.016*\"corrente\" + 0.014*\"bom\" + 0.013*\"pandemia\" + '\n",
      "  '0.012*\"menos\" + 0.010*\"qual\"'),\n",
      " (3,\n",
      "  '0.024*\"primeiro\" + 0.018*\"pai\" + 0.015*\"medo\" + 0.015*\"tu\" + 0.014*\"casa\" + '\n",
      "  '0.014*\"quando\" + 0.014*\"kkkkkkk\" + 0.013*\"grupo\" + 0.012*\"gente\" + '\n",
      "  '0.011*\"acabar\"'),\n",
      " (4,\n",
      "  '0.157*\"coronavirus\" + 0.035*\"brasil\" + 0.031*\"pandemia\" + 0.023*\"saude\" + '\n",
      "  '0.022*\"novo\" + 0.016*\"quando\" + 0.015*\"acabar\" + 0.012*\"agora\" + '\n",
      "  '0.012*\"crise\" + 0.011*\"mundo\"'),\n",
      " (5,\n",
      "  '0.035*\"acabar\" + 0.034*\"cabelo\" + 0.028*\"quando\" + 0.018*\"fim\" + '\n",
      "  '0.018*\"vontade\" + 0.016*\"cabeca\" + 0.015*\"casa\" + 0.014*\"comer\" + '\n",
      "  '0.014*\"semana\" + 0.013*\"demais\"'),\n",
      " (6,\n",
      "  '0.041*\"passar\" + 0.038*\"casa\" + 0.031*\"deus\" + 0.029*\"quando\" + 0.029*\"mim\" '\n",
      "  '+ 0.026*\"alguem\" + 0.023*\"acabar\" + 0.021*\"assim\" + 0.017*\"pos\" + '\n",
      "  '0.015*\"melhor\"'),\n",
      " (7,\n",
      "  '0.244*\"corona\" + 0.115*\"virus\" + 0.021*\"gente\" + 0.020*\"morrer\" + '\n",
      "  '0.020*\"pegar\" + 0.014*\"ainda\" + 0.013*\"matar\" + 0.011*\"embora\" + '\n",
      "  '0.010*\"casa\" + 0.010*\"mundo\"'),\n",
      " (8,\n",
      "  '0.026*\"logo\" + 0.026*\"sim\" + 0.018*\"coronavirus\" + 0.018*\"cu\" + '\n",
      "  '0.017*\"casa\" + 0.016*\"quase\" + 0.015*\"tomar\" + 0.013*\"dps\" + 0.013*\"favor\" '\n",
      "  '+ 0.013*\"gente\"'),\n",
      " (9,\n",
      "  '0.153*\"bolsonaro\" + 0.025*\"nunca\" + 0.016*\"vida\" + 0.014*\"vez\" + '\n",
      "  '0.010*\"gente\" + 0.009*\"normal\" + 0.008*\"falar\" + 0.008*\"tanto\" + '\n",
      "  '0.008*\"merda\" + 0.008*\"lula\"')]\n"
     ]
    }
   ],
   "source": [
    "# Escolhe o modelo\n",
    "\n",
    "optimal_model = model_list[3]\n",
    "model_topics = optimal_model.show_topics(formatted=False)\n",
    "pprint(optimal_model.print_topics(num_words=10))"
   ]
  },
  {
   "cell_type": "code",
   "execution_count": 24,
   "metadata": {},
   "outputs": [],
   "source": [
    "# Encontrar qual o principal tópico em cada tweet\n",
    "\n",
    "def format_topics_sentences(ldamodel=lda_model, corpus=corpus, texts=lista):\n",
    "    # Output\n",
    "    sent_topics_df = pd.DataFrame()\n",
    "\n",
    "    # Seleciona o principal tópico de cada tweet\n",
    "    for i, row in enumerate(ldamodel[corpus]):\n",
    "        row = sorted(row, key=lambda x: (x[1]), reverse=True)\n",
    "        # Calcula o principal tópico, o percentual de contribuição e as palavras chaves de cada tweet\n",
    "        for j, (topic_num, prop_topic) in enumerate(row):\n",
    "            if j == 0:  # => mostra o principal tópico\n",
    "                wp = ldamodel.show_topic(topic_num)\n",
    "                topic_keywords = \", \".join([word for word, prop in wp])\n",
    "                sent_topics_df = sent_topics_df.append(pd.Series([int(topic_num), round(prop_topic,4), topic_keywords]), ignore_index=True)\n",
    "            else:\n",
    "                break\n",
    "    sent_topics_df.columns = ['Principal_Topico', 'Perc_Contributicao', 'Palavras_Chave']\n",
    "\n",
    "    # Inclui o texto original no final do DataFrame\n",
    "    contents = pd.Series(texts)\n",
    "    sent_topics_df = pd.concat([sent_topics_df, contents], axis=1)\n",
    "    return(sent_topics_df)"
   ]
  },
  {
   "cell_type": "code",
   "execution_count": 25,
   "metadata": {},
   "outputs": [],
   "source": [
    "# roda a função de calcular os principais tópicos de cada tweet\n",
    "\n",
    "df_topic_sents_keywords = format_topics_sentences(ldamodel=optimal_model, corpus=corpus, texts=lista)"
   ]
  },
  {
   "cell_type": "code",
   "execution_count": 26,
   "metadata": {},
   "outputs": [],
   "source": [
    "# Formata o DataFrame\n",
    "\n",
    "df_dominant_topic = df_topic_sents_keywords.reset_index()\n",
    "df_dominant_topic.columns = ['Index_DF_Original', 'Principal_Topico', 'Perc_Contrib_Topico', 'Palavras_Chave', 'Tweets']"
   ]
  },
  {
   "cell_type": "code",
   "execution_count": 27,
   "metadata": {
    "scrolled": true
   },
   "outputs": [
    {
     "data": {
      "text/html": [
       "<div>\n",
       "<style scoped>\n",
       "    .dataframe tbody tr th:only-of-type {\n",
       "        vertical-align: middle;\n",
       "    }\n",
       "\n",
       "    .dataframe tbody tr th {\n",
       "        vertical-align: top;\n",
       "    }\n",
       "\n",
       "    .dataframe thead th {\n",
       "        text-align: right;\n",
       "    }\n",
       "</style>\n",
       "<table border=\"1\" class=\"dataframe\">\n",
       "  <thead>\n",
       "    <tr style=\"text-align: right;\">\n",
       "      <th></th>\n",
       "      <th>Topico</th>\n",
       "      <th>Topico_Perc_Contrib</th>\n",
       "      <th>Palavras_Chave</th>\n",
       "      <th>Tweet</th>\n",
       "    </tr>\n",
       "  </thead>\n",
       "  <tbody>\n",
       "    <tr>\n",
       "      <th>0</th>\n",
       "      <td>0.0</td>\n",
       "      <td>0.9470</td>\n",
       "      <td>presidente, bolsonaro, povo, governo, brasil, ...</td>\n",
       "      <td>[assim, certo, recado, der, estupidez, dar, bo...</td>\n",
       "    </tr>\n",
       "    <tr>\n",
       "      <th>1</th>\n",
       "      <td>1.0</td>\n",
       "      <td>0.9250</td>\n",
       "      <td>depois, pandemia, coisa, final, casa, meio, so...</td>\n",
       "      <td>[tco, incorporar, rever, periodo, momento, ati...</td>\n",
       "    </tr>\n",
       "    <tr>\n",
       "      <th>2</th>\n",
       "      <td>2.0</td>\n",
       "      <td>0.9308</td>\n",
       "      <td>bolsonaro, presidente, muito, tempo, mundo, co...</td>\n",
       "      <td>[ainda, politicagem, das, numa, dar, bolsonaro...</td>\n",
       "    </tr>\n",
       "    <tr>\n",
       "      <th>3</th>\n",
       "      <td>3.0</td>\n",
       "      <td>0.9250</td>\n",
       "      <td>primeiro, pai, medo, tu, casa, quando, kkkkkkk...</td>\n",
       "      <td>[deixar, dia, ja, quando, noite, nao, acabar, ...</td>\n",
       "    </tr>\n",
       "    <tr>\n",
       "      <th>4</th>\n",
       "      <td>4.0</td>\n",
       "      <td>0.9437</td>\n",
       "      <td>coronavirus, brasil, pandemia, saude, novo, qu...</td>\n",
       "      <td>[bem, ainda, zero, obviamente, certeza, campan...</td>\n",
       "    </tr>\n",
       "    <tr>\n",
       "      <th>5</th>\n",
       "      <td>5.0</td>\n",
       "      <td>0.9182</td>\n",
       "      <td>acabar, cabelo, quando, fim, vontade, cabeca, ...</td>\n",
       "      <td>[nunca, comida, mandar, cortar, dos, cabelo, t...</td>\n",
       "    </tr>\n",
       "    <tr>\n",
       "      <th>6</th>\n",
       "      <td>6.0</td>\n",
       "      <td>0.9182</td>\n",
       "      <td>passar, casa, deus, quando, mim, alguem, acaba...</td>\n",
       "      <td>[comigo, estudar, nunca, comecou, dar, tanto, ...</td>\n",
       "    </tr>\n",
       "    <tr>\n",
       "      <th>7</th>\n",
       "      <td>7.0</td>\n",
       "      <td>0.9250</td>\n",
       "      <td>corona, virus, gente, morrer, pegar, ainda, ma...</td>\n",
       "      <td>[inferno, dentro, dos, vsf, corona, nada, muit...</td>\n",
       "    </tr>\n",
       "    <tr>\n",
       "      <th>8</th>\n",
       "      <td>8.0</td>\n",
       "      <td>0.9182</td>\n",
       "      <td>logo, sim, coronavirus, cu, casa, quase, tomar...</td>\n",
       "      <td>[sim, ja, talvez, simmm, ne, nao, rinite, quas...</td>\n",
       "    </tr>\n",
       "    <tr>\n",
       "      <th>9</th>\n",
       "      <td>9.0</td>\n",
       "      <td>0.9400</td>\n",
       "      <td>bolsonaro, nunca, vida, vez, gente, normal, fa...</td>\n",
       "      <td>[limpar, essencial, bolsonaro, casa, coisa, ch...</td>\n",
       "    </tr>\n",
       "  </tbody>\n",
       "</table>\n",
       "</div>"
      ],
      "text/plain": [
       "   Topico  Topico_Perc_Contrib  \\\n",
       "0     0.0               0.9470   \n",
       "1     1.0               0.9250   \n",
       "2     2.0               0.9308   \n",
       "3     3.0               0.9250   \n",
       "4     4.0               0.9437   \n",
       "5     5.0               0.9182   \n",
       "6     6.0               0.9182   \n",
       "7     7.0               0.9250   \n",
       "8     8.0               0.9182   \n",
       "9     9.0               0.9400   \n",
       "\n",
       "                                      Palavras_Chave  \\\n",
       "0  presidente, bolsonaro, povo, governo, brasil, ...   \n",
       "1  depois, pandemia, coisa, final, casa, meio, so...   \n",
       "2  bolsonaro, presidente, muito, tempo, mundo, co...   \n",
       "3  primeiro, pai, medo, tu, casa, quando, kkkkkkk...   \n",
       "4  coronavirus, brasil, pandemia, saude, novo, qu...   \n",
       "5  acabar, cabelo, quando, fim, vontade, cabeca, ...   \n",
       "6  passar, casa, deus, quando, mim, alguem, acaba...   \n",
       "7  corona, virus, gente, morrer, pegar, ainda, ma...   \n",
       "8  logo, sim, coronavirus, cu, casa, quase, tomar...   \n",
       "9  bolsonaro, nunca, vida, vez, gente, normal, fa...   \n",
       "\n",
       "                                               Tweet  \n",
       "0  [assim, certo, recado, der, estupidez, dar, bo...  \n",
       "1  [tco, incorporar, rever, periodo, momento, ati...  \n",
       "2  [ainda, politicagem, das, numa, dar, bolsonaro...  \n",
       "3  [deixar, dia, ja, quando, noite, nao, acabar, ...  \n",
       "4  [bem, ainda, zero, obviamente, certeza, campan...  \n",
       "5  [nunca, comida, mandar, cortar, dos, cabelo, t...  \n",
       "6  [comigo, estudar, nunca, comecou, dar, tanto, ...  \n",
       "7  [inferno, dentro, dos, vsf, corona, nada, muit...  \n",
       "8  [sim, ja, talvez, simmm, ne, nao, rinite, quas...  \n",
       "9  [limpar, essencial, bolsonaro, casa, coisa, ch...  "
      ]
     },
     "execution_count": 27,
     "metadata": {},
     "output_type": "execute_result"
    }
   ],
   "source": [
    "# Group top 5 sentences under each topic\n",
    "sent_topics_sorteddf_mallet = pd.DataFrame()\n",
    "\n",
    "sent_topics_outdf_grpd = df_topic_sents_keywords.groupby('Principal_Topico')\n",
    "\n",
    "for i, grp in sent_topics_outdf_grpd:\n",
    "    sent_topics_sorteddf_mallet = pd.concat([sent_topics_sorteddf_mallet, \n",
    "                                             grp.sort_values(['Perc_Contributicao'], ascending=[0]).head(1)], \n",
    "                                            axis=0)\n",
    "\n",
    "# Reset Index    \n",
    "sent_topics_sorteddf_mallet.reset_index(drop=True, inplace=True)\n",
    "\n",
    "# Format\n",
    "sent_topics_sorteddf_mallet.columns = ['Topico', \"Topico_Perc_Contrib\", \"Palavras_Chave\", \"Tweet\"]\n",
    "\n",
    "# Show\n",
    "sent_topics_sorteddf_mallet"
   ]
  },
  {
   "cell_type": "code",
   "execution_count": 28,
   "metadata": {},
   "outputs": [
    {
     "data": {
      "text/html": [
       "<div>\n",
       "<style scoped>\n",
       "    .dataframe tbody tr th:only-of-type {\n",
       "        vertical-align: middle;\n",
       "    }\n",
       "\n",
       "    .dataframe tbody tr th {\n",
       "        vertical-align: top;\n",
       "    }\n",
       "\n",
       "    .dataframe thead th {\n",
       "        text-align: right;\n",
       "    }\n",
       "</style>\n",
       "<table border=\"1\" class=\"dataframe\">\n",
       "  <thead>\n",
       "    <tr style=\"text-align: right;\">\n",
       "      <th></th>\n",
       "      <th>Principal_Topico</th>\n",
       "      <th>Palavras_Chave</th>\n",
       "      <th>Qtd_Tweets</th>\n",
       "      <th>Perc_Tweets</th>\n",
       "    </tr>\n",
       "  </thead>\n",
       "  <tbody>\n",
       "    <tr>\n",
       "      <th>0.0</th>\n",
       "      <td>2.0</td>\n",
       "      <td>bolsonaro, presidente, muito, tempo, mundo, co...</td>\n",
       "      <td>47409.0</td>\n",
       "      <td>0.1916</td>\n",
       "    </tr>\n",
       "    <tr>\n",
       "      <th>1.0</th>\n",
       "      <td>3.0</td>\n",
       "      <td>primeiro, pai, medo, tu, casa, quando, kkkkkkk...</td>\n",
       "      <td>22003.0</td>\n",
       "      <td>0.0889</td>\n",
       "    </tr>\n",
       "    <tr>\n",
       "      <th>2.0</th>\n",
       "      <td>1.0</td>\n",
       "      <td>depois, pandemia, coisa, final, casa, meio, so...</td>\n",
       "      <td>20148.0</td>\n",
       "      <td>0.0814</td>\n",
       "    </tr>\n",
       "    <tr>\n",
       "      <th>3.0</th>\n",
       "      <td>0.0</td>\n",
       "      <td>presidente, bolsonaro, povo, governo, brasil, ...</td>\n",
       "      <td>16985.0</td>\n",
       "      <td>0.0686</td>\n",
       "    </tr>\n",
       "    <tr>\n",
       "      <th>4.0</th>\n",
       "      <td>9.0</td>\n",
       "      <td>bolsonaro, nunca, vida, vez, gente, normal, fa...</td>\n",
       "      <td>27640.0</td>\n",
       "      <td>0.1117</td>\n",
       "    </tr>\n",
       "    <tr>\n",
       "      <th>...</th>\n",
       "      <td>...</td>\n",
       "      <td>...</td>\n",
       "      <td>...</td>\n",
       "      <td>...</td>\n",
       "    </tr>\n",
       "    <tr>\n",
       "      <th>247485.0</th>\n",
       "      <td>1.0</td>\n",
       "      <td>depois, pandemia, coisa, final, casa, meio, so...</td>\n",
       "      <td>NaN</td>\n",
       "      <td>NaN</td>\n",
       "    </tr>\n",
       "    <tr>\n",
       "      <th>247486.0</th>\n",
       "      <td>4.0</td>\n",
       "      <td>coronavirus, brasil, pandemia, saude, novo, qu...</td>\n",
       "      <td>NaN</td>\n",
       "      <td>NaN</td>\n",
       "    </tr>\n",
       "    <tr>\n",
       "      <th>247487.0</th>\n",
       "      <td>2.0</td>\n",
       "      <td>bolsonaro, presidente, muito, tempo, mundo, co...</td>\n",
       "      <td>NaN</td>\n",
       "      <td>NaN</td>\n",
       "    </tr>\n",
       "    <tr>\n",
       "      <th>247488.0</th>\n",
       "      <td>4.0</td>\n",
       "      <td>coronavirus, brasil, pandemia, saude, novo, qu...</td>\n",
       "      <td>NaN</td>\n",
       "      <td>NaN</td>\n",
       "    </tr>\n",
       "    <tr>\n",
       "      <th>247489.0</th>\n",
       "      <td>8.0</td>\n",
       "      <td>logo, sim, coronavirus, cu, casa, quase, tomar...</td>\n",
       "      <td>NaN</td>\n",
       "      <td>NaN</td>\n",
       "    </tr>\n",
       "  </tbody>\n",
       "</table>\n",
       "<p>247490 rows × 4 columns</p>\n",
       "</div>"
      ],
      "text/plain": [
       "          Principal_Topico                                     Palavras_Chave  \\\n",
       "0.0                    2.0  bolsonaro, presidente, muito, tempo, mundo, co...   \n",
       "1.0                    3.0  primeiro, pai, medo, tu, casa, quando, kkkkkkk...   \n",
       "2.0                    1.0  depois, pandemia, coisa, final, casa, meio, so...   \n",
       "3.0                    0.0  presidente, bolsonaro, povo, governo, brasil, ...   \n",
       "4.0                    9.0  bolsonaro, nunca, vida, vez, gente, normal, fa...   \n",
       "...                    ...                                                ...   \n",
       "247485.0               1.0  depois, pandemia, coisa, final, casa, meio, so...   \n",
       "247486.0               4.0  coronavirus, brasil, pandemia, saude, novo, qu...   \n",
       "247487.0               2.0  bolsonaro, presidente, muito, tempo, mundo, co...   \n",
       "247488.0               4.0  coronavirus, brasil, pandemia, saude, novo, qu...   \n",
       "247489.0               8.0  logo, sim, coronavirus, cu, casa, quase, tomar...   \n",
       "\n",
       "          Qtd_Tweets  Perc_Tweets  \n",
       "0.0          47409.0       0.1916  \n",
       "1.0          22003.0       0.0889  \n",
       "2.0          20148.0       0.0814  \n",
       "3.0          16985.0       0.0686  \n",
       "4.0          27640.0       0.1117  \n",
       "...              ...          ...  \n",
       "247485.0         NaN          NaN  \n",
       "247486.0         NaN          NaN  \n",
       "247487.0         NaN          NaN  \n",
       "247488.0         NaN          NaN  \n",
       "247489.0         NaN          NaN  \n",
       "\n",
       "[247490 rows x 4 columns]"
      ]
     },
     "execution_count": 28,
     "metadata": {},
     "output_type": "execute_result"
    }
   ],
   "source": [
    "# Numero de tweets por topico\n",
    "\n",
    "topic_counts = df_topic_sents_keywords['Principal_Topico'].value_counts()\n",
    "\n",
    "# Porcentagem de tweets por tópico\n",
    "topic_contribution = round(topic_counts/topic_counts.sum(), 4)\n",
    "\n",
    "# Número do tópico e suas palavras chave\n",
    "topic_num_keywords = df_topic_sents_keywords[['Principal_Topico', 'Palavras_Chave']]\n",
    "\n",
    "# Concatena as colunas\n",
    "df_dominant_topics = pd.concat([topic_num_keywords, topic_counts, topic_contribution], axis=1)\n",
    "\n",
    "# Renomeia as colunas\n",
    "df_dominant_topics.columns = ['Principal_Topico', 'Palavras_Chave', 'Qtd_Tweets', 'Perc_Tweets']\n",
    "\n",
    "# Mostra o DataFrame\n",
    "df_dominant_topics"
   ]
  },
  {
   "cell_type": "code",
   "execution_count": 29,
   "metadata": {},
   "outputs": [
    {
     "data": {
      "image/png": "[encoded data removed]",
      "text/plain": [
       "<Figure size 720x720 with 4 Axes>"
      ]
     },
     "metadata": {
      "needs_background": "light"
     },
     "output_type": "display_data"
    }
   ],
   "source": [
    "# Cria wordclouds\n",
    "\n",
    "cols = [color for name, color in mcolors.XKCD_COLORS.items()]\n",
    "\n",
    "cloud = WordCloud(stopwords=stop_words,\n",
    "                  background_color='white',\n",
    "                  width=2500,\n",
    "                  height=1800,\n",
    "                  max_words=10,\n",
    "                  colormap='tab10',\n",
    "                  color_func=lambda *args, **kwargs: cols[i],\n",
    "                  prefer_horizontal=1.0)\n",
    "\n",
    "topics = lda_model.show_topics(formatted=False)\n",
    "\n",
    "fig, axes = plt.subplots(2, 2, figsize=(10,10), sharex=True, sharey=True)\n",
    "\n",
    "for i, ax in enumerate(axes.flatten()):\n",
    "    fig.add_subplot(ax)\n",
    "    topic_words = dict(topics[i][1])\n",
    "    cloud.generate_from_frequencies(topic_words, max_font_size=300)\n",
    "    plt.gca().imshow(cloud)\n",
    "    plt.gca().set_title('Topic ' + str(i), fontdict=dict(size=16))\n",
    "    plt.gca().axis('off')\n",
    "\n",
    "\n",
    "plt.subplots_adjust(wspace=0, hspace=0)\n",
    "plt.axis('off')\n",
    "plt.margins(x=0, y=0)\n",
    "plt.tight_layout()\n",
    "plt.show()"
   ]
  },
  {
   "cell_type": "code",
   "execution_count": null,
   "metadata": {},
   "outputs": [],
   "source": []
  },
  {
   "cell_type": "code",
   "execution_count": null,
   "metadata": {},
   "outputs": [],
   "source": []
  },
  {
   "cell_type": "code",
   "execution_count": null,
   "metadata": {},
   "outputs": [],
   "source": []
  },
  {
   "cell_type": "code",
   "execution_count": null,
   "metadata": {},
   "outputs": [],
   "source": []
  },
  {
   "cell_type": "code",
   "execution_count": null,
   "metadata": {},
   "outputs": [],
   "source": []
  },
  {
   "cell_type": "code",
   "execution_count": null,
   "metadata": {},
   "outputs": [],
   "source": []
  }
 ],
 "metadata": {
  "kernelspec": {
   "display_name": "Python 3",
   "language": "python",
   "name": "python3"
  },
  "language_info": {
   "codemirror_mode": {
    "name": "ipython",
    "version": 3
   },
   "file_extension": ".py",
   "mimetype": "text/x-python",
   "name": "python",
   "nbconvert_exporter": "python",
   "pygments_lexer": "ipython3",
   "version": "3.7.6"
  }
 },
 "nbformat": 4,
 "nbformat_minor": 1
}
