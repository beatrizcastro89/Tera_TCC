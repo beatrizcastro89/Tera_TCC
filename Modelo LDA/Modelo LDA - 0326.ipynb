{
 "cells": [
  {
   "cell_type": "markdown",
   "metadata": {
    "collapsed": true
   },
   "source": [
    "Análise do dia 26/03 através do modelo LDA."
   ]
  },
  {
   "cell_type": "code",
   "execution_count": 1,
   "metadata": {},
   "outputs": [],
   "source": [
    "# Importar bibliotecas\n",
    "\n",
    "# gerais\n",
    "import sys\n",
    "import os\n",
    "from pathlib import Path\n",
    "import re\n",
    "import numpy as np\n",
    "import pandas as pd\n",
    "from pprint import pprint\n",
    "from tqdm import tqdm\n",
    "from ast import literal_eval\n",
    "\n",
    "# Gensim\n",
    "import gensim, spacy, logging, warnings\n",
    "import gensim.corpora as corpora\n",
    "from gensim.utils import lemmatize, simple_preprocess\n",
    "from gensim.models import CoherenceModel\n",
    "from gensim.models.ldamulticore import LdaMulticore\n",
    "\n",
    "# NLTK Stop words\n",
    "import nltk\n",
    "from nltk.corpus import stopwords\n",
    "\n",
    "# sklearn\n",
    "from sklearn.feature_extraction.text import CountVectorizer\n",
    "\n",
    "#plot\n",
    "import pyLDAvis\n",
    "import pyLDAvis.gensim\n",
    "import matplotlib.pyplot as plt\n",
    "import matplotlib.colors as mcolors\n",
    "%matplotlib inline\n",
    "from wordcloud import WordCloud, STOPWORDS"
   ]
  },
  {
   "cell_type": "markdown",
   "metadata": {},
   "source": [
    "# Preparação dos dados"
   ]
  },
  {
   "cell_type": "code",
   "execution_count": 2,
   "metadata": {},
   "outputs": [],
   "source": [
    "# import dos dados\n",
    "\n",
    "df = pd.read_csv('2603_preprocessado.csv')"
   ]
  },
  {
   "cell_type": "code",
   "execution_count": 3,
   "metadata": {},
   "outputs": [],
   "source": [
    "# função para reverter os tokens processados em lista de tuples\n",
    "\n",
    "def strip_characters(text):\n",
    "    t = re.sub(r'\\(|\\)|:|,|;|\\.|’|”|“|\\?|%|>|<|\\[|\\]', '', text)\n",
    "    t = re.sub(r'/', ' ', t)\n",
    "    t = t.replace(\"'\",'')\n",
    "    return t"
   ]
  },
  {
   "cell_type": "code",
   "execution_count": 4,
   "metadata": {},
   "outputs": [],
   "source": [
    "# aplica função em todos os tokens\n",
    "\n",
    "df['token3'] = df['token3'].apply(lambda x: strip_characters(x))\n",
    "df['token3'] = df['token3'].apply(lambda x: str(x).split(' '))"
   ]
  },
  {
   "cell_type": "code",
   "execution_count": 5,
   "metadata": {},
   "outputs": [],
   "source": [
    "texto = list(df.token3)"
   ]
  },
  {
   "cell_type": "markdown",
   "metadata": {},
   "source": [
    "# Modelagem"
   ]
  },
  {
   "cell_type": "code",
   "execution_count": 6,
   "metadata": {},
   "outputs": [],
   "source": [
    "# Criar dicionário\n",
    "\n",
    "id2word = corpora.Dictionary(texto)"
   ]
  },
  {
   "cell_type": "code",
   "execution_count": 7,
   "metadata": {},
   "outputs": [],
   "source": [
    "# Criar o Corpus: A Frequência das palavras nos documentos\n",
    "\n",
    "corpus = [id2word.doc2bow(text) for text in texto]"
   ]
  },
  {
   "cell_type": "code",
   "execution_count": 8,
   "metadata": {},
   "outputs": [],
   "source": [
    "# Função para determinar a melhor quantidade de tópicos para a modelagem\n",
    "\n",
    "def compute_coherence_values(dictionary, corpus, texts, limit, start=2, step=5):\n",
    "    coherence_values = []\n",
    "    model_list = []\n",
    "    for num_topics in tqdm(range(start, limit, step)):\n",
    "        model = LdaMulticore(corpus, id2word=id2word, num_topics=10)\n",
    "        model_list.append(model)\n",
    "        coherencemodel = CoherenceModel(model=model, texts=texts, dictionary=dictionary, coherence='c_v')\n",
    "        coherence_values.append(coherencemodel.get_coherence())\n",
    "\n",
    "    return model_list, coherence_values"
   ]
  },
  {
   "cell_type": "code",
   "execution_count": 9,
   "metadata": {},
   "outputs": [
    {
     "name": "stderr",
     "output_type": "stream",
     "text": [
      "100%|██████████████████████████████████████████████████████████████████████████████████| 14/14 [13:56<00:00, 59.77s/it]\n"
     ]
    }
   ],
   "source": [
    "# Colocando parametros na função\n",
    "\n",
    "model_list, coherence_values = compute_coherence_values(dictionary=id2word, corpus=corpus, texts=texto, start=2, limit=30, step=2)"
   ]
  },
  {
   "cell_type": "code",
   "execution_count": 10,
   "metadata": {},
   "outputs": [
    {
     "data": {
      "image/png": "[encoded data removed]",
      "text/plain": [
       "<Figure size 432x288 with 1 Axes>"
      ]
     },
     "metadata": {
      "needs_background": "light"
     },
     "output_type": "display_data"
    }
   ],
   "source": [
    "# Mostrando visualmente a quantidade de tópicos\n",
    "\n",
    "limit=30; start=2; step=2;\n",
    "x = range(start, limit, step)\n",
    "plt.plot(x, coherence_values)\n",
    "plt.xlabel(\"Num Tópicos\")\n",
    "plt.ylabel(\"Score de Coerência\")\n",
    "plt.legend((\"Valores de Coerência\"), loc='best')\n",
    "plt.show()"
   ]
  },
  {
   "cell_type": "code",
   "execution_count": 11,
   "metadata": {},
   "outputs": [
    {
     "name": "stdout",
     "output_type": "stream",
     "text": [
      "A quantidade de tópicos = 2  tem um valor de coerência de  0.3064\n",
      "A quantidade de tópicos = 4  tem um valor de coerência de  0.3354\n",
      "A quantidade de tópicos = 6  tem um valor de coerência de  0.336\n",
      "A quantidade de tópicos = 8  tem um valor de coerência de  0.3246\n",
      "A quantidade de tópicos = 10  tem um valor de coerência de  0.3437\n",
      "A quantidade de tópicos = 12  tem um valor de coerência de  0.3348\n",
      "A quantidade de tópicos = 14  tem um valor de coerência de  0.3177\n",
      "A quantidade de tópicos = 16  tem um valor de coerência de  0.2791\n",
      "A quantidade de tópicos = 18  tem um valor de coerência de  0.3391\n",
      "A quantidade de tópicos = 20  tem um valor de coerência de  0.3288\n",
      "A quantidade de tópicos = 22  tem um valor de coerência de  0.3342\n",
      "A quantidade de tópicos = 24  tem um valor de coerência de  0.3435\n",
      "A quantidade de tópicos = 26  tem um valor de coerência de  0.3061\n",
      "A quantidade de tópicos = 28  tem um valor de coerência de  0.3019\n"
     ]
    }
   ],
   "source": [
    "# Lista dos valores de coerência, para melhor identificar o ponto de inflexão do gráfico\n",
    "\n",
    "for m, cv in zip(x, coherence_values):\n",
    "    print(\"A quantidade de tópicos =\", m, \" tem um valor de coerência de \", round(cv, 4))"
   ]
  },
  {
   "cell_type": "markdown",
   "metadata": {},
   "source": [
    "Aqui conseguimos determinar a melhor quantidade de tópicos a serem analisados, que é 8 tópicos"
   ]
  },
  {
   "cell_type": "code",
   "execution_count": 12,
   "metadata": {},
   "outputs": [],
   "source": [
    "# Vamos agora construir de fato o modelo LDA\n",
    "\n",
    "lda_model = LdaMulticore(corpus=corpus,\n",
    "                        id2word=id2word,\n",
    "                        num_topics=4, \n",
    "                        random_state=42,\n",
    "                        chunksize=100,\n",
    "                        passes=10,\n",
    "                        per_word_topics=True,\n",
    "                        alpha = 0.9,\n",
    "                        eta = 0.3)"
   ]
  },
  {
   "cell_type": "code",
   "execution_count": 13,
   "metadata": {},
   "outputs": [
    {
     "name": "stdout",
     "output_type": "stream",
     "text": [
      "\n",
      "Perplexidade:  -7.084509374583431\n"
     ]
    }
   ],
   "source": [
    "# Computar a perplexidade do modelo (quanto menor, melhor)\n",
    "\n",
    "print('\\nPerplexidade: ', lda_model.log_perplexity(corpus))"
   ]
  },
  {
   "cell_type": "code",
   "execution_count": 14,
   "metadata": {},
   "outputs": [
    {
     "name": "stdout",
     "output_type": "stream",
     "text": [
      "\n",
      "Score de Coerência:  0.3760450095700646\n"
     ]
    }
   ],
   "source": [
    "# Computar o Score de Coerência\n",
    "\n",
    "coherence_model_lda = CoherenceModel(model=lda_model, texts=texto, dictionary=id2word, coherence='c_v')\n",
    "coherence_lda = coherence_model_lda.get_coherence()\n",
    "print('\\nScore de Coerência: ', coherence_lda)"
   ]
  },
  {
   "cell_type": "code",
   "execution_count": 15,
   "metadata": {},
   "outputs": [
    {
     "data": {
      "text/html": [
       "\n",
       "<link rel=\"stylesheet\" type=\"text/css\" href=\"https://cdn.rawgit.com/bmabey/pyLDAvis/files/ldavis.v1.0.0.css\">\n",
       "\n",
       "\n",
       "<div id=\"ldavis_el200442593148547272570542028\"></div>\n",
       "<script type=\"text/javascript\">\n",
       "\n",
       "var ldavis_el200442593148547272570542028_data = {\"mdsDat\": {\"x\": [0.04574469057434434, -0.40379866687463395, 0.17090441603703307, 0.1871495602632566], \"y\": [0.39834538903709577, -0.08879625343605418, -0.2372394624366565, -0.07230967316438523], \"topics\": [1, 2, 3, 4], \"cluster\": [1, 1, 1, 1], \"Freq\": [28.412872314453125, 25.146697998046875, 24.138309478759766, 22.302120208740234]}, \"tinfo\": {\"Term\": [\"bolsonaro\", \"presidente\", \"\", \"casa\", \"quando\", \"pandemia\", \"agora\", \"acabar\", \"depois\", \"gente\", \"nem\", \"muito\", \"brasil\", \"mundo\", \"coisa\", \"sair\", \"nada\", \"povo\", \"passar\", \"sim\", \"deus\", \"nunca\", \"tempo\", \"ir\", \"vida\", \"governo\", \"cabelo\", \"contra\", \"saude\", \"porque\", \"pandemia\", \"brasil\", \"mundo\", \"povo\", \"governo\", \"contra\", \"saude\", \"novo\", \"crise\", \"economia\", \"meio\", \"melhor\", \"dinheiro\", \"isolamento\", \"doria\", \"momento\", \"maior\", \"populacao\", \"ha\", \"caso\", \"semana\", \"mil\", \"certo\", \"trabalho\", \"milhoes\", \"italia\", \"apenas\", \"social\", \"foto\", \"quase\", \"grande\", \"bolsonaro\", \"casa\", \"quando\", \"acabar\", \"gente\", \"nem\", \"sair\", \"nada\", \"ir\", \"tempo\", \"porque\", \"mae\", \"merda\", \"menos\", \"alguem\", \"falar\", \"pai\", \"hora\", \"sempre\", \"poder\", \"mal\", \"matar\", \"comer\", \"pouco\", \"cabeca\", \"dois\", \"tedio\", \"dentro\", \"kkkkkkk\", \"amigo\", \"presidente\", \"depois\", \"muito\", \"coisa\", \"passar\", \"vida\", \"tambem\", \"bom\", \"pessoa\", \"video\", \"primeiro\", \"favor\", \"tomar\", \"governador\", \"desde\", \"vontade\", \"corrente\", \"cu\", \"demais\", \"senhor\", \"outro\", \"caralho\", \"verdade\", \"igual\", \"tarde\", \"jogar\", \"tbm\", \"comprar\", \"colocar\", \"galera\", \"\", \"agora\", \"deus\", \"sim\", \"nunca\", \"cabelo\", \"trabalhar\", \"logo\", \"ninguem\", \"familia\", \"tanto\", \"voltar\", \"vez\", \"fim\", \"morrer\", \"pegar\", \"cada\", \"pois\", \"tava\", \"grupo\", \"risco\", \"qual\", \"medo\", \"preciso\", \"tirar\", \"deixar\", \"quanto\", \"saber\", \"lado\", \"fome\"], \"Freq\": [31415.0, 28094.0, 18952.0, 12514.0, 10682.0, 10974.0, 8912.0, 9476.0, 8599.0, 8714.0, 7242.0, 6767.0, 7530.0, 6434.0, 5233.0, 5143.0, 4926.0, 5373.0, 4676.0, 4335.0, 4313.0, 4137.0, 4173.0, 4130.0, 3983.0, 4287.0, 3530.0, 4159.0, 4029.0, 3624.0, 10973.66015625, 7529.4482421875, 6433.08154296875, 5372.443359375, 4286.5576171875, 4158.40966796875, 4028.88525390625, 3000.16357421875, 2710.63671875, 2714.38916015625, 2701.550537109375, 2671.072509765625, 2474.696044921875, 2168.117919921875, 2221.41552734375, 2148.891845703125, 2017.8504638671875, 1865.2191162109375, 1847.6072998046875, 1812.9715576171875, 1890.0155029296875, 1701.6900634765625, 1791.58740234375, 1770.544189453125, 1572.3885498046875, 1526.2315673828125, 1578.80810546875, 1525.6439208984375, 1577.2999267578125, 1614.6160888671875, 1565.1617431640625, 31414.568359375, 12513.0830078125, 10681.58984375, 9475.505859375, 8713.0693359375, 7241.7236328125, 5142.626953125, 4925.11279296875, 4129.15869140625, 4172.56298828125, 3623.591064453125, 3447.671875, 3005.721923828125, 3001.50927734375, 2792.524169921875, 2787.546875, 2536.379150390625, 2324.610107421875, 2307.266357421875, 2251.488525390625, 1915.430419921875, 1886.182373046875, 1680.120361328125, 1614.2615966796875, 1519.8533935546875, 1545.3297119140625, 1352.7884521484375, 1275.357177734375, 1235.34228515625, 1232.93505859375, 28093.1640625, 8598.7314453125, 6766.95556640625, 5232.8330078125, 4675.3623046875, 3982.096923828125, 2938.875732421875, 2680.3447265625, 2659.72216796875, 2651.077392578125, 2385.318115234375, 2103.412841796875, 2001.7642822265625, 1984.8111572265625, 1951.0958251953125, 1844.2972412109375, 1700.2916259765625, 1677.05859375, 1576.11962890625, 1547.713623046875, 1597.5972900390625, 1543.4127197265625, 1503.540771484375, 1481.7603759765625, 1474.2391357421875, 1427.5369873046875, 1307.1861572265625, 1309.36083984375, 1299.2457275390625, 1290.62548828125, 18951.87109375, 8911.79296875, 4312.49951171875, 4334.556640625, 4136.2919921875, 3529.233642578125, 3188.614501953125, 3060.784423828125, 2877.814208984375, 2827.106201171875, 2760.615966796875, 2720.457275390625, 2676.711181640625, 2606.393310546875, 2569.3251953125, 2291.6533203125, 2214.278564453125, 2254.375244140625, 2019.8531494140625, 1965.34033203125, 1958.8240966796875, 1906.3172607421875, 1852.0726318359375, 1729.9549560546875, 1753.741455078125, 1617.5433349609375, 1624.7459716796875, 1572.0054931640625, 1537.6104736328125, 1465.0904541015625], \"Total\": [31415.0, 28094.0, 18952.0, 12514.0, 10682.0, 10974.0, 8912.0, 9476.0, 8599.0, 8714.0, 7242.0, 6767.0, 7530.0, 6434.0, 5233.0, 5143.0, 4926.0, 5373.0, 4676.0, 4335.0, 4313.0, 4137.0, 4173.0, 4130.0, 3983.0, 4287.0, 3530.0, 4159.0, 4029.0, 3624.0, 10974.654296875, 7530.43115234375, 6434.09912109375, 5373.4765625, 4287.54150390625, 4159.3916015625, 4029.84619140625, 3001.1533203125, 2711.6103515625, 2715.367919921875, 2702.552978515625, 2672.10693359375, 2475.7021484375, 2169.096923828125, 2222.4345703125, 2149.89013671875, 2018.86279296875, 1866.189453125, 1848.612548828125, 1813.96875, 1891.059326171875, 1702.6588134765625, 1792.6192626953125, 1771.571044921875, 1573.3597412109375, 1527.1890869140625, 1579.80029296875, 1526.6112060546875, 1578.301513671875, 1615.648193359375, 1566.1839599609375, 31415.568359375, 12514.05859375, 10682.548828125, 9476.4521484375, 8714.044921875, 7242.69775390625, 5143.5849609375, 4926.0947265625, 4130.1357421875, 4173.5693359375, 3624.590087890625, 3448.627197265625, 3006.694580078125, 3002.501220703125, 2793.50537109375, 2788.530517578125, 2537.351318359375, 2325.59326171875, 2308.26220703125, 2252.48974609375, 1916.4024658203125, 1887.1513671875, 1681.0831298828125, 1615.248046875, 1520.814697265625, 1546.3331298828125, 1353.737548828125, 1276.3221435546875, 1236.3125, 1233.91357421875, 28094.12890625, 8599.6845703125, 6767.927734375, 5233.79638671875, 4676.328125, 3983.069091796875, 2939.844482421875, 2681.302978515625, 2660.689697265625, 2652.05224609375, 2386.266845703125, 2104.3837890625, 2002.7200927734375, 1985.77587890625, 1952.0689697265625, 1845.2613525390625, 1701.2188720703125, 1678.0128173828125, 1577.0745849609375, 1548.65869140625, 1598.57421875, 1544.38818359375, 1504.5123291015625, 1482.7222900390625, 1475.2030029296875, 1428.4986572265625, 1308.161865234375, 1310.340576171875, 1300.219482421875, 1291.6094970703125, 18952.779296875, 8912.7646484375, 4313.44677734375, 4335.521484375, 4137.2548828125, 3530.15869140625, 3189.587158203125, 3061.730712890625, 2878.78857421875, 2828.06640625, 2761.569580078125, 2721.417724609375, 2677.675537109375, 2607.3544921875, 2570.27734375, 2292.602294921875, 2215.240966796875, 2255.36474609375, 2020.8050537109375, 1966.29150390625, 1959.788330078125, 1907.2711181640625, 1853.031982421875, 1730.9073486328125, 1754.71044921875, 1618.5069580078125, 1625.71923828125, 1572.971923828125, 1538.597900390625, 1466.04931640625], \"Category\": [\"Default\", \"Default\", \"Default\", \"Default\", \"Default\", \"Default\", \"Default\", \"Default\", \"Default\", \"Default\", \"Default\", \"Default\", \"Default\", \"Default\", \"Default\", \"Default\", \"Default\", \"Default\", \"Default\", \"Default\", \"Default\", \"Default\", \"Default\", \"Default\", \"Default\", \"Default\", \"Default\", \"Default\", \"Default\", \"Default\", \"Topic1\", \"Topic1\", \"Topic1\", \"Topic1\", \"Topic1\", \"Topic1\", \"Topic1\", \"Topic1\", \"Topic1\", \"Topic1\", \"Topic1\", \"Topic1\", \"Topic1\", \"Topic1\", \"Topic1\", \"Topic1\", \"Topic1\", \"Topic1\", \"Topic1\", \"Topic1\", \"Topic1\", \"Topic1\", \"Topic1\", \"Topic1\", \"Topic1\", \"Topic1\", \"Topic1\", \"Topic1\", \"Topic1\", \"Topic1\", \"Topic1\", \"Topic2\", \"Topic2\", \"Topic2\", \"Topic2\", \"Topic2\", \"Topic2\", \"Topic2\", \"Topic2\", \"Topic2\", \"Topic2\", \"Topic2\", \"Topic2\", \"Topic2\", \"Topic2\", \"Topic2\", \"Topic2\", \"Topic2\", \"Topic2\", \"Topic2\", \"Topic2\", \"Topic2\", \"Topic2\", \"Topic2\", \"Topic2\", \"Topic2\", \"Topic2\", \"Topic2\", \"Topic2\", \"Topic2\", \"Topic2\", \"Topic3\", \"Topic3\", \"Topic3\", \"Topic3\", \"Topic3\", \"Topic3\", \"Topic3\", \"Topic3\", \"Topic3\", \"Topic3\", \"Topic3\", \"Topic3\", \"Topic3\", \"Topic3\", \"Topic3\", \"Topic3\", \"Topic3\", \"Topic3\", \"Topic3\", \"Topic3\", \"Topic3\", \"Topic3\", \"Topic3\", \"Topic3\", \"Topic3\", \"Topic3\", \"Topic3\", \"Topic3\", \"Topic3\", \"Topic3\", \"Topic4\", \"Topic4\", \"Topic4\", \"Topic4\", \"Topic4\", \"Topic4\", \"Topic4\", \"Topic4\", \"Topic4\", \"Topic4\", \"Topic4\", \"Topic4\", \"Topic4\", \"Topic4\", \"Topic4\", \"Topic4\", \"Topic4\", \"Topic4\", \"Topic4\", \"Topic4\", \"Topic4\", \"Topic4\", \"Topic4\", \"Topic4\", \"Topic4\", \"Topic4\", \"Topic4\", \"Topic4\", \"Topic4\", \"Topic4\"], \"logprob\": [30.0, 29.0, 28.0, 27.0, 26.0, 25.0, 24.0, 23.0, 22.0, 21.0, 20.0, 19.0, 18.0, 17.0, 16.0, 15.0, 14.0, 13.0, 12.0, 11.0, 10.0, 9.0, 8.0, 7.0, 6.0, 5.0, 4.0, 3.0, 2.0, 1.0, -3.2739999294281006, -3.650700092315674, -3.8080999851226807, -3.9881999492645264, -4.214000225067139, -4.2444000244140625, -4.276000022888184, -4.570799827575684, -4.672299861907959, -4.670899868011475, -4.6757001876831055, -4.686999797821045, -4.763400077819824, -4.895699977874756, -4.871399879455566, -4.904600143432617, -4.96750020980835, -5.04610013961792, -5.055600166320801, -5.07450008392334, -5.032899856567383, -5.137899875640869, -5.086400032043457, -5.098199844360352, -5.216899871826172, -5.246699810028076, -5.212800025939941, -5.247099876403809, -5.213799953460693, -5.190400123596191, -5.221499919891357, -2.100100040435791, -3.0206000804901123, -3.1789000034332275, -3.2987000942230225, -3.3826000690460205, -3.567500114440918, -3.9098000526428223, -3.9530999660491943, -4.129300117492676, -4.118899822235107, -4.259900093078613, -4.309700012207031, -4.446899890899658, -4.448299884796143, -4.520500183105469, -4.522200107574463, -4.616700172424316, -4.703800201416016, -4.711299896240234, -4.735799789428711, -4.897500038146973, -4.912799835205078, -5.028500080108643, -5.06850004196167, -5.128799915313721, -5.112199783325195, -5.245200157165527, -5.304200172424316, -5.336100101470947, -5.3379998207092285, -2.1709001064300537, -3.3548998832702637, -3.594399929046631, -3.8515000343322754, -3.964200019836426, -4.12470006942749, -4.428400039672852, -4.520500183105469, -4.528299808502197, -4.531499862670898, -4.6371002197265625, -4.762899875640869, -4.812399864196777, -4.820899963378906, -4.838099956512451, -4.894400119781494, -4.9756999015808105, -4.9893999099731445, -5.051499843597412, -5.069699764251709, -5.038000106811523, -5.072500228881836, -5.098599910736084, -5.1132001876831055, -5.118299961090088, -5.1504998207092285, -5.23859977722168, -5.2368998527526855, -5.244699954986572, -5.251299858093262, -2.4855000972747803, -3.240000009536743, -3.9658000469207764, -3.960700035095215, -4.007599830627441, -4.166299819946289, -4.2677998542785645, -4.308700084686279, -4.370299816131592, -4.3881001472473145, -4.411900043487549, -4.426599979400635, -4.442800045013428, -4.469399929046631, -4.483699798583984, -4.598100185394287, -4.632400035858154, -4.614500045776367, -4.724299907684326, -4.751699924468994, -4.755000114440918, -4.782199859619141, -4.810999870300293, -4.879300117492676, -4.865600109100342, -4.946400165557861, -4.941999912261963, -4.974999904632568, -4.997099876403809, -5.045400142669678], \"loglift\": [30.0, 29.0, 28.0, 27.0, 26.0, 25.0, 24.0, 23.0, 22.0, 21.0, 20.0, 19.0, 18.0, 17.0, 16.0, 15.0, 14.0, 13.0, 12.0, 11.0, 10.0, 9.0, 8.0, 7.0, 6.0, 5.0, 4.0, 3.0, 2.0, 1.0, 1.2582000494003296, 1.2582000494003296, 1.2582000494003296, 1.2581000328063965, 1.2581000328063965, 1.2581000328063965, 1.2581000328063965, 1.2580000162124634, 1.2580000162124634, 1.2580000162124634, 1.2580000162124634, 1.2578999996185303, 1.2578999996185303, 1.2578999996185303, 1.2578999996185303, 1.2578999996185303, 1.2577999830245972, 1.2577999830245972, 1.2577999830245972, 1.2577999830245972, 1.2577999830245972, 1.2577999830245972, 1.2577999830245972, 1.257699966430664, 1.257699966430664, 1.257699966430664, 1.257699966430664, 1.257699966430664, 1.257699966430664, 1.257699966430664, 1.257699966430664, 1.3803999423980713, 1.3803999423980713, 1.3803999423980713, 1.3803000450134277, 1.3803000450134277, 1.3803000450134277, 1.3803000450134277, 1.3802000284194946, 1.3802000284194946, 1.3802000284194946, 1.3802000284194946, 1.3802000284194946, 1.3801000118255615, 1.3801000118255615, 1.3801000118255615, 1.3801000118255615, 1.3801000118255615, 1.3799999952316284, 1.3799999952316284, 1.3799999952316284, 1.3798999786376953, 1.3798999786376953, 1.3798999786376953, 1.3797999620437622, 1.3797999620437622, 1.3797999620437622, 1.379699945449829, 1.379699945449829, 1.379699945449829, 1.379699945449829, 1.4213000535964966, 1.4213000535964966, 1.4212000370025635, 1.4212000370025635, 1.4212000370025635, 1.4211000204086304, 1.4210000038146973, 1.4210000038146973, 1.4210000038146973, 1.4210000038146973, 1.4210000038146973, 1.4208999872207642, 1.4208999872207642, 1.4208999872207642, 1.4208999872207642, 1.420799970626831, 1.420799970626831, 1.420799970626831, 1.420799970626831, 1.420799970626831, 1.420799970626831, 1.420699954032898, 1.420699954032898, 1.420699954032898, 1.420699954032898, 1.420699954032898, 1.4206000566482544, 1.4206000566482544, 1.4206000566482544, 1.4206000566482544, 1.5003999471664429, 1.5003999471664429, 1.5003000497817993, 1.5003000497817993, 1.5003000497817993, 1.5002000331878662, 1.5002000331878662, 1.5002000331878662, 1.500100016593933, 1.500100016593933, 1.500100016593933, 1.500100016593933, 1.500100016593933, 1.500100016593933, 1.500100016593933, 1.500100016593933, 1.500100016593933, 1.5, 1.5, 1.5, 1.5, 1.5, 1.5, 1.499899983406067, 1.499899983406067, 1.499899983406067, 1.499899983406067, 1.499899983406067, 1.4997999668121338, 1.4997999668121338]}, \"token.table\": {\"Topic\": [4, 2, 4, 2, 2, 1, 2, 3, 1, 2, 4, 4, 3, 2, 1, 1, 3, 3, 2, 3, 1, 3, 1, 3, 4, 3, 2, 3, 3, 4, 1, 2, 1, 1, 2, 4, 3, 4, 4, 1, 3, 2, 3, 1, 1, 4, 1, 2, 3, 2, 1, 1, 3, 2, 4, 4, 2, 1, 2, 2, 4, 1, 1, 2, 2, 1, 1, 1, 4, 3, 1, 2, 2, 4, 1, 4, 3, 2, 1, 3, 4, 3, 2, 4, 1, 2, 2, 1, 4, 3, 3, 4, 2, 4, 1, 4, 4, 2, 1, 1, 2, 3, 4, 1, 3, 4, 3, 4, 3, 2, 2, 4, 3, 4, 1, 3, 4, 3, 3, 4, 3], \"Freq\": [0.999958872795105, 0.9999523162841797, 0.9999142289161682, 0.9998190999031067, 0.9992595911026001, 0.999493420124054, 0.9999818801879883, 0.9995140433311462, 0.999809980392456, 0.9994642734527588, 0.9996717572212219, 0.9994397759437561, 0.9991011619567871, 0.9999154210090637, 0.9994659423828125, 0.9996545314788818, 0.9998478293418884, 0.9990621209144592, 0.999355673789978, 0.9989769458770752, 0.9996654391288757, 0.9992835521697998, 0.9997749328613281, 0.9993964433670044, 0.9996867775917053, 0.9993185997009277, 0.9989640712738037, 0.9999203681945801, 0.9994524121284485, 0.9996646046638489, 0.9997164011001587, 0.9991378784179688, 0.9993544816970825, 0.9994962215423584, 0.999809741973877, 0.9996229410171509, 0.9993424415588379, 0.9994804859161377, 0.9992842674255371, 0.9991753697395325, 0.9995281100273132, 0.9998800754547119, 0.9996092915534973, 0.999873697757721, 0.9992440342903137, 0.9993431568145752, 0.9996686577796936, 0.9997448921203613, 0.9995128512382507, 0.9997249841690063, 0.9994943141937256, 0.9992213845252991, 0.9996508955955505, 0.9989383816719055, 0.9996113777160645, 0.9997613430023193, 0.9998181462287903, 0.9995726346969604, 0.9992681741714478, 0.9993898868560791, 0.9994431138038635, 0.9997953772544861, 0.999585747718811, 0.9998330473899841, 0.9997689723968506, 0.9996130466461182, 0.9991357922554016, 0.9995859861373901, 0.9995030164718628, 0.9998629093170166, 0.9998291730880737, 0.9997777938842773, 0.999903678894043, 0.9997260570526123, 0.9996157288551331, 0.999696671962738, 0.9996408224105835, 0.9994674324989319, 0.9999403953552246, 0.9997159838676453, 0.9997372627258301, 0.9997407793998718, 0.9993386268615723, 0.9993948936462402, 0.9993626475334167, 0.9998372197151184, 0.9992273449897766, 0.9997252225875854, 0.9994757771492004, 0.9999598264694214, 0.9994691014289856, 0.9993335604667664, 0.9999486207962036, 0.999557614326477, 0.9995988011360168, 0.9995977282524109, 0.9993821382522583, 0.9998862743377686, 0.9997900128364563, 0.9994398355484009, 0.9994531869888306, 0.9995746612548828, 0.9998797178268433, 0.9995996356010437, 0.9997127652168274, 0.9997937679290771, 0.9991844892501831, 0.9996016025543213, 0.9991118311882019, 0.9994551539421082, 0.9998635649681091, 0.9995951056480408, 0.9996404647827148, 0.9998159408569336, 0.9996776580810547, 0.9996594786643982, 0.9997476935386658, 0.9997316002845764, 0.9996032118797302, 0.9994790554046631, 0.9993164539337158], \"Term\": [\"\", \"acabar\", \"agora\", \"alguem\", \"amigo\", \"apenas\", \"bolsonaro\", \"bom\", \"brasil\", \"cabeca\", \"cabelo\", \"cada\", \"caralho\", \"casa\", \"caso\", \"certo\", \"coisa\", \"colocar\", \"comer\", \"comprar\", \"contra\", \"corrente\", \"crise\", \"cu\", \"deixar\", \"demais\", \"dentro\", \"depois\", \"desde\", \"deus\", \"dinheiro\", \"dois\", \"doria\", \"economia\", \"falar\", \"familia\", \"favor\", \"fim\", \"fome\", \"foto\", \"galera\", \"gente\", \"governador\", \"governo\", \"grande\", \"grupo\", \"ha\", \"hora\", \"igual\", \"ir\", \"isolamento\", \"italia\", \"jogar\", \"kkkkkkk\", \"lado\", \"logo\", \"mae\", \"maior\", \"mal\", \"matar\", \"medo\", \"meio\", \"melhor\", \"menos\", \"merda\", \"mil\", \"milhoes\", \"momento\", \"morrer\", \"muito\", \"mundo\", \"nada\", \"nem\", \"ninguem\", \"novo\", \"nunca\", \"outro\", \"pai\", \"pandemia\", \"passar\", \"pegar\", \"pessoa\", \"poder\", \"pois\", \"populacao\", \"porque\", \"pouco\", \"povo\", \"preciso\", \"presidente\", \"primeiro\", \"qual\", \"quando\", \"quanto\", \"quase\", \"risco\", \"saber\", \"sair\", \"saude\", \"semana\", \"sempre\", \"senhor\", \"sim\", \"social\", \"tambem\", \"tanto\", \"tarde\", \"tava\", \"tbm\", \"tedio\", \"tempo\", \"tirar\", \"tomar\", \"trabalhar\", \"trabalho\", \"verdade\", \"vez\", \"vida\", \"video\", \"voltar\", \"vontade\"]}, \"R\": 30, \"lambda.step\": 0.01, \"plot.opts\": {\"xlab\": \"PC1\", \"ylab\": \"PC2\"}, \"topic.order\": [4, 1, 3, 2]};\n",
       "\n",
       "function LDAvis_load_lib(url, callback){\n",
       "  var s = document.createElement('script');\n",
       "  s.src = url;\n",
       "  s.async = true;\n",
       "  s.onreadystatechange = s.onload = callback;\n",
       "  s.onerror = function(){console.warn(\"failed to load library \" + url);};\n",
       "  document.getElementsByTagName(\"head\")[0].appendChild(s);\n",
       "}\n",
       "\n",
       "if(typeof(LDAvis) !== \"undefined\"){\n",
       "   // already loaded: just create the visualization\n",
       "   !function(LDAvis){\n",
       "       new LDAvis(\"#\" + \"ldavis_el200442593148547272570542028\", ldavis_el200442593148547272570542028_data);\n",
       "   }(LDAvis);\n",
       "}else if(typeof define === \"function\" && define.amd){\n",
       "   // require.js is available: use it to load d3/LDAvis\n",
       "   require.config({paths: {d3: \"https://cdnjs.cloudflare.com/ajax/libs/d3/3.5.5/d3.min\"}});\n",
       "   require([\"d3\"], function(d3){\n",
       "      window.d3 = d3;\n",
       "      LDAvis_load_lib(\"https://cdn.rawgit.com/bmabey/pyLDAvis/files/ldavis.v1.0.0.js\", function(){\n",
       "        new LDAvis(\"#\" + \"ldavis_el200442593148547272570542028\", ldavis_el200442593148547272570542028_data);\n",
       "      });\n",
       "    });\n",
       "}else{\n",
       "    // require.js not available: dynamically load d3 & LDAvis\n",
       "    LDAvis_load_lib(\"https://cdnjs.cloudflare.com/ajax/libs/d3/3.5.5/d3.min.js\", function(){\n",
       "         LDAvis_load_lib(\"https://cdn.rawgit.com/bmabey/pyLDAvis/files/ldavis.v1.0.0.js\", function(){\n",
       "                 new LDAvis(\"#\" + \"ldavis_el200442593148547272570542028\", ldavis_el200442593148547272570542028_data);\n",
       "            })\n",
       "         });\n",
       "}\n",
       "</script>"
      ],
      "text/plain": [
       "PreparedData(topic_coordinates=              x         y  topics  cluster       Freq\n",
       "topic                                                \n",
       "3      0.045745  0.398345       1        1  28.412872\n",
       "0     -0.403799 -0.088796       2        1  25.146698\n",
       "2      0.170904 -0.237239       3        1  24.138309\n",
       "1      0.187150 -0.072310       4        1  22.302120, topic_info=           Term          Freq         Total Category  logprob  loglift\n",
       "0     bolsonaro  31415.000000  31415.000000  Default  30.0000  30.0000\n",
       "43   presidente  28094.000000  28094.000000  Default  29.0000  29.0000\n",
       "7                18952.000000  18952.000000  Default  28.0000  28.0000\n",
       "79         casa  12514.000000  12514.000000  Default  27.0000  27.0000\n",
       "200      quando  10682.000000  10682.000000  Default  26.0000  26.0000\n",
       "..          ...           ...           ...      ...      ...      ...\n",
       "228      deixar   1617.543335   1618.506958   Topic4  -4.9464   1.4999\n",
       "122      quanto   1624.745972   1625.719238   Topic4  -4.9420   1.4999\n",
       "203       saber   1572.005493   1572.971924   Topic4  -4.9750   1.4999\n",
       "364        lado   1537.610474   1538.597900   Topic4  -4.9971   1.4998\n",
       "831        fome   1465.090454   1466.049316   Topic4  -5.0454   1.4998\n",
       "\n",
       "[151 rows x 6 columns], token_table=      Topic      Freq     Term\n",
       "term                          \n",
       "7         4  0.999959         \n",
       "137       2  0.999952   acabar\n",
       "143       4  0.999914    agora\n",
       "106       2  0.999819   alguem\n",
       "507       2  0.999260    amigo\n",
       "...     ...       ...      ...\n",
       "226       4  0.999748      vez\n",
       "23        3  0.999732     vida\n",
       "170       3  0.999603    video\n",
       "453       4  0.999479   voltar\n",
       "504       3  0.999316  vontade\n",
       "\n",
       "[121 rows x 3 columns], R=30, lambda_step=0.01, plot_opts={'xlab': 'PC1', 'ylab': 'PC2'}, topic_order=[4, 1, 3, 2])"
      ]
     },
     "execution_count": 15,
     "metadata": {},
     "output_type": "execute_result"
    }
   ],
   "source": [
    "# Visualização dos tópicos em clusters\n",
    "\n",
    "pyLDAvis.enable_notebook()\n",
    "vis = pyLDAvis.gensim.prepare(lda_model, corpus, id2word)\n",
    "vis"
   ]
  },
  {
   "cell_type": "code",
   "execution_count": 16,
   "metadata": {},
   "outputs": [],
   "source": [
    "# Função para determinar a melhor quantidade de tópicos para a modelagem\n",
    "\n",
    "def compute_coherence_values(dictionary, corpus, texts, limit, start=2, step=5):\n",
    "    coherence_values = []\n",
    "    model_list = []\n",
    "    for num_topics in tqdm(range(start, limit, step)):\n",
    "        model = LdaMulticore(corpus, id2word=id2word, num_topics=4)\n",
    "        model_list.append(model)\n",
    "        coherencemodel = CoherenceModel(model=model, texts=texts, dictionary=dictionary, coherence='c_v')\n",
    "        coherence_values.append(coherencemodel.get_coherence())\n",
    "\n",
    "    return model_list, coherence_values"
   ]
  },
  {
   "cell_type": "code",
   "execution_count": 17,
   "metadata": {},
   "outputs": [
    {
     "name": "stderr",
     "output_type": "stream",
     "text": [
      "100%|████████████████████████████████████████████████████████████████████████████████████| 1/1 [01:00<00:00, 60.81s/it]\n"
     ]
    }
   ],
   "source": [
    "# Colocando parametros na função\n",
    "\n",
    "model_list, coherence_values = compute_coherence_values(dictionary=id2word, corpus=corpus, texts=texto, start=2, limit=4, step=2)"
   ]
  },
  {
   "cell_type": "code",
   "execution_count": 18,
   "metadata": {},
   "outputs": [
    {
     "data": {
      "text/plain": [
       "[(0,\n",
       "  '0.097*\"\" + 0.026*\"pandemia\" + 0.018*\"nunca\" + 0.017*\"nem\" + 0.016*\"tempo\" + 0.013*\"tanto\" + 0.013*\"fim\" + 0.010*\"cabelo\" + 0.009*\"casa\" + 0.009*\"gente\" + 0.009*\"vida\" + 0.008*\"nada\" + 0.008*\"mae\" + 0.007*\"agora\" + 0.007*\"muito\" + 0.006*\"demais\" + 0.006*\"amo\" + 0.006*\"pai\" + 0.005*\"tedio\" + 0.005*\"pouco\"'),\n",
       " (1,\n",
       "  '0.040*\"casa\" + 0.039*\"quando\" + 0.035*\"acabar\" + 0.026*\"depois\" + 0.019*\"coisa\" + 0.019*\"sair\" + 0.015*\"passar\" + 0.013*\"ir\" + 0.012*\"gente\" + 0.011*\"agora\" + 0.010*\"nem\" + 0.010*\"pandemia\" + 0.008*\"bolsonaro\" + 0.007*\"merda\" + 0.007*\"alguem\" + 0.006*\"melhor\" + 0.006*\"comer\" + 0.006*\"mae\" + 0.006*\"bom\" + 0.006*\"quase\"'),\n",
       " (2,\n",
       "  '0.051*\"bolsonaro\" + 0.014*\"mundo\" + 0.013*\"nada\" + 0.013*\"pandemia\" + 0.012*\"sim\" + 0.010*\"primeiro\" + 0.009*\"muito\" + 0.009*\"brasil\" + 0.008*\"isolamento\" + 0.008*\"matar\" + 0.008*\"logo\" + 0.007*\"corrente\" + 0.007*\"grupo\" + 0.007*\"gente\" + 0.007*\"agora\" + 0.006*\"ninguem\" + 0.006*\"pessoa\" + 0.006*\"cabeca\" + 0.005*\"italia\" + 0.005*\"meio\"'),\n",
       " (3,\n",
       "  '0.080*\"presidente\" + 0.051*\"bolsonaro\" + 0.020*\"brasil\" + 0.014*\"povo\" + 0.013*\"saude\" + 0.011*\"contra\" + 0.011*\"governo\" + 0.009*\"agora\" + 0.008*\"gente\" + 0.007*\"doria\" + 0.007*\"novo\" + 0.006*\"economia\" + 0.006*\"deus\" + 0.005*\"muito\" + 0.005*\"crise\" + 0.005*\"governador\" + 0.005*\"mundo\" + 0.005*\"dinheiro\" + 0.005*\"tambem\" + 0.005*\"populacao\"')]"
      ]
     },
     "execution_count": 18,
     "metadata": {},
     "output_type": "execute_result"
    }
   ],
   "source": [
    "# Escolhe o modelo\n",
    "\n",
    "optimal_model = model_list[0]\n",
    "optimal_model.print_topics(num_topics = 4, num_words = 20)"
   ]
  },
  {
   "cell_type": "code",
   "execution_count": 19,
   "metadata": {},
   "outputs": [],
   "source": [
    "# Encontrar qual o principal tópico em cada tweet\n",
    "\n",
    "def format_topics_sentences(ldamodel=lda_model, corpus=corpus, texts=texto):\n",
    "    # Output\n",
    "    sent_topics_df = pd.DataFrame()\n",
    "\n",
    "    # Seleciona o principal tópico de cada tweet\n",
    "    for i, row in enumerate(ldamodel[corpus]):\n",
    "        row = sorted(row, key=lambda x: (x[1]), reverse=True)\n",
    "        # Calcula o principal tópico, o percentual de contribuição e as palavras chaves de cada tweet\n",
    "        for j, (topic_num, prop_topic) in enumerate(row):\n",
    "            if j == 0:  # => mostra o principal tópico\n",
    "                wp = ldamodel.show_topic(topic_num)\n",
    "                topic_keywords = \", \".join([word for word, prop in wp])\n",
    "                sent_topics_df = sent_topics_df.append(pd.Series([int(topic_num), round(prop_topic,4), topic_keywords]), ignore_index=True)\n",
    "            else:\n",
    "                break\n",
    "    sent_topics_df.columns = ['Principal_Topico', 'Perc_Contributicao', 'Palavras_Chave']\n",
    "\n",
    "    # Inclui o texto original no final do DataFrame\n",
    "    contents = pd.Series(texts)\n",
    "    sent_topics_df = pd.concat([sent_topics_df, contents], axis=1)\n",
    "    return(sent_topics_df)"
   ]
  },
  {
   "cell_type": "code",
   "execution_count": 20,
   "metadata": {},
   "outputs": [],
   "source": [
    "# roda a função de calcular os principais tópicos de cada tweet\n",
    "\n",
    "df_topic_sents_keywords = format_topics_sentences(ldamodel=optimal_model, corpus=corpus, texts=texto)"
   ]
  },
  {
   "cell_type": "code",
   "execution_count": 21,
   "metadata": {},
   "outputs": [],
   "source": [
    "# Formata o DataFrame\n",
    "\n",
    "df_dominant_topic = df_topic_sents_keywords.reset_index()\n",
    "df_dominant_topic.columns = ['Index_DF_Original', 'Principal_Topico', 'Perc_Contrib_Topico', 'Palavras_Chave', 'Tweets']"
   ]
  },
  {
   "cell_type": "code",
   "execution_count": 22,
   "metadata": {
    "scrolled": true
   },
   "outputs": [
    {
     "data": {
      "text/html": [
       "<div>\n",
       "<style scoped>\n",
       "    .dataframe tbody tr th:only-of-type {\n",
       "        vertical-align: middle;\n",
       "    }\n",
       "\n",
       "    .dataframe tbody tr th {\n",
       "        vertical-align: top;\n",
       "    }\n",
       "\n",
       "    .dataframe thead th {\n",
       "        text-align: right;\n",
       "    }\n",
       "</style>\n",
       "<table border=\"1\" class=\"dataframe\">\n",
       "  <thead>\n",
       "    <tr style=\"text-align: right;\">\n",
       "      <th></th>\n",
       "      <th>Topico</th>\n",
       "      <th>Topico_Perc_Contrib</th>\n",
       "      <th>Palavras_Chave</th>\n",
       "      <th>Tweet</th>\n",
       "    </tr>\n",
       "  </thead>\n",
       "  <tbody>\n",
       "    <tr>\n",
       "      <th>0</th>\n",
       "      <td>0.0</td>\n",
       "      <td>0.9424</td>\n",
       "      <td>, pandemia, nunca, nem, tempo, tanto, fim, cab...</td>\n",
       "      <td>[senao, tempo, estranho, feito, sempre, entrar...</td>\n",
       "    </tr>\n",
       "    <tr>\n",
       "      <th>1</th>\n",
       "      <td>1.0</td>\n",
       "      <td>0.9532</td>\n",
       "      <td>casa, quando, acabar, depois, coisa, sair, pas...</td>\n",
       "      <td>[hora, sair, bar, galera, louco, ninguem, quan...</td>\n",
       "    </tr>\n",
       "    <tr>\n",
       "      <th>2</th>\n",
       "      <td>2.0</td>\n",
       "      <td>0.9691</td>\n",
       "      <td>bolsonaro, mundo, nada, pandemia, sim, primeir...</td>\n",
       "      <td>[views, volta, daniel, marcela, fancam, thelma...</td>\n",
       "    </tr>\n",
       "    <tr>\n",
       "      <th>3</th>\n",
       "      <td>3.0</td>\n",
       "      <td>0.9574</td>\n",
       "      <td>presidente, bolsonaro, brasil, povo, saude, co...</td>\n",
       "      <td>[povo, patria, idiota, perceber, esquerdopata,...</td>\n",
       "    </tr>\n",
       "  </tbody>\n",
       "</table>\n",
       "</div>"
      ],
      "text/plain": [
       "   Topico  Topico_Perc_Contrib  \\\n",
       "0     0.0               0.9424   \n",
       "1     1.0               0.9532   \n",
       "2     2.0               0.9691   \n",
       "3     3.0               0.9574   \n",
       "\n",
       "                                      Palavras_Chave  \\\n",
       "0  , pandemia, nunca, nem, tempo, tanto, fim, cab...   \n",
       "1  casa, quando, acabar, depois, coisa, sair, pas...   \n",
       "2  bolsonaro, mundo, nada, pandemia, sim, primeir...   \n",
       "3  presidente, bolsonaro, brasil, povo, saude, co...   \n",
       "\n",
       "                                               Tweet  \n",
       "0  [senao, tempo, estranho, feito, sempre, entrar...  \n",
       "1  [hora, sair, bar, galera, louco, ninguem, quan...  \n",
       "2  [views, volta, daniel, marcela, fancam, thelma...  \n",
       "3  [povo, patria, idiota, perceber, esquerdopata,...  "
      ]
     },
     "execution_count": 22,
     "metadata": {},
     "output_type": "execute_result"
    }
   ],
   "source": [
    "# Group top 5 sentences under each topic\n",
    "sent_topics_sorteddf_mallet = pd.DataFrame()\n",
    "\n",
    "sent_topics_outdf_grpd = df_topic_sents_keywords.groupby('Principal_Topico')\n",
    "\n",
    "for i, grp in sent_topics_outdf_grpd:\n",
    "    sent_topics_sorteddf_mallet = pd.concat([sent_topics_sorteddf_mallet, \n",
    "                                             grp.sort_values(['Perc_Contributicao'], ascending=[0]).head(1)], \n",
    "                                            axis=0)\n",
    "\n",
    "# Reset Index    \n",
    "sent_topics_sorteddf_mallet.reset_index(drop=True, inplace=True)\n",
    "\n",
    "# Format\n",
    "sent_topics_sorteddf_mallet.columns = ['Topico', \"Topico_Perc_Contrib\", \"Palavras_Chave\", \"Tweet\"]\n",
    "\n",
    "# Show\n",
    "sent_topics_sorteddf_mallet"
   ]
  },
  {
   "cell_type": "code",
   "execution_count": 23,
   "metadata": {},
   "outputs": [
    {
     "data": {
      "text/html": [
       "<div>\n",
       "<style scoped>\n",
       "    .dataframe tbody tr th:only-of-type {\n",
       "        vertical-align: middle;\n",
       "    }\n",
       "\n",
       "    .dataframe tbody tr th {\n",
       "        vertical-align: top;\n",
       "    }\n",
       "\n",
       "    .dataframe thead th {\n",
       "        text-align: right;\n",
       "    }\n",
       "</style>\n",
       "<table border=\"1\" class=\"dataframe\">\n",
       "  <thead>\n",
       "    <tr style=\"text-align: right;\">\n",
       "      <th></th>\n",
       "      <th>Principal_Topico</th>\n",
       "      <th>Palavras_Chave</th>\n",
       "      <th>Qtd_Tweets</th>\n",
       "      <th>Perc_Tweets</th>\n",
       "    </tr>\n",
       "  </thead>\n",
       "  <tbody>\n",
       "    <tr>\n",
       "      <th>0.0</th>\n",
       "      <td>2.0</td>\n",
       "      <td>bolsonaro, mundo, nada, pandemia, sim, primeir...</td>\n",
       "      <td>57185.0</td>\n",
       "      <td>0.2311</td>\n",
       "    </tr>\n",
       "    <tr>\n",
       "      <th>1.0</th>\n",
       "      <td>0.0</td>\n",
       "      <td>, pandemia, nunca, nem, tempo, tanto, fim, cab...</td>\n",
       "      <td>68152.0</td>\n",
       "      <td>0.2754</td>\n",
       "    </tr>\n",
       "    <tr>\n",
       "      <th>2.0</th>\n",
       "      <td>0.0</td>\n",
       "      <td>, pandemia, nunca, nem, tempo, tanto, fim, cab...</td>\n",
       "      <td>51524.0</td>\n",
       "      <td>0.2082</td>\n",
       "    </tr>\n",
       "    <tr>\n",
       "      <th>3.0</th>\n",
       "      <td>0.0</td>\n",
       "      <td>, pandemia, nunca, nem, tempo, tanto, fim, cab...</td>\n",
       "      <td>70629.0</td>\n",
       "      <td>0.2854</td>\n",
       "    </tr>\n",
       "    <tr>\n",
       "      <th>4.0</th>\n",
       "      <td>1.0</td>\n",
       "      <td>casa, quando, acabar, depois, coisa, sair, pas...</td>\n",
       "      <td>NaN</td>\n",
       "      <td>NaN</td>\n",
       "    </tr>\n",
       "    <tr>\n",
       "      <th>...</th>\n",
       "      <td>...</td>\n",
       "      <td>...</td>\n",
       "      <td>...</td>\n",
       "      <td>...</td>\n",
       "    </tr>\n",
       "    <tr>\n",
       "      <th>247485.0</th>\n",
       "      <td>0.0</td>\n",
       "      <td>, pandemia, nunca, nem, tempo, tanto, fim, cab...</td>\n",
       "      <td>NaN</td>\n",
       "      <td>NaN</td>\n",
       "    </tr>\n",
       "    <tr>\n",
       "      <th>247486.0</th>\n",
       "      <td>0.0</td>\n",
       "      <td>, pandemia, nunca, nem, tempo, tanto, fim, cab...</td>\n",
       "      <td>NaN</td>\n",
       "      <td>NaN</td>\n",
       "    </tr>\n",
       "    <tr>\n",
       "      <th>247487.0</th>\n",
       "      <td>3.0</td>\n",
       "      <td>presidente, bolsonaro, brasil, povo, saude, co...</td>\n",
       "      <td>NaN</td>\n",
       "      <td>NaN</td>\n",
       "    </tr>\n",
       "    <tr>\n",
       "      <th>247488.0</th>\n",
       "      <td>3.0</td>\n",
       "      <td>presidente, bolsonaro, brasil, povo, saude, co...</td>\n",
       "      <td>NaN</td>\n",
       "      <td>NaN</td>\n",
       "    </tr>\n",
       "    <tr>\n",
       "      <th>247489.0</th>\n",
       "      <td>0.0</td>\n",
       "      <td>, pandemia, nunca, nem, tempo, tanto, fim, cab...</td>\n",
       "      <td>NaN</td>\n",
       "      <td>NaN</td>\n",
       "    </tr>\n",
       "  </tbody>\n",
       "</table>\n",
       "<p>247490 rows × 4 columns</p>\n",
       "</div>"
      ],
      "text/plain": [
       "          Principal_Topico                                     Palavras_Chave  \\\n",
       "0.0                    2.0  bolsonaro, mundo, nada, pandemia, sim, primeir...   \n",
       "1.0                    0.0  , pandemia, nunca, nem, tempo, tanto, fim, cab...   \n",
       "2.0                    0.0  , pandemia, nunca, nem, tempo, tanto, fim, cab...   \n",
       "3.0                    0.0  , pandemia, nunca, nem, tempo, tanto, fim, cab...   \n",
       "4.0                    1.0  casa, quando, acabar, depois, coisa, sair, pas...   \n",
       "...                    ...                                                ...   \n",
       "247485.0               0.0  , pandemia, nunca, nem, tempo, tanto, fim, cab...   \n",
       "247486.0               0.0  , pandemia, nunca, nem, tempo, tanto, fim, cab...   \n",
       "247487.0               3.0  presidente, bolsonaro, brasil, povo, saude, co...   \n",
       "247488.0               3.0  presidente, bolsonaro, brasil, povo, saude, co...   \n",
       "247489.0               0.0  , pandemia, nunca, nem, tempo, tanto, fim, cab...   \n",
       "\n",
       "          Qtd_Tweets  Perc_Tweets  \n",
       "0.0          57185.0       0.2311  \n",
       "1.0          68152.0       0.2754  \n",
       "2.0          51524.0       0.2082  \n",
       "3.0          70629.0       0.2854  \n",
       "4.0              NaN          NaN  \n",
       "...              ...          ...  \n",
       "247485.0         NaN          NaN  \n",
       "247486.0         NaN          NaN  \n",
       "247487.0         NaN          NaN  \n",
       "247488.0         NaN          NaN  \n",
       "247489.0         NaN          NaN  \n",
       "\n",
       "[247490 rows x 4 columns]"
      ]
     },
     "execution_count": 23,
     "metadata": {},
     "output_type": "execute_result"
    }
   ],
   "source": [
    "# Numero de tweets por topico\n",
    "\n",
    "topic_counts = df_topic_sents_keywords['Principal_Topico'].value_counts()\n",
    "\n",
    "# Porcentagem de tweets por tópico\n",
    "topic_contribution = round(topic_counts/topic_counts.sum(), 4)\n",
    "\n",
    "# Número do tópico e suas palavras chave\n",
    "topic_num_keywords = df_topic_sents_keywords[['Principal_Topico', 'Palavras_Chave']]\n",
    "\n",
    "# Concatena as colunas\n",
    "df_dominant_topics = pd.concat([topic_num_keywords, topic_counts, topic_contribution], axis=1)\n",
    "\n",
    "# Renomeia as colunas\n",
    "df_dominant_topics.columns = ['Principal_Topico', 'Palavras_Chave', 'Qtd_Tweets', 'Perc_Tweets']\n",
    "\n",
    "# Mostra o DataFrame\n",
    "df_dominant_topics"
   ]
  },
  {
   "cell_type": "code",
   "execution_count": 24,
   "metadata": {},
   "outputs": [],
   "source": [
    "# Criando stopwords em português utilizando a biblioteca nltk\n",
    "import pt_core_news_sm\n",
    "nlp = pt_core_news_sm.load()\n",
    "pt_stopwords = sorted([token.text for token in nlp.vocab if token.is_stop])\n",
    "list_exclude = ['obrigado', 'bom', 'mal', 'nenhuma', 'maior',\n",
    "             'bem', 'não', 'máximo', 'boa', 'mais',\n",
    "               'bastante', 'certamente', 'certeza', 'contra',\n",
    "                'quarentena', 'coronavírus', 'presidente', 'impeachment', 'demitido', 'demitida']\n",
    "for word in list_exclude:\n",
    "    nlp.vocab[word].is_stop = False\n",
    "list_include = set(['o', 'a', 'tá', 'ta', 'ser', 'pro', 'to', 'tô', 'vc', 'você', 'voce', 'pra',\n",
    "                    'pq', 'é', 'vou', 'que','tão', 'gt', 'de', 'da', 'do', 'em', 'uma', 'lá',\n",
    "                    'já', 'no', 'para', 'na', 'com', 'um', 'minha', 'se', 'isso', 'por', 'vou',\n",
    "                    'os', 'isso', 'como', 'mesmo', 'tenho', 'aqui', 'ele', 'ela', 'quem', 'fazer',\n",
    "                    'eu', 'só', 'ai', 'mais', 'só', 'querer', 'https', 'ter', 'estar', 'ficar',\n",
    "                    'dos', 'das', 'vcs', 'tem', 'as', 'mas','ao'\n",
    "                    'tava', 'nao', 'sao', 'ja', 'so', 'nossa',\n",
    "                    'nosso', 'estao', 'tco', 'me', 'dia', 'te', 'ver', 'sera', 'porra', 'fez', 'ne',\n",
    "                    'kkk','kkkkkk', 'puta', 'kkkkkkkk', 'hj', 'afff', 'gbr', 'meu', 'cara', 'guri', 'cmg',\n",
    "                    'ctg', 'agr', 'pqp', 'vdd', 'eh', 'va', 'obg',\n",
    "                    'corona','virus','coronavirus','covid','covid19','19'\n",
    "                   'nem', 'numa', 'num', 'nuns', 'ces', 'voces', 'oce', 'oces', 'kkkk', 'vao', 'via',\n",
    "                    'hj', 'hoje', 'tudo', 'todo', 'toda',\n",
    "                    'vir', 'bem','ao','sem','ou','vai', 'dizer', 'entao', 'dizer', 'entao',\n",
    "                    'tao', 'tu', 'mim', 'mano', 'oq', 'pos', 'dm', 'dps',\n",
    "                    'coronavirusoutbreak', 'coronavirusPandemic', 'dar', 'vairus',\n",
    "                    'ainda', 'assim']\n",
    "                  )\n",
    "for w in list_include:\n",
    "    nlp.vocab[w].is_stop = True\n",
    "stop_words = sorted([token.text for token in nlp.vocab if token.is_stop])"
   ]
  },
  {
   "cell_type": "code",
   "execution_count": 25,
   "metadata": {},
   "outputs": [
    {
     "data": {
      "image/png": "[encoded data removed]",
      "text/plain": [
       "<Figure size 720x720 with 4 Axes>"
      ]
     },
     "metadata": {
      "needs_background": "light"
     },
     "output_type": "display_data"
    }
   ],
   "source": [
    "# Cria wordclouds\n",
    "\n",
    "cols = [color for name, color in mcolors.XKCD_COLORS.items()]\n",
    "\n",
    "cloud = WordCloud(stopwords=stop_words,\n",
    "                  background_color='white',\n",
    "                  width=2500,\n",
    "                  height=1800,\n",
    "                  max_words=20,\n",
    "                  colormap='tab10',\n",
    "                  color_func=lambda *args, **kwargs: cols[i],\n",
    "                  prefer_horizontal=1.0)\n",
    "\n",
    "topics = lda_model.show_topics(formatted=False)\n",
    "\n",
    "fig, axes = plt.subplots(2, 2, figsize=(10,10), sharex=True, sharey=True)\n",
    "\n",
    "for i, ax in enumerate(axes.flatten()):\n",
    "    fig.add_subplot(ax)\n",
    "    topic_words = dict(topics[i][1])\n",
    "    cloud.generate_from_frequencies(topic_words, max_font_size=600)\n",
    "    plt.gca().imshow(cloud)\n",
    "    plt.gca().set_title('Topic ' + str(i), fontdict=dict(size=16))\n",
    "    plt.gca().axis('off')\n",
    "\n",
    "\n",
    "plt.subplots_adjust(wspace=0, hspace=0)\n",
    "plt.axis('off')\n",
    "plt.margins(x=0, y=0)\n",
    "plt.tight_layout()\n",
    "plt.show()"
   ]
  },
  {
   "cell_type": "code",
   "execution_count": 26,
   "metadata": {},
   "outputs": [],
   "source": [
    "sent_topics_sorteddf_mallet.to_excel('keywords_0326.xlsx')"
   ]
  }
 ],
 "metadata": {
  "kernelspec": {
   "display_name": "Python 3",
   "language": "python",
   "name": "python3"
  },
  "language_info": {
   "codemirror_mode": {
    "name": "ipython",
    "version": 3
   },
   "file_extension": ".py",
   "mimetype": "text/x-python",
   "name": "python",
   "nbconvert_exporter": "python",
   "pygments_lexer": "ipython3",
   "version": "3.7.6"
  }
 },
 "nbformat": 4,
 "nbformat_minor": 1
}
