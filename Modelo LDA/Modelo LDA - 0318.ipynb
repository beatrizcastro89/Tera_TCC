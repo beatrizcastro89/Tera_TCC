{
 "cells": [
  {
   "cell_type": "markdown",
   "metadata": {
    "collapsed": true
   },
   "source": [
    "Análise do dia 18/03 através do modelo LDA."
   ]
  },
  {
   "cell_type": "code",
   "execution_count": 1,
   "metadata": {},
   "outputs": [],
   "source": [
    "# Importar bibliotecas\n",
    "\n",
    "# gerais\n",
    "import sys\n",
    "import os\n",
    "from pathlib import Path\n",
    "import re\n",
    "import numpy as np\n",
    "import pandas as pd\n",
    "from pprint import pprint\n",
    "from tqdm import tqdm\n",
    "from ast import literal_eval\n",
    "\n",
    "# Gensim\n",
    "import gensim, spacy, logging, warnings\n",
    "import gensim.corpora as corpora\n",
    "from gensim.utils import lemmatize, simple_preprocess\n",
    "from gensim.models import CoherenceModel\n",
    "from gensim.models.ldamulticore import LdaMulticore\n",
    "\n",
    "# NLTK Stop words\n",
    "import nltk\n",
    "from nltk.corpus import stopwords\n",
    "\n",
    "#plot\n",
    "import pyLDAvis\n",
    "import pyLDAvis.gensim\n",
    "import matplotlib.pyplot as plt\n",
    "import matplotlib.colors as mcolors\n",
    "%matplotlib inline\n",
    "from wordcloud import WordCloud, STOPWORDS"
   ]
  },
  {
   "cell_type": "code",
   "execution_count": 2,
   "metadata": {},
   "outputs": [],
   "source": [
    "# Criando stopwords em português utilizando a biblioteca nltk\n",
    "\n",
    "nlp = spacy.load(\"pt_core_news_sm\")\n",
    "pt_stopwords = sorted([token.text for token in nlp.vocab if token.is_stop])\n",
    "list_exclude = ['obrigado', 'bom', 'mal', 'nenhuma', 'maior', \n",
    "             'bem', 'não', 'máximo', 'boa', 'mais',\n",
    "               'bastante', 'certamente', 'certeza', 'contra',\n",
    "                'quarentena', 'coronavírus', 'presidente', 'impeachment', 'demitido', 'demitida']\n",
    "for word in list_exclude:\n",
    "    nlp.vocab[word].is_stop = False\n",
    "list_include = set(['o', 'a', 'tá', 'ta', 'ser', 'pro', 'to', 'tô', 'vc', 'você', 'voce', 'pra',\n",
    "                    'pq', 'é', 'vou', 'que','tão', 'gt', 'de', 'da', 'do', 'em', 'uma', 'lá',\n",
    "                    'já', 'no', 'para', 'na', 'com', 'um', 'minha', 'se', 'isso', 'por', 'vou',\n",
    "                    'os', 'isso', 'como', 'mesmo', 'tenho', 'aqui', 'ele', 'ela', 'quem', 'fazer',\n",
    "                    'eu', 'só', 'ai', 'mais', 'só', 'querer', 'https', 'ter', 'estar', 'ficar',\n",
    "                    'dos', 'das', 'vcs', 'jairbolsonaro', 'tava', 'nao', 'sao', 'ja', 'so', 'nossa',\n",
    "                    'nosso', 'estao', 'tco', 'me', 'dia', 'te', 'ver', 'sera', 'porra', 'fez', 'ne',\n",
    "                    'kkkkkk', 'puta', 'kkkkkkkk', 'hj', 'afff', 'gbr', 'meu', 'cara', 'guri', 'cmg',\n",
    "                    'ctg', 'agr', 'pqp', 'vdd', 'eh', 'va', 'fudeu', 'fuder', 'fodeu', 'foda', 'obg',\n",
    "                   'nem', 'numa', 'num', 'nuns', 'ces', 'voces', 'oce', 'oces', 'kkkk', 'vao', 'via',\n",
    "                    'hj', 'hoje', 'tudo', 'todo', 'toda', 'ir', 'vir', 'bem', 'sair', 'tao']\n",
    "                  )\n",
    "for w in list_include:\n",
    "    nlp.vocab[w].is_stop = True\n",
    "stop_words = sorted([token.text for token in nlp.vocab if token.is_stop])"
   ]
  },
  {
   "cell_type": "markdown",
   "metadata": {},
   "source": [
    "# Preparação dos dados"
   ]
  },
  {
   "cell_type": "code",
   "execution_count": 3,
   "metadata": {},
   "outputs": [],
   "source": [
    "# import dos dados\n",
    "\n",
    "df = pd.read_csv('0318_preprocessado.csv')"
   ]
  },
  {
   "cell_type": "code",
   "execution_count": 4,
   "metadata": {},
   "outputs": [],
   "source": [
    "# import dos tokens\n",
    "\n",
    "df_tokens = pd.read_csv('tokens_unicos_10k.csv')"
   ]
  },
  {
   "cell_type": "code",
   "execution_count": 5,
   "metadata": {},
   "outputs": [],
   "source": [
    "# criação de lista de tokens\n",
    "\n",
    "lista_token = []\n",
    "\n",
    "for row in range(0, len(df_tokens)):\n",
    "    lista_token.append(df_tokens.iloc[row,1])\n",
    "    \n",
    "lista_token = set(lista_token)"
   ]
  },
  {
   "cell_type": "code",
   "execution_count": 6,
   "metadata": {},
   "outputs": [],
   "source": [
    "# filtranso os tokens para aparecer apenas os 10 mil mais frequentes\n",
    "\n",
    "df['token2'] = df.token.apply(lambda x: str(list(set(literal_eval(x)).intersection(lista_token))))"
   ]
  },
  {
   "cell_type": "code",
   "execution_count": 7,
   "metadata": {},
   "outputs": [],
   "source": [
    "# função para reverter os tokens processados em lista de tuples\n",
    "\n",
    "def strip_characters(text):\n",
    "    t = re.sub(r'\\(|\\)|:|,|;|\\.|’|”|“|\\?|%|>|<|\\[|\\]', '', text)\n",
    "    t = re.sub(r'/', ' ', t)\n",
    "    t = t.replace(\"'\",'')\n",
    "    return t"
   ]
  },
  {
   "cell_type": "code",
   "execution_count": 8,
   "metadata": {},
   "outputs": [],
   "source": [
    "# aplica função em todos os tokens\n",
    "\n",
    "df['token2'] = df['token2'].apply(lambda x: strip_characters(x))\n",
    "df['token2'] = df['token2'].apply(lambda x: str(x).split(' '))"
   ]
  },
  {
   "cell_type": "code",
   "execution_count": 9,
   "metadata": {},
   "outputs": [],
   "source": [
    "# transforma os tokens em lista\n",
    "\n",
    "lista = list(df['token2'])"
   ]
  },
  {
   "cell_type": "code",
   "execution_count": 10,
   "metadata": {},
   "outputs": [],
   "source": [
    "# Build the bigram and trigram models\n",
    "\n",
    "bigram = gensim.models.Phrases(lista, min_count=5, threshold=100)\n",
    "bigram_mod = gensim.models.phrases.Phraser(bigram)\n",
    "\n",
    "trigram = gensim.models.Phrases(bigram[lista], threshold=100)\n",
    "trigram_mod = gensim.models.phrases.Phraser(trigram)"
   ]
  },
  {
   "cell_type": "code",
   "execution_count": 11,
   "metadata": {},
   "outputs": [],
   "source": [
    "# função para preprocessar palavras\n",
    "\n",
    "def process_words(texts, stop_words=stop_words, allowed_postags=['NOUN', 'ADJ', 'VERB', 'ADV']):\n",
    "    texts1 = [[word for word in simple_preprocess(str(doc)) if word not in stop_words] for doc in texts]\n",
    "    texts2 = [bigram_mod[doc] for doc in texts1]\n",
    "    texts3 = [trigram_mod[bigram_mod[doc]] for doc in texts2]\n",
    "    texts4 = [[word for word in simple_preprocess(str(doc)) if word not in stop_words] for doc in texts3]    \n",
    "    return texts4"
   ]
  },
  {
   "cell_type": "code",
   "execution_count": 12,
   "metadata": {},
   "outputs": [],
   "source": [
    "# Processing the abstract\n",
    "\n",
    "texto = process_words(lista)"
   ]
  },
  {
   "cell_type": "markdown",
   "metadata": {},
   "source": [
    "# Modelagem"
   ]
  },
  {
   "cell_type": "code",
   "execution_count": 13,
   "metadata": {},
   "outputs": [],
   "source": [
    "# Criar dicionário\n",
    "\n",
    "id2word = corpora.Dictionary(texto)"
   ]
  },
  {
   "cell_type": "code",
   "execution_count": 14,
   "metadata": {},
   "outputs": [],
   "source": [
    "# Criar o Corpus: A Frequência das palavras nos documentos\n",
    "\n",
    "corpus = [id2word.doc2bow(text) for text in texto]"
   ]
  },
  {
   "cell_type": "code",
   "execution_count": 15,
   "metadata": {},
   "outputs": [],
   "source": [
    "# Função para determinar a melhor quantidade de tópicos para a modelagem\n",
    "\n",
    "def compute_coherence_values(dictionary, corpus, texts, limit, start=2, step=5):\n",
    "    coherence_values = []\n",
    "    model_list = []\n",
    "    for num_topics in tqdm(range(start, limit, step)):\n",
    "        model = LdaMulticore(corpus, id2word=id2word, num_topics=10)\n",
    "        model_list.append(model)\n",
    "        coherencemodel = CoherenceModel(model=model, texts=texts, dictionary=dictionary, coherence='c_v')\n",
    "        coherence_values.append(coherencemodel.get_coherence())\n",
    "\n",
    "    return model_list, coherence_values"
   ]
  },
  {
   "cell_type": "code",
   "execution_count": 16,
   "metadata": {},
   "outputs": [
    {
     "name": "stderr",
     "output_type": "stream",
     "text": [
      "100%|██████████████████████████████████████████████████████████████████████████████████| 14/14 [08:15<00:00, 35.37s/it]\n"
     ]
    }
   ],
   "source": [
    "# Colocando parametros na função\n",
    "\n",
    "model_list, coherence_values = compute_coherence_values(dictionary=id2word, corpus=corpus, texts=texto, start=2, limit=30, step=2)"
   ]
  },
  {
   "cell_type": "code",
   "execution_count": 17,
   "metadata": {},
   "outputs": [
    {
     "data": {
      "image/png": "[encoded data removed]",
      "text/plain": [
       "<Figure size 432x288 with 1 Axes>"
      ]
     },
     "metadata": {
      "needs_background": "light"
     },
     "output_type": "display_data"
    }
   ],
   "source": [
    "# Mostrando visualmente a quantidade de tópicos\n",
    "\n",
    "limit=30; start=2; step=2;\n",
    "x = range(start, limit, step)\n",
    "plt.plot(x, coherence_values)\n",
    "plt.xlabel(\"Num Tópicos\")\n",
    "plt.ylabel(\"Score de Coerência\")\n",
    "plt.legend((\"Valores de Coerência\"), loc='best')\n",
    "plt.show()"
   ]
  },
  {
   "cell_type": "code",
   "execution_count": 18,
   "metadata": {},
   "outputs": [
    {
     "name": "stdout",
     "output_type": "stream",
     "text": [
      "A quantidade de tópicos = 2  tem um valor de coerência de  0.2877\n",
      "A quantidade de tópicos = 4  tem um valor de coerência de  0.281\n",
      "A quantidade de tópicos = 6  tem um valor de coerência de  0.2937\n",
      "A quantidade de tópicos = 8  tem um valor de coerência de  0.2759\n",
      "A quantidade de tópicos = 10  tem um valor de coerência de  0.2913\n",
      "A quantidade de tópicos = 12  tem um valor de coerência de  0.2831\n",
      "A quantidade de tópicos = 14  tem um valor de coerência de  0.3023\n",
      "A quantidade de tópicos = 16  tem um valor de coerência de  0.297\n",
      "A quantidade de tópicos = 18  tem um valor de coerência de  0.286\n",
      "A quantidade de tópicos = 20  tem um valor de coerência de  0.3021\n",
      "A quantidade de tópicos = 22  tem um valor de coerência de  0.3191\n",
      "A quantidade de tópicos = 24  tem um valor de coerência de  0.299\n",
      "A quantidade de tópicos = 26  tem um valor de coerência de  0.2851\n",
      "A quantidade de tópicos = 28  tem um valor de coerência de  0.2875\n"
     ]
    }
   ],
   "source": [
    "# Lista dos valores de coerência, para melhor identificar o ponto de inflexão do gráfico\n",
    "\n",
    "for m, cv in zip(x, coherence_values):\n",
    "    print(\"A quantidade de tópicos =\", m, \" tem um valor de coerência de \", round(cv, 4))"
   ]
  },
  {
   "cell_type": "markdown",
   "metadata": {},
   "source": [
    "Aqui conseguimos determinar a melhor quantidade de tópicos a serem analisados, que é 8 tópicos"
   ]
  },
  {
   "cell_type": "code",
   "execution_count": 19,
   "metadata": {},
   "outputs": [],
   "source": [
    "# Vamos agora construir de fato o modelo LDA\n",
    "\n",
    "lda_model = LdaMulticore(corpus=corpus,\n",
    "                        id2word=id2word,\n",
    "                        num_topics=4, \n",
    "                        random_state=42,\n",
    "                        chunksize=100,\n",
    "                        passes=10,\n",
    "                        per_word_topics=True)"
   ]
  },
  {
   "cell_type": "code",
   "execution_count": 20,
   "metadata": {},
   "outputs": [
    {
     "name": "stdout",
     "output_type": "stream",
     "text": [
      "\n",
      "Perplexidade:  -6.734945877566817\n"
     ]
    }
   ],
   "source": [
    "# Computar a perplexidade do modelo (quanto menor, melhor)\n",
    "\n",
    "print('\\nPerplexidade: ', lda_model.log_perplexity(corpus))"
   ]
  },
  {
   "cell_type": "code",
   "execution_count": 21,
   "metadata": {},
   "outputs": [
    {
     "name": "stdout",
     "output_type": "stream",
     "text": [
      "\n",
      "Score de Coerência:  0.3148498302893776\n"
     ]
    }
   ],
   "source": [
    "# Computar o Score de Coerência\n",
    "\n",
    "coherence_model_lda = CoherenceModel(model=lda_model, texts=lista, dictionary=id2word, coherence='c_v')\n",
    "coherence_lda = coherence_model_lda.get_coherence()\n",
    "print('\\nScore de Coerência: ', coherence_lda)"
   ]
  },
  {
   "cell_type": "code",
   "execution_count": 22,
   "metadata": {},
   "outputs": [
    {
     "data": {
      "text/html": [
       "\n",
       "<link rel=\"stylesheet\" type=\"text/css\" href=\"https://cdn.rawgit.com/bmabey/pyLDAvis/files/ldavis.v1.0.0.css\">\n",
       "\n",
       "\n",
       "<div id=\"ldavis_el1008417117414553045963029269\"></div>\n",
       "<script type=\"text/javascript\">\n",
       "\n",
       "var ldavis_el1008417117414553045963029269_data = {\"mdsDat\": {\"x\": [0.04040939442485633, 0.001841282113493751, -0.34327617867783117, 0.3010255021394813], \"y\": [-0.35416017180649767, 0.03225136525141991, 0.1282795752160517, 0.1936292313390263], \"topics\": [1, 2, 3, 4], \"cluster\": [1, 1, 1, 1], \"Freq\": [28.94403839111328, 27.146610260009766, 22.039527893066406, 21.869827270507812]}, \"tinfo\": {\"Term\": [\"corona\", \"bolsonaro\", \"coronavirus\", \"virus\", \"presidente\", \"contra\", \"panelaco\", \"pandemia\", \"casa\", \"passar\", \"povo\", \"coronga\", \"mae\", \"quando\", \"favor\", \"coisa\", \"pegar\", \"panela\", \"mundo\", \"cu\", \"tomar\", \"tempo\", \"brasil\", \"sim\", \"pai\", \"medo\", \"assim\", \"mim\", \"saude\", \"primeiro\", \"bolsonaro\", \"contra\", \"panelaco\", \"povo\", \"favor\", \"panela\", \"cu\", \"tomar\", \"forabolsonaros\", \"comecou\", \"bater\", \"ouvir\", \"vergonha\", \"janela\", \"fechar\", \"tirar\", \"parabens\", \"problema\", \"geral\", \"gritar\", \"frente\", \"forabolsonaro\", \"ministro\", \"coletiva\", \"fdp\", \"partir\", \"jair\", \"globo\", \"apoio\", \"lula\", \"tentar\", \"presidente\", \"amo\", \"brasil\", \"agora\", \"galera\", \"hora\", \"governo\", \"brasileiro\", \"gente\", \"pessoal\", \"deus\", \"mundo\", \"tambem\", \"nada\", \"pandemia\", \"coronga\", \"quando\", \"tempo\", \"sim\", \"assim\", \"vida\", \"acabar\", \"melhor\", \"meio\", \"entao\", \"familia\", \"tedio\", \"trabalho\", \"segundo\", \"cabeca\", \"trabalhar\", \"gosto\", \"sempre\", \"preciso\", \"ano\", \"enquanto\", \"comer\", \"mt\", \"algo\", \"dizer\", \"quase\", \"fav\", \"assistir\", \"dois\", \"fim\", \"situacao\", \"mundo\", \"ainda\", \"dar\", \"casa\", \"muito\", \"gente\", \"bom\", \"nada\", \"merda\", \"pessoa\", \"menos\", \"falar\", \"nunca\", \"agora\", \"corona\", \"virus\", \"mae\", \"pegar\", \"pai\", \"medo\", \"mim\", \"caso\", \"matar\", \"morrer\", \"mal\", \"alcool\", \"semana\", \"demais\", \"vairus\", \"aula\", \"cabelo\", \"usar\", \"voltar\", \"longe\", \"lado\", \"festa\", \"ok\", \"perto\", \"contato\", \"dps\", \"hospital\", \"nenhum\", \"verdade\", \"irma\", \"cidade\", \"mano\", \"deus\", \"agora\", \"gente\", \"logo\", \"muito\", \"saber\", \"coronavirus\", \"passar\", \"coisa\", \"saude\", \"primeiro\", \"novo\", \"momento\", \"oq\", \"cada\", \"comigo\", \"dentro\", \"risco\", \"positivo\", \"diario\", \"deixar\", \"terceiro\", \"ha\", \"qual\", \"grande\", \"tipo\", \"desde\", \"noite\", \"populacao\", \"unica\", \"certeza\", \"bbb\", \"maos\", \"teste\", \"igual\", \"real\", \"irresponsavel\", \"casa\", \"depois\", \"porque\", \"brasil\", \"governo\", \"presidente\", \"alguem\", \"agora\", \"ainda\"], \"Freq\": [26843.0, 24207.0, 15378.0, 12299.0, 16220.0, 6105.0, 5845.0, 5266.0, 7987.0, 3269.0, 3835.0, 3533.0, 2714.0, 3008.0, 3030.0, 2161.0, 2148.0, 2400.0, 3887.0, 2243.0, 2233.0, 1974.0, 3615.0, 1925.0, 1634.0, 1611.0, 1849.0, 1590.0, 1574.0, 1508.0, 24207.234375, 6105.1123046875, 5845.3125, 3834.9013671875, 3030.040283203125, 2400.058837890625, 2242.458251953125, 2232.550048828125, 1483.9630126953125, 1322.2779541015625, 1088.27783203125, 1105.7337646484375, 944.00439453125, 860.3304443359375, 877.333251953125, 845.1488647460938, 810.6575927734375, 813.1349487304688, 775.1692504882812, 714.0712890625, 722.8162231445312, 680.9644165039062, 691.8759155273438, 661.9298095703125, 662.0758666992188, 677.0047607421875, 631.0192260742188, 607.4155883789062, 598.7024536132812, 576.7716064453125, 599.3216552734375, 14267.5126953125, 1000.9108276367188, 1885.2728271484375, 2265.05224609375, 1045.399658203125, 1031.02783203125, 1234.6077880859375, 848.3214721679688, 1517.458251953125, 830.427001953125, 1045.0399169921875, 1057.397705078125, 847.55517578125, 845.4926147460938, 5265.53564453125, 3532.39208984375, 3007.375244140625, 1973.4559326171875, 1924.9981689453125, 1848.3138427734375, 1722.702880859375, 1449.8955078125, 1451.017333984375, 1423.3699951171875, 1194.9251708984375, 1157.63623046875, 1096.232666015625, 1012.3510131835938, 940.4254760742188, 880.8092651367188, 863.41845703125, 824.2420654296875, 833.0015258789062, 799.5029296875, 782.2891235351562, 791.3685913085938, 774.3312377929688, 775.4849853515625, 770.3729858398438, 763.7057495117188, 732.8303833007812, 711.2161865234375, 713.4801025390625, 723.4933471679688, 720.6336669921875, 715.4843139648438, 2829.799072265625, 2247.6435546875, 1249.3131103515625, 3575.070556640625, 1923.6591796875, 2655.206298828125, 1089.6126708984375, 1585.11083984375, 1187.4715576171875, 975.7219848632812, 921.287353515625, 1024.363525390625, 1002.5254516601562, 1295.3319091796875, 26842.544921875, 12298.1904296875, 2713.46484375, 2147.93994140625, 1633.8680419921875, 1610.584228515625, 1590.0460205078125, 1188.2423095703125, 1092.5726318359375, 1094.5079345703125, 891.696044921875, 867.1648559570312, 847.0114135742188, 796.2232055664062, 755.4907836914062, 744.0979614257812, 714.2275390625, 710.458251953125, 677.5316162109375, 657.1404418945312, 679.6473388671875, 649.2999877929688, 553.7315063476562, 538.2651977539062, 541.7412719726562, 522.3296508789062, 528.4677734375, 492.912353515625, 485.2455749511719, 469.1684875488281, 748.4390258789062, 1075.9619140625, 1256.5101318359375, 1402.34912109375, 1241.599853515625, 645.234130859375, 706.4972534179688, 588.2037963867188, 15377.453125, 3269.10205078125, 2160.36669921875, 1573.48388671875, 1507.297607421875, 1391.6055908203125, 1223.6224365234375, 1022.3272705078125, 957.6546630859375, 820.1902465820312, 823.7070922851562, 818.7518310546875, 777.9614868164062, 755.0802612304688, 766.121826171875, 727.8179931640625, 730.4505615234375, 721.1813354492188, 704.318603515625, 678.046875, 670.1214599609375, 665.32177734375, 638.882568359375, 576.886962890625, 580.417724609375, 555.3191528320312, 555.140869140625, 535.254150390625, 552.5425415039062, 533.9916381835938, 537.6837768554688, 4411.302734375, 1286.6265869140625, 1056.7711181640625, 1729.886474609375, 1211.929443359375, 1952.660888671875, 746.7179565429688, 820.0887451171875, 763.102783203125], \"Total\": [26843.0, 24207.0, 15378.0, 12299.0, 16220.0, 6105.0, 5845.0, 5266.0, 7987.0, 3269.0, 3835.0, 3533.0, 2714.0, 3008.0, 3030.0, 2161.0, 2148.0, 2400.0, 3887.0, 2243.0, 2233.0, 1974.0, 3615.0, 1925.0, 1634.0, 1611.0, 1849.0, 1590.0, 1574.0, 1508.0, 24207.908203125, 6105.78857421875, 5845.98095703125, 3835.588134765625, 3030.720458984375, 2400.72509765625, 2243.142333984375, 2233.23828125, 1484.6343994140625, 1322.9617919921875, 1088.951171875, 1106.4283447265625, 944.6895141601562, 861.0023193359375, 878.051025390625, 845.841064453125, 811.3419189453125, 813.848876953125, 775.8568115234375, 714.7421264648438, 723.5106811523438, 681.6344604492188, 692.5736694335938, 662.6099243164062, 662.7685546875, 677.719482421875, 631.6934814453125, 608.09765625, 599.37890625, 577.4472045898438, 600.0555419921875, 16220.626953125, 1254.3876953125, 3615.61767578125, 5782.822265625, 1510.4462890625, 1591.769287109375, 2446.98974609375, 1107.6121826171875, 6016.30322265625, 1216.2137451171875, 3022.448486328125, 3887.668701171875, 1621.7249755859375, 3333.52587890625, 5266.412109375, 3533.260498046875, 3008.262451171875, 1974.332763671875, 1925.887451171875, 1849.1973876953125, 1723.5787353515625, 1450.7586669921875, 1451.906005859375, 1424.257568359375, 1195.8065185546875, 1158.5262451171875, 1097.092529296875, 1013.229248046875, 941.3059692382812, 881.6838989257812, 864.2944946289062, 825.1065063476562, 833.8843383789062, 800.3804931640625, 783.1647338867188, 792.255126953125, 775.2017822265625, 776.3648681640625, 771.2572631835938, 764.613525390625, 733.7073974609375, 712.0679321289062, 714.3474731445312, 724.3770141601562, 721.5188598632812, 716.3719482421875, 3887.668701171875, 3011.40673828125, 1600.104736328125, 7987.0234375, 3354.11669921875, 6016.30322265625, 1415.8099365234375, 3333.52587890625, 1900.77734375, 1338.9296875, 1252.4183349609375, 1897.395751953125, 1763.144775390625, 5782.822265625, 26843.40625, 12299.052734375, 2714.333740234375, 2148.8037109375, 1634.7408447265625, 1611.4534912109375, 1590.9217529296875, 1189.125244140625, 1093.4356689453125, 1095.3812255859375, 892.595703125, 868.0474853515625, 847.8924560546875, 797.1015625, 756.3424072265625, 744.9833984375, 715.0957641601562, 711.3619384765625, 678.411376953125, 658.0005493164062, 680.5421752929688, 650.1828002929688, 554.6061401367188, 539.1431884765625, 542.6333618164062, 523.2022094726562, 529.3541259765625, 493.8251647949219, 486.1497497558594, 470.04443359375, 903.3114624023438, 1633.3583984375, 3022.448486328125, 5782.822265625, 6016.30322265625, 1010.7317504882812, 3354.11669921875, 1068.6590576171875, 15378.3193359375, 3269.969482421875, 2161.247802734375, 1574.359375, 1508.1641845703125, 1392.4676513671875, 1224.5074462890625, 1023.1988525390625, 958.5343017578125, 821.05419921875, 824.5831909179688, 819.6263427734375, 778.8262939453125, 755.9437255859375, 767.0001220703125, 728.674072265625, 731.338623046875, 722.06494140625, 705.2017211914062, 678.9351196289062, 671.0018920898438, 666.212890625, 639.764404296875, 577.7539672851562, 581.3063354492188, 556.1968994140625, 556.0269165039062, 536.1146850585938, 553.4331665039062, 534.8681640625, 538.5663452148438, 7987.0234375, 2066.146484375, 1530.1463623046875, 3615.61767578125, 2446.98974609375, 16220.626953125, 1745.133544921875, 5782.822265625, 3011.40673828125], \"Category\": [\"Default\", \"Default\", \"Default\", \"Default\", \"Default\", \"Default\", \"Default\", \"Default\", \"Default\", \"Default\", \"Default\", \"Default\", \"Default\", \"Default\", \"Default\", \"Default\", \"Default\", \"Default\", \"Default\", \"Default\", \"Default\", \"Default\", \"Default\", \"Default\", \"Default\", \"Default\", \"Default\", \"Default\", \"Default\", \"Default\", \"Topic1\", \"Topic1\", \"Topic1\", \"Topic1\", \"Topic1\", \"Topic1\", \"Topic1\", \"Topic1\", \"Topic1\", \"Topic1\", \"Topic1\", \"Topic1\", \"Topic1\", \"Topic1\", \"Topic1\", \"Topic1\", \"Topic1\", \"Topic1\", \"Topic1\", \"Topic1\", \"Topic1\", \"Topic1\", \"Topic1\", \"Topic1\", \"Topic1\", \"Topic1\", \"Topic1\", \"Topic1\", \"Topic1\", \"Topic1\", \"Topic1\", \"Topic1\", \"Topic1\", \"Topic1\", \"Topic1\", \"Topic1\", \"Topic1\", \"Topic1\", \"Topic1\", \"Topic1\", \"Topic1\", \"Topic1\", \"Topic1\", \"Topic1\", \"Topic1\", \"Topic2\", \"Topic2\", \"Topic2\", \"Topic2\", \"Topic2\", \"Topic2\", \"Topic2\", \"Topic2\", \"Topic2\", \"Topic2\", \"Topic2\", \"Topic2\", \"Topic2\", \"Topic2\", \"Topic2\", \"Topic2\", \"Topic2\", \"Topic2\", \"Topic2\", \"Topic2\", \"Topic2\", \"Topic2\", \"Topic2\", \"Topic2\", \"Topic2\", \"Topic2\", \"Topic2\", \"Topic2\", \"Topic2\", \"Topic2\", \"Topic2\", \"Topic2\", \"Topic2\", \"Topic2\", \"Topic2\", \"Topic2\", \"Topic2\", \"Topic2\", \"Topic2\", \"Topic2\", \"Topic2\", \"Topic2\", \"Topic2\", \"Topic2\", \"Topic2\", \"Topic2\", \"Topic3\", \"Topic3\", \"Topic3\", \"Topic3\", \"Topic3\", \"Topic3\", \"Topic3\", \"Topic3\", \"Topic3\", \"Topic3\", \"Topic3\", \"Topic3\", \"Topic3\", \"Topic3\", \"Topic3\", \"Topic3\", \"Topic3\", \"Topic3\", \"Topic3\", \"Topic3\", \"Topic3\", \"Topic3\", \"Topic3\", \"Topic3\", \"Topic3\", \"Topic3\", \"Topic3\", \"Topic3\", \"Topic3\", \"Topic3\", \"Topic3\", \"Topic3\", \"Topic3\", \"Topic3\", \"Topic3\", \"Topic3\", \"Topic3\", \"Topic3\", \"Topic4\", \"Topic4\", \"Topic4\", \"Topic4\", \"Topic4\", \"Topic4\", \"Topic4\", \"Topic4\", \"Topic4\", \"Topic4\", \"Topic4\", \"Topic4\", \"Topic4\", \"Topic4\", \"Topic4\", \"Topic4\", \"Topic4\", \"Topic4\", \"Topic4\", \"Topic4\", \"Topic4\", \"Topic4\", \"Topic4\", \"Topic4\", \"Topic4\", \"Topic4\", \"Topic4\", \"Topic4\", \"Topic4\", \"Topic4\", \"Topic4\", \"Topic4\", \"Topic4\", \"Topic4\", \"Topic4\", \"Topic4\", \"Topic4\", \"Topic4\", \"Topic4\", \"Topic4\"], \"logprob\": [30.0, 29.0, 28.0, 27.0, 26.0, 25.0, 24.0, 23.0, 22.0, 21.0, 20.0, 19.0, 18.0, 17.0, 16.0, 15.0, 14.0, 13.0, 12.0, 11.0, 10.0, 9.0, 8.0, 7.0, 6.0, 5.0, 4.0, 3.0, 2.0, 1.0, -1.9752000570297241, -3.3526999950408936, -3.396199941635132, -3.817699909210205, -4.053199768066406, -4.286300182342529, -4.3541998863220215, -4.358699798583984, -4.767099857330322, -4.882500171661377, -5.077199935913086, -5.061299800872803, -5.219399929046631, -5.31220006942749, -5.292699813842773, -5.329999923706055, -5.371699810028076, -5.36870002746582, -5.416500091552734, -5.498600006103516, -5.486400127410889, -5.54610013961792, -5.530200004577637, -5.574399948120117, -5.57420015335083, -5.5518999099731445, -5.622200012207031, -5.660299777984619, -5.674799919128418, -5.712100028991699, -5.673799991607666, -2.5037999153137207, -5.160900115966797, -4.527699947357178, -4.344200134277344, -5.117400169372559, -5.13129997253418, -4.951099872589111, -5.326300144195557, -4.744800090789795, -5.347599983215332, -5.117800235748291, -5.105999946594238, -5.327199935913086, -5.329599857330322, -3.436500072479248, -3.835700035095215, -3.9965999126434326, -4.417900085449219, -4.442800045013428, -4.483399868011475, -4.553800106048584, -4.726200103759766, -4.725399971008301, -4.744699954986572, -4.919600009918213, -4.951300144195557, -5.005799770355225, -5.085400104522705, -5.15910005569458, -5.224599838256836, -5.24459981918335, -5.290999889373779, -5.280399799346924, -5.321499824523926, -5.343200206756592, -5.331699848175049, -5.353400230407715, -5.3520002365112305, -5.35860013961792, -5.367300033569336, -5.4085001945495605, -5.438499927520752, -5.435299873352051, -5.42140007019043, -5.425300121307373, -5.432499885559082, -4.057499885559082, -4.287799835205078, -4.875100135803223, -3.823699951171875, -4.44350004196167, -4.121200084686279, -5.011899948120117, -4.63700008392334, -4.925899982452393, -5.122300148010254, -5.179699897766113, -5.073599815368652, -5.095200061798096, -4.838900089263916, -1.5993000268936157, -2.3798000812530518, -3.8910999298095703, -4.124800205230713, -4.3983001708984375, -4.412700176239014, -4.42549991607666, -4.716800212860107, -4.8007001876831055, -4.798999786376953, -5.003900051116943, -5.031799793243408, -5.055300235748291, -5.117199897766113, -5.1697001457214355, -5.184899806976318, -5.225800037384033, -5.231100082397461, -5.278600215911865, -5.309100151062012, -5.2754998207092285, -5.321100234985352, -5.480400085449219, -5.508699893951416, -5.502200126647949, -5.538700103759766, -5.527100086212158, -5.596700191497803, -5.612400054931641, -5.646100044250488, -5.178999900817871, -4.816100120544434, -4.660900115966797, -4.55109977722168, -4.672900199890137, -5.327400207519531, -5.236700057983398, -5.420000076293945, -2.1486001014709473, -3.697000026702881, -4.111299991607666, -4.428299903869629, -4.471199989318848, -4.55109977722168, -4.679699897766113, -4.859499931335449, -4.924799919128418, -5.079800128936768, -5.075500011444092, -5.081500053405762, -5.132599830627441, -5.162499904632568, -5.1479997634887695, -5.1992998123168945, -5.1956000328063965, -5.208399772644043, -5.232100009918213, -5.270100116729736, -5.281799793243408, -5.289000034332275, -5.329599857330322, -5.431700229644775, -5.425600051879883, -5.469799995422363, -5.470099925994873, -5.5065999031066895, -5.474800109863281, -5.508900165557861, -5.501999855041504, -3.39739990234375, -4.629499912261963, -4.826300144195557, -4.333499908447266, -4.689300060272217, -4.212399959564209, -5.173600196838379, -5.079899787902832, -5.151899814605713], \"loglift\": [30.0, 29.0, 28.0, 27.0, 26.0, 25.0, 24.0, 23.0, 22.0, 21.0, 20.0, 19.0, 18.0, 17.0, 16.0, 15.0, 14.0, 13.0, 12.0, 11.0, 10.0, 9.0, 8.0, 7.0, 6.0, 5.0, 4.0, 3.0, 2.0, 1.0, 1.239799976348877, 1.2396999597549438, 1.2396999597549438, 1.2395999431610107, 1.2395999431610107, 1.2395000457763672, 1.2395000457763672, 1.2395000457763672, 1.239400029182434, 1.239300012588501, 1.2391999959945679, 1.2391999959945679, 1.2390999794006348, 1.2389999628067017, 1.2389999628067017, 1.2389999628067017, 1.2389999628067017, 1.2388999462127686, 1.2388999462127686, 1.2388999462127686, 1.238800048828125, 1.238800048828125, 1.238800048828125, 1.238800048828125, 1.238800048828125, 1.238800048828125, 1.238700032234192, 1.238700032234192, 1.238700032234192, 1.2386000156402588, 1.2386000156402588, 1.1115000247955322, 1.0140999555587769, 0.5885999798774719, 0.30250000953674316, 0.8718000054359436, 0.8054999709129333, 0.5557000041007996, 0.9731000065803528, -0.13760000467300415, 0.8582000136375427, 0.1777999997138977, -0.062199998646974564, 0.5909000039100647, -0.13210000097751617, 1.3037999868392944, 1.3036999702453613, 1.3035999536514282, 1.3035000562667847, 1.3035000562667847, 1.3034000396728516, 1.3034000396728516, 1.3033000230789185, 1.3033000230789185, 1.3033000230789185, 1.3032000064849854, 1.3030999898910522, 1.3030999898910522, 1.3030999898910522, 1.3029999732971191, 1.302899956703186, 1.302899956703186, 1.302899956703186, 1.302899956703186, 1.3028000593185425, 1.3028000593185425, 1.3028000593185425, 1.3028000593185425, 1.3028000593185425, 1.3028000593185425, 1.3027000427246094, 1.3027000427246094, 1.3027000427246094, 1.3027000427246094, 1.3027000427246094, 1.3027000427246094, 1.3027000427246094, 0.986299991607666, 1.0113999843597412, 1.056399941444397, 0.5001000165939331, 0.7480000257492065, 0.4860000014305115, 1.0420000553131104, 0.5605000257492065, 0.8335000276565552, 0.987500011920929, 0.9969000220298767, 0.6875, 0.739300012588501, -0.19220000505447388, 1.5123000144958496, 1.5123000144958496, 1.5119999647140503, 1.5118999481201172, 1.5118000507354736, 1.5118000507354736, 1.5118000507354736, 1.5116000175476074, 1.5115000009536743, 1.5115000009536743, 1.511299967765808, 1.511299967765808, 1.511299967765808, 1.511199951171875, 1.511199951171875, 1.5111000537872314, 1.5111000537872314, 1.5111000537872314, 1.5110000371932983, 1.5110000371932983, 1.5110000371932983, 1.5110000371932983, 1.5108000040054321, 1.510699987411499, 1.510699987411499, 1.510699987411499, 1.510699987411499, 1.5104999542236328, 1.5104999542236328, 1.5104999542236328, 1.3243000507354736, 1.0949000120162964, 0.6345999836921692, 0.09560000151395798, -0.065700002014637, 1.0635000467300415, -0.04529999941587448, 0.9151999950408936, 1.5199999809265137, 1.5197999477386475, 1.519700050354004, 1.5195000171661377, 1.5195000171661377, 1.5194000005722046, 1.5192999839782715, 1.5191999673843384, 1.5190999507904053, 1.5190000534057617, 1.5190000534057617, 1.5190000534057617, 1.5190000534057617, 1.5189000368118286, 1.5189000368118286, 1.5189000368118286, 1.5188000202178955, 1.5188000202178955, 1.5188000202178955, 1.5188000202178955, 1.5187000036239624, 1.5187000036239624, 1.5187000036239624, 1.5185999870300293, 1.5184999704360962, 1.5184999704360962, 1.5184999704360962, 1.5184999704360962, 1.5184999704360962, 1.518399953842163, 1.518399953842163, 0.9264000058174133, 1.0463999509811401, 1.149899959564209, 0.7828999757766724, 0.8173999786376953, -0.597000002861023, 0.6711999773979187, -0.43320000171661377, 0.14730000495910645]}, \"token.table\": {\"Topic\": [2, 1, 2, 3, 4, 2, 4, 3, 2, 2, 3, 4, 1, 4, 2, 1, 2, 2, 3, 1, 4, 1, 1, 2, 1, 4, 1, 2, 2, 3, 4, 2, 4, 3, 4, 1, 3, 4, 1, 1, 2, 4, 3, 1, 3, 4, 2, 1, 2, 3, 4, 3, 4, 2, 4, 4, 1, 2, 3, 4, 2, 2, 3, 2, 2, 1, 2, 3, 2, 2, 1, 1, 1, 3, 2, 1, 1, 1, 1, 2, 1, 2, 3, 4, 1, 1, 2, 1, 4, 4, 1, 4, 1, 2, 3, 4, 3, 4, 1, 1, 3, 2, 3, 3, 1, 3, 3, 1, 3, 4, 3, 3, 2, 2, 2, 4, 1, 2, 3, 1, 4, 3, 2, 1, 2, 3, 1, 2, 1, 2, 3, 4, 3, 4, 4, 1, 2, 3, 4, 3, 4, 1, 3, 2, 1, 1, 1, 1, 4, 3, 3, 2, 4, 1, 2, 4, 3, 4, 4, 1, 2, 1, 4, 4, 1, 4, 2, 2, 4, 4, 1, 3, 4, 2, 3, 2, 2, 2, 1, 2, 3, 2, 2, 1, 4, 4, 4, 1, 1, 2, 2, 4, 3, 3, 3, 1, 2, 3, 3], \"Freq\": [0.9994770288467407, 0.39167726039886475, 0.22393909096717834, 0.24244217574596405, 0.14179927110671997, 0.7464949488639832, 0.2533699572086334, 0.9987933039665222, 0.9983698725700378, 0.36902621388435364, 0.20284980535507202, 0.4280474781990051, 0.7979989051818848, 0.20169202983379364, 0.9985128045082092, 0.9993678331375122, 0.9993524551391602, 0.9981136918067932, 0.9986799955368042, 0.9991265535354614, 0.9978480935096741, 0.9999625086784363, 0.23025690019130707, 0.7698773741722107, 0.5213493704795837, 0.47847980260849, 0.765610933303833, 0.2338363528251648, 0.9992243051528931, 0.9984676837921143, 0.9994425773620605, 0.4476010501384735, 0.5522708296775818, 0.9990537166595459, 0.9977527856826782, 0.17048382759094238, 0.8280643224716187, 0.9994226694107056, 0.9990795254707336, 0.9992730021476746, 0.9984497427940369, 0.9987160563468933, 0.9988328218460083, 0.9998708367347717, 0.999984860420227, 0.9999142289161682, 0.9996432662010193, 0.9994907379150391, 0.7805739045143127, 0.2187356799840927, 0.9986960887908936, 0.9986180663108826, 0.9992927312850952, 0.3770303726196289, 0.6228986978530884, 0.9985068440437317, 0.34574615955352783, 0.23854832351207733, 0.4158879816532135, 0.9987515807151794, 0.9991976022720337, 0.9980990290641785, 0.9977021813392639, 0.9984157681465149, 0.9993255734443665, 0.21608565747737885, 0.5396870970726013, 0.24401867389678955, 0.9995457530021667, 0.9985002279281616, 0.9997622966766357, 0.9988403916358948, 0.9988030195236206, 0.9981808066368103, 0.9992808699607849, 0.9990692138671875, 0.9995726943016052, 0.9992941617965698, 0.6918485164642334, 0.307856023311615, 0.25214818120002747, 0.4413008987903595, 0.2064390629529953, 0.10006144642829895, 0.9988956451416016, 0.9981949329376221, 0.9986589550971985, 0.5047017335891724, 0.4953024387359619, 0.9982959032058716, 0.9989616870880127, 0.9981696009635925, 0.647706925868988, 0.3518097698688507, 0.9974419474601746, 0.9992173314094543, 0.9977779984474182, 0.9989483952522278, 0.9989022016525269, 0.9988358616828918, 0.9992033243179321, 0.36112451553344727, 0.6381515264511108, 0.998479425907135, 0.9992255568504333, 0.9995086193084717, 0.99933260679245, 0.34101516008377075, 0.6587653756141663, 0.9981530904769897, 0.9996015429496765, 0.9997186064720154, 0.9991170167922974, 0.9993759989738464, 0.735377311706543, 0.263490229845047, 0.3751097023487091, 0.6244813203811646, 0.9994206428527832, 0.9991716742515564, 0.9995855689048767, 0.9996519684791565, 0.9982419610023499, 0.21585415303707123, 0.5736234784126282, 0.21048760414123535, 0.27188530564308167, 0.727942705154419, 0.2534853518009186, 0.4754725396633148, 0.1448916345834732, 0.12599271535873413, 0.9983290433883667, 0.9981794357299805, 0.9996641278266907, 0.26033028960227966, 0.5688698887825012, 0.061821356415748596, 0.10889632999897003, 0.9989070892333984, 0.9988283514976501, 0.9996128678321838, 0.9995468258857727, 0.9999217391014099, 0.9996979832649231, 0.9998322129249573, 0.999578595161438, 0.9989383816719055, 0.9997035264968872, 0.9996259808540344, 0.9978796243667603, 0.7289404273033142, 0.2711120843887329, 0.6824458241462708, 0.3165561854839325, 0.9988051652908325, 0.3091207444667816, 0.6907836198806763, 0.998939037322998, 0.9998466372489929, 0.9995245933532715, 0.8796207308769226, 0.1204022541642189, 0.9992280602455139, 0.9989569783210754, 0.9985251426696777, 0.9995803236961365, 0.9990358352661133, 0.9983768463134766, 0.9992358088493347, 0.44916102290153503, 0.5502222776412964, 0.9991365671157837, 0.9986125826835632, 0.9989474415779114, 0.9989395141601562, 0.9995391964912415, 0.9980848431587219, 0.5228999853134155, 0.2990642786026001, 0.17820531129837036, 0.9990041851997375, 0.9993249773979187, 0.9982409477233887, 0.9990749359130859, 0.9979208111763, 0.9986226558685303, 0.9990056753158569, 0.999893307685852, 0.998502254486084, 0.9987868070602417, 0.9986950159072876, 0.9980854392051697, 0.9982251524925232, 0.997635006904602, 0.9992701411247253, 0.9996642470359802, 0.9999144077301025, 0.9993936419487], \"Term\": [\"acabar\", \"agora\", \"agora\", \"agora\", \"agora\", \"ainda\", \"ainda\", \"alcool\", \"algo\", \"alguem\", \"alguem\", \"alguem\", \"amo\", \"amo\", \"ano\", \"apoio\", \"assim\", \"assistir\", \"aula\", \"bater\", \"bbb\", \"bolsonaro\", \"bom\", \"bom\", \"brasil\", \"brasil\", \"brasileiro\", \"brasileiro\", \"cabeca\", \"cabelo\", \"cada\", \"casa\", \"casa\", \"caso\", \"certeza\", \"cidade\", \"cidade\", \"coisa\", \"coletiva\", \"comecou\", \"comer\", \"comigo\", \"contato\", \"contra\", \"corona\", \"coronavirus\", \"coronga\", \"cu\", \"dar\", \"dar\", \"deixar\", \"demais\", \"dentro\", \"depois\", \"depois\", \"desde\", \"deus\", \"deus\", \"deus\", \"diario\", \"dizer\", \"dois\", \"dps\", \"enquanto\", \"entao\", \"falar\", \"falar\", \"falar\", \"familia\", \"fav\", \"favor\", \"fdp\", \"fechar\", \"festa\", \"fim\", \"forabolsonaro\", \"forabolsonaros\", \"frente\", \"galera\", \"galera\", \"gente\", \"gente\", \"gente\", \"gente\", \"geral\", \"globo\", \"gosto\", \"governo\", \"governo\", \"grande\", \"gritar\", \"ha\", \"hora\", \"hora\", \"hospital\", \"igual\", \"irma\", \"irresponsavel\", \"jair\", \"janela\", \"lado\", \"logo\", \"logo\", \"longe\", \"lula\", \"mae\", \"mal\", \"mano\", \"mano\", \"maos\", \"matar\", \"medo\", \"meio\", \"melhor\", \"menos\", \"menos\", \"merda\", \"merda\", \"mim\", \"ministro\", \"momento\", \"morrer\", \"mt\", \"muito\", \"muito\", \"muito\", \"mundo\", \"mundo\", \"nada\", \"nada\", \"nada\", \"nada\", \"nenhum\", \"noite\", \"novo\", \"nunca\", \"nunca\", \"nunca\", \"nunca\", \"ok\", \"oq\", \"ouvir\", \"pai\", \"pandemia\", \"panela\", \"panelaco\", \"parabens\", \"partir\", \"passar\", \"pegar\", \"perto\", \"pessoa\", \"pessoa\", \"pessoal\", \"pessoal\", \"populacao\", \"porque\", \"porque\", \"positivo\", \"povo\", \"preciso\", \"presidente\", \"presidente\", \"primeiro\", \"problema\", \"qual\", \"quando\", \"quase\", \"real\", \"risco\", \"saber\", \"saber\", \"saude\", \"segundo\", \"semana\", \"sempre\", \"sim\", \"situacao\", \"tambem\", \"tambem\", \"tambem\", \"tedio\", \"tempo\", \"tentar\", \"terceiro\", \"teste\", \"tipo\", \"tirar\", \"tomar\", \"trabalhar\", \"trabalho\", \"unica\", \"usar\", \"vairus\", \"verdade\", \"vergonha\", \"vida\", \"virus\", \"voltar\"]}, \"R\": 30, \"lambda.step\": 0.01, \"plot.opts\": {\"xlab\": \"PC1\", \"ylab\": \"PC2\"}, \"topic.order\": [3, 1, 2, 4]};\n",
       "\n",
       "function LDAvis_load_lib(url, callback){\n",
       "  var s = document.createElement('script');\n",
       "  s.src = url;\n",
       "  s.async = true;\n",
       "  s.onreadystatechange = s.onload = callback;\n",
       "  s.onerror = function(){console.warn(\"failed to load library \" + url);};\n",
       "  document.getElementsByTagName(\"head\")[0].appendChild(s);\n",
       "}\n",
       "\n",
       "if(typeof(LDAvis) !== \"undefined\"){\n",
       "   // already loaded: just create the visualization\n",
       "   !function(LDAvis){\n",
       "       new LDAvis(\"#\" + \"ldavis_el1008417117414553045963029269\", ldavis_el1008417117414553045963029269_data);\n",
       "   }(LDAvis);\n",
       "}else if(typeof define === \"function\" && define.amd){\n",
       "   // require.js is available: use it to load d3/LDAvis\n",
       "   require.config({paths: {d3: \"https://cdnjs.cloudflare.com/ajax/libs/d3/3.5.5/d3.min\"}});\n",
       "   require([\"d3\"], function(d3){\n",
       "      window.d3 = d3;\n",
       "      LDAvis_load_lib(\"https://cdn.rawgit.com/bmabey/pyLDAvis/files/ldavis.v1.0.0.js\", function(){\n",
       "        new LDAvis(\"#\" + \"ldavis_el1008417117414553045963029269\", ldavis_el1008417117414553045963029269_data);\n",
       "      });\n",
       "    });\n",
       "}else{\n",
       "    // require.js not available: dynamically load d3 & LDAvis\n",
       "    LDAvis_load_lib(\"https://cdnjs.cloudflare.com/ajax/libs/d3/3.5.5/d3.min.js\", function(){\n",
       "         LDAvis_load_lib(\"https://cdn.rawgit.com/bmabey/pyLDAvis/files/ldavis.v1.0.0.js\", function(){\n",
       "                 new LDAvis(\"#\" + \"ldavis_el1008417117414553045963029269\", ldavis_el1008417117414553045963029269_data);\n",
       "            })\n",
       "         });\n",
       "}\n",
       "</script>"
      ],
      "text/plain": [
       "PreparedData(topic_coordinates=              x         y  topics  cluster       Freq\n",
       "topic                                                \n",
       "2      0.040409 -0.354160       1        1  28.944038\n",
       "0      0.001841  0.032251       2        1  27.146610\n",
       "1     -0.343276  0.128280       3        1  22.039528\n",
       "3      0.301026  0.193629       4        1  21.869827, topic_info=            Term          Freq         Total Category  logprob  loglift\n",
       "18        corona  26843.000000  26843.000000  Default  30.0000  30.0000\n",
       "3      bolsonaro  24207.000000  24207.000000  Default  29.0000  29.0000\n",
       "5    coronavirus  15378.000000  15378.000000  Default  28.0000  28.0000\n",
       "19         virus  12299.000000  12299.000000  Default  27.0000  27.0000\n",
       "16    presidente  16220.000000  16220.000000  Default  26.0000  26.0000\n",
       "..           ...           ...           ...      ...      ...      ...\n",
       "51       governo   1211.929443   2446.989746   Topic4  -4.6893   0.8174\n",
       "16    presidente   1952.660889  16220.626953   Topic4  -4.2124  -0.5970\n",
       "333       alguem    746.717957   1745.133545   Topic4  -5.1736   0.6712\n",
       "31         agora    820.088745   5782.822266   Topic4  -5.0799  -0.4332\n",
       "191        ainda    763.102783   3011.406738   Topic4  -5.1519   0.1473\n",
       "\n",
       "[199 rows x 6 columns], token_table=      Topic      Freq      Term\n",
       "term                           \n",
       "111       2  0.999477    acabar\n",
       "31        1  0.391677     agora\n",
       "31        2  0.223939     agora\n",
       "31        3  0.242442     agora\n",
       "31        4  0.141799     agora\n",
       "...     ...       ...       ...\n",
       "199       3  0.997635   verdade\n",
       "61        1  0.999270  vergonha\n",
       "136       2  0.999664      vida\n",
       "19        3  0.999914     virus\n",
       "315       3  0.999394    voltar\n",
       "\n",
       "[199 rows x 3 columns], R=30, lambda_step=0.01, plot_opts={'xlab': 'PC1', 'ylab': 'PC2'}, topic_order=[3, 1, 2, 4])"
      ]
     },
     "execution_count": 22,
     "metadata": {},
     "output_type": "execute_result"
    }
   ],
   "source": [
    "# Visualização dos tópicos em clusters\n",
    "\n",
    "pyLDAvis.enable_notebook()\n",
    "vis = pyLDAvis.gensim.prepare(lda_model, corpus, id2word)\n",
    "vis"
   ]
  },
  {
   "cell_type": "code",
   "execution_count": 23,
   "metadata": {},
   "outputs": [
    {
     "name": "stdout",
     "output_type": "stream",
     "text": [
      "[(0,\n",
      "  '0.213*\"bolsonaro\" + 0.096*\"panelaco\" + 0.074*\"contra\" + 0.014*\"favor\" + '\n",
      "  '0.012*\"agora\" + 0.012*\"mae\" + 0.009*\"bairro\" + 0.009*\"presidente\" + '\n",
      "  '0.008*\"lula\" + 0.008*\"panela\"'),\n",
      " (1,\n",
      "  '0.077*\"coronavirus\" + 0.062*\"pandemia\" + 0.016*\"tempo\" + 0.014*\"meio\" + '\n",
      "  '0.012*\"casa\" + 0.012*\"brasil\" + 0.011*\"coisa\" + 0.011*\"gente\" + '\n",
      "  '0.009*\"familia\" + 0.009*\"mundo\"'),\n",
      " (2,\n",
      "  '0.071*\"coronavirus\" + 0.025*\"deus\" + 0.021*\"casa\" + 0.017*\"bolsonaro\" + '\n",
      "  '0.015*\"fav\" + 0.015*\"galera\" + 0.013*\"corona\" + 0.013*\"cabelo\" + '\n",
      "  '0.013*\"tbm\" + 0.011*\"mundo\"'),\n",
      " (3,\n",
      "  '0.108*\"bolsonaro\" + 0.061*\"panela\" + 0.030*\"povo\" + 0.027*\"contra\" + '\n",
      "  '0.020*\"presidente\" + 0.019*\"agora\" + 0.017*\"bater\" + 0.017*\"depois\" + '\n",
      "  '0.015*\"mim\" + 0.014*\"janela\"'),\n",
      " (4,\n",
      "  '0.247*\"corona\" + 0.117*\"virus\" + 0.025*\"casa\" + 0.019*\"pegar\" + '\n",
      "  '0.014*\"mundo\" + 0.013*\"agora\" + 0.010*\"morrer\" + 0.010*\"medo\" + '\n",
      "  '0.010*\"coronavirus\" + 0.009*\"muito\"'),\n",
      " (5,\n",
      "  '0.070*\"bolsonaro\" + 0.044*\"cu\" + 0.040*\"tomar\" + 0.036*\"presidente\" + '\n",
      "  '0.031*\"favor\" + 0.026*\"brasil\" + 0.024*\"passar\" + 0.015*\"panelaco\" + '\n",
      "  '0.014*\"governo\" + 0.011*\"novo\"'),\n",
      " (6,\n",
      "  '0.050*\"coronavirus\" + 0.049*\"presidente\" + 0.021*\"quando\" + 0.019*\"governo\" '\n",
      "  '+ 0.018*\"gente\" + 0.015*\"acabar\" + 0.014*\"bolsonaro\" + 0.011*\"agora\" + '\n",
      "  '0.011*\"tambem\" + 0.010*\"saude\"'),\n",
      " (7,\n",
      "  '0.099*\"presidente\" + 0.020*\"assim\" + 0.018*\"vida\" + 0.016*\"terceiro\" + '\n",
      "  '0.014*\"ainda\" + 0.014*\"brasileiro\" + 0.013*\"gente\" + 0.012*\"povo\" + '\n",
      "  '0.012*\"quarto\" + 0.010*\"agora\"'),\n",
      " (8,\n",
      "  '0.030*\"casa\" + 0.024*\"ainda\" + 0.020*\"bolsonaro\" + 0.019*\"primeiro\" + '\n",
      "  '0.019*\"nunca\" + 0.014*\"comigo\" + 0.013*\"comer\" + 0.013*\"diario\" + '\n",
      "  '0.011*\"nada\" + 0.011*\"muito\"'),\n",
      " (9,\n",
      "  '0.073*\"coronga\" + 0.054*\"corona\" + 0.034*\"bolsonaro\" + 0.025*\"gente\" + '\n",
      "  '0.025*\"virus\" + 0.020*\"oq\" + 0.013*\"demais\" + 0.013*\"perto\" + 0.011*\"merda\" '\n",
      "  '+ 0.011*\"longe\"')]\n"
     ]
    }
   ],
   "source": [
    "# Escolhe o modelo\n",
    "\n",
    "optimal_model = model_list[3]\n",
    "model_topics = optimal_model.show_topics(formatted=False)\n",
    "pprint(optimal_model.print_topics(num_words=10))"
   ]
  },
  {
   "cell_type": "code",
   "execution_count": 24,
   "metadata": {},
   "outputs": [],
   "source": [
    "# Encontrar qual o principal tópico em cada tweet\n",
    "\n",
    "def format_topics_sentences(ldamodel=lda_model, corpus=corpus, texts=lista):\n",
    "    # Output\n",
    "    sent_topics_df = pd.DataFrame()\n",
    "\n",
    "    # Seleciona o principal tópico de cada tweet\n",
    "    for i, row in enumerate(ldamodel[corpus]):\n",
    "        row = sorted(row, key=lambda x: (x[1]), reverse=True)\n",
    "        # Calcula o principal tópico, o percentual de contribuição e as palavras chaves de cada tweet\n",
    "        for j, (topic_num, prop_topic) in enumerate(row):\n",
    "            if j == 0:  # => mostra o principal tópico\n",
    "                wp = ldamodel.show_topic(topic_num)\n",
    "                topic_keywords = \", \".join([word for word, prop in wp])\n",
    "                sent_topics_df = sent_topics_df.append(pd.Series([int(topic_num), round(prop_topic,4), topic_keywords]), ignore_index=True)\n",
    "            else:\n",
    "                break\n",
    "    sent_topics_df.columns = ['Principal_Topico', 'Perc_Contributicao', 'Palavras_Chave']\n",
    "\n",
    "    # Inclui o texto original no final do DataFrame\n",
    "    contents = pd.Series(texts)\n",
    "    sent_topics_df = pd.concat([sent_topics_df, contents], axis=1)\n",
    "    return(sent_topics_df)"
   ]
  },
  {
   "cell_type": "code",
   "execution_count": 25,
   "metadata": {},
   "outputs": [],
   "source": [
    "# roda a função de calcular os principais tópicos de cada tweet\n",
    "\n",
    "df_topic_sents_keywords = format_topics_sentences(ldamodel=optimal_model, corpus=corpus, texts=lista)"
   ]
  },
  {
   "cell_type": "code",
   "execution_count": 26,
   "metadata": {},
   "outputs": [],
   "source": [
    "# Formata o DataFrame\n",
    "\n",
    "df_dominant_topic = df_topic_sents_keywords.reset_index()\n",
    "df_dominant_topic.columns = ['Index_DF_Original', 'Principal_Topico', 'Perc_Contrib_Topico', 'Palavras_Chave', 'Tweets']"
   ]
  },
  {
   "cell_type": "code",
   "execution_count": 27,
   "metadata": {
    "scrolled": true
   },
   "outputs": [
    {
     "data": {
      "text/html": [
       "<div>\n",
       "<style scoped>\n",
       "    .dataframe tbody tr th:only-of-type {\n",
       "        vertical-align: middle;\n",
       "    }\n",
       "\n",
       "    .dataframe tbody tr th {\n",
       "        vertical-align: top;\n",
       "    }\n",
       "\n",
       "    .dataframe thead th {\n",
       "        text-align: right;\n",
       "    }\n",
       "</style>\n",
       "<table border=\"1\" class=\"dataframe\">\n",
       "  <thead>\n",
       "    <tr style=\"text-align: right;\">\n",
       "      <th></th>\n",
       "      <th>Topico</th>\n",
       "      <th>Topico_Perc_Contrib</th>\n",
       "      <th>Palavras_Chave</th>\n",
       "      <th>Tweet</th>\n",
       "    </tr>\n",
       "  </thead>\n",
       "  <tbody>\n",
       "    <tr>\n",
       "      <th>0</th>\n",
       "      <td>0.0</td>\n",
       "      <td>0.9308</td>\n",
       "      <td>bolsonaro, panelaco, contra, favor, agora, mae...</td>\n",
       "      <td>[tao, boca, lula, azedar, rapaz, nem, panelaco...</td>\n",
       "    </tr>\n",
       "    <tr>\n",
       "      <th>1</th>\n",
       "      <td>1.0</td>\n",
       "      <td>0.9357</td>\n",
       "      <td>coronavirus, pandemia, tempo, meio, casa, bras...</td>\n",
       "      <td>[morrer, economia, fome, saude, tanto, pois, e...</td>\n",
       "    </tr>\n",
       "    <tr>\n",
       "      <th>2</th>\n",
       "      <td>2.0</td>\n",
       "      <td>0.9400</td>\n",
       "      <td>coronavirus, deus, casa, bolsonaro, fav, galer...</td>\n",
       "      <td>[gosto, te, tu, saudade, bike, brincadeira, te...</td>\n",
       "    </tr>\n",
       "    <tr>\n",
       "      <th>3</th>\n",
       "      <td>3.0</td>\n",
       "      <td>0.9475</td>\n",
       "      <td>bolsonaro, panela, povo, contra, presidente, a...</td>\n",
       "      <td>[forte, comecou, edicao, sardinha, maior, pt, ...</td>\n",
       "    </tr>\n",
       "    <tr>\n",
       "      <th>4</th>\n",
       "      <td>4.0</td>\n",
       "      <td>0.9357</td>\n",
       "      <td>corona, virus, casa, pegar, mundo, agora, morr...</td>\n",
       "      <td>[estar, tambem, meu, unica, cidade, pessoa, co...</td>\n",
       "    </tr>\n",
       "    <tr>\n",
       "      <th>5</th>\n",
       "      <td>5.0</td>\n",
       "      <td>0.9307</td>\n",
       "      <td>bolsonaro, cu, tomar, presidente, favor, brasi...</td>\n",
       "      <td>[tu, cu, vez, governo, milhoes, vcs, pessoa, c...</td>\n",
       "    </tr>\n",
       "    <tr>\n",
       "      <th>6</th>\n",
       "      <td>6.0</td>\n",
       "      <td>0.9400</td>\n",
       "      <td>coronavirus, presidente, quando, governo, gent...</td>\n",
       "      <td>[importante, risco, outro, governo, cada, pois...</td>\n",
       "    </tr>\n",
       "    <tr>\n",
       "      <th>7</th>\n",
       "      <td>7.0</td>\n",
       "      <td>0.9400</td>\n",
       "      <td>presidente, assim, vida, terceiro, ainda, bras...</td>\n",
       "      <td>[ter, sempre, achar, nao, levar, ruim, algo, a...</td>\n",
       "    </tr>\n",
       "    <tr>\n",
       "      <th>8</th>\n",
       "      <td>8.0</td>\n",
       "      <td>0.9307</td>\n",
       "      <td>casa, ainda, bolsonaro, primeiro, nunca, comig...</td>\n",
       "      <td>[voto, tarde, besteira, haddad, meu, votar, ci...</td>\n",
       "    </tr>\n",
       "    <tr>\n",
       "      <th>9</th>\n",
       "      <td>9.0</td>\n",
       "      <td>0.9250</td>\n",
       "      <td>coronga, corona, bolsonaro, gente, virus, oq, ...</td>\n",
       "      <td>[tu, tv, haddad, mt, ue, meu, idiota, brigar, ...</td>\n",
       "    </tr>\n",
       "  </tbody>\n",
       "</table>\n",
       "</div>"
      ],
      "text/plain": [
       "   Topico  Topico_Perc_Contrib  \\\n",
       "0     0.0               0.9308   \n",
       "1     1.0               0.9357   \n",
       "2     2.0               0.9400   \n",
       "3     3.0               0.9475   \n",
       "4     4.0               0.9357   \n",
       "5     5.0               0.9307   \n",
       "6     6.0               0.9400   \n",
       "7     7.0               0.9400   \n",
       "8     8.0               0.9307   \n",
       "9     9.0               0.9250   \n",
       "\n",
       "                                      Palavras_Chave  \\\n",
       "0  bolsonaro, panelaco, contra, favor, agora, mae...   \n",
       "1  coronavirus, pandemia, tempo, meio, casa, bras...   \n",
       "2  coronavirus, deus, casa, bolsonaro, fav, galer...   \n",
       "3  bolsonaro, panela, povo, contra, presidente, a...   \n",
       "4  corona, virus, casa, pegar, mundo, agora, morr...   \n",
       "5  bolsonaro, cu, tomar, presidente, favor, brasi...   \n",
       "6  coronavirus, presidente, quando, governo, gent...   \n",
       "7  presidente, assim, vida, terceiro, ainda, bras...   \n",
       "8  casa, ainda, bolsonaro, primeiro, nunca, comig...   \n",
       "9  coronga, corona, bolsonaro, gente, virus, oq, ...   \n",
       "\n",
       "                                               Tweet  \n",
       "0  [tao, boca, lula, azedar, rapaz, nem, panelaco...  \n",
       "1  [morrer, economia, fome, saude, tanto, pois, e...  \n",
       "2  [gosto, te, tu, saudade, bike, brincadeira, te...  \n",
       "3  [forte, comecou, edicao, sardinha, maior, pt, ...  \n",
       "4  [estar, tambem, meu, unica, cidade, pessoa, co...  \n",
       "5  [tu, cu, vez, governo, milhoes, vcs, pessoa, c...  \n",
       "6  [importante, risco, outro, governo, cada, pois...  \n",
       "7  [ter, sempre, achar, nao, levar, ruim, algo, a...  \n",
       "8  [voto, tarde, besteira, haddad, meu, votar, ci...  \n",
       "9  [tu, tv, haddad, mt, ue, meu, idiota, brigar, ...  "
      ]
     },
     "execution_count": 27,
     "metadata": {},
     "output_type": "execute_result"
    }
   ],
   "source": [
    "# Group top 5 sentences under each topic\n",
    "sent_topics_sorteddf_mallet = pd.DataFrame()\n",
    "\n",
    "sent_topics_outdf_grpd = df_topic_sents_keywords.groupby('Principal_Topico')\n",
    "\n",
    "for i, grp in sent_topics_outdf_grpd:\n",
    "    sent_topics_sorteddf_mallet = pd.concat([sent_topics_sorteddf_mallet, \n",
    "                                             grp.sort_values(['Perc_Contributicao'], ascending=[0]).head(1)], \n",
    "                                            axis=0)\n",
    "\n",
    "# Reset Index    \n",
    "sent_topics_sorteddf_mallet.reset_index(drop=True, inplace=True)\n",
    "\n",
    "# Format\n",
    "sent_topics_sorteddf_mallet.columns = ['Topico', \"Topico_Perc_Contrib\", \"Palavras_Chave\", \"Tweet\"]\n",
    "\n",
    "# Show\n",
    "sent_topics_sorteddf_mallet"
   ]
  },
  {
   "cell_type": "code",
   "execution_count": 28,
   "metadata": {},
   "outputs": [
    {
     "data": {
      "text/html": [
       "<div>\n",
       "<style scoped>\n",
       "    .dataframe tbody tr th:only-of-type {\n",
       "        vertical-align: middle;\n",
       "    }\n",
       "\n",
       "    .dataframe tbody tr th {\n",
       "        vertical-align: top;\n",
       "    }\n",
       "\n",
       "    .dataframe thead th {\n",
       "        text-align: right;\n",
       "    }\n",
       "</style>\n",
       "<table border=\"1\" class=\"dataframe\">\n",
       "  <thead>\n",
       "    <tr style=\"text-align: right;\">\n",
       "      <th></th>\n",
       "      <th>Principal_Topico</th>\n",
       "      <th>Palavras_Chave</th>\n",
       "      <th>Qtd_Tweets</th>\n",
       "      <th>Perc_Tweets</th>\n",
       "    </tr>\n",
       "  </thead>\n",
       "  <tbody>\n",
       "    <tr>\n",
       "      <th>0.0</th>\n",
       "      <td>8.0</td>\n",
       "      <td>casa, ainda, bolsonaro, primeiro, nunca, comig...</td>\n",
       "      <td>26175.0</td>\n",
       "      <td>0.1851</td>\n",
       "    </tr>\n",
       "    <tr>\n",
       "      <th>1.0</th>\n",
       "      <td>5.0</td>\n",
       "      <td>bolsonaro, cu, tomar, presidente, favor, brasi...</td>\n",
       "      <td>15752.0</td>\n",
       "      <td>0.1114</td>\n",
       "    </tr>\n",
       "    <tr>\n",
       "      <th>2.0</th>\n",
       "      <td>1.0</td>\n",
       "      <td>coronavirus, pandemia, tempo, meio, casa, bras...</td>\n",
       "      <td>11443.0</td>\n",
       "      <td>0.0809</td>\n",
       "    </tr>\n",
       "    <tr>\n",
       "      <th>3.0</th>\n",
       "      <td>3.0</td>\n",
       "      <td>bolsonaro, panela, povo, contra, presidente, a...</td>\n",
       "      <td>13743.0</td>\n",
       "      <td>0.0972</td>\n",
       "    </tr>\n",
       "    <tr>\n",
       "      <th>4.0</th>\n",
       "      <td>6.0</td>\n",
       "      <td>coronavirus, presidente, quando, governo, gent...</td>\n",
       "      <td>21539.0</td>\n",
       "      <td>0.1523</td>\n",
       "    </tr>\n",
       "    <tr>\n",
       "      <th>...</th>\n",
       "      <td>...</td>\n",
       "      <td>...</td>\n",
       "      <td>...</td>\n",
       "      <td>...</td>\n",
       "    </tr>\n",
       "    <tr>\n",
       "      <th>141441.0</th>\n",
       "      <td>1.0</td>\n",
       "      <td>coronavirus, pandemia, tempo, meio, casa, bras...</td>\n",
       "      <td>NaN</td>\n",
       "      <td>NaN</td>\n",
       "    </tr>\n",
       "    <tr>\n",
       "      <th>141442.0</th>\n",
       "      <td>5.0</td>\n",
       "      <td>bolsonaro, cu, tomar, presidente, favor, brasi...</td>\n",
       "      <td>NaN</td>\n",
       "      <td>NaN</td>\n",
       "    </tr>\n",
       "    <tr>\n",
       "      <th>141443.0</th>\n",
       "      <td>8.0</td>\n",
       "      <td>casa, ainda, bolsonaro, primeiro, nunca, comig...</td>\n",
       "      <td>NaN</td>\n",
       "      <td>NaN</td>\n",
       "    </tr>\n",
       "    <tr>\n",
       "      <th>141444.0</th>\n",
       "      <td>4.0</td>\n",
       "      <td>corona, virus, casa, pegar, mundo, agora, morr...</td>\n",
       "      <td>NaN</td>\n",
       "      <td>NaN</td>\n",
       "    </tr>\n",
       "    <tr>\n",
       "      <th>141445.0</th>\n",
       "      <td>4.0</td>\n",
       "      <td>corona, virus, casa, pegar, mundo, agora, morr...</td>\n",
       "      <td>NaN</td>\n",
       "      <td>NaN</td>\n",
       "    </tr>\n",
       "  </tbody>\n",
       "</table>\n",
       "<p>141446 rows × 4 columns</p>\n",
       "</div>"
      ],
      "text/plain": [
       "          Principal_Topico                                     Palavras_Chave  \\\n",
       "0.0                    8.0  casa, ainda, bolsonaro, primeiro, nunca, comig...   \n",
       "1.0                    5.0  bolsonaro, cu, tomar, presidente, favor, brasi...   \n",
       "2.0                    1.0  coronavirus, pandemia, tempo, meio, casa, bras...   \n",
       "3.0                    3.0  bolsonaro, panela, povo, contra, presidente, a...   \n",
       "4.0                    6.0  coronavirus, presidente, quando, governo, gent...   \n",
       "...                    ...                                                ...   \n",
       "141441.0               1.0  coronavirus, pandemia, tempo, meio, casa, bras...   \n",
       "141442.0               5.0  bolsonaro, cu, tomar, presidente, favor, brasi...   \n",
       "141443.0               8.0  casa, ainda, bolsonaro, primeiro, nunca, comig...   \n",
       "141444.0               4.0  corona, virus, casa, pegar, mundo, agora, morr...   \n",
       "141445.0               4.0  corona, virus, casa, pegar, mundo, agora, morr...   \n",
       "\n",
       "          Qtd_Tweets  Perc_Tweets  \n",
       "0.0          26175.0       0.1851  \n",
       "1.0          15752.0       0.1114  \n",
       "2.0          11443.0       0.0809  \n",
       "3.0          13743.0       0.0972  \n",
       "4.0          21539.0       0.1523  \n",
       "...              ...          ...  \n",
       "141441.0         NaN          NaN  \n",
       "141442.0         NaN          NaN  \n",
       "141443.0         NaN          NaN  \n",
       "141444.0         NaN          NaN  \n",
       "141445.0         NaN          NaN  \n",
       "\n",
       "[141446 rows x 4 columns]"
      ]
     },
     "execution_count": 28,
     "metadata": {},
     "output_type": "execute_result"
    }
   ],
   "source": [
    "# Numero de tweets por topico\n",
    "\n",
    "topic_counts = df_topic_sents_keywords['Principal_Topico'].value_counts()\n",
    "\n",
    "# Porcentagem de tweets por tópico\n",
    "topic_contribution = round(topic_counts/topic_counts.sum(), 4)\n",
    "\n",
    "# Número do tópico e suas palavras chave\n",
    "topic_num_keywords = df_topic_sents_keywords[['Principal_Topico', 'Palavras_Chave']]\n",
    "\n",
    "# Concatena as colunas\n",
    "df_dominant_topics = pd.concat([topic_num_keywords, topic_counts, topic_contribution], axis=1)\n",
    "\n",
    "# Renomeia as colunas\n",
    "df_dominant_topics.columns = ['Principal_Topico', 'Palavras_Chave', 'Qtd_Tweets', 'Perc_Tweets']\n",
    "\n",
    "# Mostra o DataFrame\n",
    "df_dominant_topics"
   ]
  },
  {
   "cell_type": "code",
   "execution_count": 29,
   "metadata": {},
   "outputs": [
    {
     "data": {
      "image/png": "[encoded data removed]",
      "text/plain": [
       "<Figure size 720x720 with 4 Axes>"
      ]
     },
     "metadata": {
      "needs_background": "light"
     },
     "output_type": "display_data"
    }
   ],
   "source": [
    "# Cria wordclouds\n",
    "\n",
    "cols = [color for name, color in mcolors.XKCD_COLORS.items()]\n",
    "\n",
    "cloud = WordCloud(stopwords=stop_words,\n",
    "                  background_color='white',\n",
    "                  width=2500,\n",
    "                  height=1800,\n",
    "                  max_words=10,\n",
    "                  colormap='tab10',\n",
    "                  color_func=lambda *args, **kwargs: cols[i],\n",
    "                  prefer_horizontal=1.0)\n",
    "\n",
    "topics = lda_model.show_topics(formatted=False)\n",
    "\n",
    "fig, axes = plt.subplots(2, 2, figsize=(10,10), sharex=True, sharey=True)\n",
    "\n",
    "for i, ax in enumerate(axes.flatten()):\n",
    "    fig.add_subplot(ax)\n",
    "    topic_words = dict(topics[i][1])\n",
    "    cloud.generate_from_frequencies(topic_words, max_font_size=300)\n",
    "    plt.gca().imshow(cloud)\n",
    "    plt.gca().set_title('Topic ' + str(i), fontdict=dict(size=16))\n",
    "    plt.gca().axis('off')\n",
    "\n",
    "\n",
    "plt.subplots_adjust(wspace=0, hspace=0)\n",
    "plt.axis('off')\n",
    "plt.margins(x=0, y=0)\n",
    "plt.tight_layout()\n",
    "plt.show()"
   ]
  },
  {
   "cell_type": "code",
   "execution_count": null,
   "metadata": {},
   "outputs": [],
   "source": []
  }
 ],
 "metadata": {
  "kernelspec": {
   "display_name": "Python 3",
   "language": "python",
   "name": "python3"
  },
  "language_info": {
   "codemirror_mode": {
    "name": "ipython",
    "version": 3
   },
   "file_extension": ".py",
   "mimetype": "text/x-python",
   "name": "python",
   "nbconvert_exporter": "python",
   "pygments_lexer": "ipython3",
   "version": "3.7.6"
  }
 },
 "nbformat": 4,
 "nbformat_minor": 1
}
