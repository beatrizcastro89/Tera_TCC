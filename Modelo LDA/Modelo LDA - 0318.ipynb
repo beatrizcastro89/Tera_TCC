{
 "cells": [
  {
   "cell_type": "markdown",
   "metadata": {
    "collapsed": true
   },
   "source": [
    "Análise do dia 18/03 através do modelo LDA."
   ]
  },
  {
   "cell_type": "code",
   "execution_count": 1,
   "metadata": {},
   "outputs": [],
   "source": [
    "# Importar bibliotecas\n",
    "\n",
    "# gerais\n",
    "import sys\n",
    "import os\n",
    "from pathlib import Path\n",
    "import re\n",
    "import numpy as np\n",
    "import pandas as pd\n",
    "from pprint import pprint\n",
    "from tqdm import tqdm\n",
    "from ast import literal_eval\n",
    "\n",
    "# Gensim\n",
    "import gensim, spacy, logging, warnings\n",
    "import gensim.corpora as corpora\n",
    "from gensim.utils import lemmatize, simple_preprocess\n",
    "from gensim.models import CoherenceModel\n",
    "from gensim.models.ldamulticore import LdaMulticore\n",
    "\n",
    "# NLTK Stop words\n",
    "import nltk\n",
    "from nltk.corpus import stopwords\n",
    "\n",
    "# sklearn\n",
    "from sklearn.feature_extraction.text import CountVectorizer\n",
    "\n",
    "#plot\n",
    "import pyLDAvis\n",
    "import pyLDAvis.gensim\n",
    "import matplotlib.pyplot as plt\n",
    "import matplotlib.colors as mcolors\n",
    "%matplotlib inline\n",
    "from wordcloud import WordCloud, STOPWORDS"
   ]
  },
  {
   "cell_type": "markdown",
   "metadata": {},
   "source": [
    "# Preparação dos dados"
   ]
  },
  {
   "cell_type": "code",
   "execution_count": 2,
   "metadata": {},
   "outputs": [],
   "source": [
    "# import dos dados\n",
    "\n",
    "df = pd.read_csv('1803_preprocessado.csv')"
   ]
  },
  {
   "cell_type": "code",
   "execution_count": 3,
   "metadata": {},
   "outputs": [],
   "source": [
    "# função para reverter os tokens processados em lista de tuples\n",
    "\n",
    "def strip_characters(text):\n",
    "    t = re.sub(r'\\(|\\)|:|,|;|\\.|’|”|“|\\?|%|>|<|\\[|\\]', '', text)\n",
    "    t = re.sub(r'/', ' ', t)\n",
    "    t = t.replace(\"'\",'')\n",
    "    return t"
   ]
  },
  {
   "cell_type": "code",
   "execution_count": 4,
   "metadata": {},
   "outputs": [],
   "source": [
    "# aplica função em todos os tokens\n",
    "\n",
    "df['token3'] = df['token3'].apply(lambda x: strip_characters(x))\n",
    "df['token3'] = df['token3'].apply(lambda x: str(x).split(' '))"
   ]
  },
  {
   "cell_type": "code",
   "execution_count": 5,
   "metadata": {},
   "outputs": [],
   "source": [
    "texto = list(df.token3)"
   ]
  },
  {
   "cell_type": "markdown",
   "metadata": {},
   "source": [
    "# Modelagem"
   ]
  },
  {
   "cell_type": "code",
   "execution_count": 6,
   "metadata": {},
   "outputs": [],
   "source": [
    "# Criar dicionário\n",
    "\n",
    "id2word = corpora.Dictionary(texto)"
   ]
  },
  {
   "cell_type": "code",
   "execution_count": 7,
   "metadata": {},
   "outputs": [],
   "source": [
    "# Criar o Corpus: A Frequência das palavras nos documentos\n",
    "\n",
    "corpus = [id2word.doc2bow(text) for text in texto]"
   ]
  },
  {
   "cell_type": "code",
   "execution_count": 8,
   "metadata": {},
   "outputs": [],
   "source": [
    "# Função para determinar a melhor quantidade de tópicos para a modelagem\n",
    "\n",
    "def compute_coherence_values(dictionary, corpus, texts, limit, start=2, step=5):\n",
    "    coherence_values = []\n",
    "    model_list = []\n",
    "    for num_topics in tqdm(range(start, limit, step)):\n",
    "        model = LdaMulticore(corpus, id2word=id2word, num_topics=10)\n",
    "        model_list.append(model)\n",
    "        coherencemodel = CoherenceModel(model=model, texts=texts, dictionary=dictionary, coherence='c_v')\n",
    "        coherence_values.append(coherencemodel.get_coherence())\n",
    "\n",
    "    return model_list, coherence_values"
   ]
  },
  {
   "cell_type": "code",
   "execution_count": 9,
   "metadata": {},
   "outputs": [
    {
     "name": "stderr",
     "output_type": "stream",
     "text": [
      "100%|█████████████████████████████████████████████████████████████████████████████████| 14/14 [24:12<00:00, 103.73s/it]\n"
     ]
    }
   ],
   "source": [
    "# Colocando parametros na função\n",
    "\n",
    "model_list, coherence_values = compute_coherence_values(dictionary=id2word, corpus=corpus, texts=texto, start=2, limit=30, step=2)"
   ]
  },
  {
   "cell_type": "code",
   "execution_count": 10,
   "metadata": {},
   "outputs": [
    {
     "data": {
      "image/png": "[encoded data removed]",
      "text/plain": [
       "<Figure size 432x288 with 1 Axes>"
      ]
     },
     "metadata": {
      "needs_background": "light"
     },
     "output_type": "display_data"
    }
   ],
   "source": [
    "# Mostrando visualmente a quantidade de tópicos\n",
    "\n",
    "limit=30; start=2; step=2;\n",
    "x = range(start, limit, step)\n",
    "plt.plot(x, coherence_values)\n",
    "plt.xlabel(\"Num Tópicos\")\n",
    "plt.ylabel(\"Score de Coerência\")\n",
    "plt.legend((\"Valores de Coerência\"), loc='best')\n",
    "plt.show()"
   ]
  },
  {
   "cell_type": "code",
   "execution_count": 11,
   "metadata": {},
   "outputs": [
    {
     "name": "stdout",
     "output_type": "stream",
     "text": [
      "A quantidade de tópicos = 2  tem um valor de coerência de  0.325\n",
      "A quantidade de tópicos = 4  tem um valor de coerência de  0.292\n",
      "A quantidade de tópicos = 6  tem um valor de coerência de  0.2845\n",
      "A quantidade de tópicos = 8  tem um valor de coerência de  0.307\n",
      "A quantidade de tópicos = 10  tem um valor de coerência de  0.3456\n",
      "A quantidade de tópicos = 12  tem um valor de coerência de  0.2901\n",
      "A quantidade de tópicos = 14  tem um valor de coerência de  0.2889\n",
      "A quantidade de tópicos = 16  tem um valor de coerência de  0.3263\n",
      "A quantidade de tópicos = 18  tem um valor de coerência de  0.305\n",
      "A quantidade de tópicos = 20  tem um valor de coerência de  0.2985\n",
      "A quantidade de tópicos = 22  tem um valor de coerência de  0.3101\n",
      "A quantidade de tópicos = 24  tem um valor de coerência de  0.2981\n",
      "A quantidade de tópicos = 26  tem um valor de coerência de  0.3068\n",
      "A quantidade de tópicos = 28  tem um valor de coerência de  0.3142\n"
     ]
    }
   ],
   "source": [
    "# Lista dos valores de coerência, para melhor identificar o ponto de inflexão do gráfico\n",
    "\n",
    "for m, cv in zip(x, coherence_values):\n",
    "    print(\"A quantidade de tópicos =\", m, \" tem um valor de coerência de \", round(cv, 4))"
   ]
  },
  {
   "cell_type": "markdown",
   "metadata": {},
   "source": [
    "Aqui conseguimos determinar a melhor quantidade de tópicos a serem analisados, que é 8 tópicos"
   ]
  },
  {
   "cell_type": "code",
   "execution_count": 16,
   "metadata": {},
   "outputs": [],
   "source": [
    "# Vamos agora construir de fato o modelo LDA\n",
    "\n",
    "lda_model = LdaMulticore(corpus=corpus,\n",
    "                        id2word=id2word,\n",
    "                        num_topics=4, \n",
    "                        random_state=42,\n",
    "                        chunksize=100,\n",
    "                        passes=10,\n",
    "                        per_word_topics=True,\n",
    "                        alpha = 0.9,\n",
    "                        eta = 0.3)"
   ]
  },
  {
   "cell_type": "code",
   "execution_count": 17,
   "metadata": {},
   "outputs": [
    {
     "name": "stdout",
     "output_type": "stream",
     "text": [
      "\n",
      "Perplexidade:  -6.787710533572535\n"
     ]
    }
   ],
   "source": [
    "# Computar a perplexidade do modelo (quanto menor, melhor)\n",
    "\n",
    "print('\\nPerplexidade: ', lda_model.log_perplexity(corpus))"
   ]
  },
  {
   "cell_type": "code",
   "execution_count": 18,
   "metadata": {},
   "outputs": [
    {
     "name": "stdout",
     "output_type": "stream",
     "text": [
      "\n",
      "Score de Coerência:  0.37157617786566866\n"
     ]
    }
   ],
   "source": [
    "# Computar o Score de Coerência\n",
    "\n",
    "coherence_model_lda = CoherenceModel(model=lda_model, texts=texto, dictionary=id2word, coherence='c_v')\n",
    "coherence_lda = coherence_model_lda.get_coherence()\n",
    "print('\\nScore de Coerência: ', coherence_lda)"
   ]
  },
  {
   "cell_type": "code",
   "execution_count": 19,
   "metadata": {},
   "outputs": [
    {
     "data": {
      "text/html": [
       "\n",
       "<link rel=\"stylesheet\" type=\"text/css\" href=\"https://cdn.rawgit.com/bmabey/pyLDAvis/files/ldavis.v1.0.0.css\">\n",
       "\n",
       "\n",
       "<div id=\"ldavis_el291623283645619929124770796\"></div>\n",
       "<script type=\"text/javascript\">\n",
       "\n",
       "var ldavis_el291623283645619929124770796_data = {\"mdsDat\": {\"x\": [0.32323477391157013, -0.26086840900805197, 0.1271019406190125, -0.18946830552253013], \"y\": [-0.020231143811801185, -0.3005907122207597, -0.03503057650467621, 0.35585243253723714], \"topics\": [1, 2, 3, 4], \"cluster\": [1, 1, 1, 1], \"Freq\": [26.006132125854492, 25.944236755371094, 25.91950035095215, 22.13013458251953]}, \"tinfo\": {\"Term\": [\"bolsonaro\", \"\", \"presidente\", \"agora\", \"casa\", \"gente\", \"contra\", \"panelaco\", \"pandemia\", \"passar\", \"muito\", \"nem\", \"coronga\", \"tempo\", \"mundo\", \"sim\", \"povo\", \"coisa\", \"depois\", \"nada\", \"quando\", \"governo\", \"favor\", \"brasil\", \"mae\", \"sair\", \"deus\", \"panela\", \"meio\", \"merda\", \"casa\", \"nem\", \"coronga\", \"mundo\", \"quando\", \"mae\", \"sair\", \"deus\", \"pegar\", \"ir\", \"vida\", \"alguem\", \"falar\", \"pai\", \"medo\", \"tava\", \"primeiro\", \"acabar\", \"porque\", \"melhor\", \"bom\", \"caso\", \"tambem\", \"familia\", \"matar\", \"logo\", \"trabalho\", \"amor\", \"poder\", \"grupo\", \"pois\", \"gente\", \"pandemia\", \"nada\", \"brasil\", \"nunca\", \"saude\", \"novo\", \"pessoa\", \"tanto\", \"menos\", \"ninguem\", \"tedio\", \"morrer\", \"vez\", \"segundo\", \"cada\", \"crise\", \"semana\", \"sempre\", \"saber\", \"ano\", \"diario\", \"enquanto\", \"demais\", \"fav\", \"positivo\", \"terceiro\", \"algo\", \"cabelo\", \"quase\", \"qual\", \"jogar\", \"fim\", \"bolsonaro\", \"agora\", \"contra\", \"panelaco\", \"sim\", \"tempo\", \"favor\", \"panela\", \"meio\", \"hora\", \"galera\", \"cabeca\", \"pouco\", \"pessoal\", \"amo\", \"gosto\", \"comecou\", \"outro\", \"dois\", \"bater\", \"grande\", \"ouvir\", \"bbb\", \"janela\", \"sp\", \"rio\", \"quanto\", \"saco\", \"bora\", \"gritar\", \"frente\", \"ha\", \"gente\", \"\", \"presidente\", \"passar\", \"muito\", \"povo\", \"coisa\", \"depois\", \"governo\", \"merda\", \"cu\", \"tomar\", \"momento\", \"video\", \"caralho\", \"mal\", \"forabolsonaros\", \"usar\", \"kkkkkkk\", \"dificil\", \"certeza\", \"senhor\", \"jeito\", \"irresponsavel\", \"vergonha\", \"problema\", \"impeachment\", \"filho\", \"nenhum\", \"ah\", \"tirar\"], \"Freq\": [22943.0, 14465.0, 12771.0, 7954.0, 7590.0, 8165.0, 5858.0, 5740.0, 5221.0, 4136.0, 3949.0, 4416.0, 3413.0, 3291.0, 3295.0, 3205.0, 2826.0, 2787.0, 2668.0, 2940.0, 2895.0, 2524.0, 2790.0, 2742.0, 2599.0, 2549.0, 2483.0, 2449.0, 2381.0, 2027.0, 7589.09619140625, 4415.00732421875, 3412.0732421875, 3294.140869140625, 2894.010498046875, 2598.822998046875, 2548.04052734375, 2482.616943359375, 2051.3623046875, 1792.926513671875, 1666.4873046875, 1685.081787109375, 1668.790771484375, 1574.5089111328125, 1566.7576904296875, 1475.5938720703125, 1417.2254638671875, 1362.5369873046875, 1443.4222412109375, 1414.5274658203125, 1247.615234375, 1204.69189453125, 1212.99560546875, 1122.729736328125, 1048.733642578125, 982.7256469726562, 973.5082397460938, 896.5885620117188, 865.55126953125, 846.4007568359375, 868.482421875, 876.2880859375, 5219.94921875, 2938.913330078125, 2741.13232421875, 1533.0340576171875, 1506.6669921875, 1339.439208984375, 1306.930908203125, 1312.0452880859375, 1215.120849609375, 1198.45068359375, 1091.387939453125, 1094.9163818359375, 1065.9755859375, 926.396240234375, 925.3975830078125, 914.1018676757812, 836.1883544921875, 846.0762939453125, 832.2246704101562, 799.6268920898438, 768.9735717773438, 787.1248168945312, 771.025634765625, 730.5549926757812, 763.9669799804688, 727.7650756835938, 753.9476318359375, 704.7708740234375, 732.17529296875, 715.1119995117188, 724.6874389648438, 719.5853271484375, 22943.080078125, 7953.60693359375, 5857.82421875, 5739.9423828125, 3204.275634765625, 3290.50537109375, 2789.196533203125, 2448.48046875, 2380.930419921875, 1895.71337890625, 1730.2083740234375, 1459.7628173828125, 1505.953125, 1448.475341796875, 1394.6241455078125, 1358.2791748046875, 1241.933837890625, 1254.734130859375, 1227.3255615234375, 1087.539306640625, 1153.796142578125, 1026.8001708984375, 925.3163452148438, 830.9620361328125, 833.3849487304688, 796.60693359375, 790.093017578125, 791.8258666992188, 736.3329467773438, 695.51416015625, 702.1494750976562, 1186.977783203125, 7288.45751953125, 14464.265625, 12770.2607421875, 4135.28125, 3948.402099609375, 2825.827392578125, 2786.85888671875, 2666.99072265625, 2523.56494140625, 2026.761474609375, 1689.5001220703125, 1637.858154296875, 1565.764892578125, 1290.4908447265625, 1223.95703125, 1171.1634521484375, 1107.368408203125, 901.3375244140625, 842.8466186523438, 759.5172119140625, 752.1679077148438, 712.3392944335938, 708.5227661132812, 676.6318969726562, 668.1728515625, 723.1058349609375, 658.2913818359375, 633.732421875, 644.3407592773438, 639.6326293945312, 631.5756225585938], \"Total\": [22943.0, 14465.0, 12771.0, 7954.0, 7590.0, 8165.0, 5858.0, 5740.0, 5221.0, 4136.0, 3949.0, 4416.0, 3413.0, 3291.0, 3295.0, 3205.0, 2826.0, 2787.0, 2668.0, 2940.0, 2895.0, 2524.0, 2790.0, 2742.0, 2599.0, 2549.0, 2483.0, 2449.0, 2381.0, 2027.0, 7590.23095703125, 4416.169921875, 3413.19775390625, 3295.314208984375, 2895.185791015625, 2599.948974609375, 2549.167236328125, 2483.7744140625, 2052.487548828125, 1794.0478515625, 1667.6434326171875, 1686.2628173828125, 1670.002685546875, 1575.653564453125, 1567.8978271484375, 1476.7523193359375, 1418.3623046875, 1363.666015625, 1444.6204833984375, 1415.728759765625, 1248.7779541015625, 1205.8580322265625, 1214.20654296875, 1123.892578125, 1049.868408203125, 983.8629760742188, 974.6649780273438, 897.7138671875, 866.7013549804688, 847.5394897460938, 869.6890258789062, 8165.42431640625, 5221.1083984375, 2940.070556640625, 2742.2890625, 1534.2056884765625, 1507.84716796875, 1340.558349609375, 1308.09814453125, 1313.2213134765625, 1216.27392578125, 1199.626708984375, 1092.5125732421875, 1096.0618896484375, 1067.1397705078125, 927.5223388671875, 926.5560302734375, 915.2777099609375, 837.3419189453125, 847.2476196289062, 833.40185546875, 800.7581176757812, 770.0917358398438, 788.2794799804688, 772.1636962890625, 731.6390991210938, 765.1160888671875, 728.8768920898438, 755.1112670898438, 705.8735961914062, 733.3214721679688, 716.2340087890625, 725.8278198242188, 720.7311401367188, 22943.98828125, 7954.5498046875, 5858.72509765625, 5740.83056640625, 3205.224609375, 3291.4873046875, 2790.110107421875, 2449.357177734375, 2381.893310546875, 1896.6666259765625, 1731.133544921875, 1460.684814453125, 1506.90673828125, 1449.3963623046875, 1395.5445556640625, 1359.2100830078125, 1242.846435546875, 1255.692626953125, 1228.269775390625, 1088.431640625, 1154.75537109375, 1027.729736328125, 926.2606201171875, 831.85302734375, 834.3216552734375, 797.5245971679688, 791.0537109375, 792.7904052734375, 737.2660522460938, 696.39990234375, 703.09765625, 1205.797607421875, 8165.42431640625, 14465.2509765625, 12771.27734375, 4136.31298828125, 3949.445556640625, 2826.8583984375, 2787.90478515625, 2668.023193359375, 2524.609130859375, 2027.79345703125, 1690.5106201171875, 1638.8775634765625, 1566.808349609375, 1291.5386962890625, 1224.983642578125, 1172.193603515625, 1108.471923828125, 902.3817749023438, 843.8627319335938, 760.56005859375, 753.2037353515625, 713.362060546875, 709.5582275390625, 677.6444702148438, 669.2015380859375, 724.23291015625, 659.322021484375, 634.7529296875, 645.3889770507812, 640.6792602539062, 632.6096801757812], \"Category\": [\"Default\", \"Default\", \"Default\", \"Default\", \"Default\", \"Default\", \"Default\", \"Default\", \"Default\", \"Default\", \"Default\", \"Default\", \"Default\", \"Default\", \"Default\", \"Default\", \"Default\", \"Default\", \"Default\", \"Default\", \"Default\", \"Default\", \"Default\", \"Default\", \"Default\", \"Default\", \"Default\", \"Default\", \"Default\", \"Default\", \"Topic1\", \"Topic1\", \"Topic1\", \"Topic1\", \"Topic1\", \"Topic1\", \"Topic1\", \"Topic1\", \"Topic1\", \"Topic1\", \"Topic1\", \"Topic1\", \"Topic1\", \"Topic1\", \"Topic1\", \"Topic1\", \"Topic1\", \"Topic1\", \"Topic1\", \"Topic1\", \"Topic1\", \"Topic1\", \"Topic1\", \"Topic1\", \"Topic1\", \"Topic1\", \"Topic1\", \"Topic1\", \"Topic1\", \"Topic1\", \"Topic1\", \"Topic1\", \"Topic2\", \"Topic2\", \"Topic2\", \"Topic2\", \"Topic2\", \"Topic2\", \"Topic2\", \"Topic2\", \"Topic2\", \"Topic2\", \"Topic2\", \"Topic2\", \"Topic2\", \"Topic2\", \"Topic2\", \"Topic2\", \"Topic2\", \"Topic2\", \"Topic2\", \"Topic2\", \"Topic2\", \"Topic2\", \"Topic2\", \"Topic2\", \"Topic2\", \"Topic2\", \"Topic2\", \"Topic2\", \"Topic2\", \"Topic2\", \"Topic2\", \"Topic2\", \"Topic3\", \"Topic3\", \"Topic3\", \"Topic3\", \"Topic3\", \"Topic3\", \"Topic3\", \"Topic3\", \"Topic3\", \"Topic3\", \"Topic3\", \"Topic3\", \"Topic3\", \"Topic3\", \"Topic3\", \"Topic3\", \"Topic3\", \"Topic3\", \"Topic3\", \"Topic3\", \"Topic3\", \"Topic3\", \"Topic3\", \"Topic3\", \"Topic3\", \"Topic3\", \"Topic3\", \"Topic3\", \"Topic3\", \"Topic3\", \"Topic3\", \"Topic3\", \"Topic3\", \"Topic4\", \"Topic4\", \"Topic4\", \"Topic4\", \"Topic4\", \"Topic4\", \"Topic4\", \"Topic4\", \"Topic4\", \"Topic4\", \"Topic4\", \"Topic4\", \"Topic4\", \"Topic4\", \"Topic4\", \"Topic4\", \"Topic4\", \"Topic4\", \"Topic4\", \"Topic4\", \"Topic4\", \"Topic4\", \"Topic4\", \"Topic4\", \"Topic4\", \"Topic4\", \"Topic4\", \"Topic4\", \"Topic4\", \"Topic4\"], \"logprob\": [30.0, 29.0, 28.0, 27.0, 26.0, 25.0, 24.0, 23.0, 22.0, 21.0, 20.0, 19.0, 18.0, 17.0, 16.0, 15.0, 14.0, 13.0, 12.0, 11.0, 10.0, 9.0, 8.0, 7.0, 6.0, 5.0, 4.0, 3.0, 2.0, 1.0, -2.9570999145507812, -3.498800039291382, -3.756500005722046, -3.7916998863220215, -3.9212000370025635, -4.028800010681152, -4.048500061035156, -4.07450008392334, -4.2652997970581055, -4.400000095367432, -4.473100185394287, -4.461999893188477, -4.471700191497803, -4.529900074005127, -4.534800052642822, -4.594799995422363, -4.6350998878479, -4.674499988555908, -4.616799831390381, -4.6371002197265625, -4.762599945068359, -4.797599792480469, -4.790800094604492, -4.868100166320801, -4.936299800872803, -5.001299858093262, -5.010700225830078, -5.0929999351501465, -5.128200054168701, -5.150599956512451, -5.124899864196777, -5.115900039672852, -3.3289999961853027, -3.90339994430542, -3.973099946975708, -4.554200172424316, -4.571599960327148, -4.689199924468994, -4.713799953460693, -4.70989990234375, -4.786600112915039, -4.8003997802734375, -4.894000053405762, -4.8907999992370605, -4.917600154876709, -5.0578999519348145, -5.059000015258789, -5.071300029754639, -5.160399913787842, -5.148600101470947, -5.16510009765625, -5.205100059509277, -5.244200229644775, -5.220799922943115, -5.241499900817871, -5.295400142669678, -5.250699996948242, -5.299200057983398, -5.263899803161621, -5.331299781799316, -5.2932000160217285, -5.316800117492676, -5.303500175476074, -5.310500144958496, -1.847499966621399, -2.906899929046631, -3.2126998901367188, -3.233099937438965, -3.815999984741211, -3.7894999980926514, -3.9547998905181885, -4.085000038146973, -4.11299991607666, -4.34089994430542, -4.432300090789795, -4.602200031280518, -4.571100234985352, -4.610000133514404, -4.647900104522705, -4.674300193786621, -4.763800144195557, -4.753600120544434, -4.775700092315674, -4.896599769592285, -4.837500095367432, -4.954100131988525, -5.05810022354126, -5.1656999588012695, -5.162799835205078, -5.207900047302246, -5.216100215911865, -5.213900089263916, -5.286600112915039, -5.343599796295166, -5.334099769592285, -4.809100151062012, -2.9941999912261963, -2.1507999897003174, -2.2753000259399414, -3.402899980545044, -3.4491000175476074, -3.7836999893188477, -3.797499895095825, -3.8415000438690186, -3.8968000411987305, -4.116000175476074, -4.297999858856201, -4.329100131988525, -4.374100208282471, -4.567399978637695, -4.6203999519348145, -4.6645002365112305, -4.7204999923706055, -4.926300048828125, -4.9934000968933105, -5.097499847412109, -5.1072998046875, -5.1616997718811035, -5.166999816894531, -5.213099956512451, -5.2256999015808105, -5.146699905395508, -5.240600109100342, -5.278600215911865, -5.26200008392334, -5.2692999839782715, -5.2820000648498535], \"loglift\": [30.0, 29.0, 28.0, 27.0, 26.0, 25.0, 24.0, 23.0, 22.0, 21.0, 20.0, 19.0, 18.0, 17.0, 16.0, 15.0, 14.0, 13.0, 12.0, 11.0, 10.0, 9.0, 8.0, 7.0, 6.0, 5.0, 4.0, 3.0, 2.0, 1.0, 1.3466999530792236, 1.34660005569458, 1.346500039100647, 1.346500039100647, 1.3464000225067139, 1.3464000225067139, 1.3464000225067139, 1.3464000225067139, 1.3463000059127808, 1.3461999893188477, 1.3460999727249146, 1.3460999727249146, 1.3460999727249146, 1.3460999727249146, 1.3460999727249146, 1.3460999727249146, 1.3459999561309814, 1.3459999561309814, 1.3459999561309814, 1.3459999561309814, 1.345900058746338, 1.345900058746338, 1.3458000421524048, 1.3458000421524048, 1.3458000421524048, 1.3457000255584717, 1.3457000255584717, 1.3456000089645386, 1.3454999923706055, 1.3454999923706055, 1.3453999757766724, -0.8851000070571899, 1.3489999771118164, 1.3487999439239502, 1.3487999439239502, 1.3485000133514404, 1.3483999967575073, 1.3483999967575073, 1.3482999801635742, 1.3482999801635742, 1.3482999801635742, 1.3481999635696411, 1.3481999635696411, 1.3481999635696411, 1.348099946975708, 1.3480000495910645, 1.3480000495910645, 1.3479000329971313, 1.3478000164031982, 1.3478000164031982, 1.3478000164031982, 1.3478000164031982, 1.3478000164031982, 1.3478000164031982, 1.3476999998092651, 1.3476999998092651, 1.3476999998092651, 1.3476999998092651, 1.3476999998092651, 1.3476999998092651, 1.3476999998092651, 1.3476999998092651, 1.347599983215332, 1.347599983215332, 1.350100040435791, 1.350100040435791, 1.350000023841858, 1.350000023841858, 1.3499000072479248, 1.3499000072479248, 1.3497999906539917, 1.3497999906539917, 1.3497999906539917, 1.3496999740600586, 1.3495999574661255, 1.3494999408721924, 1.3494999408721924, 1.3494999408721924, 1.3494999408721924, 1.3494999408721924, 1.3494000434875488, 1.3494000434875488, 1.3494000434875488, 1.3494000434875488, 1.3493000268936157, 1.3493000268936157, 1.3492000102996826, 1.3490999937057495, 1.3490999937057495, 1.3489999771118164, 1.3489999771118164, 1.3489999771118164, 1.3488999605178833, 1.3488999605178833, 1.3487999439239502, 1.3344000577926636, 1.2366000413894653, 1.5082000494003296, 1.5082000494003296, 1.5080000162124634, 1.5080000162124634, 1.5078999996185303, 1.5078999996185303, 1.5077999830245972, 1.5077999830245972, 1.507699966430664, 1.507599949836731, 1.507599949836731, 1.507599949836731, 1.5074000358581543, 1.5074000358581543, 1.5074000358581543, 1.507200002670288, 1.507099986076355, 1.5069999694824219, 1.5068999528884888, 1.5068999528884888, 1.5068000555038452, 1.5068000555038452, 1.506700038909912, 1.506700038909912, 1.506700038909912, 1.506700038909912, 1.506600022315979, 1.506600022315979, 1.506600022315979, 1.506600022315979]}, \"token.table\": {\"Topic\": [4, 1, 3, 4, 2, 1, 3, 1, 2, 3, 3, 3, 1, 3, 2, 3, 2, 2, 4, 1, 1, 4, 4, 3, 3, 1, 2, 3, 4, 2, 4, 1, 2, 4, 3, 2, 1, 3, 1, 2, 3, 4, 2, 3, 4, 3, 3, 1, 3, 3, 4, 3, 3, 1, 2, 3, 3, 4, 1, 4, 3, 4, 2, 4, 1, 1, 4, 1, 1, 3, 1, 3, 2, 4, 4, 2, 4, 1, 2, 1, 4, 2, 2, 2, 3, 3, 1, 2, 3, 3, 4, 1, 2, 3, 1, 1, 3, 1, 3, 2, 3, 4, 4, 1, 4, 2, 1, 3, 2, 3, 2, 3, 1, 2, 2, 2, 2, 4, 3, 3, 1, 3, 2, 1, 2, 3, 2, 4, 4, 1, 4, 4, 2, 1, 4], \"Freq\": [0.9999135136604309, 0.9995115995407104, 0.9999308586120605, 0.9989397525787354, 0.9985283613204956, 0.999251127243042, 0.9996097683906555, 0.9992048144340515, 0.9990532398223877, 0.9996034502983093, 0.9986390471458435, 0.9999569058418274, 0.9993770122528076, 0.998282790184021, 0.9995299577713013, 0.9995311498641968, 0.9987623691558838, 0.9983206391334534, 0.9991970062255859, 0.9998378157615662, 0.9992884397506714, 0.9984018206596375, 0.999675452709198, 0.9993189573287964, 0.9998762607574463, 0.9996491074562073, 0.9986039996147156, 0.0010925645474344492, 0.9996979236602783, 0.998492956161499, 0.9996165037155151, 0.9996882081031799, 0.9985823035240173, 0.9992636442184448, 0.9989662170410156, 0.9983768463134766, 0.9993996024131775, 0.0005988014163449407, 0.9992058277130127, 0.9991264939308167, 0.9996021389961243, 0.998813807964325, 0.9989855289459229, 0.0009021428413689137, 0.9986721277236938, 0.998438835144043, 0.9993451833724976, 0.1072816252708435, 0.8925439119338989, 0.9991097450256348, 0.9997587203979492, 0.9993458390235901, 0.9994257688522339, 0.99818354845047, 0.01492787804454565, 0.9844106435775757, 0.9996485114097595, 0.9979948997497559, 0.999415934085846, 0.9990489482879639, 0.9989745616912842, 0.9992132782936096, 0.9988594651222229, 0.9989776611328125, 0.9991228580474854, 0.9996349811553955, 0.9989817142486572, 0.9991728663444519, 0.9994273781776428, 0.9996249675750732, 0.9994852542877197, 0.000706349965184927, 0.9989526271820068, 0.9996086955070496, 0.9994840621948242, 0.9990311861038208, 0.9996339678764343, 0.9996011853218079, 0.9996358752250671, 0.9997350573539734, 0.997847855091095, 0.9986439943313599, 0.9988375306129456, 0.9992141127586365, 0.9994484186172485, 0.9992899298667908, 0.9995852112770081, 0.9997876882553101, 0.999445915222168, 0.9998553395271301, 0.9996825456619263, 0.999275267124176, 0.9991605281829834, 0.9990366101264954, 0.9991907477378845, 0.9980579018592834, 0.001149836229160428, 0.9988782405853271, 0.0006922233151271939, 0.9985412955284119, 0.9993982911109924, 0.9996963143348694, 0.9998999834060669, 0.9990395307540894, 0.9982976317405701, 0.9982770681381226, 0.9995903968811035, 0.9986679553985596, 0.9981979727745056, 0.9993422031402588, 0.9983178973197937, 0.999002993106842, 0.9995421171188354, 0.9994381666183472, 0.9983587265014648, 0.9983974099159241, 0.998527467250824, 0.9980906248092651, 0.9996179342269897, 0.9984158873558044, 0.9990063309669495, 0.000823583104647696, 0.9990699887275696, 0.9994905591011047, 0.9986155033111572, 0.9998519420623779, 0.9987969398498535, 0.9990362524986267, 0.9994645118713379, 0.9993177652359009, 0.9984687566757202, 0.9982045292854309, 0.9989319443702698, 0.9990144968032837, 0.9988086223602295], \"Term\": [\"\", \"acabar\", \"agora\", \"ah\", \"algo\", \"alguem\", \"amo\", \"amor\", \"ano\", \"bater\", \"bbb\", \"bolsonaro\", \"bom\", \"bora\", \"brasil\", \"cabeca\", \"cabelo\", \"cada\", \"caralho\", \"casa\", \"caso\", \"certeza\", \"coisa\", \"comecou\", \"contra\", \"coronga\", \"crise\", \"crise\", \"cu\", \"demais\", \"depois\", \"deus\", \"diario\", \"dificil\", \"dois\", \"enquanto\", \"falar\", \"falar\", \"familia\", \"fav\", \"favor\", \"filho\", \"fim\", \"forabolsonaros\", \"forabolsonaros\", \"frente\", \"galera\", \"gente\", \"gente\", \"gosto\", \"governo\", \"grande\", \"gritar\", \"grupo\", \"ha\", \"ha\", \"hora\", \"impeachment\", \"ir\", \"irresponsavel\", \"janela\", \"jeito\", \"jogar\", \"kkkkkkk\", \"logo\", \"mae\", \"mal\", \"matar\", \"medo\", \"meio\", \"melhor\", \"melhor\", \"menos\", \"merda\", \"momento\", \"morrer\", \"muito\", \"mundo\", \"nada\", \"nem\", \"nenhum\", \"ninguem\", \"novo\", \"nunca\", \"outro\", \"ouvir\", \"pai\", \"pandemia\", \"panela\", \"panelaco\", \"passar\", \"pegar\", \"pessoa\", \"pessoal\", \"poder\", \"pois\", \"pois\", \"porque\", \"porque\", \"positivo\", \"pouco\", \"povo\", \"presidente\", \"primeiro\", \"problema\", \"qual\", \"quando\", \"quanto\", \"quase\", \"rio\", \"saber\", \"saco\", \"sair\", \"saude\", \"segundo\", \"semana\", \"sempre\", \"senhor\", \"sim\", \"sp\", \"tambem\", \"tambem\", \"tanto\", \"tava\", \"tedio\", \"tempo\", \"terceiro\", \"tirar\", \"tomar\", \"trabalho\", \"usar\", \"vergonha\", \"vez\", \"vida\", \"video\"]}, \"R\": 30, \"lambda.step\": 0.01, \"plot.opts\": {\"xlab\": \"PC1\", \"ylab\": \"PC2\"}, \"topic.order\": [1, 4, 3, 2]};\n",
       "\n",
       "function LDAvis_load_lib(url, callback){\n",
       "  var s = document.createElement('script');\n",
       "  s.src = url;\n",
       "  s.async = true;\n",
       "  s.onreadystatechange = s.onload = callback;\n",
       "  s.onerror = function(){console.warn(\"failed to load library \" + url);};\n",
       "  document.getElementsByTagName(\"head\")[0].appendChild(s);\n",
       "}\n",
       "\n",
       "if(typeof(LDAvis) !== \"undefined\"){\n",
       "   // already loaded: just create the visualization\n",
       "   !function(LDAvis){\n",
       "       new LDAvis(\"#\" + \"ldavis_el291623283645619929124770796\", ldavis_el291623283645619929124770796_data);\n",
       "   }(LDAvis);\n",
       "}else if(typeof define === \"function\" && define.amd){\n",
       "   // require.js is available: use it to load d3/LDAvis\n",
       "   require.config({paths: {d3: \"https://cdnjs.cloudflare.com/ajax/libs/d3/3.5.5/d3.min\"}});\n",
       "   require([\"d3\"], function(d3){\n",
       "      window.d3 = d3;\n",
       "      LDAvis_load_lib(\"https://cdn.rawgit.com/bmabey/pyLDAvis/files/ldavis.v1.0.0.js\", function(){\n",
       "        new LDAvis(\"#\" + \"ldavis_el291623283645619929124770796\", ldavis_el291623283645619929124770796_data);\n",
       "      });\n",
       "    });\n",
       "}else{\n",
       "    // require.js not available: dynamically load d3 & LDAvis\n",
       "    LDAvis_load_lib(\"https://cdnjs.cloudflare.com/ajax/libs/d3/3.5.5/d3.min.js\", function(){\n",
       "         LDAvis_load_lib(\"https://cdn.rawgit.com/bmabey/pyLDAvis/files/ldavis.v1.0.0.js\", function(){\n",
       "                 new LDAvis(\"#\" + \"ldavis_el291623283645619929124770796\", ldavis_el291623283645619929124770796_data);\n",
       "            })\n",
       "         });\n",
       "}\n",
       "</script>"
      ],
      "text/plain": [
       "PreparedData(topic_coordinates=              x         y  topics  cluster       Freq\n",
       "topic                                                \n",
       "0      0.323235 -0.020231       1        1  26.006132\n",
       "3     -0.260868 -0.300591       2        1  25.944237\n",
       "2      0.127102 -0.035031       3        1  25.919500\n",
       "1     -0.189468  0.355852       4        1  22.130135, topic_info=            Term          Freq         Total Category  logprob  loglift\n",
       "3      bolsonaro  22943.000000  22943.000000  Default  30.0000  30.0000\n",
       "15                14465.000000  14465.000000  Default  29.0000  29.0000\n",
       "13    presidente  12771.000000  12771.000000  Default  28.0000  28.0000\n",
       "27         agora   7954.000000   7954.000000  Default  27.0000  27.0000\n",
       "0           casa   7590.000000   7590.000000  Default  26.0000  26.0000\n",
       "..           ...           ...           ...      ...      ...      ...\n",
       "246  impeachment    658.291382    659.322021   Topic4  -5.2406   1.5067\n",
       "863        filho    633.732422    634.752930   Topic4  -5.2786   1.5066\n",
       "7         nenhum    644.340759    645.388977   Topic4  -5.2620   1.5066\n",
       "123           ah    639.632629    640.679260   Topic4  -5.2693   1.5066\n",
       "376        tirar    631.575623    632.609680   Topic4  -5.2820   1.5066\n",
       "\n",
       "[157 rows x 6 columns], token_table=      Topic      Freq      Term\n",
       "term                           \n",
       "15        4  0.999914          \n",
       "106       1  0.999512    acabar\n",
       "27        3  0.999931     agora\n",
       "123       4  0.998940        ah\n",
       "170       2  0.998528      algo\n",
       "...     ...       ...       ...\n",
       "87        4  0.998469      usar\n",
       "57        4  0.998205  vergonha\n",
       "308       2  0.998932       vez\n",
       "131       1  0.999014      vida\n",
       "526       4  0.998809     video\n",
       "\n",
       "[135 rows x 3 columns], R=30, lambda_step=0.01, plot_opts={'xlab': 'PC1', 'ylab': 'PC2'}, topic_order=[1, 4, 3, 2])"
      ]
     },
     "execution_count": 19,
     "metadata": {},
     "output_type": "execute_result"
    }
   ],
   "source": [
    "# Visualização dos tópicos em clusters\n",
    "\n",
    "pyLDAvis.enable_notebook()\n",
    "vis = pyLDAvis.gensim.prepare(lda_model, corpus, id2word)\n",
    "vis"
   ]
  },
  {
   "cell_type": "code",
   "execution_count": 31,
   "metadata": {},
   "outputs": [],
   "source": [
    "# Função para determinar a melhor quantidade de tópicos para a modelagem\n",
    "\n",
    "def compute_coherence_values(dictionary, corpus, texts, limit, start=2, step=5):\n",
    "    coherence_values = []\n",
    "    model_list = []\n",
    "    for num_topics in tqdm(range(start, limit, step)):\n",
    "        model = LdaMulticore(corpus, id2word=id2word, num_topics=4)\n",
    "        model_list.append(model)\n",
    "        coherencemodel = CoherenceModel(model=model, texts=texts, dictionary=dictionary, coherence='c_v')\n",
    "        coherence_values.append(coherencemodel.get_coherence())\n",
    "\n",
    "    return model_list, coherence_values"
   ]
  },
  {
   "cell_type": "code",
   "execution_count": 36,
   "metadata": {},
   "outputs": [
    {
     "name": "stderr",
     "output_type": "stream",
     "text": [
      "100%|███████████████████████████████████████████████████████████████████████████████████| 1/1 [06:11<00:00, 371.23s/it]\n"
     ]
    }
   ],
   "source": [
    "# Colocando parametros na função\n",
    "\n",
    "model_list, coherence_values = compute_coherence_values(dictionary=id2word, corpus=corpus, texts=texto, start=2, limit=4, step=2)"
   ]
  },
  {
   "cell_type": "code",
   "execution_count": 37,
   "metadata": {},
   "outputs": [
    {
     "data": {
      "text/plain": [
       "[(0,\n",
       "  '0.148*\"bolsonaro\" + 0.048*\"panelaco\" + 0.046*\"contra\" + 0.031*\"panela\" + 0.018*\"gente\" + 0.017*\"agora\" + 0.017*\"favor\" + 0.016*\"mundo\" + 0.016*\"cu\" + 0.016*\"presidente\" + 0.014*\"tomar\" + 0.011*\"povo\" + 0.009*\"bater\" + 0.008*\"depois\" + 0.007*\"janela\" + 0.007*\"galera\" + 0.007*\"nada\" + 0.007*\"mae\" + 0.006*\"comecou\" + 0.006*\"gritar\"'),\n",
       " (1,\n",
       "  '0.091*\"\" + 0.059*\"presidente\" + 0.039*\"bolsonaro\" + 0.015*\"muito\" + 0.015*\"pandemia\" + 0.011*\"agora\" + 0.009*\"governo\" + 0.009*\"sim\" + 0.009*\"forabolsonaros\" + 0.008*\"brasil\" + 0.008*\"saude\" + 0.007*\"meio\" + 0.007*\"povo\" + 0.006*\"panelaco\" + 0.006*\"nem\" + 0.005*\"momento\" + 0.005*\"crise\" + 0.005*\"novo\" + 0.005*\"usar\" + 0.004*\"video\"'),\n",
       " (2,\n",
       "  '0.020*\"presidente\" + 0.019*\"deus\" + 0.018*\"bolsonaro\" + 0.017*\"brasil\" + 0.015*\"passar\" + 0.013*\"alguem\" + 0.010*\"primeiro\" + 0.010*\"tempo\" + 0.008*\"pandemia\" + 0.008*\"nunca\" + 0.008*\"comigo\" + 0.007*\"segundo\" + 0.007*\"gente\" + 0.007*\"tambem\" + 0.007*\"depois\" + 0.006*\"ano\" + 0.006*\"novo\" + 0.006*\"caso\" + 0.006*\"falar\" + 0.006*\"amo\"'),\n",
       " (3,\n",
       "  '0.041*\"casa\" + 0.019*\"coronga\" + 0.017*\"nem\" + 0.014*\"gente\" + 0.014*\"pandemia\" + 0.012*\"sair\" + 0.012*\"pegar\" + 0.011*\"quando\" + 0.011*\"mae\" + 0.010*\"nada\" + 0.009*\"mundo\" + 0.009*\"ir\" + 0.009*\"agora\" + 0.008*\"passar\" + 0.007*\"medo\" + 0.007*\"vida\" + 0.007*\"muito\" + 0.006*\"coisa\" + 0.006*\"tedio\" + 0.006*\"acabar\"')]"
      ]
     },
     "execution_count": 37,
     "metadata": {},
     "output_type": "execute_result"
    }
   ],
   "source": [
    "# Escolhe o modelo\n",
    "\n",
    "optimal_model = model_list[0]\n",
    "optimal_model.print_topics(num_topics = 4, num_words = 20)"
   ]
  },
  {
   "cell_type": "code",
   "execution_count": 38,
   "metadata": {},
   "outputs": [],
   "source": [
    "# Encontrar qual o principal tópico em cada tweet\n",
    "\n",
    "def format_topics_sentences(ldamodel=lda_model, corpus=corpus, texts=texto):\n",
    "    # Output\n",
    "    sent_topics_df = pd.DataFrame()\n",
    "\n",
    "    # Seleciona o principal tópico de cada tweet\n",
    "    for i, row in enumerate(ldamodel[corpus]):\n",
    "        row = sorted(row, key=lambda x: (x[1]), reverse=True)\n",
    "        # Calcula o principal tópico, o percentual de contribuição e as palavras chaves de cada tweet\n",
    "        for j, (topic_num, prop_topic) in enumerate(row):\n",
    "            if j == 0:  # => mostra o principal tópico\n",
    "                wp = ldamodel.show_topic(topic_num)\n",
    "                topic_keywords = \", \".join([word for word, prop in wp])\n",
    "                sent_topics_df = sent_topics_df.append(pd.Series([int(topic_num), round(prop_topic,4), topic_keywords]), ignore_index=True)\n",
    "            else:\n",
    "                break\n",
    "    sent_topics_df.columns = ['Principal_Topico', 'Perc_Contributicao', 'Palavras_Chave']\n",
    "\n",
    "    # Inclui o texto original no final do DataFrame\n",
    "    contents = pd.Series(texts)\n",
    "    sent_topics_df = pd.concat([sent_topics_df, contents], axis=1)\n",
    "    return(sent_topics_df)"
   ]
  },
  {
   "cell_type": "code",
   "execution_count": 39,
   "metadata": {},
   "outputs": [],
   "source": [
    "# roda a função de calcular os principais tópicos de cada tweet\n",
    "\n",
    "df_topic_sents_keywords = format_topics_sentences(ldamodel=optimal_model, corpus=corpus, texts=texto)"
   ]
  },
  {
   "cell_type": "code",
   "execution_count": 40,
   "metadata": {},
   "outputs": [],
   "source": [
    "# Formata o DataFrame\n",
    "\n",
    "df_dominant_topic = df_topic_sents_keywords.reset_index()\n",
    "df_dominant_topic.columns = ['Index_DF_Original', 'Principal_Topico', 'Perc_Contrib_Topico', 'Palavras_Chave', 'Tweets']"
   ]
  },
  {
   "cell_type": "code",
   "execution_count": 41,
   "metadata": {
    "scrolled": true
   },
   "outputs": [
    {
     "data": {
      "text/html": [
       "<div>\n",
       "<style scoped>\n",
       "    .dataframe tbody tr th:only-of-type {\n",
       "        vertical-align: middle;\n",
       "    }\n",
       "\n",
       "    .dataframe tbody tr th {\n",
       "        vertical-align: top;\n",
       "    }\n",
       "\n",
       "    .dataframe thead th {\n",
       "        text-align: right;\n",
       "    }\n",
       "</style>\n",
       "<table border=\"1\" class=\"dataframe\">\n",
       "  <thead>\n",
       "    <tr style=\"text-align: right;\">\n",
       "      <th></th>\n",
       "      <th>Topico</th>\n",
       "      <th>Topico_Perc_Contrib</th>\n",
       "      <th>Palavras_Chave</th>\n",
       "      <th>Tweet</th>\n",
       "    </tr>\n",
       "  </thead>\n",
       "  <tbody>\n",
       "    <tr>\n",
       "      <th>0</th>\n",
       "      <td>0.0</td>\n",
       "      <td>0.9553</td>\n",
       "      <td>bolsonaro, panelaco, contra, panela, gente, ag...</td>\n",
       "      <td>[gritar, arrependido, bater, dificilmente, irm...</td>\n",
       "    </tr>\n",
       "    <tr>\n",
       "      <th>1</th>\n",
       "      <td>1.0</td>\n",
       "      <td>0.9550</td>\n",
       "      <td>, presidente, bolsonaro, muito, pandemia, agor...</td>\n",
       "      <td>[lei, psol, porcaria, etc, familicia, artista,...</td>\n",
       "    </tr>\n",
       "    <tr>\n",
       "      <th>2</th>\n",
       "      <td>2.0</td>\n",
       "      <td>0.9508</td>\n",
       "      <td>presidente, deus, bolsonaro, brasil, passar, a...</td>\n",
       "      <td>[caso, midia, muito, grande, carnaval, dinheir...</td>\n",
       "    </tr>\n",
       "    <tr>\n",
       "      <th>3</th>\n",
       "      <td>3.0</td>\n",
       "      <td>0.9572</td>\n",
       "      <td>casa, coronga, nem, gente, pandemia, sair, peg...</td>\n",
       "      <td>[dentro, ideia, casa, ansiedade, manter, quase...</td>\n",
       "    </tr>\n",
       "  </tbody>\n",
       "</table>\n",
       "</div>"
      ],
      "text/plain": [
       "   Topico  Topico_Perc_Contrib  \\\n",
       "0     0.0               0.9553   \n",
       "1     1.0               0.9550   \n",
       "2     2.0               0.9508   \n",
       "3     3.0               0.9572   \n",
       "\n",
       "                                      Palavras_Chave  \\\n",
       "0  bolsonaro, panelaco, contra, panela, gente, ag...   \n",
       "1  , presidente, bolsonaro, muito, pandemia, agor...   \n",
       "2  presidente, deus, bolsonaro, brasil, passar, a...   \n",
       "3  casa, coronga, nem, gente, pandemia, sair, peg...   \n",
       "\n",
       "                                               Tweet  \n",
       "0  [gritar, arrependido, bater, dificilmente, irm...  \n",
       "1  [lei, psol, porcaria, etc, familicia, artista,...  \n",
       "2  [caso, midia, muito, grande, carnaval, dinheir...  \n",
       "3  [dentro, ideia, casa, ansiedade, manter, quase...  "
      ]
     },
     "execution_count": 41,
     "metadata": {},
     "output_type": "execute_result"
    }
   ],
   "source": [
    "# Group top 5 sentences under each topic\n",
    "sent_topics_sorteddf_mallet = pd.DataFrame()\n",
    "\n",
    "sent_topics_outdf_grpd = df_topic_sents_keywords.groupby('Principal_Topico')\n",
    "\n",
    "for i, grp in sent_topics_outdf_grpd:\n",
    "    sent_topics_sorteddf_mallet = pd.concat([sent_topics_sorteddf_mallet, \n",
    "                                             grp.sort_values(['Perc_Contributicao'], ascending=[0]).head(1)], \n",
    "                                            axis=0)\n",
    "\n",
    "# Reset Index    \n",
    "sent_topics_sorteddf_mallet.reset_index(drop=True, inplace=True)\n",
    "\n",
    "# Format\n",
    "sent_topics_sorteddf_mallet.columns = ['Topico', \"Topico_Perc_Contrib\", \"Palavras_Chave\", \"Tweet\"]\n",
    "\n",
    "# Show\n",
    "sent_topics_sorteddf_mallet"
   ]
  },
  {
   "cell_type": "code",
   "execution_count": 42,
   "metadata": {},
   "outputs": [
    {
     "data": {
      "text/html": [
       "<div>\n",
       "<style scoped>\n",
       "    .dataframe tbody tr th:only-of-type {\n",
       "        vertical-align: middle;\n",
       "    }\n",
       "\n",
       "    .dataframe tbody tr th {\n",
       "        vertical-align: top;\n",
       "    }\n",
       "\n",
       "    .dataframe thead th {\n",
       "        text-align: right;\n",
       "    }\n",
       "</style>\n",
       "<table border=\"1\" class=\"dataframe\">\n",
       "  <thead>\n",
       "    <tr style=\"text-align: right;\">\n",
       "      <th></th>\n",
       "      <th>Principal_Topico</th>\n",
       "      <th>Palavras_Chave</th>\n",
       "      <th>Qtd_Tweets</th>\n",
       "      <th>Perc_Tweets</th>\n",
       "    </tr>\n",
       "  </thead>\n",
       "  <tbody>\n",
       "    <tr>\n",
       "      <th>0.0</th>\n",
       "      <td>3.0</td>\n",
       "      <td>casa, coronga, nem, gente, pandemia, sair, peg...</td>\n",
       "      <td>39367.0</td>\n",
       "      <td>0.2783</td>\n",
       "    </tr>\n",
       "    <tr>\n",
       "      <th>1.0</th>\n",
       "      <td>2.0</td>\n",
       "      <td>presidente, deus, bolsonaro, brasil, passar, a...</td>\n",
       "      <td>33953.0</td>\n",
       "      <td>0.2400</td>\n",
       "    </tr>\n",
       "    <tr>\n",
       "      <th>2.0</th>\n",
       "      <td>3.0</td>\n",
       "      <td>casa, coronga, nem, gente, pandemia, sair, peg...</td>\n",
       "      <td>24471.0</td>\n",
       "      <td>0.1730</td>\n",
       "    </tr>\n",
       "    <tr>\n",
       "      <th>3.0</th>\n",
       "      <td>2.0</td>\n",
       "      <td>presidente, deus, bolsonaro, brasil, passar, a...</td>\n",
       "      <td>43655.0</td>\n",
       "      <td>0.3086</td>\n",
       "    </tr>\n",
       "    <tr>\n",
       "      <th>4.0</th>\n",
       "      <td>1.0</td>\n",
       "      <td>, presidente, bolsonaro, muito, pandemia, agor...</td>\n",
       "      <td>NaN</td>\n",
       "      <td>NaN</td>\n",
       "    </tr>\n",
       "    <tr>\n",
       "      <th>...</th>\n",
       "      <td>...</td>\n",
       "      <td>...</td>\n",
       "      <td>...</td>\n",
       "      <td>...</td>\n",
       "    </tr>\n",
       "    <tr>\n",
       "      <th>141441.0</th>\n",
       "      <td>3.0</td>\n",
       "      <td>casa, coronga, nem, gente, pandemia, sair, peg...</td>\n",
       "      <td>NaN</td>\n",
       "      <td>NaN</td>\n",
       "    </tr>\n",
       "    <tr>\n",
       "      <th>141442.0</th>\n",
       "      <td>1.0</td>\n",
       "      <td>, presidente, bolsonaro, muito, pandemia, agor...</td>\n",
       "      <td>NaN</td>\n",
       "      <td>NaN</td>\n",
       "    </tr>\n",
       "    <tr>\n",
       "      <th>141443.0</th>\n",
       "      <td>3.0</td>\n",
       "      <td>casa, coronga, nem, gente, pandemia, sair, peg...</td>\n",
       "      <td>NaN</td>\n",
       "      <td>NaN</td>\n",
       "    </tr>\n",
       "    <tr>\n",
       "      <th>141444.0</th>\n",
       "      <td>1.0</td>\n",
       "      <td>, presidente, bolsonaro, muito, pandemia, agor...</td>\n",
       "      <td>NaN</td>\n",
       "      <td>NaN</td>\n",
       "    </tr>\n",
       "    <tr>\n",
       "      <th>141445.0</th>\n",
       "      <td>3.0</td>\n",
       "      <td>casa, coronga, nem, gente, pandemia, sair, peg...</td>\n",
       "      <td>NaN</td>\n",
       "      <td>NaN</td>\n",
       "    </tr>\n",
       "  </tbody>\n",
       "</table>\n",
       "<p>141446 rows × 4 columns</p>\n",
       "</div>"
      ],
      "text/plain": [
       "          Principal_Topico                                     Palavras_Chave  \\\n",
       "0.0                    3.0  casa, coronga, nem, gente, pandemia, sair, peg...   \n",
       "1.0                    2.0  presidente, deus, bolsonaro, brasil, passar, a...   \n",
       "2.0                    3.0  casa, coronga, nem, gente, pandemia, sair, peg...   \n",
       "3.0                    2.0  presidente, deus, bolsonaro, brasil, passar, a...   \n",
       "4.0                    1.0  , presidente, bolsonaro, muito, pandemia, agor...   \n",
       "...                    ...                                                ...   \n",
       "141441.0               3.0  casa, coronga, nem, gente, pandemia, sair, peg...   \n",
       "141442.0               1.0  , presidente, bolsonaro, muito, pandemia, agor...   \n",
       "141443.0               3.0  casa, coronga, nem, gente, pandemia, sair, peg...   \n",
       "141444.0               1.0  , presidente, bolsonaro, muito, pandemia, agor...   \n",
       "141445.0               3.0  casa, coronga, nem, gente, pandemia, sair, peg...   \n",
       "\n",
       "          Qtd_Tweets  Perc_Tweets  \n",
       "0.0          39367.0       0.2783  \n",
       "1.0          33953.0       0.2400  \n",
       "2.0          24471.0       0.1730  \n",
       "3.0          43655.0       0.3086  \n",
       "4.0              NaN          NaN  \n",
       "...              ...          ...  \n",
       "141441.0         NaN          NaN  \n",
       "141442.0         NaN          NaN  \n",
       "141443.0         NaN          NaN  \n",
       "141444.0         NaN          NaN  \n",
       "141445.0         NaN          NaN  \n",
       "\n",
       "[141446 rows x 4 columns]"
      ]
     },
     "execution_count": 42,
     "metadata": {},
     "output_type": "execute_result"
    }
   ],
   "source": [
    "# Numero de tweets por topico\n",
    "\n",
    "topic_counts = df_topic_sents_keywords['Principal_Topico'].value_counts()\n",
    "\n",
    "# Porcentagem de tweets por tópico\n",
    "topic_contribution = round(topic_counts/topic_counts.sum(), 4)\n",
    "\n",
    "# Número do tópico e suas palavras chave\n",
    "topic_num_keywords = df_topic_sents_keywords[['Principal_Topico', 'Palavras_Chave']]\n",
    "\n",
    "# Concatena as colunas\n",
    "df_dominant_topics = pd.concat([topic_num_keywords, topic_counts, topic_contribution], axis=1)\n",
    "\n",
    "# Renomeia as colunas\n",
    "df_dominant_topics.columns = ['Principal_Topico', 'Palavras_Chave', 'Qtd_Tweets', 'Perc_Tweets']\n",
    "\n",
    "# Mostra o DataFrame\n",
    "df_dominant_topics"
   ]
  },
  {
   "cell_type": "code",
   "execution_count": 43,
   "metadata": {},
   "outputs": [],
   "source": [
    "# Criando stopwords em português utilizando a biblioteca nltk\n",
    "import pt_core_news_sm\n",
    "nlp = pt_core_news_sm.load()\n",
    "pt_stopwords = sorted([token.text for token in nlp.vocab if token.is_stop])\n",
    "list_exclude = ['obrigado', 'bom', 'mal', 'nenhuma', 'maior',\n",
    "             'bem', 'não', 'máximo', 'boa', 'mais',\n",
    "               'bastante', 'certamente', 'certeza', 'contra',\n",
    "                'quarentena', 'coronavírus', 'presidente', 'impeachment', 'demitido', 'demitida']\n",
    "for word in list_exclude:\n",
    "    nlp.vocab[word].is_stop = False\n",
    "list_include = set(['o', 'a', 'tá', 'ta', 'ser', 'pro', 'to', 'tô', 'vc', 'você', 'voce', 'pra',\n",
    "                    'pq', 'é', 'vou', 'que','tão', 'gt', 'de', 'da', 'do', 'em', 'uma', 'lá',\n",
    "                    'já', 'no', 'para', 'na', 'com', 'um', 'minha', 'se', 'isso', 'por', 'vou',\n",
    "                    'os', 'isso', 'como', 'mesmo', 'tenho', 'aqui', 'ele', 'ela', 'quem', 'fazer',\n",
    "                    'eu', 'só', 'ai', 'mais', 'só', 'querer', 'https', 'ter', 'estar', 'ficar',\n",
    "                    'dos', 'das', 'vcs', 'tem', 'as', 'mas','ao'\n",
    "                    'tava', 'nao', 'sao', 'ja', 'so', 'nossa',\n",
    "                    'nosso', 'estao', 'tco', 'me', 'dia', 'te', 'ver', 'sera', 'porra', 'fez', 'ne',\n",
    "                    'kkk','kkkkkk', 'puta', 'kkkkkkkk', 'hj', 'afff', 'gbr', 'meu', 'cara', 'guri', 'cmg',\n",
    "                    'ctg', 'agr', 'pqp', 'vdd', 'eh', 'va', 'obg',\n",
    "                    'corona','virus','coronavirus','covid','covid19','19'\n",
    "                   'nem', 'numa', 'num', 'nuns', 'ces', 'voces', 'oce', 'oces', 'kkkk', 'vao', 'via',\n",
    "                    'hj', 'hoje', 'tudo', 'todo', 'toda',\n",
    "                    'vir', 'bem','ao','sem','ou','vai', 'dizer', 'entao', 'dizer', 'entao',\n",
    "                    'tao', 'tu', 'mim', 'mano', 'oq', 'pos', 'dm', 'dps',\n",
    "                    'coronavirusoutbreak', 'coronavirusPandemic', 'dar', 'vairus',\n",
    "                    'ainda', 'assim']\n",
    "                  )\n",
    "for w in list_include:\n",
    "    nlp.vocab[w].is_stop = True\n",
    "stop_words = sorted([token.text for token in nlp.vocab if token.is_stop])"
   ]
  },
  {
   "cell_type": "code",
   "execution_count": 44,
   "metadata": {},
   "outputs": [
    {
     "data": {
      "image/png": "[encoded data removed]",
      "text/plain": [
       "<Figure size 720x720 with 4 Axes>"
      ]
     },
     "metadata": {
      "needs_background": "light"
     },
     "output_type": "display_data"
    }
   ],
   "source": [
    "# Cria wordclouds\n",
    "\n",
    "cols = [color for name, color in mcolors.XKCD_COLORS.items()]\n",
    "\n",
    "cloud = WordCloud(stopwords=stop_words,\n",
    "                  background_color='white',\n",
    "                  width=2500,\n",
    "                  height=1800,\n",
    "                  max_words=20,\n",
    "                  colormap='tab10',\n",
    "                  color_func=lambda *args, **kwargs: cols[i],\n",
    "                  prefer_horizontal=1.0)\n",
    "\n",
    "topics = lda_model.show_topics(formatted=False)\n",
    "\n",
    "fig, axes = plt.subplots(2, 2, figsize=(10,10), sharex=True, sharey=True)\n",
    "\n",
    "for i, ax in enumerate(axes.flatten()):\n",
    "    fig.add_subplot(ax)\n",
    "    topic_words = dict(topics[i][1])\n",
    "    cloud.generate_from_frequencies(topic_words, max_font_size=600)\n",
    "    plt.gca().imshow(cloud)\n",
    "    plt.gca().set_title('Topic ' + str(i), fontdict=dict(size=16))\n",
    "    plt.gca().axis('off')\n",
    "\n",
    "\n",
    "plt.subplots_adjust(wspace=0, hspace=0)\n",
    "plt.axis('off')\n",
    "plt.margins(x=0, y=0)\n",
    "plt.tight_layout()\n",
    "plt.show()"
   ]
  },
  {
   "cell_type": "code",
   "execution_count": 45,
   "metadata": {},
   "outputs": [],
   "source": [
    "sent_topics_sorteddf_mallet.to_excel('keywords_0318.xlsx')"
   ]
  },
  {
   "cell_type": "code",
   "execution_count": null,
   "metadata": {},
   "outputs": [],
   "source": []
  }
 ],
 "metadata": {
  "kernelspec": {
   "display_name": "Python 3",
   "language": "python",
   "name": "python3"
  },
  "language_info": {
   "codemirror_mode": {
    "name": "ipython",
    "version": 3
   },
   "file_extension": ".py",
   "mimetype": "text/x-python",
   "name": "python",
   "nbconvert_exporter": "python",
   "pygments_lexer": "ipython3",
   "version": "3.7.6"
  }
 },
 "nbformat": 4,
 "nbformat_minor": 1
}
