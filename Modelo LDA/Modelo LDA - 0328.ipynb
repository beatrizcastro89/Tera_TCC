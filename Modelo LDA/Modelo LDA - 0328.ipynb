{
 "cells": [
  {
   "cell_type": "markdown",
   "metadata": {
    "collapsed": true
   },
   "source": [
    "Análise do dia 28/03 através do modelo LDA."
   ]
  },
  {
   "cell_type": "code",
   "execution_count": 1,
   "metadata": {},
   "outputs": [],
   "source": [
    "# Importar bibliotecas\n",
    "\n",
    "# gerais\n",
    "import sys\n",
    "import os\n",
    "from pathlib import Path\n",
    "import re\n",
    "import numpy as np\n",
    "import pandas as pd\n",
    "from pprint import pprint\n",
    "from tqdm import tqdm\n",
    "from ast import literal_eval\n",
    "\n",
    "# Gensim\n",
    "import gensim, spacy, logging, warnings\n",
    "import gensim.corpora as corpora\n",
    "from gensim.utils import lemmatize, simple_preprocess\n",
    "from gensim.models import CoherenceModel\n",
    "from gensim.models.ldamulticore import LdaMulticore\n",
    "\n",
    "# NLTK Stop words\n",
    "import nltk\n",
    "from nltk.corpus import stopwords\n",
    "\n",
    "#plot\n",
    "import pyLDAvis\n",
    "import pyLDAvis.gensim\n",
    "import matplotlib.pyplot as plt\n",
    "import matplotlib.colors as mcolors\n",
    "%matplotlib inline\n",
    "from wordcloud import WordCloud, STOPWORDS"
   ]
  },
  {
   "cell_type": "code",
   "execution_count": 2,
   "metadata": {},
   "outputs": [],
   "source": [
    "# Criando stopwords em português utilizando a biblioteca nltk\n",
    "\n",
    "nlp = spacy.load(\"pt_core_news_sm\")\n",
    "pt_stopwords = sorted([token.text for token in nlp.vocab if token.is_stop])\n",
    "list_exclude = ['obrigado', 'bom', 'mal', 'nenhuma', 'maior', \n",
    "             'bem', 'não', 'máximo', 'boa', 'mais',\n",
    "               'bastante', 'certamente', 'certeza', 'contra',\n",
    "                'quarentena', 'coronavírus', 'presidente', 'impeachment', 'demitido', 'demitida']\n",
    "for word in list_exclude:\n",
    "    nlp.vocab[word].is_stop = False\n",
    "list_include = set(['o', 'a', 'tá', 'ta', 'ser', 'pro', 'to', 'tô', 'vc', 'você', 'voce', 'pra',\n",
    "                    'pq', 'é', 'vou', 'que','tão', 'gt', 'de', 'da', 'do', 'em', 'uma', 'lá',\n",
    "                    'já', 'no', 'para', 'na', 'com', 'um', 'minha', 'se', 'isso', 'por', 'vou',\n",
    "                    'os', 'isso', 'como', 'mesmo', 'tenho', 'aqui', 'ele', 'ela', 'quem', 'fazer',\n",
    "                    'eu', 'só', 'ai', 'mais', 'só', 'querer', 'https', 'ter', 'estar', 'ficar',\n",
    "                    'dos', 'das', 'vcs', 'jairbolsonaro', 'tava', 'nao', 'sao', 'ja', 'so', 'nossa',\n",
    "                    'nosso', 'estao', 'tco', 'me', 'dia', 'te', 'ver', 'sera', 'porra', 'fez', 'ne',\n",
    "                    'kkkkkk', 'puta', 'kkkkkkkk', 'hj', 'afff', 'gbr', 'meu', 'cara', 'guri', 'cmg',\n",
    "                    'ctg', 'agr', 'pqp', 'vdd', 'eh', 'va', 'fudeu', 'fuder', 'fodeu', 'foda', 'obg',\n",
    "                   'nem', 'numa', 'num', 'nuns', 'ces', 'voces', 'oce', 'oces', 'kkkk', 'vao', 'via',\n",
    "                    'hj', 'hoje', 'tudo', 'todo', 'toda', 'ir', 'vir', 'bem', 'sair', 'tao']\n",
    "                  )\n",
    "for w in list_include:\n",
    "    nlp.vocab[w].is_stop = True\n",
    "stop_words = sorted([token.text for token in nlp.vocab if token.is_stop])"
   ]
  },
  {
   "cell_type": "markdown",
   "metadata": {},
   "source": [
    "# Preparação dos dados"
   ]
  },
  {
   "cell_type": "code",
   "execution_count": 3,
   "metadata": {},
   "outputs": [
    {
     "name": "stderr",
     "output_type": "stream",
     "text": [
      "C:\\ProgramData\\Anaconda3\\lib\\site-packages\\IPython\\core\\interactiveshell.py:3063: DtypeWarning: Columns (1) have mixed types.Specify dtype option on import or set low_memory=False.\n",
      "  interactivity=interactivity, compiler=compiler, result=result)\n"
     ]
    }
   ],
   "source": [
    "# import dos dados\n",
    "\n",
    "df = pd.read_csv('0328_preprocessado.csv')"
   ]
  },
  {
   "cell_type": "code",
   "execution_count": 4,
   "metadata": {},
   "outputs": [],
   "source": [
    "# import dos tokens\n",
    "\n",
    "df_tokens = pd.read_csv('tokens_unicos_10k.csv')"
   ]
  },
  {
   "cell_type": "code",
   "execution_count": 5,
   "metadata": {},
   "outputs": [],
   "source": [
    "# criação de lista de tokens\n",
    "\n",
    "lista_token = []\n",
    "\n",
    "for row in range(0, len(df_tokens)):\n",
    "    lista_token.append(df_tokens.iloc[row,1])\n",
    "    \n",
    "lista_token = set(lista_token)"
   ]
  },
  {
   "cell_type": "code",
   "execution_count": 6,
   "metadata": {},
   "outputs": [],
   "source": [
    "# filtranso os tokens para aparecer apenas os 10 mil mais frequentes\n",
    "\n",
    "df['token2'] = df.token.apply(lambda x: str(list(set(literal_eval(x)).intersection(lista_token))))"
   ]
  },
  {
   "cell_type": "code",
   "execution_count": 7,
   "metadata": {},
   "outputs": [],
   "source": [
    "# função para reverter os tokens processados em lista de tuples\n",
    "\n",
    "def strip_characters(text):\n",
    "    t = re.sub(r'\\(|\\)|:|,|;|\\.|’|”|“|\\?|%|>|<|\\[|\\]', '', text)\n",
    "    t = re.sub(r'/', ' ', t)\n",
    "    t = t.replace(\"'\",'')\n",
    "    return t"
   ]
  },
  {
   "cell_type": "code",
   "execution_count": 8,
   "metadata": {},
   "outputs": [],
   "source": [
    "# aplica função em todos os tokens\n",
    "\n",
    "df['token2'] = df['token2'].apply(lambda x: strip_characters(x))\n",
    "df['token2'] = df['token2'].apply(lambda x: str(x).split(' '))"
   ]
  },
  {
   "cell_type": "code",
   "execution_count": 9,
   "metadata": {},
   "outputs": [],
   "source": [
    "# transforma os tokens em lista\n",
    "\n",
    "lista = list(df['token2'])"
   ]
  },
  {
   "cell_type": "code",
   "execution_count": 10,
   "metadata": {},
   "outputs": [],
   "source": [
    "# Build the bigram and trigram models\n",
    "\n",
    "bigram = gensim.models.Phrases(lista, min_count=5, threshold=100)\n",
    "bigram_mod = gensim.models.phrases.Phraser(bigram)\n",
    "\n",
    "trigram = gensim.models.Phrases(bigram[lista], threshold=100)\n",
    "trigram_mod = gensim.models.phrases.Phraser(trigram)"
   ]
  },
  {
   "cell_type": "code",
   "execution_count": 11,
   "metadata": {},
   "outputs": [],
   "source": [
    "# função para preprocessar palavras\n",
    "\n",
    "def process_words(texts, stop_words=stop_words, allowed_postags=['NOUN', 'ADJ', 'VERB', 'ADV']):\n",
    "    texts1 = [[word for word in simple_preprocess(str(doc)) if word not in stop_words] for doc in texts]\n",
    "    texts2 = [bigram_mod[doc] for doc in texts1]\n",
    "    texts3 = [trigram_mod[bigram_mod[doc]] for doc in texts2]\n",
    "    texts4 = [[word for word in simple_preprocess(str(doc)) if word not in stop_words] for doc in texts3]    \n",
    "    return texts4"
   ]
  },
  {
   "cell_type": "code",
   "execution_count": 12,
   "metadata": {},
   "outputs": [],
   "source": [
    "# Processing the abstract\n",
    "\n",
    "texto = process_words(lista)"
   ]
  },
  {
   "cell_type": "markdown",
   "metadata": {},
   "source": [
    "# Modelagem"
   ]
  },
  {
   "cell_type": "code",
   "execution_count": 13,
   "metadata": {},
   "outputs": [],
   "source": [
    "# Criar dicionário\n",
    "\n",
    "id2word = corpora.Dictionary(texto)"
   ]
  },
  {
   "cell_type": "code",
   "execution_count": 14,
   "metadata": {},
   "outputs": [],
   "source": [
    "# Criar o Corpus: A Frequência das palavras nos documentos\n",
    "\n",
    "corpus = [id2word.doc2bow(text) for text in texto]"
   ]
  },
  {
   "cell_type": "code",
   "execution_count": 15,
   "metadata": {},
   "outputs": [],
   "source": [
    "# Função para determinar a melhor quantidade de tópicos para a modelagem\n",
    "\n",
    "def compute_coherence_values(dictionary, corpus, texts, limit, start=2, step=5):\n",
    "    coherence_values = []\n",
    "    model_list = []\n",
    "    for num_topics in tqdm(range(start, limit, step)):\n",
    "        model = LdaMulticore(corpus, id2word=id2word, num_topics=10)\n",
    "        model_list.append(model)\n",
    "        coherencemodel = CoherenceModel(model=model, texts=texts, dictionary=dictionary, coherence='c_v')\n",
    "        coherence_values.append(coherencemodel.get_coherence())\n",
    "\n",
    "    return model_list, coherence_values"
   ]
  },
  {
   "cell_type": "code",
   "execution_count": 16,
   "metadata": {},
   "outputs": [
    {
     "name": "stderr",
     "output_type": "stream",
     "text": [
      "100%|██████████████████████████████████████████████████████████████████████████████████| 14/14 [08:17<00:00, 35.53s/it]\n"
     ]
    }
   ],
   "source": [
    "# Colocando parametros na função\n",
    "\n",
    "model_list, coherence_values = compute_coherence_values(dictionary=id2word, corpus=corpus, texts=texto, start=2, limit=30, step=2)"
   ]
  },
  {
   "cell_type": "code",
   "execution_count": 17,
   "metadata": {},
   "outputs": [
    {
     "data": {
      "image/png": "[encoded data removed]",
      "text/plain": [
       "<Figure size 432x288 with 1 Axes>"
      ]
     },
     "metadata": {
      "needs_background": "light"
     },
     "output_type": "display_data"
    }
   ],
   "source": [
    "# Mostrando visualmente a quantidade de tópicos\n",
    "\n",
    "limit=30; start=2; step=2;\n",
    "x = range(start, limit, step)\n",
    "plt.plot(x, coherence_values)\n",
    "plt.xlabel(\"Num Tópicos\")\n",
    "plt.ylabel(\"Score de Coerência\")\n",
    "plt.legend((\"Valores de Coerência\"), loc='best')\n",
    "plt.show()"
   ]
  },
  {
   "cell_type": "code",
   "execution_count": 18,
   "metadata": {},
   "outputs": [
    {
     "name": "stdout",
     "output_type": "stream",
     "text": [
      "A quantidade de tópicos = 2  tem um valor de coerência de  0.2757\n",
      "A quantidade de tópicos = 4  tem um valor de coerência de  0.2823\n",
      "A quantidade de tópicos = 6  tem um valor de coerência de  0.2847\n",
      "A quantidade de tópicos = 8  tem um valor de coerência de  0.2768\n",
      "A quantidade de tópicos = 10  tem um valor de coerência de  0.2609\n",
      "A quantidade de tópicos = 12  tem um valor de coerência de  0.2718\n",
      "A quantidade de tópicos = 14  tem um valor de coerência de  0.2572\n",
      "A quantidade de tópicos = 16  tem um valor de coerência de  0.2917\n",
      "A quantidade de tópicos = 18  tem um valor de coerência de  0.2721\n",
      "A quantidade de tópicos = 20  tem um valor de coerência de  0.2529\n",
      "A quantidade de tópicos = 22  tem um valor de coerência de  0.2882\n",
      "A quantidade de tópicos = 24  tem um valor de coerência de  0.2737\n",
      "A quantidade de tópicos = 26  tem um valor de coerência de  0.2742\n",
      "A quantidade de tópicos = 28  tem um valor de coerência de  0.2819\n"
     ]
    }
   ],
   "source": [
    "# Lista dos valores de coerência, para melhor identificar o ponto de inflexão do gráfico\n",
    "\n",
    "for m, cv in zip(x, coherence_values):\n",
    "    print(\"A quantidade de tópicos =\", m, \" tem um valor de coerência de \", round(cv, 4))"
   ]
  },
  {
   "cell_type": "markdown",
   "metadata": {},
   "source": [
    "Aqui conseguimos determinar a melhor quantidade de tópicos a serem analisados, que é 8 tópicos"
   ]
  },
  {
   "cell_type": "code",
   "execution_count": 19,
   "metadata": {},
   "outputs": [],
   "source": [
    "# Vamos agora construir de fato o modelo LDA\n",
    "\n",
    "lda_model = LdaMulticore(corpus=corpus,\n",
    "                        id2word=id2word,\n",
    "                        num_topics=4, \n",
    "                        random_state=42,\n",
    "                        chunksize=100,\n",
    "                        passes=10,\n",
    "                        per_word_topics=True)"
   ]
  },
  {
   "cell_type": "code",
   "execution_count": 20,
   "metadata": {},
   "outputs": [
    {
     "name": "stdout",
     "output_type": "stream",
     "text": [
      "\n",
      "Perplexidade:  -7.199078066015934\n"
     ]
    }
   ],
   "source": [
    "# Computar a perplexidade do modelo (quanto menor, melhor)\n",
    "\n",
    "print('\\nPerplexidade: ', lda_model.log_perplexity(corpus))"
   ]
  },
  {
   "cell_type": "code",
   "execution_count": 21,
   "metadata": {},
   "outputs": [
    {
     "name": "stdout",
     "output_type": "stream",
     "text": [
      "\n",
      "Score de Coerência:  0.21452330697000577\n"
     ]
    }
   ],
   "source": [
    "# Computar o Score de Coerência\n",
    "\n",
    "coherence_model_lda = CoherenceModel(model=lda_model, texts=lista, dictionary=id2word, coherence='c_v')\n",
    "coherence_lda = coherence_model_lda.get_coherence()\n",
    "print('\\nScore de Coerência: ', coherence_lda)"
   ]
  },
  {
   "cell_type": "code",
   "execution_count": 22,
   "metadata": {},
   "outputs": [
    {
     "data": {
      "text/html": [
       "\n",
       "<link rel=\"stylesheet\" type=\"text/css\" href=\"https://cdn.rawgit.com/bmabey/pyLDAvis/files/ldavis.v1.0.0.css\">\n",
       "\n",
       "\n",
       "<div id=\"ldavis_el580420827689687769491671342\"></div>\n",
       "<script type=\"text/javascript\">\n",
       "\n",
       "var ldavis_el580420827689687769491671342_data = {\"mdsDat\": {\"x\": [-0.24079907450218263, -0.2169035677551444, 0.27633175417940387, 0.18137088807792298], \"y\": [-0.09861539875176084, 0.03912085910673454, -0.2743405931087038, 0.33383513275373017], \"topics\": [1, 2, 3, 4], \"cluster\": [1, 1, 1, 1], \"Freq\": [28.181480407714844, 27.292808532714844, 22.568359375, 21.957351684570312]}, \"tinfo\": {\"Term\": [\"corona\", \"coronavirus\", \"virus\", \"quando\", \"bolsonaro\", \"acabar\", \"presidente\", \"brasil\", \"depois\", \"passar\", \"contra\", \"coisa\", \"casa\", \"saude\", \"gente\", \"cabelo\", \"mim\", \"mae\", \"muito\", \"pos\", \"logo\", \"ninguem\", \"familia\", \"tanto\", \"deus\", \"pai\", \"semana\", \"pegar\", \"bom\", \"merda\", \"coisa\", \"saude\", \"merda\", \"bom\", \"falar\", \"sempre\", \"video\", \"cada\", \"mal\", \"qual\", \"tu\", \"deixar\", \"sabado\", \"cabeca\", \"covid\", \"certo\", \"enquanto\", \"tedio\", \"economia\", \"lado\", \"apoio\", \"ministro\", \"triste\", \"ontem\", \"senhor\", \"dificil\", \"quanto\", \"real\", \"tirar\", \"trump\", \"presidente\", \"bolsonaro\", \"muito\", \"povo\", \"gente\", \"sim\", \"vez\", \"dar\", \"dinheiro\", \"governo\", \"agora\", \"ainda\", \"pandemia\", \"nada\", \"porque\", \"coronavirus\", \"brasil\", \"depois\", \"mae\", \"novo\", \"tambem\", \"isolamento\", \"primeiro\", \"dps\", \"meio\", \"poder\", \"tomar\", \"voltar\", \"mil\", \"caso\", \"maior\", \"italia\", \"dizer\", \"doria\", \"dentro\", \"cu\", \"social\", \"campanha\", \"realmente\", \"milhoes\", \"igual\", \"risco\", \"galera\", \"algo\", \"normal\", \"ajudar\", \"pandemia\", \"mundo\", \"bolsonaro\", \"ha\", \"presidente\", \"ainda\", \"gente\", \"casa\", \"agora\", \"governo\", \"morte\", \"menos\", \"quando\", \"acabar\", \"passar\", \"contra\", \"familia\", \"tanto\", \"semana\", \"oq\", \"medo\", \"comer\", \"parar\", \"ano\", \"final\", \"amor\", \"comigo\", \"comprar\", \"apenas\", \"fiqueemcasa\", \"kkk\", \"amo\", \"mt\", \"dois\", \"beber\", \"tipo\", \"jogar\", \"fome\", \"usar\", \"assistir\", \"saudade\", \"ponto\", \"melhor\", \"assim\", \"casa\", \"tempo\", \"nunca\", \"vida\", \"pandemia\", \"deus\", \"muito\", \"corona\", \"virus\", \"cabelo\", \"mim\", \"pos\", \"logo\", \"ninguem\", \"pai\", \"pegar\", \"favor\", \"vontade\", \"quase\", \"matar\", \"mano\", \"tarde\", \"caralho\", \"ministerio\", \"lugar\", \"festa\", \"feito\", \"comecou\", \"embora\", \"foto\", \"td\", \"hospital\", \"continuar\", \"ruim\", \"diferente\", \"epoca\", \"praia\", \"pessoa\", \"deus\", \"alguem\", \"morrer\", \"casa\", \"agora\", \"nada\", \"mundo\", \"preciso\", \"ainda\"], \"Freq\": [19698.0, 15530.0, 9249.0, 7692.0, 15590.0, 7362.0, 13154.0, 6096.0, 5389.0, 3308.0, 3203.0, 3737.0, 10460.0, 3340.0, 6258.0, 2573.0, 2372.0, 2764.0, 4866.0, 2269.0, 2129.0, 2115.0, 2140.0, 1947.0, 3432.0, 1857.0, 1855.0, 1814.0, 2161.0, 2152.0, 3736.62841796875, 3339.96484375, 2151.629150390625, 2160.929443359375, 1931.1334228515625, 1628.182861328125, 1606.09912109375, 1400.8626708984375, 1384.017822265625, 1364.4583740234375, 1318.806884765625, 1285.36181640625, 1185.983642578125, 1128.9632568359375, 1125.51220703125, 1085.8487548828125, 1067.7613525390625, 1030.6783447265625, 998.96728515625, 983.11865234375, 958.838134765625, 923.9066772460938, 932.2667846679688, 944.5195922851562, 891.0055541992188, 894.7379760742188, 896.2969360351562, 882.5716552734375, 860.7638549804688, 838.86474609375, 10103.734375, 11674.283203125, 3653.12646484375, 2381.52783203125, 4252.4560546875, 2166.3671875, 1308.8304443359375, 1435.772705078125, 1222.26123046875, 1650.9027099609375, 1944.365966796875, 1478.7542724609375, 1534.0234375, 1246.5677490234375, 1107.10546875, 15529.8828125, 6096.17822265625, 5389.1279296875, 2763.344482421875, 2048.763671875, 1924.55712890625, 1772.18212890625, 1592.51904296875, 1549.9713134765625, 1523.2974853515625, 1507.5150146484375, 1473.6805419921875, 1414.5418701171875, 1211.7996826171875, 1211.6865234375, 1207.93798828125, 1123.953857421875, 1136.8250732421875, 1068.9039306640625, 1077.3402099609375, 1047.90234375, 1022.0083618164062, 962.9117431640625, 922.3406982421875, 904.4037475585938, 877.73828125, 884.7487182617188, 878.1886596679688, 837.6796875, 820.7959594726562, 858.1668701171875, 3906.34814453125, 2455.742919921875, 3915.864501953125, 1088.426513671875, 3050.11962890625, 1779.8905029296875, 2005.845703125, 2427.84912109375, 1795.1954345703125, 1326.348388671875, 1105.5318603515625, 1122.9581298828125, 7691.283203125, 7361.8583984375, 3308.10498046875, 3202.474853515625, 2140.216552734375, 1946.543701171875, 1854.2796630859375, 1361.0419921875, 1310.74951171875, 1280.4295654296875, 1258.115478515625, 1207.9337158203125, 1189.2762451171875, 1138.4561767578125, 1100.244384765625, 1070.8604736328125, 1073.6773681640625, 992.4440307617188, 956.3326416015625, 969.6860961914062, 933.9893798828125, 900.4610595703125, 885.2389526367188, 860.1758422851562, 844.0857543945312, 855.7570190429688, 814.7313842773438, 761.2939453125, 713.4837646484375, 711.1460571289062, 1931.1866455078125, 2005.2342529296875, 4752.4638671875, 1553.7364501953125, 1481.50244140625, 1481.873046875, 1965.0987548828125, 1329.226318359375, 1212.7967529296875, 19697.724609375, 9248.7236328125, 2572.4833984375, 2371.960693359375, 2269.01904296875, 2129.154052734375, 2114.969482421875, 1856.4434814453125, 1814.1094970703125, 1504.985595703125, 1491.5537109375, 1405.3280029296875, 1214.08447265625, 1147.8765869140625, 1114.3790283203125, 1002.6087646484375, 903.9974975585938, 888.4847412109375, 807.42626953125, 790.2805786132812, 763.308349609375, 738.3347778320312, 731.5335693359375, 725.2339477539062, 690.1490478515625, 663.0148315429688, 653.3357543945312, 569.6079711914062, 564.1536865234375, 550.18310546875, 1451.531494140625, 2103.04296875, 1401.9775390625, 1168.74853515625, 3280.338623046875, 2309.17822265625, 1702.5072021484375, 1321.2252197265625, 861.8602294921875, 906.1812744140625], \"Total\": [19698.0, 15530.0, 9249.0, 7692.0, 15590.0, 7362.0, 13154.0, 6096.0, 5389.0, 3308.0, 3203.0, 3737.0, 10460.0, 3340.0, 6258.0, 2573.0, 2372.0, 2764.0, 4866.0, 2269.0, 2129.0, 2115.0, 2140.0, 1947.0, 3432.0, 1857.0, 1855.0, 1814.0, 2161.0, 2152.0, 3737.3994140625, 3340.7333984375, 2152.389892578125, 2161.69384765625, 1931.8948974609375, 1628.94775390625, 1606.868896484375, 1401.6234130859375, 1384.78125, 1365.2227783203125, 1319.5816650390625, 1286.1357421875, 1186.749755859375, 1129.7301025390625, 1126.280029296875, 1086.60791015625, 1068.531494140625, 1031.4298095703125, 999.7334594726562, 983.8777465820312, 959.5869750976562, 924.6472778320312, 933.0303955078125, 945.30029296875, 891.7571411132812, 895.49609375, 897.0638427734375, 883.3492431640625, 861.5327758789062, 839.6198120117188, 13154.3671875, 15590.662109375, 4866.4306640625, 2995.2431640625, 6258.833984375, 2747.02392578125, 1723.8243408203125, 2105.907958984375, 1589.4461669921875, 2977.76513671875, 6049.0048828125, 4165.09375, 7405.72998046875, 3712.23974609375, 2293.177001953125, 15530.646484375, 6096.943359375, 5389.9033203125, 2764.121826171875, 2049.52783203125, 1925.3345947265625, 1772.9588623046875, 1593.2965087890625, 1550.7451171875, 1524.0675048828125, 1508.308837890625, 1474.4581298828125, 1415.3194580078125, 1212.5614013671875, 1212.453857421875, 1208.7164306640625, 1124.71923828125, 1137.6064453125, 1069.6734619140625, 1078.1241455078125, 1048.6748046875, 1022.7757568359375, 963.6827392578125, 923.1187133789062, 905.1759033203125, 878.513427734375, 885.5313720703125, 878.9697265625, 838.4633178710938, 821.5661010742188, 869.5792846679688, 7405.72998046875, 4853.30322265625, 15590.662109375, 1395.1680908203125, 13154.3671875, 4165.09375, 6258.833984375, 10460.91015625, 6049.0048828125, 2977.76513671875, 1489.947021484375, 2119.962890625, 7692.02783203125, 7362.5986328125, 3308.852783203125, 3203.2451171875, 2140.9755859375, 1947.2998046875, 1855.0321044921875, 1361.7904052734375, 1311.5177001953125, 1281.18505859375, 1258.8890380859375, 1208.6898193359375, 1190.0213623046875, 1139.2113037109375, 1100.991943359375, 1071.612060546875, 1074.444091796875, 993.2012939453125, 957.0784301757812, 970.4447021484375, 934.748291015625, 901.216064453125, 885.9841918945312, 860.9314575195312, 844.8340454101562, 856.5335693359375, 815.48779296875, 762.0440063476562, 714.2269897460938, 711.9142456054688, 2598.48828125, 3009.56201171875, 10460.91015625, 2505.21728515625, 2840.46044921875, 3064.16064453125, 7405.72998046875, 3432.776611328125, 4866.4306640625, 19698.470703125, 9249.4736328125, 2573.23193359375, 2372.71923828125, 2269.76416015625, 2129.907958984375, 2115.736572265625, 1857.201171875, 1814.864990234375, 1505.7432861328125, 1492.3067626953125, 1406.084716796875, 1214.838134765625, 1148.626953125, 1115.1456298828125, 1003.3662109375, 904.7725219726562, 889.2589721679688, 808.1815795898438, 791.048095703125, 764.06494140625, 739.080078125, 732.2866821289062, 725.9922485351562, 690.9102172851562, 663.7888793945312, 654.0988159179688, 570.3654174804688, 564.9213256835938, 550.9444580078125, 2030.24365234375, 3432.776611328125, 2096.2255859375, 1621.1436767578125, 10460.91015625, 6049.0048828125, 3712.23974609375, 4853.30322265625, 1421.309814453125, 4165.09375], \"Category\": [\"Default\", \"Default\", \"Default\", \"Default\", \"Default\", \"Default\", \"Default\", \"Default\", \"Default\", \"Default\", \"Default\", \"Default\", \"Default\", \"Default\", \"Default\", \"Default\", \"Default\", \"Default\", \"Default\", \"Default\", \"Default\", \"Default\", \"Default\", \"Default\", \"Default\", \"Default\", \"Default\", \"Default\", \"Default\", \"Default\", \"Topic1\", \"Topic1\", \"Topic1\", \"Topic1\", \"Topic1\", \"Topic1\", \"Topic1\", \"Topic1\", \"Topic1\", \"Topic1\", \"Topic1\", \"Topic1\", \"Topic1\", \"Topic1\", \"Topic1\", \"Topic1\", \"Topic1\", \"Topic1\", \"Topic1\", \"Topic1\", \"Topic1\", \"Topic1\", \"Topic1\", \"Topic1\", \"Topic1\", \"Topic1\", \"Topic1\", \"Topic1\", \"Topic1\", \"Topic1\", \"Topic1\", \"Topic1\", \"Topic1\", \"Topic1\", \"Topic1\", \"Topic1\", \"Topic1\", \"Topic1\", \"Topic1\", \"Topic1\", \"Topic1\", \"Topic1\", \"Topic1\", \"Topic1\", \"Topic1\", \"Topic2\", \"Topic2\", \"Topic2\", \"Topic2\", \"Topic2\", \"Topic2\", \"Topic2\", \"Topic2\", \"Topic2\", \"Topic2\", \"Topic2\", \"Topic2\", \"Topic2\", \"Topic2\", \"Topic2\", \"Topic2\", \"Topic2\", \"Topic2\", \"Topic2\", \"Topic2\", \"Topic2\", \"Topic2\", \"Topic2\", \"Topic2\", \"Topic2\", \"Topic2\", \"Topic2\", \"Topic2\", \"Topic2\", \"Topic2\", \"Topic2\", \"Topic2\", \"Topic2\", \"Topic2\", \"Topic2\", \"Topic2\", \"Topic2\", \"Topic2\", \"Topic2\", \"Topic2\", \"Topic2\", \"Topic2\", \"Topic2\", \"Topic3\", \"Topic3\", \"Topic3\", \"Topic3\", \"Topic3\", \"Topic3\", \"Topic3\", \"Topic3\", \"Topic3\", \"Topic3\", \"Topic3\", \"Topic3\", \"Topic3\", \"Topic3\", \"Topic3\", \"Topic3\", \"Topic3\", \"Topic3\", \"Topic3\", \"Topic3\", \"Topic3\", \"Topic3\", \"Topic3\", \"Topic3\", \"Topic3\", \"Topic3\", \"Topic3\", \"Topic3\", \"Topic3\", \"Topic3\", \"Topic3\", \"Topic3\", \"Topic3\", \"Topic3\", \"Topic3\", \"Topic3\", \"Topic3\", \"Topic3\", \"Topic3\", \"Topic4\", \"Topic4\", \"Topic4\", \"Topic4\", \"Topic4\", \"Topic4\", \"Topic4\", \"Topic4\", \"Topic4\", \"Topic4\", \"Topic4\", \"Topic4\", \"Topic4\", \"Topic4\", \"Topic4\", \"Topic4\", \"Topic4\", \"Topic4\", \"Topic4\", \"Topic4\", \"Topic4\", \"Topic4\", \"Topic4\", \"Topic4\", \"Topic4\", \"Topic4\", \"Topic4\", \"Topic4\", \"Topic4\", \"Topic4\", \"Topic4\", \"Topic4\", \"Topic4\", \"Topic4\", \"Topic4\", \"Topic4\", \"Topic4\", \"Topic4\", \"Topic4\", \"Topic4\"], \"logprob\": [30.0, 29.0, 28.0, 27.0, 26.0, 25.0, 24.0, 23.0, 22.0, 21.0, 20.0, 19.0, 18.0, 17.0, 16.0, 15.0, 14.0, 13.0, 12.0, 11.0, 10.0, 9.0, 8.0, 7.0, 6.0, 5.0, 4.0, 3.0, 2.0, 1.0, -4.018799781799316, -4.13100004196167, -4.570799827575684, -4.566500186920166, -4.678899765014648, -4.8495001792907715, -4.8632001876831055, -4.999899864196777, -5.01200008392334, -5.026299953460693, -5.060299873352051, -5.085999965667725, -5.166399955749512, -5.215700149536133, -5.218800067901611, -5.2546000480651855, -5.271399974822998, -5.30679988861084, -5.3379998207092285, -5.354000091552734, -5.379000186920166, -5.416200160980225, -5.407100200653076, -5.394100189208984, -5.452400207519531, -5.448200225830078, -5.446499824523926, -5.461900234222412, -5.4868998527526855, -5.512700080871582, -3.0241000652313232, -2.8796000480651855, -4.041399955749512, -4.469299793243408, -3.8894999027252197, -4.564000129699707, -5.06790018081665, -4.975299835205078, -5.136300086975098, -4.835700035095215, -4.672100067138672, -4.945799827575684, -4.90910005569458, -5.116600036621094, -5.235300064086914, -2.5622000694274902, -3.497299909591675, -3.6205999851226807, -4.28849983215332, -4.587699890136719, -4.650300025939941, -4.732800006866455, -4.839600086212158, -4.866700172424316, -4.884099960327148, -4.894499778747559, -4.917200088500977, -4.958199977874756, -5.1128997802734375, -5.11299991607666, -5.116099834442139, -5.1880998611450195, -5.176700115203857, -5.23829984664917, -5.230500221252441, -5.258200168609619, -5.283199787139893, -5.342800140380859, -5.385799884796143, -5.405399799346924, -5.435400009155273, -5.4274001121521, -5.434899806976318, -5.482100009918213, -5.502399921417236, -5.457900047302246, -3.9423999786376953, -4.406499862670898, -3.9398999214172363, -5.220200061798096, -4.189799785614014, -4.728400230407715, -4.60890007019043, -4.418000221252441, -4.719900131225586, -5.022500038146973, -5.204599857330322, -5.189000129699707, -3.0748000144958496, -3.1185998916625977, -3.9184999465942383, -3.9509999752044678, -4.354000091552734, -4.448800086975098, -4.497399806976318, -4.806600093841553, -4.844299793243408, -4.867700099945068, -4.885300159454346, -4.926000118255615, -4.941500186920166, -4.985199928283691, -5.019400119781494, -5.04640007019043, -5.043799877166748, -5.122499942779541, -5.1595001220703125, -5.145699977874756, -5.183199882507324, -5.219699859619141, -5.236800193786621, -5.265500068664551, -5.28439998626709, -5.270699977874756, -5.319799900054932, -5.387599945068359, -5.452499866485596, -5.4558000564575195, -4.4567999839782715, -4.419099807739258, -3.5562000274658203, -4.674200057983398, -4.721799850463867, -4.72160005569458, -4.439300060272217, -4.8302998542785645, -4.921999931335449, -2.1068999767303467, -2.86299991607666, -4.142600059509277, -4.223700046539307, -4.268099784851074, -4.331699848175049, -4.338399887084961, -4.468800067901611, -4.491799831390381, -4.678699970245361, -4.687600135803223, -4.747200012207031, -4.893499851226807, -4.94950008392334, -4.979100227355957, -5.084799766540527, -5.188399791717529, -5.205699920654297, -5.301300048828125, -5.322800159454346, -5.357500076293945, -5.3907999992370605, -5.400100231170654, -5.408699989318848, -5.4583001136779785, -5.4984002113342285, -5.5131001472473145, -5.650300025939941, -5.659900188446045, -5.684899806976318, -4.714799880981445, -4.344099998474121, -4.749599933624268, -4.93149995803833, -3.8994998931884766, -4.2505998611450195, -4.555300235748291, -4.808899879455566, -5.236100196838379, -5.185999870300293], \"loglift\": [30.0, 29.0, 28.0, 27.0, 26.0, 25.0, 24.0, 23.0, 22.0, 21.0, 20.0, 19.0, 18.0, 17.0, 16.0, 15.0, 14.0, 13.0, 12.0, 11.0, 10.0, 9.0, 8.0, 7.0, 6.0, 5.0, 4.0, 3.0, 2.0, 1.0, 1.2662999629974365, 1.2662999629974365, 1.2661999464035034, 1.2661999464035034, 1.2661000490188599, 1.2660000324249268, 1.2660000324249268, 1.2660000324249268, 1.2660000324249268, 1.2659000158309937, 1.2659000158309937, 1.2659000158309937, 1.2659000158309937, 1.2657999992370605, 1.2657999992370605, 1.2657999992370605, 1.2657999992370605, 1.2657999992370605, 1.2656999826431274, 1.2656999826431274, 1.2656999826431274, 1.2656999826431274, 1.2656999826431274, 1.2656999826431274, 1.2656999826431274, 1.2656999826431274, 1.2655999660491943, 1.2655999660491943, 1.2655999660491943, 1.2655999660491943, 1.0026999711990356, 0.9771999716758728, 0.9797000288963318, 1.0371999740600586, 0.8799999952316284, 1.0290000438690186, 0.991100013256073, 0.8834999799728394, 1.0038000345230103, 0.6766999959945679, 0.1315000057220459, 0.23100000619888306, -0.30790001153945923, 0.1753000020980835, 0.5382999777793884, 1.2984999418258667, 1.2984000444412231, 1.2984000444412231, 1.29830002784729, 1.298200011253357, 1.2980999946594238, 1.2980999946594238, 1.2980999946594238, 1.2979999780654907, 1.2979999780654907, 1.2979999780654907, 1.2979999780654907, 1.2979999780654907, 1.2978999614715576, 1.2978999614715576, 1.2978999614715576, 1.2978999614715576, 1.2978999614715576, 1.2977999448776245, 1.2977999448776245, 1.2977999448776245, 1.2977999448776245, 1.297700047492981, 1.297700047492981, 1.297700047492981, 1.297700047492981, 1.297700047492981, 1.297700047492981, 1.2976000308990479, 1.2976000308990479, 1.2853000164031982, 0.6589000225067139, 0.6172999739646912, -0.08309999853372574, 1.0503000020980835, -0.16300000250339508, 0.44839999079704285, 0.16060000658035278, -0.16210000216960907, 0.08380000293254852, 0.48980000615119934, 1.000100016593933, 0.663100004196167, 1.4884999990463257, 1.4884999990463257, 1.4883999824523926, 1.4883999824523926, 1.4882999658584595, 1.4881999492645264, 1.4881999492645264, 1.4881000518798828, 1.4880000352859497, 1.4880000352859497, 1.4880000352859497, 1.4880000352859497, 1.4880000352859497, 1.4880000352859497, 1.4879000186920166, 1.4879000186920166, 1.4879000186920166, 1.4879000186920166, 1.4878000020980835, 1.4878000020980835, 1.4878000020980835, 1.4878000020980835, 1.4878000020980835, 1.4876999855041504, 1.4876999855041504, 1.4876999855041504, 1.4876999855041504, 1.4875999689102173, 1.4875999689102173, 1.4874999523162842, 1.1917999982833862, 1.0825999975204468, 0.6995999813079834, 1.0109000205993652, 0.8377000093460083, 0.7621999979019165, 0.16189999878406525, 0.5397999882698059, 0.09920000284910202, 1.5160000324249268, 1.5160000324249268, 1.5157999992370605, 1.5156999826431274, 1.5156999826431274, 1.5156999826431274, 1.5156999826431274, 1.5156999826431274, 1.5156999826431274, 1.5155999660491943, 1.5155999660491943, 1.5154999494552612, 1.5154000520706177, 1.5154000520706177, 1.5154000520706177, 1.5153000354766846, 1.5152000188827515, 1.5152000188827515, 1.5151000022888184, 1.5151000022888184, 1.5151000022888184, 1.5151000022888184, 1.5149999856948853, 1.5149999856948853, 1.5149999856948853, 1.5148999691009521, 1.5148999691009521, 1.5147000551223755, 1.5147000551223755, 1.5147000551223755, 1.1805000305175781, 1.0261000394821167, 1.113800048828125, 1.1888999938964844, 0.3564000129699707, 0.5530999898910522, 0.7365000247955322, 0.2150000035762787, 1.0157999992370605, -0.009200000204145908]}, \"token.table\": {\"Topic\": [3, 1, 2, 4, 1, 2, 4, 2, 3, 2, 1, 4, 3, 3, 3, 3, 1, 1, 3, 3, 3, 1, 2, 1, 2, 1, 4, 1, 2, 4, 2, 3, 4, 2, 1, 1, 4, 3, 3, 3, 4, 3, 4, 2, 1, 2, 1, 2, 1, 2, 2, 3, 4, 4, 1, 1, 3, 2, 3, 2, 2, 1, 4, 1, 4, 1, 3, 4, 4, 4, 3, 3, 3, 4, 2, 1, 2, 1, 2, 2, 3, 4, 2, 2, 2, 3, 3, 1, 4, 4, 2, 2, 1, 4, 4, 3, 2, 2, 3, 2, 3, 4, 1, 2, 2, 4, 4, 1, 2, 4, 2, 4, 3, 1, 3, 1, 2, 4, 1, 2, 4, 4, 2, 2, 1, 3, 4, 1, 3, 4, 1, 2, 3, 3, 3, 4, 3, 4, 2, 3, 1, 2, 4, 4, 1, 2, 4, 3, 4, 1, 2, 2, 1, 3, 1, 4, 1, 2, 2, 4, 1, 3, 1, 3, 1, 1, 1, 3, 2, 2, 3, 4, 4, 1, 1, 3, 3, 1, 2, 1, 1, 1, 3, 1, 4, 2, 3, 4, 1, 4, 2, 4], \"Freq\": [0.9999186992645264, 0.32137516140937805, 0.2967430353164673, 0.38171568512916565, 0.3550940454006195, 0.4273613393306732, 0.21752211451530457, 0.9866840243339539, 0.012649795040488243, 0.9994474053382874, 0.33107122778892517, 0.6688211560249329, 0.9995417594909668, 0.9989367127418518, 0.9994292855262756, 0.9995867013931274, 0.9993882775306702, 0.3336033523082733, 0.666209876537323, 0.9986299872398376, 0.998889148235321, 0.7487815618515015, 0.25117599964141846, 0.9996790289878845, 0.9998452663421631, 0.9993537664413452, 0.9995212554931641, 0.999555230140686, 0.9992915391921997, 0.9996350407600403, 0.232102170586586, 0.4542625844478607, 0.3135482370853424, 0.9996256828308105, 0.9994405508041382, 0.9998931288719177, 0.9986062049865723, 0.9990750551223755, 0.9990990161895752, 0.9994288682937622, 0.9988115429878235, 0.9996113181114197, 0.9999760985374451, 0.9999583959579468, 0.9997513890266418, 0.9993565082550049, 0.681891143321991, 0.3181525468826294, 0.9991169571876526, 0.9989573359489441, 0.9998323917388916, 0.3871501684188843, 0.6126236319541931, 0.9993593096733093, 0.9994460344314575, 0.7688212394714355, 0.23089803755283356, 0.9994668960571289, 0.9986506700515747, 0.9993703961372375, 0.9995195269584656, 0.9992663264274597, 0.998538613319397, 0.9995025992393494, 0.9983690977096558, 0.9995367527008057, 0.9995443224906921, 0.9995063543319702, 0.9986750483512878, 0.9985379576683044, 0.9991417527198792, 0.9987905025482178, 0.9993770718574524, 0.9996085166931152, 0.9988967180252075, 0.6793597936630249, 0.3205069899559021, 0.5544426441192627, 0.4453004002571106, 0.7798343300819397, 0.2193284034729004, 0.9986825585365295, 0.9994155764579773, 0.9994591474533081, 0.9993605017662048, 0.9990127682685852, 0.998873233795166, 0.9991078972816467, 0.9995737075805664, 0.9985842704772949, 0.9995941519737244, 0.9994072914123535, 0.9994358420372009, 0.9994542002677917, 0.9993100762367249, 0.9996052384376526, 0.9992995858192444, 0.2566877007484436, 0.7431243658065796, 0.5297262668609619, 0.250004380941391, 0.22028687596321106, 0.9998188614845276, 0.9995369911193848, 0.9987009167671204, 0.9996968507766724, 0.9991461634635925, 0.999299943447113, 0.27881550788879395, 0.721095860004425, 0.7423082590103149, 0.2577272951602936, 0.9991994500160217, 0.7506528496742249, 0.24925866723060608, 0.22170467674732208, 0.5060470700263977, 0.272185742855072, 0.33591580390930176, 0.20553629100322723, 0.45875269174575806, 0.9996518492698669, 0.9993109703063965, 0.9997424483299255, 0.2552403211593628, 0.5217463970184326, 0.22285118699073792, 0.9996823072433472, 0.9994195699691772, 0.9993532299995422, 0.20713691413402557, 0.527429461479187, 0.2653350830078125, 0.9992938041687012, 0.9997422695159912, 0.999523401260376, 0.2846948802471161, 0.7151851058006287, 0.9997952580451965, 0.9987158179283142, 0.48273640871047974, 0.31310275197029114, 0.20408368110656738, 0.9996633529663086, 0.7952609658241272, 0.20465783774852753, 0.9982857704162598, 0.3932991921901703, 0.6064828038215637, 0.768109917640686, 0.2318621575832367, 0.9998139142990112, 0.9991043210029602, 0.9998663663864136, 0.9988141059875488, 0.9992285370826721, 0.9996046423912048, 0.9987881183624268, 0.9993999600410461, 0.9983201026916504, 0.9993682503700256, 0.9982820749282837, 0.9997804760932922, 0.9994435906410217, 0.9994181990623474, 0.9991509318351746, 0.7884896993637085, 0.211137592792511, 0.9992415308952332, 0.999826192855835, 0.9998460412025452, 0.9989726543426514, 0.9986332654953003, 0.9995833039283752, 0.37960779666900635, 0.6203054785728455, 0.9989180564880371, 0.9993816018104553, 0.9996892809867859, 0.9988956451416016, 0.9992617964744568, 0.999559223651886, 0.999401867389679, 0.7593581080436707, 0.2401636838912964, 0.2754424810409546, 0.483656108379364, 0.24084898829460144, 0.9994592666625977, 0.9999487996101379, 0.9997742772102356, 0.9997944235801697], \"Term\": [\"acabar\", \"agora\", \"agora\", \"agora\", \"ainda\", \"ainda\", \"ainda\", \"ajudar\", \"ajudar\", \"algo\", \"alguem\", \"alguem\", \"amo\", \"amor\", \"ano\", \"apenas\", \"apoio\", \"assim\", \"assim\", \"assistir\", \"beber\", \"bolsonaro\", \"bolsonaro\", \"bom\", \"brasil\", \"cabeca\", \"cabelo\", \"cada\", \"campanha\", \"caralho\", \"casa\", \"casa\", \"casa\", \"caso\", \"certo\", \"coisa\", \"comecou\", \"comer\", \"comigo\", \"comprar\", \"continuar\", \"contra\", \"corona\", \"coronavirus\", \"covid\", \"cu\", \"dar\", \"dar\", \"deixar\", \"dentro\", \"depois\", \"deus\", \"deus\", \"diferente\", \"dificil\", \"dinheiro\", \"dinheiro\", \"dizer\", \"dois\", \"doria\", \"dps\", \"economia\", \"embora\", \"enquanto\", \"epoca\", \"falar\", \"familia\", \"favor\", \"feito\", \"festa\", \"final\", \"fiqueemcasa\", \"fome\", \"foto\", \"galera\", \"gente\", \"gente\", \"governo\", \"governo\", \"ha\", \"ha\", \"hospital\", \"igual\", \"isolamento\", \"italia\", \"jogar\", \"kkk\", \"lado\", \"logo\", \"lugar\", \"mae\", \"maior\", \"mal\", \"mano\", \"matar\", \"medo\", \"meio\", \"melhor\", \"melhor\", \"menos\", \"menos\", \"menos\", \"merda\", \"mil\", \"milhoes\", \"mim\", \"ministerio\", \"ministro\", \"morrer\", \"morrer\", \"morte\", \"morte\", \"mt\", \"muito\", \"muito\", \"mundo\", \"mundo\", \"mundo\", \"nada\", \"nada\", \"nada\", \"ninguem\", \"normal\", \"novo\", \"nunca\", \"nunca\", \"nunca\", \"ontem\", \"oq\", \"pai\", \"pandemia\", \"pandemia\", \"pandemia\", \"parar\", \"passar\", \"pegar\", \"pessoa\", \"pessoa\", \"poder\", \"ponto\", \"porque\", \"porque\", \"porque\", \"pos\", \"povo\", \"povo\", \"praia\", \"preciso\", \"preciso\", \"presidente\", \"presidente\", \"primeiro\", \"qual\", \"quando\", \"quanto\", \"quase\", \"real\", \"realmente\", \"risco\", \"ruim\", \"sabado\", \"saudade\", \"saude\", \"semana\", \"sempre\", \"senhor\", \"sim\", \"sim\", \"social\", \"tambem\", \"tanto\", \"tarde\", \"td\", \"tedio\", \"tempo\", \"tempo\", \"tipo\", \"tirar\", \"tomar\", \"triste\", \"trump\", \"tu\", \"usar\", \"vez\", \"vez\", \"vida\", \"vida\", \"vida\", \"video\", \"virus\", \"voltar\", \"vontade\"]}, \"R\": 30, \"lambda.step\": 0.01, \"plot.opts\": {\"xlab\": \"PC1\", \"ylab\": \"PC2\"}, \"topic.order\": [3, 2, 1, 4]};\n",
       "\n",
       "function LDAvis_load_lib(url, callback){\n",
       "  var s = document.createElement('script');\n",
       "  s.src = url;\n",
       "  s.async = true;\n",
       "  s.onreadystatechange = s.onload = callback;\n",
       "  s.onerror = function(){console.warn(\"failed to load library \" + url);};\n",
       "  document.getElementsByTagName(\"head\")[0].appendChild(s);\n",
       "}\n",
       "\n",
       "if(typeof(LDAvis) !== \"undefined\"){\n",
       "   // already loaded: just create the visualization\n",
       "   !function(LDAvis){\n",
       "       new LDAvis(\"#\" + \"ldavis_el580420827689687769491671342\", ldavis_el580420827689687769491671342_data);\n",
       "   }(LDAvis);\n",
       "}else if(typeof define === \"function\" && define.amd){\n",
       "   // require.js is available: use it to load d3/LDAvis\n",
       "   require.config({paths: {d3: \"https://cdnjs.cloudflare.com/ajax/libs/d3/3.5.5/d3.min\"}});\n",
       "   require([\"d3\"], function(d3){\n",
       "      window.d3 = d3;\n",
       "      LDAvis_load_lib(\"https://cdn.rawgit.com/bmabey/pyLDAvis/files/ldavis.v1.0.0.js\", function(){\n",
       "        new LDAvis(\"#\" + \"ldavis_el580420827689687769491671342\", ldavis_el580420827689687769491671342_data);\n",
       "      });\n",
       "    });\n",
       "}else{\n",
       "    // require.js not available: dynamically load d3 & LDAvis\n",
       "    LDAvis_load_lib(\"https://cdnjs.cloudflare.com/ajax/libs/d3/3.5.5/d3.min.js\", function(){\n",
       "         LDAvis_load_lib(\"https://cdn.rawgit.com/bmabey/pyLDAvis/files/ldavis.v1.0.0.js\", function(){\n",
       "                 new LDAvis(\"#\" + \"ldavis_el580420827689687769491671342\", ldavis_el580420827689687769491671342_data);\n",
       "            })\n",
       "         });\n",
       "}\n",
       "</script>"
      ],
      "text/plain": [
       "PreparedData(topic_coordinates=              x         y  topics  cluster       Freq\n",
       "topic                                                \n",
       "2     -0.240799 -0.098615       1        1  28.181480\n",
       "1     -0.216904  0.039121       2        1  27.292809\n",
       "0      0.276332 -0.274341       3        1  22.568359\n",
       "3      0.181371  0.333835       4        1  21.957352, topic_info=            Term          Freq         Total Category  logprob  loglift\n",
       "17        corona  19698.000000  19698.000000  Default  30.0000  30.0000\n",
       "10   coronavirus  15530.000000  15530.000000  Default  29.0000  29.0000\n",
       "18         virus   9249.000000   9249.000000  Default  28.0000  28.0000\n",
       "72        quando   7692.000000   7692.000000  Default  27.0000  27.0000\n",
       "54     bolsonaro  15590.000000  15590.000000  Default  26.0000  26.0000\n",
       "..           ...           ...           ...      ...      ...      ...\n",
       "296        agora   2309.178223   6049.004883   Topic4  -4.2506   0.5531\n",
       "28          nada   1702.507202   3712.239746   Topic4  -4.5553   0.7365\n",
       "131        mundo   1321.225220   4853.303223   Topic4  -4.8089   0.2150\n",
       "69       preciso    861.860229   1421.309814   Topic4  -5.2361   1.0158\n",
       "70         ainda    906.181274   4165.093750   Topic4  -5.1860  -0.0092\n",
       "\n",
       "[197 rows x 6 columns], token_table=      Topic      Freq     Term\n",
       "term                          \n",
       "39        3  0.999919   acabar\n",
       "296       1  0.321375    agora\n",
       "296       2  0.296743    agora\n",
       "296       4  0.381716    agora\n",
       "70        1  0.355094    ainda\n",
       "...     ...       ...      ...\n",
       "64        4  0.240849     vida\n",
       "547       1  0.999459    video\n",
       "18        4  0.999949    virus\n",
       "412       2  0.999774   voltar\n",
       "75        4  0.999794  vontade\n",
       "\n",
       "[192 rows x 3 columns], R=30, lambda_step=0.01, plot_opts={'xlab': 'PC1', 'ylab': 'PC2'}, topic_order=[3, 2, 1, 4])"
      ]
     },
     "execution_count": 22,
     "metadata": {},
     "output_type": "execute_result"
    }
   ],
   "source": [
    "# Visualização dos tópicos em clusters\n",
    "\n",
    "pyLDAvis.enable_notebook()\n",
    "vis = pyLDAvis.gensim.prepare(lda_model, corpus, id2word)\n",
    "vis"
   ]
  },
  {
   "cell_type": "code",
   "execution_count": 23,
   "metadata": {},
   "outputs": [
    {
     "name": "stdout",
     "output_type": "stream",
     "text": [
      "[(0,\n",
      "  '0.066*\"depois\" + 0.027*\"mae\" + 0.019*\"sim\" + 0.018*\"bolsonaro\" + '\n",
      "  '0.018*\"presidente\" + 0.018*\"vez\" + 0.017*\"tomar\" + 0.017*\"primeiro\" + '\n",
      "  '0.017*\"cu\" + 0.015*\"qual\"'),\n",
      " (1,\n",
      "  '0.117*\"coronavirus\" + 0.036*\"brasil\" + 0.036*\"bolsonaro\" + 0.022*\"contra\" + '\n",
      "  '0.021*\"saude\" + 0.018*\"presidente\" + 0.018*\"governo\" + 0.014*\"pandemia\" + '\n",
      "  '0.014*\"isolamento\" + 0.011*\"morte\"'),\n",
      " (2,\n",
      "  '0.203*\"corona\" + 0.097*\"virus\" + 0.027*\"nunca\" + 0.018*\"dps\" + '\n",
      "  '0.016*\"pegar\" + 0.016*\"logo\" + 0.012*\"alguem\" + 0.011*\"medo\" + '\n",
      "  '0.011*\"gente\" + 0.010*\"tanto\"'),\n",
      " (3,\n",
      "  '0.045*\"gente\" + 0.028*\"pos\" + 0.020*\"sabado\" + 0.015*\"tu\" + 0.015*\"nada\" + '\n",
      "  '0.014*\"deus\" + 0.013*\"mal\" + 0.013*\"cabelo\" + 0.013*\"nivel\" + '\n",
      "  '0.012*\"corona\"'),\n",
      " (4,\n",
      "  '0.108*\"bolsonaro\" + 0.080*\"presidente\" + 0.015*\"passar\" + 0.013*\"brasil\" + '\n",
      "  '0.010*\"povo\" + 0.010*\"fim\" + 0.009*\"merda\" + 0.008*\"deus\" + 0.008*\"jair\" + '\n",
      "  '0.008*\"governo\"'),\n",
      " (5,\n",
      "  '0.070*\"pandemia\" + 0.051*\"coisa\" + 0.025*\"ainda\" + 0.022*\"cabelo\" + '\n",
      "  '0.021*\"pessoa\" + 0.019*\"meio\" + 0.016*\"depois\" + 0.014*\"vontade\" + '\n",
      "  '0.011*\"unica\" + 0.011*\"galera\"'),\n",
      " (6,\n",
      "  '0.031*\"presidente\" + 0.015*\"quase\" + 0.015*\"saude\" + 0.014*\"vida\" + '\n",
      "  '0.013*\"povo\" + 0.011*\"risco\" + 0.011*\"bolsonaro\" + 0.011*\"tambem\" + '\n",
      "  '0.010*\"triste\" + 0.009*\"parar\"'),\n",
      " (7,\n",
      "  '0.092*\"casa\" + 0.076*\"acabar\" + 0.065*\"quando\" + 0.018*\"mim\" + '\n",
      "  '0.016*\"familia\" + 0.015*\"oq\" + 0.013*\"mano\" + 0.012*\"gente\" + '\n",
      "  '0.011*\"passar\" + 0.011*\"dentro\"'),\n",
      " (8,\n",
      "  '0.059*\"muito\" + 0.042*\"agora\" + 0.021*\"corona\" + 0.020*\"matar\" + '\n",
      "  '0.018*\"video\" + 0.018*\"final\" + 0.011*\"virus\" + 0.011*\"coronavirus\" + '\n",
      "  '0.010*\"tempo\" + 0.009*\"hospital\"'),\n",
      " (9,\n",
      "  '0.041*\"assim\" + 0.018*\"kkk\" + 0.015*\"demais\" + 0.015*\"tirar\" + '\n",
      "  '0.014*\"corona\" + 0.014*\"amigo\" + 0.013*\"presidente\" + 0.013*\"tedio\" + '\n",
      "  '0.013*\"agora\" + 0.012*\"sempre\"')]\n"
     ]
    }
   ],
   "source": [
    "# Escolhe o modelo\n",
    "\n",
    "optimal_model = model_list[3]\n",
    "model_topics = optimal_model.show_topics(formatted=False)\n",
    "pprint(optimal_model.print_topics(num_words=10))"
   ]
  },
  {
   "cell_type": "code",
   "execution_count": 24,
   "metadata": {},
   "outputs": [],
   "source": [
    "# Encontrar qual o principal tópico em cada tweet\n",
    "\n",
    "def format_topics_sentences(ldamodel=lda_model, corpus=corpus, texts=lista):\n",
    "    # Output\n",
    "    sent_topics_df = pd.DataFrame()\n",
    "\n",
    "    # Seleciona o principal tópico de cada tweet\n",
    "    for i, row in enumerate(ldamodel[corpus]):\n",
    "        row = sorted(row, key=lambda x: (x[1]), reverse=True)\n",
    "        # Calcula o principal tópico, o percentual de contribuição e as palavras chaves de cada tweet\n",
    "        for j, (topic_num, prop_topic) in enumerate(row):\n",
    "            if j == 0:  # => mostra o principal tópico\n",
    "                wp = ldamodel.show_topic(topic_num)\n",
    "                topic_keywords = \", \".join([word for word, prop in wp])\n",
    "                sent_topics_df = sent_topics_df.append(pd.Series([int(topic_num), round(prop_topic,4), topic_keywords]), ignore_index=True)\n",
    "            else:\n",
    "                break\n",
    "    sent_topics_df.columns = ['Principal_Topico', 'Perc_Contributicao', 'Palavras_Chave']\n",
    "\n",
    "    # Inclui o texto original no final do DataFrame\n",
    "    contents = pd.Series(texts)\n",
    "    sent_topics_df = pd.concat([sent_topics_df, contents], axis=1)\n",
    "    return(sent_topics_df)"
   ]
  },
  {
   "cell_type": "code",
   "execution_count": 25,
   "metadata": {},
   "outputs": [],
   "source": [
    "# roda a função de calcular os principais tópicos de cada tweet\n",
    "\n",
    "df_topic_sents_keywords = format_topics_sentences(ldamodel=optimal_model, corpus=corpus, texts=lista)"
   ]
  },
  {
   "cell_type": "code",
   "execution_count": 26,
   "metadata": {},
   "outputs": [],
   "source": [
    "# Formata o DataFrame\n",
    "\n",
    "df_dominant_topic = df_topic_sents_keywords.reset_index()\n",
    "df_dominant_topic.columns = ['Index_DF_Original', 'Principal_Topico', 'Perc_Contrib_Topico', 'Palavras_Chave', 'Tweets']"
   ]
  },
  {
   "cell_type": "code",
   "execution_count": 27,
   "metadata": {
    "scrolled": true
   },
   "outputs": [
    {
     "data": {
      "text/html": [
       "<div>\n",
       "<style scoped>\n",
       "    .dataframe tbody tr th:only-of-type {\n",
       "        vertical-align: middle;\n",
       "    }\n",
       "\n",
       "    .dataframe tbody tr th {\n",
       "        vertical-align: top;\n",
       "    }\n",
       "\n",
       "    .dataframe thead th {\n",
       "        text-align: right;\n",
       "    }\n",
       "</style>\n",
       "<table border=\"1\" class=\"dataframe\">\n",
       "  <thead>\n",
       "    <tr style=\"text-align: right;\">\n",
       "      <th></th>\n",
       "      <th>Topico</th>\n",
       "      <th>Topico_Perc_Contrib</th>\n",
       "      <th>Palavras_Chave</th>\n",
       "      <th>Tweet</th>\n",
       "    </tr>\n",
       "  </thead>\n",
       "  <tbody>\n",
       "    <tr>\n",
       "      <th>0</th>\n",
       "      <td>0.0</td>\n",
       "      <td>0.9250</td>\n",
       "      <td>depois, mae, sim, bolsonaro, presidente, vez, ...</td>\n",
       "      <td>[macho, cm, vestir, ah, cu, va, gente, preside...</td>\n",
       "    </tr>\n",
       "    <tr>\n",
       "      <th>1</th>\n",
       "      <td>1.0</td>\n",
       "      <td>0.9400</td>\n",
       "      <td>coronavirus, brasil, bolsonaro, contra, saude,...</td>\n",
       "      <td>[exemplo, divulgar, bolsonaro, parar, jornal, ...</td>\n",
       "    </tr>\n",
       "    <tr>\n",
       "      <th>2</th>\n",
       "      <td>2.0</td>\n",
       "      <td>0.9307</td>\n",
       "      <td>corona, virus, nunca, dps, pegar, logo, alguem...</td>\n",
       "      <td>[nunca, ficar, nem, normal, melhor, grupo, pes...</td>\n",
       "    </tr>\n",
       "    <tr>\n",
       "      <th>3</th>\n",
       "      <td>3.0</td>\n",
       "      <td>0.9308</td>\n",
       "      <td>gente, pos, sabado, tu, nada, deus, mal, cabel...</td>\n",
       "      <td>[cm, amo, te, ne, fav, bom, mundo, mt, devido,...</td>\n",
       "    </tr>\n",
       "    <tr>\n",
       "      <th>4</th>\n",
       "      <td>4.0</td>\n",
       "      <td>0.9400</td>\n",
       "      <td>bolsonaro, presidente, passar, brasil, povo, f...</td>\n",
       "      <td>[hoje, grande, vagabundo, governo, turma, gove...</td>\n",
       "    </tr>\n",
       "    <tr>\n",
       "      <th>5</th>\n",
       "      <td>5.0</td>\n",
       "      <td>0.9250</td>\n",
       "      <td>pandemia, coisa, ainda, cabelo, pessoa, meio, ...</td>\n",
       "      <td>[mudar, alguem, status, muito, realidade, fren...</td>\n",
       "    </tr>\n",
       "    <tr>\n",
       "      <th>6</th>\n",
       "      <td>6.0</td>\n",
       "      <td>0.9437</td>\n",
       "      <td>presidente, quase, saude, vida, povo, risco, b...</td>\n",
       "      <td>[louco, isolamento, medicos, brasileiro, saude...</td>\n",
       "    </tr>\n",
       "    <tr>\n",
       "      <th>7</th>\n",
       "      <td>7.0</td>\n",
       "      <td>0.9307</td>\n",
       "      <td>casa, acabar, quando, mim, familia, oq, mano, ...</td>\n",
       "      <td>[pai, comigo, quando, numa, nadar, ir, pessoa,...</td>\n",
       "    </tr>\n",
       "    <tr>\n",
       "      <th>8</th>\n",
       "      <td>8.0</td>\n",
       "      <td>0.9357</td>\n",
       "      <td>muito, agora, corona, matar, video, final, vir...</td>\n",
       "      <td>[pai, alguem, cabeca, zap, help, agora, mundia...</td>\n",
       "    </tr>\n",
       "    <tr>\n",
       "      <th>9</th>\n",
       "      <td>9.0</td>\n",
       "      <td>0.9100</td>\n",
       "      <td>assim, kkk, demais, tirar, corona, amigo, pres...</td>\n",
       "      <td>[saber, mandar, buscar, bem, nao, dinheiro, na...</td>\n",
       "    </tr>\n",
       "  </tbody>\n",
       "</table>\n",
       "</div>"
      ],
      "text/plain": [
       "   Topico  Topico_Perc_Contrib  \\\n",
       "0     0.0               0.9250   \n",
       "1     1.0               0.9400   \n",
       "2     2.0               0.9307   \n",
       "3     3.0               0.9308   \n",
       "4     4.0               0.9400   \n",
       "5     5.0               0.9250   \n",
       "6     6.0               0.9437   \n",
       "7     7.0               0.9307   \n",
       "8     8.0               0.9357   \n",
       "9     9.0               0.9100   \n",
       "\n",
       "                                      Palavras_Chave  \\\n",
       "0  depois, mae, sim, bolsonaro, presidente, vez, ...   \n",
       "1  coronavirus, brasil, bolsonaro, contra, saude,...   \n",
       "2  corona, virus, nunca, dps, pegar, logo, alguem...   \n",
       "3  gente, pos, sabado, tu, nada, deus, mal, cabel...   \n",
       "4  bolsonaro, presidente, passar, brasil, povo, f...   \n",
       "5  pandemia, coisa, ainda, cabelo, pessoa, meio, ...   \n",
       "6  presidente, quase, saude, vida, povo, risco, b...   \n",
       "7  casa, acabar, quando, mim, familia, oq, mano, ...   \n",
       "8  muito, agora, corona, matar, video, final, vir...   \n",
       "9  assim, kkk, demais, tirar, corona, amigo, pres...   \n",
       "\n",
       "                                               Tweet  \n",
       "0  [macho, cm, vestir, ah, cu, va, gente, preside...  \n",
       "1  [exemplo, divulgar, bolsonaro, parar, jornal, ...  \n",
       "2  [nunca, ficar, nem, normal, melhor, grupo, pes...  \n",
       "3  [cm, amo, te, ne, fav, bom, mundo, mt, devido,...  \n",
       "4  [hoje, grande, vagabundo, governo, turma, gove...  \n",
       "5  [mudar, alguem, status, muito, realidade, fren...  \n",
       "6  [louco, isolamento, medicos, brasileiro, saude...  \n",
       "7  [pai, comigo, quando, numa, nadar, ir, pessoa,...  \n",
       "8  [pai, alguem, cabeca, zap, help, agora, mundia...  \n",
       "9  [saber, mandar, buscar, bem, nao, dinheiro, na...  "
      ]
     },
     "execution_count": 27,
     "metadata": {},
     "output_type": "execute_result"
    }
   ],
   "source": [
    "# Group top 5 sentences under each topic\n",
    "sent_topics_sorteddf_mallet = pd.DataFrame()\n",
    "\n",
    "sent_topics_outdf_grpd = df_topic_sents_keywords.groupby('Principal_Topico')\n",
    "\n",
    "for i, grp in sent_topics_outdf_grpd:\n",
    "    sent_topics_sorteddf_mallet = pd.concat([sent_topics_sorteddf_mallet, \n",
    "                                             grp.sort_values(['Perc_Contributicao'], ascending=[0]).head(1)], \n",
    "                                            axis=0)\n",
    "\n",
    "# Reset Index    \n",
    "sent_topics_sorteddf_mallet.reset_index(drop=True, inplace=True)\n",
    "\n",
    "# Format\n",
    "sent_topics_sorteddf_mallet.columns = ['Topico', \"Topico_Perc_Contrib\", \"Palavras_Chave\", \"Tweet\"]\n",
    "\n",
    "# Show\n",
    "sent_topics_sorteddf_mallet"
   ]
  },
  {
   "cell_type": "code",
   "execution_count": 28,
   "metadata": {},
   "outputs": [
    {
     "data": {
      "text/html": [
       "<div>\n",
       "<style scoped>\n",
       "    .dataframe tbody tr th:only-of-type {\n",
       "        vertical-align: middle;\n",
       "    }\n",
       "\n",
       "    .dataframe tbody tr th {\n",
       "        vertical-align: top;\n",
       "    }\n",
       "\n",
       "    .dataframe thead th {\n",
       "        text-align: right;\n",
       "    }\n",
       "</style>\n",
       "<table border=\"1\" class=\"dataframe\">\n",
       "  <thead>\n",
       "    <tr style=\"text-align: right;\">\n",
       "      <th></th>\n",
       "      <th>Principal_Topico</th>\n",
       "      <th>Palavras_Chave</th>\n",
       "      <th>Qtd_Tweets</th>\n",
       "      <th>Perc_Tweets</th>\n",
       "    </tr>\n",
       "  </thead>\n",
       "  <tbody>\n",
       "    <tr>\n",
       "      <th>0.0</th>\n",
       "      <td>0.0</td>\n",
       "      <td>depois, mae, sim, bolsonaro, presidente, vez, ...</td>\n",
       "      <td>23179.0</td>\n",
       "      <td>0.1317</td>\n",
       "    </tr>\n",
       "    <tr>\n",
       "      <th>1.0</th>\n",
       "      <td>1.0</td>\n",
       "      <td>coronavirus, brasil, bolsonaro, contra, saude,...</td>\n",
       "      <td>23348.0</td>\n",
       "      <td>0.1326</td>\n",
       "    </tr>\n",
       "    <tr>\n",
       "      <th>2.0</th>\n",
       "      <td>4.0</td>\n",
       "      <td>bolsonaro, presidente, passar, brasil, povo, f...</td>\n",
       "      <td>20126.0</td>\n",
       "      <td>0.1143</td>\n",
       "    </tr>\n",
       "    <tr>\n",
       "      <th>3.0</th>\n",
       "      <td>1.0</td>\n",
       "      <td>coronavirus, brasil, bolsonaro, contra, saude,...</td>\n",
       "      <td>15350.0</td>\n",
       "      <td>0.0872</td>\n",
       "    </tr>\n",
       "    <tr>\n",
       "      <th>4.0</th>\n",
       "      <td>4.0</td>\n",
       "      <td>bolsonaro, presidente, passar, brasil, povo, f...</td>\n",
       "      <td>21563.0</td>\n",
       "      <td>0.1225</td>\n",
       "    </tr>\n",
       "    <tr>\n",
       "      <th>...</th>\n",
       "      <td>...</td>\n",
       "      <td>...</td>\n",
       "      <td>...</td>\n",
       "      <td>...</td>\n",
       "    </tr>\n",
       "    <tr>\n",
       "      <th>176035.0</th>\n",
       "      <td>5.0</td>\n",
       "      <td>pandemia, coisa, ainda, cabelo, pessoa, meio, ...</td>\n",
       "      <td>NaN</td>\n",
       "      <td>NaN</td>\n",
       "    </tr>\n",
       "    <tr>\n",
       "      <th>176036.0</th>\n",
       "      <td>7.0</td>\n",
       "      <td>casa, acabar, quando, mim, familia, oq, mano, ...</td>\n",
       "      <td>NaN</td>\n",
       "      <td>NaN</td>\n",
       "    </tr>\n",
       "    <tr>\n",
       "      <th>176037.0</th>\n",
       "      <td>2.0</td>\n",
       "      <td>corona, virus, nunca, dps, pegar, logo, alguem...</td>\n",
       "      <td>NaN</td>\n",
       "      <td>NaN</td>\n",
       "    </tr>\n",
       "    <tr>\n",
       "      <th>176038.0</th>\n",
       "      <td>8.0</td>\n",
       "      <td>muito, agora, corona, matar, video, final, vir...</td>\n",
       "      <td>NaN</td>\n",
       "      <td>NaN</td>\n",
       "    </tr>\n",
       "    <tr>\n",
       "      <th>176039.0</th>\n",
       "      <td>7.0</td>\n",
       "      <td>casa, acabar, quando, mim, familia, oq, mano, ...</td>\n",
       "      <td>NaN</td>\n",
       "      <td>NaN</td>\n",
       "    </tr>\n",
       "  </tbody>\n",
       "</table>\n",
       "<p>176040 rows × 4 columns</p>\n",
       "</div>"
      ],
      "text/plain": [
       "          Principal_Topico                                     Palavras_Chave  \\\n",
       "0.0                    0.0  depois, mae, sim, bolsonaro, presidente, vez, ...   \n",
       "1.0                    1.0  coronavirus, brasil, bolsonaro, contra, saude,...   \n",
       "2.0                    4.0  bolsonaro, presidente, passar, brasil, povo, f...   \n",
       "3.0                    1.0  coronavirus, brasil, bolsonaro, contra, saude,...   \n",
       "4.0                    4.0  bolsonaro, presidente, passar, brasil, povo, f...   \n",
       "...                    ...                                                ...   \n",
       "176035.0               5.0  pandemia, coisa, ainda, cabelo, pessoa, meio, ...   \n",
       "176036.0               7.0  casa, acabar, quando, mim, familia, oq, mano, ...   \n",
       "176037.0               2.0  corona, virus, nunca, dps, pegar, logo, alguem...   \n",
       "176038.0               8.0  muito, agora, corona, matar, video, final, vir...   \n",
       "176039.0               7.0  casa, acabar, quando, mim, familia, oq, mano, ...   \n",
       "\n",
       "          Qtd_Tweets  Perc_Tweets  \n",
       "0.0          23179.0       0.1317  \n",
       "1.0          23348.0       0.1326  \n",
       "2.0          20126.0       0.1143  \n",
       "3.0          15350.0       0.0872  \n",
       "4.0          21563.0       0.1225  \n",
       "...              ...          ...  \n",
       "176035.0         NaN          NaN  \n",
       "176036.0         NaN          NaN  \n",
       "176037.0         NaN          NaN  \n",
       "176038.0         NaN          NaN  \n",
       "176039.0         NaN          NaN  \n",
       "\n",
       "[176040 rows x 4 columns]"
      ]
     },
     "execution_count": 28,
     "metadata": {},
     "output_type": "execute_result"
    }
   ],
   "source": [
    "# Numero de tweets por topico\n",
    "\n",
    "topic_counts = df_topic_sents_keywords['Principal_Topico'].value_counts()\n",
    "\n",
    "# Porcentagem de tweets por tópico\n",
    "topic_contribution = round(topic_counts/topic_counts.sum(), 4)\n",
    "\n",
    "# Número do tópico e suas palavras chave\n",
    "topic_num_keywords = df_topic_sents_keywords[['Principal_Topico', 'Palavras_Chave']]\n",
    "\n",
    "# Concatena as colunas\n",
    "df_dominant_topics = pd.concat([topic_num_keywords, topic_counts, topic_contribution], axis=1)\n",
    "\n",
    "# Renomeia as colunas\n",
    "df_dominant_topics.columns = ['Principal_Topico', 'Palavras_Chave', 'Qtd_Tweets', 'Perc_Tweets']\n",
    "\n",
    "# Mostra o DataFrame\n",
    "df_dominant_topics"
   ]
  },
  {
   "cell_type": "code",
   "execution_count": 29,
   "metadata": {},
   "outputs": [
    {
     "data": {
      "image/png": "[encoded data removed]",
      "text/plain": [
       "<Figure size 720x720 with 4 Axes>"
      ]
     },
     "metadata": {
      "needs_background": "light"
     },
     "output_type": "display_data"
    }
   ],
   "source": [
    "# Cria wordclouds\n",
    "\n",
    "cols = [color for name, color in mcolors.XKCD_COLORS.items()]\n",
    "\n",
    "cloud = WordCloud(stopwords=stop_words,\n",
    "                  background_color='white',\n",
    "                  width=2500,\n",
    "                  height=1800,\n",
    "                  max_words=10,\n",
    "                  colormap='tab10',\n",
    "                  color_func=lambda *args, **kwargs: cols[i],\n",
    "                  prefer_horizontal=1.0)\n",
    "\n",
    "topics = lda_model.show_topics(formatted=False)\n",
    "\n",
    "fig, axes = plt.subplots(2, 2, figsize=(10,10), sharex=True, sharey=True)\n",
    "\n",
    "for i, ax in enumerate(axes.flatten()):\n",
    "    fig.add_subplot(ax)\n",
    "    topic_words = dict(topics[i][1])\n",
    "    cloud.generate_from_frequencies(topic_words, max_font_size=300)\n",
    "    plt.gca().imshow(cloud)\n",
    "    plt.gca().set_title('Topic ' + str(i), fontdict=dict(size=16))\n",
    "    plt.gca().axis('off')\n",
    "\n",
    "\n",
    "plt.subplots_adjust(wspace=0, hspace=0)\n",
    "plt.axis('off')\n",
    "plt.margins(x=0, y=0)\n",
    "plt.tight_layout()\n",
    "plt.show()"
   ]
  },
  {
   "cell_type": "code",
   "execution_count": null,
   "metadata": {},
   "outputs": [],
   "source": []
  },
  {
   "cell_type": "code",
   "execution_count": null,
   "metadata": {},
   "outputs": [],
   "source": []
  },
  {
   "cell_type": "code",
   "execution_count": null,
   "metadata": {},
   "outputs": [],
   "source": []
  },
  {
   "cell_type": "code",
   "execution_count": null,
   "metadata": {},
   "outputs": [],
   "source": []
  },
  {
   "cell_type": "code",
   "execution_count": null,
   "metadata": {},
   "outputs": [],
   "source": []
  },
  {
   "cell_type": "code",
   "execution_count": null,
   "metadata": {},
   "outputs": [],
   "source": []
  }
 ],
 "metadata": {
  "kernelspec": {
   "display_name": "Python 3",
   "language": "python",
   "name": "python3"
  },
  "language_info": {
   "codemirror_mode": {
    "name": "ipython",
    "version": 3
   },
   "file_extension": ".py",
   "mimetype": "text/x-python",
   "name": "python",
   "nbconvert_exporter": "python",
   "pygments_lexer": "ipython3",
   "version": "3.7.6"
  }
 },
 "nbformat": 4,
 "nbformat_minor": 1
}
