{
 "cells": [
  {
   "cell_type": "markdown",
   "metadata": {
    "collapsed": true
   },
   "source": [
    "Análise do dia 28/03 através do modelo LDA."
   ]
  },
  {
   "cell_type": "code",
   "execution_count": 1,
   "metadata": {},
   "outputs": [],
   "source": [
    "# Importar bibliotecas\n",
    "\n",
    "# gerais\n",
    "import sys\n",
    "import os\n",
    "from pathlib import Path\n",
    "import re\n",
    "import numpy as np\n",
    "import pandas as pd\n",
    "from pprint import pprint\n",
    "from tqdm import tqdm\n",
    "from ast import literal_eval\n",
    "\n",
    "# Gensim\n",
    "import gensim, spacy, logging, warnings\n",
    "import gensim.corpora as corpora\n",
    "from gensim.utils import lemmatize, simple_preprocess\n",
    "from gensim.models import CoherenceModel\n",
    "from gensim.models.ldamulticore import LdaMulticore\n",
    "\n",
    "# NLTK Stop words\n",
    "import nltk\n",
    "from nltk.corpus import stopwords\n",
    "\n",
    "# sklearn\n",
    "from sklearn.feature_extraction.text import CountVectorizer\n",
    "\n",
    "#plot\n",
    "import pyLDAvis\n",
    "import pyLDAvis.gensim\n",
    "import matplotlib.pyplot as plt\n",
    "import matplotlib.colors as mcolors\n",
    "%matplotlib inline\n",
    "from wordcloud import WordCloud, STOPWORDS"
   ]
  },
  {
   "cell_type": "markdown",
   "metadata": {},
   "source": [
    "# Preparação dos dados"
   ]
  },
  {
   "cell_type": "code",
   "execution_count": 2,
   "metadata": {},
   "outputs": [
    {
     "name": "stderr",
     "output_type": "stream",
     "text": [
      "C:\\ProgramData\\Anaconda3\\lib\\site-packages\\IPython\\core\\interactiveshell.py:3063: DtypeWarning: Columns (1) have mixed types.Specify dtype option on import or set low_memory=False.\n",
      "  interactivity=interactivity, compiler=compiler, result=result)\n"
     ]
    }
   ],
   "source": [
    "# import dos dados\n",
    "\n",
    "df = pd.read_csv('2803_preprocessado.csv')"
   ]
  },
  {
   "cell_type": "code",
   "execution_count": 3,
   "metadata": {},
   "outputs": [],
   "source": [
    "# função para reverter os tokens processados em lista de tuples\n",
    "\n",
    "def strip_characters(text):\n",
    "    t = re.sub(r'\\(|\\)|:|,|;|\\.|’|”|“|\\?|%|>|<|\\[|\\]', '', text)\n",
    "    t = re.sub(r'/', ' ', t)\n",
    "    t = t.replace(\"'\",'')\n",
    "    return t"
   ]
  },
  {
   "cell_type": "code",
   "execution_count": 4,
   "metadata": {},
   "outputs": [],
   "source": [
    "# aplica função em todos os tokens\n",
    "\n",
    "df['token3'] = df['token3'].apply(lambda x: strip_characters(x))\n",
    "df['token3'] = df['token3'].apply(lambda x: str(x).split(' '))"
   ]
  },
  {
   "cell_type": "code",
   "execution_count": 5,
   "metadata": {},
   "outputs": [],
   "source": [
    "texto = list(df.token3)"
   ]
  },
  {
   "cell_type": "markdown",
   "metadata": {},
   "source": [
    "# Modelagem"
   ]
  },
  {
   "cell_type": "code",
   "execution_count": 6,
   "metadata": {},
   "outputs": [],
   "source": [
    "# Criar dicionário\n",
    "\n",
    "id2word = corpora.Dictionary(texto)"
   ]
  },
  {
   "cell_type": "code",
   "execution_count": 7,
   "metadata": {},
   "outputs": [],
   "source": [
    "# Criar o Corpus: A Frequência das palavras nos documentos\n",
    "\n",
    "corpus = [id2word.doc2bow(text) for text in texto]"
   ]
  },
  {
   "cell_type": "code",
   "execution_count": 8,
   "metadata": {},
   "outputs": [],
   "source": [
    "# Função para determinar a melhor quantidade de tópicos para a modelagem\n",
    "\n",
    "def compute_coherence_values(dictionary, corpus, texts, limit, start=2, step=5):\n",
    "    coherence_values = []\n",
    "    model_list = []\n",
    "    for num_topics in tqdm(range(start, limit, step)):\n",
    "        model = LdaMulticore(corpus, id2word=id2word, num_topics=10)\n",
    "        model_list.append(model)\n",
    "        coherencemodel = CoherenceModel(model=model, texts=texts, dictionary=dictionary, coherence='c_v')\n",
    "        coherence_values.append(coherencemodel.get_coherence())\n",
    "\n",
    "    return model_list, coherence_values"
   ]
  },
  {
   "cell_type": "code",
   "execution_count": 9,
   "metadata": {},
   "outputs": [
    {
     "name": "stderr",
     "output_type": "stream",
     "text": [
      "100%|██████████████████████████████████████████████████████████████████████████████████| 14/14 [10:32<00:00, 45.18s/it]\n"
     ]
    }
   ],
   "source": [
    "# Colocando parametros na função\n",
    "\n",
    "model_list, coherence_values = compute_coherence_values(dictionary=id2word, corpus=corpus, texts=texto, start=2, limit=30, step=2)"
   ]
  },
  {
   "cell_type": "code",
   "execution_count": 10,
   "metadata": {},
   "outputs": [
    {
     "data": {
      "image/png": "[encoded data removed]",
      "text/plain": [
       "<Figure size 432x288 with 1 Axes>"
      ]
     },
     "metadata": {
      "needs_background": "light"
     },
     "output_type": "display_data"
    }
   ],
   "source": [
    "# Mostrando visualmente a quantidade de tópicos\n",
    "\n",
    "limit=30; start=2; step=2;\n",
    "x = range(start, limit, step)\n",
    "plt.plot(x, coherence_values)\n",
    "plt.xlabel(\"Num Tópicos\")\n",
    "plt.ylabel(\"Score de Coerência\")\n",
    "plt.legend((\"Valores de Coerência\"), loc='best')\n",
    "plt.show()"
   ]
  },
  {
   "cell_type": "code",
   "execution_count": 11,
   "metadata": {},
   "outputs": [
    {
     "name": "stdout",
     "output_type": "stream",
     "text": [
      "A quantidade de tópicos = 2  tem um valor de coerência de  0.3193\n",
      "A quantidade de tópicos = 4  tem um valor de coerência de  0.3221\n",
      "A quantidade de tópicos = 6  tem um valor de coerência de  0.3194\n",
      "A quantidade de tópicos = 8  tem um valor de coerência de  0.2934\n",
      "A quantidade de tópicos = 10  tem um valor de coerência de  0.3308\n",
      "A quantidade de tópicos = 12  tem um valor de coerência de  0.3559\n",
      "A quantidade de tópicos = 14  tem um valor de coerência de  0.339\n",
      "A quantidade de tópicos = 16  tem um valor de coerência de  0.3116\n",
      "A quantidade de tópicos = 18  tem um valor de coerência de  0.3028\n",
      "A quantidade de tópicos = 20  tem um valor de coerência de  0.3087\n",
      "A quantidade de tópicos = 22  tem um valor de coerência de  0.3168\n",
      "A quantidade de tópicos = 24  tem um valor de coerência de  0.2883\n",
      "A quantidade de tópicos = 26  tem um valor de coerência de  0.2982\n",
      "A quantidade de tópicos = 28  tem um valor de coerência de  0.3348\n"
     ]
    }
   ],
   "source": [
    "# Lista dos valores de coerência, para melhor identificar o ponto de inflexão do gráfico\n",
    "\n",
    "for m, cv in zip(x, coherence_values):\n",
    "    print(\"A quantidade de tópicos =\", m, \" tem um valor de coerência de \", round(cv, 4))"
   ]
  },
  {
   "cell_type": "markdown",
   "metadata": {},
   "source": [
    "Aqui conseguimos determinar a melhor quantidade de tópicos a serem analisados, que é 8 tópicos"
   ]
  },
  {
   "cell_type": "code",
   "execution_count": 12,
   "metadata": {},
   "outputs": [],
   "source": [
    "# Vamos agora construir de fato o modelo LDA\n",
    "\n",
    "lda_model = LdaMulticore(corpus=corpus,\n",
    "                        id2word=id2word,\n",
    "                        num_topics=3, \n",
    "                        random_state=42,\n",
    "                        chunksize=100,\n",
    "                        passes=10,\n",
    "                        per_word_topics=True,\n",
    "                        alpha = 0.9,\n",
    "                        eta = 0.3)"
   ]
  },
  {
   "cell_type": "code",
   "execution_count": 13,
   "metadata": {},
   "outputs": [
    {
     "name": "stdout",
     "output_type": "stream",
     "text": [
      "\n",
      "Perplexidade:  -7.078357685190944\n"
     ]
    }
   ],
   "source": [
    "# Computar a perplexidade do modelo (quanto menor, melhor)\n",
    "\n",
    "print('\\nPerplexidade: ', lda_model.log_perplexity(corpus))"
   ]
  },
  {
   "cell_type": "code",
   "execution_count": 14,
   "metadata": {},
   "outputs": [
    {
     "name": "stdout",
     "output_type": "stream",
     "text": [
      "\n",
      "Score de Coerência:  0.3644836708584007\n"
     ]
    }
   ],
   "source": [
    "# Computar o Score de Coerência\n",
    "\n",
    "coherence_model_lda = CoherenceModel(model=lda_model, texts=texto, dictionary=id2word, coherence='c_v')\n",
    "coherence_lda = coherence_model_lda.get_coherence()\n",
    "print('\\nScore de Coerência: ', coherence_lda)"
   ]
  },
  {
   "cell_type": "code",
   "execution_count": 15,
   "metadata": {},
   "outputs": [
    {
     "data": {
      "text/html": [
       "\n",
       "<link rel=\"stylesheet\" type=\"text/css\" href=\"https://cdn.rawgit.com/bmabey/pyLDAvis/files/ldavis.v1.0.0.css\">\n",
       "\n",
       "\n",
       "<div id=\"ldavis_el2048427384225809366814772336\"></div>\n",
       "<script type=\"text/javascript\">\n",
       "\n",
       "var ldavis_el2048427384225809366814772336_data = {\"mdsDat\": {\"x\": [0.11261761940592514, -0.37824451364560685, 0.2656268942396818], \"y\": [-0.367123097898216, 0.08724294679992171, 0.27988015109829417], \"topics\": [1, 2, 3], \"cluster\": [1, 1, 1], \"Freq\": [36.26040267944336, 33.36153793334961, 30.37806510925293]}, \"tinfo\": {\"Term\": [\"bolsonaro\", \"\", \"presidente\", \"casa\", \"quando\", \"acabar\", \"pandemia\", \"gente\", \"agora\", \"nem\", \"brasil\", \"depois\", \"mundo\", \"sair\", \"muito\", \"coisa\", \"nada\", \"ir\", \"deus\", \"passar\", \"mae\", \"nunca\", \"saude\", \"cabelo\", \"contra\", \"governo\", \"povo\", \"melhor\", \"vida\", \"sim\", \"pandemia\", \"brasil\", \"depois\", \"mundo\", \"muito\", \"saude\", \"contra\", \"governo\", \"povo\", \"sim\", \"tempo\", \"porque\", \"novo\", \"menos\", \"familia\", \"ninguem\", \"tambem\", \"isolamento\", \"pegar\", \"morte\", \"morrer\", \"meio\", \"momento\", \"desde\", \"ha\", \"pois\", \"trabalhar\", \"crise\", \"mil\", \"caso\", \"medo\", \"bolsonaro\", \"presidente\", \"quando\", \"acabar\", \"gente\", \"agora\", \"coisa\", \"nada\", \"deus\", \"passar\", \"melhor\", \"merda\", \"bom\", \"pessoa\", \"falar\", \"hora\", \"sempre\", \"poder\", \"dinheiro\", \"tomar\", \"voltar\", \"mal\", \"deixar\", \"parar\", \"pouco\", \"final\", \"doria\", \"outro\", \"cu\", \"certo\", \"saber\", \"\", \"casa\", \"nem\", \"sair\", \"ir\", \"mae\", \"nunca\", \"cabelo\", \"logo\", \"alguem\", \"tanto\", \"pai\", \"semana\", \"tava\", \"vez\", \"primeiro\", \"video\", \"vontade\", \"preciso\", \"quase\", \"comer\", \"dentro\", \"comigo\", \"cabeca\", \"tedio\", \"amor\", \"demais\", \"tarde\", \"caralho\", \"amo\", \"favor\", \"amigo\", \"cada\", \"vida\", \"qual\", \"fim\"], \"Freq\": [16237.0, 13971.0, 13643.0, 10518.0, 7762.0, 7422.0, 7230.0, 6539.0, 6295.0, 5334.0, 6177.0, 5391.0, 4769.0, 4053.0, 4655.0, 3856.0, 3850.0, 3435.0, 3478.0, 3320.0, 2865.0, 2806.0, 3278.0, 2586.0, 2966.0, 2934.0, 2932.0, 2656.0, 3056.0, 2628.0, 7230.189453125, 6176.6123046875, 5390.60498046875, 4769.0927734375, 4654.90234375, 3277.380615234375, 2965.7275390625, 2934.18359375, 2932.19775390625, 2628.07373046875, 2402.56591796875, 2224.543212890625, 2068.561279296875, 2084.095947265625, 2018.33203125, 2027.523193359375, 1948.7742919921875, 1770.966064453125, 1751.6866455078125, 1476.4140625, 1528.8013916015625, 1523.139404296875, 1456.687255859375, 1429.656494140625, 1377.3409423828125, 1433.3670654296875, 1303.651123046875, 1241.6201171875, 1225.8692626953125, 1183.8165283203125, 1242.264892578125, 16236.7705078125, 13642.7587890625, 7762.18212890625, 7421.6875, 6538.39111328125, 6294.97802734375, 3855.980712890625, 3849.47802734375, 3477.54443359375, 3319.594482421875, 2655.778076171875, 2248.587646484375, 2250.35205078125, 2053.73681640625, 1987.8919677734375, 1840.9686279296875, 1669.1129150390625, 1608.00732421875, 1599.4464111328125, 1551.297607421875, 1532.3487548828125, 1408.8087158203125, 1312.737548828125, 1257.101806640625, 1273.8543701171875, 1209.3187255859375, 1150.2886962890625, 1147.7265625, 1113.54833984375, 1109.118408203125, 1116.357666015625, 13971.158203125, 10517.6533203125, 5333.55615234375, 4053.28076171875, 3434.884521484375, 2865.331787109375, 2805.7978515625, 2585.39501953125, 2103.235595703125, 2104.961181640625, 1942.072509765625, 1859.47900390625, 1853.7225341796875, 1723.8536376953125, 1734.144287109375, 1634.032470703125, 1597.358642578125, 1486.296875, 1387.5333251953125, 1413.3907470703125, 1267.893798828125, 1099.7669677734375, 1080.826171875, 1120.8919677734375, 1046.095458984375, 1105.522705078125, 1105.8555908203125, 1115.1558837890625, 992.759765625, 952.2224731445312, 1502.9189453125, 1003.88818359375, 1394.1468505859375, 2776.011474609375, 1282.5859375, 1672.0748291015625], \"Total\": [16237.0, 13971.0, 13643.0, 10518.0, 7762.0, 7422.0, 7230.0, 6539.0, 6295.0, 5334.0, 6177.0, 5391.0, 4769.0, 4053.0, 4655.0, 3856.0, 3850.0, 3435.0, 3478.0, 3320.0, 2865.0, 2806.0, 3278.0, 2586.0, 2966.0, 2934.0, 2932.0, 2656.0, 3056.0, 2628.0, 7230.83349609375, 6177.25634765625, 5391.2958984375, 4769.76318359375, 4655.578125, 3278.008544921875, 2966.372802734375, 2934.826171875, 2932.867431640625, 2628.7529296875, 2403.240478515625, 2225.2158203125, 2069.213623046875, 2084.76708984375, 2019.0028076171875, 2028.2125244140625, 1949.4420166015625, 1771.596923828125, 1752.3936767578125, 1477.04541015625, 1529.4571533203125, 1523.7969970703125, 1457.339599609375, 1430.3214111328125, 1377.9844970703125, 1434.0416259765625, 1304.31201171875, 1242.2637939453125, 1226.5072021484375, 1184.45556640625, 1242.9473876953125, 16237.3896484375, 13643.380859375, 7762.8056640625, 7422.31103515625, 6539.03955078125, 6295.62890625, 3856.615478515625, 3850.118896484375, 3478.193359375, 3320.233642578125, 2656.421630859375, 2249.22021484375, 2250.993408203125, 2054.388427734375, 1988.5234375, 1841.6107177734375, 1669.7578125, 1608.6541748046875, 1600.094482421875, 1551.9388427734375, 1532.9942626953125, 1409.4444580078125, 1313.400146484375, 1257.738037109375, 1274.5130615234375, 1209.9619140625, 1150.92041015625, 1148.36328125, 1114.1702880859375, 1109.7542724609375, 1117.0035400390625, 13971.759765625, 10518.2890625, 5334.21240234375, 4053.9111328125, 3435.5224609375, 2865.951416015625, 2806.456298828125, 2586.008544921875, 2103.86962890625, 2105.625244140625, 1942.7100830078125, 1860.10498046875, 1854.3695068359375, 1724.48193359375, 1734.7906494140625, 1634.688232421875, 1598.022216796875, 1486.9202880859375, 1388.1639404296875, 1414.0484619140625, 1268.51708984375, 1100.3990478515625, 1081.451904296875, 1121.543212890625, 1046.7042236328125, 1106.1683349609375, 1106.5096435546875, 1115.8214111328125, 993.4057006835938, 952.8477783203125, 1508.4739990234375, 1004.5504150390625, 1425.7373046875, 3056.650390625, 1345.1656494140625, 1907.60791015625], \"Category\": [\"Default\", \"Default\", \"Default\", \"Default\", \"Default\", \"Default\", \"Default\", \"Default\", \"Default\", \"Default\", \"Default\", \"Default\", \"Default\", \"Default\", \"Default\", \"Default\", \"Default\", \"Default\", \"Default\", \"Default\", \"Default\", \"Default\", \"Default\", \"Default\", \"Default\", \"Default\", \"Default\", \"Default\", \"Default\", \"Default\", \"Topic1\", \"Topic1\", \"Topic1\", \"Topic1\", \"Topic1\", \"Topic1\", \"Topic1\", \"Topic1\", \"Topic1\", \"Topic1\", \"Topic1\", \"Topic1\", \"Topic1\", \"Topic1\", \"Topic1\", \"Topic1\", \"Topic1\", \"Topic1\", \"Topic1\", \"Topic1\", \"Topic1\", \"Topic1\", \"Topic1\", \"Topic1\", \"Topic1\", \"Topic1\", \"Topic1\", \"Topic1\", \"Topic1\", \"Topic1\", \"Topic1\", \"Topic2\", \"Topic2\", \"Topic2\", \"Topic2\", \"Topic2\", \"Topic2\", \"Topic2\", \"Topic2\", \"Topic2\", \"Topic2\", \"Topic2\", \"Topic2\", \"Topic2\", \"Topic2\", \"Topic2\", \"Topic2\", \"Topic2\", \"Topic2\", \"Topic2\", \"Topic2\", \"Topic2\", \"Topic2\", \"Topic2\", \"Topic2\", \"Topic2\", \"Topic2\", \"Topic2\", \"Topic2\", \"Topic2\", \"Topic2\", \"Topic2\", \"Topic3\", \"Topic3\", \"Topic3\", \"Topic3\", \"Topic3\", \"Topic3\", \"Topic3\", \"Topic3\", \"Topic3\", \"Topic3\", \"Topic3\", \"Topic3\", \"Topic3\", \"Topic3\", \"Topic3\", \"Topic3\", \"Topic3\", \"Topic3\", \"Topic3\", \"Topic3\", \"Topic3\", \"Topic3\", \"Topic3\", \"Topic3\", \"Topic3\", \"Topic3\", \"Topic3\", \"Topic3\", \"Topic3\", \"Topic3\", \"Topic3\", \"Topic3\", \"Topic3\", \"Topic3\", \"Topic3\", \"Topic3\"], \"logprob\": [30.0, 29.0, 28.0, 27.0, 26.0, 25.0, 24.0, 23.0, 22.0, 21.0, 20.0, 19.0, 18.0, 17.0, 16.0, 15.0, 14.0, 13.0, 12.0, 11.0, 10.0, 9.0, 8.0, 7.0, 6.0, 5.0, 4.0, 3.0, 2.0, 1.0, -3.5597000122070312, -3.7172000408172607, -3.853300094604492, -3.975800037384033, -4.0, -4.350900173187256, -4.450799942016602, -4.46150016784668, -4.462200164794922, -4.571700096130371, -4.661399841308594, -4.738399982452393, -4.811100006103516, -4.803599834442139, -4.835700035095215, -4.831099987030029, -4.870699882507324, -4.966400146484375, -4.977399826049805, -5.1483001708984375, -5.113399982452393, -5.117199897766113, -5.161799907684326, -5.180500030517578, -5.217800140380859, -5.1778998374938965, -5.272799968719482, -5.321499824523926, -5.3343000411987305, -5.369200229644775, -5.321000099182129, -2.66729998588562, -2.841399908065796, -3.4052999019622803, -3.450200080871582, -3.576900005340576, -3.6149001121520996, -4.105000019073486, -4.1066999435424805, -4.2083001136779785, -4.254799842834473, -4.47790002822876, -4.6442999839782715, -4.643499851226807, -4.734899997711182, -4.767499923706055, -4.844299793243408, -4.942299842834473, -4.979599952697754, -4.984899997711182, -5.015500068664551, -5.0278000831604, -5.1118998527526855, -5.182499885559082, -5.225800037384033, -5.212600231170654, -5.264500141143799, -5.314599990844727, -5.316800117492676, -5.347099781036377, -5.35099983215332, -5.3445000648498535, -2.723900079727173, -3.0078999996185303, -3.6868999004364014, -3.961400032043457, -4.1269001960754395, -4.308199882507324, -4.32919979095459, -4.410999774932861, -4.617400169372559, -4.616600036621094, -4.697199821472168, -4.740600109100342, -4.74370002746582, -4.816400051116943, -4.810400009155273, -4.869900226593018, -4.892600059509277, -4.964600086212158, -5.033400058746338, -5.014900207519531, -5.123600006103516, -5.2657999992370605, -5.283199787139893, -5.246799945831299, -5.315899848937988, -5.2606000900268555, -5.260300159454346, -5.2519001960754395, -5.368199825286865, -5.409900188446045, -4.953499794006348, -5.35699987411499, -5.028600215911865, -4.339900016784668, -5.111999988555908, -4.84689998626709], \"loglift\": [30.0, 29.0, 28.0, 27.0, 26.0, 25.0, 24.0, 23.0, 22.0, 21.0, 20.0, 19.0, 18.0, 17.0, 16.0, 15.0, 14.0, 13.0, 12.0, 11.0, 10.0, 9.0, 8.0, 7.0, 6.0, 5.0, 4.0, 3.0, 2.0, 1.0, 1.0144000053405762, 1.014299988746643, 1.014299988746643, 1.014299988746643, 1.014299988746643, 1.014299988746643, 1.01419997215271, 1.01419997215271, 1.01419997215271, 1.01419997215271, 1.01419997215271, 1.0140999555587769, 1.0140999555587769, 1.0140999555587769, 1.0140999555587769, 1.0140999555587769, 1.0140999555587769, 1.0140999555587769, 1.0140000581741333, 1.0140000581741333, 1.0140000581741333, 1.0140000581741333, 1.0140000581741333, 1.0140000581741333, 1.0140000581741333, 1.0140000581741333, 1.0139000415802002, 1.0139000415802002, 1.0139000415802002, 1.0139000415802002, 1.0139000415802002, 1.0976999998092651, 1.0976999998092651, 1.0976999998092651, 1.0976999998092651, 1.0976999998092651, 1.0976999998092651, 1.097599983215332, 1.097599983215332, 1.097599983215332, 1.097599983215332, 1.097499966621399, 1.097499966621399, 1.097499966621399, 1.0973999500274658, 1.0973999500274658, 1.0973999500274658, 1.0973999500274658, 1.0973999500274658, 1.0973999500274658, 1.0973999500274658, 1.0973000526428223, 1.0973000526428223, 1.0973000526428223, 1.0973000526428223, 1.0972000360488892, 1.0972000360488892, 1.0972000360488892, 1.0972000360488892, 1.0972000360488892, 1.0972000360488892, 1.0972000360488892, 1.1914000511169434, 1.1914000511169434, 1.1913000345230103, 1.1913000345230103, 1.1913000345230103, 1.1912000179290771, 1.1912000179290771, 1.1912000179290771, 1.191100001335144, 1.191100001335144, 1.191100001335144, 1.191100001335144, 1.191100001335144, 1.191100001335144, 1.191100001335144, 1.190999984741211, 1.190999984741211, 1.190999984741211, 1.190999984741211, 1.190999984741211, 1.190999984741211, 1.1908999681472778, 1.1908999681472778, 1.1908999681472778, 1.1908999681472778, 1.1908999681472778, 1.1908999681472778, 1.1908999681472778, 1.1907999515533447, 1.1907999515533447, 1.1878000497817993, 1.1907999515533447, 1.1690000295639038, 1.0951000452041626, 1.1438000202178955, 1.0597000122070312]}, \"token.table\": {\"Topic\": [3, 2, 2, 3, 3, 3, 3, 2, 2, 1, 3, 3, 1, 3, 3, 3, 1, 2, 2, 3, 3, 1, 1, 2, 2, 3, 3, 1, 1, 2, 2, 2, 2, 1, 2, 3, 1, 3, 2, 2, 1, 1, 2, 3, 1, 3, 3, 2, 1, 1, 2, 1, 2, 1, 1, 1, 1, 1, 1, 2, 3, 1, 1, 3, 2, 3, 1, 2, 2, 1, 2, 2, 1, 1, 2, 1, 3, 2, 3, 1, 3, 2, 3, 2, 3, 1, 3, 2, 1, 1, 3, 3, 3, 3, 1, 2, 1, 3, 1, 3, 3, 2, 3], \"Freq\": [0.9999456405639648, 0.9999580979347229, 0.9999001026153564, 0.999703049659729, 0.9994520545005798, 0.9991102814674377, 0.9998478293418884, 0.9999759793281555, 0.999558687210083, 0.9999585151672363, 0.9995156526565552, 0.9996100068092346, 0.021743135526776314, 0.9777397513389587, 0.999591588973999, 0.9999725222587585, 0.9996153712272644, 0.9993203282356262, 0.9998404383659363, 0.9995923638343811, 0.9995821118354797, 0.9998743534088135, 0.9997876286506653, 0.9998471736907959, 0.999695360660553, 0.9995394349098206, 0.9996373653411865, 0.9999451041221619, 0.9997752904891968, 0.9999443888664246, 0.9993159770965576, 0.9992002844810486, 0.9997367858886719, 0.9995033144950867, 0.003314608009532094, 0.9963711500167847, 0.12319093197584152, 0.8764904141426086, 0.9992049932479858, 0.999841034412384, 0.9997184872627258, 0.9992855787277222, 0.9996683597564697, 0.999847948551178, 0.9996630549430847, 0.9995866417884827, 0.9996680021286011, 0.9996846318244934, 0.9992377758026123, 0.999476969242096, 0.9998412728309631, 0.9996320605278015, 0.999902069568634, 0.9995864629745483, 0.9997669458389282, 0.9997010827064514, 0.999292254447937, 0.9998758435249329, 0.9998400211334229, 0.9997093677520752, 0.99996018409729, 0.9998952150344849, 0.999896764755249, 0.9998373985290527, 0.999683678150177, 0.9994059801101685, 0.9998847246170044, 0.9994131922721863, 0.9999296069145203, 0.9997753500938416, 0.9998109340667725, 0.9995933175086975, 0.9992736577987671, 0.9999030232429504, 0.999597430229187, 0.9997042417526245, 0.9998819231987, 0.9999721050262451, 0.9995789527893066, 0.046090979129076004, 0.9537858963012695, 0.999896228313446, 0.9992585182189941, 0.9991015791893005, 0.999775230884552, 0.9996923208236694, 0.9998007416725159, 0.9995461702346802, 0.9997135996818542, 0.9997732639312744, 0.9996345043182373, 0.9992638230323792, 0.9997205138206482, 0.9993271827697754, 0.9998999238014221, 0.9993950724601746, 0.9997608065605164, 0.9995442628860474, 0.09160353988409042, 0.9081836938858032, 0.9993603229522705, 0.999351441860199, 0.9993810653686523], \"Term\": [\"\", \"acabar\", \"agora\", \"alguem\", \"amigo\", \"amo\", \"amor\", \"bolsonaro\", \"bom\", \"brasil\", \"cabeca\", \"cabelo\", \"cada\", \"cada\", \"caralho\", \"casa\", \"caso\", \"certo\", \"coisa\", \"comer\", \"comigo\", \"contra\", \"crise\", \"cu\", \"deixar\", \"demais\", \"dentro\", \"depois\", \"desde\", \"deus\", \"dinheiro\", \"doria\", \"falar\", \"familia\", \"favor\", \"favor\", \"fim\", \"fim\", \"final\", \"gente\", \"governo\", \"ha\", \"hora\", \"ir\", \"isolamento\", \"logo\", \"mae\", \"mal\", \"medo\", \"meio\", \"melhor\", \"menos\", \"merda\", \"mil\", \"momento\", \"morrer\", \"morte\", \"muito\", \"mundo\", \"nada\", \"nem\", \"ninguem\", \"novo\", \"nunca\", \"outro\", \"pai\", \"pandemia\", \"parar\", \"passar\", \"pegar\", \"pessoa\", \"poder\", \"pois\", \"porque\", \"pouco\", \"povo\", \"preciso\", \"presidente\", \"primeiro\", \"qual\", \"qual\", \"quando\", \"quase\", \"saber\", \"sair\", \"saude\", \"semana\", \"sempre\", \"sim\", \"tambem\", \"tanto\", \"tarde\", \"tava\", \"tedio\", \"tempo\", \"tomar\", \"trabalhar\", \"vez\", \"vida\", \"vida\", \"video\", \"voltar\", \"vontade\"]}, \"R\": 30, \"lambda.step\": 0.01, \"plot.opts\": {\"xlab\": \"PC1\", \"ylab\": \"PC2\"}, \"topic.order\": [1, 2, 3]};\n",
       "\n",
       "function LDAvis_load_lib(url, callback){\n",
       "  var s = document.createElement('script');\n",
       "  s.src = url;\n",
       "  s.async = true;\n",
       "  s.onreadystatechange = s.onload = callback;\n",
       "  s.onerror = function(){console.warn(\"failed to load library \" + url);};\n",
       "  document.getElementsByTagName(\"head\")[0].appendChild(s);\n",
       "}\n",
       "\n",
       "if(typeof(LDAvis) !== \"undefined\"){\n",
       "   // already loaded: just create the visualization\n",
       "   !function(LDAvis){\n",
       "       new LDAvis(\"#\" + \"ldavis_el2048427384225809366814772336\", ldavis_el2048427384225809366814772336_data);\n",
       "   }(LDAvis);\n",
       "}else if(typeof define === \"function\" && define.amd){\n",
       "   // require.js is available: use it to load d3/LDAvis\n",
       "   require.config({paths: {d3: \"https://cdnjs.cloudflare.com/ajax/libs/d3/3.5.5/d3.min\"}});\n",
       "   require([\"d3\"], function(d3){\n",
       "      window.d3 = d3;\n",
       "      LDAvis_load_lib(\"https://cdn.rawgit.com/bmabey/pyLDAvis/files/ldavis.v1.0.0.js\", function(){\n",
       "        new LDAvis(\"#\" + \"ldavis_el2048427384225809366814772336\", ldavis_el2048427384225809366814772336_data);\n",
       "      });\n",
       "    });\n",
       "}else{\n",
       "    // require.js not available: dynamically load d3 & LDAvis\n",
       "    LDAvis_load_lib(\"https://cdnjs.cloudflare.com/ajax/libs/d3/3.5.5/d3.min.js\", function(){\n",
       "         LDAvis_load_lib(\"https://cdn.rawgit.com/bmabey/pyLDAvis/files/ldavis.v1.0.0.js\", function(){\n",
       "                 new LDAvis(\"#\" + \"ldavis_el2048427384225809366814772336\", ldavis_el2048427384225809366814772336_data);\n",
       "            })\n",
       "         });\n",
       "}\n",
       "</script>"
      ],
      "text/plain": [
       "PreparedData(topic_coordinates=              x         y  topics  cluster       Freq\n",
       "topic                                                \n",
       "0      0.112618 -0.367123       1        1  36.260403\n",
       "1     -0.378245  0.087243       2        1  33.361538\n",
       "2      0.265627  0.279880       3        1  30.378065, topic_info=           Term          Freq         Total Category  logprob  loglift\n",
       "53    bolsonaro  16237.000000  16237.000000  Default  30.0000  30.0000\n",
       "16               13971.000000  13971.000000  Default  29.0000  29.0000\n",
       "7    presidente  13643.000000  13643.000000  Default  28.0000  28.0000\n",
       "50         casa  10518.000000  10518.000000  Default  27.0000  27.0000\n",
       "71       quando   7762.000000   7762.000000  Default  26.0000  26.0000\n",
       "..          ...           ...           ...      ...      ...      ...\n",
       "102       amigo   1003.888184   1004.550415   Topic3  -5.3570   1.1908\n",
       "49         cada   1394.146851   1425.737305   Topic3  -5.0286   1.1690\n",
       "63         vida   2776.011475   3056.650391   Topic3  -4.3399   1.0951\n",
       "73         qual   1282.585938   1345.165649   Topic3  -5.1120   1.1438\n",
       "288         fim   1672.074829   1907.607910   Topic3  -4.8469   1.0597\n",
       "\n",
       "[128 rows x 6 columns], token_table=      Topic      Freq     Term\n",
       "term                          \n",
       "16        3  0.999946         \n",
       "37        2  0.999958   acabar\n",
       "291       2  0.999900    agora\n",
       "154       3  0.999703   alguem\n",
       "102       3  0.999452    amigo\n",
       "...     ...       ...      ...\n",
       "63        1  0.091604     vida\n",
       "63        3  0.908184     vida\n",
       "538       3  0.999360    video\n",
       "404       2  0.999351   voltar\n",
       "74        3  0.999381  vontade\n",
       "\n",
       "[103 rows x 3 columns], R=30, lambda_step=0.01, plot_opts={'xlab': 'PC1', 'ylab': 'PC2'}, topic_order=[1, 2, 3])"
      ]
     },
     "execution_count": 15,
     "metadata": {},
     "output_type": "execute_result"
    }
   ],
   "source": [
    "# Visualização dos tópicos em clusters\n",
    "\n",
    "pyLDAvis.enable_notebook()\n",
    "vis = pyLDAvis.gensim.prepare(lda_model, corpus, id2word)\n",
    "vis"
   ]
  },
  {
   "cell_type": "code",
   "execution_count": 16,
   "metadata": {},
   "outputs": [],
   "source": [
    "# Função para determinar a melhor quantidade de tópicos para a modelagem\n",
    "\n",
    "def compute_coherence_values(dictionary, corpus, texts, limit, start=2, step=5):\n",
    "    coherence_values = []\n",
    "    model_list = []\n",
    "    for num_topics in tqdm(range(start, limit, step)):\n",
    "        model = LdaMulticore(corpus, id2word=id2word, num_topics=3)\n",
    "        model_list.append(model)\n",
    "        coherencemodel = CoherenceModel(model=model, texts=texts, dictionary=dictionary, coherence='c_v')\n",
    "        coherence_values.append(coherencemodel.get_coherence())\n",
    "\n",
    "    return model_list, coherence_values"
   ]
  },
  {
   "cell_type": "code",
   "execution_count": 17,
   "metadata": {},
   "outputs": [
    {
     "name": "stderr",
     "output_type": "stream",
     "text": [
      "100%|████████████████████████████████████████████████████████████████████████████████████| 1/1 [00:51<00:00, 51.72s/it]\n"
     ]
    }
   ],
   "source": [
    "# Colocando parametros na função\n",
    "\n",
    "model_list, coherence_values = compute_coherence_values(dictionary=id2word, corpus=corpus, texts=texto, start=2, limit=4, step=2)"
   ]
  },
  {
   "cell_type": "code",
   "execution_count": 18,
   "metadata": {},
   "outputs": [
    {
     "data": {
      "text/plain": [
       "[(0,\n",
       "  '0.022*\"casa\" + 0.020*\"pandemia\" + 0.017*\"muito\" + 0.016*\"presidente\" + 0.011*\"mundo\" + 0.010*\"vida\" + 0.010*\"deus\" + 0.009*\"nem\" + 0.009*\"ir\" + 0.009*\"passar\" + 0.008*\"bom\" + 0.008*\"sim\" + 0.008*\"novo\" + 0.007*\"logo\" + 0.007*\"tambem\" + 0.007*\"gente\" + 0.007*\"semana\" + 0.007*\"familia\" + 0.006*\"nada\" + 0.006*\"vez\"'),\n",
       " (1,\n",
       "  '0.052*\"bolsonaro\" + 0.033*\"presidente\" + 0.025*\"quando\" + 0.023*\"acabar\" + 0.020*\"brasil\" + 0.018*\"depois\" + 0.012*\"gente\" + 0.012*\"sair\" + 0.011*\"coisa\" + 0.010*\"contra\" + 0.010*\"casa\" + 0.010*\"nem\" + 0.010*\"saude\" + 0.008*\"governo\" + 0.008*\"melhor\" + 0.008*\"agora\" + 0.006*\"povo\" + 0.006*\"nada\" + 0.005*\"ministro\" + 0.005*\"mandetta\"'),\n",
       " (2,\n",
       "  '0.084*\"\" + 0.022*\"agora\" + 0.016*\"mae\" + 0.014*\"casa\" + 0.013*\"cabelo\" + 0.010*\"pegar\" + 0.009*\"gente\" + 0.008*\"vontade\" + 0.008*\"tomar\" + 0.008*\"tava\" + 0.007*\"comer\" + 0.007*\"pandemia\" + 0.007*\"mal\" + 0.005*\"cu\" + 0.005*\"porque\" + 0.005*\"quase\" + 0.005*\"fim\" + 0.005*\"foto\" + 0.005*\"nada\" + 0.005*\"mundo\"')]"
      ]
     },
     "execution_count": 18,
     "metadata": {},
     "output_type": "execute_result"
    }
   ],
   "source": [
    "# Escolhe o modelo\n",
    "\n",
    "optimal_model = model_list[0]\n",
    "optimal_model.print_topics(num_topics = 3, num_words = 20)"
   ]
  },
  {
   "cell_type": "code",
   "execution_count": 19,
   "metadata": {},
   "outputs": [],
   "source": [
    "# Encontrar qual o principal tópico em cada tweet\n",
    "\n",
    "def format_topics_sentences(ldamodel=lda_model, corpus=corpus, texts=texto):\n",
    "    # Output\n",
    "    sent_topics_df = pd.DataFrame()\n",
    "\n",
    "    # Seleciona o principal tópico de cada tweet\n",
    "    for i, row in enumerate(ldamodel[corpus]):\n",
    "        row = sorted(row, key=lambda x: (x[1]), reverse=True)\n",
    "        # Calcula o principal tópico, o percentual de contribuição e as palavras chaves de cada tweet\n",
    "        for j, (topic_num, prop_topic) in enumerate(row):\n",
    "            if j == 0:  # => mostra o principal tópico\n",
    "                wp = ldamodel.show_topic(topic_num)\n",
    "                topic_keywords = \", \".join([word for word, prop in wp])\n",
    "                sent_topics_df = sent_topics_df.append(pd.Series([int(topic_num), round(prop_topic,4), topic_keywords]), ignore_index=True)\n",
    "            else:\n",
    "                break\n",
    "    sent_topics_df.columns = ['Principal_Topico', 'Perc_Contributicao', 'Palavras_Chave']\n",
    "\n",
    "    # Inclui o texto original no final do DataFrame\n",
    "    contents = pd.Series(texts)\n",
    "    sent_topics_df = pd.concat([sent_topics_df, contents], axis=1)\n",
    "    return(sent_topics_df)"
   ]
  },
  {
   "cell_type": "code",
   "execution_count": 20,
   "metadata": {},
   "outputs": [],
   "source": [
    "# roda a função de calcular os principais tópicos de cada tweet\n",
    "\n",
    "df_topic_sents_keywords = format_topics_sentences(ldamodel=optimal_model, corpus=corpus, texts=texto)"
   ]
  },
  {
   "cell_type": "code",
   "execution_count": 21,
   "metadata": {},
   "outputs": [],
   "source": [
    "# Formata o DataFrame\n",
    "\n",
    "df_dominant_topic = df_topic_sents_keywords.reset_index()\n",
    "df_dominant_topic.columns = ['Index_DF_Original', 'Principal_Topico', 'Perc_Contrib_Topico', 'Palavras_Chave', 'Tweets']"
   ]
  },
  {
   "cell_type": "code",
   "execution_count": 22,
   "metadata": {
    "scrolled": true
   },
   "outputs": [
    {
     "data": {
      "text/html": [
       "<div>\n",
       "<style scoped>\n",
       "    .dataframe tbody tr th:only-of-type {\n",
       "        vertical-align: middle;\n",
       "    }\n",
       "\n",
       "    .dataframe tbody tr th {\n",
       "        vertical-align: top;\n",
       "    }\n",
       "\n",
       "    .dataframe thead th {\n",
       "        text-align: right;\n",
       "    }\n",
       "</style>\n",
       "<table border=\"1\" class=\"dataframe\">\n",
       "  <thead>\n",
       "    <tr style=\"text-align: right;\">\n",
       "      <th></th>\n",
       "      <th>Topico</th>\n",
       "      <th>Topico_Perc_Contrib</th>\n",
       "      <th>Palavras_Chave</th>\n",
       "      <th>Tweet</th>\n",
       "    </tr>\n",
       "  </thead>\n",
       "  <tbody>\n",
       "    <tr>\n",
       "      <th>0</th>\n",
       "      <td>0.0</td>\n",
       "      <td>0.9530</td>\n",
       "      <td>casa, pandemia, muito, presidente, mundo, vida...</td>\n",
       "      <td>[vida, anitta, sempre, muito, base, passar, im...</td>\n",
       "    </tr>\n",
       "    <tr>\n",
       "      <th>1</th>\n",
       "      <td>1.0</td>\n",
       "      <td>0.9609</td>\n",
       "      <td>bolsonaro, presidente, quando, acabar, brasil,...</td>\n",
       "      <td>[sair, candidato, voto, deus, concorrer, brasi...</td>\n",
       "    </tr>\n",
       "    <tr>\n",
       "      <th>2</th>\n",
       "      <td>2.0</td>\n",
       "      <td>0.9510</td>\n",
       "      <td>, agora, mae, casa, cabelo, pegar, gente, vont...</td>\n",
       "      <td>[mesa, online, corte, mudar, construir, progre...</td>\n",
       "    </tr>\n",
       "  </tbody>\n",
       "</table>\n",
       "</div>"
      ],
      "text/plain": [
       "   Topico  Topico_Perc_Contrib  \\\n",
       "0     0.0               0.9530   \n",
       "1     1.0               0.9609   \n",
       "2     2.0               0.9510   \n",
       "\n",
       "                                      Palavras_Chave  \\\n",
       "0  casa, pandemia, muito, presidente, mundo, vida...   \n",
       "1  bolsonaro, presidente, quando, acabar, brasil,...   \n",
       "2  , agora, mae, casa, cabelo, pegar, gente, vont...   \n",
       "\n",
       "                                               Tweet  \n",
       "0  [vida, anitta, sempre, muito, base, passar, im...  \n",
       "1  [sair, candidato, voto, deus, concorrer, brasi...  \n",
       "2  [mesa, online, corte, mudar, construir, progre...  "
      ]
     },
     "execution_count": 22,
     "metadata": {},
     "output_type": "execute_result"
    }
   ],
   "source": [
    "# Group top 5 sentences under each topic\n",
    "sent_topics_sorteddf_mallet = pd.DataFrame()\n",
    "\n",
    "sent_topics_outdf_grpd = df_topic_sents_keywords.groupby('Principal_Topico')\n",
    "\n",
    "for i, grp in sent_topics_outdf_grpd:\n",
    "    sent_topics_sorteddf_mallet = pd.concat([sent_topics_sorteddf_mallet, \n",
    "                                             grp.sort_values(['Perc_Contributicao'], ascending=[0]).head(1)], \n",
    "                                            axis=0)\n",
    "\n",
    "# Reset Index    \n",
    "sent_topics_sorteddf_mallet.reset_index(drop=True, inplace=True)\n",
    "\n",
    "# Format\n",
    "sent_topics_sorteddf_mallet.columns = ['Topico', \"Topico_Perc_Contrib\", \"Palavras_Chave\", \"Tweet\"]\n",
    "\n",
    "# Show\n",
    "sent_topics_sorteddf_mallet"
   ]
  },
  {
   "cell_type": "code",
   "execution_count": 23,
   "metadata": {},
   "outputs": [
    {
     "data": {
      "text/html": [
       "<div>\n",
       "<style scoped>\n",
       "    .dataframe tbody tr th:only-of-type {\n",
       "        vertical-align: middle;\n",
       "    }\n",
       "\n",
       "    .dataframe tbody tr th {\n",
       "        vertical-align: top;\n",
       "    }\n",
       "\n",
       "    .dataframe thead th {\n",
       "        text-align: right;\n",
       "    }\n",
       "</style>\n",
       "<table border=\"1\" class=\"dataframe\">\n",
       "  <thead>\n",
       "    <tr style=\"text-align: right;\">\n",
       "      <th></th>\n",
       "      <th>Principal_Topico</th>\n",
       "      <th>Palavras_Chave</th>\n",
       "      <th>Qtd_Tweets</th>\n",
       "      <th>Perc_Tweets</th>\n",
       "    </tr>\n",
       "  </thead>\n",
       "  <tbody>\n",
       "    <tr>\n",
       "      <th>0.0</th>\n",
       "      <td>1.0</td>\n",
       "      <td>bolsonaro, presidente, quando, acabar, brasil,...</td>\n",
       "      <td>56627.0</td>\n",
       "      <td>0.3217</td>\n",
       "    </tr>\n",
       "    <tr>\n",
       "      <th>1.0</th>\n",
       "      <td>1.0</td>\n",
       "      <td>bolsonaro, presidente, quando, acabar, brasil,...</td>\n",
       "      <td>65690.0</td>\n",
       "      <td>0.3732</td>\n",
       "    </tr>\n",
       "    <tr>\n",
       "      <th>2.0</th>\n",
       "      <td>1.0</td>\n",
       "      <td>bolsonaro, presidente, quando, acabar, brasil,...</td>\n",
       "      <td>53722.0</td>\n",
       "      <td>0.3052</td>\n",
       "    </tr>\n",
       "    <tr>\n",
       "      <th>3.0</th>\n",
       "      <td>0.0</td>\n",
       "      <td>casa, pandemia, muito, presidente, mundo, vida...</td>\n",
       "      <td>NaN</td>\n",
       "      <td>NaN</td>\n",
       "    </tr>\n",
       "    <tr>\n",
       "      <th>4.0</th>\n",
       "      <td>2.0</td>\n",
       "      <td>, agora, mae, casa, cabelo, pegar, gente, vont...</td>\n",
       "      <td>NaN</td>\n",
       "      <td>NaN</td>\n",
       "    </tr>\n",
       "    <tr>\n",
       "      <th>...</th>\n",
       "      <td>...</td>\n",
       "      <td>...</td>\n",
       "      <td>...</td>\n",
       "      <td>...</td>\n",
       "    </tr>\n",
       "    <tr>\n",
       "      <th>176034.0</th>\n",
       "      <td>0.0</td>\n",
       "      <td>casa, pandemia, muito, presidente, mundo, vida...</td>\n",
       "      <td>NaN</td>\n",
       "      <td>NaN</td>\n",
       "    </tr>\n",
       "    <tr>\n",
       "      <th>176035.0</th>\n",
       "      <td>0.0</td>\n",
       "      <td>casa, pandemia, muito, presidente, mundo, vida...</td>\n",
       "      <td>NaN</td>\n",
       "      <td>NaN</td>\n",
       "    </tr>\n",
       "    <tr>\n",
       "      <th>176036.0</th>\n",
       "      <td>1.0</td>\n",
       "      <td>bolsonaro, presidente, quando, acabar, brasil,...</td>\n",
       "      <td>NaN</td>\n",
       "      <td>NaN</td>\n",
       "    </tr>\n",
       "    <tr>\n",
       "      <th>176037.0</th>\n",
       "      <td>2.0</td>\n",
       "      <td>, agora, mae, casa, cabelo, pegar, gente, vont...</td>\n",
       "      <td>NaN</td>\n",
       "      <td>NaN</td>\n",
       "    </tr>\n",
       "    <tr>\n",
       "      <th>176038.0</th>\n",
       "      <td>2.0</td>\n",
       "      <td>, agora, mae, casa, cabelo, pegar, gente, vont...</td>\n",
       "      <td>NaN</td>\n",
       "      <td>NaN</td>\n",
       "    </tr>\n",
       "  </tbody>\n",
       "</table>\n",
       "<p>176039 rows × 4 columns</p>\n",
       "</div>"
      ],
      "text/plain": [
       "          Principal_Topico                                     Palavras_Chave  \\\n",
       "0.0                    1.0  bolsonaro, presidente, quando, acabar, brasil,...   \n",
       "1.0                    1.0  bolsonaro, presidente, quando, acabar, brasil,...   \n",
       "2.0                    1.0  bolsonaro, presidente, quando, acabar, brasil,...   \n",
       "3.0                    0.0  casa, pandemia, muito, presidente, mundo, vida...   \n",
       "4.0                    2.0  , agora, mae, casa, cabelo, pegar, gente, vont...   \n",
       "...                    ...                                                ...   \n",
       "176034.0               0.0  casa, pandemia, muito, presidente, mundo, vida...   \n",
       "176035.0               0.0  casa, pandemia, muito, presidente, mundo, vida...   \n",
       "176036.0               1.0  bolsonaro, presidente, quando, acabar, brasil,...   \n",
       "176037.0               2.0  , agora, mae, casa, cabelo, pegar, gente, vont...   \n",
       "176038.0               2.0  , agora, mae, casa, cabelo, pegar, gente, vont...   \n",
       "\n",
       "          Qtd_Tweets  Perc_Tweets  \n",
       "0.0          56627.0       0.3217  \n",
       "1.0          65690.0       0.3732  \n",
       "2.0          53722.0       0.3052  \n",
       "3.0              NaN          NaN  \n",
       "4.0              NaN          NaN  \n",
       "...              ...          ...  \n",
       "176034.0         NaN          NaN  \n",
       "176035.0         NaN          NaN  \n",
       "176036.0         NaN          NaN  \n",
       "176037.0         NaN          NaN  \n",
       "176038.0         NaN          NaN  \n",
       "\n",
       "[176039 rows x 4 columns]"
      ]
     },
     "execution_count": 23,
     "metadata": {},
     "output_type": "execute_result"
    }
   ],
   "source": [
    "# Numero de tweets por topico\n",
    "\n",
    "topic_counts = df_topic_sents_keywords['Principal_Topico'].value_counts()\n",
    "\n",
    "# Porcentagem de tweets por tópico\n",
    "topic_contribution = round(topic_counts/topic_counts.sum(), 4)\n",
    "\n",
    "# Número do tópico e suas palavras chave\n",
    "topic_num_keywords = df_topic_sents_keywords[['Principal_Topico', 'Palavras_Chave']]\n",
    "\n",
    "# Concatena as colunas\n",
    "df_dominant_topics = pd.concat([topic_num_keywords, topic_counts, topic_contribution], axis=1)\n",
    "\n",
    "# Renomeia as colunas\n",
    "df_dominant_topics.columns = ['Principal_Topico', 'Palavras_Chave', 'Qtd_Tweets', 'Perc_Tweets']\n",
    "\n",
    "# Mostra o DataFrame\n",
    "df_dominant_topics"
   ]
  },
  {
   "cell_type": "code",
   "execution_count": 24,
   "metadata": {},
   "outputs": [],
   "source": [
    "# Criando stopwords em português utilizando a biblioteca nltk\n",
    "import pt_core_news_sm\n",
    "nlp = pt_core_news_sm.load()\n",
    "pt_stopwords = sorted([token.text for token in nlp.vocab if token.is_stop])\n",
    "list_exclude = ['obrigado', 'bom', 'mal', 'nenhuma', 'maior',\n",
    "             'bem', 'não', 'máximo', 'boa', 'mais',\n",
    "               'bastante', 'certamente', 'certeza', 'contra',\n",
    "                'quarentena', 'coronavírus', 'presidente', 'impeachment', 'demitido', 'demitida']\n",
    "for word in list_exclude:\n",
    "    nlp.vocab[word].is_stop = False\n",
    "list_include = set(['o', 'a', 'tá', 'ta', 'ser', 'pro', 'to', 'tô', 'vc', 'você', 'voce', 'pra',\n",
    "                    'pq', 'é', 'vou', 'que','tão', 'gt', 'de', 'da', 'do', 'em', 'uma', 'lá',\n",
    "                    'já', 'no', 'para', 'na', 'com', 'um', 'minha', 'se', 'isso', 'por', 'vou',\n",
    "                    'os', 'isso', 'como', 'mesmo', 'tenho', 'aqui', 'ele', 'ela', 'quem', 'fazer',\n",
    "                    'eu', 'só', 'ai', 'mais', 'só', 'querer', 'https', 'ter', 'estar', 'ficar',\n",
    "                    'dos', 'das', 'vcs', 'tem', 'as', 'mas','ao'\n",
    "                    'tava', 'nao', 'sao', 'ja', 'so', 'nossa',\n",
    "                    'nosso', 'estao', 'tco', 'me', 'dia', 'te', 'ver', 'sera', 'porra', 'fez', 'ne',\n",
    "                    'kkk','kkkkkk', 'puta', 'kkkkkkkk', 'hj', 'afff', 'gbr', 'meu', 'cara', 'guri', 'cmg',\n",
    "                    'ctg', 'agr', 'pqp', 'vdd', 'eh', 'va', 'obg',\n",
    "                    'corona','virus','coronavirus','covid','covid19','19'\n",
    "                   'nem', 'numa', 'num', 'nuns', 'ces', 'voces', 'oce', 'oces', 'kkkk', 'vao', 'via',\n",
    "                    'hj', 'hoje', 'tudo', 'todo', 'toda',\n",
    "                    'vir', 'bem','ao','sem','ou','vai', 'dizer', 'entao', 'dizer', 'entao',\n",
    "                    'tao', 'tu', 'mim', 'mano', 'oq', 'pos', 'dm', 'dps',\n",
    "                    'coronavirusoutbreak', 'coronavirusPandemic', 'dar', 'vairus',\n",
    "                    'ainda', 'assim']\n",
    "                  )\n",
    "for w in list_include:\n",
    "    nlp.vocab[w].is_stop = True\n",
    "stop_words = sorted([token.text for token in nlp.vocab if token.is_stop])"
   ]
  },
  {
   "cell_type": "code",
   "execution_count": 25,
   "metadata": {},
   "outputs": [
    {
     "data": {
      "image/png": "[encoded data removed]",
      "text/plain": [
       "<Figure size 720x720 with 3 Axes>"
      ]
     },
     "metadata": {
      "needs_background": "light"
     },
     "output_type": "display_data"
    }
   ],
   "source": [
    "# Cria wordclouds\n",
    "\n",
    "cols = [color for name, color in mcolors.XKCD_COLORS.items()]\n",
    "\n",
    "cloud = WordCloud(stopwords=stop_words,\n",
    "                  background_color='white',\n",
    "                  width=2500,\n",
    "                  height=1800,\n",
    "                  max_words=20,\n",
    "                  colormap='tab10',\n",
    "                  color_func=lambda *args, **kwargs: cols[i],\n",
    "                  prefer_horizontal=1.0)\n",
    "\n",
    "topics = lda_model.show_topics(formatted=False)\n",
    "\n",
    "fig, axes = plt.subplots(1, 3, figsize=(10,10), sharex=True, sharey=True)\n",
    "\n",
    "for i, ax in enumerate(axes.flatten()):\n",
    "    fig.add_subplot(ax)\n",
    "    topic_words = dict(topics[i][1])\n",
    "    cloud.generate_from_frequencies(topic_words, max_font_size=600)\n",
    "    plt.gca().imshow(cloud)\n",
    "    plt.gca().set_title('Topic ' + str(i), fontdict=dict(size=16))\n",
    "    plt.gca().axis('off')\n",
    "\n",
    "\n",
    "plt.subplots_adjust(wspace=0, hspace=0)\n",
    "plt.axis('off')\n",
    "plt.margins(x=0, y=0)\n",
    "plt.tight_layout()\n",
    "plt.show()"
   ]
  },
  {
   "cell_type": "code",
   "execution_count": 26,
   "metadata": {},
   "outputs": [],
   "source": [
    "sent_topics_sorteddf_mallet.to_excel('keywords_0328.xlsx')"
   ]
  }
 ],
 "metadata": {
  "kernelspec": {
   "display_name": "Python 3",
   "language": "python",
   "name": "python3"
  },
  "language_info": {
   "codemirror_mode": {
    "name": "ipython",
    "version": 3
   },
   "file_extension": ".py",
   "mimetype": "text/x-python",
   "name": "python",
   "nbconvert_exporter": "python",
   "pygments_lexer": "ipython3",
   "version": "3.7.6"
  }
 },
 "nbformat": 4,
 "nbformat_minor": 1
}
