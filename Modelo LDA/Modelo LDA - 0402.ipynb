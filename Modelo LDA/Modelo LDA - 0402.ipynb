{
 "cells": [
  {
   "cell_type": "markdown",
   "metadata": {
    "collapsed": true
   },
   "source": [
    "Análise do dia 02/04 através do modelo LDA."
   ]
  },
  {
   "cell_type": "code",
   "execution_count": 1,
   "metadata": {},
   "outputs": [],
   "source": [
    "# Importar bibliotecas\n",
    "\n",
    "# gerais\n",
    "import sys\n",
    "import os\n",
    "from pathlib import Path\n",
    "import re\n",
    "import numpy as np\n",
    "import pandas as pd\n",
    "from pprint import pprint\n",
    "from tqdm import tqdm\n",
    "from ast import literal_eval\n",
    "\n",
    "# Gensim\n",
    "import gensim, spacy, logging, warnings\n",
    "import gensim.corpora as corpora\n",
    "from gensim.utils import lemmatize, simple_preprocess\n",
    "from gensim.models import CoherenceModel\n",
    "from gensim.models.ldamulticore import LdaMulticore\n",
    "\n",
    "# NLTK Stop words\n",
    "import nltk\n",
    "from nltk.corpus import stopwords\n",
    "\n",
    "# sklearn\n",
    "from sklearn.feature_extraction.text import CountVectorizer\n",
    "\n",
    "#plot\n",
    "import pyLDAvis\n",
    "import pyLDAvis.gensim\n",
    "import matplotlib.pyplot as plt\n",
    "import matplotlib.colors as mcolors\n",
    "%matplotlib inline\n",
    "from wordcloud import WordCloud, STOPWORDS"
   ]
  },
  {
   "cell_type": "markdown",
   "metadata": {},
   "source": [
    "# Preparação dos dados"
   ]
  },
  {
   "cell_type": "code",
   "execution_count": 2,
   "metadata": {},
   "outputs": [],
   "source": [
    "# import dos dados\n",
    "\n",
    "df = pd.read_csv('0204_preprocessado.csv')"
   ]
  },
  {
   "cell_type": "code",
   "execution_count": 3,
   "metadata": {},
   "outputs": [],
   "source": [
    "# função para reverter os tokens processados em lista de tuples\n",
    "\n",
    "def strip_characters(text):\n",
    "    t = re.sub(r'\\(|\\)|:|,|;|\\.|’|”|“|\\?|%|>|<|\\[|\\]', '', text)\n",
    "    t = re.sub(r'/', ' ', t)\n",
    "    t = t.replace(\"'\",'')\n",
    "    return t"
   ]
  },
  {
   "cell_type": "code",
   "execution_count": 4,
   "metadata": {},
   "outputs": [],
   "source": [
    "# aplica função em todos os tokens\n",
    "\n",
    "df['token3'] = df['token3'].apply(lambda x: strip_characters(x))\n",
    "df['token3'] = df['token3'].apply(lambda x: str(x).split(' '))"
   ]
  },
  {
   "cell_type": "code",
   "execution_count": 5,
   "metadata": {},
   "outputs": [],
   "source": [
    "texto = list(df.token3)"
   ]
  },
  {
   "cell_type": "markdown",
   "metadata": {},
   "source": [
    "# Modelagem"
   ]
  },
  {
   "cell_type": "code",
   "execution_count": 6,
   "metadata": {},
   "outputs": [],
   "source": [
    "# Criar dicionário\n",
    "\n",
    "id2word = corpora.Dictionary(texto)"
   ]
  },
  {
   "cell_type": "code",
   "execution_count": 7,
   "metadata": {},
   "outputs": [],
   "source": [
    "# Criar o Corpus: A Frequência das palavras nos documentos\n",
    "\n",
    "corpus = [id2word.doc2bow(text) for text in texto]"
   ]
  },
  {
   "cell_type": "code",
   "execution_count": 8,
   "metadata": {},
   "outputs": [],
   "source": [
    "# Função para determinar a melhor quantidade de tópicos para a modelagem\n",
    "\n",
    "def compute_coherence_values(dictionary, corpus, texts, limit, start=2, step=5):\n",
    "    coherence_values = []\n",
    "    model_list = []\n",
    "    for num_topics in tqdm(range(start, limit, step)):\n",
    "        model = LdaMulticore(corpus, id2word=id2word, num_topics=10)\n",
    "        model_list.append(model)\n",
    "        coherencemodel = CoherenceModel(model=model, texts=texts, dictionary=dictionary, coherence='c_v')\n",
    "        coherence_values.append(coherencemodel.get_coherence())\n",
    "\n",
    "    return model_list, coherence_values"
   ]
  },
  {
   "cell_type": "code",
   "execution_count": 9,
   "metadata": {},
   "outputs": [
    {
     "name": "stderr",
     "output_type": "stream",
     "text": [
      "100%|██████████████████████████████████████████████████████████████████████████████████| 14/14 [10:18<00:00, 44.16s/it]\n"
     ]
    }
   ],
   "source": [
    "# Colocando parametros na função\n",
    "\n",
    "model_list, coherence_values = compute_coherence_values(dictionary=id2word, corpus=corpus, texts=texto, start=2, limit=30, step=2)"
   ]
  },
  {
   "cell_type": "code",
   "execution_count": 10,
   "metadata": {},
   "outputs": [
    {
     "data": {
      "image/png": "[encoded data removed]",
      "text/plain": [
       "<Figure size 432x288 with 1 Axes>"
      ]
     },
     "metadata": {
      "needs_background": "light"
     },
     "output_type": "display_data"
    }
   ],
   "source": [
    "# Mostrando visualmente a quantidade de tópicos\n",
    "\n",
    "limit=30; start=2; step=2;\n",
    "x = range(start, limit, step)\n",
    "plt.plot(x, coherence_values)\n",
    "plt.xlabel(\"Num Tópicos\")\n",
    "plt.ylabel(\"Score de Coerência\")\n",
    "plt.legend((\"Valores de Coerência\"), loc='best')\n",
    "plt.show()"
   ]
  },
  {
   "cell_type": "code",
   "execution_count": 11,
   "metadata": {},
   "outputs": [
    {
     "name": "stdout",
     "output_type": "stream",
     "text": [
      "A quantidade de tópicos = 2  tem um valor de coerência de  0.3309\n",
      "A quantidade de tópicos = 4  tem um valor de coerência de  0.3064\n",
      "A quantidade de tópicos = 6  tem um valor de coerência de  0.3086\n",
      "A quantidade de tópicos = 8  tem um valor de coerência de  0.3342\n",
      "A quantidade de tópicos = 10  tem um valor de coerência de  0.3186\n",
      "A quantidade de tópicos = 12  tem um valor de coerência de  0.3155\n",
      "A quantidade de tópicos = 14  tem um valor de coerência de  0.3415\n",
      "A quantidade de tópicos = 16  tem um valor de coerência de  0.3216\n",
      "A quantidade de tópicos = 18  tem um valor de coerência de  0.3087\n",
      "A quantidade de tópicos = 20  tem um valor de coerência de  0.3381\n",
      "A quantidade de tópicos = 22  tem um valor de coerência de  0.3327\n",
      "A quantidade de tópicos = 24  tem um valor de coerência de  0.3058\n",
      "A quantidade de tópicos = 26  tem um valor de coerência de  0.3254\n",
      "A quantidade de tópicos = 28  tem um valor de coerência de  0.3375\n"
     ]
    }
   ],
   "source": [
    "# Lista dos valores de coerência, para melhor identificar o ponto de inflexão do gráfico\n",
    "\n",
    "for m, cv in zip(x, coherence_values):\n",
    "    print(\"A quantidade de tópicos =\", m, \" tem um valor de coerência de \", round(cv, 4))"
   ]
  },
  {
   "cell_type": "markdown",
   "metadata": {},
   "source": [
    "Aqui conseguimos determinar a melhor quantidade de tópicos a serem analisados, que é 8 tópicos"
   ]
  },
  {
   "cell_type": "code",
   "execution_count": 18,
   "metadata": {},
   "outputs": [],
   "source": [
    "# Vamos agora construir de fato o modelo LDA\n",
    "\n",
    "lda_model = LdaMulticore(corpus=corpus,\n",
    "                        id2word=id2word,\n",
    "                        num_topics=3, \n",
    "                        random_state=42,\n",
    "                        chunksize=100,\n",
    "                        passes=10,\n",
    "                        per_word_topics=True,\n",
    "                        alpha = 0.9,\n",
    "                        eta = 0.3)"
   ]
  },
  {
   "cell_type": "code",
   "execution_count": 19,
   "metadata": {},
   "outputs": [
    {
     "name": "stdout",
     "output_type": "stream",
     "text": [
      "\n",
      "Perplexidade:  -7.072488378676285\n"
     ]
    }
   ],
   "source": [
    "# Computar a perplexidade do modelo (quanto menor, melhor)\n",
    "\n",
    "print('\\nPerplexidade: ', lda_model.log_perplexity(corpus))"
   ]
  },
  {
   "cell_type": "code",
   "execution_count": 20,
   "metadata": {},
   "outputs": [
    {
     "name": "stdout",
     "output_type": "stream",
     "text": [
      "\n",
      "Score de Coerência:  0.3748732180304053\n"
     ]
    }
   ],
   "source": [
    "# Computar o Score de Coerência\n",
    "\n",
    "coherence_model_lda = CoherenceModel(model=lda_model, texts=texto, dictionary=id2word, coherence='c_v')\n",
    "coherence_lda = coherence_model_lda.get_coherence()\n",
    "print('\\nScore de Coerência: ', coherence_lda)"
   ]
  },
  {
   "cell_type": "code",
   "execution_count": 21,
   "metadata": {},
   "outputs": [
    {
     "data": {
      "text/html": [
       "\n",
       "<link rel=\"stylesheet\" type=\"text/css\" href=\"https://cdn.rawgit.com/bmabey/pyLDAvis/files/ldavis.v1.0.0.css\">\n",
       "\n",
       "\n",
       "<div id=\"ldavis_el64881481647125192951776943\"></div>\n",
       "<script type=\"text/javascript\">\n",
       "\n",
       "var ldavis_el64881481647125192951776943_data = {\"mdsDat\": {\"x\": [-0.14449545488822935, -0.23968472479960554, 0.3841801796878348], \"y\": [-0.3511655459362532, 0.29758472788532553, 0.053580818050927966], \"topics\": [1, 2, 3], \"cluster\": [1, 1, 1], \"Freq\": [35.82344436645508, 32.2446403503418, 31.931915283203125]}, \"tinfo\": {\"Term\": [\"bolsonaro\", \"presidente\", \"pandemia\", \"\", \"casa\", \"quando\", \"gente\", \"acabar\", \"nem\", \"brasil\", \"mundo\", \"muito\", \"depois\", \"povo\", \"nada\", \"saude\", \"contra\", \"coisa\", \"deus\", \"sair\", \"governo\", \"tempo\", \"ir\", \"novo\", \"nunca\", \"vida\", \"passar\", \"agora\", \"sim\", \"meio\", \"bolsonaro\", \"presidente\", \"\", \"brasil\", \"povo\", \"saude\", \"contra\", \"governo\", \"lula\", \"doria\", \"dinheiro\", \"momento\", \"falar\", \"crise\", \"trabalho\", \"trabalhar\", \"isolamento\", \"caso\", \"sempre\", \"maior\", \"populacao\", \"ha\", \"ministerio\", \"enquanto\", \"milhoes\", \"social\", \"situacao\", \"senhor\", \"lado\", \"verdade\", \"ajudar\", \"agora\", \"pandemia\", \"casa\", \"quando\", \"acabar\", \"nem\", \"depois\", \"nada\", \"sair\", \"ir\", \"passar\", \"novo\", \"vida\", \"nunca\", \"meio\", \"logo\", \"cabelo\", \"mae\", \"tanto\", \"ninguem\", \"merda\", \"ano\", \"primeiro\", \"tava\", \"qual\", \"voltar\", \"fim\", \"pai\", \"pegar\", \"quase\", \"preciso\", \"saber\", \"agora\", \"gente\", \"mundo\", \"muito\", \"coisa\", \"deus\", \"tempo\", \"sim\", \"melhor\", \"menos\", \"bom\", \"porque\", \"video\", \"alguem\", \"vez\", \"familia\", \"pessoa\", \"pois\", \"cada\", \"hora\", \"mil\", \"semana\", \"vontade\", \"favor\", \"medo\", \"desde\", \"mal\", \"matar\", \"pouco\", \"amor\", \"morrer\", \"grande\", \"tambem\"], \"Freq\": [19433.0, 18282.0, 12058.0, 11192.0, 7796.0, 7297.0, 6573.0, 6305.0, 5793.0, 6186.0, 5224.0, 5114.0, 4675.0, 4544.0, 3912.0, 4187.0, 4099.0, 3658.0, 3587.0, 3529.0, 3334.0, 2889.0, 2876.0, 2864.0, 2755.0, 2732.0, 2723.0, 6466.0, 2498.0, 2496.0, 19432.4453125, 18282.078125, 11192.123046875, 6185.44091796875, 4543.41455078125, 4186.85888671875, 4098.70751953125, 3333.402587890625, 2414.424072265625, 2266.515869140625, 2122.061279296875, 2036.7069091796875, 2130.23779296875, 1876.137939453125, 1835.064453125, 1761.3609619140625, 1620.652587890625, 1530.2352294921875, 1474.3399658203125, 1359.263916015625, 1291.155517578125, 1302.2720947265625, 1173.9351806640625, 1287.7156982421875, 1217.889892578125, 1136.8648681640625, 1153.885009765625, 1064.242919921875, 1049.5418701171875, 1010.411376953125, 1516.810546875, 1613.220947265625, 12057.87890625, 7796.0693359375, 7296.529296875, 6305.2255859375, 5792.6455078125, 4674.814453125, 3911.788330078125, 3529.226318359375, 2875.507568359375, 2722.450439453125, 2864.1455078125, 2731.914306640625, 2754.93115234375, 2495.57568359375, 2346.381591796875, 2198.80224609375, 2162.74658203125, 1922.22607421875, 1829.522216796875, 1772.96826171875, 1698.9412841796875, 1690.4095458984375, 1583.0345458984375, 1638.0980224609375, 1505.5831298828125, 1538.812255859375, 1445.1163330078125, 1405.1705322265625, 1323.296630859375, 1271.410888671875, 1297.2425537109375, 4728.0947265625, 6573.15185546875, 5223.7021484375, 5113.5458984375, 3657.63037109375, 3587.181640625, 2889.1572265625, 2498.3330078125, 2404.788818359375, 2252.513671875, 2111.369873046875, 2415.265625, 2111.013671875, 2075.180908203125, 1944.43896484375, 1855.328369140625, 1711.8056640625, 1720.1600341796875, 1614.6060791015625, 1692.8436279296875, 1533.692138671875, 1559.0047607421875, 1438.413818359375, 1410.153564453125, 1374.3765869140625, 1312.5513916015625, 1263.0120849609375, 1235.1558837890625, 1244.0960693359375, 1188.784423828125, 1176.92578125, 1195.2291259765625, 2516.557373046875], \"Total\": [19433.0, 18282.0, 12058.0, 11192.0, 7796.0, 7297.0, 6573.0, 6305.0, 5793.0, 6186.0, 5224.0, 5114.0, 4675.0, 4544.0, 3912.0, 4187.0, 4099.0, 3658.0, 3587.0, 3529.0, 3334.0, 2889.0, 2876.0, 2864.0, 2755.0, 2732.0, 2723.0, 6466.0, 2498.0, 2496.0, 19433.08984375, 18282.716796875, 11192.7470703125, 6186.083984375, 4544.06298828125, 4187.4990234375, 4099.34619140625, 3334.0341796875, 2415.05615234375, 2267.147216796875, 2122.732421875, 2037.3812255859375, 2130.962646484375, 1876.78662109375, 1835.765380859375, 1762.041748046875, 1621.300537109375, 1530.9161376953125, 1475.0302734375, 1359.93603515625, 1291.8013916015625, 1302.9498291015625, 1174.557861328125, 1288.4005126953125, 1218.5433349609375, 1137.5162353515625, 1154.563720703125, 1064.8880615234375, 1050.2186279296875, 1011.068359375, 1522.6756591796875, 6466.150390625, 12058.7080078125, 7796.7060546875, 7297.16357421875, 6305.84130859375, 5793.298828125, 4675.44921875, 3912.457763671875, 3529.858642578125, 2876.138427734375, 2723.08642578125, 2864.82958984375, 2732.569091796875, 2755.5966796875, 2496.23388671875, 2347.016845703125, 2199.42041015625, 2163.3779296875, 1922.876708984375, 1830.1912841796875, 1773.6219482421875, 1699.586181640625, 1691.0665283203125, 1583.6673583984375, 1638.784912109375, 1506.2257080078125, 1539.4722900390625, 1445.7528076171875, 1405.8055419921875, 1323.951171875, 1272.047607421875, 1297.9093017578125, 6466.150390625, 6573.7978515625, 5224.3447265625, 5114.19091796875, 3658.277587890625, 3587.830078125, 2889.8046875, 2498.986328125, 2405.43505859375, 2253.159423828125, 2112.015380859375, 2416.011962890625, 2111.6669921875, 2075.82958984375, 1945.0875244140625, 1855.9805908203125, 1712.450927734375, 1720.831787109375, 1615.2401123046875, 1693.510498046875, 1534.3203125, 1559.647216796875, 1439.066162109375, 1410.8143310546875, 1375.0233154296875, 1313.19482421875, 1263.647216796875, 1235.7879638671875, 1244.732666015625, 1189.4259033203125, 1177.562744140625, 1195.8851318359375, 2604.74755859375], \"Category\": [\"Default\", \"Default\", \"Default\", \"Default\", \"Default\", \"Default\", \"Default\", \"Default\", \"Default\", \"Default\", \"Default\", \"Default\", \"Default\", \"Default\", \"Default\", \"Default\", \"Default\", \"Default\", \"Default\", \"Default\", \"Default\", \"Default\", \"Default\", \"Default\", \"Default\", \"Default\", \"Default\", \"Default\", \"Default\", \"Default\", \"Topic1\", \"Topic1\", \"Topic1\", \"Topic1\", \"Topic1\", \"Topic1\", \"Topic1\", \"Topic1\", \"Topic1\", \"Topic1\", \"Topic1\", \"Topic1\", \"Topic1\", \"Topic1\", \"Topic1\", \"Topic1\", \"Topic1\", \"Topic1\", \"Topic1\", \"Topic1\", \"Topic1\", \"Topic1\", \"Topic1\", \"Topic1\", \"Topic1\", \"Topic1\", \"Topic1\", \"Topic1\", \"Topic1\", \"Topic1\", \"Topic1\", \"Topic1\", \"Topic2\", \"Topic2\", \"Topic2\", \"Topic2\", \"Topic2\", \"Topic2\", \"Topic2\", \"Topic2\", \"Topic2\", \"Topic2\", \"Topic2\", \"Topic2\", \"Topic2\", \"Topic2\", \"Topic2\", \"Topic2\", \"Topic2\", \"Topic2\", \"Topic2\", \"Topic2\", \"Topic2\", \"Topic2\", \"Topic2\", \"Topic2\", \"Topic2\", \"Topic2\", \"Topic2\", \"Topic2\", \"Topic2\", \"Topic2\", \"Topic2\", \"Topic2\", \"Topic3\", \"Topic3\", \"Topic3\", \"Topic3\", \"Topic3\", \"Topic3\", \"Topic3\", \"Topic3\", \"Topic3\", \"Topic3\", \"Topic3\", \"Topic3\", \"Topic3\", \"Topic3\", \"Topic3\", \"Topic3\", \"Topic3\", \"Topic3\", \"Topic3\", \"Topic3\", \"Topic3\", \"Topic3\", \"Topic3\", \"Topic3\", \"Topic3\", \"Topic3\", \"Topic3\", \"Topic3\", \"Topic3\", \"Topic3\", \"Topic3\", \"Topic3\"], \"logprob\": [30.0, 29.0, 28.0, 27.0, 26.0, 25.0, 24.0, 23.0, 22.0, 21.0, 20.0, 19.0, 18.0, 17.0, 16.0, 15.0, 14.0, 13.0, 12.0, 11.0, 10.0, 9.0, 8.0, 7.0, 6.0, 5.0, 4.0, 3.0, 2.0, 1.0, -2.599900007247925, -2.6610000133514404, -3.151700019836426, -3.7446999549865723, -4.053199768066406, -4.134900093078613, -4.156199932098389, -4.3628997802734375, -4.685400009155273, -4.748600006103516, -4.814499855041504, -4.855500221252441, -4.8105998039245605, -4.937699794769287, -4.959799766540527, -5.000800132751465, -5.084000110626221, -5.141499996185303, -5.178699970245361, -5.259900093078613, -5.311299800872803, -5.302800178527832, -5.406499862670898, -5.314000129699707, -5.369800090789795, -5.438600063323975, -5.423699855804443, -5.5046000480651855, -5.518499851226807, -5.55649995803833, -5.150300025939941, -5.088600158691406, -2.97189998626709, -3.4079999923706055, -3.4742000102996826, -3.6201999187469482, -3.7049999237060547, -3.9193999767303467, -4.097599983215332, -4.200500011444092, -4.405399799346924, -4.460100173950195, -4.40939998626709, -4.456600189208984, -4.448200225830078, -4.547100067138672, -4.608699798583984, -4.673699855804443, -4.690199851989746, -4.80810022354126, -4.857600212097168, -4.888999938964844, -4.931600093841553, -4.936699867248535, -5.002299785614014, -4.968100070953369, -5.0524001121521, -5.030600070953369, -5.093400001525879, -5.121500015258789, -5.18149995803833, -5.221499919891357, -5.201399803161621, -3.908099889755249, -3.5689001083374023, -3.7987000942230225, -3.819999933242798, -4.155099868774414, -4.174499988555908, -4.390900135040283, -4.536300182342529, -4.574399948120117, -4.639800071716309, -4.704500198364258, -4.570099830627441, -4.704699993133545, -4.721799850463867, -4.786900043487549, -4.833799839019775, -4.914299964904785, -4.9095001220703125, -4.972799777984619, -4.92549991607666, -5.024199962615967, -5.007800102233887, -5.0883002281188965, -5.1082000732421875, -5.133900165557861, -5.179900169372559, -5.218400001525879, -5.240699768066406, -5.233500003814697, -5.278900146484375, -5.289000034332275, -5.273499965667725, -4.5289998054504395], \"loglift\": [30.0, 29.0, 28.0, 27.0, 26.0, 25.0, 24.0, 23.0, 22.0, 21.0, 20.0, 19.0, 18.0, 17.0, 16.0, 15.0, 14.0, 13.0, 12.0, 11.0, 10.0, 9.0, 8.0, 7.0, 6.0, 5.0, 4.0, 3.0, 2.0, 1.0, 1.0264999866485596, 1.0264999866485596, 1.0264999866485596, 1.0264999866485596, 1.0263999700546265, 1.0263999700546265, 1.0263999700546265, 1.0263999700546265, 1.0262999534606934, 1.0262999534606934, 1.0262999534606934, 1.0262000560760498, 1.0262000560760498, 1.0262000560760498, 1.0262000560760498, 1.0262000560760498, 1.0262000560760498, 1.0261000394821167, 1.0261000394821167, 1.0261000394821167, 1.0261000394821167, 1.0260000228881836, 1.0260000228881836, 1.0260000228881836, 1.0260000228881836, 1.0260000228881836, 1.0260000228881836, 1.0260000228881836, 1.0259000062942505, 1.0259000062942505, 1.0226999521255493, -0.3617999851703644, 1.131700038909912, 1.131700038909912, 1.131700038909912, 1.131700038909912, 1.131700038909912, 1.131700038909912, 1.131600022315979, 1.131600022315979, 1.131600022315979, 1.131600022315979, 1.131600022315979, 1.131600022315979, 1.131600022315979, 1.131600022315979, 1.131500005722046, 1.131500005722046, 1.131500005722046, 1.131500005722046, 1.131500005722046, 1.1313999891281128, 1.1313999891281128, 1.1313999891281128, 1.1313999891281128, 1.1313999891281128, 1.1313999891281128, 1.1313999891281128, 1.1313999891281128, 1.1313999891281128, 1.1312999725341797, 1.1312999725341797, 1.1312999725341797, 0.8187999725341797, 1.1414999961853027, 1.1413999795913696, 1.1413999795913696, 1.1413999795913696, 1.1413999795913696, 1.1412999629974365, 1.1412999629974365, 1.1412999629974365, 1.1412999629974365, 1.1412999629974365, 1.1412999629974365, 1.1412999629974365, 1.1412999629974365, 1.1411999464035034, 1.1411999464035034, 1.1411999464035034, 1.1411999464035034, 1.1411999464035034, 1.1411999464035034, 1.1411999464035034, 1.1411999464035034, 1.1411000490188599, 1.1411000490188599, 1.1411000490188599, 1.1411000490188599, 1.1411000490188599, 1.1411000490188599, 1.1411000490188599, 1.1410000324249268, 1.1410000324249268, 1.1410000324249268, 1.107100009918213]}, \"token.table\": {\"Topic\": [1, 2, 1, 2, 3, 1, 3, 3, 3, 2, 1, 3, 1, 2, 3, 2, 1, 3, 1, 1, 2, 3, 3, 1, 1, 1, 1, 3, 3, 2, 3, 1, 3, 1, 3, 2, 1, 1, 2, 1, 2, 1, 3, 3, 3, 2, 3, 3, 2, 3, 1, 1, 1, 3, 3, 3, 2, 2, 2, 2, 2, 2, 2, 2, 2, 3, 3, 1, 3, 3, 1, 2, 1, 2, 2, 2, 2, 2, 2, 1, 3, 1, 1, 3, 1, 1, 1, 3, 2, 2, 3, 1, 1, 1, 3, 2, 3, 2, 3], \"Freq\": [0.9999332427978516, 0.9998666048049927, 0.24945290386676788, 0.731192409992218, 0.019331440329551697, 0.9962725639343262, 0.003940431866794825, 0.999600350856781, 0.9996419548988342, 0.9996551275253296, 0.9999439120292664, 0.9995192289352417, 0.9998247623443604, 0.9998088479042053, 0.9998513460159302, 0.9999094605445862, 0.9994015693664551, 0.9999241232872009, 0.9999155402183533, 0.9995808601379395, 0.9999039173126221, 0.999851644039154, 0.9997686147689819, 0.9996549487113953, 0.9999350905418396, 0.9996891617774963, 0.9995482563972473, 0.9994716644287109, 0.9994227886199951, 0.9996932148933411, 0.9998786449432373, 0.9996898174285889, 0.9992598295211792, 0.999271035194397, 0.9996985793113708, 0.9999518990516663, 0.9998146295547485, 0.9997918009757996, 0.9995667338371277, 0.999562680721283, 0.9998252987861633, 0.9993116855621338, 0.9994878172874451, 0.9993624091148376, 0.9992557764053345, 0.9999063014984131, 0.9998191595077515, 0.9999292492866516, 0.9996493458747864, 0.9997912645339966, 0.9995540976524353, 0.9995250701904297, 0.99981290102005, 0.9995220899581909, 0.9999626874923706, 0.9999340176582336, 0.9998829960823059, 0.9999484419822693, 0.9998955130577087, 0.9997104406356812, 0.999783456325531, 0.9994792938232422, 0.9999412894248962, 0.9996010065078735, 0.9994269609451294, 0.9997366666793823, 0.9995166659355164, 0.9993796348571777, 0.9995811581611633, 0.999411404132843, 0.9997660517692566, 0.9991764426231384, 0.9999607801437378, 0.9993693232536316, 0.999521017074585, 0.9999775886535645, 0.9992815852165222, 0.9992994070053101, 0.9997567534446716, 0.999880850315094, 0.9995850324630737, 0.999301552772522, 0.9991660714149475, 0.9996052980422974, 0.99951171875, 0.9995461702346802, 0.03378446400165558, 0.9663124680519104, 0.999544084072113, 0.999578595161438, 0.9997215270996094, 0.9994087815284729, 0.9995830655097961, 0.9989433288574219, 0.9994409084320068, 0.9997917413711548, 0.9996841549873352, 0.9998501539230347, 0.9992591142654419], \"Term\": [\"\", \"acabar\", \"agora\", \"agora\", \"agora\", \"ajudar\", \"ajudar\", \"alguem\", \"amor\", \"ano\", \"bolsonaro\", \"bom\", \"brasil\", \"cabelo\", \"cada\", \"casa\", \"caso\", \"coisa\", \"contra\", \"crise\", \"depois\", \"desde\", \"deus\", \"dinheiro\", \"doria\", \"enquanto\", \"falar\", \"familia\", \"favor\", \"fim\", \"gente\", \"governo\", \"grande\", \"ha\", \"hora\", \"ir\", \"isolamento\", \"lado\", \"logo\", \"lula\", \"mae\", \"maior\", \"mal\", \"matar\", \"medo\", \"meio\", \"melhor\", \"menos\", \"merda\", \"mil\", \"milhoes\", \"ministerio\", \"momento\", \"morrer\", \"muito\", \"mundo\", \"nada\", \"nem\", \"ninguem\", \"novo\", \"nunca\", \"pai\", \"pandemia\", \"passar\", \"pegar\", \"pessoa\", \"pois\", \"populacao\", \"porque\", \"pouco\", \"povo\", \"preciso\", \"presidente\", \"primeiro\", \"qual\", \"quando\", \"quase\", \"saber\", \"sair\", \"saude\", \"semana\", \"sempre\", \"senhor\", \"sim\", \"situacao\", \"social\", \"tambem\", \"tambem\", \"tanto\", \"tava\", \"tempo\", \"trabalhar\", \"trabalho\", \"verdade\", \"vez\", \"vida\", \"video\", \"voltar\", \"vontade\"]}, \"R\": 30, \"lambda.step\": 0.01, \"plot.opts\": {\"xlab\": \"PC1\", \"ylab\": \"PC2\"}, \"topic.order\": [3, 2, 1]};\n",
       "\n",
       "function LDAvis_load_lib(url, callback){\n",
       "  var s = document.createElement('script');\n",
       "  s.src = url;\n",
       "  s.async = true;\n",
       "  s.onreadystatechange = s.onload = callback;\n",
       "  s.onerror = function(){console.warn(\"failed to load library \" + url);};\n",
       "  document.getElementsByTagName(\"head\")[0].appendChild(s);\n",
       "}\n",
       "\n",
       "if(typeof(LDAvis) !== \"undefined\"){\n",
       "   // already loaded: just create the visualization\n",
       "   !function(LDAvis){\n",
       "       new LDAvis(\"#\" + \"ldavis_el64881481647125192951776943\", ldavis_el64881481647125192951776943_data);\n",
       "   }(LDAvis);\n",
       "}else if(typeof define === \"function\" && define.amd){\n",
       "   // require.js is available: use it to load d3/LDAvis\n",
       "   require.config({paths: {d3: \"https://cdnjs.cloudflare.com/ajax/libs/d3/3.5.5/d3.min\"}});\n",
       "   require([\"d3\"], function(d3){\n",
       "      window.d3 = d3;\n",
       "      LDAvis_load_lib(\"https://cdn.rawgit.com/bmabey/pyLDAvis/files/ldavis.v1.0.0.js\", function(){\n",
       "        new LDAvis(\"#\" + \"ldavis_el64881481647125192951776943\", ldavis_el64881481647125192951776943_data);\n",
       "      });\n",
       "    });\n",
       "}else{\n",
       "    // require.js not available: dynamically load d3 & LDAvis\n",
       "    LDAvis_load_lib(\"https://cdnjs.cloudflare.com/ajax/libs/d3/3.5.5/d3.min.js\", function(){\n",
       "         LDAvis_load_lib(\"https://cdn.rawgit.com/bmabey/pyLDAvis/files/ldavis.v1.0.0.js\", function(){\n",
       "                 new LDAvis(\"#\" + \"ldavis_el64881481647125192951776943\", ldavis_el64881481647125192951776943_data);\n",
       "            })\n",
       "         });\n",
       "}\n",
       "</script>"
      ],
      "text/plain": [
       "PreparedData(topic_coordinates=              x         y  topics  cluster       Freq\n",
       "topic                                                \n",
       "2     -0.144495 -0.351166       1        1  35.823444\n",
       "1     -0.239685  0.297585       2        1  32.244640\n",
       "0      0.384180  0.053581       3        1  31.931915, topic_info=           Term          Freq         Total Category  logprob  loglift\n",
       "0     bolsonaro  19433.000000  19433.000000  Default  30.0000  30.0000\n",
       "18   presidente  18282.000000  18282.000000  Default  29.0000  29.0000\n",
       "16     pandemia  12058.000000  12058.000000  Default  28.0000  28.0000\n",
       "31               11192.000000  11192.000000  Default  27.0000  27.0000\n",
       "21         casa   7796.000000   7796.000000  Default  26.0000  26.0000\n",
       "..          ...           ...           ...      ...      ...      ...\n",
       "104       pouco   1244.096069   1244.732666   Topic3  -5.2335   1.1411\n",
       "246        amor   1188.784424   1189.425903   Topic3  -5.2789   1.1410\n",
       "650      morrer   1176.925781   1177.562744   Topic3  -5.2890   1.1410\n",
       "339      grande   1195.229126   1195.885132   Topic3  -5.2735   1.1410\n",
       "179      tambem   2516.557373   2604.747559   Topic3  -4.5290   1.1071\n",
       "\n",
       "[126 rows x 6 columns], token_table=      Topic      Freq     Term\n",
       "term                          \n",
       "31        1  0.999933         \n",
       "25        2  0.999867   acabar\n",
       "32        1  0.249453    agora\n",
       "32        2  0.731192    agora\n",
       "32        3  0.019331    agora\n",
       "...     ...       ...      ...\n",
       "93        3  0.999441      vez\n",
       "86        2  0.999792     vida\n",
       "149       3  0.999684    video\n",
       "453       2  0.999850   voltar\n",
       "44        3  0.999259  vontade\n",
       "\n",
       "[99 rows x 3 columns], R=30, lambda_step=0.01, plot_opts={'xlab': 'PC1', 'ylab': 'PC2'}, topic_order=[3, 2, 1])"
      ]
     },
     "execution_count": 21,
     "metadata": {},
     "output_type": "execute_result"
    }
   ],
   "source": [
    "# Visualização dos tópicos em clusters\n",
    "\n",
    "pyLDAvis.enable_notebook()\n",
    "vis = pyLDAvis.gensim.prepare(lda_model, corpus, id2word)\n",
    "vis"
   ]
  },
  {
   "cell_type": "code",
   "execution_count": 22,
   "metadata": {},
   "outputs": [],
   "source": [
    "# Função para determinar a melhor quantidade de tópicos para a modelagem\n",
    "\n",
    "def compute_coherence_values(dictionary, corpus, texts, limit, start=2, step=5):\n",
    "    coherence_values = []\n",
    "    model_list = []\n",
    "    for num_topics in tqdm(range(start, limit, step)):\n",
    "        model = LdaMulticore(corpus, id2word=id2word, num_topics=3)\n",
    "        model_list.append(model)\n",
    "        coherencemodel = CoherenceModel(model=model, texts=texts, dictionary=dictionary, coherence='c_v')\n",
    "        coherence_values.append(coherencemodel.get_coherence())\n",
    "\n",
    "    return model_list, coherence_values"
   ]
  },
  {
   "cell_type": "code",
   "execution_count": 23,
   "metadata": {},
   "outputs": [
    {
     "name": "stderr",
     "output_type": "stream",
     "text": [
      "100%|████████████████████████████████████████████████████████████████████████████████████| 1/1 [00:49<00:00, 49.75s/it]\n"
     ]
    }
   ],
   "source": [
    "# Colocando parametros na função\n",
    "\n",
    "model_list, coherence_values = compute_coherence_values(dictionary=id2word, corpus=corpus, texts=texto, start=2, limit=4, step=2)"
   ]
  },
  {
   "cell_type": "code",
   "execution_count": 24,
   "metadata": {},
   "outputs": [
    {
     "data": {
      "text/plain": [
       "[(0,\n",
       "  '0.027*\"pandemia\" + 0.026*\"casa\" + 0.016*\"gente\" + 0.011*\"mundo\" + 0.010*\"deus\" + 0.010*\"ir\" + 0.009*\"agora\" + 0.008*\"quando\" + 0.008*\"nunca\" + 0.008*\"nem\" + 0.008*\"menos\" + 0.007*\"mae\" + 0.007*\"logo\" + 0.007*\"coisa\" + 0.007*\"cabelo\" + 0.007*\"nada\" + 0.007*\"meio\" + 0.006*\"depois\" + 0.006*\"muito\" + 0.006*\"tempo\"'),\n",
       " (1,\n",
       "  '0.079*\"bolsonaro\" + 0.052*\"presidente\" + 0.051*\"\" + 0.015*\"povo\" + 0.014*\"contra\" + 0.012*\"governo\" + 0.012*\"agora\" + 0.009*\"pandemia\" + 0.009*\"lula\" + 0.009*\"brasil\" + 0.009*\"doria\" + 0.008*\"nem\" + 0.005*\"tambem\" + 0.005*\"momento\" + 0.005*\"sim\" + 0.005*\"porque\" + 0.004*\"jair\" + 0.004*\"dinheiro\" + 0.004*\"falar\" + 0.004*\"merda\"'),\n",
       " (2,\n",
       "  '0.026*\"acabar\" + 0.024*\"presidente\" + 0.022*\"quando\" + 0.019*\"brasil\" + 0.017*\"saude\" + 0.013*\"muito\" + 0.013*\"depois\" + 0.011*\"pandemia\" + 0.010*\"sair\" + 0.010*\"novo\" + 0.008*\"gente\" + 0.008*\"primeiro\" + 0.007*\"video\" + 0.007*\"caso\" + 0.007*\"nem\" + 0.006*\"nada\" + 0.006*\"mil\" + 0.006*\"vida\" + 0.006*\"passar\" + 0.006*\"coisa\"')]"
      ]
     },
     "execution_count": 24,
     "metadata": {},
     "output_type": "execute_result"
    }
   ],
   "source": [
    "# Escolhe o modelo\n",
    "\n",
    "optimal_model = model_list[0]\n",
    "optimal_model.print_topics(num_topics = 3, num_words = 20)"
   ]
  },
  {
   "cell_type": "code",
   "execution_count": 25,
   "metadata": {},
   "outputs": [],
   "source": [
    "# Encontrar qual o principal tópico em cada tweet\n",
    "\n",
    "def format_topics_sentences(ldamodel=lda_model, corpus=corpus, texts=texto):\n",
    "    # Output\n",
    "    sent_topics_df = pd.DataFrame()\n",
    "\n",
    "    # Seleciona o principal tópico de cada tweet\n",
    "    for i, row in enumerate(ldamodel[corpus]):\n",
    "        row = sorted(row, key=lambda x: (x[1]), reverse=True)\n",
    "        # Calcula o principal tópico, o percentual de contribuição e as palavras chaves de cada tweet\n",
    "        for j, (topic_num, prop_topic) in enumerate(row):\n",
    "            if j == 0:  # => mostra o principal tópico\n",
    "                wp = ldamodel.show_topic(topic_num)\n",
    "                topic_keywords = \", \".join([word for word, prop in wp])\n",
    "                sent_topics_df = sent_topics_df.append(pd.Series([int(topic_num), round(prop_topic,4), topic_keywords]), ignore_index=True)\n",
    "            else:\n",
    "                break\n",
    "    sent_topics_df.columns = ['Principal_Topico', 'Perc_Contributicao', 'Palavras_Chave']\n",
    "\n",
    "    # Inclui o texto original no final do DataFrame\n",
    "    contents = pd.Series(texts)\n",
    "    sent_topics_df = pd.concat([sent_topics_df, contents], axis=1)\n",
    "    return(sent_topics_df)"
   ]
  },
  {
   "cell_type": "code",
   "execution_count": 26,
   "metadata": {},
   "outputs": [],
   "source": [
    "# roda a função de calcular os principais tópicos de cada tweet\n",
    "\n",
    "df_topic_sents_keywords = format_topics_sentences(ldamodel=optimal_model, corpus=corpus, texts=texto)"
   ]
  },
  {
   "cell_type": "code",
   "execution_count": 27,
   "metadata": {},
   "outputs": [],
   "source": [
    "# Formata o DataFrame\n",
    "\n",
    "df_dominant_topic = df_topic_sents_keywords.reset_index()\n",
    "df_dominant_topic.columns = ['Index_DF_Original', 'Principal_Topico', 'Perc_Contrib_Topico', 'Palavras_Chave', 'Tweets']"
   ]
  },
  {
   "cell_type": "code",
   "execution_count": 28,
   "metadata": {
    "scrolled": true
   },
   "outputs": [
    {
     "data": {
      "text/html": [
       "<div>\n",
       "<style scoped>\n",
       "    .dataframe tbody tr th:only-of-type {\n",
       "        vertical-align: middle;\n",
       "    }\n",
       "\n",
       "    .dataframe tbody tr th {\n",
       "        vertical-align: top;\n",
       "    }\n",
       "\n",
       "    .dataframe thead th {\n",
       "        text-align: right;\n",
       "    }\n",
       "</style>\n",
       "<table border=\"1\" class=\"dataframe\">\n",
       "  <thead>\n",
       "    <tr style=\"text-align: right;\">\n",
       "      <th></th>\n",
       "      <th>Topico</th>\n",
       "      <th>Topico_Perc_Contrib</th>\n",
       "      <th>Palavras_Chave</th>\n",
       "      <th>Tweet</th>\n",
       "    </tr>\n",
       "  </thead>\n",
       "  <tbody>\n",
       "    <tr>\n",
       "      <th>0</th>\n",
       "      <td>0.0</td>\n",
       "      <td>0.9604</td>\n",
       "      <td>pandemia, casa, gente, mundo, deus, ir, agora,...</td>\n",
       "      <td>[irma, irmao, tempo, casa, embora, comigo, sur...</td>\n",
       "    </tr>\n",
       "    <tr>\n",
       "      <th>1</th>\n",
       "      <td>1.0</td>\n",
       "      <td>0.9663</td>\n",
       "      <td>bolsonaro, presidente, , povo, contra, governo...</td>\n",
       "      <td>[desflopando, exposed, daddy, volta, marcela, ...</td>\n",
       "    </tr>\n",
       "    <tr>\n",
       "      <th>2</th>\n",
       "      <td>2.0</td>\n",
       "      <td>0.9546</td>\n",
       "      <td>acabar, presidente, quando, brasil, saude, mui...</td>\n",
       "      <td>[marco, caso, oms, quase, brasil, depois, bom,...</td>\n",
       "    </tr>\n",
       "  </tbody>\n",
       "</table>\n",
       "</div>"
      ],
      "text/plain": [
       "   Topico  Topico_Perc_Contrib  \\\n",
       "0     0.0               0.9604   \n",
       "1     1.0               0.9663   \n",
       "2     2.0               0.9546   \n",
       "\n",
       "                                      Palavras_Chave  \\\n",
       "0  pandemia, casa, gente, mundo, deus, ir, agora,...   \n",
       "1  bolsonaro, presidente, , povo, contra, governo...   \n",
       "2  acabar, presidente, quando, brasil, saude, mui...   \n",
       "\n",
       "                                               Tweet  \n",
       "0  [irma, irmao, tempo, casa, embora, comigo, sur...  \n",
       "1  [desflopando, exposed, daddy, volta, marcela, ...  \n",
       "2  [marco, caso, oms, quase, brasil, depois, bom,...  "
      ]
     },
     "execution_count": 28,
     "metadata": {},
     "output_type": "execute_result"
    }
   ],
   "source": [
    "# Group top 5 sentences under each topic\n",
    "sent_topics_sorteddf_mallet = pd.DataFrame()\n",
    "\n",
    "sent_topics_outdf_grpd = df_topic_sents_keywords.groupby('Principal_Topico')\n",
    "\n",
    "for i, grp in sent_topics_outdf_grpd:\n",
    "    sent_topics_sorteddf_mallet = pd.concat([sent_topics_sorteddf_mallet, \n",
    "                                             grp.sort_values(['Perc_Contributicao'], ascending=[0]).head(1)], \n",
    "                                            axis=0)\n",
    "\n",
    "# Reset Index    \n",
    "sent_topics_sorteddf_mallet.reset_index(drop=True, inplace=True)\n",
    "\n",
    "# Format\n",
    "sent_topics_sorteddf_mallet.columns = ['Topico', \"Topico_Perc_Contrib\", \"Palavras_Chave\", \"Tweet\"]\n",
    "\n",
    "# Show\n",
    "sent_topics_sorteddf_mallet"
   ]
  },
  {
   "cell_type": "code",
   "execution_count": 29,
   "metadata": {},
   "outputs": [
    {
     "data": {
      "text/html": [
       "<div>\n",
       "<style scoped>\n",
       "    .dataframe tbody tr th:only-of-type {\n",
       "        vertical-align: middle;\n",
       "    }\n",
       "\n",
       "    .dataframe tbody tr th {\n",
       "        vertical-align: top;\n",
       "    }\n",
       "\n",
       "    .dataframe thead th {\n",
       "        text-align: right;\n",
       "    }\n",
       "</style>\n",
       "<table border=\"1\" class=\"dataframe\">\n",
       "  <thead>\n",
       "    <tr style=\"text-align: right;\">\n",
       "      <th></th>\n",
       "      <th>Principal_Topico</th>\n",
       "      <th>Palavras_Chave</th>\n",
       "      <th>Qtd_Tweets</th>\n",
       "      <th>Perc_Tweets</th>\n",
       "    </tr>\n",
       "  </thead>\n",
       "  <tbody>\n",
       "    <tr>\n",
       "      <th>0.0</th>\n",
       "      <td>1.0</td>\n",
       "      <td>bolsonaro, presidente, , povo, contra, governo...</td>\n",
       "      <td>64143.0</td>\n",
       "      <td>0.3740</td>\n",
       "    </tr>\n",
       "    <tr>\n",
       "      <th>1.0</th>\n",
       "      <td>0.0</td>\n",
       "      <td>pandemia, casa, gente, mundo, deus, ir, agora,...</td>\n",
       "      <td>59225.0</td>\n",
       "      <td>0.3453</td>\n",
       "    </tr>\n",
       "    <tr>\n",
       "      <th>2.0</th>\n",
       "      <td>0.0</td>\n",
       "      <td>pandemia, casa, gente, mundo, deus, ir, agora,...</td>\n",
       "      <td>48158.0</td>\n",
       "      <td>0.2808</td>\n",
       "    </tr>\n",
       "    <tr>\n",
       "      <th>3.0</th>\n",
       "      <td>1.0</td>\n",
       "      <td>bolsonaro, presidente, , povo, contra, governo...</td>\n",
       "      <td>NaN</td>\n",
       "      <td>NaN</td>\n",
       "    </tr>\n",
       "    <tr>\n",
       "      <th>4.0</th>\n",
       "      <td>0.0</td>\n",
       "      <td>pandemia, casa, gente, mundo, deus, ir, agora,...</td>\n",
       "      <td>NaN</td>\n",
       "      <td>NaN</td>\n",
       "    </tr>\n",
       "    <tr>\n",
       "      <th>...</th>\n",
       "      <td>...</td>\n",
       "      <td>...</td>\n",
       "      <td>...</td>\n",
       "      <td>...</td>\n",
       "    </tr>\n",
       "    <tr>\n",
       "      <th>171521.0</th>\n",
       "      <td>1.0</td>\n",
       "      <td>bolsonaro, presidente, , povo, contra, governo...</td>\n",
       "      <td>NaN</td>\n",
       "      <td>NaN</td>\n",
       "    </tr>\n",
       "    <tr>\n",
       "      <th>171522.0</th>\n",
       "      <td>1.0</td>\n",
       "      <td>bolsonaro, presidente, , povo, contra, governo...</td>\n",
       "      <td>NaN</td>\n",
       "      <td>NaN</td>\n",
       "    </tr>\n",
       "    <tr>\n",
       "      <th>171523.0</th>\n",
       "      <td>2.0</td>\n",
       "      <td>acabar, presidente, quando, brasil, saude, mui...</td>\n",
       "      <td>NaN</td>\n",
       "      <td>NaN</td>\n",
       "    </tr>\n",
       "    <tr>\n",
       "      <th>171524.0</th>\n",
       "      <td>1.0</td>\n",
       "      <td>bolsonaro, presidente, , povo, contra, governo...</td>\n",
       "      <td>NaN</td>\n",
       "      <td>NaN</td>\n",
       "    </tr>\n",
       "    <tr>\n",
       "      <th>171525.0</th>\n",
       "      <td>2.0</td>\n",
       "      <td>acabar, presidente, quando, brasil, saude, mui...</td>\n",
       "      <td>NaN</td>\n",
       "      <td>NaN</td>\n",
       "    </tr>\n",
       "  </tbody>\n",
       "</table>\n",
       "<p>171526 rows × 4 columns</p>\n",
       "</div>"
      ],
      "text/plain": [
       "          Principal_Topico                                     Palavras_Chave  \\\n",
       "0.0                    1.0  bolsonaro, presidente, , povo, contra, governo...   \n",
       "1.0                    0.0  pandemia, casa, gente, mundo, deus, ir, agora,...   \n",
       "2.0                    0.0  pandemia, casa, gente, mundo, deus, ir, agora,...   \n",
       "3.0                    1.0  bolsonaro, presidente, , povo, contra, governo...   \n",
       "4.0                    0.0  pandemia, casa, gente, mundo, deus, ir, agora,...   \n",
       "...                    ...                                                ...   \n",
       "171521.0               1.0  bolsonaro, presidente, , povo, contra, governo...   \n",
       "171522.0               1.0  bolsonaro, presidente, , povo, contra, governo...   \n",
       "171523.0               2.0  acabar, presidente, quando, brasil, saude, mui...   \n",
       "171524.0               1.0  bolsonaro, presidente, , povo, contra, governo...   \n",
       "171525.0               2.0  acabar, presidente, quando, brasil, saude, mui...   \n",
       "\n",
       "          Qtd_Tweets  Perc_Tweets  \n",
       "0.0          64143.0       0.3740  \n",
       "1.0          59225.0       0.3453  \n",
       "2.0          48158.0       0.2808  \n",
       "3.0              NaN          NaN  \n",
       "4.0              NaN          NaN  \n",
       "...              ...          ...  \n",
       "171521.0         NaN          NaN  \n",
       "171522.0         NaN          NaN  \n",
       "171523.0         NaN          NaN  \n",
       "171524.0         NaN          NaN  \n",
       "171525.0         NaN          NaN  \n",
       "\n",
       "[171526 rows x 4 columns]"
      ]
     },
     "execution_count": 29,
     "metadata": {},
     "output_type": "execute_result"
    }
   ],
   "source": [
    "# Numero de tweets por topico\n",
    "\n",
    "topic_counts = df_topic_sents_keywords['Principal_Topico'].value_counts()\n",
    "\n",
    "# Porcentagem de tweets por tópico\n",
    "topic_contribution = round(topic_counts/topic_counts.sum(), 4)\n",
    "\n",
    "# Número do tópico e suas palavras chave\n",
    "topic_num_keywords = df_topic_sents_keywords[['Principal_Topico', 'Palavras_Chave']]\n",
    "\n",
    "# Concatena as colunas\n",
    "df_dominant_topics = pd.concat([topic_num_keywords, topic_counts, topic_contribution], axis=1)\n",
    "\n",
    "# Renomeia as colunas\n",
    "df_dominant_topics.columns = ['Principal_Topico', 'Palavras_Chave', 'Qtd_Tweets', 'Perc_Tweets']\n",
    "\n",
    "# Mostra o DataFrame\n",
    "df_dominant_topics"
   ]
  },
  {
   "cell_type": "code",
   "execution_count": 30,
   "metadata": {},
   "outputs": [],
   "source": [
    "# Criando stopwords em português utilizando a biblioteca nltk\n",
    "import pt_core_news_sm\n",
    "nlp = pt_core_news_sm.load()\n",
    "pt_stopwords = sorted([token.text for token in nlp.vocab if token.is_stop])\n",
    "list_exclude = ['obrigado', 'bom', 'mal', 'nenhuma', 'maior',\n",
    "             'bem', 'não', 'máximo', 'boa', 'mais',\n",
    "               'bastante', 'certamente', 'certeza', 'contra',\n",
    "                'quarentena', 'coronavírus', 'presidente', 'impeachment', 'demitido', 'demitida']\n",
    "for word in list_exclude:\n",
    "    nlp.vocab[word].is_stop = False\n",
    "list_include = set(['o', 'a', 'tá', 'ta', 'ser', 'pro', 'to', 'tô', 'vc', 'você', 'voce', 'pra',\n",
    "                    'pq', 'é', 'vou', 'que','tão', 'gt', 'de', 'da', 'do', 'em', 'uma', 'lá',\n",
    "                    'já', 'no', 'para', 'na', 'com', 'um', 'minha', 'se', 'isso', 'por', 'vou',\n",
    "                    'os', 'isso', 'como', 'mesmo', 'tenho', 'aqui', 'ele', 'ela', 'quem', 'fazer',\n",
    "                    'eu', 'só', 'ai', 'mais', 'só', 'querer', 'https', 'ter', 'estar', 'ficar',\n",
    "                    'dos', 'das', 'vcs', 'tem', 'as', 'mas','ao'\n",
    "                    'tava', 'nao', 'sao', 'ja', 'so', 'nossa',\n",
    "                    'nosso', 'estao', 'tco', 'me', 'dia', 'te', 'ver', 'sera', 'porra', 'fez', 'ne',\n",
    "                    'kkk','kkkkkk', 'puta', 'kkkkkkkk', 'hj', 'afff', 'gbr', 'meu', 'cara', 'guri', 'cmg',\n",
    "                    'ctg', 'agr', 'pqp', 'vdd', 'eh', 'va', 'obg',\n",
    "                    'corona','virus','coronavirus','covid','covid19','19'\n",
    "                   'nem', 'numa', 'num', 'nuns', 'ces', 'voces', 'oce', 'oces', 'kkkk', 'vao', 'via',\n",
    "                    'hj', 'hoje', 'tudo', 'todo', 'toda',\n",
    "                    'vir', 'bem','ao','sem','ou','vai', 'dizer', 'entao', 'dizer', 'entao',\n",
    "                    'tao', 'tu', 'mim', 'mano', 'oq', 'pos', 'dm', 'dps',\n",
    "                    'coronavirusoutbreak', 'coronavirusPandemic', 'dar', 'vairus',\n",
    "                    'ainda', 'assim']\n",
    "                  )\n",
    "for w in list_include:\n",
    "    nlp.vocab[w].is_stop = True\n",
    "stop_words = sorted([token.text for token in nlp.vocab if token.is_stop])"
   ]
  },
  {
   "cell_type": "code",
   "execution_count": 33,
   "metadata": {},
   "outputs": [
    {
     "data": {
      "image/png": "[encoded data removed]",
      "text/plain": [
       "<Figure size 720x720 with 3 Axes>"
      ]
     },
     "metadata": {
      "needs_background": "light"
     },
     "output_type": "display_data"
    }
   ],
   "source": [
    "# Cria wordclouds\n",
    "\n",
    "cols = [color for name, color in mcolors.XKCD_COLORS.items()]\n",
    "\n",
    "cloud = WordCloud(stopwords=stop_words,\n",
    "                  background_color='white',\n",
    "                  width=2500,\n",
    "                  height=1800,\n",
    "                  max_words=20,\n",
    "                  colormap='tab10',\n",
    "                  color_func=lambda *args, **kwargs: cols[i],\n",
    "                  prefer_horizontal=1.0)\n",
    "\n",
    "topics = lda_model.show_topics(formatted=False)\n",
    "\n",
    "fig, axes = plt.subplots(1, 3, figsize=(10,10), sharex=True, sharey=True)\n",
    "\n",
    "for i, ax in enumerate(axes.flatten()):\n",
    "    fig.add_subplot(ax)\n",
    "    topic_words = dict(topics[i][1])\n",
    "    cloud.generate_from_frequencies(topic_words, max_font_size=600)\n",
    "    plt.gca().imshow(cloud)\n",
    "    plt.gca().set_title('Topic ' + str(i), fontdict=dict(size=16))\n",
    "    plt.gca().axis('off')\n",
    "\n",
    "\n",
    "plt.subplots_adjust(wspace=0, hspace=0)\n",
    "plt.axis('off')\n",
    "plt.margins(x=0, y=0)\n",
    "plt.tight_layout()\n",
    "plt.show()"
   ]
  },
  {
   "cell_type": "code",
   "execution_count": 34,
   "metadata": {},
   "outputs": [],
   "source": [
    "sent_topics_sorteddf_mallet.to_excel('keywords_0402.xlsx')"
   ]
  },
  {
   "cell_type": "code",
   "execution_count": null,
   "metadata": {},
   "outputs": [],
   "source": []
  }
 ],
 "metadata": {
  "kernelspec": {
   "display_name": "Python 3",
   "language": "python",
   "name": "python3"
  },
  "language_info": {
   "codemirror_mode": {
    "name": "ipython",
    "version": 3
   },
   "file_extension": ".py",
   "mimetype": "text/x-python",
   "name": "python",
   "nbconvert_exporter": "python",
   "pygments_lexer": "ipython3",
   "version": "3.7.6"
  }
 },
 "nbformat": 4,
 "nbformat_minor": 1
}
