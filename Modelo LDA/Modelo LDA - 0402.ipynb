{
 "cells": [
  {
   "cell_type": "markdown",
   "metadata": {
    "collapsed": true
   },
   "source": [
    "Análise do dia 02/04 através do modelo LDA."
   ]
  },
  {
   "cell_type": "code",
   "execution_count": 1,
   "metadata": {},
   "outputs": [],
   "source": [
    "# Importar bibliotecas\n",
    "\n",
    "# gerais\n",
    "import sys\n",
    "import os\n",
    "from pathlib import Path\n",
    "import re\n",
    "import numpy as np\n",
    "import pandas as pd\n",
    "from pprint import pprint\n",
    "from tqdm import tqdm\n",
    "from ast import literal_eval\n",
    "\n",
    "# Gensim\n",
    "import gensim, spacy, logging, warnings\n",
    "import gensim.corpora as corpora\n",
    "from gensim.utils import lemmatize, simple_preprocess\n",
    "from gensim.models import CoherenceModel\n",
    "from gensim.models.ldamulticore import LdaMulticore\n",
    "\n",
    "# NLTK Stop words\n",
    "import nltk\n",
    "from nltk.corpus import stopwords\n",
    "\n",
    "#plot\n",
    "import pyLDAvis\n",
    "import pyLDAvis.gensim\n",
    "import matplotlib.pyplot as plt\n",
    "import matplotlib.colors as mcolors\n",
    "%matplotlib inline\n",
    "from wordcloud import WordCloud, STOPWORDS"
   ]
  },
  {
   "cell_type": "code",
   "execution_count": 2,
   "metadata": {},
   "outputs": [],
   "source": [
    "# Criando stopwords em português utilizando a biblioteca nltk\n",
    "\n",
    "nlp = spacy.load(\"pt_core_news_sm\")\n",
    "pt_stopwords = sorted([token.text for token in nlp.vocab if token.is_stop])\n",
    "list_exclude = ['obrigado', 'bom', 'mal', 'nenhuma', 'maior', \n",
    "             'bem', 'não', 'máximo', 'boa', 'mais',\n",
    "               'bastante', 'certamente', 'certeza', 'contra',\n",
    "                'quarentena', 'coronavírus', 'presidente', 'impeachment', 'demitido', 'demitida']\n",
    "for word in list_exclude:\n",
    "    nlp.vocab[word].is_stop = False\n",
    "list_include = set(['o', 'a', 'tá', 'ta', 'ser', 'pro', 'to', 'tô', 'vc', 'você', 'voce', 'pra',\n",
    "                    'pq', 'é', 'vou', 'que','tão', 'gt', 'de', 'da', 'do', 'em', 'uma', 'lá',\n",
    "                    'já', 'no', 'para', 'na', 'com', 'um', 'minha', 'se', 'isso', 'por', 'vou',\n",
    "                    'os', 'isso', 'como', 'mesmo', 'tenho', 'aqui', 'ele', 'ela', 'quem', 'fazer',\n",
    "                    'eu', 'só', 'ai', 'mais', 'só', 'querer', 'https', 'ter', 'estar', 'ficar',\n",
    "                    'dos', 'das', 'vcs', 'jairbolsonaro', 'tava', 'nao', 'sao', 'ja', 'so', 'nossa',\n",
    "                    'nosso', 'estao', 'tco', 'me', 'dia', 'te', 'ver', 'sera', 'porra', 'fez', 'ne',\n",
    "                    'kkkkkk', 'puta', 'kkkkkkkk', 'hj', 'afff', 'gbr', 'meu', 'cara', 'guri', 'cmg',\n",
    "                    'ctg', 'agr', 'pqp', 'vdd', 'eh', 'va', 'fudeu', 'fuder', 'fodeu', 'foda', 'obg',\n",
    "                   'nem', 'numa', 'num', 'nuns', 'ces', 'voces', 'oce', 'oces', 'kkkk', 'vao', 'via',\n",
    "                    'hj', 'hoje', 'tudo', 'todo', 'toda', 'ir', 'vir', 'bem', 'sair', 'tao']\n",
    "                  )\n",
    "for w in list_include:\n",
    "    nlp.vocab[w].is_stop = True\n",
    "stop_words = sorted([token.text for token in nlp.vocab if token.is_stop])"
   ]
  },
  {
   "cell_type": "markdown",
   "metadata": {},
   "source": [
    "# Preparação dos dados"
   ]
  },
  {
   "cell_type": "code",
   "execution_count": 3,
   "metadata": {},
   "outputs": [],
   "source": [
    "# import dos dados\n",
    "\n",
    "df = pd.read_csv('0402_preprocessado.csv')"
   ]
  },
  {
   "cell_type": "code",
   "execution_count": 4,
   "metadata": {},
   "outputs": [],
   "source": [
    "# import dos tokens\n",
    "\n",
    "df_tokens = pd.read_csv('tokens_unicos_10k.csv')"
   ]
  },
  {
   "cell_type": "code",
   "execution_count": 5,
   "metadata": {},
   "outputs": [],
   "source": [
    "# criação de lista de tokens\n",
    "\n",
    "lista_token = []\n",
    "\n",
    "for row in range(0, len(df_tokens)):\n",
    "    lista_token.append(df_tokens.iloc[row,1])\n",
    "    \n",
    "lista_token = set(lista_token)"
   ]
  },
  {
   "cell_type": "code",
   "execution_count": 6,
   "metadata": {},
   "outputs": [],
   "source": [
    "# filtranso os tokens para aparecer apenas os 10 mil mais frequentes\n",
    "\n",
    "df['token2'] = df.token.apply(lambda x: str(list(set(literal_eval(x)).intersection(lista_token))))"
   ]
  },
  {
   "cell_type": "code",
   "execution_count": 7,
   "metadata": {},
   "outputs": [],
   "source": [
    "# função para reverter os tokens processados em lista de tuples\n",
    "\n",
    "def strip_characters(text):\n",
    "    t = re.sub(r'\\(|\\)|:|,|;|\\.|’|”|“|\\?|%|>|<|\\[|\\]', '', text)\n",
    "    t = re.sub(r'/', ' ', t)\n",
    "    t = t.replace(\"'\",'')\n",
    "    return t"
   ]
  },
  {
   "cell_type": "code",
   "execution_count": 8,
   "metadata": {},
   "outputs": [],
   "source": [
    "# aplica função em todos os tokens\n",
    "\n",
    "df['token2'] = df['token2'].apply(lambda x: strip_characters(x))\n",
    "df['token2'] = df['token2'].apply(lambda x: str(x).split(' '))"
   ]
  },
  {
   "cell_type": "code",
   "execution_count": 9,
   "metadata": {},
   "outputs": [],
   "source": [
    "# transforma os tokens em lista\n",
    "\n",
    "lista = list(df['token2'])"
   ]
  },
  {
   "cell_type": "code",
   "execution_count": 10,
   "metadata": {},
   "outputs": [],
   "source": [
    "# Build the bigram and trigram models\n",
    "\n",
    "bigram = gensim.models.Phrases(lista, min_count=5, threshold=100)\n",
    "bigram_mod = gensim.models.phrases.Phraser(bigram)\n",
    "\n",
    "trigram = gensim.models.Phrases(bigram[lista], threshold=100)\n",
    "trigram_mod = gensim.models.phrases.Phraser(trigram)"
   ]
  },
  {
   "cell_type": "code",
   "execution_count": 11,
   "metadata": {},
   "outputs": [],
   "source": [
    "# função para preprocessar palavras\n",
    "\n",
    "def process_words(texts, stop_words=stop_words, allowed_postags=['NOUN', 'ADJ', 'VERB', 'ADV']):\n",
    "    texts1 = [[word for word in simple_preprocess(str(doc)) if word not in stop_words] for doc in texts]\n",
    "    texts2 = [bigram_mod[doc] for doc in texts1]\n",
    "    texts3 = [trigram_mod[bigram_mod[doc]] for doc in texts2]\n",
    "    texts4 = [[word for word in simple_preprocess(str(doc)) if word not in stop_words] for doc in texts3]    \n",
    "    return texts4"
   ]
  },
  {
   "cell_type": "code",
   "execution_count": 12,
   "metadata": {},
   "outputs": [],
   "source": [
    "# Processing the abstract\n",
    "\n",
    "texto = process_words(lista)"
   ]
  },
  {
   "cell_type": "markdown",
   "metadata": {},
   "source": [
    "# Modelagem"
   ]
  },
  {
   "cell_type": "code",
   "execution_count": 13,
   "metadata": {},
   "outputs": [],
   "source": [
    "# Criar dicionário\n",
    "\n",
    "id2word = corpora.Dictionary(texto)"
   ]
  },
  {
   "cell_type": "code",
   "execution_count": 14,
   "metadata": {},
   "outputs": [],
   "source": [
    "# Criar o Corpus: A Frequência das palavras nos documentos\n",
    "\n",
    "corpus = [id2word.doc2bow(text) for text in texto]"
   ]
  },
  {
   "cell_type": "code",
   "execution_count": 15,
   "metadata": {},
   "outputs": [],
   "source": [
    "# Função para determinar a melhor quantidade de tópicos para a modelagem\n",
    "\n",
    "def compute_coherence_values(dictionary, corpus, texts, limit, start=2, step=5):\n",
    "    coherence_values = []\n",
    "    model_list = []\n",
    "    for num_topics in tqdm(range(start, limit, step)):\n",
    "        model = LdaMulticore(corpus, id2word=id2word, num_topics=10)\n",
    "        model_list.append(model)\n",
    "        coherencemodel = CoherenceModel(model=model, texts=texts, dictionary=dictionary, coherence='c_v')\n",
    "        coherence_values.append(coherencemodel.get_coherence())\n",
    "\n",
    "    return model_list, coherence_values"
   ]
  },
  {
   "cell_type": "code",
   "execution_count": 16,
   "metadata": {},
   "outputs": [
    {
     "name": "stderr",
     "output_type": "stream",
     "text": [
      "100%|██████████████████████████████████████████████████████████████████████████████████| 14/14 [11:35<00:00, 49.65s/it]\n"
     ]
    }
   ],
   "source": [
    "# Colocando parametros na função\n",
    "\n",
    "model_list, coherence_values = compute_coherence_values(dictionary=id2word, corpus=corpus, texts=texto, start=2, limit=30, step=2)"
   ]
  },
  {
   "cell_type": "code",
   "execution_count": 17,
   "metadata": {},
   "outputs": [
    {
     "data": {
      "image/png": "[encoded data removed]",
      "text/plain": [
       "<Figure size 432x288 with 1 Axes>"
      ]
     },
     "metadata": {
      "needs_background": "light"
     },
     "output_type": "display_data"
    }
   ],
   "source": [
    "# Mostrando visualmente a quantidade de tópicos\n",
    "\n",
    "limit=30; start=2; step=2;\n",
    "x = range(start, limit, step)\n",
    "plt.plot(x, coherence_values)\n",
    "plt.xlabel(\"Num Tópicos\")\n",
    "plt.ylabel(\"Score de Coerência\")\n",
    "plt.legend((\"Valores de Coerência\"), loc='best')\n",
    "plt.show()"
   ]
  },
  {
   "cell_type": "code",
   "execution_count": 18,
   "metadata": {},
   "outputs": [
    {
     "name": "stdout",
     "output_type": "stream",
     "text": [
      "A quantidade de tópicos = 2  tem um valor de coerência de  0.2956\n",
      "A quantidade de tópicos = 4  tem um valor de coerência de  0.2965\n",
      "A quantidade de tópicos = 6  tem um valor de coerência de  0.2845\n",
      "A quantidade de tópicos = 8  tem um valor de coerência de  0.2973\n",
      "A quantidade de tópicos = 10  tem um valor de coerência de  0.285\n",
      "A quantidade de tópicos = 12  tem um valor de coerência de  0.2734\n",
      "A quantidade de tópicos = 14  tem um valor de coerência de  0.2723\n",
      "A quantidade de tópicos = 16  tem um valor de coerência de  0.2998\n",
      "A quantidade de tópicos = 18  tem um valor de coerência de  0.2958\n",
      "A quantidade de tópicos = 20  tem um valor de coerência de  0.3032\n",
      "A quantidade de tópicos = 22  tem um valor de coerência de  0.3316\n",
      "A quantidade de tópicos = 24  tem um valor de coerência de  0.2861\n",
      "A quantidade de tópicos = 26  tem um valor de coerência de  0.2845\n",
      "A quantidade de tópicos = 28  tem um valor de coerência de  0.2924\n"
     ]
    }
   ],
   "source": [
    "# Lista dos valores de coerência, para melhor identificar o ponto de inflexão do gráfico\n",
    "\n",
    "for m, cv in zip(x, coherence_values):\n",
    "    print(\"A quantidade de tópicos =\", m, \" tem um valor de coerência de \", round(cv, 4))"
   ]
  },
  {
   "cell_type": "markdown",
   "metadata": {},
   "source": [
    "Aqui conseguimos determinar a melhor quantidade de tópicos a serem analisados, que é 8 tópicos"
   ]
  },
  {
   "cell_type": "code",
   "execution_count": 19,
   "metadata": {},
   "outputs": [],
   "source": [
    "# Vamos agora construir de fato o modelo LDA\n",
    "\n",
    "lda_model = LdaMulticore(corpus=corpus,\n",
    "                        id2word=id2word,\n",
    "                        num_topics=4, \n",
    "                        random_state=42,\n",
    "                        chunksize=100,\n",
    "                        passes=10,\n",
    "                        per_word_topics=True)"
   ]
  },
  {
   "cell_type": "code",
   "execution_count": 20,
   "metadata": {},
   "outputs": [
    {
     "name": "stdout",
     "output_type": "stream",
     "text": [
      "\n",
      "Perplexidade:  -7.1457581451486405\n"
     ]
    }
   ],
   "source": [
    "# Computar a perplexidade do modelo (quanto menor, melhor)\n",
    "\n",
    "print('\\nPerplexidade: ', lda_model.log_perplexity(corpus))"
   ]
  },
  {
   "cell_type": "code",
   "execution_count": 21,
   "metadata": {},
   "outputs": [
    {
     "name": "stdout",
     "output_type": "stream",
     "text": [
      "\n",
      "Score de Coerência:  0.27182014843345687\n"
     ]
    }
   ],
   "source": [
    "# Computar o Score de Coerência\n",
    "\n",
    "coherence_model_lda = CoherenceModel(model=lda_model, texts=lista, dictionary=id2word, coherence='c_v')\n",
    "coherence_lda = coherence_model_lda.get_coherence()\n",
    "print('\\nScore de Coerência: ', coherence_lda)"
   ]
  },
  {
   "cell_type": "code",
   "execution_count": 22,
   "metadata": {},
   "outputs": [
    {
     "data": {
      "text/html": [
       "\n",
       "<link rel=\"stylesheet\" type=\"text/css\" href=\"https://cdn.rawgit.com/bmabey/pyLDAvis/files/ldavis.v1.0.0.css\">\n",
       "\n",
       "\n",
       "<div id=\"ldavis_el502016008495392728536107105\"></div>\n",
       "<script type=\"text/javascript\">\n",
       "\n",
       "var ldavis_el502016008495392728536107105_data = {\"mdsDat\": {\"x\": [-0.03070596760052344, -0.20608411805618004, -0.16045641308539768, 0.3972464987421012], \"y\": [0.25637685616685313, 0.1218194137279296, -0.3285162871606441, -0.049679982734138664], \"topics\": [1, 2, 3, 4], \"cluster\": [1, 1, 1, 1], \"Freq\": [28.83216094970703, 26.39879608154297, 23.244752883911133, 21.524295806884766]}, \"tinfo\": {\"Term\": [\"coronavirus\", \"bolsonaro\", \"corona\", \"presidente\", \"pandemia\", \"quando\", \"virus\", \"casa\", \"acabar\", \"mundo\", \"muito\", \"saude\", \"povo\", \"brasil\", \"gente\", \"novo\", \"depois\", \"meio\", \"tambem\", \"lula\", \"cabelo\", \"contra\", \"mae\", \"logo\", \"doria\", \"mim\", \"alguem\", \"pos\", \"pois\", \"tanto\", \"bolsonaro\", \"presidente\", \"povo\", \"lula\", \"tambem\", \"doria\", \"vontade\", \"maior\", \"ha\", \"demais\", \"milhoes\", \"senhor\", \"outro\", \"lado\", \"verdade\", \"quanto\", \"pt\", \"jair\", \"unica\", \"certeza\", \"kkk\", \"odio\", \"ontem\", \"fome\", \"live\", \"apoio\", \"parabens\", \"congresso\", \"governador\", \"derrubar\", \"pensar\", \"dinheiro\", \"falar\", \"momento\", \"governo\", \"porque\", \"agora\", \"brasil\", \"contra\", \"trabalhar\", \"trabalho\", \"nada\", \"melhor\", \"ainda\", \"deus\", \"corona\", \"virus\", \"casa\", \"muito\", \"logo\", \"alguem\", \"tanto\", \"ninguem\", \"qual\", \"pegar\", \"preciso\", \"tomar\", \"morrer\", \"mano\", \"tarde\", \"caralho\", \"algo\", \"comer\", \"cu\", \"jeito\", \"comprar\", \"triste\", \"pessoal\", \"grupo\", \"realmente\", \"dentro\", \"normal\", \"tirar\", \"devido\", \"assistir\", \"eua\", \"cada\", \"gente\", \"tempo\", \"vida\", \"menos\", \"nada\", \"vez\", \"ainda\", \"coisa\", \"agora\", \"bom\", \"deus\", \"depois\", \"merda\", \"familia\", \"passar\", \"pandemia\", \"quando\", \"acabar\", \"meio\", \"cabelo\", \"mae\", \"mim\", \"primeiro\", \"ano\", \"pois\", \"caso\", \"isolamento\", \"fim\", \"pai\", \"medo\", \"covid\", \"amor\", \"oq\", \"cabeca\", \"social\", \"mulher\", \"igual\", \"longe\", \"feito\", \"usar\", \"amigo\", \"festa\", \"irmao\", \"periodo\", \"comigo\", \"parar\", \"depois\", \"sim\", \"assim\", \"passar\", \"gente\", \"crise\", \"hora\", \"nunca\", \"ainda\", \"agora\", \"coronavirus\", \"mundo\", \"novo\", \"pos\", \"ajudar\", \"semana\", \"mil\", \"voltar\", \"saber\", \"desde\", \"ministerio\", \"saude\", \"quase\", \"dizer\", \"dps\", \"final\", \"apenas\", \"volta\", \"morte\", \"combater\", \"brasileiro\", \"galera\", \"abril\", \"hospital\", \"federal\", \"total\", \"globo\", \"politicos\", \"ler\", \"feliz\", \"brasil\", \"contra\", \"nunca\", \"governo\", \"video\"], \"Freq\": [19193.0, 20144.0, 17571.0, 18802.0, 11922.0, 7245.0, 7935.0, 7604.0, 6088.0, 4969.0, 5054.0, 4255.0, 4668.0, 6316.0, 6426.0, 2802.0, 4656.0, 2534.0, 2688.0, 2600.0, 2206.0, 4235.0, 2097.0, 2225.0, 2317.0, 1876.0, 1992.0, 1707.0, 1737.0, 1887.0, 20143.888671875, 18801.75, 4668.22216796875, 2599.712890625, 2687.893310546875, 2316.329345703125, 1443.4781494140625, 1362.1890869140625, 1325.4285888671875, 1257.84130859375, 1205.1046142578125, 1121.6689453125, 1153.195068359375, 1061.90869140625, 1042.64013671875, 1053.842041015625, 1009.9354248046875, 938.9803466796875, 967.7146606445312, 913.1012573242188, 907.3316650390625, 896.1857299804688, 890.39306640625, 850.4338989257812, 841.0958862304688, 808.3554077148438, 781.9620361328125, 766.8020629882812, 729.5025634765625, 707.994384765625, 722.3587036132812, 1549.1044921875, 1482.179443359375, 1505.083251953125, 1916.17724609375, 1481.0093994140625, 2544.5185546875, 2478.270751953125, 1958.6575927734375, 1259.8839111328125, 1290.927001953125, 1596.587646484375, 1233.4974365234375, 1542.9852294921875, 1321.025146484375, 17570.419921875, 7934.3369140625, 7603.48046875, 5053.396484375, 2224.77294921875, 1991.88427734375, 1887.0782470703125, 1748.599853515625, 1582.2296142578125, 1369.369140625, 1232.3226318359375, 1156.8299560546875, 1128.933837890625, 1082.4925537109375, 1090.04248046875, 1058.072509765625, 1062.316650390625, 1021.4415283203125, 988.8881225585938, 954.8982543945312, 918.5949096679688, 894.8382568359375, 897.9557495117188, 866.7572021484375, 865.9229125976562, 809.9437255859375, 787.9680786132812, 795.0280151367188, 824.25146484375, 747.653564453125, 765.9541625976562, 1518.5263671875, 4374.3828125, 2106.703125, 1919.056884765625, 1670.3779296875, 2250.75390625, 1321.201904296875, 2165.9501953125, 1793.8746337890625, 1931.4337158203125, 1257.6064453125, 1497.919677734375, 1565.1553955078125, 1170.238525390625, 1136.0762939453125, 1129.078369140625, 11921.3994140625, 7244.7626953125, 6088.2060546875, 2533.933837890625, 2205.8212890625, 2096.88916015625, 1875.904296875, 1708.60546875, 1700.5159912109375, 1736.2998046875, 1587.5762939453125, 1587.8057861328125, 1485.281982421875, 1370.5677490234375, 1348.135986328125, 1214.847412109375, 1184.6693115234375, 1174.8363037109375, 1153.896240234375, 1092.8280029296875, 1041.7562255859375, 999.0480346679688, 915.443115234375, 860.8704223632812, 817.177490234375, 791.3051147460938, 782.1837768554688, 796.6697998046875, 772.4078369140625, 755.2498779296875, 768.1422119140625, 3091.11572265625, 1564.0323486328125, 1670.6798095703125, 1513.300048828125, 2051.596435546875, 1152.3768310546875, 1026.683837890625, 1144.2236328125, 1279.62841796875, 1174.8486328125, 19192.666015625, 4968.99853515625, 2801.67724609375, 1707.0091552734375, 1554.26123046875, 1508.8426513671875, 1429.4154052734375, 1451.0826416015625, 1320.5594482421875, 1268.19775390625, 1201.273681640625, 4252.73095703125, 1218.0731201171875, 1182.5994873046875, 1130.86279296875, 1067.9095458984375, 1048.1116943359375, 1034.496337890625, 902.5181884765625, 857.0551147460938, 881.1641845703125, 800.7003173828125, 763.6201782226562, 726.4396362304688, 729.619140625, 708.9425048828125, 692.5104370117188, 675.9462890625, 663.5320434570312, 648.1761474609375, 3837.259521484375, 2276.271240234375, 1531.1121826171875, 1589.2969970703125, 1139.276123046875], \"Total\": [19193.0, 20144.0, 17571.0, 18802.0, 11922.0, 7245.0, 7935.0, 7604.0, 6088.0, 4969.0, 5054.0, 4255.0, 4668.0, 6316.0, 6426.0, 2802.0, 4656.0, 2534.0, 2688.0, 2600.0, 2206.0, 4235.0, 2097.0, 2225.0, 2317.0, 1876.0, 1992.0, 1707.0, 1737.0, 1887.0, 20144.640625, 18802.49609375, 4668.97607421875, 2600.45849609375, 2688.67431640625, 2317.075439453125, 1444.2501220703125, 1362.9617919921875, 1326.2054443359375, 1258.6064453125, 1205.882568359375, 1122.4190673828125, 1153.9749755859375, 1062.66455078125, 1043.4002685546875, 1054.61376953125, 1010.6861572265625, 939.721435546875, 968.4813842773438, 913.8660888671875, 908.1065673828125, 896.9577026367188, 891.1828002929688, 851.2056884765625, 841.8668823242188, 809.1097412109375, 782.7091674804688, 767.560302734375, 730.2592163085938, 708.7369995117188, 723.127685546875, 2172.656494140625, 2132.4404296875, 2238.055908203125, 3505.979736328125, 2300.614013671875, 6339.796875, 6316.03466796875, 4235.435546875, 1813.1241455078125, 1931.68310546875, 3847.855712890625, 2325.10302734375, 4988.8251953125, 3607.412841796875, 17571.17578125, 7935.0947265625, 7604.240234375, 5054.173828125, 2225.533203125, 1992.6568603515625, 1887.8515625, 1749.3748779296875, 1583.0172119140625, 1370.1240234375, 1233.08740234375, 1157.5889892578125, 1129.69921875, 1083.2489013671875, 1090.8201904296875, 1058.8360595703125, 1063.097412109375, 1022.1971435546875, 989.649169921875, 955.67236328125, 919.356689453125, 895.5977172851562, 898.73681640625, 867.528076171875, 866.7021484375, 810.7137451171875, 788.737548828125, 795.8049926757812, 825.058837890625, 748.4127807617188, 766.7947387695312, 1576.027099609375, 6426.49462890625, 2826.1416015625, 2690.944580078125, 2229.388916015625, 3847.855712890625, 1888.4378662109375, 4988.8251953125, 3520.603759765625, 6339.796875, 2060.841064453125, 3607.412841796875, 4656.78125, 1856.764892578125, 1868.21044921875, 2642.88818359375, 11922.1650390625, 7245.52099609375, 6088.9541015625, 2534.696044921875, 2206.577880859375, 2097.651611328125, 1876.66748046875, 1709.3671875, 1701.2774658203125, 1737.0789794921875, 1588.342529296875, 1588.5753173828125, 1486.03955078125, 1371.32958984375, 1348.9171142578125, 1215.608154296875, 1185.4361572265625, 1175.59912109375, 1154.664306640625, 1093.59521484375, 1042.5272216796875, 999.8247680664062, 916.21728515625, 861.6419067382812, 817.9435424804688, 792.0676879882812, 782.9417724609375, 797.4474487304688, 773.1716918945312, 756.004150390625, 768.9212036132812, 4656.78125, 2458.9912109375, 3060.357421875, 2642.88818359375, 6426.49462890625, 2011.45068359375, 1655.1256103515625, 2675.86962890625, 4988.8251953125, 6339.796875, 19193.423828125, 4969.771484375, 2802.43505859375, 1707.773681640625, 1555.037109375, 1509.6119384765625, 1430.167724609375, 1451.8809814453125, 1321.3399658203125, 1268.96728515625, 1202.0198974609375, 4255.408203125, 1218.8436279296875, 1183.385009765625, 1131.6329345703125, 1068.6778564453125, 1048.8975830078125, 1035.2864990234375, 903.284423828125, 857.8145751953125, 881.9617309570312, 801.4790649414062, 764.3806762695312, 727.2017211914062, 730.3956909179688, 709.706787109375, 693.2931518554688, 676.73486328125, 664.3125, 648.9490356445312, 6316.03466796875, 4235.435546875, 2675.86962890625, 3505.979736328125, 2063.373779296875], \"Category\": [\"Default\", \"Default\", \"Default\", \"Default\", \"Default\", \"Default\", \"Default\", \"Default\", \"Default\", \"Default\", \"Default\", \"Default\", \"Default\", \"Default\", \"Default\", \"Default\", \"Default\", \"Default\", \"Default\", \"Default\", \"Default\", \"Default\", \"Default\", \"Default\", \"Default\", \"Default\", \"Default\", \"Default\", \"Default\", \"Default\", \"Topic1\", \"Topic1\", \"Topic1\", \"Topic1\", \"Topic1\", \"Topic1\", \"Topic1\", \"Topic1\", \"Topic1\", \"Topic1\", \"Topic1\", \"Topic1\", \"Topic1\", \"Topic1\", \"Topic1\", \"Topic1\", \"Topic1\", \"Topic1\", \"Topic1\", \"Topic1\", \"Topic1\", \"Topic1\", \"Topic1\", \"Topic1\", \"Topic1\", \"Topic1\", \"Topic1\", \"Topic1\", \"Topic1\", \"Topic1\", \"Topic1\", \"Topic1\", \"Topic1\", \"Topic1\", \"Topic1\", \"Topic1\", \"Topic1\", \"Topic1\", \"Topic1\", \"Topic1\", \"Topic1\", \"Topic1\", \"Topic1\", \"Topic1\", \"Topic1\", \"Topic2\", \"Topic2\", \"Topic2\", \"Topic2\", \"Topic2\", \"Topic2\", \"Topic2\", \"Topic2\", \"Topic2\", \"Topic2\", \"Topic2\", \"Topic2\", \"Topic2\", \"Topic2\", \"Topic2\", \"Topic2\", \"Topic2\", \"Topic2\", \"Topic2\", \"Topic2\", \"Topic2\", \"Topic2\", \"Topic2\", \"Topic2\", \"Topic2\", \"Topic2\", \"Topic2\", \"Topic2\", \"Topic2\", \"Topic2\", \"Topic2\", \"Topic2\", \"Topic2\", \"Topic2\", \"Topic2\", \"Topic2\", \"Topic2\", \"Topic2\", \"Topic2\", \"Topic2\", \"Topic2\", \"Topic2\", \"Topic2\", \"Topic2\", \"Topic2\", \"Topic2\", \"Topic2\", \"Topic3\", \"Topic3\", \"Topic3\", \"Topic3\", \"Topic3\", \"Topic3\", \"Topic3\", \"Topic3\", \"Topic3\", \"Topic3\", \"Topic3\", \"Topic3\", \"Topic3\", \"Topic3\", \"Topic3\", \"Topic3\", \"Topic3\", \"Topic3\", \"Topic3\", \"Topic3\", \"Topic3\", \"Topic3\", \"Topic3\", \"Topic3\", \"Topic3\", \"Topic3\", \"Topic3\", \"Topic3\", \"Topic3\", \"Topic3\", \"Topic3\", \"Topic3\", \"Topic3\", \"Topic3\", \"Topic3\", \"Topic3\", \"Topic3\", \"Topic3\", \"Topic3\", \"Topic3\", \"Topic3\", \"Topic4\", \"Topic4\", \"Topic4\", \"Topic4\", \"Topic4\", \"Topic4\", \"Topic4\", \"Topic4\", \"Topic4\", \"Topic4\", \"Topic4\", \"Topic4\", \"Topic4\", \"Topic4\", \"Topic4\", \"Topic4\", \"Topic4\", \"Topic4\", \"Topic4\", \"Topic4\", \"Topic4\", \"Topic4\", \"Topic4\", \"Topic4\", \"Topic4\", \"Topic4\", \"Topic4\", \"Topic4\", \"Topic4\", \"Topic4\", \"Topic4\", \"Topic4\", \"Topic4\", \"Topic4\", \"Topic4\"], \"logprob\": [30.0, 29.0, 28.0, 27.0, 26.0, 25.0, 24.0, 23.0, 22.0, 21.0, 20.0, 19.0, 18.0, 17.0, 16.0, 15.0, 14.0, 13.0, 12.0, 11.0, 10.0, 9.0, 8.0, 7.0, 6.0, 5.0, 4.0, 3.0, 2.0, 1.0, -2.397599935531616, -2.466599941253662, -3.859800100326538, -4.445099830627441, -4.411799907684326, -4.560500144958496, -5.0335001945495605, -5.091400146484375, -5.118800163269043, -5.17110013961792, -5.214000225067139, -5.285699844360352, -5.257999897003174, -5.3404998779296875, -5.358799934387207, -5.348100185394287, -5.390600204467773, -5.463500022888184, -5.4334001541137695, -5.491399765014648, -5.497799873352051, -5.5100998878479, -5.516600131988525, -5.5625, -5.573599815368652, -5.61329984664917, -5.646500110626221, -5.666100025177002, -5.71589994430542, -5.7459001541137695, -5.725800037384033, -4.962900161743164, -5.006999969482422, -4.991700172424316, -4.750199794769287, -5.007800102233887, -4.466599941253662, -4.493000030517578, -4.728300094604492, -5.16949987411499, -5.145199775695801, -4.932700157165527, -5.190700054168701, -4.966800212860107, -5.122099876403809, -2.4460999965667725, -3.2411999702453613, -3.283799886703491, -3.6923000812530518, -4.512700080871582, -4.623300075531006, -4.677299976348877, -4.753499984741211, -4.853499889373779, -4.998000144958496, -5.103499889373779, -5.1666998863220215, -5.191100120544434, -5.233099937438965, -5.226099967956543, -5.255899906158447, -5.2519001960754395, -5.291100025177002, -5.323500156402588, -5.358500003814697, -5.397299766540527, -5.423500061035156, -5.420000076293945, -5.455399990081787, -5.456299781799316, -5.523200035095215, -5.5507001876831055, -5.5416998863220215, -5.5055999755859375, -5.6031999588012695, -5.578999996185303, -4.894599914550781, -3.8366000652313232, -4.567200183868408, -4.6605000495910645, -4.799300193786621, -4.501100063323975, -5.03380012512207, -4.5395002365112305, -4.728000164031982, -4.654099941253662, -5.083099842071533, -4.908299922943115, -4.8643999099731445, -5.155200004577637, -5.184800148010254, -5.190999984741211, -2.7067999839782715, -3.2047998905181885, -3.3787999153137207, -4.255300045013428, -4.394000053405762, -4.444699764251709, -4.556000232696533, -4.649400234222412, -4.654200077056885, -4.633399963378906, -4.722899913787842, -4.722799777984619, -4.7895002365112305, -4.869900226593018, -4.88640022277832, -4.990499973297119, -5.015699863433838, -5.02400016784668, -5.041999816894531, -5.096399784088135, -5.144199848175049, -5.186100006103516, -5.273499965667725, -5.33489990234375, -5.38700008392334, -5.4191999435424805, -5.430799961090088, -5.412399768829346, -5.443399906158447, -5.465799808502197, -5.44890022277832, -4.056600093841553, -4.7378997802734375, -4.671899795532227, -4.7708001136779785, -4.4664998054504395, -5.043300151824951, -5.15880012512207, -5.0503997802734375, -4.938600063323975, -5.02400016784668, -2.153700113296509, -3.505000114440918, -4.078000068664551, -4.573500156402588, -4.667200088500977, -4.696899890899658, -4.750999927520752, -4.735899925231934, -4.8302001953125, -4.87060022354126, -4.924799919128418, -3.6607000827789307, -4.910999774932861, -4.940499782562256, -4.985199928283691, -5.042500019073486, -5.061200141906738, -5.0742998123168945, -5.2108001708984375, -5.262499809265137, -5.2347002029418945, -5.33050012588501, -5.377900123596191, -5.427800178527832, -5.423500061035156, -5.452199935913086, -5.4756999015808105, -5.499899864196777, -5.518400192260742, -5.541800022125244, -3.7634999752044678, -4.285699844360352, -4.682199954986572, -4.644899845123291, -4.977799892425537], \"loglift\": [30.0, 29.0, 28.0, 27.0, 26.0, 25.0, 24.0, 23.0, 22.0, 21.0, 20.0, 19.0, 18.0, 17.0, 16.0, 15.0, 14.0, 13.0, 12.0, 11.0, 10.0, 9.0, 8.0, 7.0, 6.0, 5.0, 4.0, 3.0, 2.0, 1.0, 1.2436000108718872, 1.2436000108718872, 1.243499994277954, 1.243399977684021, 1.243399977684021, 1.243399977684021, 1.2431000471115112, 1.2431000471115112, 1.2431000471115112, 1.2431000471115112, 1.2430000305175781, 1.2430000305175781, 1.2430000305175781, 1.2430000305175781, 1.2430000305175781, 1.242900013923645, 1.242900013923645, 1.242900013923645, 1.242900013923645, 1.242799997329712, 1.242799997329712, 1.242799997329712, 1.242799997329712, 1.242799997329712, 1.242799997329712, 1.2426999807357788, 1.2426999807357788, 1.2426999807357788, 1.2425999641418457, 1.2425999641418457, 1.2425999641418457, 0.9053999781608582, 0.8798999786376953, 0.8468999862670898, 0.6395000219345093, 0.8032000064849854, 0.33079999685287476, 0.30809998512268066, 0.4724999964237213, 0.8795999884605408, 0.8406000137329102, 0.36399999260902405, 0.6097999811172485, 0.07020000368356705, 0.23909999430179596, 1.3317999839782715, 1.3317999839782715, 1.3317999839782715, 1.3316999673843384, 1.3315000534057617, 1.3315000534057617, 1.3314000368118286, 1.3314000368118286, 1.3314000368118286, 1.3313000202178955, 1.3312000036239624, 1.3312000036239624, 1.3312000036239624, 1.3312000036239624, 1.3310999870300293, 1.3310999870300293, 1.3310999870300293, 1.3310999870300293, 1.3310999870300293, 1.3309999704360962, 1.3309999704360962, 1.3309999704360962, 1.3309999704360962, 1.3309999704360962, 1.3309999704360962, 1.330899953842163, 1.330899953842163, 1.330899953842163, 1.330899953842163, 1.3308000564575195, 1.3308000564575195, 1.294700026512146, 0.9472000002861023, 1.038100004196167, 0.9937999844551086, 1.0432000160217285, 0.7955999970436096, 0.9746000170707703, 0.4975000023841858, 0.6575999855995178, 0.14329999685287476, 0.8378999829292297, 0.4528999924659729, 0.24150000512599945, 0.870199978351593, 0.8345000147819519, 0.4814000129699707, 1.4589999914169312, 1.4589999914169312, 1.4589999914169312, 1.458799958229065, 1.4586999416351318, 1.4586999416351318, 1.4586999416351318, 1.4586000442504883, 1.4586000442504883, 1.4586000442504883, 1.4586000442504883, 1.4586000442504883, 1.4586000442504883, 1.4585000276565552, 1.4585000276565552, 1.4585000276565552, 1.458400011062622, 1.458400011062622, 1.458400011062622, 1.458400011062622, 1.458400011062622, 1.458299994468689, 1.4581999778747559, 1.4581999778747559, 1.4581999778747559, 1.4580999612808228, 1.4580999612808228, 1.4580999612808228, 1.4580999612808228, 1.4580999612808228, 1.4580999612808228, 1.049299955368042, 1.006600022315979, 0.8537999987602234, 0.9014999866485596, 0.3172999918460846, 0.9021000266075134, 0.9815000295639038, 0.609499990940094, 0.09849999845027924, -0.22660000622272491, 1.5358999967575073, 1.5357999801635742, 1.5356999635696411, 1.5355000495910645, 1.5355000495910645, 1.5355000495910645, 1.5355000495910645, 1.5354000329971313, 1.5354000329971313, 1.5354000329971313, 1.5354000329971313, 1.5354000329971313, 1.5354000329971313, 1.5353000164031982, 1.5353000164031982, 1.5353000164031982, 1.5351999998092651, 1.5351999998092651, 1.535099983215332, 1.535099983215332, 1.535099983215332, 1.534999966621399, 1.534999966621399, 1.5348999500274658, 1.5348999500274658, 1.5348999500274658, 1.5348999500274658, 1.5348000526428223, 1.5348000526428223, 1.5348000526428223, 1.0377000570297241, 0.9150000214576721, 0.9776999950408936, 0.7447999715805054, 0.9419999718666077]}, \"token.table\": {\"Topic\": [4, 3, 1, 2, 3, 4, 1, 2, 3, 4, 2, 2, 3, 3, 3, 4, 1, 1, 2, 3, 2, 1, 1, 2, 1, 4, 4, 3, 3, 2, 4, 2, 2, 3, 1, 1, 2, 3, 4, 2, 3, 2, 1, 1, 4, 2, 4, 3, 1, 3, 2, 1, 2, 2, 3, 1, 4, 1, 2, 3, 2, 1, 4, 4, 1, 4, 2, 1, 2, 1, 2, 4, 3, 4, 3, 3, 4, 1, 4, 2, 3, 4, 1, 1, 4, 2, 1, 1, 3, 4, 3, 3, 3, 1, 2, 1, 1, 4, 1, 2, 3, 1, 3, 1, 2, 3, 3, 1, 2, 3, 2, 4, 1, 2, 4, 1, 3, 4, 1, 3, 2, 4, 2, 3, 4, 1, 2, 2, 2, 4, 3, 4, 1, 1, 3, 1, 3, 3, 1, 3, 2, 3, 2, 1, 3, 2, 3, 4, 1, 2, 4, 1, 2, 1, 3, 1, 2, 3, 1, 4, 2, 4, 3, 4, 4, 1, 1, 3, 3, 1, 2, 2, 2, 3, 2, 2, 4, 1, 2, 1, 4, 2, 1, 3, 1, 1, 2, 2, 3, 3, 4, 2, 4, 4, 1], \"Freq\": [0.9995020031929016, 0.9998432993888855, 0.40143242478370667, 0.304583877325058, 0.18533717095851898, 0.10867856442928314, 0.3092912435531616, 0.43417036533355713, 0.2565734386444092, 0.9993330836296082, 0.998967707157135, 0.9996703863143921, 0.9986520409584045, 0.9996320605278015, 0.9998369216918945, 0.9991442561149597, 0.9986284375190735, 0.2695763409137726, 0.18429219722747803, 0.546014666557312, 0.9994484782218933, 0.9999681711196899, 0.3896467387676239, 0.6104303598403931, 0.3923347592353821, 0.6075013875961304, 0.9989095330238342, 0.9994246959686279, 0.9997380971908569, 0.9638159275054932, 0.03616689145565033, 0.9992104172706604, 0.9998369216918945, 0.9997843503952026, 0.9990522861480713, 0.28290602564811707, 0.5095716714859009, 0.20735080540180206, 0.9990503787994385, 0.9988288283348083, 0.9986717700958252, 0.999612033367157, 0.9992700219154358, 0.46252623200416565, 0.5373709201812744, 0.9999330639839172, 0.9999779462814331, 0.9994997382164001, 0.4270549714565277, 0.572721004486084, 0.9993440508842468, 0.9995181560516357, 0.9991195797920227, 0.3360690474510193, 0.663763165473938, 0.9989601373672485, 0.9992377161979675, 0.3661904036998749, 0.4152560532093048, 0.21843910217285156, 0.9987166523933411, 0.7129520773887634, 0.28674575686454773, 0.9996746778488159, 0.999535858631134, 0.9994406700134277, 0.9989635348320007, 0.6949783563613892, 0.3048150837421417, 0.3918188214302063, 0.6080685257911682, 0.9994582533836365, 0.9992550015449524, 0.9985376000404358, 0.9987971186637878, 0.999300479888916, 0.9993656873703003, 0.9985835552215576, 0.9994022846221924, 0.6806198954582214, 0.31930315494537354, 0.9995771646499634, 0.9996450543403625, 0.5464949011802673, 0.45322567224502563, 0.9993912577629089, 0.9990910291671753, 0.37942740321159363, 0.6204966902732849, 0.9983474612236023, 0.9991750717163086, 0.9994388818740845, 0.9996378421783447, 0.999232292175293, 0.9992964267730713, 0.9987814426422119, 0.9993746280670166, 0.9995296001434326, 0.9989702701568604, 0.9997603893280029, 0.9986714124679565, 0.9998236894607544, 0.9996893405914307, 0.9992943406105042, 0.9988470673561096, 0.9993200898170471, 0.9997254014015198, 0.5302990674972534, 0.28514865040779114, 0.18450795114040375, 0.7490841746330261, 0.2502928078174591, 0.3694598078727722, 0.6301282644271851, 0.9991834759712219, 0.999268114566803, 0.9996443390846252, 0.9991515278816223, 0.6724586486816406, 0.32706958055496216, 0.9993810653686523, 0.9996851086616516, 0.9997677803039551, 0.9994943141937256, 0.9998447895050049, 0.4150363504886627, 0.5850011706352234, 0.9997857213020325, 0.9990649223327637, 0.9998447299003601, 0.4275245666503906, 0.572150468826294, 0.9989323019981384, 0.9986727833747864, 0.9994903802871704, 0.9991551041603088, 0.9997596740722656, 0.9999023079872131, 0.9990939497947693, 0.9988019466400146, 0.42718416452407837, 0.572479784488678, 0.9991796016693115, 0.9984405636787415, 0.9984845519065857, 0.9991801381111145, 0.9993788599967957, 0.9989141225814819, 0.6437411904335022, 0.355991929769516, 0.9995469450950623, 0.9997909665107727, 0.9991181492805481, 0.9999735951423645, 0.9997851848602295, 0.9993211030960083, 0.9993574023246765, 0.9999281167984009, 0.9994180202484131, 0.9993078708648682, 0.9991898536682129, 0.9997426867485046, 0.00046999016194604337, 0.9994341135025024, 0.9995946288108826, 0.999626636505127, 0.3635637164115906, 0.6360331773757935, 0.9994557499885559, 0.9997491836547852, 0.9995489120483398, 0.9992480874061584, 0.7455394268035889, 0.2544104754924774, 0.9989884495735168, 0.9994912147521973, 0.9990041255950928, 0.6949331164360046, 0.3049984276294708, 0.6683290600776672, 0.331317275762558, 0.99933260679245, 0.999502956867218, 0.9988464713096619, 0.9996163845062256, 0.3002481758594513, 0.6995199918746948, 0.7131325006484985, 0.2865164875984192, 0.4478102922439575, 0.5520085692405701, 0.999862015247345, 0.9987573623657227, 0.9993932247161865, 0.9991344213485718], \"Term\": [\"abril\", \"acabar\", \"agora\", \"agora\", \"agora\", \"agora\", \"ainda\", \"ainda\", \"ainda\", \"ajudar\", \"algo\", \"alguem\", \"amigo\", \"amor\", \"ano\", \"apenas\", \"apoio\", \"assim\", \"assim\", \"assim\", \"assistir\", \"bolsonaro\", \"bom\", \"bom\", \"brasil\", \"brasil\", \"brasileiro\", \"cabeca\", \"cabelo\", \"cada\", \"cada\", \"caralho\", \"casa\", \"caso\", \"certeza\", \"coisa\", \"coisa\", \"coisa\", \"combater\", \"comer\", \"comigo\", \"comprar\", \"congresso\", \"contra\", \"contra\", \"corona\", \"coronavirus\", \"covid\", \"crise\", \"crise\", \"cu\", \"demais\", \"dentro\", \"depois\", \"depois\", \"derrubar\", \"desde\", \"deus\", \"deus\", \"deus\", \"devido\", \"dinheiro\", \"dinheiro\", \"dizer\", \"doria\", \"dps\", \"eua\", \"falar\", \"falar\", \"familia\", \"familia\", \"federal\", \"feito\", \"feliz\", \"festa\", \"fim\", \"final\", \"fome\", \"galera\", \"gente\", \"gente\", \"globo\", \"governador\", \"governo\", \"governo\", \"grupo\", \"ha\", \"hora\", \"hora\", \"hospital\", \"igual\", \"irmao\", \"isolamento\", \"jair\", \"jeito\", \"kkk\", \"lado\", \"ler\", \"live\", \"logo\", \"longe\", \"lula\", \"mae\", \"maior\", \"mano\", \"medo\", \"meio\", \"melhor\", \"melhor\", \"melhor\", \"menos\", \"menos\", \"merda\", \"merda\", \"mil\", \"milhoes\", \"mim\", \"ministerio\", \"momento\", \"momento\", \"morrer\", \"morte\", \"muito\", \"mulher\", \"mundo\", \"nada\", \"nada\", \"ninguem\", \"normal\", \"novo\", \"nunca\", \"nunca\", \"odio\", \"ontem\", \"oq\", \"outro\", \"pai\", \"pandemia\", \"parabens\", \"parar\", \"passar\", \"passar\", \"pegar\", \"pensar\", \"periodo\", \"pessoal\", \"pois\", \"politicos\", \"porque\", \"porque\", \"pos\", \"povo\", \"preciso\", \"presidente\", \"primeiro\", \"pt\", \"qual\", \"quando\", \"quanto\", \"quase\", \"realmente\", \"saber\", \"saude\", \"saude\", \"semana\", \"senhor\", \"sim\", \"sim\", \"social\", \"tambem\", \"tanto\", \"tarde\", \"tempo\", \"tempo\", \"tirar\", \"tomar\", \"total\", \"trabalhar\", \"trabalhar\", \"trabalho\", \"trabalho\", \"triste\", \"unica\", \"usar\", \"verdade\", \"vez\", \"vez\", \"vida\", \"vida\", \"video\", \"video\", \"virus\", \"volta\", \"voltar\", \"vontade\"]}, \"R\": 30, \"lambda.step\": 0.01, \"plot.opts\": {\"xlab\": \"PC1\", \"ylab\": \"PC2\"}, \"topic.order\": [2, 4, 1, 3]};\n",
       "\n",
       "function LDAvis_load_lib(url, callback){\n",
       "  var s = document.createElement('script');\n",
       "  s.src = url;\n",
       "  s.async = true;\n",
       "  s.onreadystatechange = s.onload = callback;\n",
       "  s.onerror = function(){console.warn(\"failed to load library \" + url);};\n",
       "  document.getElementsByTagName(\"head\")[0].appendChild(s);\n",
       "}\n",
       "\n",
       "if(typeof(LDAvis) !== \"undefined\"){\n",
       "   // already loaded: just create the visualization\n",
       "   !function(LDAvis){\n",
       "       new LDAvis(\"#\" + \"ldavis_el502016008495392728536107105\", ldavis_el502016008495392728536107105_data);\n",
       "   }(LDAvis);\n",
       "}else if(typeof define === \"function\" && define.amd){\n",
       "   // require.js is available: use it to load d3/LDAvis\n",
       "   require.config({paths: {d3: \"https://cdnjs.cloudflare.com/ajax/libs/d3/3.5.5/d3.min\"}});\n",
       "   require([\"d3\"], function(d3){\n",
       "      window.d3 = d3;\n",
       "      LDAvis_load_lib(\"https://cdn.rawgit.com/bmabey/pyLDAvis/files/ldavis.v1.0.0.js\", function(){\n",
       "        new LDAvis(\"#\" + \"ldavis_el502016008495392728536107105\", ldavis_el502016008495392728536107105_data);\n",
       "      });\n",
       "    });\n",
       "}else{\n",
       "    // require.js not available: dynamically load d3 & LDAvis\n",
       "    LDAvis_load_lib(\"https://cdnjs.cloudflare.com/ajax/libs/d3/3.5.5/d3.min.js\", function(){\n",
       "         LDAvis_load_lib(\"https://cdn.rawgit.com/bmabey/pyLDAvis/files/ldavis.v1.0.0.js\", function(){\n",
       "                 new LDAvis(\"#\" + \"ldavis_el502016008495392728536107105\", ldavis_el502016008495392728536107105_data);\n",
       "            })\n",
       "         });\n",
       "}\n",
       "</script>"
      ],
      "text/plain": [
       "PreparedData(topic_coordinates=              x         y  topics  cluster       Freq\n",
       "topic                                                \n",
       "1     -0.030706  0.256377       1        1  28.832161\n",
       "3     -0.206084  0.121819       2        1  26.398796\n",
       "0     -0.160456 -0.328516       3        1  23.244753\n",
       "2      0.397246 -0.049680       4        1  21.524296, topic_info=            Term          Freq         Total Category  logprob  loglift\n",
       "48   coronavirus  19193.000000  19193.000000  Default  30.0000  30.0000\n",
       "0      bolsonaro  20144.000000  20144.000000  Default  29.0000  29.0000\n",
       "5         corona  17571.000000  17571.000000  Default  28.0000  28.0000\n",
       "19    presidente  18802.000000  18802.000000  Default  27.0000  27.0000\n",
       "17      pandemia  11922.000000  11922.000000  Default  26.0000  26.0000\n",
       "..           ...           ...           ...      ...      ...      ...\n",
       "10        brasil   3837.259521   6316.034668   Topic4  -3.7635   1.0377\n",
       "274       contra   2276.271240   4235.435547   Topic4  -4.2857   0.9150\n",
       "105        nunca   1531.112183   2675.869629   Topic4  -4.6822   0.9777\n",
       "39       governo   1589.296997   3505.979736   Topic4  -4.6449   0.7448\n",
       "152        video   1139.276123   2063.373779   Topic4  -4.9778   0.9420\n",
       "\n",
       "[198 rows x 6 columns], token_table=      Topic      Freq     Term\n",
       "term                          \n",
       "127       4  0.999502    abril\n",
       "26        3  0.999843   acabar\n",
       "33        1  0.401432    agora\n",
       "33        2  0.304584    agora\n",
       "33        3  0.185337    agora\n",
       "...     ...       ...      ...\n",
       "152       4  0.552009    video\n",
       "58        2  0.999862    virus\n",
       "1292      4  0.998757    volta\n",
       "460       4  0.999393   voltar\n",
       "44        1  0.999134  vontade\n",
       "\n",
       "[195 rows x 3 columns], R=30, lambda_step=0.01, plot_opts={'xlab': 'PC1', 'ylab': 'PC2'}, topic_order=[2, 4, 1, 3])"
      ]
     },
     "execution_count": 22,
     "metadata": {},
     "output_type": "execute_result"
    }
   ],
   "source": [
    "# Visualização dos tópicos em clusters\n",
    "\n",
    "pyLDAvis.enable_notebook()\n",
    "vis = pyLDAvis.gensim.prepare(lda_model, corpus, id2word)\n",
    "vis"
   ]
  },
  {
   "cell_type": "code",
   "execution_count": 23,
   "metadata": {},
   "outputs": [
    {
     "name": "stdout",
     "output_type": "stream",
     "text": [
      "[(0,\n",
      "  '0.028*\"corona\" + 0.026*\"bolsonaro\" + 0.025*\"coisa\" + 0.017*\"virus\" + '\n",
      "  '0.015*\"tanto\" + 0.014*\"deus\" + 0.014*\"cu\" + 0.011*\"pandemia\" + '\n",
      "  '0.011*\"primeiro\" + 0.010*\"caso\"'),\n",
      " (1,\n",
      "  '0.187*\"coronavirus\" + 0.034*\"saude\" + 0.033*\"brasil\" + 0.025*\"novo\" + '\n",
      "  '0.019*\"quando\" + 0.017*\"pandemia\" + 0.015*\"ministerio\" + 0.015*\"mundo\" + '\n",
      "  '0.014*\"mil\" + 0.013*\"acabar\"'),\n",
      " (2,\n",
      "  '0.068*\"presidente\" + 0.030*\"bolsonaro\" + 0.016*\"bom\" + 0.015*\"ainda\" + '\n",
      "  '0.014*\"brasil\" + 0.013*\"assim\" + 0.013*\"sim\" + 0.012*\"muito\" + 0.011*\"nada\" '\n",
      "  '+ 0.009*\"algo\"'),\n",
      " (3,\n",
      "  '0.042*\"pandemia\" + 0.022*\"dinheiro\" + 0.018*\"povo\" + 0.017*\"coronavirus\" + '\n",
      "  '0.014*\"presidente\" + 0.012*\"ainda\" + 0.012*\"agora\" + 0.011*\"melhor\" + '\n",
      "  '0.010*\"contra\" + 0.009*\"gente\"'),\n",
      " (4,\n",
      "  '0.032*\"cabelo\" + 0.026*\"acabar\" + 0.020*\"quando\" + 0.019*\"fim\" + '\n",
      "  '0.017*\"pandemia\" + 0.012*\"agora\" + 0.011*\"longe\" + 0.011*\"vez\" + '\n",
      "  '0.011*\"mae\" + 0.011*\"desde\"'),\n",
      " (5,\n",
      "  '0.194*\"corona\" + 0.087*\"virus\" + 0.026*\"gente\" + 0.023*\"mundo\" + '\n",
      "  '0.014*\"dps\" + 0.014*\"pegar\" + 0.011*\"acabar\" + 0.010*\"quando\" + 0.009*\"ano\" '\n",
      "  '+ 0.009*\"agora\"'),\n",
      " (6,\n",
      "  '0.142*\"presidente\" + 0.055*\"bolsonaro\" + 0.021*\"povo\" + 0.012*\"governo\" + '\n",
      "  '0.012*\"brasil\" + 0.011*\"jair\" + 0.011*\"contra\" + 0.010*\"senhor\" + '\n",
      "  '0.008*\"parabens\" + 0.008*\"deus\"'),\n",
      " (7,\n",
      "  '0.089*\"casa\" + 0.024*\"quando\" + 0.021*\"acabar\" + 0.016*\"pandemia\" + '\n",
      "  '0.014*\"muito\" + 0.013*\"passar\" + 0.013*\"gente\" + 0.012*\"ninguem\" + '\n",
      "  '0.012*\"comer\" + 0.011*\"final\"'),\n",
      " (8,\n",
      "  '0.057*\"depois\" + 0.024*\"pos\" + 0.017*\"passar\" + 0.016*\"logo\" + 0.015*\"oq\" + '\n",
      "  '0.014*\"video\" + 0.012*\"corona\" + 0.012*\"acabar\" + 0.012*\"merda\" + '\n",
      "  '0.011*\"cabeca\"'),\n",
      " (9,\n",
      "  '0.138*\"bolsonaro\" + 0.029*\"pandemia\" + 0.022*\"lula\" + 0.022*\"doria\" + '\n",
      "  '0.014*\"contra\" + 0.013*\"familia\" + 0.011*\"governo\" + 0.010*\"dificil\" + '\n",
      "  '0.009*\"povo\" + 0.009*\"brasil\"')]\n"
     ]
    }
   ],
   "source": [
    "# Escolhe o modelo\n",
    "\n",
    "optimal_model = model_list[3]\n",
    "model_topics = optimal_model.show_topics(formatted=False)\n",
    "pprint(optimal_model.print_topics(num_words=10))"
   ]
  },
  {
   "cell_type": "code",
   "execution_count": 24,
   "metadata": {},
   "outputs": [],
   "source": [
    "# Encontrar qual o principal tópico em cada tweet\n",
    "\n",
    "def format_topics_sentences(ldamodel=lda_model, corpus=corpus, texts=lista):\n",
    "    # Output\n",
    "    sent_topics_df = pd.DataFrame()\n",
    "\n",
    "    # Seleciona o principal tópico de cada tweet\n",
    "    for i, row in enumerate(ldamodel[corpus]):\n",
    "        row = sorted(row, key=lambda x: (x[1]), reverse=True)\n",
    "        # Calcula o principal tópico, o percentual de contribuição e as palavras chaves de cada tweet\n",
    "        for j, (topic_num, prop_topic) in enumerate(row):\n",
    "            if j == 0:  # => mostra o principal tópico\n",
    "                wp = ldamodel.show_topic(topic_num)\n",
    "                topic_keywords = \", \".join([word for word, prop in wp])\n",
    "                sent_topics_df = sent_topics_df.append(pd.Series([int(topic_num), round(prop_topic,4), topic_keywords]), ignore_index=True)\n",
    "            else:\n",
    "                break\n",
    "    sent_topics_df.columns = ['Principal_Topico', 'Perc_Contributicao', 'Palavras_Chave']\n",
    "\n",
    "    # Inclui o texto original no final do DataFrame\n",
    "    contents = pd.Series(texts)\n",
    "    sent_topics_df = pd.concat([sent_topics_df, contents], axis=1)\n",
    "    return(sent_topics_df)"
   ]
  },
  {
   "cell_type": "code",
   "execution_count": 25,
   "metadata": {},
   "outputs": [],
   "source": [
    "# roda a função de calcular os principais tópicos de cada tweet\n",
    "\n",
    "df_topic_sents_keywords = format_topics_sentences(ldamodel=optimal_model, corpus=corpus, texts=lista)"
   ]
  },
  {
   "cell_type": "code",
   "execution_count": 26,
   "metadata": {},
   "outputs": [],
   "source": [
    "# Formata o DataFrame\n",
    "\n",
    "df_dominant_topic = df_topic_sents_keywords.reset_index()\n",
    "df_dominant_topic.columns = ['Index_DF_Original', 'Principal_Topico', 'Perc_Contrib_Topico', 'Palavras_Chave', 'Tweets']"
   ]
  },
  {
   "cell_type": "code",
   "execution_count": 27,
   "metadata": {
    "scrolled": true
   },
   "outputs": [
    {
     "data": {
      "text/html": [
       "<div>\n",
       "<style scoped>\n",
       "    .dataframe tbody tr th:only-of-type {\n",
       "        vertical-align: middle;\n",
       "    }\n",
       "\n",
       "    .dataframe tbody tr th {\n",
       "        vertical-align: top;\n",
       "    }\n",
       "\n",
       "    .dataframe thead th {\n",
       "        text-align: right;\n",
       "    }\n",
       "</style>\n",
       "<table border=\"1\" class=\"dataframe\">\n",
       "  <thead>\n",
       "    <tr style=\"text-align: right;\">\n",
       "      <th></th>\n",
       "      <th>Topico</th>\n",
       "      <th>Topico_Perc_Contrib</th>\n",
       "      <th>Palavras_Chave</th>\n",
       "      <th>Tweet</th>\n",
       "    </tr>\n",
       "  </thead>\n",
       "  <tbody>\n",
       "    <tr>\n",
       "      <th>0</th>\n",
       "      <td>0.0</td>\n",
       "      <td>0.9250</td>\n",
       "      <td>corona, bolsonaro, coisa, virus, tanto, deus, ...</td>\n",
       "      <td>[envolvimento, prior, entao, globo, pyong, bol...</td>\n",
       "    </tr>\n",
       "    <tr>\n",
       "      <th>1</th>\n",
       "      <td>1.0</td>\n",
       "      <td>0.9308</td>\n",
       "      <td>coronavirus, saude, brasil, novo, quando, pand...</td>\n",
       "      <td>[janeiro, brasil, mil, final, carnaval, sair, ...</td>\n",
       "    </tr>\n",
       "    <tr>\n",
       "      <th>2</th>\n",
       "      <td>2.0</td>\n",
       "      <td>0.9470</td>\n",
       "      <td>presidente, bolsonaro, bom, ainda, brasil, ass...</td>\n",
       "      <td>[nao, real, ainda, mandetta, autonomia, proble...</td>\n",
       "    </tr>\n",
       "    <tr>\n",
       "      <th>3</th>\n",
       "      <td>3.0</td>\n",
       "      <td>0.9400</td>\n",
       "      <td>pandemia, dinheiro, povo, coronavirus, preside...</td>\n",
       "      <td>[muito, gente, experiencia, tinhamos, maior, l...</td>\n",
       "    </tr>\n",
       "    <tr>\n",
       "      <th>4</th>\n",
       "      <td>4.0</td>\n",
       "      <td>0.9184</td>\n",
       "      <td>cabelo, acabar, quando, fim, pandemia, agora, ...</td>\n",
       "      <td>[nao, comprar, quando, ir, delineador, te, jei...</td>\n",
       "    </tr>\n",
       "    <tr>\n",
       "      <th>5</th>\n",
       "      <td>5.0</td>\n",
       "      <td>0.9250</td>\n",
       "      <td>corona, virus, gente, mundo, dps, pegar, acaba...</td>\n",
       "      <td>[nao, entao, nunca, estressa, merda, doente, c...</td>\n",
       "    </tr>\n",
       "    <tr>\n",
       "      <th>6</th>\n",
       "      <td>6.0</td>\n",
       "      <td>0.9470</td>\n",
       "      <td>presidente, bolsonaro, povo, governo, brasil, ...</td>\n",
       "      <td>[falar, tomar, menos, governador, nenhum, clas...</td>\n",
       "    </tr>\n",
       "    <tr>\n",
       "      <th>7</th>\n",
       "      <td>7.0</td>\n",
       "      <td>0.9500</td>\n",
       "      <td>casa, quando, acabar, pandemia, muito, passar,...</td>\n",
       "      <td>[olho, casa, preciso, levar, continuar, sentar...</td>\n",
       "    </tr>\n",
       "    <tr>\n",
       "      <th>8</th>\n",
       "      <td>8.0</td>\n",
       "      <td>0.9307</td>\n",
       "      <td>depois, pos, passar, logo, oq, video, corona, ...</td>\n",
       "      <td>[virar, tera, amazon, fase, tco, contrato, dep...</td>\n",
       "    </tr>\n",
       "    <tr>\n",
       "      <th>9</th>\n",
       "      <td>9.0</td>\n",
       "      <td>0.9357</td>\n",
       "      <td>bolsonaro, pandemia, lula, doria, contra, fami...</td>\n",
       "      <td>[pedir, desandar, situacao, brasil, so, ir, di...</td>\n",
       "    </tr>\n",
       "  </tbody>\n",
       "</table>\n",
       "</div>"
      ],
      "text/plain": [
       "   Topico  Topico_Perc_Contrib  \\\n",
       "0     0.0               0.9250   \n",
       "1     1.0               0.9308   \n",
       "2     2.0               0.9470   \n",
       "3     3.0               0.9400   \n",
       "4     4.0               0.9184   \n",
       "5     5.0               0.9250   \n",
       "6     6.0               0.9470   \n",
       "7     7.0               0.9500   \n",
       "8     8.0               0.9307   \n",
       "9     9.0               0.9357   \n",
       "\n",
       "                                      Palavras_Chave  \\\n",
       "0  corona, bolsonaro, coisa, virus, tanto, deus, ...   \n",
       "1  coronavirus, saude, brasil, novo, quando, pand...   \n",
       "2  presidente, bolsonaro, bom, ainda, brasil, ass...   \n",
       "3  pandemia, dinheiro, povo, coronavirus, preside...   \n",
       "4  cabelo, acabar, quando, fim, pandemia, agora, ...   \n",
       "5  corona, virus, gente, mundo, dps, pegar, acaba...   \n",
       "6  presidente, bolsonaro, povo, governo, brasil, ...   \n",
       "7  casa, quando, acabar, pandemia, muito, passar,...   \n",
       "8  depois, pos, passar, logo, oq, video, corona, ...   \n",
       "9  bolsonaro, pandemia, lula, doria, contra, fami...   \n",
       "\n",
       "                                               Tweet  \n",
       "0  [envolvimento, prior, entao, globo, pyong, bol...  \n",
       "1  [janeiro, brasil, mil, final, carnaval, sair, ...  \n",
       "2  [nao, real, ainda, mandetta, autonomia, proble...  \n",
       "3  [muito, gente, experiencia, tinhamos, maior, l...  \n",
       "4  [nao, comprar, quando, ir, delineador, te, jei...  \n",
       "5  [nao, entao, nunca, estressa, merda, doente, c...  \n",
       "6  [falar, tomar, menos, governador, nenhum, clas...  \n",
       "7  [olho, casa, preciso, levar, continuar, sentar...  \n",
       "8  [virar, tera, amazon, fase, tco, contrato, dep...  \n",
       "9  [pedir, desandar, situacao, brasil, so, ir, di...  "
      ]
     },
     "execution_count": 27,
     "metadata": {},
     "output_type": "execute_result"
    }
   ],
   "source": [
    "# Group top 5 sentences under each topic\n",
    "sent_topics_sorteddf_mallet = pd.DataFrame()\n",
    "\n",
    "sent_topics_outdf_grpd = df_topic_sents_keywords.groupby('Principal_Topico')\n",
    "\n",
    "for i, grp in sent_topics_outdf_grpd:\n",
    "    sent_topics_sorteddf_mallet = pd.concat([sent_topics_sorteddf_mallet, \n",
    "                                             grp.sort_values(['Perc_Contributicao'], ascending=[0]).head(1)], \n",
    "                                            axis=0)\n",
    "\n",
    "# Reset Index    \n",
    "sent_topics_sorteddf_mallet.reset_index(drop=True, inplace=True)\n",
    "\n",
    "# Format\n",
    "sent_topics_sorteddf_mallet.columns = ['Topico', \"Topico_Perc_Contrib\", \"Palavras_Chave\", \"Tweet\"]\n",
    "\n",
    "# Show\n",
    "sent_topics_sorteddf_mallet"
   ]
  },
  {
   "cell_type": "code",
   "execution_count": 28,
   "metadata": {},
   "outputs": [
    {
     "data": {
      "text/html": [
       "<div>\n",
       "<style scoped>\n",
       "    .dataframe tbody tr th:only-of-type {\n",
       "        vertical-align: middle;\n",
       "    }\n",
       "\n",
       "    .dataframe tbody tr th {\n",
       "        vertical-align: top;\n",
       "    }\n",
       "\n",
       "    .dataframe thead th {\n",
       "        text-align: right;\n",
       "    }\n",
       "</style>\n",
       "<table border=\"1\" class=\"dataframe\">\n",
       "  <thead>\n",
       "    <tr style=\"text-align: right;\">\n",
       "      <th></th>\n",
       "      <th>Principal_Topico</th>\n",
       "      <th>Palavras_Chave</th>\n",
       "      <th>Qtd_Tweets</th>\n",
       "      <th>Perc_Tweets</th>\n",
       "    </tr>\n",
       "  </thead>\n",
       "  <tbody>\n",
       "    <tr>\n",
       "      <th>0.0</th>\n",
       "      <td>6.0</td>\n",
       "      <td>presidente, bolsonaro, povo, governo, brasil, ...</td>\n",
       "      <td>18777.0</td>\n",
       "      <td>0.1095</td>\n",
       "    </tr>\n",
       "    <tr>\n",
       "      <th>1.0</th>\n",
       "      <td>4.0</td>\n",
       "      <td>cabelo, acabar, quando, fim, pandemia, agora, ...</td>\n",
       "      <td>16853.0</td>\n",
       "      <td>0.0983</td>\n",
       "    </tr>\n",
       "    <tr>\n",
       "      <th>2.0</th>\n",
       "      <td>5.0</td>\n",
       "      <td>corona, virus, gente, mundo, dps, pegar, acaba...</td>\n",
       "      <td>17525.0</td>\n",
       "      <td>0.1022</td>\n",
       "    </tr>\n",
       "    <tr>\n",
       "      <th>3.0</th>\n",
       "      <td>6.0</td>\n",
       "      <td>presidente, bolsonaro, povo, governo, brasil, ...</td>\n",
       "      <td>14235.0</td>\n",
       "      <td>0.0830</td>\n",
       "    </tr>\n",
       "    <tr>\n",
       "      <th>4.0</th>\n",
       "      <td>5.0</td>\n",
       "      <td>corona, virus, gente, mundo, dps, pegar, acaba...</td>\n",
       "      <td>14738.0</td>\n",
       "      <td>0.0859</td>\n",
       "    </tr>\n",
       "    <tr>\n",
       "      <th>...</th>\n",
       "      <td>...</td>\n",
       "      <td>...</td>\n",
       "      <td>...</td>\n",
       "      <td>...</td>\n",
       "    </tr>\n",
       "    <tr>\n",
       "      <th>171521.0</th>\n",
       "      <td>8.0</td>\n",
       "      <td>depois, pos, passar, logo, oq, video, corona, ...</td>\n",
       "      <td>NaN</td>\n",
       "      <td>NaN</td>\n",
       "    </tr>\n",
       "    <tr>\n",
       "      <th>171522.0</th>\n",
       "      <td>0.0</td>\n",
       "      <td>corona, bolsonaro, coisa, virus, tanto, deus, ...</td>\n",
       "      <td>NaN</td>\n",
       "      <td>NaN</td>\n",
       "    </tr>\n",
       "    <tr>\n",
       "      <th>171523.0</th>\n",
       "      <td>6.0</td>\n",
       "      <td>presidente, bolsonaro, povo, governo, brasil, ...</td>\n",
       "      <td>NaN</td>\n",
       "      <td>NaN</td>\n",
       "    </tr>\n",
       "    <tr>\n",
       "      <th>171524.0</th>\n",
       "      <td>6.0</td>\n",
       "      <td>presidente, bolsonaro, povo, governo, brasil, ...</td>\n",
       "      <td>NaN</td>\n",
       "      <td>NaN</td>\n",
       "    </tr>\n",
       "    <tr>\n",
       "      <th>171525.0</th>\n",
       "      <td>2.0</td>\n",
       "      <td>presidente, bolsonaro, bom, ainda, brasil, ass...</td>\n",
       "      <td>NaN</td>\n",
       "      <td>NaN</td>\n",
       "    </tr>\n",
       "  </tbody>\n",
       "</table>\n",
       "<p>171526 rows × 4 columns</p>\n",
       "</div>"
      ],
      "text/plain": [
       "          Principal_Topico                                     Palavras_Chave  \\\n",
       "0.0                    6.0  presidente, bolsonaro, povo, governo, brasil, ...   \n",
       "1.0                    4.0  cabelo, acabar, quando, fim, pandemia, agora, ...   \n",
       "2.0                    5.0  corona, virus, gente, mundo, dps, pegar, acaba...   \n",
       "3.0                    6.0  presidente, bolsonaro, povo, governo, brasil, ...   \n",
       "4.0                    5.0  corona, virus, gente, mundo, dps, pegar, acaba...   \n",
       "...                    ...                                                ...   \n",
       "171521.0               8.0  depois, pos, passar, logo, oq, video, corona, ...   \n",
       "171522.0               0.0  corona, bolsonaro, coisa, virus, tanto, deus, ...   \n",
       "171523.0               6.0  presidente, bolsonaro, povo, governo, brasil, ...   \n",
       "171524.0               6.0  presidente, bolsonaro, povo, governo, brasil, ...   \n",
       "171525.0               2.0  presidente, bolsonaro, bom, ainda, brasil, ass...   \n",
       "\n",
       "          Qtd_Tweets  Perc_Tweets  \n",
       "0.0          18777.0       0.1095  \n",
       "1.0          16853.0       0.0983  \n",
       "2.0          17525.0       0.1022  \n",
       "3.0          14235.0       0.0830  \n",
       "4.0          14738.0       0.0859  \n",
       "...              ...          ...  \n",
       "171521.0         NaN          NaN  \n",
       "171522.0         NaN          NaN  \n",
       "171523.0         NaN          NaN  \n",
       "171524.0         NaN          NaN  \n",
       "171525.0         NaN          NaN  \n",
       "\n",
       "[171526 rows x 4 columns]"
      ]
     },
     "execution_count": 28,
     "metadata": {},
     "output_type": "execute_result"
    }
   ],
   "source": [
    "# Numero de tweets por topico\n",
    "\n",
    "topic_counts = df_topic_sents_keywords['Principal_Topico'].value_counts()\n",
    "\n",
    "# Porcentagem de tweets por tópico\n",
    "topic_contribution = round(topic_counts/topic_counts.sum(), 4)\n",
    "\n",
    "# Número do tópico e suas palavras chave\n",
    "topic_num_keywords = df_topic_sents_keywords[['Principal_Topico', 'Palavras_Chave']]\n",
    "\n",
    "# Concatena as colunas\n",
    "df_dominant_topics = pd.concat([topic_num_keywords, topic_counts, topic_contribution], axis=1)\n",
    "\n",
    "# Renomeia as colunas\n",
    "df_dominant_topics.columns = ['Principal_Topico', 'Palavras_Chave', 'Qtd_Tweets', 'Perc_Tweets']\n",
    "\n",
    "# Mostra o DataFrame\n",
    "df_dominant_topics"
   ]
  },
  {
   "cell_type": "code",
   "execution_count": 29,
   "metadata": {},
   "outputs": [
    {
     "data": {
      "image/png": "[encoded data removed]",
      "text/plain": [
       "<Figure size 720x720 with 4 Axes>"
      ]
     },
     "metadata": {
      "needs_background": "light"
     },
     "output_type": "display_data"
    }
   ],
   "source": [
    "# Cria wordclouds\n",
    "\n",
    "cols = [color for name, color in mcolors.XKCD_COLORS.items()]\n",
    "\n",
    "cloud = WordCloud(stopwords=stop_words,\n",
    "                  background_color='white',\n",
    "                  width=2500,\n",
    "                  height=1800,\n",
    "                  max_words=10,\n",
    "                  colormap='tab10',\n",
    "                  color_func=lambda *args, **kwargs: cols[i],\n",
    "                  prefer_horizontal=1.0)\n",
    "\n",
    "topics = lda_model.show_topics(formatted=False)\n",
    "\n",
    "fig, axes = plt.subplots(2, 2, figsize=(10,10), sharex=True, sharey=True)\n",
    "\n",
    "for i, ax in enumerate(axes.flatten()):\n",
    "    fig.add_subplot(ax)\n",
    "    topic_words = dict(topics[i][1])\n",
    "    cloud.generate_from_frequencies(topic_words, max_font_size=300)\n",
    "    plt.gca().imshow(cloud)\n",
    "    plt.gca().set_title('Topic ' + str(i), fontdict=dict(size=16))\n",
    "    plt.gca().axis('off')\n",
    "\n",
    "\n",
    "plt.subplots_adjust(wspace=0, hspace=0)\n",
    "plt.axis('off')\n",
    "plt.margins(x=0, y=0)\n",
    "plt.tight_layout()\n",
    "plt.show()"
   ]
  },
  {
   "cell_type": "code",
   "execution_count": null,
   "metadata": {},
   "outputs": [],
   "source": []
  }
 ],
 "metadata": {
  "kernelspec": {
   "display_name": "Python 3",
   "language": "python",
   "name": "python3"
  },
  "language_info": {
   "codemirror_mode": {
    "name": "ipython",
    "version": 3
   },
   "file_extension": ".py",
   "mimetype": "text/x-python",
   "name": "python",
   "nbconvert_exporter": "python",
   "pygments_lexer": "ipython3",
   "version": "3.7.6"
  }
 },
 "nbformat": 4,
 "nbformat_minor": 1
}
